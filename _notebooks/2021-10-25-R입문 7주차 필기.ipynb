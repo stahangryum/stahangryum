{
 "cells": [
  {
   "cell_type": "code",
   "execution_count": 4,
   "id": "476686f5-b12f-4993-96a1-eed22810c871",
   "metadata": {},
   "outputs": [],
   "source": [
    "#hide\n",
    "options(jupyter.plot_scale = 3)\n",
    "options(jupyter.display_mimetypes = c(\"text/html\"))\n",
    "options(jupyter.rich_display=FALSE)\n",
    "options(repr.plot.width=6, repr.plot.height=6, repr.plot.res=300)\n",
    "options(max.print=1000)"
   ]
  },
  {
   "cell_type": "markdown",
   "id": "19ca46ba-f5d1-4f8f-8820-45e66bd5f4f9",
   "metadata": {},
   "source": [
    "# \"R : matrix\"\n",
    "> \"전북대학교 R입문 7주차 필기\"\n",
    "\n",
    "- toc: true\n",
    "- branch: master\n",
    "- badges: true\n",
    "- comments: true\n",
    "- author: Kim Jeewoo\n",
    "- categories: [Introduction to R]\n",
    "- image: images/number_card.PNG"
   ]
  },
  {
   "cell_type": "markdown",
   "id": "cabf25e4-ef34-4f98-b850-b264bdebc067",
   "metadata": {},
   "source": [
    "# 매트릭스를 선언하는 방법"
   ]
  },
  {
   "cell_type": "markdown",
   "id": "316c9e00-9c2b-47bc-9ccc-fc4eb52dd0d3",
   "metadata": {},
   "source": [
    "## 방법1 : row-vector -> bind"
   ]
  },
  {
   "cell_type": "code",
   "execution_count": 6,
   "id": "2ec254c8-4e72-4001-906d-679cffea3298",
   "metadata": {},
   "outputs": [
    {
     "data": {
      "text/plain": [
       "     [,1] [,2] [,3] [,4]\n",
       "[1,] 1    2    3    4   \n",
       "[2,] 2    3    4    5   "
      ]
     },
     "metadata": {},
     "output_type": "display_data"
    }
   ],
   "source": [
    "rbind(c(1,2,3,4),c(2,3,4,5))"
   ]
  },
  {
   "cell_type": "markdown",
   "id": "5bf5f973-1961-48c1-892a-80b23d4424f8",
   "metadata": {},
   "source": [
    "## 방법2 : column-vector -> bind"
   ]
  },
  {
   "cell_type": "code",
   "execution_count": 7,
   "id": "e7b89540-7125-46cf-bd95-9e1cc9e6fdfb",
   "metadata": {},
   "outputs": [
    {
     "data": {
      "text/plain": [
       "     [,1] [,2]\n",
       "[1,] 1    2   \n",
       "[2,] 2    3   \n",
       "[3,] 3    4   \n",
       "[4,] 4    5   "
      ]
     },
     "metadata": {},
     "output_type": "display_data"
    }
   ],
   "source": [
    "cbind(c(1,2,3,4),c(2,3,4,5))"
   ]
  },
  {
   "cell_type": "markdown",
   "id": "a7d659c5-3879-4969-bb16-132059ca05dc",
   "metadata": {},
   "source": [
    "# 매트릭스의 차원(dimension)"
   ]
  },
  {
   "cell_type": "code",
   "execution_count": 10,
   "id": "15c16c49-a5b7-4411-bdf7-76748f1c5291",
   "metadata": {},
   "outputs": [
    {
     "data": {
      "text/plain": [
       "[1] 2 4"
      ]
     },
     "metadata": {},
     "output_type": "display_data"
    }
   ],
   "source": [
    "A = rbind(c(1,2,3,4),c(2,3,4,5))\n",
    "dim(A)"
   ]
  },
  {
   "cell_type": "code",
   "execution_count": 16,
   "id": "34b5e482-5c25-4cbd-8642-58a1161b5ed0",
   "metadata": {},
   "outputs": [
    {
     "data": {
      "text/plain": [
       "[1] 4 2"
      ]
     },
     "metadata": {},
     "output_type": "display_data"
    }
   ],
   "source": [
    "B = cbind(c(1,2,3,4),c(2,3,4,5))\n",
    "dim(B)"
   ]
  },
  {
   "cell_type": "markdown",
   "id": "5b18bfbd-0305-46a2-95e8-572369be926a",
   "metadata": {},
   "source": [
    "- 차원을 바꿀 수도 있다."
   ]
  },
  {
   "cell_type": "code",
   "execution_count": 12,
   "id": "097a9ea1-f4bd-4adf-b429-9c9b889eb47c",
   "metadata": {},
   "outputs": [
    {
     "data": {
      "text/plain": [
       "     [,1] [,2]\n",
       "[1,] 1    2   \n",
       "[2,] 2    3   \n",
       "[3,] 3    4   \n",
       "[4,] 4    5   "
      ]
     },
     "metadata": {},
     "output_type": "display_data"
    }
   ],
   "source": [
    "B"
   ]
  },
  {
   "cell_type": "code",
   "execution_count": 14,
   "id": "c3e282e7-1dd1-46ec-83d7-0107d1b94500",
   "metadata": {},
   "outputs": [],
   "source": [
    "dim(B) = c(2,4)"
   ]
  },
  {
   "cell_type": "code",
   "execution_count": 15,
   "id": "2f2333ae-9c44-4906-b746-668856fbd26c",
   "metadata": {},
   "outputs": [
    {
     "data": {
      "text/plain": [
       "     [,1] [,2] [,3] [,4]\n",
       "[1,] 1    3    2    4   \n",
       "[2,] 2    4    3    5   "
      ]
     },
     "metadata": {},
     "output_type": "display_data"
    }
   ],
   "source": [
    "B"
   ]
  },
  {
   "cell_type": "markdown",
   "id": "3648b098-0b0d-4b8a-bd6f-5a34e1d2c1f3",
   "metadata": {},
   "source": [
    "# 매트릭스의 원소를 뽑는 방법"
   ]
  },
  {
   "cell_type": "code",
   "execution_count": 19,
   "id": "8e36ae93-4575-43f1-9db0-4a89a4d8e535",
   "metadata": {},
   "outputs": [
    {
     "data": {
      "text/plain": [
       "     [,1] [,2] [,3] [,4]\n",
       "[1,] 1     2    3    4  \n",
       "[2,] 5     6    7    8  \n",
       "[3,] 9    10   11   12  "
      ]
     },
     "metadata": {},
     "output_type": "display_data"
    }
   ],
   "source": [
    "A = rbind(c(1,2,3,4),c(5,6,7,8),c(9,10,11,12))\n",
    "A"
   ]
  },
  {
   "cell_type": "code",
   "execution_count": 28,
   "id": "5f3865a1-4448-4e91-ad22-184cf5a03838",
   "metadata": {},
   "outputs": [
    {
     "data": {
      "text/plain": [
       "[1] 1 2 3 4"
      ]
     },
     "metadata": {},
     "output_type": "display_data"
    }
   ],
   "source": [
    "A[1,] # 1행을 뽑고싶다."
   ]
  },
  {
   "cell_type": "code",
   "execution_count": 29,
   "id": "b0bf73dd-305e-4b60-a33c-24209ba4748a",
   "metadata": {},
   "outputs": [
    {
     "data": {
      "text/plain": [
       "[1] 1 5 9"
      ]
     },
     "metadata": {},
     "output_type": "display_data"
    }
   ],
   "source": [
    "A[,1] # 1열을 뽑고싶다."
   ]
  },
  {
   "cell_type": "code",
   "execution_count": 25,
   "id": "9a25ed2d-089c-4a14-863f-5aadca22f948",
   "metadata": {},
   "outputs": [
    {
     "data": {
      "text/plain": [
       "     [,1] [,2]\n",
       "[1,] 1     4  \n",
       "[2,] 5     8  \n",
       "[3,] 9    12  "
      ]
     },
     "metadata": {},
     "output_type": "display_data"
    }
   ],
   "source": [
    "A[, c(1,4)] # 1열, 4열을 뽑고싶다."
   ]
  },
  {
   "cell_type": "code",
   "execution_count": 26,
   "id": "199cd98e-c213-4f2f-99fe-62a366c1349d",
   "metadata": {},
   "outputs": [
    {
     "data": {
      "text/plain": [
       "     [,1] [,2] [,3] [,4]\n",
       "[1,] 1    2    3    4   \n",
       "[2,] 5    6    7    8   "
      ]
     },
     "metadata": {},
     "output_type": "display_data"
    }
   ],
   "source": [
    "A[c(1,2),] # 1행, 2행을 뽑고싶다."
   ]
  },
  {
   "cell_type": "code",
   "execution_count": 27,
   "id": "1b52152c-1668-44b7-8c30-bc2fcc5a269b",
   "metadata": {},
   "outputs": [
    {
     "data": {
      "text/plain": [
       "[1] 7"
      ]
     },
     "metadata": {},
     "output_type": "display_data"
    }
   ],
   "source": [
    "A[2,3]  # 2행3열의 원소를 뽑고싶다."
   ]
  },
  {
   "cell_type": "markdown",
   "id": "7cfb0548-2562-4a4b-b48b-c9ba10c831d4",
   "metadata": {},
   "source": [
    "# apply 함수"
   ]
  },
  {
   "cell_type": "markdown",
   "id": "073b0d9f-6dbd-4f5f-8539-f313894c477d",
   "metadata": {},
   "source": [
    "```r\n",
    "aplly(matrix, 1, 특정함수)\n",
    "```"
   ]
  },
  {
   "cell_type": "markdown",
   "id": "2bbf3c23-66b7-4344-8f80-00087ba9893f",
   "metadata": {},
   "source": [
    "를 쓰면 어떠한 특정한수가 각각의 row에 적용되어서 결과가 array로 저장된다."
   ]
  },
  {
   "cell_type": "markdown",
   "id": "797f06b7-a74f-4fcb-ad2b-00c86c281629",
   "metadata": {},
   "source": [
    "여기에서 특정함수는 \"벡터입력-스칼라출력\"이라고 생각하자, 즉 벡터입력-스칼라입력인 함수를 적용할 수 있다."
   ]
  },
  {
   "cell_type": "code",
   "execution_count": 37,
   "id": "6fee7fbf-1d39-4876-8926-f3e204cc3479",
   "metadata": {},
   "outputs": [
    {
     "data": {
      "text/plain": [
       "[1] 10"
      ]
     },
     "metadata": {},
     "output_type": "display_data"
    }
   ],
   "source": [
    "sum(c(1,2,3,4)) # 벡터입력 -> 스칼라출력"
   ]
  },
  {
   "cell_type": "code",
   "execution_count": 40,
   "id": "93f3405b-d748-4d1f-826d-c5f45fdf1a68",
   "metadata": {},
   "outputs": [
    {
     "data": {
      "text/plain": [
       "[1] 2.5"
      ]
     },
     "metadata": {},
     "output_type": "display_data"
    }
   ],
   "source": [
    "mean(c(1,2,3,4)) # 벡터입력 -> 스칼라출력"
   ]
  },
  {
   "cell_type": "markdown",
   "id": "b91f49a0-1821-4bde-9dac-0c2acf0b1853",
   "metadata": {},
   "source": [
    "- 아래 함수는 벡터입력-벡터출력 이므로 해당되지 않는다."
   ]
  },
  {
   "cell_type": "code",
   "execution_count": 39,
   "id": "2bacb5d8-4e3e-4443-9999-c041a56e1aef",
   "metadata": {},
   "outputs": [
    {
     "data": {
      "text/plain": [
       "[1] 1.000000 1.414214 1.732051 2.000000"
      ]
     },
     "metadata": {},
     "output_type": "display_data"
    }
   ],
   "source": [
    "sqrt(c(1,2,3,4)) # 벡터입력 -> 벡터출력"
   ]
  },
  {
   "cell_type": "markdown",
   "id": "1ee61f2a-c722-45a0-b8a0-7609ddbf9bc5",
   "metadata": {},
   "source": [
    "## 적용"
   ]
  },
  {
   "cell_type": "code",
   "execution_count": 41,
   "id": "3e90920c-c84b-4335-8b84-7c7f9ff2a279",
   "metadata": {},
   "outputs": [
    {
     "data": {
      "text/plain": [
       "     [,1] [,2] [,3] [,4]\n",
       "[1,] 1     2    3    4  \n",
       "[2,] 5     6    7    8  \n",
       "[3,] 9    10   11   12  "
      ]
     },
     "metadata": {},
     "output_type": "display_data"
    }
   ],
   "source": [
    "A"
   ]
  },
  {
   "cell_type": "code",
   "execution_count": 42,
   "id": "ead05fbf-3871-4a32-98e5-96a8ae870f61",
   "metadata": {},
   "outputs": [
    {
     "data": {
      "text/plain": [
       "[1] 10 26 42"
      ]
     },
     "metadata": {},
     "output_type": "display_data"
    }
   ],
   "source": [
    "apply(A, 1, sum)"
   ]
  },
  {
   "cell_type": "code",
   "execution_count": 43,
   "id": "2b6a0a86-0fd8-4fef-a382-fde1529e6726",
   "metadata": {},
   "outputs": [
    {
     "data": {
      "text/plain": [
       "[1]  2.5  6.5 10.5"
      ]
     },
     "metadata": {},
     "output_type": "display_data"
    }
   ],
   "source": [
    "apply(A, 1, mean)"
   ]
  },
  {
   "cell_type": "code",
   "execution_count": 44,
   "id": "6a340261-da44-4cbc-9a98-ba2e6fa98026",
   "metadata": {},
   "outputs": [
    {
     "data": {
      "text/plain": [
       "[1] 1 5 9"
      ]
     },
     "metadata": {},
     "output_type": "display_data"
    }
   ],
   "source": [
    "apply(A, 1, min)"
   ]
  },
  {
   "cell_type": "code",
   "execution_count": 45,
   "id": "61a0a2c0-6f71-44fb-aad4-4e7009080197",
   "metadata": {},
   "outputs": [
    {
     "data": {
      "text/plain": [
       "[1]  4  8 12"
      ]
     },
     "metadata": {},
     "output_type": "display_data"
    }
   ],
   "source": [
    "apply(A, 1, max)"
   ]
  },
  {
   "cell_type": "markdown",
   "id": "8fcbc4c2-8bf5-4db6-8305-2e3dd226555d",
   "metadata": {},
   "source": [
    "- 사용자가 임의로 정의한 함수도 가능하다."
   ]
  },
  {
   "cell_type": "code",
   "execution_count": 46,
   "id": "2ccc6e8d-86db-42ce-9ada-77a2c99065c9",
   "metadata": {},
   "outputs": [],
   "source": [
    "f = function(a) (min(a)+1)**2 -3"
   ]
  },
  {
   "cell_type": "code",
   "execution_count": 50,
   "id": "dc9c42db-836c-4819-ba31-2de8b9022d3a",
   "metadata": {},
   "outputs": [
    {
     "data": {
      "text/plain": [
       "[1]  1 33 97"
      ]
     },
     "metadata": {},
     "output_type": "display_data"
    }
   ],
   "source": [
    "apply(A, 1, f)"
   ]
  },
  {
   "cell_type": "markdown",
   "id": "f4a8999b-0f74-49db-aea3-ad24c320bda6",
   "metadata": {},
   "source": [
    "- 숫자 1을 2로 변경하면 특정함수가 각각의 column에 적용된다."
   ]
  },
  {
   "cell_type": "code",
   "execution_count": 49,
   "id": "d2a1ab8f-f088-4d19-bb31-f6ec345b6dcf",
   "metadata": {},
   "outputs": [
    {
     "data": {
      "text/plain": [
       "[1]  1  6 13 22"
      ]
     },
     "metadata": {},
     "output_type": "display_data"
    }
   ],
   "source": [
    "apply(A, 2, f)"
   ]
  },
  {
   "cell_type": "code",
   "execution_count": 51,
   "id": "b1fc1a69-9013-4eff-a68b-373a9b42e125",
   "metadata": {},
   "outputs": [
    {
     "data": {
      "text/plain": [
       "[1] 15 18 21 24"
      ]
     },
     "metadata": {},
     "output_type": "display_data"
    }
   ],
   "source": [
    "apply(A, 2, sum)"
   ]
  },
  {
   "cell_type": "code",
   "execution_count": 53,
   "id": "0dff1ea2-ad77-4cdb-8bfa-f1cfda0c700b",
   "metadata": {},
   "outputs": [
    {
     "data": {
      "text/plain": [
       "[1] 1 2 3 4"
      ]
     },
     "metadata": {},
     "output_type": "display_data"
    }
   ],
   "source": [
    "apply(A, 2, min)"
   ]
  },
  {
   "cell_type": "code",
   "execution_count": 54,
   "id": "c143e6a0-ead3-445c-8ceb-b8c609a8e1b8",
   "metadata": {},
   "outputs": [
    {
     "data": {
      "text/plain": [
       "[1]  9 10 11 12"
      ]
     },
     "metadata": {},
     "output_type": "display_data"
    }
   ],
   "source": [
    "apply(A, 2, max)"
   ]
  },
  {
   "cell_type": "markdown",
   "id": "53588a59-28dc-492f-be84-38414af6ddb0",
   "metadata": {},
   "source": [
    "# %>% 연산자($\\star\\star\\star$)\n",
    "> 아주 중요한 문법이다."
   ]
  },
  {
   "cell_type": "markdown",
   "id": "c82c767c-b92a-41d7-a76d-462d7fadd716",
   "metadata": {},
   "source": [
    "- 아래는 같은 코드이다."
   ]
  },
  {
   "cell_type": "code",
   "execution_count": 56,
   "id": "65f7d359-66bd-4824-9ba0-cad980a97d41",
   "metadata": {},
   "outputs": [
    {
     "data": {
      "text/plain": [
       "[1] 55"
      ]
     },
     "metadata": {},
     "output_type": "display_data"
    }
   ],
   "source": [
    "sum(1:10)"
   ]
  },
  {
   "cell_type": "code",
   "execution_count": 57,
   "id": "9cd8274b-ea1e-4c31-9fbe-a57343d9ddff",
   "metadata": {},
   "outputs": [
    {
     "data": {
      "text/plain": [
       "[1] 55"
      ]
     },
     "metadata": {},
     "output_type": "display_data"
    }
   ],
   "source": [
    "1:10 %>% sum()"
   ]
  },
  {
   "cell_type": "code",
   "execution_count": 58,
   "id": "9a447ace-574b-4fdf-bdb4-8aabbce10c87",
   "metadata": {},
   "outputs": [
    {
     "data": {
      "text/plain": [
       "[1] 55"
      ]
     },
     "metadata": {},
     "output_type": "display_data"
    }
   ],
   "source": [
    "1:10 %>% sum"
   ]
  },
  {
   "cell_type": "markdown",
   "id": "a45a1b9d-4f83-4605-be90-edbf562d45c1",
   "metadata": {},
   "source": [
    "- 아래는 같은 코드이다."
   ]
  },
  {
   "cell_type": "code",
   "execution_count": 67,
   "id": "e87a31ae-76fa-4b9d-9d91-76154590754b",
   "metadata": {},
   "outputs": [
    {
     "data": {
      "text/plain": [
       "[1] 7"
      ]
     },
     "metadata": {},
     "output_type": "display_data"
    }
   ],
   "source": [
    "myfun = function(x,y) x**2 +y\n",
    "myfun(2,3)"
   ]
  },
  {
   "cell_type": "code",
   "execution_count": 68,
   "id": "c6ad6009-3fb4-410d-b4b3-0ca9fd096e8a",
   "metadata": {},
   "outputs": [
    {
     "data": {
      "text/plain": [
       "[1] 7"
      ]
     },
     "metadata": {},
     "output_type": "display_data"
    }
   ],
   "source": [
    "myfun = function(x,y) x**2 +y\n",
    "2 %>% myfun(3)"
   ]
  },
  {
   "cell_type": "markdown",
   "id": "2e14e5ce-7e98-4388-8503-5b98678aa68b",
   "metadata": {},
   "source": [
    "- 아래는 같은 코드이다."
   ]
  },
  {
   "cell_type": "code",
   "execution_count": 73,
   "id": "0929cc9a-010c-437c-9168-0380b213f5d0",
   "metadata": {},
   "outputs": [
    {
     "data": {
      "text/plain": [
       "[1] 5"
      ]
     },
     "metadata": {},
     "output_type": "display_data"
    }
   ],
   "source": [
    "myfun2 = function(x,y,z) x**2 +y*z\n",
    "myfun2(2,1,1)"
   ]
  },
  {
   "cell_type": "code",
   "execution_count": 74,
   "id": "c6ad9d69-e6a4-4eb0-a5cf-f7e49a120923",
   "metadata": {},
   "outputs": [
    {
     "data": {
      "text/plain": [
       "[1] 5"
      ]
     },
     "metadata": {},
     "output_type": "display_data"
    }
   ],
   "source": [
    "myfun2 = function(x,y,z) x**2 +y*z\n",
    "2 %>% myfun2(1,1)"
   ]
  },
  {
   "cell_type": "markdown",
   "id": "c200cd8b-f3b9-498e-9982-3f186cb54835",
   "metadata": {},
   "source": [
    "## 사용하는 이유"
   ]
  },
  {
   "cell_type": "markdown",
   "id": "17af950d-bf01-45cc-a026-bada8d0c14b6",
   "metadata": {},
   "source": [
    "- 합성함수 처리가 쉽다.\n",
    "\n",
    "- 아래는 같은 코드이다."
   ]
  },
  {
   "cell_type": "code",
   "execution_count": 79,
   "id": "8a83013d-b197-4761-8c9a-ae6f99d42c80",
   "metadata": {},
   "outputs": [
    {
     "data": {
      "text/plain": [
       "[1] 4.440805"
      ]
     },
     "metadata": {},
     "output_type": "display_data"
    }
   ],
   "source": [
    "2:5 %>% log %>% sqrt %>% sum %>% myfun2(1,1) %>% sqrt"
   ]
  },
  {
   "cell_type": "code",
   "execution_count": 81,
   "id": "435e915a-42c1-4d15-9c68-5899b5260ded",
   "metadata": {},
   "outputs": [
    {
     "data": {
      "text/plain": [
       "[1] 4.440805"
      ]
     },
     "metadata": {},
     "output_type": "display_data"
    }
   ],
   "source": [
    "sqrt(myfun2(sum(sqrt(log(2:5))), 1, 1))"
   ]
  },
  {
   "cell_type": "code",
   "execution_count": null,
   "id": "d30a05ba-3ee3-46b6-8e64-68faf285f90f",
   "metadata": {},
   "outputs": [],
   "source": []
  }
 ],
 "metadata": {
  "kernelspec": {
   "display_name": "R",
   "language": "R",
   "name": "ir"
  },
  "language_info": {
   "codemirror_mode": "r",
   "file_extension": ".r",
   "mimetype": "text/x-r-source",
   "name": "R",
   "pygments_lexer": "r",
   "version": "4.0.5"
  }
 },
 "nbformat": 4,
 "nbformat_minor": 5
}
