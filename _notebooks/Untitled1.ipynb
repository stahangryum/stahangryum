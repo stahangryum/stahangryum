{
 "cells": [
  {
   "cell_type": "code",
   "execution_count": 1,
   "id": "4222bad6-efaa-4a70-8ae2-3cb61e2abc15",
   "metadata": {},
   "outputs": [],
   "source": [
    "def solution(new_id):\n",
    "    \n",
    "    # 1단계 new_id의 모든 대문자를 대응되는 소문자로 치환합니다.\n",
    "    new_id = new_id.lower()\n",
    "    \n",
    "    # 2단계 new_id에서 알파벳 소문자, 숫자, 빼기(-), 밑줄(_), 마침표(.)를 제외한 모든 문자를 제거합니다.\n",
    "    able_list = ['a', 'b', 'c', 'd', 'e', 'f', 'g', 'h', 'i', 'j', 'k', 'l', 'm', 'n', 'o', 'p', 'q', 'r', 's', 't', 'u', 'v', 'w', 'x', 'y', 'z', '1', '2', '3', '4', '5', '6', '7', '8', '9', '0', '-', '_', '.']\n",
    "    new_id = list(new_id)\n",
    "    temp_ = []\n",
    "    for i in new_id:\n",
    "        if i in able_list: temp_.append(i)\n",
    "    new_id = temp_\n",
    "    \n",
    "    # 3단계 new_id에서 마침표(.)가 2번 이상 연속된 부분을 하나의 마침표(.)로 치환합니다.\n",
    "    temp_ = []\n",
    "    dot_conti = False\n",
    "    for i in range(len(new_id)):\n",
    "        if (new_id[i] == '.') and (new_id[i] == new_id[i-1]):\n",
    "            continue\n",
    "        else: temp_.append(new_id[i])       \n",
    "    new_id = temp_\n",
    "    \n",
    "    # 4단계 new_id에서 마침표(.)가 처음이나 끝에 위치한다면 제거합니다.\n",
    "    \n",
    "    if len(new_id) == 0:\n",
    "        pass    \n",
    "    elif len(new_id) == 1:\n",
    "        if new_id[0] == '.': del new_id[0]\n",
    "    elif len(new_id) >= 2:\n",
    "        if (new_id[-1] == \".\"): del new_id[-1]\n",
    "        if new_id[0] == '.': del new_id[0]\n",
    "            \n",
    "    # 5단계 new_id가 빈 문자열이라면, new_id에 \"a\"를 대입합니다.\n",
    "    if len(new_id) == 0:\n",
    "        new_id.append('a')\n",
    "        \n",
    "    # 6단계 new_id의 길이가 16자 이상이면, new_id의 첫 15개의 문자를 제외한 나머지 문자들을 모두 제거합니다.\n",
    "    # 만약 제거 후 마침표(.)가 new_id의 끝에 위치한다면 끝에 위치한 마침표(.) 문자를 제거합니다.\n",
    "    if len(new_id) >= 16:\n",
    "        del new_id[15:]\n",
    "        if new_id[-1] == '.': del new_id[-1]\n",
    "            \n",
    "    \n",
    "    \n",
    "    # 7단계 new_id의 길이가 2자 이하라면, new_id의 마지막 문자를 new_id의 길이가 3이 될 때까지 반복해서 끝에 붙입니다.\n",
    "    while len(new_id) <= 2:\n",
    "        new_id.append(new_id[-1])\n",
    "\n",
    "    answer = \"\".join(new_id)\n",
    "    return answer"
   ]
  },
  {
   "cell_type": "code",
   "execution_count": null,
   "id": "64617b2f-248c-4b87-9020-c706732b01b2",
   "metadata": {},
   "outputs": [],
   "source": []
  }
 ],
 "metadata": {
  "kernelspec": {
   "display_name": "Python 3 (ipykernel)",
   "language": "python",
   "name": "python3"
  },
  "language_info": {
   "codemirror_mode": {
    "name": "ipython",
    "version": 3
   },
   "file_extension": ".py",
   "mimetype": "text/x-python",
   "name": "python",
   "nbconvert_exporter": "python",
   "pygments_lexer": "ipython3",
   "version": "3.9.7"
  }
 },
 "nbformat": 4,
 "nbformat_minor": 5
}
