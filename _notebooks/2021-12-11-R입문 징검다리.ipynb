{
 "cells": [
  {
   "cell_type": "code",
   "execution_count": 1,
   "id": "a3640b9d-3273-416b-a12b-b5819dae1209",
   "metadata": {},
   "outputs": [],
   "source": [
    "#hide\n",
    "options(jupyter.plot_scale = 3)\n",
    "options(jupyter.display_mimetypes = c(\"text/html\"))\n",
    "# options(jupyter.rich_display=FALSE)\n",
    "options(repr.plot.width=6, repr.plot.height=6, repr.plot.res=300)\n",
    "options(max.print=1000)"
   ]
  },
  {
   "cell_type": "markdown",
   "id": "654c9f2a-3f6d-4ddc-8d99-eabb1bc69b56",
   "metadata": {},
   "source": [
    "# \"R : dataframe, tibble\"\n",
    "> \"전북대학교 R입문 12주차 필기\"\n",
    "\n",
    "- toc: true\n",
    "- branch: master\n",
    "- badges: true\n",
    "- comments: true\n",
    "- author: Kim Jeewoo\n",
    "- categories: [Introduction to R]\n",
    "- image: images/20211119work.jpg"
   ]
  },
  {
   "cell_type": "code",
   "execution_count": null,
   "id": "14ef25be-9422-4113-8134-722fdeb2ba89",
   "metadata": {},
   "outputs": [],
   "source": []
  }
 ],
 "metadata": {
  "kernelspec": {
   "display_name": "R",
   "language": "R",
   "name": "ir"
  },
  "language_info": {
   "codemirror_mode": "r",
   "file_extension": ".r",
   "mimetype": "text/x-r-source",
   "name": "R",
   "pygments_lexer": "r",
   "version": "4.0.5"
  }
 },
 "nbformat": 4,
 "nbformat_minor": 5
}
