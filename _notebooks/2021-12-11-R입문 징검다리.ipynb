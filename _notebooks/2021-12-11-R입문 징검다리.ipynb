{
 "cells": [
  {
   "cell_type": "code",
   "execution_count": 1,
   "id": "a3640b9d-3273-416b-a12b-b5819dae1209",
   "metadata": {},
   "outputs": [],
   "source": [
    "#hide\n",
    "options(jupyter.plot_scale = 3)\n",
    "options(jupyter.display_mimetypes = c(\"text/html\"))\n",
    "# options(jupyter.rich_display=FALSE)\n",
    "options(repr.plot.width=6, repr.plot.height=6, repr.plot.res=300)\n",
    "options(max.print=1000)"
   ]
  },
  {
   "cell_type": "markdown",
   "id": "654c9f2a-3f6d-4ddc-8d99-eabb1bc69b56",
   "metadata": {},
   "source": [
    "# \"R : 징검다리\"\n",
    "> \"전북대학교 R입문 12주차 필기\"\n",
    "\n",
    "- toc: true\n",
    "- branch: master\n",
    "- badges: true\n",
    "- comments: true\n",
    "- author: Kim Jeewoo\n",
    "- categories: [Introduction to R]\n",
    "- image: images/20211119work.jpg"
   ]
  },
  {
   "cell_type": "markdown",
   "id": "6caee1a3-8fae-4379-b053-96849fed0019",
   "metadata": {},
   "source": [
    "# Problem I"
   ]
  },
  {
   "cell_type": "markdown",
   "id": "fcfa1573-6ffe-42bc-baa3-c531cc8936e0",
   "metadata": {},
   "source": [
    "강화유리와 유리를 구분할 수 있는 유리 장인이 있다.\n",
    "\n",
    "이 유리장인은 80%의 확률로 강화유리를 고른다.\n",
    "\n",
    "총 10명의 참가자가 있고 이 참가자들은 유리와 강화유리의 조합으로 이루어진 징검다리를 5번 연속으로 건너야 한다.\n",
    "\n",
    "아래의 경우에 참가자들은 총 몇명이 살아남는가? 1000번의 시뮬레이션을 하여 추정하라."
   ]
  },
  {
   "cell_type": "markdown",
   "id": "99bd956f-a6a6-41e1-8eda-39c884abeaff",
   "metadata": {},
   "source": [
    "`-` 첫 번째 경우"
   ]
  },
  {
   "cell_type": "markdown",
   "id": "fe3c3550-03b6-47c5-b220-b67075755db7",
   "metadata": {},
   "source": [
    "일반인1 - 일반인2 - $\\dots$ - 일반인9 - 유리장인||(유리, 강화유리)"
   ]
  },
  {
   "cell_type": "markdown",
   "id": "7408b2fc-a0bd-4db1-94b1-065bad3bcb9a",
   "metadata": {},
   "source": [
    "`-` 두 번째 경우"
   ]
  },
  {
   "cell_type": "markdown",
   "id": "0614a2b6-c873-4fc8-8611-88bad01fd172",
   "metadata": {},
   "source": [
    "유리장인 - 일반인1 - 일반인2 - $\\dots$ - 일반인9||(유리, 강화유리)"
   ]
  },
  {
   "cell_type": "markdown",
   "id": "7f19b97e-dc74-409a-a019-152bc9dd11c6",
   "metadata": {},
   "source": [
    "## Solution I"
   ]
  },
  {
   "cell_type": "markdown",
   "id": "289ea121-626a-49d5-98e9-6e4cea1dad89",
   "metadata": {},
   "source": [
    "### 장인이 맨 앞에 있는 경우"
   ]
  },
  {
   "cell_type": "markdown",
   "id": "c306d4b3-274c-46ea-9917-8c3042d6cf33",
   "metadata": {},
   "source": [
    "`-` 10명이 생존할 확률 "
   ]
  },
  {
   "cell_type": "markdown",
   "id": "3acd55b7-e630-45ec-8edb-1c898237b939",
   "metadata": {},
   "source": [
    "- 장인이 모두 성공$0.8^5$"
   ]
  },
  {
   "cell_type": "markdown",
   "id": "ed2fc713-6f68-4235-9395-27fefe45ff60",
   "metadata": {},
   "source": [
    "`-` 9명이 생존할 확률"
   ]
  },
  {
   "cell_type": "markdown",
   "id": "e204bf87-b5d4-4d2c-8ec9-4dcb95724bec",
   "metadata": {},
   "source": [
    "- 장인이 1번째에서 탈락 $=0.8^0 \\times 0.2^1 \\times 0.5^4$\n",
    "\n",
    "- 장인이 2번째에서 탈락 $=0.8^1 \\times 0.2^1 \\times 0.5^3$\n",
    "\n",
    "- 장인이 3번째에서 탈락 $=0.8^2 \\times 0.2^1 \\times 0.5^2$\n",
    " \n",
    "- 장인이 4번째에서 탈락 $=0.8^3 \\times 0.2^1 \\times 0.5^1$\n",
    "\n",
    "- 장인이 5번째에서 탈락 $=0.8^4 \\times 0.2^1 \\times 0.5^0$"
   ]
  },
  {
   "cell_type": "markdown",
   "id": "8526debd-0168-4709-bcd7-8705ac0b67c7",
   "metadata": {},
   "source": [
    "`-` 8명이 생존할 확률"
   ]
  },
  {
   "cell_type": "markdown",
   "id": "fc1c8cfb-3834-4b9a-9cbf-d5dfde5e2dbf",
   "metadata": {},
   "source": [
    "- 장인이 1번째에서 탈락 $=4 \\times0.8^0 \\times 0.2^1 \\times 0.5^4$\n",
    "\n",
    "    - 일반인이 2번째에서 탈락 $=0.8^0 \\times 0.2^1 \\times 0.5^4$\n",
    "    \n",
    "    - 일반인이 3번째에서 탈락 $=0.8^0 \\times 0.2^1 \\times 0.5^4$\n",
    "    - 일반인이 4번째에서 탈락 $=0.8^0 \\times 0.2^1 \\times 0.5^4$\n",
    "    - 일반인이 5번째에서 탈락 $=0.8^0 \\times 0.2^1 \\times 0.5^4$"
   ]
  },
  {
   "cell_type": "markdown",
   "id": "09077f15-08ac-4aef-a66b-ef5d095aa0f2",
   "metadata": {},
   "source": [
    "- 장인이 2번째에서 탈락 $=3 \\times0.8^1 \\times 0.2^1 \\times 0.5^3$\n",
    "\n",
    "    - 일반인이 3번째에서 탈락 $=0.8^1 \\times 0.2^1 \\times 0.5^3$\n",
    "    - 일반인이 4번째에서 탈락 $=0.8^1 \\times 0.2^1 \\times 0.5^3$\n",
    "    - 일반인이 5번째에서 탈락 $=0.8^1 \\times 0.2^1 \\times 0.5^3$"
   ]
  },
  {
   "cell_type": "markdown",
   "id": "fa9e8a74-3288-41ff-bf05-7a898346a5a2",
   "metadata": {},
   "source": [
    "- 장인이 3번째에서 탈락 $=3\\times 0.8^2 \\times 0.2^1 \\times 0.5^2$ \n",
    "\n",
    "    - 일반인이 4번째에서 탈락 $=0.8^2 \\times 0.2^1 \\times 0.5^2$  \n",
    "    \n",
    "    - 일반인이 5번째에서 탈락 $=0.8^2 \\times 0.2^1 \\times 0.5^2$  "
   ]
  },
  {
   "cell_type": "markdown",
   "id": "87964794-1474-4711-b94b-181e5b0d7257",
   "metadata": {},
   "source": [
    "  \n",
    "- 장인이 4번째에서 탈락 $=1\\times0.8^2 \\times 0.2^1 \\times 0.5^1$\n",
    "\n",
    "    - 일반인이 5번째에서 탈락 $=0.8^2 \\times 0.2^1 \\times 0.5^1$"
   ]
  },
  {
   "cell_type": "markdown",
   "id": "4d556500-0163-4ca0-a937-e9931e49335d",
   "metadata": {},
   "source": [
    "`-` 7명이 생존할 확률"
   ]
  },
  {
   "cell_type": "markdown",
   "id": "1415d91a-b89f-4390-8dde-e0f5dee431a0",
   "metadata": {},
   "source": [
    "- 장인이 1번째에서 탈락 $= choose(4, 2) \\times0.8^0 \\times 0.2^1 \\times 0.5^4$\n",
    "\n",
    "    - 일반인이 2, 3번째에서 탈락 $=0.8^0 \\times 0.2^1 \\times 0.5^4$\n",
    "    - 일반인이 2, 4번째에서 탈락 $=0.8^0 \\times 0.2^1 \\times 0.5^4$\n",
    "    - 일반인이 2, 5번째에서 탈락 $=0.8^0 \\times 0.2^1 \\times 0.5^4$\n",
    "    - 일반인이 3, 4번째에서 탈락 $=0.8^0 \\times 0.2^1 \\times 0.5^4$\n",
    "    - 일반인이 3, 5번째에서 탈락 $=0.8^0 \\times 0.2^1 \\times 0.5^4$\n",
    "    - 일반인이 4, 5번째에서 탈락 $=0.8^0 \\times 0.2^1 \\times 0.5^4$"
   ]
  },
  {
   "cell_type": "markdown",
   "id": "965c525a-88e3-4892-9fbb-be816b678f5b",
   "metadata": {},
   "source": [
    "- 장인이 2번째에서 탈락 $= choose(3,2)\\times0.8^1 \\times 0.2^1 \\times 0.5^3$\n",
    "\n",
    "    - 일반인이 3, 4번째에서 탈락 $=0.8^1 \\times 0.2^1 \\times 0.5^3$\n",
    "    - 일반인이 3, 5번째에서 탈락 $=0.8^1 \\times 0.2^1 \\times 0.5^3$\n",
    "    - 일반인이 4, 5번째에서 탈락 $=0.8^1 \\times 0.2^1 \\times 0.5^3$"
   ]
  },
  {
   "cell_type": "markdown",
   "id": "9cfe8ede-9ea9-4e9e-92e1-5c8fbe85dc59",
   "metadata": {},
   "source": [
    "- 장인이 3번째에서 탈락 $=choose(2,2)\\times 0.8^2 \\times 0.2^1 \\times 0.5^2$ \n",
    "\n",
    "    - 일반인이 4, 5번째에서 탈락 $=0.8^2 \\times 0.2^1 \\times 0.5^2$ "
   ]
  },
  {
   "cell_type": "markdown",
   "id": "7461c70f-d08e-4948-9162-663f4ddb1bd7",
   "metadata": {},
   "source": [
    "`-` 6명이 생존할 확률 \n",
    "\n",
    "\n",
    "- 장인이 1번째에서 탈락 $= choose(4, 3) \\times0.8^0 \\times 0.2^1 \\times 0.5^4$\n",
    "\n",
    "- 장인이 2번째에서 탈락 $= choose(3,3)\\times0.8^1 \\times 0.2^1 \\times 0.5^3$"
   ]
  },
  {
   "cell_type": "markdown",
   "id": "3da58282-9ae1-4544-97f4-e6a622819d7e",
   "metadata": {},
   "source": [
    "`-` 5명이 생존할 확률 $=0.2\\times0.5^4$"
   ]
  },
  {
   "cell_type": "code",
   "execution_count": 9,
   "id": "324eacd4-2629-440c-8e41-482c281f1137",
   "metadata": {},
   "outputs": [
    {
     "data": {
      "text/html": [
       "0.32768"
      ],
      "text/plain": [
       "[1] 0.32768"
      ]
     },
     "metadata": {},
     "output_type": "display_data"
    }
   ],
   "source": [
    "# 10명\n",
    "0.8 ^ 5"
   ]
  },
  {
   "cell_type": "code",
   "execution_count": 10,
   "id": "737846aa-8606-4a1a-9f4d-4b10df2f22e3",
   "metadata": {},
   "outputs": [
    {
     "data": {
      "text/html": [
       "0.19762"
      ],
      "text/plain": [
       "[1] 0.19762"
      ]
     },
     "metadata": {},
     "output_type": "display_data"
    }
   ],
   "source": [
    "# 9명\n",
    "\n",
    "surv9_prob = c()\n",
    "for (i in 0:4) surv9_prob[i+1] = 0.8^i * 0.2 * 0.5^(4-i)\n",
    "sum(surv9_prob)"
   ]
  },
  {
   "cell_type": "code",
   "execution_count": 11,
   "id": "aa298bf7-37d4-4c17-8874-9f36a0008323",
   "metadata": {},
   "outputs": [
    {
     "data": {
      "text/html": [
       "0.2252"
      ],
      "text/plain": [
       "[1] 0.2252"
      ]
     },
     "metadata": {},
     "output_type": "display_data"
    }
   ],
   "source": [
    "# 8명\n",
    "surv8_prob = c()\n",
    "for(i in 0:3) surv8_prob[i+1] = choose(4-i, 1) * 0.8^i * 0.2 * 0.5^(4-i)\n",
    "sum(surv8_prob)"
   ]
  },
  {
   "cell_type": "code",
   "execution_count": 12,
   "id": "060f31e9-796c-44bc-ae99-3b1b3a020cff",
   "metadata": {},
   "outputs": [
    {
     "data": {
      "text/html": [
       "0.167"
      ],
      "text/plain": [
       "[1] 0.167"
      ]
     },
     "metadata": {},
     "output_type": "display_data"
    }
   ],
   "source": [
    "# 7명\n",
    "surv7_prob = c()\n",
    "for(i in 0:2) surv7_prob[i+1] = choose(4-i, 2) * 0.8^i * 0.2 * 0.5^(4-i)\n",
    "sum(surv7_prob)"
   ]
  },
  {
   "cell_type": "code",
   "execution_count": 13,
   "id": "a5dc8245-e9d3-4ca0-8d80-ed978d109c00",
   "metadata": {},
   "outputs": [
    {
     "data": {
      "text/html": [
       "0.07"
      ],
      "text/plain": [
       "[1] 0.07"
      ]
     },
     "metadata": {},
     "output_type": "display_data"
    }
   ],
   "source": [
    "# 6명\n",
    "surv6_prob = c()\n",
    "for(i in 0:1) surv6_prob[i+1] = choose(4-i, 3) * 0.8^i * 0.2 * 0.5^(4-i)\n",
    "sum(surv6_prob)"
   ]
  },
  {
   "cell_type": "code",
   "execution_count": 14,
   "id": "1054c735-e436-4517-bdfe-546bdb8d7022",
   "metadata": {},
   "outputs": [
    {
     "data": {
      "text/html": [
       "0.0125"
      ],
      "text/plain": [
       "[1] 0.0125"
      ]
     },
     "metadata": {},
     "output_type": "display_data"
    }
   ],
   "source": [
    "# 5명\n",
    "surv5_prob = c()\n",
    "for(i in 0:0) surv5_prob[i+1] = choose(4-i, 4) * 0.8^i * 0.2 * 0.5^(4-i)\n",
    "sum(surv5_prob)"
   ]
  },
  {
   "cell_type": "markdown",
   "id": "aa7166b1-e708-4871-8275-73b2c7dc4051",
   "metadata": {},
   "source": [
    "- 확률의 총 합은 1임을 확인하자."
   ]
  },
  {
   "cell_type": "code",
   "execution_count": 15,
   "id": "dfec3abd-ef7b-415d-bb7b-dd6e6e3e3b64",
   "metadata": {},
   "outputs": [
    {
     "data": {
      "text/html": [
       "1"
      ],
      "text/plain": [
       "[1] 1"
      ]
     },
     "metadata": {},
     "output_type": "display_data"
    }
   ],
   "source": [
    "0.8^5+ \n",
    "sum(surv9_prob)+ \n",
    "sum(surv8_prob)+\n",
    "sum(surv7_prob)+\n",
    "sum(surv6_prob)+\n",
    "sum(surv5_prob)"
   ]
  },
  {
   "cell_type": "markdown",
   "id": "f656c643-6ddf-4fa4-a35f-a15ed42fadbe",
   "metadata": {},
   "source": [
    "- 평균을 확인하자."
   ]
  },
  {
   "cell_type": "code",
   "execution_count": 16,
   "id": "86c4be45-4c9f-4961-8680-f7e490333beb",
   "metadata": {},
   "outputs": [
    {
     "data": {
      "text/html": [
       "8.50848"
      ],
      "text/plain": [
       "[1] 8.50848"
      ]
     },
     "metadata": {},
     "output_type": "display_data"
    }
   ],
   "source": [
    "0.8^5 *10+ \n",
    "sum(surv9_prob) *9+ \n",
    "sum(surv8_prob) *8+\n",
    "sum(surv7_prob) *7+\n",
    "sum(surv6_prob) *6+\n",
    "sum(surv5_prob) *5"
   ]
  },
  {
   "cell_type": "markdown",
   "id": "27dece47-840e-4a6a-9612-427b2d19cff4",
   "metadata": {},
   "source": [
    "## Solution II"
   ]
  },
  {
   "cell_type": "markdown",
   "id": "c903cd17-f80c-4009-b930-10500d40d4e2",
   "metadata": {},
   "source": [
    "`총 살아남는 사람 수 = 5 + 장인의 성공 횟수 + (5-장인의 성공횟수-1) 의 기회 중에서 성공 횟수` (단, 장인이 4번 또는 5번 성공하지 않았을 때)\n",
    "\n",
    "5 + 장인이  5번 성공 -> 10\n",
    "\n",
    "5 + 장인이  4번 성공 -> 10\n",
    "\n",
    "5 + 장인이  3번 성공 -> 8 + `1번의 기회 중에서 성공 횟수`\n",
    "\n",
    "5 + 장인이  2번 성공 -> 7 + `2번의 기회 중에서 성공 횟수`\n",
    "\n",
    "5 + 장인이  1번 성공 -> 6 + `3번의 기회 중에서 성공 횟수`\n"
   ]
  },
  {
   "cell_type": "markdown",
   "id": "acdac6c9-a91f-4ce9-acf6-a565f94373bc",
   "metadata": {},
   "source": [
    "장인의 성공 횟수를 $x$, 일반인의 성공 횟수를 $y$라 하면 생존자는 $x+y$이다."
   ]
  },
  {
   "cell_type": "markdown",
   "id": "36c73f54-7b7a-44a2-8ccb-bb8fe98bfdd0",
   "metadata": {},
   "source": [
    "- 장인의 성공 횟수"
   ]
  },
  {
   "cell_type": "code",
   "execution_count": 20,
   "id": "5f500f05-5bfe-4dc1-b1dc-c3f9d3bba862",
   "metadata": {},
   "outputs": [
    {
     "data": {
      "text/html": [
       "<style>\n",
       ".list-inline {list-style: none; margin:0; padding: 0}\n",
       ".list-inline>li {display: inline-block}\n",
       ".list-inline>li:not(:last-child)::after {content: \"\\00b7\"; padding: 0 .5ex}\n",
       "</style>\n",
       "<ol class=list-inline><li>1</li><li>0</li><li>1</li><li>0</li><li>1</li></ol>\n"
      ],
      "text/plain": [
       "[1] 1 0 1 0 1"
      ]
     },
     "metadata": {},
     "output_type": "display_data"
    }
   ],
   "source": [
    "rbinom(5, size = 1, 0.8)"
   ]
  },
  {
   "cell_type": "code",
   "execution_count": null,
   "id": "c4b027ae-4cb0-4c26-8753-5424da89776e",
   "metadata": {},
   "outputs": [],
   "source": []
  }
 ],
 "metadata": {
  "kernelspec": {
   "display_name": "R",
   "language": "R",
   "name": "ir"
  },
  "language_info": {
   "codemirror_mode": "r",
   "file_extension": ".r",
   "mimetype": "text/x-r-source",
   "name": "R",
   "pygments_lexer": "r",
   "version": "4.0.5"
  }
 },
 "nbformat": 4,
 "nbformat_minor": 5
}
