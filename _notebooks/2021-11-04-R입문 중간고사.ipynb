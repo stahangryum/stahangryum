{
 "cells": [
  {
   "cell_type": "code",
   "execution_count": 1,
   "id": "662b559c-2e99-4c81-8c27-40498c5f8975",
   "metadata": {},
   "outputs": [],
   "source": [
    "#hide\n",
    "options(jupyter.plot_scale = 3)\n",
    "options(jupyter.display_mimetypes = c(\"text/html\"))\n",
    "#options(jupyter.rich_display=FALSE)\n",
    "options(repr.plot.width=6, repr.plot.height=6, repr.plot.res=300)\n",
    "options(max.print=1000)"
   ]
  },
  {
   "cell_type": "markdown",
   "id": "3abc00d6-9b43-4379-86c5-0ea9b20154d5",
   "metadata": {},
   "source": [
    "# \"R입문 중간고사\"\n",
    "> \"전북대학교 R입문 중간고사\"\n",
    "\n",
    "- toc: true\n",
    "- branch: master\n",
    "- badges: true\n",
    "- comments: true\n",
    "- author: Kim Jeewoo\n",
    "- categories: [Introduction to R, Exam]\n",
    "- image: images/test_logo.jpg"
   ]
  },
  {
   "cell_type": "markdown",
   "id": "585845c2-75f0-44cb-a6ee-068b6ee04aeb",
   "metadata": {
    "id": "585845c2-75f0-44cb-a6ee-068b6ee04aeb"
   },
   "source": [
    "### `1`. R을 이용하여 다음을 계산하여라. (3점)"
   ]
  },
  {
   "cell_type": "markdown",
   "id": "4a36de37-c4c4-437d-937f-7136544cbbb1",
   "metadata": {
    "id": "4a36de37-c4c4-437d-937f-7136544cbbb1"
   },
   "source": [
    "#### (a) $2^{-5}+2^{3}$"
   ]
  },
  {
   "cell_type": "code",
   "execution_count": 2,
   "id": "0a758f4b-728e-4c20-951c-7bec01b9ea1e",
   "metadata": {},
   "outputs": [
    {
     "data": {
      "text/html": [
       "8.03125"
      ],
      "text/plain": [
       "[1] 8.03125"
      ]
     },
     "metadata": {},
     "output_type": "display_data"
    }
   ],
   "source": [
    "2^(-5) + 2^3"
   ]
  },
  {
   "cell_type": "markdown",
   "id": "82e74af3-870c-4344-b4f5-a5b6f1257a32",
   "metadata": {
    "id": "82e74af3-870c-4344-b4f5-a5b6f1257a32"
   },
   "source": [
    "#### (b) $\\sqrt{33}$"
   ]
  },
  {
   "cell_type": "code",
   "execution_count": 3,
   "id": "f6ece022-c8d8-4e97-8d2b-b146eeab4a24",
   "metadata": {},
   "outputs": [
    {
     "data": {
      "text/html": [
       "5.74456264653803"
      ],
      "text/plain": [
       "[1] 5.744563"
      ]
     },
     "metadata": {},
     "output_type": "display_data"
    }
   ],
   "source": [
    "sqrt(33)"
   ]
  },
  {
   "cell_type": "markdown",
   "id": "566005bd-8605-4187-94c2-2a2c097a969c",
   "metadata": {
    "id": "566005bd-8605-4187-94c2-2a2c097a969c"
   },
   "source": [
    "#### (c) $\\sum_{k=1}^{100} \\frac{1}{k^2+2k+1}$"
   ]
  },
  {
   "cell_type": "code",
   "execution_count": 4,
   "id": "52c906e1-4aa9-4509-88b7-8ac47a1a5862",
   "metadata": {},
   "outputs": [
    {
     "data": {
      "text/html": [
       "0.635081929789834"
      ],
      "text/plain": [
       "[1] 0.6350819"
      ]
     },
     "metadata": {},
     "output_type": "display_data"
    }
   ],
   "source": [
    "summ = 0\n",
    "for (k in 1:100){\n",
    "    summ = summ + 1/(k^2 +2*k +1)\n",
    "}\n",
    "summ"
   ]
  },
  {
   "cell_type": "markdown",
   "id": "ad51a2c9-b520-45cd-9591-b6da037d2f5c",
   "metadata": {
    "id": "ad51a2c9-b520-45cd-9591-b6da037d2f5c"
   },
   "source": [
    "### `2`. 다음을 잘 읽고 물음에 답하라. (2점)"
   ]
  },
  {
   "cell_type": "markdown",
   "id": "9da839fb-8318-49d8-91bd-cda9e382e96f",
   "metadata": {},
   "source": [
    "#### (a) 아래와 같은 수열을 생성하라. \n",
    "$$x=(-10,-9.5,-9.0,...,9.0,9.5,10)$$"
   ]
  },
  {
   "cell_type": "code",
   "execution_count": 5,
   "id": "e15c2810-04f8-4968-b276-8f4b9cf80168",
   "metadata": {},
   "outputs": [
    {
     "data": {
      "text/html": [
       "<style>\n",
       ".list-inline {list-style: none; margin:0; padding: 0}\n",
       ".list-inline>li {display: inline-block}\n",
       ".list-inline>li:not(:last-child)::after {content: \"\\00b7\"; padding: 0 .5ex}\n",
       "</style>\n",
       "<ol class=list-inline><li>-10</li><li>-9.5</li><li>-9</li><li>-8.5</li><li>-8</li><li>-7.5</li><li>-7</li><li>-6.5</li><li>-6</li><li>-5.5</li><li>-5</li><li>-4.5</li><li>-4</li><li>-3.5</li><li>-3</li><li>-2.5</li><li>-2</li><li>-1.5</li><li>-1</li><li>-0.5</li><li>0</li><li>0.5</li><li>1</li><li>1.5</li><li>2</li><li>2.5</li><li>3</li><li>3.5</li><li>4</li><li>4.5</li><li>5</li><li>5.5</li><li>6</li><li>6.5</li><li>7</li><li>7.5</li><li>8</li><li>8.5</li><li>9</li><li>9.5</li><li>10</li></ol>\n"
      ],
      "text/plain": [
       " [1] -10.0  -9.5  -9.0  -8.5  -8.0  -7.5  -7.0  -6.5  -6.0  -5.5  -5.0  -4.5\n",
       "[13]  -4.0  -3.5  -3.0  -2.5  -2.0  -1.5  -1.0  -0.5   0.0   0.5   1.0   1.5\n",
       "[25]   2.0   2.5   3.0   3.5   4.0   4.5   5.0   5.5   6.0   6.5   7.0   7.5\n",
       "[37]   8.0   8.5   9.0   9.5  10.0"
      ]
     },
     "metadata": {},
     "output_type": "display_data"
    }
   ],
   "source": [
    "x =seq(from = -10, to = 10, by = 0.5)\n",
    "x"
   ]
  },
  {
   "cell_type": "markdown",
   "id": "c99b4825-7fa7-44ac-b2da-2f4261ecf263",
   "metadata": {},
   "source": [
    "#### (b) 생성된 수열에 대하여 아래를 만족하는 $y$를 계산하라. \n",
    "$$y=\\begin{cases} \n",
    "x & |x|>5 \\\\ \n",
    "0 & |x| \\leq 2  \\\\\n",
    "5 & o.w.\n",
    "\\end{cases}$$\n"
   ]
  },
  {
   "cell_type": "code",
   "execution_count": 26,
   "id": "619ec647-1e76-42e1-90fb-9a3d19be4e25",
   "metadata": {},
   "outputs": [
    {
     "name": "stdout",
     "output_type": "stream",
     "text": [
      " [1] -10  -9  -8  -7  -6   5   5   5   0   0   0   0   0   5   5   5   6   7   8\n",
      "[20]   9  10\n"
     ]
    }
   ],
   "source": [
    "print(ifelse(abs(x)>5, x, ifelse(abs(x)<=2, 0, 5)))"
   ]
  },
  {
   "cell_type": "markdown",
   "id": "4876411e-3764-451f-b370-90171f4c9086",
   "metadata": {
    "id": "4876411e-3764-451f-b370-90171f4c9086"
   },
   "source": [
    "### `3`. $x=(-10,-9,-8,\\dots,8,9,10)$에 대하여 $h(g(f(x)))$의 계산결과를 구하는 코드를 작성하라. (10점)"
   ]
  },
  {
   "cell_type": "markdown",
   "id": "d0940719-77a7-45d1-bd24-6e7be7880335",
   "metadata": {
    "id": "d0940719-77a7-45d1-bd24-6e7be7880335"
   },
   "source": [
    "단, $f(x)$,$g(x)$, $h(x)$의 정의는 각각 아래와 같다. \n",
    "- $f(x)=2x+3 $\n",
    "- $g(x)=\\frac{e^x}{1+e^x}$\n",
    "- $h(x)=max(x,0)$\n"
   ]
  },
  {
   "cell_type": "code",
   "execution_count": 20,
   "id": "2d1d6677-6051-4707-b1d0-8866f8886320",
   "metadata": {},
   "outputs": [
    {
     "name": "stderr",
     "output_type": "stream",
     "text": [
      "-- \u001b[1mAttaching packages\u001b[22m ------------------------------------------------------------------------------- tidyverse 1.3.1 --\n",
      "\n",
      "\u001b[32mv\u001b[39m \u001b[34mggplot2\u001b[39m 3.3.5     \u001b[32mv\u001b[39m \u001b[34mpurrr  \u001b[39m 0.3.4\n",
      "\u001b[32mv\u001b[39m \u001b[34mtibble \u001b[39m 3.1.5     \u001b[32mv\u001b[39m \u001b[34mdplyr  \u001b[39m 1.0.7\n",
      "\u001b[32mv\u001b[39m \u001b[34mtidyr  \u001b[39m 1.1.4     \u001b[32mv\u001b[39m \u001b[34mstringr\u001b[39m 1.4.0\n",
      "\u001b[32mv\u001b[39m \u001b[34mreadr  \u001b[39m 2.0.2     \u001b[32mv\u001b[39m \u001b[34mforcats\u001b[39m 0.5.1\n",
      "\n",
      "-- \u001b[1mConflicts\u001b[22m ---------------------------------------------------------------------------------- tidyverse_conflicts() --\n",
      "\u001b[31mx\u001b[39m \u001b[34mdplyr\u001b[39m::\u001b[32mfilter()\u001b[39m masks \u001b[34mstats\u001b[39m::filter()\n",
      "\u001b[31mx\u001b[39m \u001b[34mdplyr\u001b[39m::\u001b[32mlag()\u001b[39m    masks \u001b[34mstats\u001b[39m::lag()\n",
      "\n"
     ]
    }
   ],
   "source": [
    "library(tidyverse)"
   ]
  },
  {
   "cell_type": "code",
   "execution_count": 8,
   "id": "b44cf394-0a29-438b-a401-cef73f2fcc41",
   "metadata": {},
   "outputs": [
    {
     "data": {
      "text/html": [
       "0.999999999897381"
      ],
      "text/plain": [
       "[1] 1"
      ]
     },
     "metadata": {},
     "output_type": "display_data"
    }
   ],
   "source": [
    "\n",
    "\n",
    "x = -10:10\n",
    "\n",
    "f <- function(x){\n",
    "    2*x+3\n",
    "}\n",
    "\n",
    "g <- function(x){\n",
    "    (exp(x))/(1+exp(x))\n",
    "}\n",
    "\n",
    "h <- function(x){\n",
    "    max(x, 0)\n",
    "}\n",
    "\n",
    "x %>% f %>% g %>% h"
   ]
  },
  {
   "cell_type": "markdown",
   "id": "e66204e0-7dc6-4d72-a49a-bec0c5ada4b1",
   "metadata": {
    "id": "e66204e0-7dc6-4d72-a49a-bec0c5ada4b1"
   },
   "source": [
    "### `4`. 아래중 옳은것은? (O / X 로 답안지를 쓰고 답의 근거가 되는 코드를 작성할것) (10점)"
   ]
  },
  {
   "cell_type": "markdown",
   "id": "cf350534-0d6e-4c29-9bf6-6fadd4687ff0",
   "metadata": {
    "id": "cf350534-0d6e-4c29-9bf6-6fadd4687ff0"
   },
   "source": [
    "#### (a) $1= \\frac{1}{2}+\\frac{1}{4} +\\frac{1}{8} \\dots $\n",
    "\n"
   ]
  },
  {
   "cell_type": "code",
   "execution_count": 9,
   "id": "a0e22f06-342a-4a84-9564-7ab83ba651ac",
   "metadata": {},
   "outputs": [
    {
     "data": {
      "text/html": [
       "1"
      ],
      "text/plain": [
       "[1] 1"
      ]
     },
     "metadata": {},
     "output_type": "display_data"
    }
   ],
   "source": [
    "summ = 0\n",
    "\n",
    "for (i in 1:50000){\n",
    "    summ = summ + (1/2)^i\n",
    "    }\n",
    "summ\n",
    "\n",
    "#항이 많을수록 근사 정도가 좋다."
   ]
  },
  {
   "cell_type": "markdown",
   "id": "f226e493-1f06-41e9-a045-11beaeb619e8",
   "metadata": {},
   "source": [
    "$1 = \\dfrac{\\dfrac{1}{2}}{1-\\dfrac{1}{2}}$\n",
    "\n",
    "즉 (a)는 참(O)이다."
   ]
  },
  {
   "cell_type": "markdown",
   "id": "d84e1a60-3a09-4b72-be69-0b5bda42c4e7",
   "metadata": {
    "id": "d84e1a60-3a09-4b72-be69-0b5bda42c4e7"
   },
   "source": [
    "#### (b) $e^x= 1+x+x^2+x^3+\\dots $"
   ]
  },
  {
   "cell_type": "code",
   "execution_count": 10,
   "id": "9488adc7-996e-4ac4-bac8-054bfbe48626",
   "metadata": {},
   "outputs": [
    {
     "data": {
      "text/html": [
       "2.53530120045646e+30"
      ],
      "text/plain": [
       "[1] 2.535301e+30"
      ]
     },
     "metadata": {},
     "output_type": "display_data"
    }
   ],
   "source": [
    "f <- function(x, k){\n",
    "    summ = 0\n",
    "    \n",
    "    for (i in 0:k){\n",
    "        summ = summ + x^i\n",
    "        }\n",
    "    return(summ)\n",
    "}\n",
    "f(2,100) - exp(2)\n",
    "#f_b와 f_o의 함숫값이 현저하게 다르므로 같다고 보기 어렵다."
   ]
  },
  {
   "cell_type": "markdown",
   "id": "5ae6a979-e149-407f-8288-910d8847b811",
   "metadata": {},
   "source": [
    "$e^x$의 테일러 급수는 $\\sum_{n=0}^{\\infty} \\frac{x^n}{n!}$이다.\n",
    "\n",
    "즉 (b)는 거짓(X)이다."
   ]
  },
  {
   "cell_type": "markdown",
   "id": "26ffda99-c8dd-43bb-be30-4e5ff7171cab",
   "metadata": {
    "id": "26ffda99-c8dd-43bb-be30-4e5ff7171cab",
    "tags": []
   },
   "source": [
    "### `5`. 다음을 읽고 물음에 답하라. (10점)"
   ]
  },
  {
   "cell_type": "markdown",
   "id": "1b928b77-f725-4c5e-b6b3-fb94362aecde",
   "metadata": {
    "id": "1b928b77-f725-4c5e-b6b3-fb94362aecde"
   },
   "source": [
    "다음은 어느 회사의 연봉에 대한 규정이다. "
   ]
  },
  {
   "cell_type": "markdown",
   "id": "464ebe8c-9685-4109-ad3e-ef97c1af2b96",
   "metadata": {
    "id": "464ebe8c-9685-4109-ad3e-ef97c1af2b96"
   },
   "source": [
    "(가) 입사 첫째 해 연봉은 $a$원이고, 입사 19년째 해까지의 연봉은 해마다 직전 연봉에서 8%씩 인상된다. "
   ]
  },
  {
   "cell_type": "markdown",
   "id": "4d2dcc5e-a40c-4b5a-8f97-a819a7fda388",
   "metadata": {
    "id": "4d2dcc5e-a40c-4b5a-8f97-a819a7fda388"
   },
   "source": [
    "(나) 입사 20년째 해부터의 연봉은 입사 19년째 해 연봉의 75%로 한다. "
   ]
  },
  {
   "cell_type": "markdown",
   "id": "e843838c-2175-4a83-bbaf-1add822cf13a",
   "metadata": {
    "id": "e843838c-2175-4a83-bbaf-1add822cf13a"
   },
   "source": [
    "이 회사에 입사한 사람이 28년동안 근무하여 받는 연봉의 총합은? "
   ]
  },
  {
   "cell_type": "code",
   "execution_count": 11,
   "id": "dbf2a604-d0ce-44f7-970a-f67b4cf648de",
   "metadata": {},
   "outputs": [
    {
     "data": {
      "text/html": [
       "68.4193948584949"
      ],
      "text/plain": [
       "[1] 68.41939"
      ]
     },
     "metadata": {},
     "output_type": "display_data"
    }
   ],
   "source": [
    "salary = c(1)\n",
    "\n",
    "for (i in 2:19){\n",
    "    salary[i] = salary[i-1]*(1.08)\n",
    "    }\n",
    "salary[20:28] = salary[19] *(0.75)\n",
    "sum(salary)"
   ]
  },
  {
   "cell_type": "markdown",
   "id": "be09d190-9f1b-47ea-b0c7-b150a866d926",
   "metadata": {
    "id": "be09d190-9f1b-47ea-b0c7-b150a866d926"
   },
   "source": [
    "### `6`. 다음 문장을 읽고 참거짓을 판단하시오. (10점)"
   ]
  },
  {
   "cell_type": "markdown",
   "id": "58fbe583-f36f-4c17-9d17-984202cbcf6e",
   "metadata": {
    "id": "58fbe583-f36f-4c17-9d17-984202cbcf6e"
   },
   "source": [
    "#### (a) `_a`는 변수이름으로 가능하다. "
   ]
  },
  {
   "cell_type": "code",
   "execution_count": 12,
   "id": "ce4a2ba5-200d-4e77-aca5-698974f97bcd",
   "metadata": {},
   "outputs": [
    {
     "ename": "ERROR",
     "evalue": "Error in parse(text = x, srcfile = src): <text>:1:1: 예상하지 못한 입력입니다.\n1: _\n    ^\n",
     "output_type": "error",
     "traceback": [
      "Error in parse(text = x, srcfile = src): <text>:1:1: 예상하지 못한 입력입니다.\n1: _\n    ^\nTraceback:\n"
     ]
    }
   ],
   "source": [
    "_a = 1"
   ]
  },
  {
   "cell_type": "markdown",
   "id": "b0de9d34-134c-4a88-8a60-d67852a0fd2e",
   "metadata": {},
   "source": [
    "거짓(X)"
   ]
  },
  {
   "cell_type": "markdown",
   "id": "41a6bc7a-3267-402c-870b-cc0f36cbd64e",
   "metadata": {
    "id": "41a6bc7a-3267-402c-870b-cc0f36cbd64e"
   },
   "source": [
    "#### (b) 벡터의 원소는 수치형(numeric)만 가능하다. "
   ]
  },
  {
   "cell_type": "code",
   "execution_count": 13,
   "id": "1c384c31-f24b-4343-94e7-9bb19f55f58d",
   "metadata": {},
   "outputs": [
    {
     "data": {
      "text/html": [
       "<style>\n",
       ".list-inline {list-style: none; margin:0; padding: 0}\n",
       ".list-inline>li {display: inline-block}\n",
       ".list-inline>li:not(:last-child)::after {content: \"\\00b7\"; padding: 0 .5ex}\n",
       "</style>\n",
       "<ol class=list-inline><li>'1'</li><li>'d'</li><li>'k'</li></ol>\n"
      ],
      "text/plain": [
       "[1] \"1\" \"d\" \"k\""
      ]
     },
     "metadata": {},
     "output_type": "display_data"
    }
   ],
   "source": [
    "a = c('1', 'd', 'k')\n",
    "a"
   ]
  },
  {
   "cell_type": "markdown",
   "id": "a50eface-2530-4d97-bd13-86795d704d3b",
   "metadata": {},
   "source": [
    "거짓(X)"
   ]
  },
  {
   "cell_type": "markdown",
   "id": "f097e1ed-4466-4cde-aacf-505ece2f5d9d",
   "metadata": {
    "id": "f097e1ed-4466-4cde-aacf-505ece2f5d9d"
   },
   "source": [
    "#### (c) 논리형(logical)변수는 수치형 변수로 변환할 수 없다. "
   ]
  },
  {
   "cell_type": "code",
   "execution_count": 14,
   "id": "0cf46971-fb00-4ee4-8691-2f8e985ac001",
   "metadata": {},
   "outputs": [
    {
     "data": {
      "text/html": [
       "1"
      ],
      "text/plain": [
       "[1] 1"
      ]
     },
     "metadata": {},
     "output_type": "display_data"
    }
   ],
   "source": [
    "as.numeric(TRUE)"
   ]
  },
  {
   "cell_type": "markdown",
   "id": "2effa581-54a4-4bd7-83d2-4bfb8206f6e1",
   "metadata": {},
   "source": [
    "거짓(X)"
   ]
  },
  {
   "cell_type": "markdown",
   "id": "5870e7b5-c722-4856-91b0-413f85a2b7ee",
   "metadata": {
    "id": "5870e7b5-c722-4856-91b0-413f85a2b7ee"
   },
   "source": [
    "#### (d) R에서 {}는 ()로 바꿀 수 있다. "
   ]
  },
  {
   "cell_type": "code",
   "execution_count": 15,
   "id": "6ca07a13-5267-4710-878d-f0dfa774c018",
   "metadata": {},
   "outputs": [
    {
     "ename": "ERROR",
     "evalue": "Error in parse(text = x, srcfile = src): <text>:3:5: 예기치 않은 'if'입니다\n2:     print(i)\n3:     if\n       ^\n",
     "output_type": "error",
     "traceback": [
      "Error in parse(text = x, srcfile = src): <text>:3:5: 예기치 않은 'if'입니다\n2:     print(i)\n3:     if\n       ^\nTraceback:\n"
     ]
    }
   ],
   "source": [
    "for (i in 1:3)(\n",
    "    print(i)\n",
    "    if (2!=1)(\n",
    "        print(\"hello\")\n",
    "    )\n",
    ")"
   ]
  },
  {
   "cell_type": "code",
   "execution_count": 16,
   "id": "12f496b1-00ae-4438-9517-945feb132f26",
   "metadata": {},
   "outputs": [
    {
     "name": "stdout",
     "output_type": "stream",
     "text": [
      "[1] 1\n",
      "[1] \"hello\"\n",
      "[1] 2\n",
      "[1] \"hello\"\n",
      "[1] 3\n",
      "[1] \"hello\"\n"
     ]
    }
   ],
   "source": [
    "for (i in 1:3){\n",
    "    print(i)\n",
    "    if (2!=1){\n",
    "        print(\"hello\")\n",
    "    }\n",
    "}"
   ]
  },
  {
   "cell_type": "markdown",
   "id": "b865b5ba-8fce-4861-812e-2b7bf1504dfa",
   "metadata": {},
   "source": [
    "거짓(X)"
   ]
  },
  {
   "cell_type": "markdown",
   "id": "a29a05e6-b85e-4d71-92e7-1f4848e9dc5a",
   "metadata": {
    "id": "a29a05e6-b85e-4d71-92e7-1f4848e9dc5a"
   },
   "source": [
    "### `7.` 100개의 라커 (15점) "
   ]
  },
  {
   "cell_type": "markdown",
   "id": "76ba2b1f-7e14-463d-a175-740d274dbeec",
   "metadata": {
    "id": "76ba2b1f-7e14-463d-a175-740d274dbeec"
   },
   "source": [
    "\n",
    "복도에 100개의 라커가 있다. 복도를 어떤 남자가 100개의 라커 문을 전부 연다. 그리고 나서 짝수 번호의 라커를 전부 닫는다. 그 다음에는 번호가 3의 배수인 라커를 순서대로 찾아다니며 열려 있으면 닫고, 닫혀 있으면 연다. 그 다음에는 번호가 4의 배수인 라커를 순서대로 찾아다니며 열려있으면 닫고, 닫혀있으면 연다. 이후에 5의 배수, 6의 배수 .. 인 라커를 순서대로 찾아다니며 행동을 반복한다. 이런식으로 복도를 100번 지나가면 열린 라커의 문은 몇개가 되겠는가? "
   ]
  },
  {
   "cell_type": "code",
   "execution_count": 1,
   "id": "f68f17ac-1f2b-4935-b757-ecaa210e59d4",
   "metadata": {},
   "outputs": [
    {
     "data": {
      "text/html": [
       "10"
      ],
      "text/latex": [
       "10"
      ],
      "text/markdown": [
       "10"
      ],
      "text/plain": [
       "[1] 10"
      ]
     },
     "metadata": {},
     "output_type": "display_data"
    }
   ],
   "source": [
    "\n",
    "#TRUE = OPEN\n",
    "#FALSE = CLOSED\n",
    "\n",
    "A = c(rep(TRUE, 100))\n",
    "\n",
    "for (i in 2:100){ #배수\n",
    "    for (k in 1:100){ #몇번방\n",
    "        if (k%%i == 0){\n",
    "            if (A[k] == TRUE){\n",
    "                A[k] = FALSE\n",
    "                \n",
    "            }\n",
    "            else {\n",
    "                A[k] = TRUE\n",
    "            }\n",
    "        }\n",
    "    }\n",
    "}\n",
    "sum(A)"
   ]
  },
  {
   "cell_type": "code",
   "execution_count": 39,
   "id": "6c342148-8a29-4660-8f05-32d894ef35bb",
   "metadata": {},
   "outputs": [
    {
     "data": {
      "text/html": [
       "<style>\n",
       ".list-inline {list-style: none; margin:0; padding: 0}\n",
       ".list-inline>li {display: inline-block}\n",
       ".list-inline>li:not(:last-child)::after {content: \"\\00b7\"; padding: 0 .5ex}\n",
       "</style>\n",
       "<ol class=list-inline><li>FALSE</li><li>FALSE</li><li>FALSE</li><li>FALSE</li><li>FALSE</li><li>FALSE</li><li>FALSE</li><li>FALSE</li><li>FALSE</li><li>FALSE</li><li>FALSE</li><li>FALSE</li><li>FALSE</li><li>FALSE</li><li>FALSE</li><li>FALSE</li><li>FALSE</li><li>FALSE</li><li>FALSE</li><li>FALSE</li><li>FALSE</li><li>FALSE</li><li>FALSE</li><li>FALSE</li><li>FALSE</li><li>FALSE</li><li>FALSE</li><li>FALSE</li><li>FALSE</li><li>FALSE</li><li>FALSE</li><li>FALSE</li><li>FALSE</li><li>FALSE</li><li>FALSE</li><li>FALSE</li><li>FALSE</li><li>FALSE</li><li>FALSE</li><li>FALSE</li><li>FALSE</li><li>FALSE</li><li>FALSE</li><li>FALSE</li><li>FALSE</li><li>FALSE</li><li>FALSE</li><li>FALSE</li><li>FALSE</li><li>FALSE</li></ol>\n"
      ],
      "text/latex": [
       "\\begin{enumerate*}\n",
       "\\item FALSE\n",
       "\\item FALSE\n",
       "\\item FALSE\n",
       "\\item FALSE\n",
       "\\item FALSE\n",
       "\\item FALSE\n",
       "\\item FALSE\n",
       "\\item FALSE\n",
       "\\item FALSE\n",
       "\\item FALSE\n",
       "\\item FALSE\n",
       "\\item FALSE\n",
       "\\item FALSE\n",
       "\\item FALSE\n",
       "\\item FALSE\n",
       "\\item FALSE\n",
       "\\item FALSE\n",
       "\\item FALSE\n",
       "\\item FALSE\n",
       "\\item FALSE\n",
       "\\item FALSE\n",
       "\\item FALSE\n",
       "\\item FALSE\n",
       "\\item FALSE\n",
       "\\item FALSE\n",
       "\\item FALSE\n",
       "\\item FALSE\n",
       "\\item FALSE\n",
       "\\item FALSE\n",
       "\\item FALSE\n",
       "\\item FALSE\n",
       "\\item FALSE\n",
       "\\item FALSE\n",
       "\\item FALSE\n",
       "\\item FALSE\n",
       "\\item FALSE\n",
       "\\item FALSE\n",
       "\\item FALSE\n",
       "\\item FALSE\n",
       "\\item FALSE\n",
       "\\item FALSE\n",
       "\\item FALSE\n",
       "\\item FALSE\n",
       "\\item FALSE\n",
       "\\item FALSE\n",
       "\\item FALSE\n",
       "\\item FALSE\n",
       "\\item FALSE\n",
       "\\item FALSE\n",
       "\\item FALSE\n",
       "\\end{enumerate*}\n"
      ],
      "text/markdown": [
       "1. FALSE\n",
       "2. FALSE\n",
       "3. FALSE\n",
       "4. FALSE\n",
       "5. FALSE\n",
       "6. FALSE\n",
       "7. FALSE\n",
       "8. FALSE\n",
       "9. FALSE\n",
       "10. FALSE\n",
       "11. FALSE\n",
       "12. FALSE\n",
       "13. FALSE\n",
       "14. FALSE\n",
       "15. FALSE\n",
       "16. FALSE\n",
       "17. FALSE\n",
       "18. FALSE\n",
       "19. FALSE\n",
       "20. FALSE\n",
       "21. FALSE\n",
       "22. FALSE\n",
       "23. FALSE\n",
       "24. FALSE\n",
       "25. FALSE\n",
       "26. FALSE\n",
       "27. FALSE\n",
       "28. FALSE\n",
       "29. FALSE\n",
       "30. FALSE\n",
       "31. FALSE\n",
       "32. FALSE\n",
       "33. FALSE\n",
       "34. FALSE\n",
       "35. FALSE\n",
       "36. FALSE\n",
       "37. FALSE\n",
       "38. FALSE\n",
       "39. FALSE\n",
       "40. FALSE\n",
       "41. FALSE\n",
       "42. FALSE\n",
       "43. FALSE\n",
       "44. FALSE\n",
       "45. FALSE\n",
       "46. FALSE\n",
       "47. FALSE\n",
       "48. FALSE\n",
       "49. FALSE\n",
       "50. FALSE\n",
       "\n",
       "\n"
      ],
      "text/plain": [
       " [1] FALSE FALSE FALSE FALSE FALSE FALSE FALSE FALSE FALSE FALSE FALSE FALSE\n",
       "[13] FALSE FALSE FALSE FALSE FALSE FALSE FALSE FALSE FALSE FALSE FALSE FALSE\n",
       "[25] FALSE FALSE FALSE FALSE FALSE FALSE FALSE FALSE FALSE FALSE FALSE FALSE\n",
       "[37] FALSE FALSE FALSE FALSE FALSE FALSE FALSE FALSE FALSE FALSE FALSE FALSE\n",
       "[49] FALSE FALSE"
      ]
     },
     "metadata": {},
     "output_type": "display_data"
    }
   ],
   "source": [
    "#Solution II\n",
    "f <- function(x) !x\n",
    "\n",
    "\n",
    "A = c(rep(TRUE, 100))\n",
    "A = ifelse((A[(1:100)%%2 == 0] == TRUE), FALSE, TRUE)\n",
    "A\n"
   ]
  },
  {
   "cell_type": "code",
   "execution_count": null,
   "id": "4da53678-846c-49ce-ab16-ef2c5abbbf96",
   "metadata": {},
   "outputs": [],
   "source": []
  },
  {
   "cell_type": "code",
   "execution_count": 33,
   "id": "56065178-e5a8-42ce-8bc4-61d13530271f",
   "metadata": {},
   "outputs": [
    {
     "data": {
      "text/html": [
       "10"
      ],
      "text/latex": [
       "10"
      ],
      "text/markdown": [
       "10"
      ],
      "text/plain": [
       "[1] 10"
      ]
     },
     "metadata": {},
     "output_type": "display_data"
    }
   ],
   "source": [
    "#Solution III\n",
    "f <- function(x) !x\n",
    "A = c(rep(TRUE, 100))\n",
    "\n",
    "for (i in 2:100){\n",
    "    A[(1:100)%%i == 0] = A[(1:100)%%i == 0] %>% f\n",
    "}\n",
    "\n",
    "sum(A)"
   ]
  },
  {
   "cell_type": "markdown",
   "id": "34fe8974-ccd5-4622-b248-a5c8d4a8f43a",
   "metadata": {
    "id": "34fe8974-ccd5-4622-b248-a5c8d4a8f43a"
   },
   "source": [
    "### `8.` 무궁화 꽃이 피었습니다. (25점)"
   ]
  },
  {
   "cell_type": "markdown",
   "id": "940f74f9-5943-4027-81da-ebfa3179f08a",
   "metadata": {
    "id": "940f74f9-5943-4027-81da-ebfa3179f08a"
   },
   "source": [
    "총 456명의 참가자가 '무궁화 꽃이 피었습니다' 게임에 참가한다. 기본적인 게임의 규칙은 아래와 같다. \n",
    "\n",
    "- 술래는 총 10회간 벽을 보고 '무궁화 꽃이 피었습니다' 를 외친다. \n",
    "\n",
    "- 참가자는 술래가 있는 곳 까지 이동해야 살 수 있다. \n",
    "\n",
    "- 술래는 벽을 보고 '무궁화 꽃이 피었습니다'를 외치다가 구호가 끝남과 동시에 뒤를 돌아본다. 이때 움직이는 사람은 **죽는다**\n",
    "\n",
    "따라서 참가자는 술래가 벽을 보고 '무궁화 꽃이 피었습니다'를 외치는 동안만 이동할 수 있다. 욕심을 부려 더 이동하고자 하면 죽을 수 있다. 반대로 죽는 것을 지나치게 두려워한 나머지 매턴마다 조금씩만 이동한다면 10회의 제한횟수 내에 술래에게 도달하지 못하여 죽는다. \n",
    "\n",
    "게임환경과 관련된 세부적인 설정은 아래와 같다. \n",
    "\n",
    "- 술래와 참가자의 거리는 35이다. \n",
    "\n",
    "- 술래는 처음 벽을 보고 $x$초간 무궁화 꽃이 피었습니다를 외친다. \n",
    "\n",
    "- 모든 참가자는 1초에 거리1이상 움직일 수 없다고 가정한다. (예를들어 2.4초 동안은 최대 2.4의 거리를 이동할 수 있다. 반면 이동을 원치않으면 0의 거리만큼 움직이므로 0~2.4사이의 거리를 움직일 수 있다) \n",
    "\n",
    "술래와 참가자에 대한 설정값은 아래와 같다. \n",
    "\n",
    "***술래에 대한 설정값***\n",
    "\n",
    "- 처음에는 술래가 10초간 무궁화 꽃이 피었습니다를 외친다. \n",
    "\n",
    "- 그 다음에는 술래가 9.5초간 무궁화 꽃이 피었습니다를 외친다. \n",
    "\n",
    "- 그 다음에도 0.5초씩 구호를 외치는 시간을 줄인다. 이것을 10회 반복한다. \n",
    "\n",
    "***참가자에 대한 설정값*** \n",
    "\n",
    "- 처음에는 참가자가 \"본인의번호/100\"을 계산하여 나온 숫자만큼 움직인다. 즉 10번 참가자는 0.1의 거리를 움직이고 456번 참가자는 4.56의 거리를 움직인다. \n",
    "\n",
    "- 그 다음은 처음에 본인이 이동했던 거리에 1씩 더하여 움직인다. 즉 10번 참가자는 1.1의 거리를 움직이고 456번 참가자는 5.56의 거리를 움직인다. \n"
   ]
  },
  {
   "cell_type": "markdown",
   "id": "669b9135-c107-4c82-b89a-cffb29cf868a",
   "metadata": {
    "id": "669b9135-c107-4c82-b89a-cffb29cf868a"
   },
   "source": [
    "`-` 예시2"
   ]
  },
  {
   "cell_type": "markdown",
   "id": "4a7f1fc4-fc6c-4fc1-b03f-1c595c965739",
   "metadata": {
    "id": "4a7f1fc4-fc6c-4fc1-b03f-1c595c965739"
   },
   "source": [
    "300번 참가자의 경우 아래와 같이 이동하므로 \n",
    "\n",
    "| |1회 |2회 |3회 | 4회 | 5회 | 6회 |\n",
    "|:-:|:-:|:-:|:-:| :-:|:-:|:-:|\n",
    "|술래의 외침시간  | 10  | 9.5 | 9.0 | 8.5 | 8.0 | 7.5 |\n",
    "|참가자의 이동폭  | 3 | 4 | 5 | 6 | 7 | 7.5 |\n",
    "|참가자의 총 이동거리 | 3 | 7 | 12 | 18 | 25 | 32.5  |\n",
    "\n",
    "생존할 수 없다. (6회에서 32.5까지 이동후 사망)"
   ]
  },
  {
   "cell_type": "markdown",
   "id": "d8985c65-59db-4845-8364-77443cd524c9",
   "metadata": {
    "id": "d8985c65-59db-4845-8364-77443cd524c9"
   },
   "source": [
    "`-` 예시2"
   ]
  },
  {
   "cell_type": "markdown",
   "id": "08f200aa-1f42-4d0d-8a52-de448e1617d9",
   "metadata": {
    "id": "08f200aa-1f42-4d0d-8a52-de448e1617d9"
   },
   "source": [
    "350번 참가자의 경우 아래와 같이 이동하므로 \n",
    "\n",
    "| |1회 |2회 |3회 | 4회 | 5회 | 6회 |\n",
    "|:-:|:-:|:-:|:-:| :-:|:-:|:-:|\n",
    "술래의 외침시간  | 10  | 9.5 | 9.0 | 8.5 | 8.0 | 7.5 |\n",
    "참가자의 이동폭  | 3.5 | 4.5 | 5.5 | 6.5 | 7.5 | 8.5 |\n",
    "참가자의 총 이동거리 | 3.5 | 8 | 13.5 | 20 | 27.5 | 35 (정확하게 7.5초간 이동하고 살아남는다) |"
   ]
  },
  {
   "cell_type": "markdown",
   "id": "416db196-6b97-49d2-9bce-1b323252a0a3",
   "metadata": {
    "id": "416db196-6b97-49d2-9bce-1b323252a0a3"
   },
   "source": [
    "생존 할 수 있다. "
   ]
  },
  {
   "cell_type": "markdown",
   "id": "cad3d72e-d1c4-4094-9a5d-3439d6e76bf2",
   "metadata": {
    "id": "cad3d72e-d1c4-4094-9a5d-3439d6e76bf2"
   },
   "source": [
    "`-` 예시3"
   ]
  },
  {
   "cell_type": "markdown",
   "id": "06f054c1-e0a9-4f38-a5a9-ca127e9ff75f",
   "metadata": {
    "id": "06f054c1-e0a9-4f38-a5a9-ca127e9ff75f"
   },
   "source": [
    "400번 참가자의 경우 아래와 같이 이동하므로 \n",
    "\n",
    "| |1회 |2회 |3회 | 4회 | 5회 | 6회 |\n",
    "|:-:|:-:|:-:|:-:| :-:|:-:|:-:|\n",
    "술래의 외침시간  | 10  | 9.5 | 9.0 | 8.5 | 8.0 | 7.5 |\n",
    "참가자의 이동폭  | 4 | 5 | 6 | 7 | 8 | 5 |\n",
    "참가자의 총 이동거리 | 4 | 9 | 15 | 22 | 30 | 35 (5초간만 이동하면 35만큼 이동하므로 살아남는다)|"
   ]
  },
  {
   "cell_type": "markdown",
   "id": "812cbab8-52bf-4375-838b-f04b2cfae1f2",
   "metadata": {
    "id": "812cbab8-52bf-4375-838b-f04b2cfae1f2"
   },
   "source": [
    "생존 할 수 있다. "
   ]
  },
  {
   "cell_type": "markdown",
   "id": "b5b5f612-dc23-4a7c-be8d-b971fac403ca",
   "metadata": {
    "id": "b5b5f612-dc23-4a7c-be8d-b971fac403ca",
    "tags": []
   },
   "source": [
    "#### (a) 1번, 67번, 218번, 456번 참가자의 생존여부를 확인하는 함수를 작성하라. "
   ]
  },
  {
   "cell_type": "code",
   "execution_count": 18,
   "id": "4d728816-4bdd-4db7-899f-766000fdcc8e",
   "metadata": {},
   "outputs": [
    {
     "data": {
      "text/html": [
       "<table class=\"dataframe\">\n",
       "<caption>A matrix: 3 × 10 of type dbl</caption>\n",
       "<thead>\n",
       "\t<tr><th></th><th scope=col>1</th><th scope=col>2</th><th scope=col>3</th><th scope=col>4</th><th scope=col>5</th><th scope=col>6</th><th scope=col>7</th><th scope=col>8</th><th scope=col>9</th><th scope=col>10</th></tr>\n",
       "</thead>\n",
       "<tbody>\n",
       "\t<tr><th scope=row>술래의 외침시간</th><td>10.0</td><td>9.5</td><td> 9.0</td><td> 8.5</td><td> 8.0</td><td> 7.5</td><td> 7.0</td><td> 6.5</td><td> 6.0</td><td> 5.5</td></tr>\n",
       "\t<tr><th scope=row>참가자의 이동 폭</th><td> 3.5</td><td>4.5</td><td> 5.5</td><td> 6.5</td><td> 7.5</td><td> 8.5</td><td> 9.5</td><td>10.5</td><td>11.5</td><td>12.5</td></tr>\n",
       "\t<tr><th scope=row>참가자의 총 이동거리</th><td> 3.5</td><td>8.0</td><td>13.5</td><td>20.0</td><td>27.5</td><td>36.0</td><td>45.5</td><td>56.0</td><td>67.5</td><td>80.0</td></tr>\n",
       "</tbody>\n",
       "</table>\n"
      ],
      "text/plain": [
       "                     1    2   3    4    5    6    7    8    9    10  \n",
       "술래의 외침시간      10.0 9.5  9.0  8.5  8.0  7.5  7.0  6.5  6.0  5.5\n",
       "참가자의 이동 폭      3.5 4.5  5.5  6.5  7.5  8.5  9.5 10.5 11.5 12.5\n",
       "참가자의 총 이동거리  3.5 8.0 13.5 20.0 27.5 36.0 45.5 56.0 67.5 80.0"
      ]
     },
     "metadata": {},
     "output_type": "display_data"
    }
   ],
   "source": [
    "say = c(20:11/2) #술래의 외침시간\n",
    "f <- function(n){\n",
    "    move = c(n/100)\n",
    "    summ = c(move[1])\n",
    "    for (i in 2:10){\n",
    "        move[i] = move[i-1] + 1\n",
    "        summ[i] = sum(move[1:i])\n",
    "    }\n",
    "    return (rbind(move, summ))\n",
    "\n",
    "}\n",
    "A = rbind('술래의 외침시간' = say, '참가자의 이동 폭' = f(350)[1,], '참가자의 총 이동거리' = f(350)[2,])\n",
    "colnames(A) = 1:10\n",
    "A\n"
   ]
  },
  {
   "cell_type": "code",
   "execution_count": 19,
   "id": "25ff6438-c9c5-4cc0-ab6f-5f91034ae363",
   "metadata": {},
   "outputs": [
    {
     "data": {
      "text/html": [
       "'사망'"
      ],
      "text/plain": [
       "[1] \"사망\""
      ]
     },
     "metadata": {},
     "output_type": "display_data"
    },
    {
     "data": {
      "text/html": [
       "'사망'"
      ],
      "text/plain": [
       "[1] \"사망\""
      ]
     },
     "metadata": {},
     "output_type": "display_data"
    },
    {
     "data": {
      "text/html": [
       "'생존'"
      ],
      "text/plain": [
       "[1] \"생존\""
      ]
     },
     "metadata": {},
     "output_type": "display_data"
    },
    {
     "data": {
      "text/html": [
       "'사망'"
      ],
      "text/plain": [
       "[1] \"사망\""
      ]
     },
     "metadata": {},
     "output_type": "display_data"
    }
   ],
   "source": [
    "say = c(20:11/2) #술래의 외침시간\n",
    "\n",
    "\n",
    "f <- function(n){ #n = 참가자의 번호\n",
    "    move = c(n/100)\n",
    "    for (i in 2:10){\n",
    "        move[i] = move[i-1] + 1\n",
    "        \n",
    "        if ((35 - sum(move[1:i-1]) > say[i])&(move[i] > say[i])){\n",
    "            return(\"사망\")\n",
    "            break\n",
    "        }\n",
    "        if (sum(move) >= 35){\n",
    "            return(\"생존\")\n",
    "            break\n",
    "        }   \n",
    "    }\n",
    "}\n",
    "    \n",
    "f(1)\n",
    "f(67)\n",
    "f(218)\n",
    "f(456)"
   ]
  },
  {
   "cell_type": "markdown",
   "id": "df623fd7-3c04-4b11-9784-c47060e0ebca",
   "metadata": {},
   "source": [
    "1번 사망\n",
    "\n",
    "2번 사망\n",
    "\n",
    "3번 생존\n",
    "\n",
    "4번 사망"
   ]
  },
  {
   "cell_type": "markdown",
   "id": "bf3f324d-7d86-4508-9491-f45bf72828d5",
   "metadata": {
    "id": "bf3f324d-7d86-4508-9491-f45bf72828d5"
   },
   "source": [
    "#### (b) 전체 생존자중 몇명이 살아남는지 계산하라. "
   ]
  },
  {
   "cell_type": "code",
   "execution_count": 20,
   "id": "ba319003-25de-484d-82d4-75326f34d1cd",
   "metadata": {},
   "outputs": [
    {
     "data": {
      "text/html": [
       "85"
      ],
      "text/plain": [
       "[1] 85"
      ]
     },
     "metadata": {},
     "output_type": "display_data"
    }
   ],
   "source": [
    "surv = 0\n",
    "for (i in 1:456){\n",
    "    if ( f(i)== \"생존\"){\n",
    "        surv = surv + 1\n",
    "    }\n",
    "}\n",
    "surv"
   ]
  },
  {
   "cell_type": "markdown",
   "id": "130bab62-3859-4e59-ad25-5dc0a0d065ae",
   "metadata": {},
   "source": [
    "생존자는 85명이다."
   ]
  },
  {
   "cell_type": "markdown",
   "id": "66d44080-37f9-4f85-850f-ac1a2e299475",
   "metadata": {
    "id": "66d44080-37f9-4f85-850f-ac1a2e299475"
   },
   "source": [
    "### `9.` 다음을 잘 읽고 시각화 하라. (15점)"
   ]
  },
  {
   "cell_type": "markdown",
   "id": "d5ad8bf3-1e74-47bd-8c51-1364d8b4c3c5",
   "metadata": {
    "id": "d5ad8bf3-1e74-47bd-8c51-1364d8b4c3c5"
   },
   "source": [
    "다음은 인터넷에서 어떠한 자료를 다운받아 매트릭스로 저장하는 코드이다. \n",
    "```R\n",
    "df=read.csv(\"https://raw.githubusercontent.com/miruetoto/yechan/master/_notebooks/round2.csv\")\n",
    "mat=as.matrix(df)\n",
    "```\n",
    "매트릭스는 `mat`이라는 변수에 저장되어 있다. "
   ]
  },
  {
   "cell_type": "markdown",
   "id": "999da42a-94e6-422b-91e0-d67fb711dfb9",
   "metadata": {
    "id": "999da42a-94e6-422b-91e0-d67fb711dfb9"
   },
   "source": [
    "#### (a) mat의 첫번째 열을 $x$, 두번째열을 $y$로 생각하고 plot함수를 통하여 아래와 같은 산점도를 그려라. "
   ]
  },
  {
   "cell_type": "markdown",
   "id": "86844ffa-aaa7-4844-8e68-17ec288634df",
   "metadata": {
    "id": "86844ffa-aaa7-4844-8e68-17ec288634df"
   },
   "source": [
    "![](https://github.com/miruetoto/yechan/blob/master/_notebooks/fig1.png?raw=true)"
   ]
  },
  {
   "cell_type": "code",
   "execution_count": 21,
   "id": "fb8bb37f-8f58-463e-8a74-94d2048ddf02",
   "metadata": {},
   "outputs": [
    {
     "data": {
      "image/png": "[encoded data removed]",
      "text/plain": [
       "plot without title"
      ]
     },
     "metadata": {
      "image/png": {
       "height": 600,
       "width": 600
      }
     },
     "output_type": "display_data"
    }
   ],
   "source": [
    "df=read.csv(\"https://raw.githubusercontent.com/miruetoto/yechan/master/_notebooks/round2.csv\")\n",
    "mat=as.matrix(df)\n",
    "plot(mat[,1], mat[,2])"
   ]
  },
  {
   "cell_type": "markdown",
   "id": "151e7140-4578-415a-8998-7e356e91aa6e",
   "metadata": {
    "id": "151e7140-4578-415a-8998-7e356e91aa6e"
   },
   "source": [
    "#### (b) 매트릭스의 첫번째 행(first row)를 출력하는 코드를 작성하라.\n",
    "\n",
    "`-` 힌트: 출력결과는 (12,313)이 나와야 한다. "
   ]
  },
  {
   "cell_type": "code",
   "execution_count": 22,
   "id": "f7553774-d74b-4595-822e-262fd4cb4168",
   "metadata": {},
   "outputs": [
    {
     "data": {
      "text/html": [
       "<style>\n",
       ".dl-inline {width: auto; margin:0; padding: 0}\n",
       ".dl-inline>dt, .dl-inline>dd {float: none; width: auto; display: inline-block}\n",
       ".dl-inline>dt::after {content: \":\\0020\"; padding-right: .5ex}\n",
       ".dl-inline>dt:not(:first-of-type) {padding-left: .5ex}\n",
       "</style><dl class=dl-inline><dt>x</dt><dd>12</dd><dt>y</dt><dd>313</dd></dl>\n"
      ],
      "text/plain": [
       "  x   y \n",
       " 12 313 "
      ]
     },
     "metadata": {},
     "output_type": "display_data"
    }
   ],
   "source": [
    "mat[1,]"
   ]
  },
  {
   "cell_type": "markdown",
   "id": "5826c5df-69d7-4223-8a12-170cd5785afb",
   "metadata": {
    "id": "5826c5df-69d7-4223-8a12-170cd5785afb",
    "tags": []
   },
   "source": [
    "#### (c) (b)의 결과에 아래의 연산을 수행하는 코드를 작성하라. "
   ]
  },
  {
   "cell_type": "markdown",
   "id": "b533a8e5-9eb4-4a80-b1a8-a0a403f67d4d",
   "metadata": {
    "id": "b533a8e5-9eb4-4a80-b1a8-a0a403f67d4d"
   },
   "source": [
    "$$\n",
    "\\begin{bmatrix}\n",
    "0 & -1 \\\\\n",
    "-1 & 0 \n",
    "\\end{bmatrix} \\begin{bmatrix}\n",
    "12 \\\\\n",
    "313\n",
    "\\end{bmatrix} \n",
    "$$"
   ]
  },
  {
   "cell_type": "code",
   "execution_count": 23,
   "id": "bdf32f59-5be0-4036-8de2-4f6132e37228",
   "metadata": {},
   "outputs": [
    {
     "data": {
      "text/html": [
       "<table class=\"dataframe\">\n",
       "<caption>A matrix: 2 × 1 of type dbl</caption>\n",
       "<tbody>\n",
       "\t<tr><td>-313</td></tr>\n",
       "\t<tr><td> -12</td></tr>\n",
       "</tbody>\n",
       "</table>\n"
      ],
      "text/plain": [
       "     [,1]\n",
       "[1,] -313\n",
       "[2,]  -12"
      ]
     },
     "metadata": {},
     "output_type": "display_data"
    }
   ],
   "source": [
    "A = rbind(c(0, -1), c(-1,0))\n",
    "B = rbind(c(12, 313))\n",
    "dim(B) = c(2,1)\n",
    "\n",
    "A%*%B"
   ]
  },
  {
   "cell_type": "markdown",
   "id": "9de011d6-ec00-4e3f-b337-f3b1bab0b12b",
   "metadata": {
    "id": "9de011d6-ec00-4e3f-b337-f3b1bab0b12b",
    "tags": []
   },
   "source": [
    "#### (d) (b)-(c) 과정을 mat의 모등행에 반복하여 새로운 매트릭스를 만들어라. \n",
    "\n",
    "`-` 힌트: 아래의 과정을 따른다.  \n",
    "- (i) mat와 동일한 dim을 가진 mat2를 만든다. \n",
    "- (ii) mat의 첫번째 행에 (b)-(c)의 과정을 적용하여 길이가 2인 벡터를 얻는다. \n",
    "- (iii) (ii)의 과정에서 얻은 벡터를 새로운 매트릭스의 첫번째 행에 넣는다. \n",
    "- (iv) mat의 두번째 행에 대하여 (ii)-(iii)의 과정을 반복한다. 이후 세번째, 네번째 행에 대하여 (ii)-(iii)의 과정을 반복한다. "
   ]
  },
  {
   "cell_type": "code",
   "execution_count": 24,
   "id": "9e5c7ff1-748e-4e83-92e8-fc2a908a6133",
   "metadata": {},
   "outputs": [
    {
     "data": {
      "text/html": [
       "<style>\n",
       ".list-inline {list-style: none; margin:0; padding: 0}\n",
       ".list-inline>li {display: inline-block}\n",
       ".list-inline>li:not(:last-child)::after {content: \"\\00b7\"; padding: 0 .5ex}\n",
       "</style>\n",
       "<ol class=list-inline><li>5513</li><li>2</li></ol>\n"
      ],
      "text/plain": [
       "[1] 5513    2"
      ]
     },
     "metadata": {},
     "output_type": "display_data"
    },
    {
     "data": {
      "text/html": [
       "<table class=\"dataframe\">\n",
       "<caption>A matrix: 5513 × 2 of type dbl</caption>\n",
       "<thead>\n",
       "\t<tr><th scope=col>x</th><th scope=col>y</th></tr>\n",
       "</thead>\n",
       "<tbody>\n",
       "\t<tr><td>-313</td><td>-12</td></tr>\n",
       "\t<tr><td>-314</td><td>-12</td></tr>\n",
       "\t<tr><td>-279</td><td>-13</td></tr>\n",
       "\t<tr><td>-311</td><td>-13</td></tr>\n",
       "\t<tr><td>-312</td><td>-13</td></tr>\n",
       "\t<tr><td>-313</td><td>-13</td></tr>\n",
       "\t<tr><td>-314</td><td>-13</td></tr>\n",
       "\t<tr><td>-315</td><td>-13</td></tr>\n",
       "\t<tr><td>-308</td><td>-14</td></tr>\n",
       "\t<tr><td>-309</td><td>-14</td></tr>\n",
       "\t<tr><td>-310</td><td>-14</td></tr>\n",
       "\t<tr><td>-311</td><td>-14</td></tr>\n",
       "\t<tr><td>-312</td><td>-14</td></tr>\n",
       "\t<tr><td>-313</td><td>-14</td></tr>\n",
       "\t<tr><td>-314</td><td>-14</td></tr>\n",
       "\t<tr><td>-315</td><td>-14</td></tr>\n",
       "\t<tr><td>-316</td><td>-14</td></tr>\n",
       "\t<tr><td>-317</td><td>-14</td></tr>\n",
       "\t<tr><td>-318</td><td>-14</td></tr>\n",
       "\t<tr><td>-319</td><td>-14</td></tr>\n",
       "\t<tr><td>-320</td><td>-14</td></tr>\n",
       "\t<tr><td>-321</td><td>-14</td></tr>\n",
       "\t<tr><td>-322</td><td>-14</td></tr>\n",
       "\t<tr><td>-306</td><td>-15</td></tr>\n",
       "\t<tr><td>-307</td><td>-15</td></tr>\n",
       "\t<tr><td>-308</td><td>-15</td></tr>\n",
       "\t<tr><td>-309</td><td>-15</td></tr>\n",
       "\t<tr><td>-310</td><td>-15</td></tr>\n",
       "\t<tr><td>-311</td><td>-15</td></tr>\n",
       "\t<tr><td>-313</td><td>-15</td></tr>\n",
       "\t<tr><td>⋮</td><td>⋮</td></tr>\n",
       "\t<tr><td>-375</td><td>-636</td></tr>\n",
       "\t<tr><td>-376</td><td>-636</td></tr>\n",
       "\t<tr><td>-377</td><td>-636</td></tr>\n",
       "\t<tr><td>-378</td><td>-636</td></tr>\n",
       "\t<tr><td>-379</td><td>-636</td></tr>\n",
       "\t<tr><td>-380</td><td>-636</td></tr>\n",
       "\t<tr><td>-381</td><td>-636</td></tr>\n",
       "\t<tr><td>-382</td><td>-636</td></tr>\n",
       "\t<tr><td>-383</td><td>-636</td></tr>\n",
       "\t<tr><td>-384</td><td>-636</td></tr>\n",
       "\t<tr><td>-385</td><td>-636</td></tr>\n",
       "\t<tr><td>-386</td><td>-636</td></tr>\n",
       "\t<tr><td>-391</td><td>-636</td></tr>\n",
       "\t<tr><td>-392</td><td>-636</td></tr>\n",
       "\t<tr><td>-393</td><td>-636</td></tr>\n",
       "\t<tr><td>-394</td><td>-636</td></tr>\n",
       "\t<tr><td>-395</td><td>-636</td></tr>\n",
       "\t<tr><td>-406</td><td>-636</td></tr>\n",
       "\t<tr><td>-407</td><td>-636</td></tr>\n",
       "\t<tr><td>-408</td><td>-636</td></tr>\n",
       "\t<tr><td>-409</td><td>-636</td></tr>\n",
       "\t<tr><td>-410</td><td>-636</td></tr>\n",
       "\t<tr><td>-411</td><td>-636</td></tr>\n",
       "\t<tr><td>-412</td><td>-636</td></tr>\n",
       "\t<tr><td>-413</td><td>-636</td></tr>\n",
       "\t<tr><td>-414</td><td>-636</td></tr>\n",
       "\t<tr><td>-415</td><td>-636</td></tr>\n",
       "\t<tr><td>-416</td><td>-636</td></tr>\n",
       "\t<tr><td>-417</td><td>-636</td></tr>\n",
       "\t<tr><td>-409</td><td>-637</td></tr>\n",
       "</tbody>\n",
       "</table>\n"
      ],
      "text/plain": [
       "      x    y   \n",
       " [1,] -313 -12 \n",
       " [2,] -314 -12 \n",
       " [3,] -279 -13 \n",
       " [4,] -311 -13 \n",
       " [5,] -312 -13 \n",
       " [6,] -313 -13 \n",
       " [7,] -314 -13 \n",
       " [8,] -315 -13 \n",
       " [9,] -308 -14 \n",
       "[10,] -309 -14 \n",
       "[11,] -310 -14 \n",
       "[12,] -311 -14 \n",
       "[13,] -312 -14 \n",
       "[14,] -313 -14 \n",
       "[15,] -314 -14 \n",
       "[16,] -315 -14 \n",
       "[17,] -316 -14 \n",
       "[18,] -317 -14 \n",
       "[19,] -318 -14 \n",
       "[20,] -319 -14 \n",
       "[21,] -320 -14 \n",
       "[22,] -321 -14 \n",
       "[23,] -322 -14 \n",
       "[24,] -306 -15 \n",
       "[25,] -307 -15 \n",
       "[26,] -308 -15 \n",
       "[27,] -309 -15 \n",
       "[28,] -310 -15 \n",
       "[29,] -311 -15 \n",
       "[30,] -313 -15 \n",
       "[31,] <U+22EE> <U+22EE>\n",
       "[32,] -375 -636\n",
       "[33,] -376 -636\n",
       "[34,] -377 -636\n",
       "[35,] -378 -636\n",
       "[36,] -379 -636\n",
       "[37,] -380 -636\n",
       "[38,] -381 -636\n",
       "[39,] -382 -636\n",
       "[40,] -383 -636\n",
       "[41,] -384 -636\n",
       "[42,] -385 -636\n",
       "[43,] -386 -636\n",
       "[44,] -391 -636\n",
       "[45,] -392 -636\n",
       "[46,] -393 -636\n",
       "[47,] -394 -636\n",
       "[48,] -395 -636\n",
       "[49,] -406 -636\n",
       "[50,] -407 -636\n",
       "[51,] -408 -636\n",
       "[52,] -409 -636\n",
       "[53,] -410 -636\n",
       "[54,] -411 -636\n",
       "[55,] -412 -636\n",
       "[56,] -413 -636\n",
       "[57,] -414 -636\n",
       "[58,] -415 -636\n",
       "[59,] -416 -636\n",
       "[60,] -417 -636\n",
       "[61,] -409 -637"
      ]
     },
     "metadata": {},
     "output_type": "display_data"
    }
   ],
   "source": [
    "#collapse-hide\n",
    "\n",
    "mat2=mat\n",
    "for (i in 1:5513){\n",
    "    mat2[i,] = A%*%mat[i,]\n",
    "}\n",
    "dim(mat2)\n",
    "mat2"
   ]
  },
  {
   "cell_type": "markdown",
   "id": "798d8edc-fc3c-478f-a9bd-ac3295e0ab1c",
   "metadata": {
    "id": "798d8edc-fc3c-478f-a9bd-ac3295e0ab1c"
   },
   "source": [
    "#### (e) (d)의 결과로 생성되 매트릭스의 첫번째 열을 x, 두번째 열을 y로 하고 산점도를 그려라. (점의 색은 붉은색으로 하라)\n",
    "\n",
    "`-` 힌트: 아래와 같은 그림이 나와야 한다. "
   ]
  },
  {
   "cell_type": "markdown",
   "id": "2f320442-51eb-4dd6-9b1e-27662fafe2c3",
   "metadata": {
    "id": "dae29d88-b2ac-4ec2-9c47-0a49e2745ae6"
   },
   "source": [
    "![](https://github.com/miruetoto/yechan/blob/master/_notebooks/fig2.png?raw=true)"
   ]
  },
  {
   "cell_type": "code",
   "execution_count": 25,
   "id": "8c6f83dc-70e4-4a35-9fbe-8d735d501515",
   "metadata": {},
   "outputs": [
    {
     "data": {
      "image/png": "[encoded data removed]",
      "text/plain": [
       "plot without title"
      ]
     },
     "metadata": {
      "image/png": {
       "height": 600,
       "width": 600
      }
     },
     "output_type": "display_data"
    }
   ],
   "source": [
    "plot(mat2[,1], mat2[,2], col = 'RED')"
   ]
  }
 ],
 "metadata": {
  "colab": {
   "name": "2024-01-01-R입문중간고사.ipynb",
   "provenance": []
  },
  "kernelspec": {
   "display_name": "R",
   "language": "R",
   "name": "ir"
  },
  "language_info": {
   "codemirror_mode": "r",
   "file_extension": ".r",
   "mimetype": "text/x-r-source",
   "name": "R",
   "pygments_lexer": "r",
   "version": "4.0.5"
  }
 },
 "nbformat": 4,
 "nbformat_minor": 5
}
