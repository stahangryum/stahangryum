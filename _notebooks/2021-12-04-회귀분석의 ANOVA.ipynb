{
 "cells": [
  {
   "cell_type": "markdown",
   "id": "f11136ad-121c-45fd-8ddc-1822e7eeceae",
   "metadata": {},
   "source": [
    "# \"Anova in Regression Analysis\"\n",
    "> \"전북대학교 통계학 입문\"\n",
    "\n",
    "- toc: true\n",
    "- branch: master\n",
    "- badges: true\n",
    "- comments: true\n",
    "- author: Kim Jeewoo\n",
    "- categories: [Introduction to Statistics]\n",
    "- image: images/20211130linear.png"
   ]
  },
  {
   "cell_type": "markdown",
   "id": "d58396ff-7b1a-4a70-b1b9-0abe325b09f5",
   "metadata": {},
   "source": [
    "# 회귀분석의 ANOVA"
   ]
  },
  {
   "cell_type": "code",
   "execution_count": 16,
   "id": "49cf89ed-cc0a-4f04-9748-e65c36c314fb",
   "metadata": {},
   "outputs": [
    {
     "name": "stderr",
     "output_type": "stream",
     "text": [
      "-- \u001b[1mAttaching packages\u001b[22m ------------------------------------------------------------------------------- tidyverse 1.3.1 --\n",
      "\n",
      "\u001b[32mv\u001b[39m \u001b[34mggplot2\u001b[39m 3.3.5     \u001b[32mv\u001b[39m \u001b[34mpurrr  \u001b[39m 0.3.4\n",
      "\u001b[32mv\u001b[39m \u001b[34mtibble \u001b[39m 3.1.5     \u001b[32mv\u001b[39m \u001b[34mdplyr  \u001b[39m 1.0.7\n",
      "\u001b[32mv\u001b[39m \u001b[34mtidyr  \u001b[39m 1.1.4     \u001b[32mv\u001b[39m \u001b[34mstringr\u001b[39m 1.4.0\n",
      "\u001b[32mv\u001b[39m \u001b[34mreadr  \u001b[39m 2.0.2     \u001b[32mv\u001b[39m \u001b[34mforcats\u001b[39m 0.5.1\n",
      "\n",
      "-- \u001b[1mConflicts\u001b[22m ---------------------------------------------------------------------------------- tidyverse_conflicts() --\n",
      "\u001b[31mx\u001b[39m \u001b[34mdplyr\u001b[39m::\u001b[32mfilter()\u001b[39m masks \u001b[34mstats\u001b[39m::filter()\n",
      "\u001b[31mx\u001b[39m \u001b[34mdplyr\u001b[39m::\u001b[32mlag()\u001b[39m    masks \u001b[34mstats\u001b[39m::lag()\n",
      "\n"
     ]
    }
   ],
   "source": [
    "library(tidyverse)"
   ]
  },
  {
   "cell_type": "code",
   "execution_count": 2,
   "id": "40606e2a-b704-47ff-b6b9-5f4fa5a1286a",
   "metadata": {},
   "outputs": [],
   "source": [
    "file_url <- \"http://www.lock5stat.com/datasets2e/Cereal.csv\""
   ]
  },
  {
   "cell_type": "code",
   "execution_count": 3,
   "id": "f8792f7b-80f8-4291-8f82-145f40beb718",
   "metadata": {},
   "outputs": [],
   "source": [
    "cereal = read.csv(file_url)"
   ]
  },
  {
   "cell_type": "code",
   "execution_count": 4,
   "id": "1bf94f76-958d-46e4-bd66-51b69682a0c3",
   "metadata": {},
   "outputs": [],
   "source": [
    "fit = lm(Calories ~ Sugars, data=cereal)"
   ]
  },
  {
   "cell_type": "code",
   "execution_count": 5,
   "id": "e5e44d0c-c91d-47f0-94e5-31a100d5a7a0",
   "metadata": {},
   "outputs": [
    {
     "data": {
      "text/plain": [
       "\n",
       "Call:\n",
       "lm(formula = Calories ~ Sugars, data = cereal)\n",
       "\n",
       "Residuals:\n",
       "    Min      1Q  Median      3Q     Max \n",
       "-36.574 -25.282  -2.549  17.796  51.805 \n",
       "\n",
       "Coefficients:\n",
       "            Estimate Std. Error t value Pr(>|t|)    \n",
       "(Intercept)  88.9204    10.8120   8.224 5.96e-09 ***\n",
       "Sugars        4.3103     0.9269   4.650 7.22e-05 ***\n",
       "---\n",
       "Signif. codes:  0 '***' 0.001 '**' 0.01 '*' 0.05 '.' 0.1 ' ' 1\n",
       "\n",
       "Residual standard error: 26.61 on 28 degrees of freedom\n",
       "Multiple R-squared:  0.4357,\tAdjusted R-squared:  0.4156 \n",
       "F-statistic: 21.62 on 1 and 28 DF,  p-value: 7.217e-05\n"
      ]
     },
     "metadata": {},
     "output_type": "display_data"
    }
   ],
   "source": [
    "summary(fit)"
   ]
  },
  {
   "cell_type": "code",
   "execution_count": 6,
   "id": "74b749d8-1c1b-482d-8cee-968307c60d73",
   "metadata": {},
   "outputs": [
    {
     "data": {
      "text/html": [
       "<table class=\"dataframe\">\n",
       "<caption>A anova: 2 × 5</caption>\n",
       "<thead>\n",
       "\t<tr><th></th><th scope=col>Df</th><th scope=col>Sum Sq</th><th scope=col>Mean Sq</th><th scope=col>F value</th><th scope=col>Pr(&gt;F)</th></tr>\n",
       "\t<tr><th></th><th scope=col>&lt;int&gt;</th><th scope=col>&lt;dbl&gt;</th><th scope=col>&lt;dbl&gt;</th><th scope=col>&lt;dbl&gt;</th><th scope=col>&lt;dbl&gt;</th></tr>\n",
       "</thead>\n",
       "<tbody>\n",
       "\t<tr><th scope=row>Sugars</th><td> 1</td><td>15316.51</td><td>15316.5131</td><td>21.62296</td><td>7.217205e-05</td></tr>\n",
       "\t<tr><th scope=row>Residuals</th><td>28</td><td>19833.65</td><td>  708.3448</td><td>      NA</td><td>          NA</td></tr>\n",
       "</tbody>\n",
       "</table>\n"
      ],
      "text/latex": [
       "A anova: 2 × 5\n",
       "\\begin{tabular}{r|lllll}\n",
       "  & Df & Sum Sq & Mean Sq & F value & Pr(>F)\\\\\n",
       "  & <int> & <dbl> & <dbl> & <dbl> & <dbl>\\\\\n",
       "\\hline\n",
       "\tSugars &  1 & 15316.51 & 15316.5131 & 21.62296 & 7.217205e-05\\\\\n",
       "\tResiduals & 28 & 19833.65 &   708.3448 &       NA &           NA\\\\\n",
       "\\end{tabular}\n"
      ],
      "text/markdown": [
       "\n",
       "A anova: 2 × 5\n",
       "\n",
       "| <!--/--> | Df &lt;int&gt; | Sum Sq &lt;dbl&gt; | Mean Sq &lt;dbl&gt; | F value &lt;dbl&gt; | Pr(&gt;F) &lt;dbl&gt; |\n",
       "|---|---|---|---|---|---|\n",
       "| Sugars |  1 | 15316.51 | 15316.5131 | 21.62296 | 7.217205e-05 |\n",
       "| Residuals | 28 | 19833.65 |   708.3448 |       NA |           NA |\n",
       "\n"
      ],
      "text/plain": [
       "          Df Sum Sq   Mean Sq    F value  Pr(>F)      \n",
       "Sugars     1 15316.51 15316.5131 21.62296 7.217205e-05\n",
       "Residuals 28 19833.65   708.3448       NA           NA"
      ]
     },
     "metadata": {},
     "output_type": "display_data"
    }
   ],
   "source": [
    "anova(fit)"
   ]
  },
  {
   "cell_type": "code",
   "execution_count": 7,
   "id": "fad4a414-ccb6-4f7c-9a98-69933be193ff",
   "metadata": {},
   "outputs": [
    {
     "data": {
      "text/html": [
       "35150.1666666667"
      ],
      "text/latex": [
       "35150.1666666667"
      ],
      "text/markdown": [
       "35150.1666666667"
      ],
      "text/plain": [
       "[1] 35150.17"
      ]
     },
     "metadata": {},
     "output_type": "display_data"
    }
   ],
   "source": [
    "sum( (cereal$Calories - mean(cereal$Calories))^2)"
   ]
  },
  {
   "cell_type": "markdown",
   "id": "0e2c46e5-13c8-4de0-a5d9-cec7cf89c34e",
   "metadata": {},
   "source": [
    "## Example 5.14"
   ]
  },
  {
   "cell_type": "code",
   "execution_count": 8,
   "id": "6812cf67-54fa-4627-85f4-0fdbe8179564",
   "metadata": {},
   "outputs": [
    {
     "data": {
      "text/plain": [
       "\n",
       "Call:\n",
       "lm(formula = Calories ~ Sugars, data = cereal)\n",
       "\n",
       "Residuals:\n",
       "    Min      1Q  Median      3Q     Max \n",
       "-36.574 -25.282  -2.549  17.796  51.805 \n",
       "\n",
       "Coefficients:\n",
       "            Estimate Std. Error t value Pr(>|t|)    \n",
       "(Intercept)  88.9204    10.8120   8.224 5.96e-09 ***\n",
       "Sugars        4.3103     0.9269   4.650 7.22e-05 ***\n",
       "---\n",
       "Signif. codes:  0 '***' 0.001 '**' 0.01 '*' 0.05 '.' 0.1 ' ' 1\n",
       "\n",
       "Residual standard error: 26.61 on 28 degrees of freedom\n",
       "Multiple R-squared:  0.4357,\tAdjusted R-squared:  0.4156 \n",
       "F-statistic: 21.62 on 1 and 28 DF,  p-value: 7.217e-05\n"
      ]
     },
     "metadata": {},
     "output_type": "display_data"
    }
   ],
   "source": [
    "fit1 = lm(Calories ~ Sugars, data=cereal)\n",
    "summary(fit1)"
   ]
  },
  {
   "cell_type": "code",
   "execution_count": 21,
   "id": "e995a65f-d44c-422d-9a7a-8f679597489d",
   "metadata": {},
   "outputs": [
    {
     "data": {
      "text/html": [
       "<table class=\"dataframe\">\n",
       "<caption>A tibble: 2 × 5</caption>\n",
       "<thead>\n",
       "\t<tr><th scope=col>Df</th><th scope=col>Sum Sq</th><th scope=col>Mean Sq</th><th scope=col>F value</th><th scope=col>Pr(&gt;F)</th></tr>\n",
       "\t<tr><th scope=col>&lt;int&gt;</th><th scope=col>&lt;dbl&gt;</th><th scope=col>&lt;dbl&gt;</th><th scope=col>&lt;dbl&gt;</th><th scope=col>&lt;dbl&gt;</th></tr>\n",
       "</thead>\n",
       "<tbody>\n",
       "\t<tr><td> 1</td><td> 3241.282</td><td>3241.282</td><td>2.844221</td><td>0.1028158</td></tr>\n",
       "\t<tr><td>28</td><td>31908.884</td><td>1139.603</td><td>      NA</td><td>       NA</td></tr>\n",
       "</tbody>\n",
       "</table>\n"
      ],
      "text/latex": [
       "A tibble: 2 × 5\n",
       "\\begin{tabular}{lllll}\n",
       " Df & Sum Sq & Mean Sq & F value & Pr(>F)\\\\\n",
       " <int> & <dbl> & <dbl> & <dbl> & <dbl>\\\\\n",
       "\\hline\n",
       "\t  1 &  3241.282 & 3241.282 & 2.844221 & 0.1028158\\\\\n",
       "\t 28 & 31908.884 & 1139.603 &       NA &        NA\\\\\n",
       "\\end{tabular}\n"
      ],
      "text/markdown": [
       "\n",
       "A tibble: 2 × 5\n",
       "\n",
       "| Df &lt;int&gt; | Sum Sq &lt;dbl&gt; | Mean Sq &lt;dbl&gt; | F value &lt;dbl&gt; | Pr(&gt;F) &lt;dbl&gt; |\n",
       "|---|---|---|---|---|\n",
       "|  1 |  3241.282 | 3241.282 | 2.844221 | 0.1028158 |\n",
       "| 28 | 31908.884 | 1139.603 |       NA |        NA |\n",
       "\n"
      ],
      "text/plain": [
       "  Df Sum Sq    Mean Sq  F value  Pr(>F)   \n",
       "1  1  3241.282 3241.282 2.844221 0.1028158\n",
       "2 28 31908.884 1139.603       NA        NA"
      ]
     },
     "metadata": {},
     "output_type": "display_data"
    }
   ],
   "source": [
    "fit2 = lm(Calories ~ Sodium, data=cereal)\n",
    "as_tibble(anova(fit2))"
   ]
  },
  {
   "cell_type": "code",
   "execution_count": 22,
   "id": "d30ce990-3ede-4a80-8280-323b1c3e3361",
   "metadata": {},
   "outputs": [
    {
     "data": {
      "text/plain": [
       "\n",
       "Call:\n",
       "lm(formula = Calories ~ Sodium, data = cereal)\n",
       "\n",
       "Residuals:\n",
       "    Min      1Q  Median      3Q     Max \n",
       "-47.387 -22.917  -8.006  18.747  76.233 \n",
       "\n",
       "Coefficients:\n",
       "             Estimate Std. Error t value Pr(>|t|)    \n",
       "(Intercept) 103.75873   18.86779   5.499  7.1e-06 ***\n",
       "Sodium        0.13658    0.08098   1.686    0.103    \n",
       "---\n",
       "Signif. codes:  0 '***' 0.001 '**' 0.01 '*' 0.05 '.' 0.1 ' ' 1\n",
       "\n",
       "Residual standard error: 33.76 on 28 degrees of freedom\n",
       "Multiple R-squared:  0.09221,\tAdjusted R-squared:  0.05979 \n",
       "F-statistic: 2.844 on 1 and 28 DF,  p-value: 0.1028\n"
      ]
     },
     "metadata": {},
     "output_type": "display_data"
    }
   ],
   "source": [
    "summary(fit2)"
   ]
  },
  {
   "cell_type": "code",
   "execution_count": 28,
   "id": "5533d04d-ea0a-42c8-ad35-30601359d803",
   "metadata": {},
   "outputs": [
    {
     "data": {
      "text/html": [
       "0.0809890928008326"
      ],
      "text/latex": [
       "0.0809890928008326"
      ],
      "text/markdown": [
       "0.0809890928008326"
      ],
      "text/plain": [
       "[1] 0.08098909"
      ]
     },
     "metadata": {},
     "output_type": "display_data"
    }
   ],
   "source": [
    "33.76/ (sd(cereal$Sodium)*sqrt(29))"
   ]
  },
  {
   "cell_type": "code",
   "execution_count": 27,
   "id": "f4d87b83-cf01-4b10-9c10-4b8e8c130d2e",
   "metadata": {},
   "outputs": [
    {
     "data": {
      "text/html": [
       "<table class=\"dataframe\">\n",
       "<caption>A data.frame: 30 × 10</caption>\n",
       "<thead>\n",
       "\t<tr><th scope=col>Name</th><th scope=col>Company</th><th scope=col>Serving</th><th scope=col>Calories</th><th scope=col>Fat</th><th scope=col>Sodium</th><th scope=col>Carbs</th><th scope=col>Fiber</th><th scope=col>Sugars</th><th scope=col>Protein</th></tr>\n",
       "\t<tr><th scope=col>&lt;chr&gt;</th><th scope=col>&lt;chr&gt;</th><th scope=col>&lt;dbl&gt;</th><th scope=col>&lt;int&gt;</th><th scope=col>&lt;dbl&gt;</th><th scope=col>&lt;int&gt;</th><th scope=col>&lt;int&gt;</th><th scope=col>&lt;dbl&gt;</th><th scope=col>&lt;dbl&gt;</th><th scope=col>&lt;dbl&gt;</th></tr>\n",
       "</thead>\n",
       "<tbody>\n",
       "\t<tr><td>AppleJacks           </td><td>K</td><td>1.00</td><td>117</td><td>0.6</td><td>143</td><td>27</td><td>0.5</td><td>15.0</td><td>1.0</td></tr>\n",
       "\t<tr><td>Boo Berry            </td><td>G</td><td>1.00</td><td>118</td><td>0.8</td><td>211</td><td>27</td><td>0.1</td><td>14.0</td><td>1.0</td></tr>\n",
       "\t<tr><td>Cap'n Crunch         </td><td>Q</td><td>0.75</td><td>144</td><td>2.1</td><td>269</td><td>31</td><td>1.1</td><td>16.0</td><td>1.3</td></tr>\n",
       "\t<tr><td>Cinnamon Toast Crunch</td><td>G</td><td>0.75</td><td>169</td><td>4.4</td><td>408</td><td>32</td><td>1.7</td><td>13.3</td><td>2.7</td></tr>\n",
       "\t<tr><td>Cocoa Blasts         </td><td>Q</td><td>1.00</td><td>130</td><td>1.2</td><td>135</td><td>29</td><td>0.8</td><td>16.0</td><td>1.0</td></tr>\n",
       "\t<tr><td>Cocoa Puffs          </td><td>G</td><td>1.00</td><td>117</td><td>1.0</td><td>171</td><td>26</td><td>0.8</td><td>14.0</td><td>1.0</td></tr>\n",
       "\t<tr><td>Cookie Crisp         </td><td>G</td><td>1.00</td><td>117</td><td>0.9</td><td>178</td><td>26</td><td>0.5</td><td>13.0</td><td>1.0</td></tr>\n",
       "\t<tr><td>Corn Flakes          </td><td>K</td><td>1.00</td><td>101</td><td>0.1</td><td>202</td><td>24</td><td>0.8</td><td> 3.0</td><td>2.0</td></tr>\n",
       "\t<tr><td>Corn Pops            </td><td>K</td><td>1.00</td><td>117</td><td>0.2</td><td>120</td><td>28</td><td>0.3</td><td>15.0</td><td>1.0</td></tr>\n",
       "\t<tr><td>Crispix              </td><td>K</td><td>1.00</td><td>113</td><td>0.3</td><td>229</td><td>26</td><td>0.1</td><td> 3.0</td><td>2.0</td></tr>\n",
       "\t<tr><td>Crunchy Bran         </td><td>Q</td><td>0.75</td><td>120</td><td>1.3</td><td>309</td><td>31</td><td>6.4</td><td> 8.0</td><td>1.3</td></tr>\n",
       "\t<tr><td>Froot Loops          </td><td>K</td><td>1.00</td><td>118</td><td>0.9</td><td>150</td><td>26</td><td>0.8</td><td>12.0</td><td>2.0</td></tr>\n",
       "\t<tr><td>Frosted Mini-Wheats  </td><td>K</td><td>1.00</td><td>175</td><td>0.8</td><td>  5</td><td>41</td><td>5.0</td><td>10.0</td><td>5.0</td></tr>\n",
       "\t<tr><td>Golden Grahams       </td><td>G</td><td>0.75</td><td>149</td><td>1.3</td><td>359</td><td>33</td><td>1.3</td><td>14.7</td><td>2.7</td></tr>\n",
       "\t<tr><td>Honey Nut Clusters   </td><td>G</td><td>1.00</td><td>214</td><td>2.7</td><td>249</td><td>46</td><td>2.8</td><td>17.0</td><td>4.0</td></tr>\n",
       "\t<tr><td>Honey Nut Heaven     </td><td>Q</td><td>1.00</td><td>192</td><td>3.7</td><td>216</td><td>38</td><td>3.5</td><td>13.0</td><td>4.0</td></tr>\n",
       "\t<tr><td>King Vitaman         </td><td>Q</td><td>1.50</td><td> 80</td><td>0.7</td><td>173</td><td>17</td><td>0.9</td><td> 4.0</td><td>1.3</td></tr>\n",
       "\t<tr><td>Kix                  </td><td>G</td><td>1.30</td><td> 87</td><td>0.5</td><td>205</td><td>20</td><td>0.8</td><td> 2.3</td><td>1.5</td></tr>\n",
       "\t<tr><td>Life                 </td><td>Q</td><td>0.75</td><td>160</td><td>1.9</td><td>219</td><td>33</td><td>2.7</td><td> 8.0</td><td>4.0</td></tr>\n",
       "\t<tr><td>Lucky Charms         </td><td>G</td><td>1.00</td><td>114</td><td>1.1</td><td>203</td><td>25</td><td>1.5</td><td>13.0</td><td>2.0</td></tr>\n",
       "\t<tr><td>Multi-Grain Cheerios </td><td>G</td><td>1.00</td><td>108</td><td>1.2</td><td>201</td><td>24</td><td>2.8</td><td> 6.0</td><td>2.0</td></tr>\n",
       "\t<tr><td>Product 19           </td><td>K</td><td>1.00</td><td>100</td><td>0.4</td><td>207</td><td>25</td><td>1.0</td><td> 4.0</td><td>2.0</td></tr>\n",
       "\t<tr><td>Raisin Bran          </td><td>K</td><td>1.00</td><td>195</td><td>1.6</td><td>362</td><td>47</td><td>7.3</td><td>20.0</td><td>5.0</td></tr>\n",
       "\t<tr><td>Reese's Puffs        </td><td>G</td><td>0.75</td><td>171</td><td>3.9</td><td>223</td><td>31</td><td>0.0</td><td>16.0</td><td>2.7</td></tr>\n",
       "\t<tr><td>Rice Chex            </td><td>G</td><td>1.25</td><td> 94</td><td>0.2</td><td>234</td><td>22</td><td>0.1</td><td> 1.6</td><td>1.6</td></tr>\n",
       "\t<tr><td>Rice Krispie Treats  </td><td>K</td><td>0.75</td><td>160</td><td>1.7</td><td>252</td><td>35</td><td>0.0</td><td>12.0</td><td>1.3</td></tr>\n",
       "\t<tr><td>Smart Start          </td><td>K</td><td>1.00</td><td>182</td><td>0.7</td><td>275</td><td>43</td><td>2.8</td><td>14.0</td><td>4.0</td></tr>\n",
       "\t<tr><td>Special K            </td><td>K</td><td>1.00</td><td>117</td><td>0.4</td><td>224</td><td>22</td><td>0.8</td><td> 4.0</td><td>7.0</td></tr>\n",
       "\t<tr><td>Total                </td><td>G</td><td>0.75</td><td>129</td><td>0.9</td><td>256</td><td>31</td><td>3.7</td><td> 6.7</td><td>4.0</td></tr>\n",
       "\t<tr><td>Wheaties             </td><td>G</td><td>1.00</td><td>107</td><td>1.0</td><td>218</td><td>24</td><td>3.0</td><td> 4.0</td><td>3.0</td></tr>\n",
       "</tbody>\n",
       "</table>\n"
      ],
      "text/latex": [
       "A data.frame: 30 × 10\n",
       "\\begin{tabular}{llllllllll}\n",
       " Name & Company & Serving & Calories & Fat & Sodium & Carbs & Fiber & Sugars & Protein\\\\\n",
       " <chr> & <chr> & <dbl> & <int> & <dbl> & <int> & <int> & <dbl> & <dbl> & <dbl>\\\\\n",
       "\\hline\n",
       "\t AppleJacks            & K & 1.00 & 117 & 0.6 & 143 & 27 & 0.5 & 15.0 & 1.0\\\\\n",
       "\t Boo Berry             & G & 1.00 & 118 & 0.8 & 211 & 27 & 0.1 & 14.0 & 1.0\\\\\n",
       "\t Cap'n Crunch          & Q & 0.75 & 144 & 2.1 & 269 & 31 & 1.1 & 16.0 & 1.3\\\\\n",
       "\t Cinnamon Toast Crunch & G & 0.75 & 169 & 4.4 & 408 & 32 & 1.7 & 13.3 & 2.7\\\\\n",
       "\t Cocoa Blasts          & Q & 1.00 & 130 & 1.2 & 135 & 29 & 0.8 & 16.0 & 1.0\\\\\n",
       "\t Cocoa Puffs           & G & 1.00 & 117 & 1.0 & 171 & 26 & 0.8 & 14.0 & 1.0\\\\\n",
       "\t Cookie Crisp          & G & 1.00 & 117 & 0.9 & 178 & 26 & 0.5 & 13.0 & 1.0\\\\\n",
       "\t Corn Flakes           & K & 1.00 & 101 & 0.1 & 202 & 24 & 0.8 &  3.0 & 2.0\\\\\n",
       "\t Corn Pops             & K & 1.00 & 117 & 0.2 & 120 & 28 & 0.3 & 15.0 & 1.0\\\\\n",
       "\t Crispix               & K & 1.00 & 113 & 0.3 & 229 & 26 & 0.1 &  3.0 & 2.0\\\\\n",
       "\t Crunchy Bran          & Q & 0.75 & 120 & 1.3 & 309 & 31 & 6.4 &  8.0 & 1.3\\\\\n",
       "\t Froot Loops           & K & 1.00 & 118 & 0.9 & 150 & 26 & 0.8 & 12.0 & 2.0\\\\\n",
       "\t Frosted Mini-Wheats   & K & 1.00 & 175 & 0.8 &   5 & 41 & 5.0 & 10.0 & 5.0\\\\\n",
       "\t Golden Grahams        & G & 0.75 & 149 & 1.3 & 359 & 33 & 1.3 & 14.7 & 2.7\\\\\n",
       "\t Honey Nut Clusters    & G & 1.00 & 214 & 2.7 & 249 & 46 & 2.8 & 17.0 & 4.0\\\\\n",
       "\t Honey Nut Heaven      & Q & 1.00 & 192 & 3.7 & 216 & 38 & 3.5 & 13.0 & 4.0\\\\\n",
       "\t King Vitaman          & Q & 1.50 &  80 & 0.7 & 173 & 17 & 0.9 &  4.0 & 1.3\\\\\n",
       "\t Kix                   & G & 1.30 &  87 & 0.5 & 205 & 20 & 0.8 &  2.3 & 1.5\\\\\n",
       "\t Life                  & Q & 0.75 & 160 & 1.9 & 219 & 33 & 2.7 &  8.0 & 4.0\\\\\n",
       "\t Lucky Charms          & G & 1.00 & 114 & 1.1 & 203 & 25 & 1.5 & 13.0 & 2.0\\\\\n",
       "\t Multi-Grain Cheerios  & G & 1.00 & 108 & 1.2 & 201 & 24 & 2.8 &  6.0 & 2.0\\\\\n",
       "\t Product 19            & K & 1.00 & 100 & 0.4 & 207 & 25 & 1.0 &  4.0 & 2.0\\\\\n",
       "\t Raisin Bran           & K & 1.00 & 195 & 1.6 & 362 & 47 & 7.3 & 20.0 & 5.0\\\\\n",
       "\t Reese's Puffs         & G & 0.75 & 171 & 3.9 & 223 & 31 & 0.0 & 16.0 & 2.7\\\\\n",
       "\t Rice Chex             & G & 1.25 &  94 & 0.2 & 234 & 22 & 0.1 &  1.6 & 1.6\\\\\n",
       "\t Rice Krispie Treats   & K & 0.75 & 160 & 1.7 & 252 & 35 & 0.0 & 12.0 & 1.3\\\\\n",
       "\t Smart Start           & K & 1.00 & 182 & 0.7 & 275 & 43 & 2.8 & 14.0 & 4.0\\\\\n",
       "\t Special K             & K & 1.00 & 117 & 0.4 & 224 & 22 & 0.8 &  4.0 & 7.0\\\\\n",
       "\t Total                 & G & 0.75 & 129 & 0.9 & 256 & 31 & 3.7 &  6.7 & 4.0\\\\\n",
       "\t Wheaties              & G & 1.00 & 107 & 1.0 & 218 & 24 & 3.0 &  4.0 & 3.0\\\\\n",
       "\\end{tabular}\n"
      ],
      "text/markdown": [
       "\n",
       "A data.frame: 30 × 10\n",
       "\n",
       "| Name &lt;chr&gt; | Company &lt;chr&gt; | Serving &lt;dbl&gt; | Calories &lt;int&gt; | Fat &lt;dbl&gt; | Sodium &lt;int&gt; | Carbs &lt;int&gt; | Fiber &lt;dbl&gt; | Sugars &lt;dbl&gt; | Protein &lt;dbl&gt; |\n",
       "|---|---|---|---|---|---|---|---|---|---|\n",
       "| AppleJacks            | K | 1.00 | 117 | 0.6 | 143 | 27 | 0.5 | 15.0 | 1.0 |\n",
       "| Boo Berry             | G | 1.00 | 118 | 0.8 | 211 | 27 | 0.1 | 14.0 | 1.0 |\n",
       "| Cap'n Crunch          | Q | 0.75 | 144 | 2.1 | 269 | 31 | 1.1 | 16.0 | 1.3 |\n",
       "| Cinnamon Toast Crunch | G | 0.75 | 169 | 4.4 | 408 | 32 | 1.7 | 13.3 | 2.7 |\n",
       "| Cocoa Blasts          | Q | 1.00 | 130 | 1.2 | 135 | 29 | 0.8 | 16.0 | 1.0 |\n",
       "| Cocoa Puffs           | G | 1.00 | 117 | 1.0 | 171 | 26 | 0.8 | 14.0 | 1.0 |\n",
       "| Cookie Crisp          | G | 1.00 | 117 | 0.9 | 178 | 26 | 0.5 | 13.0 | 1.0 |\n",
       "| Corn Flakes           | K | 1.00 | 101 | 0.1 | 202 | 24 | 0.8 |  3.0 | 2.0 |\n",
       "| Corn Pops             | K | 1.00 | 117 | 0.2 | 120 | 28 | 0.3 | 15.0 | 1.0 |\n",
       "| Crispix               | K | 1.00 | 113 | 0.3 | 229 | 26 | 0.1 |  3.0 | 2.0 |\n",
       "| Crunchy Bran          | Q | 0.75 | 120 | 1.3 | 309 | 31 | 6.4 |  8.0 | 1.3 |\n",
       "| Froot Loops           | K | 1.00 | 118 | 0.9 | 150 | 26 | 0.8 | 12.0 | 2.0 |\n",
       "| Frosted Mini-Wheats   | K | 1.00 | 175 | 0.8 |   5 | 41 | 5.0 | 10.0 | 5.0 |\n",
       "| Golden Grahams        | G | 0.75 | 149 | 1.3 | 359 | 33 | 1.3 | 14.7 | 2.7 |\n",
       "| Honey Nut Clusters    | G | 1.00 | 214 | 2.7 | 249 | 46 | 2.8 | 17.0 | 4.0 |\n",
       "| Honey Nut Heaven      | Q | 1.00 | 192 | 3.7 | 216 | 38 | 3.5 | 13.0 | 4.0 |\n",
       "| King Vitaman          | Q | 1.50 |  80 | 0.7 | 173 | 17 | 0.9 |  4.0 | 1.3 |\n",
       "| Kix                   | G | 1.30 |  87 | 0.5 | 205 | 20 | 0.8 |  2.3 | 1.5 |\n",
       "| Life                  | Q | 0.75 | 160 | 1.9 | 219 | 33 | 2.7 |  8.0 | 4.0 |\n",
       "| Lucky Charms          | G | 1.00 | 114 | 1.1 | 203 | 25 | 1.5 | 13.0 | 2.0 |\n",
       "| Multi-Grain Cheerios  | G | 1.00 | 108 | 1.2 | 201 | 24 | 2.8 |  6.0 | 2.0 |\n",
       "| Product 19            | K | 1.00 | 100 | 0.4 | 207 | 25 | 1.0 |  4.0 | 2.0 |\n",
       "| Raisin Bran           | K | 1.00 | 195 | 1.6 | 362 | 47 | 7.3 | 20.0 | 5.0 |\n",
       "| Reese's Puffs         | G | 0.75 | 171 | 3.9 | 223 | 31 | 0.0 | 16.0 | 2.7 |\n",
       "| Rice Chex             | G | 1.25 |  94 | 0.2 | 234 | 22 | 0.1 |  1.6 | 1.6 |\n",
       "| Rice Krispie Treats   | K | 0.75 | 160 | 1.7 | 252 | 35 | 0.0 | 12.0 | 1.3 |\n",
       "| Smart Start           | K | 1.00 | 182 | 0.7 | 275 | 43 | 2.8 | 14.0 | 4.0 |\n",
       "| Special K             | K | 1.00 | 117 | 0.4 | 224 | 22 | 0.8 |  4.0 | 7.0 |\n",
       "| Total                 | G | 0.75 | 129 | 0.9 | 256 | 31 | 3.7 |  6.7 | 4.0 |\n",
       "| Wheaties              | G | 1.00 | 107 | 1.0 | 218 | 24 | 3.0 |  4.0 | 3.0 |\n",
       "\n"
      ],
      "text/plain": [
       "   Name                  Company Serving Calories Fat Sodium Carbs Fiber Sugars\n",
       "1  AppleJacks            K       1.00    117      0.6 143    27    0.5   15.0  \n",
       "2  Boo Berry             G       1.00    118      0.8 211    27    0.1   14.0  \n",
       "3  Cap'n Crunch          Q       0.75    144      2.1 269    31    1.1   16.0  \n",
       "4  Cinnamon Toast Crunch G       0.75    169      4.4 408    32    1.7   13.3  \n",
       "5  Cocoa Blasts          Q       1.00    130      1.2 135    29    0.8   16.0  \n",
       "6  Cocoa Puffs           G       1.00    117      1.0 171    26    0.8   14.0  \n",
       "7  Cookie Crisp          G       1.00    117      0.9 178    26    0.5   13.0  \n",
       "8  Corn Flakes           K       1.00    101      0.1 202    24    0.8    3.0  \n",
       "9  Corn Pops             K       1.00    117      0.2 120    28    0.3   15.0  \n",
       "10 Crispix               K       1.00    113      0.3 229    26    0.1    3.0  \n",
       "11 Crunchy Bran          Q       0.75    120      1.3 309    31    6.4    8.0  \n",
       "12 Froot Loops           K       1.00    118      0.9 150    26    0.8   12.0  \n",
       "13 Frosted Mini-Wheats   K       1.00    175      0.8   5    41    5.0   10.0  \n",
       "14 Golden Grahams        G       0.75    149      1.3 359    33    1.3   14.7  \n",
       "15 Honey Nut Clusters    G       1.00    214      2.7 249    46    2.8   17.0  \n",
       "16 Honey Nut Heaven      Q       1.00    192      3.7 216    38    3.5   13.0  \n",
       "17 King Vitaman          Q       1.50     80      0.7 173    17    0.9    4.0  \n",
       "18 Kix                   G       1.30     87      0.5 205    20    0.8    2.3  \n",
       "19 Life                  Q       0.75    160      1.9 219    33    2.7    8.0  \n",
       "20 Lucky Charms          G       1.00    114      1.1 203    25    1.5   13.0  \n",
       "21 Multi-Grain Cheerios  G       1.00    108      1.2 201    24    2.8    6.0  \n",
       "22 Product 19            K       1.00    100      0.4 207    25    1.0    4.0  \n",
       "23 Raisin Bran           K       1.00    195      1.6 362    47    7.3   20.0  \n",
       "24 Reese's Puffs         G       0.75    171      3.9 223    31    0.0   16.0  \n",
       "25 Rice Chex             G       1.25     94      0.2 234    22    0.1    1.6  \n",
       "26 Rice Krispie Treats   K       0.75    160      1.7 252    35    0.0   12.0  \n",
       "27 Smart Start           K       1.00    182      0.7 275    43    2.8   14.0  \n",
       "28 Special K             K       1.00    117      0.4 224    22    0.8    4.0  \n",
       "29 Total                 G       0.75    129      0.9 256    31    3.7    6.7  \n",
       "30 Wheaties              G       1.00    107      1.0 218    24    3.0    4.0  \n",
       "   Protein\n",
       "1  1.0    \n",
       "2  1.0    \n",
       "3  1.3    \n",
       "4  2.7    \n",
       "5  1.0    \n",
       "6  1.0    \n",
       "7  1.0    \n",
       "8  2.0    \n",
       "9  1.0    \n",
       "10 2.0    \n",
       "11 1.3    \n",
       "12 2.0    \n",
       "13 5.0    \n",
       "14 2.7    \n",
       "15 4.0    \n",
       "16 4.0    \n",
       "17 1.3    \n",
       "18 1.5    \n",
       "19 4.0    \n",
       "20 2.0    \n",
       "21 2.0    \n",
       "22 2.0    \n",
       "23 5.0    \n",
       "24 2.7    \n",
       "25 1.6    \n",
       "26 1.3    \n",
       "27 4.0    \n",
       "28 7.0    \n",
       "29 4.0    \n",
       "30 3.0    "
      ]
     },
     "metadata": {},
     "output_type": "display_data"
    }
   ],
   "source": [
    "cereal"
   ]
  },
  {
   "cell_type": "markdown",
   "id": "252b2b9f-2be8-40db-a9af-481cc542ed0d",
   "metadata": {},
   "source": [
    "## Problem 5.4"
   ]
  },
  {
   "cell_type": "code",
   "execution_count": 29,
   "id": "317639f1-50d1-4ff6-8082-3f8951f8d37f",
   "metadata": {},
   "outputs": [
    {
     "data": {
      "text/html": [
       "<table class=\"dataframe\">\n",
       "<caption>A data.frame: 30 × 10</caption>\n",
       "<thead>\n",
       "\t<tr><th scope=col>Name</th><th scope=col>Company</th><th scope=col>Serving</th><th scope=col>Calories</th><th scope=col>Fat</th><th scope=col>Sodium</th><th scope=col>Carbs</th><th scope=col>Fiber</th><th scope=col>Sugars</th><th scope=col>Protein</th></tr>\n",
       "\t<tr><th scope=col>&lt;chr&gt;</th><th scope=col>&lt;chr&gt;</th><th scope=col>&lt;dbl&gt;</th><th scope=col>&lt;int&gt;</th><th scope=col>&lt;dbl&gt;</th><th scope=col>&lt;int&gt;</th><th scope=col>&lt;int&gt;</th><th scope=col>&lt;dbl&gt;</th><th scope=col>&lt;dbl&gt;</th><th scope=col>&lt;dbl&gt;</th></tr>\n",
       "</thead>\n",
       "<tbody>\n",
       "\t<tr><td>AppleJacks           </td><td>K</td><td>1.00</td><td>117</td><td>0.6</td><td>143</td><td>27</td><td>0.5</td><td>15.0</td><td>1.0</td></tr>\n",
       "\t<tr><td>Boo Berry            </td><td>G</td><td>1.00</td><td>118</td><td>0.8</td><td>211</td><td>27</td><td>0.1</td><td>14.0</td><td>1.0</td></tr>\n",
       "\t<tr><td>Cap'n Crunch         </td><td>Q</td><td>0.75</td><td>144</td><td>2.1</td><td>269</td><td>31</td><td>1.1</td><td>16.0</td><td>1.3</td></tr>\n",
       "\t<tr><td>Cinnamon Toast Crunch</td><td>G</td><td>0.75</td><td>169</td><td>4.4</td><td>408</td><td>32</td><td>1.7</td><td>13.3</td><td>2.7</td></tr>\n",
       "\t<tr><td>Cocoa Blasts         </td><td>Q</td><td>1.00</td><td>130</td><td>1.2</td><td>135</td><td>29</td><td>0.8</td><td>16.0</td><td>1.0</td></tr>\n",
       "\t<tr><td>Cocoa Puffs          </td><td>G</td><td>1.00</td><td>117</td><td>1.0</td><td>171</td><td>26</td><td>0.8</td><td>14.0</td><td>1.0</td></tr>\n",
       "\t<tr><td>Cookie Crisp         </td><td>G</td><td>1.00</td><td>117</td><td>0.9</td><td>178</td><td>26</td><td>0.5</td><td>13.0</td><td>1.0</td></tr>\n",
       "\t<tr><td>Corn Flakes          </td><td>K</td><td>1.00</td><td>101</td><td>0.1</td><td>202</td><td>24</td><td>0.8</td><td> 3.0</td><td>2.0</td></tr>\n",
       "\t<tr><td>Corn Pops            </td><td>K</td><td>1.00</td><td>117</td><td>0.2</td><td>120</td><td>28</td><td>0.3</td><td>15.0</td><td>1.0</td></tr>\n",
       "\t<tr><td>Crispix              </td><td>K</td><td>1.00</td><td>113</td><td>0.3</td><td>229</td><td>26</td><td>0.1</td><td> 3.0</td><td>2.0</td></tr>\n",
       "\t<tr><td>Crunchy Bran         </td><td>Q</td><td>0.75</td><td>120</td><td>1.3</td><td>309</td><td>31</td><td>6.4</td><td> 8.0</td><td>1.3</td></tr>\n",
       "\t<tr><td>Froot Loops          </td><td>K</td><td>1.00</td><td>118</td><td>0.9</td><td>150</td><td>26</td><td>0.8</td><td>12.0</td><td>2.0</td></tr>\n",
       "\t<tr><td>Frosted Mini-Wheats  </td><td>K</td><td>1.00</td><td>175</td><td>0.8</td><td>  5</td><td>41</td><td>5.0</td><td>10.0</td><td>5.0</td></tr>\n",
       "\t<tr><td>Golden Grahams       </td><td>G</td><td>0.75</td><td>149</td><td>1.3</td><td>359</td><td>33</td><td>1.3</td><td>14.7</td><td>2.7</td></tr>\n",
       "\t<tr><td>Honey Nut Clusters   </td><td>G</td><td>1.00</td><td>214</td><td>2.7</td><td>249</td><td>46</td><td>2.8</td><td>17.0</td><td>4.0</td></tr>\n",
       "\t<tr><td>Honey Nut Heaven     </td><td>Q</td><td>1.00</td><td>192</td><td>3.7</td><td>216</td><td>38</td><td>3.5</td><td>13.0</td><td>4.0</td></tr>\n",
       "\t<tr><td>King Vitaman         </td><td>Q</td><td>1.50</td><td> 80</td><td>0.7</td><td>173</td><td>17</td><td>0.9</td><td> 4.0</td><td>1.3</td></tr>\n",
       "\t<tr><td>Kix                  </td><td>G</td><td>1.30</td><td> 87</td><td>0.5</td><td>205</td><td>20</td><td>0.8</td><td> 2.3</td><td>1.5</td></tr>\n",
       "\t<tr><td>Life                 </td><td>Q</td><td>0.75</td><td>160</td><td>1.9</td><td>219</td><td>33</td><td>2.7</td><td> 8.0</td><td>4.0</td></tr>\n",
       "\t<tr><td>Lucky Charms         </td><td>G</td><td>1.00</td><td>114</td><td>1.1</td><td>203</td><td>25</td><td>1.5</td><td>13.0</td><td>2.0</td></tr>\n",
       "\t<tr><td>Multi-Grain Cheerios </td><td>G</td><td>1.00</td><td>108</td><td>1.2</td><td>201</td><td>24</td><td>2.8</td><td> 6.0</td><td>2.0</td></tr>\n",
       "\t<tr><td>Product 19           </td><td>K</td><td>1.00</td><td>100</td><td>0.4</td><td>207</td><td>25</td><td>1.0</td><td> 4.0</td><td>2.0</td></tr>\n",
       "\t<tr><td>Raisin Bran          </td><td>K</td><td>1.00</td><td>195</td><td>1.6</td><td>362</td><td>47</td><td>7.3</td><td>20.0</td><td>5.0</td></tr>\n",
       "\t<tr><td>Reese's Puffs        </td><td>G</td><td>0.75</td><td>171</td><td>3.9</td><td>223</td><td>31</td><td>0.0</td><td>16.0</td><td>2.7</td></tr>\n",
       "\t<tr><td>Rice Chex            </td><td>G</td><td>1.25</td><td> 94</td><td>0.2</td><td>234</td><td>22</td><td>0.1</td><td> 1.6</td><td>1.6</td></tr>\n",
       "\t<tr><td>Rice Krispie Treats  </td><td>K</td><td>0.75</td><td>160</td><td>1.7</td><td>252</td><td>35</td><td>0.0</td><td>12.0</td><td>1.3</td></tr>\n",
       "\t<tr><td>Smart Start          </td><td>K</td><td>1.00</td><td>182</td><td>0.7</td><td>275</td><td>43</td><td>2.8</td><td>14.0</td><td>4.0</td></tr>\n",
       "\t<tr><td>Special K            </td><td>K</td><td>1.00</td><td>117</td><td>0.4</td><td>224</td><td>22</td><td>0.8</td><td> 4.0</td><td>7.0</td></tr>\n",
       "\t<tr><td>Total                </td><td>G</td><td>0.75</td><td>129</td><td>0.9</td><td>256</td><td>31</td><td>3.7</td><td> 6.7</td><td>4.0</td></tr>\n",
       "\t<tr><td>Wheaties             </td><td>G</td><td>1.00</td><td>107</td><td>1.0</td><td>218</td><td>24</td><td>3.0</td><td> 4.0</td><td>3.0</td></tr>\n",
       "</tbody>\n",
       "</table>\n"
      ],
      "text/latex": [
       "A data.frame: 30 × 10\n",
       "\\begin{tabular}{llllllllll}\n",
       " Name & Company & Serving & Calories & Fat & Sodium & Carbs & Fiber & Sugars & Protein\\\\\n",
       " <chr> & <chr> & <dbl> & <int> & <dbl> & <int> & <int> & <dbl> & <dbl> & <dbl>\\\\\n",
       "\\hline\n",
       "\t AppleJacks            & K & 1.00 & 117 & 0.6 & 143 & 27 & 0.5 & 15.0 & 1.0\\\\\n",
       "\t Boo Berry             & G & 1.00 & 118 & 0.8 & 211 & 27 & 0.1 & 14.0 & 1.0\\\\\n",
       "\t Cap'n Crunch          & Q & 0.75 & 144 & 2.1 & 269 & 31 & 1.1 & 16.0 & 1.3\\\\\n",
       "\t Cinnamon Toast Crunch & G & 0.75 & 169 & 4.4 & 408 & 32 & 1.7 & 13.3 & 2.7\\\\\n",
       "\t Cocoa Blasts          & Q & 1.00 & 130 & 1.2 & 135 & 29 & 0.8 & 16.0 & 1.0\\\\\n",
       "\t Cocoa Puffs           & G & 1.00 & 117 & 1.0 & 171 & 26 & 0.8 & 14.0 & 1.0\\\\\n",
       "\t Cookie Crisp          & G & 1.00 & 117 & 0.9 & 178 & 26 & 0.5 & 13.0 & 1.0\\\\\n",
       "\t Corn Flakes           & K & 1.00 & 101 & 0.1 & 202 & 24 & 0.8 &  3.0 & 2.0\\\\\n",
       "\t Corn Pops             & K & 1.00 & 117 & 0.2 & 120 & 28 & 0.3 & 15.0 & 1.0\\\\\n",
       "\t Crispix               & K & 1.00 & 113 & 0.3 & 229 & 26 & 0.1 &  3.0 & 2.0\\\\\n",
       "\t Crunchy Bran          & Q & 0.75 & 120 & 1.3 & 309 & 31 & 6.4 &  8.0 & 1.3\\\\\n",
       "\t Froot Loops           & K & 1.00 & 118 & 0.9 & 150 & 26 & 0.8 & 12.0 & 2.0\\\\\n",
       "\t Frosted Mini-Wheats   & K & 1.00 & 175 & 0.8 &   5 & 41 & 5.0 & 10.0 & 5.0\\\\\n",
       "\t Golden Grahams        & G & 0.75 & 149 & 1.3 & 359 & 33 & 1.3 & 14.7 & 2.7\\\\\n",
       "\t Honey Nut Clusters    & G & 1.00 & 214 & 2.7 & 249 & 46 & 2.8 & 17.0 & 4.0\\\\\n",
       "\t Honey Nut Heaven      & Q & 1.00 & 192 & 3.7 & 216 & 38 & 3.5 & 13.0 & 4.0\\\\\n",
       "\t King Vitaman          & Q & 1.50 &  80 & 0.7 & 173 & 17 & 0.9 &  4.0 & 1.3\\\\\n",
       "\t Kix                   & G & 1.30 &  87 & 0.5 & 205 & 20 & 0.8 &  2.3 & 1.5\\\\\n",
       "\t Life                  & Q & 0.75 & 160 & 1.9 & 219 & 33 & 2.7 &  8.0 & 4.0\\\\\n",
       "\t Lucky Charms          & G & 1.00 & 114 & 1.1 & 203 & 25 & 1.5 & 13.0 & 2.0\\\\\n",
       "\t Multi-Grain Cheerios  & G & 1.00 & 108 & 1.2 & 201 & 24 & 2.8 &  6.0 & 2.0\\\\\n",
       "\t Product 19            & K & 1.00 & 100 & 0.4 & 207 & 25 & 1.0 &  4.0 & 2.0\\\\\n",
       "\t Raisin Bran           & K & 1.00 & 195 & 1.6 & 362 & 47 & 7.3 & 20.0 & 5.0\\\\\n",
       "\t Reese's Puffs         & G & 0.75 & 171 & 3.9 & 223 & 31 & 0.0 & 16.0 & 2.7\\\\\n",
       "\t Rice Chex             & G & 1.25 &  94 & 0.2 & 234 & 22 & 0.1 &  1.6 & 1.6\\\\\n",
       "\t Rice Krispie Treats   & K & 0.75 & 160 & 1.7 & 252 & 35 & 0.0 & 12.0 & 1.3\\\\\n",
       "\t Smart Start           & K & 1.00 & 182 & 0.7 & 275 & 43 & 2.8 & 14.0 & 4.0\\\\\n",
       "\t Special K             & K & 1.00 & 117 & 0.4 & 224 & 22 & 0.8 &  4.0 & 7.0\\\\\n",
       "\t Total                 & G & 0.75 & 129 & 0.9 & 256 & 31 & 3.7 &  6.7 & 4.0\\\\\n",
       "\t Wheaties              & G & 1.00 & 107 & 1.0 & 218 & 24 & 3.0 &  4.0 & 3.0\\\\\n",
       "\\end{tabular}\n"
      ],
      "text/markdown": [
       "\n",
       "A data.frame: 30 × 10\n",
       "\n",
       "| Name &lt;chr&gt; | Company &lt;chr&gt; | Serving &lt;dbl&gt; | Calories &lt;int&gt; | Fat &lt;dbl&gt; | Sodium &lt;int&gt; | Carbs &lt;int&gt; | Fiber &lt;dbl&gt; | Sugars &lt;dbl&gt; | Protein &lt;dbl&gt; |\n",
       "|---|---|---|---|---|---|---|---|---|---|\n",
       "| AppleJacks            | K | 1.00 | 117 | 0.6 | 143 | 27 | 0.5 | 15.0 | 1.0 |\n",
       "| Boo Berry             | G | 1.00 | 118 | 0.8 | 211 | 27 | 0.1 | 14.0 | 1.0 |\n",
       "| Cap'n Crunch          | Q | 0.75 | 144 | 2.1 | 269 | 31 | 1.1 | 16.0 | 1.3 |\n",
       "| Cinnamon Toast Crunch | G | 0.75 | 169 | 4.4 | 408 | 32 | 1.7 | 13.3 | 2.7 |\n",
       "| Cocoa Blasts          | Q | 1.00 | 130 | 1.2 | 135 | 29 | 0.8 | 16.0 | 1.0 |\n",
       "| Cocoa Puffs           | G | 1.00 | 117 | 1.0 | 171 | 26 | 0.8 | 14.0 | 1.0 |\n",
       "| Cookie Crisp          | G | 1.00 | 117 | 0.9 | 178 | 26 | 0.5 | 13.0 | 1.0 |\n",
       "| Corn Flakes           | K | 1.00 | 101 | 0.1 | 202 | 24 | 0.8 |  3.0 | 2.0 |\n",
       "| Corn Pops             | K | 1.00 | 117 | 0.2 | 120 | 28 | 0.3 | 15.0 | 1.0 |\n",
       "| Crispix               | K | 1.00 | 113 | 0.3 | 229 | 26 | 0.1 |  3.0 | 2.0 |\n",
       "| Crunchy Bran          | Q | 0.75 | 120 | 1.3 | 309 | 31 | 6.4 |  8.0 | 1.3 |\n",
       "| Froot Loops           | K | 1.00 | 118 | 0.9 | 150 | 26 | 0.8 | 12.0 | 2.0 |\n",
       "| Frosted Mini-Wheats   | K | 1.00 | 175 | 0.8 |   5 | 41 | 5.0 | 10.0 | 5.0 |\n",
       "| Golden Grahams        | G | 0.75 | 149 | 1.3 | 359 | 33 | 1.3 | 14.7 | 2.7 |\n",
       "| Honey Nut Clusters    | G | 1.00 | 214 | 2.7 | 249 | 46 | 2.8 | 17.0 | 4.0 |\n",
       "| Honey Nut Heaven      | Q | 1.00 | 192 | 3.7 | 216 | 38 | 3.5 | 13.0 | 4.0 |\n",
       "| King Vitaman          | Q | 1.50 |  80 | 0.7 | 173 | 17 | 0.9 |  4.0 | 1.3 |\n",
       "| Kix                   | G | 1.30 |  87 | 0.5 | 205 | 20 | 0.8 |  2.3 | 1.5 |\n",
       "| Life                  | Q | 0.75 | 160 | 1.9 | 219 | 33 | 2.7 |  8.0 | 4.0 |\n",
       "| Lucky Charms          | G | 1.00 | 114 | 1.1 | 203 | 25 | 1.5 | 13.0 | 2.0 |\n",
       "| Multi-Grain Cheerios  | G | 1.00 | 108 | 1.2 | 201 | 24 | 2.8 |  6.0 | 2.0 |\n",
       "| Product 19            | K | 1.00 | 100 | 0.4 | 207 | 25 | 1.0 |  4.0 | 2.0 |\n",
       "| Raisin Bran           | K | 1.00 | 195 | 1.6 | 362 | 47 | 7.3 | 20.0 | 5.0 |\n",
       "| Reese's Puffs         | G | 0.75 | 171 | 3.9 | 223 | 31 | 0.0 | 16.0 | 2.7 |\n",
       "| Rice Chex             | G | 1.25 |  94 | 0.2 | 234 | 22 | 0.1 |  1.6 | 1.6 |\n",
       "| Rice Krispie Treats   | K | 0.75 | 160 | 1.7 | 252 | 35 | 0.0 | 12.0 | 1.3 |\n",
       "| Smart Start           | K | 1.00 | 182 | 0.7 | 275 | 43 | 2.8 | 14.0 | 4.0 |\n",
       "| Special K             | K | 1.00 | 117 | 0.4 | 224 | 22 | 0.8 |  4.0 | 7.0 |\n",
       "| Total                 | G | 0.75 | 129 | 0.9 | 256 | 31 | 3.7 |  6.7 | 4.0 |\n",
       "| Wheaties              | G | 1.00 | 107 | 1.0 | 218 | 24 | 3.0 |  4.0 | 3.0 |\n",
       "\n"
      ],
      "text/plain": [
       "   Name                  Company Serving Calories Fat Sodium Carbs Fiber Sugars\n",
       "1  AppleJacks            K       1.00    117      0.6 143    27    0.5   15.0  \n",
       "2  Boo Berry             G       1.00    118      0.8 211    27    0.1   14.0  \n",
       "3  Cap'n Crunch          Q       0.75    144      2.1 269    31    1.1   16.0  \n",
       "4  Cinnamon Toast Crunch G       0.75    169      4.4 408    32    1.7   13.3  \n",
       "5  Cocoa Blasts          Q       1.00    130      1.2 135    29    0.8   16.0  \n",
       "6  Cocoa Puffs           G       1.00    117      1.0 171    26    0.8   14.0  \n",
       "7  Cookie Crisp          G       1.00    117      0.9 178    26    0.5   13.0  \n",
       "8  Corn Flakes           K       1.00    101      0.1 202    24    0.8    3.0  \n",
       "9  Corn Pops             K       1.00    117      0.2 120    28    0.3   15.0  \n",
       "10 Crispix               K       1.00    113      0.3 229    26    0.1    3.0  \n",
       "11 Crunchy Bran          Q       0.75    120      1.3 309    31    6.4    8.0  \n",
       "12 Froot Loops           K       1.00    118      0.9 150    26    0.8   12.0  \n",
       "13 Frosted Mini-Wheats   K       1.00    175      0.8   5    41    5.0   10.0  \n",
       "14 Golden Grahams        G       0.75    149      1.3 359    33    1.3   14.7  \n",
       "15 Honey Nut Clusters    G       1.00    214      2.7 249    46    2.8   17.0  \n",
       "16 Honey Nut Heaven      Q       1.00    192      3.7 216    38    3.5   13.0  \n",
       "17 King Vitaman          Q       1.50     80      0.7 173    17    0.9    4.0  \n",
       "18 Kix                   G       1.30     87      0.5 205    20    0.8    2.3  \n",
       "19 Life                  Q       0.75    160      1.9 219    33    2.7    8.0  \n",
       "20 Lucky Charms          G       1.00    114      1.1 203    25    1.5   13.0  \n",
       "21 Multi-Grain Cheerios  G       1.00    108      1.2 201    24    2.8    6.0  \n",
       "22 Product 19            K       1.00    100      0.4 207    25    1.0    4.0  \n",
       "23 Raisin Bran           K       1.00    195      1.6 362    47    7.3   20.0  \n",
       "24 Reese's Puffs         G       0.75    171      3.9 223    31    0.0   16.0  \n",
       "25 Rice Chex             G       1.25     94      0.2 234    22    0.1    1.6  \n",
       "26 Rice Krispie Treats   K       0.75    160      1.7 252    35    0.0   12.0  \n",
       "27 Smart Start           K       1.00    182      0.7 275    43    2.8   14.0  \n",
       "28 Special K             K       1.00    117      0.4 224    22    0.8    4.0  \n",
       "29 Total                 G       0.75    129      0.9 256    31    3.7    6.7  \n",
       "30 Wheaties              G       1.00    107      1.0 218    24    3.0    4.0  \n",
       "   Protein\n",
       "1  1.0    \n",
       "2  1.0    \n",
       "3  1.3    \n",
       "4  2.7    \n",
       "5  1.0    \n",
       "6  1.0    \n",
       "7  1.0    \n",
       "8  2.0    \n",
       "9  1.0    \n",
       "10 2.0    \n",
       "11 1.3    \n",
       "12 2.0    \n",
       "13 5.0    \n",
       "14 2.7    \n",
       "15 4.0    \n",
       "16 4.0    \n",
       "17 1.3    \n",
       "18 1.5    \n",
       "19 4.0    \n",
       "20 2.0    \n",
       "21 2.0    \n",
       "22 2.0    \n",
       "23 5.0    \n",
       "24 2.7    \n",
       "25 1.6    \n",
       "26 1.3    \n",
       "27 4.0    \n",
       "28 7.0    \n",
       "29 4.0    \n",
       "30 3.0    "
      ]
     },
     "metadata": {},
     "output_type": "display_data"
    }
   ],
   "source": [
    "cereal"
   ]
  },
  {
   "cell_type": "code",
   "execution_count": 33,
   "id": "a1c38313-f60d-48bf-b434-55817d4728fa",
   "metadata": {},
   "outputs": [
    {
     "data": {
      "text/plain": [
       "\n",
       "Call:\n",
       "lm(formula = Calories ~ Fiber, data = cereal)\n",
       "\n",
       "Residuals:\n",
       "    Min      1Q  Median      3Q     Max \n",
       "-52.889 -23.528  -5.832  17.896  71.654 \n",
       "\n",
       "Coefficients:\n",
       "            Estimate Std. Error t value Pr(>|t|)    \n",
       "(Intercept)  118.590      8.019  14.788 9.32e-15 ***\n",
       "Fiber          8.484      3.111   2.727   0.0109 *  \n",
       "---\n",
       "Signif. codes:  0 '***' 0.001 '**' 0.01 '*' 0.05 '.' 0.1 ' ' 1\n",
       "\n",
       "Residual standard error: 31.49 on 28 degrees of freedom\n",
       "Multiple R-squared:  0.2098,\tAdjusted R-squared:  0.1816 \n",
       "F-statistic: 7.436 on 1 and 28 DF,  p-value: 0.01091\n"
      ]
     },
     "metadata": {},
     "output_type": "display_data"
    }
   ],
   "source": [
    "fit = lm(Calories ~ Fiber, data = cereal)\n",
    "summary(fit)"
   ]
  },
  {
   "cell_type": "code",
   "execution_count": 39,
   "id": "3747292b-3b75-4d31-87c8-7171e7146755",
   "metadata": {},
   "outputs": [
    {
     "data": {
      "text/html": [
       "<table class=\"dataframe\">\n",
       "<caption>A anova: 2 × 5</caption>\n",
       "<thead>\n",
       "\t<tr><th></th><th scope=col>Df</th><th scope=col>Sum Sq</th><th scope=col>Mean Sq</th><th scope=col>F value</th><th scope=col>Pr(&gt;F)</th></tr>\n",
       "\t<tr><th></th><th scope=col>&lt;int&gt;</th><th scope=col>&lt;dbl&gt;</th><th scope=col>&lt;dbl&gt;</th><th scope=col>&lt;dbl&gt;</th><th scope=col>&lt;dbl&gt;</th></tr>\n",
       "</thead>\n",
       "<tbody>\n",
       "\t<tr><th scope=row>Fiber</th><td> 1</td><td> 7376.109</td><td>7376.1085</td><td>7.436113</td><td>0.01090724</td></tr>\n",
       "\t<tr><th scope=row>Residuals</th><td>28</td><td>27774.058</td><td> 991.9306</td><td>      NA</td><td>        NA</td></tr>\n",
       "</tbody>\n",
       "</table>\n"
      ],
      "text/latex": [
       "A anova: 2 × 5\n",
       "\\begin{tabular}{r|lllll}\n",
       "  & Df & Sum Sq & Mean Sq & F value & Pr(>F)\\\\\n",
       "  & <int> & <dbl> & <dbl> & <dbl> & <dbl>\\\\\n",
       "\\hline\n",
       "\tFiber &  1 &  7376.109 & 7376.1085 & 7.436113 & 0.01090724\\\\\n",
       "\tResiduals & 28 & 27774.058 &  991.9306 &       NA &         NA\\\\\n",
       "\\end{tabular}\n"
      ],
      "text/markdown": [
       "\n",
       "A anova: 2 × 5\n",
       "\n",
       "| <!--/--> | Df &lt;int&gt; | Sum Sq &lt;dbl&gt; | Mean Sq &lt;dbl&gt; | F value &lt;dbl&gt; | Pr(&gt;F) &lt;dbl&gt; |\n",
       "|---|---|---|---|---|---|\n",
       "| Fiber |  1 |  7376.109 | 7376.1085 | 7.436113 | 0.01090724 |\n",
       "| Residuals | 28 | 27774.058 |  991.9306 |       NA |         NA |\n",
       "\n"
      ],
      "text/plain": [
       "          Df Sum Sq    Mean Sq   F value  Pr(>F)    \n",
       "Fiber      1  7376.109 7376.1085 7.436113 0.01090724\n",
       "Residuals 28 27774.058  991.9306       NA         NA"
      ]
     },
     "metadata": {},
     "output_type": "display_data"
    }
   ],
   "source": [
    "anova_fit = anova(fit)\n",
    "anova_fit"
   ]
  },
  {
   "cell_type": "code",
   "execution_count": 40,
   "id": "b51d5c7e-a193-4eee-a120-e8b7b32a1bbb",
   "metadata": {},
   "outputs": [
    {
     "data": {
      "text/html": [
       "991.930648466004"
      ],
      "text/latex": [
       "991.930648466004"
      ],
      "text/markdown": [
       "991.930648466004"
      ],
      "text/plain": [
       "[1] 991.9306"
      ]
     },
     "metadata": {},
     "output_type": "display_data"
    }
   ],
   "source": [
    "anova_fit[[2,2]] / 28"
   ]
  },
  {
   "cell_type": "code",
   "execution_count": 38,
   "id": "8e889760-c7f0-4851-96f3-e49415c82acb",
   "metadata": {},
   "outputs": [
    {
     "data": {
      "text/html": [
       "7.43611312043391"
      ],
      "text/latex": [
       "7.43611312043391"
      ],
      "text/markdown": [
       "7.43611312043391"
      ],
      "text/plain": [
       "[1] 7.436113"
      ]
     },
     "metadata": {},
     "output_type": "display_data"
    }
   ],
   "source": [
    "anova_fit[[1,3]] / anova_fit[[2,3]]"
   ]
  },
  {
   "cell_type": "markdown",
   "id": "ceb72f7a-0b48-4ce2-a17b-3cd4c294cd60",
   "metadata": {},
   "source": [
    "## Problem 5.5"
   ]
  },
  {
   "cell_type": "code",
   "execution_count": 59,
   "id": "5565f847-2f90-4370-869f-82ae426153c4",
   "metadata": {},
   "outputs": [
    {
     "data": {
      "text/html": [
       "<table class=\"dataframe\">\n",
       "<caption>A data.frame: 362 × 2</caption>\n",
       "<thead>\n",
       "\t<tr><th scope=col>VerbalSAT</th><th scope=col>GPA</th></tr>\n",
       "\t<tr><th scope=col>&lt;int&gt;</th><th scope=col>&lt;dbl&gt;</th></tr>\n",
       "</thead>\n",
       "<tbody>\n",
       "\t<tr><td>540</td><td>3.13</td></tr>\n",
       "\t<tr><td>520</td><td>2.50</td></tr>\n",
       "\t<tr><td>550</td><td>2.55</td></tr>\n",
       "\t<tr><td>490</td><td>3.10</td></tr>\n",
       "\t<tr><td>720</td><td>2.70</td></tr>\n",
       "\t<tr><td>600</td><td>3.20</td></tr>\n",
       "\t<tr><td>640</td><td>2.77</td></tr>\n",
       "\t<tr><td>660</td><td>3.30</td></tr>\n",
       "\t<tr><td>550</td><td>2.80</td></tr>\n",
       "\t<tr><td>670</td><td>3.70</td></tr>\n",
       "\t<tr><td>500</td><td>2.09</td></tr>\n",
       "\t<tr><td>580</td><td>  NA</td></tr>\n",
       "\t<tr><td>530</td><td>2.90</td></tr>\n",
       "\t<tr><td>650</td><td>3.08</td></tr>\n",
       "\t<tr><td>700</td><td>  NA</td></tr>\n",
       "\t<tr><td>590</td><td>3.86</td></tr>\n",
       "\t<tr><td>600</td><td>3.00</td></tr>\n",
       "\t<tr><td>700</td><td>3.00</td></tr>\n",
       "\t<tr><td>610</td><td>3.35</td></tr>\n",
       "\t<tr><td>550</td><td>3.30</td></tr>\n",
       "\t<tr><td>550</td><td>3.40</td></tr>\n",
       "\t<tr><td>560</td><td>2.90</td></tr>\n",
       "\t<tr><td>560</td><td>3.50</td></tr>\n",
       "\t<tr><td>550</td><td>3.00</td></tr>\n",
       "\t<tr><td>550</td><td>3.30</td></tr>\n",
       "\t<tr><td>700</td><td>3.70</td></tr>\n",
       "\t<tr><td>610</td><td>3.48</td></tr>\n",
       "\t<tr><td>570</td><td>3.40</td></tr>\n",
       "\t<tr><td>550</td><td>2.50</td></tr>\n",
       "\t<tr><td>500</td><td>3.30</td></tr>\n",
       "\t<tr><td>⋮</td><td>⋮</td></tr>\n",
       "\t<tr><td>590</td><td>3.01</td></tr>\n",
       "\t<tr><td>530</td><td>2.25</td></tr>\n",
       "\t<tr><td>690</td><td>3.20</td></tr>\n",
       "\t<tr><td>550</td><td>3.35</td></tr>\n",
       "\t<tr><td>600</td><td>3.00</td></tr>\n",
       "\t<tr><td>610</td><td>3.00</td></tr>\n",
       "\t<tr><td>600</td><td>3.48</td></tr>\n",
       "\t<tr><td>750</td><td>2.88</td></tr>\n",
       "\t<tr><td>470</td><td>2.60</td></tr>\n",
       "\t<tr><td>550</td><td>2.75</td></tr>\n",
       "\t<tr><td>540</td><td>3.30</td></tr>\n",
       "\t<tr><td>530</td><td>3.25</td></tr>\n",
       "\t<tr><td>540</td><td>3.30</td></tr>\n",
       "\t<tr><td>680</td><td>3.20</td></tr>\n",
       "\t<tr><td>510</td><td>2.60</td></tr>\n",
       "\t<tr><td>500</td><td>3.00</td></tr>\n",
       "\t<tr><td>680</td><td>3.25</td></tr>\n",
       "\t<tr><td>500</td><td>3.30</td></tr>\n",
       "\t<tr><td>570</td><td>3.25</td></tr>\n",
       "\t<tr><td>540</td><td>2.83</td></tr>\n",
       "\t<tr><td>550</td><td>3.30</td></tr>\n",
       "\t<tr><td>680</td><td>3.60</td></tr>\n",
       "\t<tr><td>630</td><td>3.70</td></tr>\n",
       "\t<tr><td>650</td><td>2.83</td></tr>\n",
       "\t<tr><td>680</td><td>3.30</td></tr>\n",
       "\t<tr><td>550</td><td>3.44</td></tr>\n",
       "\t<tr><td>600</td><td>3.00</td></tr>\n",
       "\t<tr><td>540</td><td>3.27</td></tr>\n",
       "\t<tr><td>550</td><td>2.30</td></tr>\n",
       "\t<tr><td>500</td><td>2.60</td></tr>\n",
       "</tbody>\n",
       "</table>\n"
      ],
      "text/latex": [
       "A data.frame: 362 × 2\n",
       "\\begin{tabular}{ll}\n",
       " VerbalSAT & GPA\\\\\n",
       " <int> & <dbl>\\\\\n",
       "\\hline\n",
       "\t 540 & 3.13\\\\\n",
       "\t 520 & 2.50\\\\\n",
       "\t 550 & 2.55\\\\\n",
       "\t 490 & 3.10\\\\\n",
       "\t 720 & 2.70\\\\\n",
       "\t 600 & 3.20\\\\\n",
       "\t 640 & 2.77\\\\\n",
       "\t 660 & 3.30\\\\\n",
       "\t 550 & 2.80\\\\\n",
       "\t 670 & 3.70\\\\\n",
       "\t 500 & 2.09\\\\\n",
       "\t 580 &   NA\\\\\n",
       "\t 530 & 2.90\\\\\n",
       "\t 650 & 3.08\\\\\n",
       "\t 700 &   NA\\\\\n",
       "\t 590 & 3.86\\\\\n",
       "\t 600 & 3.00\\\\\n",
       "\t 700 & 3.00\\\\\n",
       "\t 610 & 3.35\\\\\n",
       "\t 550 & 3.30\\\\\n",
       "\t 550 & 3.40\\\\\n",
       "\t 560 & 2.90\\\\\n",
       "\t 560 & 3.50\\\\\n",
       "\t 550 & 3.00\\\\\n",
       "\t 550 & 3.30\\\\\n",
       "\t 700 & 3.70\\\\\n",
       "\t 610 & 3.48\\\\\n",
       "\t 570 & 3.40\\\\\n",
       "\t 550 & 2.50\\\\\n",
       "\t 500 & 3.30\\\\\n",
       "\t ⋮ & ⋮\\\\\n",
       "\t 590 & 3.01\\\\\n",
       "\t 530 & 2.25\\\\\n",
       "\t 690 & 3.20\\\\\n",
       "\t 550 & 3.35\\\\\n",
       "\t 600 & 3.00\\\\\n",
       "\t 610 & 3.00\\\\\n",
       "\t 600 & 3.48\\\\\n",
       "\t 750 & 2.88\\\\\n",
       "\t 470 & 2.60\\\\\n",
       "\t 550 & 2.75\\\\\n",
       "\t 540 & 3.30\\\\\n",
       "\t 530 & 3.25\\\\\n",
       "\t 540 & 3.30\\\\\n",
       "\t 680 & 3.20\\\\\n",
       "\t 510 & 2.60\\\\\n",
       "\t 500 & 3.00\\\\\n",
       "\t 680 & 3.25\\\\\n",
       "\t 500 & 3.30\\\\\n",
       "\t 570 & 3.25\\\\\n",
       "\t 540 & 2.83\\\\\n",
       "\t 550 & 3.30\\\\\n",
       "\t 680 & 3.60\\\\\n",
       "\t 630 & 3.70\\\\\n",
       "\t 650 & 2.83\\\\\n",
       "\t 680 & 3.30\\\\\n",
       "\t 550 & 3.44\\\\\n",
       "\t 600 & 3.00\\\\\n",
       "\t 540 & 3.27\\\\\n",
       "\t 550 & 2.30\\\\\n",
       "\t 500 & 2.60\\\\\n",
       "\\end{tabular}\n"
      ],
      "text/markdown": [
       "\n",
       "A data.frame: 362 × 2\n",
       "\n",
       "| VerbalSAT &lt;int&gt; | GPA &lt;dbl&gt; |\n",
       "|---|---|\n",
       "| 540 | 3.13 |\n",
       "| 520 | 2.50 |\n",
       "| 550 | 2.55 |\n",
       "| 490 | 3.10 |\n",
       "| 720 | 2.70 |\n",
       "| 600 | 3.20 |\n",
       "| 640 | 2.77 |\n",
       "| 660 | 3.30 |\n",
       "| 550 | 2.80 |\n",
       "| 670 | 3.70 |\n",
       "| 500 | 2.09 |\n",
       "| 580 |   NA |\n",
       "| 530 | 2.90 |\n",
       "| 650 | 3.08 |\n",
       "| 700 |   NA |\n",
       "| 590 | 3.86 |\n",
       "| 600 | 3.00 |\n",
       "| 700 | 3.00 |\n",
       "| 610 | 3.35 |\n",
       "| 550 | 3.30 |\n",
       "| 550 | 3.40 |\n",
       "| 560 | 2.90 |\n",
       "| 560 | 3.50 |\n",
       "| 550 | 3.00 |\n",
       "| 550 | 3.30 |\n",
       "| 700 | 3.70 |\n",
       "| 610 | 3.48 |\n",
       "| 570 | 3.40 |\n",
       "| 550 | 2.50 |\n",
       "| 500 | 3.30 |\n",
       "| ⋮ | ⋮ |\n",
       "| 590 | 3.01 |\n",
       "| 530 | 2.25 |\n",
       "| 690 | 3.20 |\n",
       "| 550 | 3.35 |\n",
       "| 600 | 3.00 |\n",
       "| 610 | 3.00 |\n",
       "| 600 | 3.48 |\n",
       "| 750 | 2.88 |\n",
       "| 470 | 2.60 |\n",
       "| 550 | 2.75 |\n",
       "| 540 | 3.30 |\n",
       "| 530 | 3.25 |\n",
       "| 540 | 3.30 |\n",
       "| 680 | 3.20 |\n",
       "| 510 | 2.60 |\n",
       "| 500 | 3.00 |\n",
       "| 680 | 3.25 |\n",
       "| 500 | 3.30 |\n",
       "| 570 | 3.25 |\n",
       "| 540 | 2.83 |\n",
       "| 550 | 3.30 |\n",
       "| 680 | 3.60 |\n",
       "| 630 | 3.70 |\n",
       "| 650 | 2.83 |\n",
       "| 680 | 3.30 |\n",
       "| 550 | 3.44 |\n",
       "| 600 | 3.00 |\n",
       "| 540 | 3.27 |\n",
       "| 550 | 2.30 |\n",
       "| 500 | 2.60 |\n",
       "\n"
      ],
      "text/plain": [
       "    VerbalSAT GPA \n",
       "1   540       3.13\n",
       "2   520       2.50\n",
       "3   550       2.55\n",
       "4   490       3.10\n",
       "5   720       2.70\n",
       "6   600       3.20\n",
       "7   640       2.77\n",
       "8   660       3.30\n",
       "9   550       2.80\n",
       "10  670       3.70\n",
       "11  500       2.09\n",
       "12  580         NA\n",
       "13  530       2.90\n",
       "14  650       3.08\n",
       "15  700         NA\n",
       "16  590       3.86\n",
       "17  600       3.00\n",
       "18  700       3.00\n",
       "19  610       3.35\n",
       "20  550       3.30\n",
       "21  550       3.40\n",
       "22  560       2.90\n",
       "23  560       3.50\n",
       "24  550       3.00\n",
       "25  550       3.30\n",
       "26  700       3.70\n",
       "27  610       3.48\n",
       "28  570       3.40\n",
       "29  550       2.50\n",
       "30  500       3.30\n",
       "<U+22EE>   <U+22EE>  <U+22EE>\n",
       "333 590       3.01\n",
       "334 530       2.25\n",
       "335 690       3.20\n",
       "336 550       3.35\n",
       "337 600       3.00\n",
       "338 610       3.00\n",
       "339 600       3.48\n",
       "340 750       2.88\n",
       "341 470       2.60\n",
       "342 550       2.75\n",
       "343 540       3.30\n",
       "344 530       3.25\n",
       "345 540       3.30\n",
       "346 680       3.20\n",
       "347 510       2.60\n",
       "348 500       3.00\n",
       "349 680       3.25\n",
       "350 500       3.30\n",
       "351 570       3.25\n",
       "352 540       2.83\n",
       "353 550       3.30\n",
       "354 680       3.60\n",
       "355 630       3.70\n",
       "356 650       2.83\n",
       "357 680       3.30\n",
       "358 550       3.44\n",
       "359 600       3.00\n",
       "360 540       3.27\n",
       "361 550       2.30\n",
       "362 500       2.60"
      ]
     },
     "metadata": {},
     "output_type": "display_data"
    }
   ],
   "source": [
    "file_url = \"http://www.lock5stat.com/datasets2e/StudentSurvey.csv\" \n",
    "student = read.csv(file_url)\n",
    "student %>% select(c(VerbalSAT, GPA))"
   ]
  },
  {
   "cell_type": "code",
   "execution_count": 54,
   "id": "f472051b-86ec-479e-8c43-359508698a46",
   "metadata": {},
   "outputs": [],
   "source": [
    "fit = lm(GPA ~ VerbalSAT, data = student) "
   ]
  },
  {
   "cell_type": "code",
   "execution_count": 56,
   "id": "a5f6b039-d5a7-48f6-9189-77ea94486a38",
   "metadata": {},
   "outputs": [
    {
     "data": {
      "text/plain": [
       "\n",
       "Call:\n",
       "lm(formula = GPA ~ VerbalSAT, data = student)\n",
       "\n",
       "Residuals:\n",
       "    Min      1Q  Median      3Q     Max \n",
       "-1.0936 -0.2422  0.0282  0.2550  0.9253 \n",
       "\n",
       "Coefficients:\n",
       "             Estimate Std. Error t value Pr(>|t|)    \n",
       "(Intercept) 2.0335506  0.1621397  12.542  < 2e-16 ***\n",
       "VerbalSAT   0.0018929  0.0002709   6.989 1.45e-11 ***\n",
       "---\n",
       "Signif. codes:  0 '***' 0.001 '**' 0.01 '*' 0.05 '.' 0.1 ' ' 1\n",
       "\n",
       "Residual standard error: 0.3732 on 343 degrees of freedom\n",
       "  (17 observations deleted due to missingness)\n",
       "Multiple R-squared:  0.1246,\tAdjusted R-squared:  0.1221 \n",
       "F-statistic: 48.84 on 1 and 343 DF,  p-value: 1.454e-11\n"
      ]
     },
     "metadata": {},
     "output_type": "display_data"
    }
   ],
   "source": [
    "summary(fit)"
   ]
  },
  {
   "cell_type": "code",
   "execution_count": 61,
   "id": "a004a49c-24ed-4f2e-a19a-d1e0860b7954",
   "metadata": {},
   "outputs": [
    {
     "data": {
      "text/html": [
       "3.0746456"
      ],
      "text/latex": [
       "3.0746456"
      ],
      "text/markdown": [
       "3.0746456"
      ],
      "text/plain": [
       "[1] 3.074646"
      ]
     },
     "metadata": {},
     "output_type": "display_data"
    }
   ],
   "source": [
    "x = 550\n",
    "0.0018929*x + 2.0335506"
   ]
  },
  {
   "cell_type": "code",
   "execution_count": 62,
   "id": "33fd4ec7-7b84-46e8-9164-8673f0d52be9",
   "metadata": {},
   "outputs": [
    {
     "data": {
      "text/html": [
       "<table class=\"dataframe\">\n",
       "<caption>A anova: 2 × 5</caption>\n",
       "<thead>\n",
       "\t<tr><th></th><th scope=col>Df</th><th scope=col>Sum Sq</th><th scope=col>Mean Sq</th><th scope=col>F value</th><th scope=col>Pr(&gt;F)</th></tr>\n",
       "\t<tr><th></th><th scope=col>&lt;int&gt;</th><th scope=col>&lt;dbl&gt;</th><th scope=col>&lt;dbl&gt;</th><th scope=col>&lt;dbl&gt;</th><th scope=col>&lt;dbl&gt;</th></tr>\n",
       "</thead>\n",
       "<tbody>\n",
       "\t<tr><th scope=row>VerbalSAT</th><td>  1</td><td> 6.802883</td><td>6.8028831</td><td>48.84023</td><td>1.453626e-11</td></tr>\n",
       "\t<tr><th scope=row>Residuals</th><td>343</td><td>47.775956</td><td>0.1392885</td><td>      NA</td><td>          NA</td></tr>\n",
       "</tbody>\n",
       "</table>\n"
      ],
      "text/latex": [
       "A anova: 2 × 5\n",
       "\\begin{tabular}{r|lllll}\n",
       "  & Df & Sum Sq & Mean Sq & F value & Pr(>F)\\\\\n",
       "  & <int> & <dbl> & <dbl> & <dbl> & <dbl>\\\\\n",
       "\\hline\n",
       "\tVerbalSAT &   1 &  6.802883 & 6.8028831 & 48.84023 & 1.453626e-11\\\\\n",
       "\tResiduals & 343 & 47.775956 & 0.1392885 &       NA &           NA\\\\\n",
       "\\end{tabular}\n"
      ],
      "text/markdown": [
       "\n",
       "A anova: 2 × 5\n",
       "\n",
       "| <!--/--> | Df &lt;int&gt; | Sum Sq &lt;dbl&gt; | Mean Sq &lt;dbl&gt; | F value &lt;dbl&gt; | Pr(&gt;F) &lt;dbl&gt; |\n",
       "|---|---|---|---|---|---|\n",
       "| VerbalSAT |   1 |  6.802883 | 6.8028831 | 48.84023 | 1.453626e-11 |\n",
       "| Residuals | 343 | 47.775956 | 0.1392885 |       NA |           NA |\n",
       "\n"
      ],
      "text/plain": [
       "          Df  Sum Sq    Mean Sq   F value  Pr(>F)      \n",
       "VerbalSAT   1  6.802883 6.8028831 48.84023 1.453626e-11\n",
       "Residuals 343 47.775956 0.1392885       NA           NA"
      ]
     },
     "metadata": {},
     "output_type": "display_data"
    }
   ],
   "source": [
    "anova(fit)"
   ]
  },
  {
   "cell_type": "markdown",
   "id": "b44b4325-70f4-4177-b943-9aab11e7d0b7",
   "metadata": {},
   "source": [
    "$R^2 = \\dfrac{SSModel}{SSTotal}$"
   ]
  },
  {
   "cell_type": "code",
   "execution_count": 67,
   "id": "2281521e-7124-4eb6-938d-1a8964a629b0",
   "metadata": {},
   "outputs": [
    {
     "data": {
      "text/html": [
       "0.124643235538024"
      ],
      "text/latex": [
       "0.124643235538024"
      ],
      "text/markdown": [
       "0.124643235538024"
      ],
      "text/plain": [
       "[1] 0.1246432"
      ]
     },
     "metadata": {},
     "output_type": "display_data"
    }
   ],
   "source": [
    "anova(fit)[[1,2]] / (anova(fit)[[1,2]] + anova(fit)[[2,2]])"
   ]
  },
  {
   "cell_type": "markdown",
   "id": "243eb4a1-82ff-41ef-b956-f15c2f9c3d31",
   "metadata": {},
   "source": [
    "## Problem 5.6"
   ]
  },
  {
   "cell_type": "code",
   "execution_count": 68,
   "id": "1aad0bcb-f50e-4353-9e72-2c652eafa7ff",
   "metadata": {},
   "outputs": [],
   "source": [
    "file_url = \"http://www.lock5stat.com/datasets2e/WaterStriders.csv\"\n",
    "strider = read.csv(file_url)"
   ]
  },
  {
   "cell_type": "code",
   "execution_count": 72,
   "id": "fe14cd55-3378-42b4-8fbc-9030e66ad043",
   "metadata": {},
   "outputs": [
    {
     "data": {
      "image/png": "[encoded data removed]",
      "text/plain": [
       "plot without title"
      ]
     },
     "metadata": {
      "image/png": {
       "height": 420,
       "width": 420
      }
     },
     "output_type": "display_data"
    }
   ],
   "source": [
    "strider %>% select(c(FemalesHiding, MatingActivity)) %>% plot"
   ]
  },
  {
   "cell_type": "code",
   "execution_count": 73,
   "id": "2ed0cedc-9288-44c1-adca-3198a16c1943",
   "metadata": {},
   "outputs": [],
   "source": [
    "fit = lm(MatingActivity ~ FemalesHiding, data = strider)"
   ]
  },
  {
   "cell_type": "code",
   "execution_count": 75,
   "id": "87553444-b976-40dc-985c-15fde58795e0",
   "metadata": {},
   "outputs": [
    {
     "data": {
      "text/plain": [
       "\n",
       "Call:\n",
       "lm(formula = MatingActivity ~ FemalesHiding, data = strider)\n",
       "\n",
       "Residuals:\n",
       "     Min       1Q   Median       3Q      Max \n",
       "-0.15105 -0.03703 -0.00928  0.03888  0.14763 \n",
       "\n",
       "Coefficients:\n",
       "              Estimate Std. Error t value Pr(>|t|)    \n",
       "(Intercept)    0.48014    0.04213  11.398 3.17e-06 ***\n",
       "FemalesHiding -0.32321    0.12605  -2.564   0.0334 *  \n",
       "---\n",
       "Signif. codes:  0 '***' 0.001 '**' 0.01 '*' 0.05 '.' 0.1 ' ' 1\n",
       "\n",
       "Residual standard error: 0.1013 on 8 degrees of freedom\n",
       "Multiple R-squared:  0.4511,\tAdjusted R-squared:  0.3825 \n",
       "F-statistic: 6.575 on 1 and 8 DF,  p-value: 0.03343\n"
      ]
     },
     "metadata": {},
     "output_type": "display_data"
    }
   ],
   "source": [
    "summary(fit)"
   ]
  },
  {
   "cell_type": "code",
   "execution_count": 77,
   "id": "7c2f4ea5-a347-454d-8e27-f139aea4d470",
   "metadata": {},
   "outputs": [
    {
     "data": {
      "text/html": [
       "0.318535"
      ],
      "text/latex": [
       "0.318535"
      ],
      "text/markdown": [
       "0.318535"
      ],
      "text/plain": [
       "[1] 0.318535"
      ]
     },
     "metadata": {},
     "output_type": "display_data"
    }
   ],
   "source": [
    "x = 0.5\n",
    "-0.32321 * x + 0.48014"
   ]
  },
  {
   "cell_type": "code",
   "execution_count": 79,
   "id": "22e074df-8e4c-4257-97fd-b1cc6c0b1225",
   "metadata": {},
   "outputs": [
    {
     "data": {
      "text/html": [
       "<table class=\"dataframe\">\n",
       "<caption>A anova: 2 × 5</caption>\n",
       "<thead>\n",
       "\t<tr><th></th><th scope=col>Df</th><th scope=col>Sum Sq</th><th scope=col>Mean Sq</th><th scope=col>F value</th><th scope=col>Pr(&gt;F)</th></tr>\n",
       "\t<tr><th></th><th scope=col>&lt;int&gt;</th><th scope=col>&lt;dbl&gt;</th><th scope=col>&lt;dbl&gt;</th><th scope=col>&lt;dbl&gt;</th><th scope=col>&lt;dbl&gt;</th></tr>\n",
       "</thead>\n",
       "<tbody>\n",
       "\t<tr><th scope=row>FemalesHiding</th><td>1</td><td>0.06748725</td><td>0.06748725</td><td>6.575082</td><td>0.03342822</td></tr>\n",
       "\t<tr><th scope=row>Residuals</th><td>8</td><td>0.08211275</td><td>0.01026409</td><td>      NA</td><td>        NA</td></tr>\n",
       "</tbody>\n",
       "</table>\n"
      ],
      "text/latex": [
       "A anova: 2 × 5\n",
       "\\begin{tabular}{r|lllll}\n",
       "  & Df & Sum Sq & Mean Sq & F value & Pr(>F)\\\\\n",
       "  & <int> & <dbl> & <dbl> & <dbl> & <dbl>\\\\\n",
       "\\hline\n",
       "\tFemalesHiding & 1 & 0.06748725 & 0.06748725 & 6.575082 & 0.03342822\\\\\n",
       "\tResiduals & 8 & 0.08211275 & 0.01026409 &       NA &         NA\\\\\n",
       "\\end{tabular}\n"
      ],
      "text/markdown": [
       "\n",
       "A anova: 2 × 5\n",
       "\n",
       "| <!--/--> | Df &lt;int&gt; | Sum Sq &lt;dbl&gt; | Mean Sq &lt;dbl&gt; | F value &lt;dbl&gt; | Pr(&gt;F) &lt;dbl&gt; |\n",
       "|---|---|---|---|---|---|\n",
       "| FemalesHiding | 1 | 0.06748725 | 0.06748725 | 6.575082 | 0.03342822 |\n",
       "| Residuals | 8 | 0.08211275 | 0.01026409 |       NA |         NA |\n",
       "\n"
      ],
      "text/plain": [
       "              Df Sum Sq     Mean Sq    F value  Pr(>F)    \n",
       "FemalesHiding 1  0.06748725 0.06748725 6.575082 0.03342822\n",
       "Residuals     8  0.08211275 0.01026409       NA         NA"
      ]
     },
     "metadata": {},
     "output_type": "display_data"
    }
   ],
   "source": [
    "anova(fit)"
   ]
  },
  {
   "cell_type": "code",
   "execution_count": 83,
   "id": "f04cf3b9-b067-4ace-b055-a66cc53551d5",
   "metadata": {},
   "outputs": [
    {
     "data": {
      "text/html": [
       "0.451099672437997"
      ],
      "text/latex": [
       "0.451099672437997"
      ],
      "text/markdown": [
       "0.451099672437997"
      ],
      "text/plain": [
       "[1] 0.4510997"
      ]
     },
     "metadata": {},
     "output_type": "display_data"
    }
   ],
   "source": [
    "0.06748 / (0.06748 + 0.08211)"
   ]
  },
  {
   "cell_type": "markdown",
   "id": "a2868a11-f118-4b6f-9e13-59eb22acd384",
   "metadata": {},
   "source": [
    "# 신뢰구간과 예측구간"
   ]
  },
  {
   "cell_type": "markdown",
   "id": "2aae334a-a439-4c5f-a47a-4485b855f5ad",
   "metadata": {},
   "source": [
    "## Example 5.17"
   ]
  },
  {
   "cell_type": "code",
   "execution_count": 130,
   "id": "35fa3c40-4459-4cb8-9ab5-892685741021",
   "metadata": {},
   "outputs": [],
   "source": [
    "file_url =  \"http://www.lock5stat.com/datasets2e/inkjetPrinters.csv\" "
   ]
  },
  {
   "cell_type": "code",
   "execution_count": 131,
   "id": "d75331ad-99a7-4f88-87ed-60acd19621ea",
   "metadata": {},
   "outputs": [],
   "source": [
    "inkjet = read.csv(file_url)"
   ]
  },
  {
   "cell_type": "code",
   "execution_count": 132,
   "id": "c4d982c3-c440-4daf-aa46-e534cb663f05",
   "metadata": {},
   "outputs": [],
   "source": [
    "fit = lm(Price ~ PPM, data = inkjet)"
   ]
  },
  {
   "cell_type": "code",
   "execution_count": 133,
   "id": "cc204975-4c1b-4529-a9cf-fedb73b48c2a",
   "metadata": {},
   "outputs": [
    {
     "data": {
      "text/plain": [
       "\n",
       "Call:\n",
       "lm(formula = Price ~ PPM, data = inkjet)\n",
       "\n",
       "Residuals:\n",
       "   Min     1Q Median     3Q    Max \n",
       "-79.38 -51.40  -3.49  43.85  87.76 \n",
       "\n",
       "Coefficients:\n",
       "            Estimate Std. Error t value Pr(>|t|)    \n",
       "(Intercept)   -94.22      56.40  -1.671 0.112086    \n",
       "PPM            90.88      19.49   4.663 0.000193 ***\n",
       "---\n",
       "Signif. codes:  0 '***' 0.001 '**' 0.01 '*' 0.05 '.' 0.1 ' ' 1\n",
       "\n",
       "Residual standard error: 58.55 on 18 degrees of freedom\n",
       "Multiple R-squared:  0.5471,\tAdjusted R-squared:  0.522 \n",
       "F-statistic: 21.75 on 1 and 18 DF,  p-value: 0.0001934\n"
      ]
     },
     "metadata": {},
     "output_type": "display_data"
    }
   ],
   "source": [
    "summary(fit)"
   ]
  },
  {
   "cell_type": "code",
   "execution_count": 134,
   "id": "7734bcf7-9f81-4408-b72f-aeba54464954",
   "metadata": {},
   "outputs": [],
   "source": [
    "newdata = data.frame(PPM = 3.0)"
   ]
  },
  {
   "cell_type": "code",
   "execution_count": 135,
   "id": "10d45dfa-5d75-4f80-afba-0607cf90ce78",
   "metadata": {},
   "outputs": [
    {
     "data": {
      "text/html": [
       "<table class=\"dataframe\">\n",
       "<caption>A data.frame: 1 × 1</caption>\n",
       "<thead>\n",
       "\t<tr><th scope=col>PPM</th></tr>\n",
       "\t<tr><th scope=col>&lt;dbl&gt;</th></tr>\n",
       "</thead>\n",
       "<tbody>\n",
       "\t<tr><td>3</td></tr>\n",
       "</tbody>\n",
       "</table>\n"
      ],
      "text/latex": [
       "A data.frame: 1 × 1\n",
       "\\begin{tabular}{l}\n",
       " PPM\\\\\n",
       " <dbl>\\\\\n",
       "\\hline\n",
       "\t 3\\\\\n",
       "\\end{tabular}\n"
      ],
      "text/markdown": [
       "\n",
       "A data.frame: 1 × 1\n",
       "\n",
       "| PPM &lt;dbl&gt; |\n",
       "|---|\n",
       "| 3 |\n",
       "\n"
      ],
      "text/plain": [
       "  PPM\n",
       "1 3  "
      ]
     },
     "metadata": {},
     "output_type": "display_data"
    }
   ],
   "source": [
    "newdata"
   ]
  },
  {
   "cell_type": "code",
   "execution_count": 136,
   "id": "e129c063-eaec-4845-9032-10540401d253",
   "metadata": {},
   "outputs": [
    {
     "data": {
      "text/html": [
       "<table class=\"dataframe\">\n",
       "<caption>A matrix: 1 × 3 of type dbl</caption>\n",
       "<thead>\n",
       "\t<tr><th></th><th scope=col>fit</th><th scope=col>lwr</th><th scope=col>upr</th></tr>\n",
       "</thead>\n",
       "<tbody>\n",
       "\t<tr><th scope=row>1</th><td>178.4124</td><td>52.1476</td><td>304.6773</td></tr>\n",
       "</tbody>\n",
       "</table>\n"
      ],
      "text/latex": [
       "A matrix: 1 × 3 of type dbl\n",
       "\\begin{tabular}{r|lll}\n",
       "  & fit & lwr & upr\\\\\n",
       "\\hline\n",
       "\t1 & 178.4124 & 52.1476 & 304.6773\\\\\n",
       "\\end{tabular}\n"
      ],
      "text/markdown": [
       "\n",
       "A matrix: 1 × 3 of type dbl\n",
       "\n",
       "| <!--/--> | fit | lwr | upr |\n",
       "|---|---|---|---|\n",
       "| 1 | 178.4124 | 52.1476 | 304.6773 |\n",
       "\n"
      ],
      "text/plain": [
       "  fit      lwr     upr     \n",
       "1 178.4124 52.1476 304.6773"
      ]
     },
     "metadata": {},
     "output_type": "display_data"
    }
   ],
   "source": [
    "predict(fit, newdata, interval = \"prediction\", level = 0.95)"
   ]
  },
  {
   "cell_type": "code",
   "execution_count": 137,
   "id": "ea5ee6e9-0c93-446e-bac7-fc52b97c1550",
   "metadata": {},
   "outputs": [
    {
     "data": {
      "text/html": [
       "<table class=\"dataframe\">\n",
       "<caption>A matrix: 1 × 3 of type dbl</caption>\n",
       "<thead>\n",
       "\t<tr><th></th><th scope=col>fit</th><th scope=col>lwr</th><th scope=col>upr</th></tr>\n",
       "</thead>\n",
       "<tbody>\n",
       "\t<tr><th scope=row>1</th><td>178.4124</td><td>149.8849</td><td>206.94</td></tr>\n",
       "</tbody>\n",
       "</table>\n"
      ],
      "text/latex": [
       "A matrix: 1 × 3 of type dbl\n",
       "\\begin{tabular}{r|lll}\n",
       "  & fit & lwr & upr\\\\\n",
       "\\hline\n",
       "\t1 & 178.4124 & 149.8849 & 206.94\\\\\n",
       "\\end{tabular}\n"
      ],
      "text/markdown": [
       "\n",
       "A matrix: 1 × 3 of type dbl\n",
       "\n",
       "| <!--/--> | fit | lwr | upr |\n",
       "|---|---|---|---|\n",
       "| 1 | 178.4124 | 149.8849 | 206.94 |\n",
       "\n"
      ],
      "text/plain": [
       "  fit      lwr      upr   \n",
       "1 178.4124 149.8849 206.94"
      ]
     },
     "metadata": {},
     "output_type": "display_data"
    }
   ],
   "source": [
    "predict(fit, newdata, interval = \"confidence\", level = 0.95)"
   ]
  },
  {
   "cell_type": "code",
   "execution_count": 138,
   "id": "260eb9d4-e528-4b35-a546-cecc9d29ae99",
   "metadata": {},
   "outputs": [
    {
     "data": {
      "text/plain": [
       "\n",
       "Call:\n",
       "lm(formula = Price ~ PPM, data = inkjet)\n",
       "\n",
       "Residuals:\n",
       "   Min     1Q Median     3Q    Max \n",
       "-79.38 -51.40  -3.49  43.85  87.76 \n",
       "\n",
       "Coefficients:\n",
       "            Estimate Std. Error t value Pr(>|t|)    \n",
       "(Intercept)   -94.22      56.40  -1.671 0.112086    \n",
       "PPM            90.88      19.49   4.663 0.000193 ***\n",
       "---\n",
       "Signif. codes:  0 '***' 0.001 '**' 0.01 '*' 0.05 '.' 0.1 ' ' 1\n",
       "\n",
       "Residual standard error: 58.55 on 18 degrees of freedom\n",
       "Multiple R-squared:  0.5471,\tAdjusted R-squared:  0.522 \n",
       "F-statistic: 21.75 on 1 and 18 DF,  p-value: 0.0001934\n"
      ]
     },
     "metadata": {},
     "output_type": "display_data"
    }
   ],
   "source": [
    "summary(fit)"
   ]
  },
  {
   "cell_type": "markdown",
   "id": "f005e14e-feab-4e25-9994-a5e6c79f315b",
   "metadata": {},
   "source": [
    "## Problem 5.7"
   ]
  },
  {
   "cell_type": "code",
   "execution_count": 139,
   "id": "bdbad7c2-8f50-4ee9-8478-0695a333d48a",
   "metadata": {},
   "outputs": [],
   "source": [
    "base_url = \"http://www.lock5stat.com/datasets2e/\" "
   ]
  },
  {
   "cell_type": "code",
   "execution_count": 140,
   "id": "39e9014f-5a69-4ee9-93d1-32ec6580d520",
   "metadata": {},
   "outputs": [],
   "source": [
    "file = \"SampCountries.csv\""
   ]
  },
  {
   "cell_type": "code",
   "execution_count": 141,
   "id": "31f56c84-74fa-4af2-bdb8-6f6ef376d0b0",
   "metadata": {},
   "outputs": [],
   "source": [
    "url = paste0(base_url, file)"
   ]
  },
  {
   "cell_type": "code",
   "execution_count": 142,
   "id": "677962e9-85ab-4421-9c60-9e32abe498f0",
   "metadata": {},
   "outputs": [],
   "source": [
    "samp = read.csv(url)"
   ]
  },
  {
   "cell_type": "code",
   "execution_count": 143,
   "id": "54815291-f359-4711-8583-21b908dbd555",
   "metadata": {},
   "outputs": [],
   "source": [
    "fit = lm(LifeExpectancy ~ Health, data = samp)"
   ]
  },
  {
   "cell_type": "code",
   "execution_count": 151,
   "id": "fd1f2451-d2af-4353-963f-4360737197a7",
   "metadata": {},
   "outputs": [
    {
     "data": {
      "text/html": [
       "<table class=\"dataframe\">\n",
       "<caption>A matrix: 1 × 3 of type dbl</caption>\n",
       "<thead>\n",
       "\t<tr><th></th><th scope=col>fit</th><th scope=col>lwr</th><th scope=col>upr</th></tr>\n",
       "</thead>\n",
       "<tbody>\n",
       "\t<tr><th scope=row>1</th><td>63.506</td><td>41.7928</td><td>85.2192</td></tr>\n",
       "</tbody>\n",
       "</table>\n"
      ],
      "text/latex": [
       "A matrix: 1 × 3 of type dbl\n",
       "\\begin{tabular}{r|lll}\n",
       "  & fit & lwr & upr\\\\\n",
       "\\hline\n",
       "\t1 & 63.506 & 41.7928 & 85.2192\\\\\n",
       "\\end{tabular}\n"
      ],
      "text/markdown": [
       "\n",
       "A matrix: 1 × 3 of type dbl\n",
       "\n",
       "| <!--/--> | fit | lwr | upr |\n",
       "|---|---|---|---|\n",
       "| 1 | 63.506 | 41.7928 | 85.2192 |\n",
       "\n"
      ],
      "text/plain": [
       "  fit    lwr     upr    \n",
       "1 63.506 41.7928 85.2192"
      ]
     },
     "metadata": {},
     "output_type": "display_data"
    }
   ],
   "source": [
    "predict(fit, data.frame(Health = 3), interval = \"prediction\", level = 0.95)"
   ]
  },
  {
   "cell_type": "code",
   "execution_count": 152,
   "id": "b51caeb4-6b4d-4fa7-8e52-8f82a241d24f",
   "metadata": {},
   "outputs": [
    {
     "data": {
      "text/html": [
       "<table class=\"dataframe\">\n",
       "<caption>A matrix: 1 × 3 of type dbl</caption>\n",
       "<thead>\n",
       "\t<tr><th></th><th scope=col>fit</th><th scope=col>lwr</th><th scope=col>upr</th></tr>\n",
       "</thead>\n",
       "<tbody>\n",
       "\t<tr><th scope=row>1</th><td>68.6062</td><td>47.9192</td><td>89.29321</td></tr>\n",
       "</tbody>\n",
       "</table>\n"
      ],
      "text/latex": [
       "A matrix: 1 × 3 of type dbl\n",
       "\\begin{tabular}{r|lll}\n",
       "  & fit & lwr & upr\\\\\n",
       "\\hline\n",
       "\t1 & 68.6062 & 47.9192 & 89.29321\\\\\n",
       "\\end{tabular}\n"
      ],
      "text/markdown": [
       "\n",
       "A matrix: 1 × 3 of type dbl\n",
       "\n",
       "| <!--/--> | fit | lwr | upr |\n",
       "|---|---|---|---|\n",
       "| 1 | 68.6062 | 47.9192 | 89.29321 |\n",
       "\n"
      ],
      "text/plain": [
       "  fit     lwr     upr     \n",
       "1 68.6062 47.9192 89.29321"
      ]
     },
     "metadata": {},
     "output_type": "display_data"
    }
   ],
   "source": [
    "predict(fit, data.frame(Health = 10), interval = \"prediction\", level = 0.95)"
   ]
  },
  {
   "cell_type": "code",
   "execution_count": 154,
   "id": "31a36389-f50f-4bf1-b68b-7474d60b4b9c",
   "metadata": {},
   "outputs": [
    {
     "data": {
      "text/html": [
       "<table class=\"dataframe\">\n",
       "<caption>A matrix: 1 × 3 of type dbl</caption>\n",
       "<thead>\n",
       "\t<tr><th></th><th scope=col>fit</th><th scope=col>lwr</th><th scope=col>upr</th></tr>\n",
       "</thead>\n",
       "<tbody>\n",
       "\t<tr><th scope=row>1</th><td>97.75023</td><td>63.3292</td><td>132.1713</td></tr>\n",
       "</tbody>\n",
       "</table>\n"
      ],
      "text/latex": [
       "A matrix: 1 × 3 of type dbl\n",
       "\\begin{tabular}{r|lll}\n",
       "  & fit & lwr & upr\\\\\n",
       "\\hline\n",
       "\t1 & 97.75023 & 63.3292 & 132.1713\\\\\n",
       "\\end{tabular}\n"
      ],
      "text/markdown": [
       "\n",
       "A matrix: 1 × 3 of type dbl\n",
       "\n",
       "| <!--/--> | fit | lwr | upr |\n",
       "|---|---|---|---|\n",
       "| 1 | 97.75023 | 63.3292 | 132.1713 |\n",
       "\n"
      ],
      "text/plain": [
       "  fit      lwr     upr     \n",
       "1 97.75023 63.3292 132.1713"
      ]
     },
     "metadata": {},
     "output_type": "display_data"
    }
   ],
   "source": [
    "predict(fit, data.frame(Health = 50), interval = \"prediction\", level = 0.95)"
   ]
  },
  {
   "cell_type": "markdown",
   "id": "b42deae9-bd33-4571-8380-5e47e7a72057",
   "metadata": {},
   "source": [
    "## Problem 5.8"
   ]
  },
  {
   "cell_type": "code",
   "execution_count": 163,
   "id": "e20726dd-8d48-417a-aa10-f504447040fe",
   "metadata": {},
   "outputs": [],
   "source": [
    "file = \"ElectionMargin.csv\"\n",
    "url = paste0(base_url, file)\n",
    "EM = read.csv(url)"
   ]
  },
  {
   "cell_type": "code",
   "execution_count": 168,
   "id": "687ea409-ae8d-49ac-958a-a906b4d0f4a6",
   "metadata": {},
   "outputs": [
    {
     "data": {
      "text/html": [
       "<table class=\"dataframe\">\n",
       "<caption>A data.frame: 12 × 5</caption>\n",
       "<thead>\n",
       "\t<tr><th scope=col>Year</th><th scope=col>Candidate</th><th scope=col>Approval</th><th scope=col>Margin</th><th scope=col>Result</th></tr>\n",
       "\t<tr><th scope=col>&lt;int&gt;</th><th scope=col>&lt;chr&gt;</th><th scope=col>&lt;int&gt;</th><th scope=col>&lt;dbl&gt;</th><th scope=col>&lt;chr&gt;</th></tr>\n",
       "</thead>\n",
       "<tbody>\n",
       "\t<tr><td>1940</td><td>Roosevelt </td><td>62</td><td>10.0</td><td>Won </td></tr>\n",
       "\t<tr><td>1948</td><td>Truman    </td><td>50</td><td> 4.5</td><td>Won </td></tr>\n",
       "\t<tr><td>1956</td><td>Eisenhower</td><td>70</td><td>15.4</td><td>Won </td></tr>\n",
       "\t<tr><td>1964</td><td>Johnson   </td><td>67</td><td>22.6</td><td>Won </td></tr>\n",
       "\t<tr><td>1972</td><td>Nixon     </td><td>57</td><td>23.2</td><td>Won </td></tr>\n",
       "\t<tr><td>1976</td><td>Ford      </td><td>48</td><td>-2.1</td><td>Lost</td></tr>\n",
       "\t<tr><td>1980</td><td>Carter    </td><td>31</td><td>-9.7</td><td>Lost</td></tr>\n",
       "\t<tr><td>1984</td><td>Reagan    </td><td>57</td><td>18.2</td><td>Won </td></tr>\n",
       "\t<tr><td>1992</td><td>G.H.W.Bush</td><td>39</td><td>-5.5</td><td>Lost</td></tr>\n",
       "\t<tr><td>1996</td><td>Clinton   </td><td>55</td><td> 8.5</td><td>Won </td></tr>\n",
       "\t<tr><td>2004</td><td>G.W.Bush  </td><td>49</td><td> 2.4</td><td>Won </td></tr>\n",
       "\t<tr><td>2012</td><td>Obama     </td><td>50</td><td> 3.9</td><td>Won </td></tr>\n",
       "</tbody>\n",
       "</table>\n"
      ],
      "text/latex": [
       "A data.frame: 12 × 5\n",
       "\\begin{tabular}{lllll}\n",
       " Year & Candidate & Approval & Margin & Result\\\\\n",
       " <int> & <chr> & <int> & <dbl> & <chr>\\\\\n",
       "\\hline\n",
       "\t 1940 & Roosevelt  & 62 & 10.0 & Won \\\\\n",
       "\t 1948 & Truman     & 50 &  4.5 & Won \\\\\n",
       "\t 1956 & Eisenhower & 70 & 15.4 & Won \\\\\n",
       "\t 1964 & Johnson    & 67 & 22.6 & Won \\\\\n",
       "\t 1972 & Nixon      & 57 & 23.2 & Won \\\\\n",
       "\t 1976 & Ford       & 48 & -2.1 & Lost\\\\\n",
       "\t 1980 & Carter     & 31 & -9.7 & Lost\\\\\n",
       "\t 1984 & Reagan     & 57 & 18.2 & Won \\\\\n",
       "\t 1992 & G.H.W.Bush & 39 & -5.5 & Lost\\\\\n",
       "\t 1996 & Clinton    & 55 &  8.5 & Won \\\\\n",
       "\t 2004 & G.W.Bush   & 49 &  2.4 & Won \\\\\n",
       "\t 2012 & Obama      & 50 &  3.9 & Won \\\\\n",
       "\\end{tabular}\n"
      ],
      "text/markdown": [
       "\n",
       "A data.frame: 12 × 5\n",
       "\n",
       "| Year &lt;int&gt; | Candidate &lt;chr&gt; | Approval &lt;int&gt; | Margin &lt;dbl&gt; | Result &lt;chr&gt; |\n",
       "|---|---|---|---|---|\n",
       "| 1940 | Roosevelt  | 62 | 10.0 | Won  |\n",
       "| 1948 | Truman     | 50 |  4.5 | Won  |\n",
       "| 1956 | Eisenhower | 70 | 15.4 | Won  |\n",
       "| 1964 | Johnson    | 67 | 22.6 | Won  |\n",
       "| 1972 | Nixon      | 57 | 23.2 | Won  |\n",
       "| 1976 | Ford       | 48 | -2.1 | Lost |\n",
       "| 1980 | Carter     | 31 | -9.7 | Lost |\n",
       "| 1984 | Reagan     | 57 | 18.2 | Won  |\n",
       "| 1992 | G.H.W.Bush | 39 | -5.5 | Lost |\n",
       "| 1996 | Clinton    | 55 |  8.5 | Won  |\n",
       "| 2004 | G.W.Bush   | 49 |  2.4 | Won  |\n",
       "| 2012 | Obama      | 50 |  3.9 | Won  |\n",
       "\n"
      ],
      "text/plain": [
       "   Year Candidate  Approval Margin Result\n",
       "1  1940 Roosevelt  62       10.0   Won   \n",
       "2  1948 Truman     50        4.5   Won   \n",
       "3  1956 Eisenhower 70       15.4   Won   \n",
       "4  1964 Johnson    67       22.6   Won   \n",
       "5  1972 Nixon      57       23.2   Won   \n",
       "6  1976 Ford       48       -2.1   Lost  \n",
       "7  1980 Carter     31       -9.7   Lost  \n",
       "8  1984 Reagan     57       18.2   Won   \n",
       "9  1992 G.H.W.Bush 39       -5.5   Lost  \n",
       "10 1996 Clinton    55        8.5   Won   \n",
       "11 2004 G.W.Bush   49        2.4   Won   \n",
       "12 2012 Obama      50        3.9   Won   "
      ]
     },
     "metadata": {},
     "output_type": "display_data"
    }
   ],
   "source": [
    "EM"
   ]
  },
  {
   "cell_type": "code",
   "execution_count": 169,
   "id": "5818303d-a2cd-41d2-aae5-a7acc86ec5f9",
   "metadata": {},
   "outputs": [
    {
     "data": {
      "text/html": [
       "52.9166666666667"
      ],
      "text/latex": [
       "52.9166666666667"
      ],
      "text/markdown": [
       "52.9166666666667"
      ],
      "text/plain": [
       "[1] 52.91667"
      ]
     },
     "metadata": {},
     "output_type": "display_data"
    },
    {
     "data": {
      "text/html": [
       "11.0409019174846"
      ],
      "text/latex": [
       "11.0409019174846"
      ],
      "text/markdown": [
       "11.0409019174846"
      ],
      "text/plain": [
       "[1] 11.0409"
      ]
     },
     "metadata": {},
     "output_type": "display_data"
    },
    {
     "data": {
      "text/html": [
       "7.61666666666667"
      ],
      "text/latex": [
       "7.61666666666667"
      ],
      "text/markdown": [
       "7.61666666666667"
      ],
      "text/plain": [
       "[1] 7.616667"
      ]
     },
     "metadata": {},
     "output_type": "display_data"
    },
    {
     "data": {
      "text/html": [
       "10.717261635777"
      ],
      "text/latex": [
       "10.717261635777"
      ],
      "text/markdown": [
       "10.717261635777"
      ],
      "text/plain": [
       "[1] 10.71726"
      ]
     },
     "metadata": {},
     "output_type": "display_data"
    }
   ],
   "source": [
    "EM$Approval %>% mean\n",
    "EM$Approval %>% sd\n",
    "\n",
    "EM$Margin %>% mean\n",
    "EM$Margin %>% sd"
   ]
  },
  {
   "cell_type": "code",
   "execution_count": 170,
   "id": "5b20457a-8ecf-441c-8260-f43547dd63e3",
   "metadata": {},
   "outputs": [
    {
     "data": {
      "text/plain": [
       "\n",
       "Call:\n",
       "lm(formula = Margin ~ Approval, data = EM)\n",
       "\n",
       "Residuals:\n",
       "   Min     1Q Median     3Q    Max \n",
       "-6.543 -2.758 -1.067  1.591 12.159 \n",
       "\n",
       "Coefficients:\n",
       "            Estimate Std. Error t value Pr(>|t|)    \n",
       "(Intercept) -36.7602     8.3415  -4.407 0.001321 ** \n",
       "Approval      0.8386     0.1546   5.425 0.000291 ***\n",
       "---\n",
       "Signif. codes:  0 '***' 0.001 '**' 0.01 '*' 0.05 '.' 0.1 ' ' 1\n",
       "\n",
       "Residual standard error: 5.661 on 10 degrees of freedom\n",
       "Multiple R-squared:  0.7464,\tAdjusted R-squared:  0.721 \n",
       "F-statistic: 29.43 on 1 and 10 DF,  p-value: 0.0002909\n"
      ]
     },
     "metadata": {},
     "output_type": "display_data"
    }
   ],
   "source": [
    "fit = lm(Margin ~ Approval, data= EM)\n",
    "summary(fit)"
   ]
  },
  {
   "cell_type": "code",
   "execution_count": 171,
   "id": "86091879-932d-48d1-ad20-7e3049828dc3",
   "metadata": {},
   "outputs": [
    {
     "data": {
      "text/html": [
       "<table class=\"dataframe\">\n",
       "<caption>A anova: 2 × 5</caption>\n",
       "<thead>\n",
       "\t<tr><th></th><th scope=col>Df</th><th scope=col>Sum Sq</th><th scope=col>Mean Sq</th><th scope=col>F value</th><th scope=col>Pr(&gt;F)</th></tr>\n",
       "\t<tr><th></th><th scope=col>&lt;int&gt;</th><th scope=col>&lt;dbl&gt;</th><th scope=col>&lt;dbl&gt;</th><th scope=col>&lt;dbl&gt;</th><th scope=col>&lt;dbl&gt;</th></tr>\n",
       "</thead>\n",
       "<tbody>\n",
       "\t<tr><th scope=row>Approval</th><td> 1</td><td>943.0398</td><td>943.03976</td><td>29.43165</td><td>0.0002909048</td></tr>\n",
       "\t<tr><th scope=row>Residuals</th><td>10</td><td>320.4169</td><td> 32.04169</td><td>      NA</td><td>          NA</td></tr>\n",
       "</tbody>\n",
       "</table>\n"
      ],
      "text/latex": [
       "A anova: 2 × 5\n",
       "\\begin{tabular}{r|lllll}\n",
       "  & Df & Sum Sq & Mean Sq & F value & Pr(>F)\\\\\n",
       "  & <int> & <dbl> & <dbl> & <dbl> & <dbl>\\\\\n",
       "\\hline\n",
       "\tApproval &  1 & 943.0398 & 943.03976 & 29.43165 & 0.0002909048\\\\\n",
       "\tResiduals & 10 & 320.4169 &  32.04169 &       NA &           NA\\\\\n",
       "\\end{tabular}\n"
      ],
      "text/markdown": [
       "\n",
       "A anova: 2 × 5\n",
       "\n",
       "| <!--/--> | Df &lt;int&gt; | Sum Sq &lt;dbl&gt; | Mean Sq &lt;dbl&gt; | F value &lt;dbl&gt; | Pr(&gt;F) &lt;dbl&gt; |\n",
       "|---|---|---|---|---|---|\n",
       "| Approval |  1 | 943.0398 | 943.03976 | 29.43165 | 0.0002909048 |\n",
       "| Residuals | 10 | 320.4169 |  32.04169 |       NA |           NA |\n",
       "\n"
      ],
      "text/plain": [
       "          Df Sum Sq   Mean Sq   F value  Pr(>F)      \n",
       "Approval   1 943.0398 943.03976 29.43165 0.0002909048\n",
       "Residuals 10 320.4169  32.04169       NA           NA"
      ]
     },
     "metadata": {},
     "output_type": "display_data"
    }
   ],
   "source": [
    "anova(fit)"
   ]
  },
  {
   "cell_type": "code",
   "execution_count": 172,
   "id": "f3e684d2-604f-433c-81b1-ba6d8c5206f3",
   "metadata": {},
   "outputs": [
    {
     "data": {
      "text/html": [
       "<table class=\"dataframe\">\n",
       "<caption>A matrix: 1 × 3 of type dbl</caption>\n",
       "<thead>\n",
       "\t<tr><th></th><th scope=col>fit</th><th scope=col>lwr</th><th scope=col>upr</th></tr>\n",
       "</thead>\n",
       "<tbody>\n",
       "\t<tr><th scope=row>1</th><td>5.170698</td><td>1.393745</td><td>8.947651</td></tr>\n",
       "</tbody>\n",
       "</table>\n"
      ],
      "text/latex": [
       "A matrix: 1 × 3 of type dbl\n",
       "\\begin{tabular}{r|lll}\n",
       "  & fit & lwr & upr\\\\\n",
       "\\hline\n",
       "\t1 & 5.170698 & 1.393745 & 8.947651\\\\\n",
       "\\end{tabular}\n"
      ],
      "text/markdown": [
       "\n",
       "A matrix: 1 × 3 of type dbl\n",
       "\n",
       "| <!--/--> | fit | lwr | upr |\n",
       "|---|---|---|---|\n",
       "| 1 | 5.170698 | 1.393745 | 8.947651 |\n",
       "\n"
      ],
      "text/plain": [
       "  fit      lwr      upr     \n",
       "1 5.170698 1.393745 8.947651"
      ]
     },
     "metadata": {},
     "output_type": "display_data"
    }
   ],
   "source": [
    "predict(fit, data.frame(Approval = 50), interval = \"confidence\", level = 0.95)"
   ]
  },
  {
   "cell_type": "code",
   "execution_count": 174,
   "id": "44cf9d69-6690-4b41-9c00-2639fa0b18d7",
   "metadata": {},
   "outputs": [
    {
     "data": {
      "text/html": [
       "<table class=\"dataframe\">\n",
       "<caption>A matrix: 1 × 3 of type dbl</caption>\n",
       "<thead>\n",
       "\t<tr><th></th><th scope=col>fit</th><th scope=col>lwr</th><th scope=col>upr</th></tr>\n",
       "</thead>\n",
       "<tbody>\n",
       "\t<tr><th scope=row>1</th><td>5.170698</td><td>-7.995153</td><td>18.33655</td></tr>\n",
       "</tbody>\n",
       "</table>\n"
      ],
      "text/latex": [
       "A matrix: 1 × 3 of type dbl\n",
       "\\begin{tabular}{r|lll}\n",
       "  & fit & lwr & upr\\\\\n",
       "\\hline\n",
       "\t1 & 5.170698 & -7.995153 & 18.33655\\\\\n",
       "\\end{tabular}\n"
      ],
      "text/markdown": [
       "\n",
       "A matrix: 1 × 3 of type dbl\n",
       "\n",
       "| <!--/--> | fit | lwr | upr |\n",
       "|---|---|---|---|\n",
       "| 1 | 5.170698 | -7.995153 | 18.33655 |\n",
       "\n"
      ],
      "text/plain": [
       "  fit      lwr       upr     \n",
       "1 5.170698 -7.995153 18.33655"
      ]
     },
     "metadata": {},
     "output_type": "display_data"
    }
   ],
   "source": [
    "predict(fit, data.frame(Approval = 50), interval = \"prediction\", level = 0.95)"
   ]
  },
  {
   "cell_type": "code",
   "execution_count": 175,
   "id": "c79d6b9c-c3dd-4173-ae7a-2d9443579f86",
   "metadata": {},
   "outputs": [
    {
     "ename": "ERROR",
     "evalue": "Error: variable 'Approval' was fitted with type \"numeric\" but type \"logical\" was supplied\n",
     "output_type": "error",
     "traceback": [
      "Error: variable 'Approval' was fitted with type \"numeric\" but type \"logical\" was supplied\nTraceback:\n",
      "1. predict(fit, data.frame(Approval = NA), interval = \"confidence\", \n .     level = 0.95)",
      "2. predict.lm(fit, data.frame(Approval = NA), interval = \"confidence\", \n .     level = 0.95)",
      "3. .checkMFClasses(cl, m)",
      "4. stop(gettextf(\"variable '%s' was fitted with type \\\"%s\\\" but type \\\"%s\\\" was supplied\", \n .     names(old)[wrong], old[wrong], new[wrong]), call. = FALSE, \n .     domain = NA)"
     ]
    }
   ],
   "source": [
    "predict(fit, data.frame(Approval = NA), interval = \"confidence\", level = 0.95)"
   ]
  },
  {
   "cell_type": "code",
   "execution_count": 176,
   "id": "f6c4ebfc-830e-4629-b034-222829e8d56a",
   "metadata": {},
   "outputs": [
    {
     "data": {
      "text/html": [
       "<table class=\"dataframe\">\n",
       "<caption>A data.frame: 12 × 5</caption>\n",
       "<thead>\n",
       "\t<tr><th scope=col>Year</th><th scope=col>Candidate</th><th scope=col>Approval</th><th scope=col>Margin</th><th scope=col>Result</th></tr>\n",
       "\t<tr><th scope=col>&lt;int&gt;</th><th scope=col>&lt;chr&gt;</th><th scope=col>&lt;int&gt;</th><th scope=col>&lt;dbl&gt;</th><th scope=col>&lt;chr&gt;</th></tr>\n",
       "</thead>\n",
       "<tbody>\n",
       "\t<tr><td>1940</td><td>Roosevelt </td><td>62</td><td>10.0</td><td>Won </td></tr>\n",
       "\t<tr><td>1948</td><td>Truman    </td><td>50</td><td> 4.5</td><td>Won </td></tr>\n",
       "\t<tr><td>1956</td><td>Eisenhower</td><td>70</td><td>15.4</td><td>Won </td></tr>\n",
       "\t<tr><td>1964</td><td>Johnson   </td><td>67</td><td>22.6</td><td>Won </td></tr>\n",
       "\t<tr><td>1972</td><td>Nixon     </td><td>57</td><td>23.2</td><td>Won </td></tr>\n",
       "\t<tr><td>1976</td><td>Ford      </td><td>48</td><td>-2.1</td><td>Lost</td></tr>\n",
       "\t<tr><td>1980</td><td>Carter    </td><td>31</td><td>-9.7</td><td>Lost</td></tr>\n",
       "\t<tr><td>1984</td><td>Reagan    </td><td>57</td><td>18.2</td><td>Won </td></tr>\n",
       "\t<tr><td>1992</td><td>G.H.W.Bush</td><td>39</td><td>-5.5</td><td>Lost</td></tr>\n",
       "\t<tr><td>1996</td><td>Clinton   </td><td>55</td><td> 8.5</td><td>Won </td></tr>\n",
       "\t<tr><td>2004</td><td>G.W.Bush  </td><td>49</td><td> 2.4</td><td>Won </td></tr>\n",
       "\t<tr><td>2012</td><td>Obama     </td><td>50</td><td> 3.9</td><td>Won </td></tr>\n",
       "</tbody>\n",
       "</table>\n"
      ],
      "text/latex": [
       "A data.frame: 12 × 5\n",
       "\\begin{tabular}{lllll}\n",
       " Year & Candidate & Approval & Margin & Result\\\\\n",
       " <int> & <chr> & <int> & <dbl> & <chr>\\\\\n",
       "\\hline\n",
       "\t 1940 & Roosevelt  & 62 & 10.0 & Won \\\\\n",
       "\t 1948 & Truman     & 50 &  4.5 & Won \\\\\n",
       "\t 1956 & Eisenhower & 70 & 15.4 & Won \\\\\n",
       "\t 1964 & Johnson    & 67 & 22.6 & Won \\\\\n",
       "\t 1972 & Nixon      & 57 & 23.2 & Won \\\\\n",
       "\t 1976 & Ford       & 48 & -2.1 & Lost\\\\\n",
       "\t 1980 & Carter     & 31 & -9.7 & Lost\\\\\n",
       "\t 1984 & Reagan     & 57 & 18.2 & Won \\\\\n",
       "\t 1992 & G.H.W.Bush & 39 & -5.5 & Lost\\\\\n",
       "\t 1996 & Clinton    & 55 &  8.5 & Won \\\\\n",
       "\t 2004 & G.W.Bush   & 49 &  2.4 & Won \\\\\n",
       "\t 2012 & Obama      & 50 &  3.9 & Won \\\\\n",
       "\\end{tabular}\n"
      ],
      "text/markdown": [
       "\n",
       "A data.frame: 12 × 5\n",
       "\n",
       "| Year &lt;int&gt; | Candidate &lt;chr&gt; | Approval &lt;int&gt; | Margin &lt;dbl&gt; | Result &lt;chr&gt; |\n",
       "|---|---|---|---|---|\n",
       "| 1940 | Roosevelt  | 62 | 10.0 | Won  |\n",
       "| 1948 | Truman     | 50 |  4.5 | Won  |\n",
       "| 1956 | Eisenhower | 70 | 15.4 | Won  |\n",
       "| 1964 | Johnson    | 67 | 22.6 | Won  |\n",
       "| 1972 | Nixon      | 57 | 23.2 | Won  |\n",
       "| 1976 | Ford       | 48 | -2.1 | Lost |\n",
       "| 1980 | Carter     | 31 | -9.7 | Lost |\n",
       "| 1984 | Reagan     | 57 | 18.2 | Won  |\n",
       "| 1992 | G.H.W.Bush | 39 | -5.5 | Lost |\n",
       "| 1996 | Clinton    | 55 |  8.5 | Won  |\n",
       "| 2004 | G.W.Bush   | 49 |  2.4 | Won  |\n",
       "| 2012 | Obama      | 50 |  3.9 | Won  |\n",
       "\n"
      ],
      "text/plain": [
       "   Year Candidate  Approval Margin Result\n",
       "1  1940 Roosevelt  62       10.0   Won   \n",
       "2  1948 Truman     50        4.5   Won   \n",
       "3  1956 Eisenhower 70       15.4   Won   \n",
       "4  1964 Johnson    67       22.6   Won   \n",
       "5  1972 Nixon      57       23.2   Won   \n",
       "6  1976 Ford       48       -2.1   Lost  \n",
       "7  1980 Carter     31       -9.7   Lost  \n",
       "8  1984 Reagan     57       18.2   Won   \n",
       "9  1992 G.H.W.Bush 39       -5.5   Lost  \n",
       "10 1996 Clinton    55        8.5   Won   \n",
       "11 2004 G.W.Bush   49        2.4   Won   \n",
       "12 2012 Obama      50        3.9   Won   "
      ]
     },
     "metadata": {},
     "output_type": "display_data"
    }
   ],
   "source": [
    "EM"
   ]
  },
  {
   "cell_type": "code",
   "execution_count": 181,
   "id": "50536d72-3ece-49c3-8280-c0cf0cb4fbb6",
   "metadata": {},
   "outputs": [
    {
     "data": {
      "text/html": [
       "7.2755512"
      ],
      "text/latex": [
       "7.2755512"
      ],
      "text/markdown": [
       "7.2755512"
      ],
      "text/plain": [
       "[1] 7.275551"
      ]
     },
     "metadata": {},
     "output_type": "display_data"
    }
   ],
   "source": [
    "7.62 - 2.228*0.1546"
   ]
  },
  {
   "cell_type": "code",
   "execution_count": 178,
   "id": "783ef177-6f4f-4b90-a9ad-e07bff192613",
   "metadata": {},
   "outputs": [
    {
     "data": {
      "text/html": [
       "7.9644488"
      ],
      "text/latex": [
       "7.9644488"
      ],
      "text/markdown": [
       "7.9644488"
      ],
      "text/plain": [
       "[1] 7.964449"
      ]
     },
     "metadata": {},
     "output_type": "display_data"
    }
   ],
   "source": [
    "7.62 + 2.228*0.1546"
   ]
  },
  {
   "cell_type": "code",
   "execution_count": 179,
   "id": "419e7bed-9b44-46db-933b-e87c17e5812f",
   "metadata": {},
   "outputs": [
    {
     "data": {
      "text/html": [
       "7.6"
      ],
      "text/latex": [
       "7.6"
      ],
      "text/markdown": [
       "7.6"
      ],
      "text/plain": [
       "[1] 7.6"
      ]
     },
     "metadata": {},
     "output_type": "display_data"
    }
   ],
   "source": [
    "mean(c(0.8, 14.4))"
   ]
  },
  {
   "cell_type": "code",
   "execution_count": 185,
   "id": "b0da232b-116c-4bc0-a78c-a036e57595f6",
   "metadata": {},
   "outputs": [
    {
     "data": {
      "text/html": [
       "0.808791028273076"
      ],
      "text/latex": [
       "0.808791028273076"
      ],
      "text/markdown": [
       "0.808791028273076"
      ],
      "text/plain": [
       "[1] 0.808791"
      ]
     },
     "metadata": {},
     "output_type": "display_data"
    }
   ],
   "source": [
    "7.62 - 2.201* (10.72/sqrt(12))"
   ]
  },
  {
   "cell_type": "code",
   "execution_count": null,
   "id": "58d4f6a3-ff04-42ac-9c54-5c73393234d8",
   "metadata": {},
   "outputs": [],
   "source": []
  }
 ],
 "metadata": {
  "kernelspec": {
   "display_name": "R",
   "language": "R",
   "name": "ir"
  },
  "language_info": {
   "codemirror_mode": "r",
   "file_extension": ".r",
   "mimetype": "text/x-r-source",
   "name": "R",
   "pygments_lexer": "r",
   "version": "4.0.5"
  }
 },
 "nbformat": 4,
 "nbformat_minor": 5
}
