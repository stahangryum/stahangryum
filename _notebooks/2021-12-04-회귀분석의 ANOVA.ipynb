{
 "cells": [
  {
   "cell_type": "markdown",
   "id": "f11136ad-121c-45fd-8ddc-1822e7eeceae",
   "metadata": {},
   "source": [
    "# \"Anova in Regression Analysis\"\n",
    "> \"전북대학교 통계학 입문\"\n",
    "\n",
    "- toc: true\n",
    "- branch: master\n",
    "- badges: true\n",
    "- comments: true\n",
    "- author: Kim Jeewoo\n",
    "- categories: [Introduction to Statistics]\n",
    "- image: images/20211130linear.png"
   ]
  },
  {
   "cell_type": "code",
   "execution_count": 1,
   "id": "40606e2a-b704-47ff-b6b9-5f4fa5a1286a",
   "metadata": {},
   "outputs": [],
   "source": [
    "file_url <- \"http://www.lock5stat.com/datasets2e/Cereal.csv\""
   ]
  },
  {
   "cell_type": "code",
   "execution_count": 2,
   "id": "f8792f7b-80f8-4291-8f82-145f40beb718",
   "metadata": {},
   "outputs": [],
   "source": [
    "cereal = read.csv(file_url)"
   ]
  },
  {
   "cell_type": "code",
   "execution_count": 4,
   "id": "1bf94f76-958d-46e4-bd66-51b69682a0c3",
   "metadata": {},
   "outputs": [],
   "source": [
    "fit = lm(Calories ~ Sugars, data=cereal)"
   ]
  },
  {
   "cell_type": "code",
   "execution_count": 5,
   "id": "e5e44d0c-c91d-47f0-94e5-31a100d5a7a0",
   "metadata": {},
   "outputs": [
    {
     "data": {
      "text/plain": [
       "\n",
       "Call:\n",
       "lm(formula = Calories ~ Sugars, data = cereal)\n",
       "\n",
       "Residuals:\n",
       "    Min      1Q  Median      3Q     Max \n",
       "-36.574 -25.282  -2.549  17.796  51.805 \n",
       "\n",
       "Coefficients:\n",
       "            Estimate Std. Error t value Pr(>|t|)    \n",
       "(Intercept)  88.9204    10.8120   8.224 5.96e-09 ***\n",
       "Sugars        4.3103     0.9269   4.650 7.22e-05 ***\n",
       "---\n",
       "Signif. codes:  0 '***' 0.001 '**' 0.01 '*' 0.05 '.' 0.1 ' ' 1\n",
       "\n",
       "Residual standard error: 26.61 on 28 degrees of freedom\n",
       "Multiple R-squared:  0.4357,\tAdjusted R-squared:  0.4156 \n",
       "F-statistic: 21.62 on 1 and 28 DF,  p-value: 7.217e-05\n"
      ]
     },
     "metadata": {},
     "output_type": "display_data"
    }
   ],
   "source": [
    "summary(fit)"
   ]
  },
  {
   "cell_type": "code",
   "execution_count": 6,
   "id": "74b749d8-1c1b-482d-8cee-968307c60d73",
   "metadata": {},
   "outputs": [
    {
     "data": {
      "text/html": [
       "<table class=\"dataframe\">\n",
       "<caption>A anova: 2 × 5</caption>\n",
       "<thead>\n",
       "\t<tr><th></th><th scope=col>Df</th><th scope=col>Sum Sq</th><th scope=col>Mean Sq</th><th scope=col>F value</th><th scope=col>Pr(&gt;F)</th></tr>\n",
       "\t<tr><th></th><th scope=col>&lt;int&gt;</th><th scope=col>&lt;dbl&gt;</th><th scope=col>&lt;dbl&gt;</th><th scope=col>&lt;dbl&gt;</th><th scope=col>&lt;dbl&gt;</th></tr>\n",
       "</thead>\n",
       "<tbody>\n",
       "\t<tr><th scope=row>Sugars</th><td> 1</td><td>15316.51</td><td>15316.5131</td><td>21.62296</td><td>7.217205e-05</td></tr>\n",
       "\t<tr><th scope=row>Residuals</th><td>28</td><td>19833.65</td><td>  708.3448</td><td>      NA</td><td>          NA</td></tr>\n",
       "</tbody>\n",
       "</table>\n"
      ],
      "text/latex": [
       "A anova: 2 × 5\n",
       "\\begin{tabular}{r|lllll}\n",
       "  & Df & Sum Sq & Mean Sq & F value & Pr(>F)\\\\\n",
       "  & <int> & <dbl> & <dbl> & <dbl> & <dbl>\\\\\n",
       "\\hline\n",
       "\tSugars &  1 & 15316.51 & 15316.5131 & 21.62296 & 7.217205e-05\\\\\n",
       "\tResiduals & 28 & 19833.65 &   708.3448 &       NA &           NA\\\\\n",
       "\\end{tabular}\n"
      ],
      "text/markdown": [
       "\n",
       "A anova: 2 × 5\n",
       "\n",
       "| <!--/--> | Df &lt;int&gt; | Sum Sq &lt;dbl&gt; | Mean Sq &lt;dbl&gt; | F value &lt;dbl&gt; | Pr(&gt;F) &lt;dbl&gt; |\n",
       "|---|---|---|---|---|---|\n",
       "| Sugars |  1 | 15316.51 | 15316.5131 | 21.62296 | 7.217205e-05 |\n",
       "| Residuals | 28 | 19833.65 |   708.3448 |       NA |           NA |\n",
       "\n"
      ],
      "text/plain": [
       "          Df Sum Sq   Mean Sq    F value  Pr(>F)      \n",
       "Sugars     1 15316.51 15316.5131 21.62296 7.217205e-05\n",
       "Residuals 28 19833.65   708.3448       NA           NA"
      ]
     },
     "metadata": {},
     "output_type": "display_data"
    }
   ],
   "source": [
    "anova(fit)"
   ]
  },
  {
   "cell_type": "code",
   "execution_count": 7,
   "id": "fad4a414-ccb6-4f7c-9a98-69933be193ff",
   "metadata": {},
   "outputs": [
    {
     "data": {
      "text/html": [
       "35150.1666666667"
      ],
      "text/latex": [
       "35150.1666666667"
      ],
      "text/markdown": [
       "35150.1666666667"
      ],
      "text/plain": [
       "[1] 35150.17"
      ]
     },
     "metadata": {},
     "output_type": "display_data"
    }
   ],
   "source": [
    "sum( (cereal$Calories - mean(cereal$Calories))^2)"
   ]
  },
  {
   "cell_type": "code",
   "execution_count": null,
   "id": "0aff728e-8e26-42f8-88c1-75ea69af6ca7",
   "metadata": {},
   "outputs": [],
   "source": [
    "\\"
   ]
  }
 ],
 "metadata": {
  "kernelspec": {
   "display_name": "R",
   "language": "R",
   "name": "ir"
  },
  "language_info": {
   "codemirror_mode": "r",
   "file_extension": ".r",
   "mimetype": "text/x-r-source",
   "name": "R",
   "pygments_lexer": "r",
   "version": "4.0.5"
  }
 },
 "nbformat": 4,
 "nbformat_minor": 5
}
