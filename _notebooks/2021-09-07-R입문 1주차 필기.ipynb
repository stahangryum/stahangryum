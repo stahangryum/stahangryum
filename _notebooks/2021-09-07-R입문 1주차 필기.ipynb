{
 "cells": [
  {
   "cell_type": "markdown",
   "id": "0b9eb4bd-7002-4da1-9b9e-4c2fee0659d6",
   "metadata": {},
   "source": [
    "### R은 좋은 계산기이다."
   ]
  },
  {
   "cell_type": "markdown",
   "id": "82490ea5-aa55-475a-8cc1-eceb1a4a477d",
   "metadata": {},
   "source": [
    "#### 2005년 예비평가(나) 12월/평가원26번(고3)"
   ]
  },
  {
   "cell_type": "markdown",
   "id": "062b3cc8-0a9c-48a5-8440-56779173dabd",
   "metadata": {},
   "source": [
    "어떤 호수에서 수면에서의 빛의 세기가 $I_0$일 때, 수면이 $d$m인 곳에서의 빛의 세기 $I_d$는 다음과 같이 나타낸다."
   ]
  },
  {
   "cell_type": "markdown",
   "id": "efccdce2-fa65-45fb-923b-9c30eefaaa1d",
   "metadata": {},
   "source": [
    "$$I_d = I_0 2^{-0.25d}$$"
   ]
  },
  {
   "cell_type": "markdown",
   "id": "a75f4475-e740-4655-9cff-52c96501f548",
   "metadata": {},
   "source": [
    "이 호수에서 빛의 세기가 수면에서의 빛의 세기의 25%인 곳의 수심은? (3점)"
   ]
  },
  {
   "cell_type": "markdown",
   "id": "298db0d2-8586-46f4-91f0-91af053f35e8",
   "metadata": {},
   "source": [
    "(1) 16m\n",
    "\n",
    "(2) 12m\n",
    "\n",
    "(3) 10m\n",
    "\n",
    "(4) 8m\n",
    "\n",
    "(5) 4m"
   ]
  },
  {
   "cell_type": "markdown",
   "id": "33ccc4bd-1383-430f-8c1a-fbebcf8b1762",
   "metadata": {},
   "source": [
    "(풀이1)"
   ]
  },
  {
   "cell_type": "markdown",
   "id": "d995500f-ffd7-4282-9430-90059c6b3efd",
   "metadata": {},
   "source": [
    "$0.25I_0 = I_0 2^{-0.25d}$"
   ]
  },
  {
   "cell_type": "markdown",
   "id": "afdd83b8-3630-4b74-b3f1-24e13a1b6142",
   "metadata": {},
   "source": [
    "$2^{-2} = 2^{-0.25d}$"
   ]
  },
  {
   "cell_type": "markdown",
   "id": "d3876ce4-d719-4273-8426-77ea220a92e2",
   "metadata": {},
   "source": [
    "$d = 8m$"
   ]
  },
  {
   "cell_type": "code",
   "execution_count": null,
   "id": "52705135-1e7b-4cd2-8ddc-96266845fb50",
   "metadata": {},
   "outputs": [],
   "source": []
  },
  {
   "cell_type": "code",
   "execution_count": 8,
   "id": "f24092d5-af7f-41f7-9278-bbb5501a8914",
   "metadata": {},
   "outputs": [
    {
     "data": {
      "text/html": [
       "0.594603557501361"
      ],
      "text/latex": [
       "0.594603557501361"
      ],
      "text/markdown": [
       "0.594603557501361"
      ],
      "text/plain": [
       "[1] 0.5946036"
      ]
     },
     "metadata": {},
     "output_type": "display_data"
    }
   ],
   "source": [
    "I_d"
   ]
  },
  {
   "cell_type": "code",
   "execution_count": null,
   "id": "03f330bb-402a-466d-8c6b-1be47af600bb",
   "metadata": {},
   "outputs": [],
   "source": []
  },
  {
   "cell_type": "code",
   "execution_count": null,
   "id": "b5439d29-5fde-486b-a79a-86430722a5ad",
   "metadata": {},
   "outputs": [],
   "source": []
  },
  {
   "cell_type": "code",
   "execution_count": null,
   "id": "b5cb6489-2d36-464e-a29c-7130a0f90953",
   "metadata": {},
   "outputs": [],
   "source": []
  }
 ],
 "metadata": {
  "kernelspec": {
   "display_name": "R",
   "language": "R",
   "name": "ir"
  },
  "language_info": {
   "codemirror_mode": "r",
   "file_extension": ".r",
   "mimetype": "text/x-r-source",
   "name": "R",
   "pygments_lexer": "r",
   "version": "4.1.1"
  }
 },
 "nbformat": 4,
 "nbformat_minor": 5
}
