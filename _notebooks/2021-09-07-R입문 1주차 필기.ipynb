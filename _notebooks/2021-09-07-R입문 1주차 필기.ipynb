{
 "cells": [
  {
   "cell_type": "markdown",
   "id": "e4803dab-f55a-494f-9006-8970d9b7e8da",
   "metadata": {
    "tags": []
   },
   "source": [
    "# \"R - 소개\"\n",
    "> \"전북대학교 R입문 1주차 필기\"\n",
    "\n",
    "- toc: true\n",
    "- branch: master\n",
    "- badges: true\n",
    "- comments: true\n",
    "- author: Kim Jeewoo\n",
    "- categories: [Introduction to R]\n",
    "- image: images/r_logo.PNG"
   ]
  },
  {
   "cell_type": "markdown",
   "id": "622e7927-5f08-4f67-9ed1-be8121f17aa9",
   "metadata": {},
   "source": [
    "# What is R?"
   ]
  },
  {
   "cell_type": "markdown",
   "id": "8dab2161-a973-46ec-a717-9bec68d7ff4c",
   "metadata": {},
   "source": [
    " - R is a language and environment for statistical computing and graphics."
   ]
  },
  {
   "cell_type": "markdown",
   "id": "c341bd3a-b40c-4f24-ba63-2bf09ca1f079",
   "metadata": {},
   "source": [
    "- R은 좋은 계산기이다."
   ]
  },
  {
   "cell_type": "markdown",
   "id": "0e7ba100-7620-44b8-a14e-fb52939553bd",
   "metadata": {},
   "source": [
    "# Problem\n",
    "![](image/200512math26.PNG) {% fn 1 %}"
   ]
  },
  {
   "cell_type": "markdown",
   "id": "4a74901f-6ae5-4d36-9490-2ee1c0a03fbd",
   "metadata": {},
   "source": [
    "## Solution I"
   ]
  },
  {
   "cell_type": "markdown",
   "id": "d995500f-ffd7-4282-9430-90059c6b3efd",
   "metadata": {},
   "source": [
    "$I_d = I_0 2^{-0.25d}$\n"
   ]
  },
  {
   "cell_type": "markdown",
   "id": "b80e33b9-8dbc-467e-b03b-fc1fa6fc5c10",
   "metadata": {},
   "source": [
    "$\\cfrac{I_d}{I_0} = 0.25 = 2^{-2} = 2^{-0.25d}$"
   ]
  },
  {
   "cell_type": "markdown",
   "id": "1d08ba2c-458b-4c6d-94b7-d47e63286548",
   "metadata": {},
   "source": [
    "$-2 = -0.25d$"
   ]
  },
  {
   "cell_type": "markdown",
   "id": "d3876ce4-d719-4273-8426-77ea220a92e2",
   "metadata": {},
   "source": [
    "$d = 8m$"
   ]
  },
  {
   "cell_type": "markdown",
   "id": "6f1c77b8-b095-4a92-bce6-2dc76e3cce69",
   "metadata": {},
   "source": [
    "---\n",
    "갑 : 음.. 근데 8m 말고 11m일 때랑 7m일 때의 비율도 계산해줘"
   ]
  },
  {
   "cell_type": "markdown",
   "id": "4eb88459-9a38-439e-bc24-e74fde947c9b",
   "metadata": {},
   "source": [
    "갑 : 아 아니다 그냥 1m부터 40m까지 다 구해줘!!"
   ]
  },
  {
   "cell_type": "markdown",
   "id": "33585905-6202-45fb-9d53-91c2a70fdc1c",
   "metadata": {},
   "source": [
    "을 : ?? (일일이 대입하면 너무 힘든데... 어쩌지?)\n",
    "\n",
    "---"
   ]
  },
  {
   "cell_type": "markdown",
   "id": "6c6f8c89-54b2-4d2d-93d8-d42a2d3be2ec",
   "metadata": {},
   "source": [
    "## Solution II\n",
    "> $d$를 입력하면 $\\cfrac{I_d}{I_0}$가 계산되는 아래와 같은 함수를 만들고 싶다."
   ]
  },
  {
   "cell_type": "markdown",
   "id": "bc3a20ee-9b76-44df-a570-e5e65a550912",
   "metadata": {},
   "source": [
    "$\\cfrac{I_d}{I_0}=y=f(d)=2^{-0.25d}$"
   ]
  },
  {
   "cell_type": "code",
   "execution_count": 5,
   "id": "3ddf88c5-ac67-4050-8ed8-7bdb9e16c1c0",
   "metadata": {},
   "outputs": [],
   "source": [
    "f <- function(d){\n",
    "    y=2^(-0.25*d)\n",
    "    y\n",
    "}"
   ]
  },
  {
   "cell_type": "code",
   "execution_count": 6,
   "id": "84cdb1ee-0213-48ce-858e-cb59f49a3f92",
   "metadata": {},
   "outputs": [
    {
     "name": "stdout",
     "output_type": "stream",
     "text": [
      "[1] 0.25\n"
     ]
    }
   ],
   "source": [
    "print(f(8))"
   ]
  },
  {
   "cell_type": "code",
   "execution_count": 7,
   "id": "bfa552d2-40fe-433b-8a22-e5991327400f",
   "metadata": {},
   "outputs": [
    {
     "name": "stdout",
     "output_type": "stream",
     "text": [
      "[1] 0.1486509\n"
     ]
    }
   ],
   "source": [
    "print(f(11))"
   ]
  },
  {
   "cell_type": "code",
   "execution_count": 10,
   "id": "883630f8-02a7-4592-8648-7bae0d5f1fe3",
   "metadata": {},
   "outputs": [
    {
     "name": "stdout",
     "output_type": "stream",
     "text": [
      "[1] 0.2973018\n"
     ]
    }
   ],
   "source": [
    "print(f(7))"
   ]
  },
  {
   "cell_type": "code",
   "execution_count": 23,
   "id": "49c2daf6-93ff-487e-8bb3-eff644f54d86",
   "metadata": {},
   "outputs": [
    {
     "name": "stdout",
     "output_type": "stream",
     "text": [
      "[1] 0.8408964\n",
      "[1] 0.7071068\n",
      "[1] 0.5946036\n",
      "[1] 0.5\n",
      "[1] 0.4204482\n",
      "[1] 0.3535534\n",
      "[1] 0.2973018\n",
      "[1] 0.25\n",
      "[1] 0.2102241\n",
      "[1] 0.1767767\n",
      "[1] 0.1486509\n",
      "[1] 0.125\n",
      "[1] 0.1051121\n",
      "[1] 0.08838835\n",
      "[1] 0.07432544\n",
      "[1] 0.0625\n",
      "[1] 0.05255603\n",
      "[1] 0.04419417\n",
      "[1] 0.03716272\n",
      "[1] 0.03125\n",
      "[1] 0.02627801\n",
      "[1] 0.02209709\n",
      "[1] 0.01858136\n",
      "[1] 0.015625\n",
      "[1] 0.01313901\n",
      "[1] 0.01104854\n",
      "[1] 0.009290681\n",
      "[1] 0.0078125\n",
      "[1] 0.006569503\n",
      "[1] 0.005524272\n",
      "[1] 0.00464534\n",
      "[1] 0.00390625\n",
      "[1] 0.003284752\n",
      "[1] 0.002762136\n",
      "[1] 0.00232267\n",
      "[1] 0.001953125\n",
      "[1] 0.001642376\n",
      "[1] 0.001381068\n",
      "[1] 0.001161335\n",
      "[1] 0.0009765625\n"
     ]
    }
   ],
   "source": [
    "for(d in 1:40){\n",
    "    print(f(d))\n",
    "}"
   ]
  },
  {
   "cell_type": "markdown",
   "id": "97385ef4-9cc3-4bb1-81f6-d5c57e8635ac",
   "metadata": {},
   "source": [
    "엄청 편하다.."
   ]
  },
  {
   "cell_type": "markdown",
   "id": "33708619-a024-4320-abad-864f3c51ebc7",
   "metadata": {},
   "source": [
    "## Solution III\n",
    " > $y=f(d)$의 그래프를 구하고 싶다."
   ]
  },
  {
   "cell_type": "code",
   "execution_count": 18,
   "id": "1fe17cbb-d76c-43d1-b31b-f0bfbd40519d",
   "metadata": {},
   "outputs": [
    {
     "data": {
      "image/png": "[encoded data removed]",
      "text/plain": [
       "plot without title"
      ]
     },
     "metadata": {
      "image/png": {
       "height": 420,
       "width": 420
      }
     },
     "output_type": "display_data"
    }
   ],
   "source": [
    "d <- seq(from = 0, to = 10, by = 0.01)\n",
    "y <- 2^(-0.25*d)\n",
    "plot(d, y, type = \"l\", lwd = 5)\n",
    "abline(h = 0.25, col=2, lwd=5, lty = 1)\n",
    "#col = 색, lwd = 굵기, lty = 점선\n",
    "#h = 수평선, v = 수직선"
   ]
  },
  {
   "cell_type": "markdown",
   "id": "bf951222-af41-4979-9efa-54b33d35242c",
   "metadata": {},
   "source": [
    "{{ '2005 예비평가(나) 12월/평가원26(고3)' | fndetail: 1 }}"
   ]
  },
  {
   "cell_type": "code",
   "execution_count": null,
   "id": "cb8f2119-1c2c-487f-9ad5-0b77f3a2229a",
   "metadata": {},
   "outputs": [],
   "source": []
  }
 ],
 "metadata": {
  "kernelspec": {
   "display_name": "R",
   "language": "R",
   "name": "ir"
  },
  "language_info": {
   "codemirror_mode": "r",
   "file_extension": ".r",
   "mimetype": "text/x-r-source",
   "name": "R",
   "pygments_lexer": "r",
   "version": "4.1.1"
  }
 },
 "nbformat": 4,
 "nbformat_minor": 5
}
