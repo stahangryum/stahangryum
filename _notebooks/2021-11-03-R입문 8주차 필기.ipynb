{
 "cells": [
  {
   "cell_type": "code",
   "execution_count": 2,
   "id": "1c94c022-5fbe-44cc-9fa3-062f6806c8c0",
   "metadata": {},
   "outputs": [],
   "source": [
    "#hide\n",
    "options(jupyter.plot_scale = 3)\n",
    "options(jupyter.display_mimetypes = c(\"text/html\"))\n",
    "options(jupyter.rich_display=FALSE)\n",
    "options(repr.plot.width=6, repr.plot.height=6, repr.plot.res=300)\n",
    "options(max.print=1000)"
   ]
  },
  {
   "cell_type": "markdown",
   "id": "8679a1cf-64ba-46fc-98da-46fd00bad61d",
   "metadata": {},
   "source": [
    "# \"데이터 타입\"\n",
    "> \"전북대학교 R입문 8주차 필기\"\n",
    "\n",
    "- toc: true\n",
    "- branch: master\n",
    "- badges: true\n",
    "- comments: true\n",
    "- author: Kim Jeewoo\n",
    "- categories: [Introduction to R]\n",
    "- image: images/r_logo.PNG"
   ]
  },
  {
   "cell_type": "markdown",
   "id": "8cafb8eb-8516-4e35-ab26-cf4a986b6e13",
   "metadata": {},
   "source": [
    "# 데이터 타입"
   ]
  },
  {
   "cell_type": "markdown",
   "id": "94ae29c3-6388-4954-bdf7-8e3738f211de",
   "metadata": {},
   "source": [
    "## 수치형(numeric)"
   ]
  },
  {
   "cell_type": "markdown",
   "id": "854d15c3-147c-482c-9523-3bc04b824d6e",
   "metadata": {},
   "source": [
    "- 정수, 실수, 지수 등을 나타내며 실수가 기본형"
   ]
  },
  {
   "cell_type": "code",
   "execution_count": 24,
   "id": "688eef1e-5d18-44db-81e2-9f88e4fd2e01",
   "metadata": {},
   "outputs": [
    {
     "data": {
      "text/plain": [
       "[1] \"numeric\""
      ]
     },
     "metadata": {},
     "output_type": "display_data"
    }
   ],
   "source": [
    "a=345\n",
    "mode(a)"
   ]
  },
  {
   "cell_type": "code",
   "execution_count": 25,
   "id": "42c3e1e0-d60d-4795-b403-1cfce0bf1cb1",
   "metadata": {},
   "outputs": [
    {
     "data": {
      "text/plain": [
       "[1] \"numeric\""
      ]
     },
     "metadata": {},
     "output_type": "display_data"
    }
   ],
   "source": [
    "a=34.5556\n",
    "mode(a)"
   ]
  },
  {
   "cell_type": "markdown",
   "id": "12cd2ccd-8c23-4f41-8b92-2983f7ca0e1b",
   "metadata": {},
   "source": [
    "## 논리형(logical)"
   ]
  },
  {
   "cell_type": "markdown",
   "id": "9d87d01c-f4e4-443a-a73d-e1e651e3627d",
   "metadata": {},
   "source": [
    "- 참(TRUE)과 거짓(FALSE)를 나타낸다."
   ]
  },
  {
   "cell_type": "code",
   "execution_count": 26,
   "id": "021b9b74-33ac-42e6-940b-fb226d0bfc3c",
   "metadata": {},
   "outputs": [
    {
     "data": {
      "text/plain": [
       "[1] \"logical\""
      ]
     },
     "metadata": {},
     "output_type": "display_data"
    }
   ],
   "source": [
    "A = TRUE\n",
    "mode(A)"
   ]
  },
  {
   "cell_type": "code",
   "execution_count": 27,
   "id": "0c5f4d35-bf64-41df-9100-f32f1f0ab5e5",
   "metadata": {},
   "outputs": [
    {
     "data": {
      "text/plain": [
       "[1] \"logical\""
      ]
     },
     "metadata": {},
     "output_type": "display_data"
    }
   ],
   "source": [
    "A = F\n",
    "mode(A)"
   ]
  },
  {
   "cell_type": "code",
   "execution_count": 28,
   "id": "2cd1160c-84f6-49b9-b8c7-d88cd244b0c8",
   "metadata": {},
   "outputs": [
    {
     "data": {
      "text/plain": [
       "[1] \"logical\""
      ]
     },
     "metadata": {},
     "output_type": "display_data"
    }
   ],
   "source": [
    "A = T\n",
    "mode(A)"
   ]
  },
  {
   "cell_type": "markdown",
   "id": "4b943de5-6ab4-4cca-b2d3-917b219edc15",
   "metadata": {},
   "source": [
    "## 문자형(character)"
   ]
  },
  {
   "cell_type": "code",
   "execution_count": 29,
   "id": "03cfe617-aeec-4849-b3e5-46b959bd2527",
   "metadata": {},
   "outputs": [
    {
     "data": {
      "text/plain": [
       "[1] \"character\""
      ]
     },
     "metadata": {},
     "output_type": "display_data"
    }
   ],
   "source": [
    "A = \"friendship\"\n",
    "mode(A)"
   ]
  },
  {
   "cell_type": "code",
   "execution_count": 30,
   "id": "2c76c713-9764-4c1d-9fda-2114258070f4",
   "metadata": {},
   "outputs": [
    {
     "data": {
      "text/plain": [
       "[1] \"character\""
      ]
     },
     "metadata": {},
     "output_type": "display_data"
    }
   ],
   "source": [
    "A = \"TRUE\"\n",
    "mode(A)"
   ]
  },
  {
   "cell_type": "code",
   "execution_count": 31,
   "id": "a01505ea-06a3-4b13-bd0a-b490a4e5b116",
   "metadata": {},
   "outputs": [
    {
     "data": {
      "text/plain": [
       "[1] \"character\""
      ]
     },
     "metadata": {},
     "output_type": "display_data"
    }
   ],
   "source": [
    "A = \"1\"\n",
    "mode(A)"
   ]
  },
  {
   "cell_type": "markdown",
   "id": "de96a456-ae87-4ad2-b431-59dcc62f3044",
   "metadata": {},
   "source": [
    "## 복소수형(complex)"
   ]
  },
  {
   "cell_type": "code",
   "execution_count": 32,
   "id": "8bb6c3b5-35f8-4fe6-b621-3d1186b6edef",
   "metadata": {},
   "outputs": [
    {
     "data": {
      "text/plain": [
       "[1] 4+10i"
      ]
     },
     "metadata": {},
     "output_type": "display_data"
    }
   ],
   "source": [
    "a = 1+3i\n",
    "b = 3+7i\n",
    "a+b"
   ]
  },
  {
   "cell_type": "code",
   "execution_count": 33,
   "id": "eede4ebb-2d9a-4bc8-b544-d24114da84c7",
   "metadata": {},
   "outputs": [
    {
     "data": {
      "text/plain": [
       "[1] \"complex\""
      ]
     },
     "metadata": {},
     "output_type": "display_data"
    }
   ],
   "source": [
    "mode(a)"
   ]
  },
  {
   "cell_type": "code",
   "execution_count": 34,
   "id": "1b12e36b-4aa4-4e51-9657-19eb7830dc32",
   "metadata": {},
   "outputs": [
    {
     "data": {
      "text/plain": [
       "[1] \"complex\""
      ]
     },
     "metadata": {},
     "output_type": "display_data"
    }
   ],
   "source": [
    "mode(a+b)"
   ]
  },
  {
   "cell_type": "markdown",
   "id": "5f4a6a89-a078-4e20-98c4-53a35b3be679",
   "metadata": {},
   "source": [
    "## 정수형(integer)"
   ]
  },
  {
   "cell_type": "markdown",
   "id": "b5afa29d-d8d5-4029-8f09-4addb9d3bd3d",
   "metadata": {},
   "source": [
    "- 생략"
   ]
  },
  {
   "cell_type": "markdown",
   "id": "055cc9b4-bee6-4679-9b3b-4b45aa1f1622",
   "metadata": {},
   "source": [
    "# 데이터 타입 변환"
   ]
  },
  {
   "cell_type": "markdown",
   "id": "851aeadb-6b31-44cd-b0f6-80c30f852d06",
   "metadata": {
    "tags": []
   },
   "source": [
    "## 첫 번째 방법"
   ]
  },
  {
   "cell_type": "code",
   "execution_count": 35,
   "id": "40d2ff79-0500-4921-9335-822d12b8fbe5",
   "metadata": {},
   "outputs": [
    {
     "data": {
      "text/plain": [
       "[1] \"character\""
      ]
     },
     "metadata": {},
     "output_type": "display_data"
    }
   ],
   "source": [
    "a = \"1\"\n",
    "mode(a)"
   ]
  },
  {
   "cell_type": "code",
   "execution_count": 40,
   "id": "698131a4-b637-4864-b62c-63f1a2ddd45f",
   "metadata": {},
   "outputs": [
    {
     "data": {
      "text/plain": [
       "[1] \"numeric\""
      ]
     },
     "metadata": {},
     "output_type": "display_data"
    }
   ],
   "source": [
    "mode(a) <- \"numeric\"\n",
    "mode(a)"
   ]
  },
  {
   "cell_type": "code",
   "execution_count": 41,
   "id": "05a5583d-a65e-4cac-9ae1-f95ef89dc06d",
   "metadata": {},
   "outputs": [
    {
     "data": {
      "text/plain": [
       "[1] 1"
      ]
     },
     "metadata": {},
     "output_type": "display_data"
    }
   ],
   "source": [
    "a"
   ]
  },
  {
   "cell_type": "markdown",
   "id": "ccf350b6-8c9f-43f3-bd3c-362e92a8f03f",
   "metadata": {},
   "source": [
    "## 두 번째 방법"
   ]
  },
  {
   "cell_type": "code",
   "execution_count": 42,
   "id": "8d127c86-8069-48c3-a182-8e08c6e7c5be",
   "metadata": {},
   "outputs": [
    {
     "data": {
      "text/plain": [
       "[1] 1"
      ]
     },
     "metadata": {},
     "output_type": "display_data"
    }
   ],
   "source": [
    "a = T\n",
    "as.numeric(a)"
   ]
  },
  {
   "cell_type": "code",
   "execution_count": 43,
   "id": "fa4bbcaa-0c92-4a38-81e3-b4aadb2e2af1",
   "metadata": {},
   "outputs": [
    {
     "data": {
      "text/plain": [
       "[1] 0"
      ]
     },
     "metadata": {},
     "output_type": "display_data"
    }
   ],
   "source": [
    "a = F\n",
    "as.numeric(a)"
   ]
  },
  {
   "cell_type": "code",
   "execution_count": 44,
   "id": "00dcc963-3edb-4461-9b1e-90ebc4aa8d45",
   "metadata": {},
   "outputs": [
    {
     "data": {
      "text/plain": [
       "[1] TRUE"
      ]
     },
     "metadata": {},
     "output_type": "display_data"
    }
   ],
   "source": [
    "a = -1\n",
    "as.logical(a)"
   ]
  },
  {
   "cell_type": "code",
   "execution_count": 45,
   "id": "d43d0549-65c3-4d8e-9bdd-ce621e9873d1",
   "metadata": {},
   "outputs": [
    {
     "data": {
      "text/plain": [
       "[1] TRUE"
      ]
     },
     "metadata": {},
     "output_type": "display_data"
    }
   ],
   "source": [
    "a = 2\n",
    "as.logical(a)"
   ]
  },
  {
   "cell_type": "code",
   "execution_count": 46,
   "id": "19a48be3-d94f-4661-b085-f662eb928699",
   "metadata": {},
   "outputs": [
    {
     "data": {
      "text/plain": [
       "[1] TRUE"
      ]
     },
     "metadata": {},
     "output_type": "display_data"
    }
   ],
   "source": [
    "a = 2.22\n",
    "as.logical(a)"
   ]
  },
  {
   "cell_type": "code",
   "execution_count": 54,
   "id": "a10f3a5b-56e4-454c-ac59-b0e650c40623",
   "metadata": {},
   "outputs": [
    {
     "data": {
      "text/plain": [
       "[1] FALSE"
      ]
     },
     "metadata": {},
     "output_type": "display_data"
    }
   ],
   "source": [
    "a = 0\n",
    "as.logical(a)"
   ]
  },
  {
   "cell_type": "markdown",
   "id": "769a07de-cb26-48a6-b824-31426c716f24",
   "metadata": {},
   "source": [
    "- 강제형변환"
   ]
  },
  {
   "cell_type": "code",
   "execution_count": 61,
   "id": "5e88a9ee-5542-4ede-8d97-a8407036d589",
   "metadata": {},
   "outputs": [
    {
     "name": "stderr",
     "output_type": "stream",
     "text": [
      "Warning message in eval(expr, envir, enclos):\n",
      "\"강제형변환에 의해 생성된 NA 입니다\"\n"
     ]
    }
   ],
   "source": [
    "a = \"asdfasfasf\"\n",
    "a = as.numeric(a)"
   ]
  },
  {
   "cell_type": "code",
   "execution_count": 62,
   "id": "8d2c2138-65f5-47a9-b80a-b4e6195ba3df",
   "metadata": {},
   "outputs": [
    {
     "data": {
      "text/plain": [
       "[1] \"numeric\""
      ]
     },
     "metadata": {},
     "output_type": "display_data"
    }
   ],
   "source": [
    "mode(a)"
   ]
  },
  {
   "cell_type": "code",
   "execution_count": 63,
   "id": "5d378fca-d64d-43dd-8210-ca913f470d89",
   "metadata": {},
   "outputs": [
    {
     "data": {
      "text/plain": [
       "[1] NA"
      ]
     },
     "metadata": {},
     "output_type": "display_data"
    }
   ],
   "source": [
    "as.logical(a)"
   ]
  },
  {
   "cell_type": "code",
   "execution_count": 64,
   "id": "0cdb9d72-7e02-4399-abfe-9006c2099efa",
   "metadata": {},
   "outputs": [
    {
     "data": {
      "text/plain": [
       "[1] \"logical\""
      ]
     },
     "metadata": {},
     "output_type": "display_data"
    }
   ],
   "source": [
    "a = as.logical(a)\n",
    "mode(a)"
   ]
  },
  {
   "cell_type": "code",
   "execution_count": 65,
   "id": "432b483e-a320-44c6-9d1a-fda9a6703ce4",
   "metadata": {},
   "outputs": [
    {
     "data": {
      "text/plain": [
       "[1] NA"
      ]
     },
     "metadata": {},
     "output_type": "display_data"
    }
   ],
   "source": [
    "as.character(a)"
   ]
  },
  {
   "cell_type": "markdown",
   "id": "1d92f960-e24c-46e0-b159-13ffa827788c",
   "metadata": {},
   "source": [
    "## 서로 다른 형으로 이루어진 벡터의 mode"
   ]
  },
  {
   "cell_type": "markdown",
   "id": "3cd84b7b-f4b3-4564-9916-a481b28aa5ec",
   "metadata": {},
   "source": [
    "- 문자형 섞여있으면 모두 문자형으로 바뀐다."
   ]
  },
  {
   "cell_type": "code",
   "execution_count": 66,
   "id": "38b1f2bd-f14c-49f6-b9ac-c38ab9bcf7c6",
   "metadata": {},
   "outputs": [
    {
     "data": {
      "text/plain": [
       "[1] \"1\"    \"TRUE\" \"1\"   "
      ]
     },
     "metadata": {},
     "output_type": "display_data"
    }
   ],
   "source": [
    "a <- c(1, T, \"1\")\n",
    "a"
   ]
  },
  {
   "cell_type": "code",
   "execution_count": 70,
   "id": "4ec57774-cd33-4282-ba76-7b63aaddd276",
   "metadata": {},
   "outputs": [
    {
     "data": {
      "text/plain": [
       "[1] \"numeric\""
      ]
     },
     "metadata": {},
     "output_type": "display_data"
    }
   ],
   "source": [
    "mode(a)"
   ]
  },
  {
   "cell_type": "markdown",
   "id": "115b2cf4-ce7a-4aeb-aa6e-809e244b7f73",
   "metadata": {},
   "source": [
    "- 문자형이 없으면 모두 numeric형으로 바뀐다."
   ]
  },
  {
   "cell_type": "code",
   "execution_count": 71,
   "id": "2ab8c435-9126-45f1-ac6b-282974c1e75c",
   "metadata": {},
   "outputs": [
    {
     "data": {
      "text/plain": [
       "[1] 1 1"
      ]
     },
     "metadata": {},
     "output_type": "display_data"
    }
   ],
   "source": [
    "a <- c(1, T)\n",
    "a"
   ]
  },
  {
   "cell_type": "code",
   "execution_count": 69,
   "id": "97edbe1c-7969-4848-8027-abc5936357f8",
   "metadata": {},
   "outputs": [
    {
     "data": {
      "text/plain": [
       "[1] \"numeric\""
      ]
     },
     "metadata": {},
     "output_type": "display_data"
    }
   ],
   "source": [
    "mode(a)"
   ]
  },
  {
   "cell_type": "markdown",
   "id": "52df9777-a502-45d9-bd0f-dcf56a091313",
   "metadata": {},
   "source": [
    "- 서로 다른 형을 가진 벡터를 만들면 한가지 형으로 자동 형 변환이 된다."
   ]
  },
  {
   "cell_type": "markdown",
   "id": "5e94b53d-96e6-4d2c-8bde-b21e631a68fe",
   "metadata": {},
   "source": [
    "- mode가 두 개일 수 없다."
   ]
  },
  {
   "cell_type": "markdown",
   "id": "b7f09c55-570c-4f97-b328-6035d327fc60",
   "metadata": {},
   "source": [
    "# 과제"
   ]
  },
  {
   "cell_type": "code",
   "execution_count": 82,
   "id": "c23e7d6e-bfc3-40ea-acb8-2daef4306589",
   "metadata": {},
   "outputs": [
    {
     "data": {
      "text/plain": [
       "     [,1] [,2] [,3]\n",
       "[1,] 1    2    3   \n",
       "[2,] 4    5    6   \n",
       "[3,] 7    8    9   "
      ]
     },
     "metadata": {},
     "output_type": "display_data"
    }
   ],
   "source": [
    "A = matrix(1:9, ncol=3, byrow=TRUE)\n",
    "A"
   ]
  },
  {
   "cell_type": "code",
   "execution_count": 87,
   "id": "c5ecbcdd-1761-48bf-b525-345e268c5c52",
   "metadata": {},
   "outputs": [
    {
     "data": {
      "text/plain": [
       "     [,1] [,2] [,3]\n",
       "[1,] -1   -2    -3 \n",
       "[2,] -4   -5    -6 \n",
       "[3,] -7   -8   -10 "
      ]
     },
     "metadata": {},
     "output_type": "display_data"
    }
   ],
   "source": [
    "B = (-A)\n",
    "B[3,3] = -10\n",
    "B"
   ]
  },
  {
   "cell_type": "code",
   "execution_count": 88,
   "id": "6d79df3d-9a30-418b-aa44-7af73d5b8291",
   "metadata": {},
   "outputs": [
    {
     "data": {
      "text/plain": [
       "     [,1] [,2] [,3]\n",
       "[1,] 0    0     0  \n",
       "[2,] 0    0     0  \n",
       "[3,] 0    0    -1  "
      ]
     },
     "metadata": {},
     "output_type": "display_data"
    }
   ],
   "source": [
    "A + B"
   ]
  },
  {
   "cell_type": "code",
   "execution_count": null,
   "id": "6ad8a973-5049-41ee-80eb-616d72c6c735",
   "metadata": {},
   "outputs": [],
   "source": []
  }
 ],
 "metadata": {
  "kernelspec": {
   "display_name": "R",
   "language": "R",
   "name": "ir"
  },
  "language_info": {
   "codemirror_mode": "r",
   "file_extension": ".r",
   "mimetype": "text/x-r-source",
   "name": "R",
   "pygments_lexer": "r",
   "version": "4.0.5"
  }
 },
 "nbformat": 4,
 "nbformat_minor": 5
}
