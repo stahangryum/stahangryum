{
 "cells": [
  {
   "cell_type": "code",
   "execution_count": 2,
   "id": "d4a380b3-cd20-465c-b61e-4ac8be3acd27",
   "metadata": {},
   "outputs": [],
   "source": [
    "#hide\n",
    "options(jupyter.plot_scale = 3)\n",
    "options(jupyter.display_mimetypes = c(\"text/html\"))\n",
    "options(jupyter.rich_display=FALSE)\n",
    "options(repr.plot.width=6, repr.plot.height=6, repr.plot.res=300)\n",
    "options(max.print=1000)"
   ]
  },
  {
   "cell_type": "markdown",
   "id": "3eac439f-ecd7-4777-9208-1a1637e96694",
   "metadata": {},
   "source": [
    "# \"볼링공 고르기\"\n",
    "> \"전북대학교 R입문 7주차 필기\"\n",
    "\n",
    "- toc: true\n",
    "- branch: master\n",
    "- badges: true\n",
    "- comments: true\n",
    "- author: Kim Jeewoo\n",
    "- categories: [Introduction to R]\n",
    "- image: images/r_logo.PNG"
   ]
  },
  {
   "cell_type": "markdown",
   "id": "8ccca404-ad3b-4985-b75d-5e327c5b9fc7",
   "metadata": {},
   "source": [
    "# 볼링공 고르기"
   ]
  },
  {
   "cell_type": "markdown",
   "id": "6a89c3e1-2041-4cce-9e3c-c5faa5cba5f4",
   "metadata": {},
   "source": [
    "## Problem"
   ]
  },
  {
   "cell_type": "markdown",
   "id": "a46cefc3-db58-47c6-8ec1-7ffc508018dc",
   "metadata": {},
   "source": [
    "A, B 두 사람이 볼링을 치고 있습니다. 두 사람은 서로 무게가 다른 볼링공을 고르려고 합니다. 볼링공은 총 N 개가 있으며 각 볼링공마다 무게가 적혀 있고, 공의 번호는 1번부터 순서대로 부여됩니다. \n",
    "\n",
    "또한 같은 무게의 공이 여러 개 있을 수 있지만, 서로 다른 공으로 간주합니다. 볼링공의 무게는 1부터 M까지의 자연수 형태로 존재합니다.\n",
    "\n",
    "예를 들어 N이 5이고, M이 3이며 각각의 무게가 차례대로 1, 3, 2, 3, 2일 때 각 공의 번호가 차레대로 1번부터 5번까지 부여됩니다. 이때 두 사람이 고를 수 있는 볼링공 번호의 조합을 구하면 다음과 같습니다."
   ]
  },
  {
   "cell_type": "markdown",
   "id": "52344f41-aaa6-466e-9b24-a0cc5ef699fa",
   "metadata": {},
   "source": [
    "(1번, 2번), (1번, 3번), (1번, 4번), (1번, 5번), (2번, 3번), (2번, 5번), (3번,\n",
    "4번), (4번, 5번)"
   ]
  },
  {
   "cell_type": "markdown",
   "id": "06dc0918-7712-48a4-aa06-6169735cfb18",
   "metadata": {},
   "source": [
    "결과적으로 두 사람이 공을 고르는 경우의 수는 8가지입니다. N개의 공의 무게가 각각 주어질 때, 두 사람이 볼링공을 고르는 경우의 수를 구하는 프로그램을 작성하세요."
   ]
  },
  {
   "cell_type": "markdown",
   "id": "f127e6cf-e018-4ef3-a70b-901f3c25e586",
   "metadata": {},
   "source": [
    "### Example"
   ]
  },
  {
   "cell_type": "markdown",
   "id": "8c5c4229-1e62-4b11-a9c9-bc8bbe4d5b24",
   "metadata": {},
   "source": [
    "- 입력 예시\n",
    "\n",
    "```\n",
    "입력\n",
    "5 3\n",
    "1 3 2 3 2\n",
    "\n",
    "출력\n",
    "8\n",
    "```"
   ]
  },
  {
   "cell_type": "markdown",
   "id": "3ab189a0-9266-45e5-9522-14e7afb82aa4",
   "metadata": {},
   "source": [
    "## Solution I"
   ]
  },
  {
   "cell_type": "code",
   "execution_count": 3,
   "id": "094af9c5-01be-43fd-8bfa-50387721133c",
   "metadata": {},
   "outputs": [
    {
     "data": {
      "text/plain": [
       "[1] 8"
      ]
     },
     "metadata": {},
     "output_type": "display_data"
    }
   ],
   "source": [
    "N = 5\n",
    "M = 3\n",
    "a = c(1,3,2,3,2)\n",
    "\n",
    "count = 0\n",
    "\n",
    "for (i in 1:length(a)){\n",
    "    for(j in 1:length(a)){\n",
    "        if ((a[i] != a[j]) & (j > i)) count = count + 1\n",
    "    }\n",
    "}\n",
    "count"
   ]
  },
  {
   "cell_type": "markdown",
   "id": "d69174e4-09b7-4dfc-8a1f-753f9d95abd7",
   "metadata": {},
   "source": [
    "## Solution II"
   ]
  },
  {
   "cell_type": "markdown",
   "id": "af7bf38a-dc0a-418e-b567-3f15594891d1",
   "metadata": {},
   "source": [
    "- ((a[i] != a[j]) & (j > i))에서 (j > i)는 for문 선언부에서 처리할 수 있다."
   ]
  },
  {
   "cell_type": "code",
   "execution_count": 4,
   "id": "e6d8bb34-8a19-40fa-8991-e1af47d5b22c",
   "metadata": {},
   "outputs": [
    {
     "data": {
      "text/plain": [
       "[1] 8"
      ]
     },
     "metadata": {},
     "output_type": "display_data"
    }
   ],
   "source": [
    "N = 5\n",
    "M = 3\n",
    "a = c(1,3,2,3,2)\n",
    "\n",
    "count = 0\n",
    "\n",
    "for (i in 1:length(a)){\n",
    "    for(j in i:length(a)){\n",
    "        if (a[i] != a[j]) count = count + 1\n",
    "    }\n",
    "}\n",
    "count"
   ]
  },
  {
   "cell_type": "markdown",
   "id": "1cbcec10-5c34-4474-9854-cf33b930e740",
   "metadata": {},
   "source": [
    "## Solution III"
   ]
  },
  {
   "cell_type": "markdown",
   "id": "b0eec6cb-bb4d-4d97-9d4c-59094202a040",
   "metadata": {},
   "source": [
    "- 매트릭스를 이용하여 푼다."
   ]
  },
  {
   "cell_type": "code",
   "execution_count": 36,
   "id": "07bea6ed-aecc-4ca2-9922-0f9c0f41d783",
   "metadata": {},
   "outputs": [
    {
     "data": {
      "text/plain": [
       "[1] 8"
      ]
     },
     "metadata": {},
     "output_type": "display_data"
    }
   ],
   "source": [
    "a = c(1,3,2,3,2)\n",
    "A = rep(0, 25*2)\n",
    "dim(A) = c(25,2)\n",
    "\n",
    "k=1\n",
    "for (i in 1:5){\n",
    "    for (j in 1:5){\n",
    "        A[k,] <- c(a[i], a[j])\n",
    "        k = k + 1\n",
    "    }\n",
    "}\n",
    "\n",
    "vec1 <- c() #무게가 같은 것을 뽑으면 FALSE\n",
    "for (i in 1:25){\n",
    "    vec1[i] = A[i,1] != A[i,2]\n",
    "}\n",
    "\n",
    "\n",
    "k=1\n",
    "vec2 <- c() #중복되는 것을 뽑으면 FALSE\n",
    "for (i in 1:5){\n",
    "    for (j in 1:5){\n",
    "        vec2[k] = (j>i)\n",
    "        k=k+1\n",
    "    }\n",
    "}\n",
    "\n",
    "sum(vec1&vec2) #모두 TRUE인 것의 개수"
   ]
  },
  {
   "cell_type": "markdown",
   "id": "e7a76d9c-6c2f-48aa-be9e-f50a72eb143e",
   "metadata": {},
   "source": [
    "## Solution IV"
   ]
  },
  {
   "cell_type": "markdown",
   "id": "98030bc8-7a73-49a6-8d1e-a85fe3dc32df",
   "metadata": {},
   "source": [
    "- Solution III의 간단한 형태."
   ]
  },
  {
   "cell_type": "code",
   "execution_count": 41,
   "id": "e436fb5b-22f5-4a1f-a688-47e405a308fe",
   "metadata": {},
   "outputs": [
    {
     "data": {
      "text/plain": [
       "[1] 8"
      ]
     },
     "metadata": {},
     "output_type": "display_data"
    }
   ],
   "source": [
    "a = c(1,3,2,3,2)\n",
    "A = rep(0, 25*2)\n",
    "dim(A) = c(25,2)\n",
    "\n",
    "k=1\n",
    "for (i in 1:5){\n",
    "    for (j in 1:5){\n",
    "        A[k,] <- c(a[i], a[j])\n",
    "        k = k + 1\n",
    "    }\n",
    "}\n",
    "\n",
    "vec1 <- c()\n",
    "vec2 <- c()\n",
    "\n",
    "for (i in 1:25){\n",
    "    vec1[i] <- (A[i, 1] != A[i, 2])\n",
    "    vec2[i] <- (A[i, 1] > A[i, 2])\n",
    "}\n",
    "\n",
    "sum(vec1&vec2)"
   ]
  },
  {
   "cell_type": "markdown",
   "id": "3ecaa4f6-0b17-4aa2-b573-c0870cf4e1f9",
   "metadata": {},
   "source": [
    "## Solution V"
   ]
  },
  {
   "cell_type": "code",
   "execution_count": 45,
   "id": "62e519ac-0537-42df-a9fe-723faec51762",
   "metadata": {},
   "outputs": [
    {
     "data": {
      "text/plain": [
       "[1] 8"
      ]
     },
     "metadata": {},
     "output_type": "display_data"
    }
   ],
   "source": [
    "a = c(1,3,2,3,2)\n",
    "A = rep(0, 25*2)\n",
    "dim(A) = c(25,2)\n",
    "\n",
    "k=1\n",
    "for (i in 1:5){\n",
    "    for (j in 1:5){\n",
    "        A[k,] <- c(a[i], a[j])\n",
    "        k = k + 1\n",
    "    }\n",
    "}\n",
    "\n",
    "vec1 <- (A[,1] != A[,2])\n",
    "vec2 <- (A[,1] > A[,2])\n",
    "\n",
    "sum(vec1&vec2 )"
   ]
  },
  {
   "cell_type": "markdown",
   "id": "4b4ea1a0-d86d-4606-951b-c608b337ca95",
   "metadata": {},
   "source": [
    "## Solution VI"
   ]
  },
  {
   "cell_type": "markdown",
   "id": "a8feeffe-d041-4b82-a982-9e321abf16af",
   "metadata": {},
   "source": [
    "- 생각해보니 단순히 첫번째 열이 두번째 열보다 큰지만 체크해도 된다."
   ]
  },
  {
   "cell_type": "code",
   "execution_count": 55,
   "id": "193cdb13-ae80-47ee-88d1-ce66148e6676",
   "metadata": {},
   "outputs": [
    {
     "data": {
      "text/plain": [
       "[1] 8"
      ]
     },
     "metadata": {},
     "output_type": "display_data"
    }
   ],
   "source": [
    "a = c(1,3,2,3,2)\n",
    "A = rep(0, 25*2)\n",
    "dim(A) = c(25,2)\n",
    "\n",
    "k=1\n",
    "for (i in 1:5){\n",
    "    for (j in 1:5){\n",
    "        A[k,] <- c(a[i], a[j])\n",
    "        k = k + 1\n",
    "    }\n",
    "}\n",
    "\n",
    "sum( A[,1] < A[,2] )"
   ]
  },
  {
   "cell_type": "code",
   "execution_count": 57,
   "id": "89c4da75-d32e-4288-9941-e34923400a6d",
   "metadata": {},
   "outputs": [
    {
     "data": {
      "text/plain": [
       "      [,1] [,2]\n",
       " [1,] 1    1   \n",
       " [2,] 1    3   \n",
       " [3,] 1    2   \n",
       " [4,] 1    3   \n",
       " [5,] 1    2   \n",
       " [6,] 3    1   \n",
       " [7,] 3    3   \n",
       " [8,] 3    2   \n",
       " [9,] 3    3   \n",
       "[10,] 3    2   \n",
       "[11,] 2    1   \n",
       "[12,] 2    3   \n",
       "[13,] 2    2   \n",
       "[14,] 2    3   \n",
       "[15,] 2    2   \n",
       "[16,] 3    1   \n",
       "[17,] 3    3   \n",
       "[18,] 3    2   \n",
       "[19,] 3    3   \n",
       "[20,] 3    2   \n",
       "[21,] 2    1   \n",
       "[22,] 2    3   \n",
       "[23,] 2    2   \n",
       "[24,] 2    3   \n",
       "[25,] 2    2   "
      ]
     },
     "metadata": {},
     "output_type": "display_data"
    }
   ],
   "source": [
    "A"
   ]
  },
  {
   "cell_type": "markdown",
   "id": "1c7424cc-2cfa-45c3-9895-429470f38993",
   "metadata": {},
   "source": [
    "## 지금까지 풀이 정리"
   ]
  },
  {
   "cell_type": "markdown",
   "id": "c79e7239-b5ba-49f3-b7bb-51bc0ca40704",
   "metadata": {},
   "source": [
    "풀이 1 ~ 2 : 매트릭스를 사용하지 않음.\n",
    "\n",
    "풀이 3 ~ 6 : 매트릭스를 사용함.\n",
    "\n",
    "현재까지는 풀이2가 가장 간결하고 루프도 적게 돌아간다.\n",
    "그러나 풀이 1 ~ 2는 수정 및 디버깅이 어렵다, -> 예외사항을 처리하기 어려움.\n",
    "\n",
    "풀이 3 ~ 6은 루프가 많이 돌아가지만 수정 및 디버깅이 쉽다."
   ]
  },
  {
   "cell_type": "markdown",
   "id": "7a2ac197-e6fe-4199-a790-d063247b8e91",
   "metadata": {},
   "source": [
    "## Solution VII - Data Frame"
   ]
  },
  {
   "cell_type": "markdown",
   "id": "19aa3cba-fb88-40a9-9cb2-d7c396d0fffd",
   "metadata": {},
   "source": [
    "- 사실 R에는 A를 바로 구하는 함수가 존재한다."
   ]
  },
  {
   "cell_type": "markdown",
   "id": "50050795-2508-4e7f-aef6-5a528af0ecf2",
   "metadata": {},
   "source": [
    "- expand.grid($x_1 \\dots x_2$): 벡터를 입력으로 받아서 그 벡터의 원소가 만들어내는 순서쌍 조합을 **데이터프레임** 형태로 리턴한다. "
   ]
  },
  {
   "cell_type": "markdown",
   "id": "94ce711f-ddfe-40a1-bd17-fcf191fd8957",
   "metadata": {},
   "source": [
    "- mutate(): 데이터프레임에서 새로운 column를 추가하는 기능 (기존의 column을 활용하여 만들 수도 있다.)"
   ]
  },
  {
   "cell_type": "markdown",
   "id": "71e862bc-1c6d-4c16-b3b6-04de84c2bd56",
   "metadata": {},
   "source": [
    "- filter(): 데이터프레임에서 특정조건을 만족하는 행을 필터링 하는 기능"
   ]
  },
  {
   "cell_type": "markdown",
   "id": "aff5cb83-f472-4589-b2bb-eea1f6c8a7c0",
   "metadata": {},
   "source": [
    "- count(): 데이터프레임의 행의 숫자를 세어주는 기능"
   ]
  },
  {
   "cell_type": "markdown",
   "id": "a5bd5361-cfdb-43b5-8de9-6053e9d9afcd",
   "metadata": {},
   "source": [
    "- as.numeric(): numeric type(숫자형)으로 변경하는 기능"
   ]
  },
  {
   "cell_type": "code",
   "execution_count": 82,
   "id": "978e2536-e7b7-4f0d-9bcd-14c1d5d86083",
   "metadata": {},
   "outputs": [
    {
     "data": {
      "text/plain": [
       "   Var1 Var2\n",
       "1  1    1   \n",
       "2  3    1   \n",
       "3  2    1   \n",
       "4  3    1   \n",
       "5  2    1   \n",
       "6  1    3   \n",
       "7  3    3   \n",
       "8  2    3   \n",
       "9  3    3   \n",
       "10 2    3   \n",
       "11 1    2   \n",
       "12 3    2   \n",
       "13 2    2   \n",
       "14 3    2   \n",
       "15 2    2   \n",
       "16 1    3   \n",
       "17 3    3   \n",
       "18 2    3   \n",
       "19 3    3   \n",
       "20 2    3   \n",
       "21 1    2   \n",
       "22 3    2   \n",
       "23 2    2   \n",
       "24 3    2   \n",
       "25 2    2   "
      ]
     },
     "metadata": {},
     "output_type": "display_data"
    }
   ],
   "source": [
    "a = c(1,3,2,3,2)\n",
    "A = expand.grid(a, a)\n",
    "A"
   ]
  },
  {
   "cell_type": "code",
   "execution_count": 83,
   "id": "2ce186ca-3b62-4699-9cab-2b46c9eec0e3",
   "metadata": {},
   "outputs": [],
   "source": [
    "library(tidyverse)"
   ]
  },
  {
   "cell_type": "code",
   "execution_count": 108,
   "id": "ea70a046-7621-4dd5-a972-5e605a0c0c8c",
   "metadata": {},
   "outputs": [],
   "source": [
    "A %>% mutate(C= Var1> Var2) %>% filter(C==TRUE) %>% count -> result"
   ]
  },
  {
   "cell_type": "code",
   "execution_count": 109,
   "id": "06606486-66d0-4ac6-8375-2a14a1756da3",
   "metadata": {},
   "outputs": [
    {
     "data": {
      "text/plain": [
       "  n\n",
       "1 8"
      ]
     },
     "metadata": {},
     "output_type": "display_data"
    }
   ],
   "source": [
    "result"
   ]
  },
  {
   "cell_type": "markdown",
   "id": "96fa802e-a632-4b7e-9bb7-d6ed25bc2a43",
   "metadata": {},
   "source": [
    "데이터프레임 형식으로 나오니 상수로 바꿔주자."
   ]
  },
  {
   "cell_type": "code",
   "execution_count": 111,
   "id": "2a264f16-d71e-4a90-8f52-60d9a75d7c39",
   "metadata": {},
   "outputs": [
    {
     "data": {
      "text/plain": [
       "[1] 8"
      ]
     },
     "metadata": {},
     "output_type": "display_data"
    }
   ],
   "source": [
    "as.numeric(result)"
   ]
  },
  {
   "cell_type": "markdown",
   "id": "6469546f-75c7-470c-9e73-a4660d7f7b73",
   "metadata": {},
   "source": [
    "# 과제"
   ]
  },
  {
   "cell_type": "code",
   "execution_count": 116,
   "id": "dad28f8b-9572-4752-9632-640cac28d71e",
   "metadata": {},
   "outputs": [
    {
     "data": {
      "text/plain": [
       "[1] 8"
      ]
     },
     "metadata": {},
     "output_type": "display_data"
    }
   ],
   "source": [
    "A %>% mutate(C= Var1 - Var2 > 0) %>% filter(C==TRUE) %>% count %>% as.numeric()"
   ]
  },
  {
   "cell_type": "code",
   "execution_count": null,
   "id": "ce05de35-337f-4665-af2d-e4b25b5af4ba",
   "metadata": {},
   "outputs": [],
   "source": []
  }
 ],
 "metadata": {
  "kernelspec": {
   "display_name": "R",
   "language": "R",
   "name": "ir"
  },
  "language_info": {
   "codemirror_mode": "r",
   "file_extension": ".r",
   "mimetype": "text/x-r-source",
   "name": "R",
   "pygments_lexer": "r",
   "version": "4.0.5"
  }
 },
 "nbformat": 4,
 "nbformat_minor": 5
}
