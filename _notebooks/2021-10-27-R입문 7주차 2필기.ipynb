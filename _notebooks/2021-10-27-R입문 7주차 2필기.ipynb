{
 "cells": [
  {
   "cell_type": "code",
   "execution_count": 2,
   "id": "d4a380b3-cd20-465c-b61e-4ac8be3acd27",
   "metadata": {},
   "outputs": [],
   "source": [
    "#hide\n",
    "options(jupyter.plot_scale = 3)\n",
    "options(jupyter.display_mimetypes = c(\"text/html\"))\n",
    "options(jupyter.rich_display=FALSE)\n",
    "options(repr.plot.width=6, repr.plot.height=6, repr.plot.res=300)\n",
    "options(max.print=1000)"
   ]
  },
  {
   "cell_type": "markdown",
   "id": "3eac439f-ecd7-4777-9208-1a1637e96694",
   "metadata": {},
   "source": [
    "# \"볼링공 고르기\"\n",
    "> \"전북대학교 R입문 7주차 필기\"\n",
    "\n",
    "- toc: true\n",
    "- branch: master\n",
    "- badges: true\n",
    "- comments: true\n",
    "- author: Kim Jeewoo\n",
    "- categories: [Introduction to R]\n",
    "- image: images/r_logo.PNG"
   ]
  },
  {
   "cell_type": "markdown",
   "id": "8ccca404-ad3b-4985-b75d-5e327c5b9fc7",
   "metadata": {},
   "source": [
    "# 볼링공 고르기"
   ]
  },
  {
   "cell_type": "markdown",
   "id": "6a89c3e1-2041-4cce-9e3c-c5faa5cba5f4",
   "metadata": {},
   "source": [
    "## Problem"
   ]
  },
  {
   "cell_type": "markdown",
   "id": "a46cefc3-db58-47c6-8ec1-7ffc508018dc",
   "metadata": {},
   "source": [
    "A, B 두 사람이 볼링을 치고 있습니다. 두 사람은 서로 무게가 다른 볼링공을 고르려고 합니다. 볼링공은 총 N 개가 있으며 각 볼링공마다 무게가 적혀 있고, 공의 번호는 1번부터 순서대로 부여됩니다. \n",
    "\n",
    "또한 같은 무게의 공이 여러 개 있을 수 있지만, 서로 다른 공으로 간주합니다. 볼링공의 무게는 1부터 M까지의 자연수 형태로 존재합니다.\n",
    "\n",
    "예를 들어 N이 5이고, M이 3이며 각각의 무게가 차례대로 1, 3, 2, 3, 2일 때 각 공의 번호가 차레대로 1번부터 5번까지 부여됩니다. 이때 두 사람이 고를 수 있는 볼링공 번호의 조합을 구하면 다음과 같습니다."
   ]
  },
  {
   "cell_type": "markdown",
   "id": "52344f41-aaa6-466e-9b24-a0cc5ef699fa",
   "metadata": {},
   "source": [
    "(1번, 2번), (1번, 3번), (1번, 4번), (1번, 5번), (2번, 3번), (2번, 5번), (3번,\n",
    "4번), (4번, 5번)"
   ]
  },
  {
   "cell_type": "markdown",
   "id": "06dc0918-7712-48a4-aa06-6169735cfb18",
   "metadata": {},
   "source": [
    "결과적으로 두 사람이 공을 고르는 경우의 수는 8가지입니다. N개의 공의 무게가 각각 주어질 때, 두 사람이 볼링공을 고르는 경우의 수를 구하는 프로그램을 작성하세요."
   ]
  },
  {
   "cell_type": "markdown",
   "id": "f127e6cf-e018-4ef3-a70b-901f3c25e586",
   "metadata": {},
   "source": [
    "### Example"
   ]
  },
  {
   "cell_type": "markdown",
   "id": "8c5c4229-1e62-4b11-a9c9-bc8bbe4d5b24",
   "metadata": {},
   "source": [
    "- 입력 예시\n",
    "\n",
    "```\n",
    "입력\n",
    "5 3\n",
    "1 3 2 3 2\n",
    "\n",
    "출력\n",
    "8\n",
    "```"
   ]
  },
  {
   "cell_type": "markdown",
   "id": "3ab189a0-9266-45e5-9522-14e7afb82aa4",
   "metadata": {},
   "source": [
    "## Solution I"
   ]
  },
  {
   "cell_type": "code",
   "execution_count": 3,
   "id": "094af9c5-01be-43fd-8bfa-50387721133c",
   "metadata": {},
   "outputs": [
    {
     "data": {
      "text/plain": [
       "[1] 8"
      ]
     },
     "metadata": {},
     "output_type": "display_data"
    }
   ],
   "source": [
    "N = 5\n",
    "M = 3\n",
    "a = c(1,3,2,3,2)\n",
    "\n",
    "count = 0\n",
    "\n",
    "for (i in 1:length(a)){\n",
    "    for(j in 1:length(a)){\n",
    "        if ((a[i] != a[j]) & (j > i)) count = count + 1\n",
    "    }\n",
    "}\n",
    "count"
   ]
  },
  {
   "cell_type": "markdown",
   "id": "d69174e4-09b7-4dfc-8a1f-753f9d95abd7",
   "metadata": {},
   "source": [
    "## Solution II"
   ]
  },
  {
   "cell_type": "markdown",
   "id": "af7bf38a-dc0a-418e-b567-3f15594891d1",
   "metadata": {},
   "source": [
    "- ((a[i] != a[j]) & (j > i))에서 (j > i)는 for문 선언부에서 처리할 수 있다."
   ]
  },
  {
   "cell_type": "code",
   "execution_count": 4,
   "id": "e6d8bb34-8a19-40fa-8991-e1af47d5b22c",
   "metadata": {},
   "outputs": [
    {
     "data": {
      "text/plain": [
       "[1] 8"
      ]
     },
     "metadata": {},
     "output_type": "display_data"
    }
   ],
   "source": [
    "N = 5\n",
    "M = 3\n",
    "a = c(1,3,2,3,2)\n",
    "\n",
    "count = 0\n",
    "\n",
    "for (i in 1:length(a)){\n",
    "    for(j in i:length(a)){\n",
    "        if (a[i] != a[j]) count = count + 1\n",
    "    }\n",
    "}\n",
    "count"
   ]
  },
  {
   "cell_type": "markdown",
   "id": "1cbcec10-5c34-4474-9854-cf33b930e740",
   "metadata": {},
   "source": [
    "## Solution III"
   ]
  },
  {
   "cell_type": "markdown",
   "id": "b0eec6cb-bb4d-4d97-9d4c-59094202a040",
   "metadata": {},
   "source": [
    "- 매트릭스를 이용하여 푼다."
   ]
  },
  {
   "cell_type": "code",
   "execution_count": 36,
   "id": "07bea6ed-aecc-4ca2-9922-0f9c0f41d783",
   "metadata": {},
   "outputs": [
    {
     "data": {
      "text/plain": [
       "[1] 8"
      ]
     },
     "metadata": {},
     "output_type": "display_data"
    }
   ],
   "source": [
    "a = c(1,3,2,3,2)\n",
    "A = rep(0, 25*2)\n",
    "dim(A) = c(25,2)\n",
    "\n",
    "k=1\n",
    "for (i in 1:5){\n",
    "    for (j in 1:5){\n",
    "        A[k,] <- c(a[i], a[j])\n",
    "        k = k + 1\n",
    "    }\n",
    "}\n",
    "\n",
    "vec1 <- c() #무게가 같은 것을 뽑으면 FALSE\n",
    "for (i in 1:25){\n",
    "    vec1[i] = A[i,1] != A[i,2]\n",
    "}\n",
    "\n",
    "\n",
    "k=1\n",
    "vec2 <- c() #중복되는 것을 뽑으면 FALSE\n",
    "for (i in 1:5){\n",
    "    for (j in 1:5){\n",
    "        vec2[k] = (j>i)\n",
    "        k=k+1\n",
    "    }\n",
    "}\n",
    "\n",
    "sum(vec1&vec2) #모두 TRUE인 것의 개수"
   ]
  },
  {
   "cell_type": "markdown",
   "id": "e7a76d9c-6c2f-48aa-be9e-f50a72eb143e",
   "metadata": {},
   "source": [
    "## Solution IV"
   ]
  },
  {
   "cell_type": "markdown",
   "id": "98030bc8-7a73-49a6-8d1e-a85fe3dc32df",
   "metadata": {},
   "source": [
    "- Solution III의 간단한 형태."
   ]
  },
  {
   "cell_type": "code",
   "execution_count": 41,
   "id": "e436fb5b-22f5-4a1f-a688-47e405a308fe",
   "metadata": {},
   "outputs": [
    {
     "data": {
      "text/plain": [
       "[1] 8"
      ]
     },
     "metadata": {},
     "output_type": "display_data"
    }
   ],
   "source": [
    "a = c(1,3,2,3,2)\n",
    "A = rep(0, 25*2)\n",
    "dim(A) = c(25,2)\n",
    "\n",
    "k=1\n",
    "for (i in 1:5){\n",
    "    for (j in 1:5){\n",
    "        A[k,] <- c(a[i], a[j])\n",
    "        k = k + 1\n",
    "    }\n",
    "}\n",
    "\n",
    "vec1 <- c()\n",
    "vec2 <- c()\n",
    "\n",
    "for (i in 1:25){\n",
    "    vec1[i] <- (A[i, 1] != A[i, 2])\n",
    "    vec2[i] <- (A[i, 1] > A[i, 2])\n",
    "}\n",
    "\n",
    "sum(vec1&vec2)"
   ]
  },
  {
   "cell_type": "markdown",
   "id": "3ecaa4f6-0b17-4aa2-b573-c0870cf4e1f9",
   "metadata": {},
   "source": [
    "## Solution V"
   ]
  },
  {
   "cell_type": "code",
   "execution_count": 42,
   "id": "62e519ac-0537-42df-a9fe-723faec51762",
   "metadata": {},
   "outputs": [
    {
     "ename": "ERROR",
     "evalue": "Error in vec1 <- A[, 1] = A[, 2]: 함수 \"<-<-\"를 찾을 수 없습니다\n",
     "output_type": "error",
     "traceback": [
      "Error in vec1 <- A[, 1] = A[, 2]: 함수 \"<-<-\"를 찾을 수 없습니다\nTraceback:\n"
     ]
    }
   ],
   "source": [
    "a = c(1,3,2,3,2)\n",
    "A = rep(0, 25*2)\n",
    "dim(A) = c(25,2)\n",
    "\n",
    "k=1\n",
    "for (i in 1:5){\n",
    "    for (j in 1:5){\n",
    "        A[k,] <- c(a[i], a[j])\n",
    "        k = k + 1\n",
    "    }\n",
    "}\n",
    "\n",
    "vec1 <- A[,1] = A[,2]\n",
    "vec2 <- A[,1] > A[,2]\n",
    "\n",
    "sum(vec1&vec2)"
   ]
  },
  {
   "cell_type": "code",
   "execution_count": 40,
   "id": "23a82a4e-4067-432a-b6fe-9e02526bb7de",
   "metadata": {},
   "outputs": [],
   "source": [
    "A[,1] = A[,2]"
   ]
  },
  {
   "cell_type": "code",
   "execution_count": null,
   "id": "530099ff-e04b-4469-8aa4-a6ee5db23f91",
   "metadata": {},
   "outputs": [],
   "source": []
  }
 ],
 "metadata": {
  "kernelspec": {
   "display_name": "R",
   "language": "R",
   "name": "ir"
  },
  "language_info": {
   "codemirror_mode": "r",
   "file_extension": ".r",
   "mimetype": "text/x-r-source",
   "name": "R",
   "pygments_lexer": "r",
   "version": "4.0.5"
  }
 },
 "nbformat": 4,
 "nbformat_minor": 5
}
