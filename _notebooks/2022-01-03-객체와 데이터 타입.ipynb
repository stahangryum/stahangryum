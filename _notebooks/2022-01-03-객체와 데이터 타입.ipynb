{
 "cells": [
  {
   "cell_type": "markdown",
   "id": "b3e4e6ec-f712-4cfc-9166-33a201e26403",
   "metadata": {},
   "source": [
    "# \"객체와 데이터 타입\"\n",
    "\n",
    "- toc: true\n",
    "- branch: master\n",
    "- badges: true\n",
    "- comments: true\n",
    "- author: Kim Jeewoo\n",
    "- categories: [Python]\n",
    "- image: images/pythonlogo.jpg"
   ]
  },
  {
   "cell_type": "code",
   "execution_count": 1,
   "id": "d4ec7d2c-03d0-40b5-85e9-db9044c998a6",
   "metadata": {},
   "outputs": [
    {
     "data": {
      "text/plain": [
       "[1, 2, 3]"
      ]
     },
     "execution_count": 1,
     "metadata": {},
     "output_type": "execute_result"
    }
   ],
   "source": [
    "a = [1, 2, 3]\n",
    "a"
   ]
  },
  {
   "cell_type": "code",
   "execution_count": 2,
   "id": "672ef4cb-bcd4-40e6-964f-876d89060303",
   "metadata": {},
   "outputs": [
    {
     "data": {
      "text/plain": [
       "[1, 2, 3]"
      ]
     },
     "execution_count": 2,
     "metadata": {},
     "output_type": "execute_result"
    }
   ],
   "source": [
    "b=a\n",
    "b"
   ]
  },
  {
   "cell_type": "code",
   "execution_count": 3,
   "id": "9bd14b58-d77e-43f9-945a-f9120d2d131d",
   "metadata": {},
   "outputs": [
    {
     "data": {
      "text/plain": [
       "[1, 2, 3, 4]"
      ]
     },
     "execution_count": 3,
     "metadata": {},
     "output_type": "execute_result"
    }
   ],
   "source": [
    "a.append(4)\n",
    "a"
   ]
  },
  {
   "cell_type": "code",
   "execution_count": 4,
   "id": "c661ffba-137c-402c-ac42-4fd9c64e557f",
   "metadata": {},
   "outputs": [
    {
     "data": {
      "text/plain": [
       "[1, 2, 3, 4]"
      ]
     },
     "execution_count": 4,
     "metadata": {},
     "output_type": "execute_result"
    }
   ],
   "source": [
    "b"
   ]
  },
  {
   "cell_type": "markdown",
   "id": "81324ce7-d866-4a33-afa1-ca6abef82c1f",
   "metadata": {},
   "source": [
    "?"
   ]
  },
  {
   "cell_type": "markdown",
   "id": "fbc30052-afda-495b-8b09-334df207c36c",
   "metadata": {},
   "source": [
    "## 0차원 자료형"
   ]
  },
  {
   "cell_type": "markdown",
   "id": "c3d7ba33-a192-453d-8bfa-371a640bf7da",
   "metadata": {},
   "source": [
    "int, bool, float"
   ]
  },
  {
   "cell_type": "code",
   "execution_count": null,
   "id": "7008abdc-022b-4353-ac49-583650e6676f",
   "metadata": {},
   "outputs": [],
   "source": []
  }
 ],
 "metadata": {
  "kernelspec": {
   "display_name": "Python 3 (ipykernel)",
   "language": "python",
   "name": "python3"
  },
  "language_info": {
   "codemirror_mode": {
    "name": "ipython",
    "version": 3
   },
   "file_extension": ".py",
   "mimetype": "text/x-python",
   "name": "python",
   "nbconvert_exporter": "python",
   "pygments_lexer": "ipython3",
   "version": "3.9.7"
  }
 },
 "nbformat": 4,
 "nbformat_minor": 5
}
