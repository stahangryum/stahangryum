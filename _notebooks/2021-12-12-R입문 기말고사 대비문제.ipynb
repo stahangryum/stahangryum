{
 "cells": [
  {
   "cell_type": "code",
   "execution_count": 10,
   "id": "27731860-0d61-4493-9c57-f164480aaa29",
   "metadata": {},
   "outputs": [],
   "source": [
    "#hide\n",
    "options(jupyter.plot_scale=3)\n",
    "options(jupyter.display_mimetypes=c(\"text/html\"))\n",
    "# options(jupyter.rich_display=FALSE)\n",
    "options(repr.plot.width=6,repr.plot.height=6,repr.plot.res=300)\n",
    "options(max.print=1000)"
   ]
  },
  {
   "cell_type": "markdown",
   "id": "3846d493-50d9-43ad-98e8-1461210572ad",
   "metadata": {},
   "source": [
    "# \"R입문 기말고사 대비문제\"\n",
    "> \"전북대학교 R입문 기말고사 대비문제\"\n",
    "\n",
    "- toc: true\n",
    "- branch: master\n",
    "- badges: true\n",
    "- comments: true\n",
    "- author: Kim Jeewoo\n",
    "- categories: [Introduction to R, Exam]\n",
    "- image: images/r_logo.jpg"
   ]
  },
  {
   "cell_type": "code",
   "execution_count": 7,
   "id": "a63abdb8-60df-4617-9763-7a541b3431d8",
   "metadata": {},
   "outputs": [
    {
     "name": "stderr",
     "output_type": "stream",
     "text": [
      "-- \u001b[1mAttaching packages\u001b[22m ------------------------------------------------------------------------------- tidyverse 1.3.1 --\n",
      "\n",
      "\u001b[32mv\u001b[39m \u001b[34mggplot2\u001b[39m 3.3.5     \u001b[32mv\u001b[39m \u001b[34mpurrr  \u001b[39m 0.3.4\n",
      "\u001b[32mv\u001b[39m \u001b[34mtibble \u001b[39m 3.1.5     \u001b[32mv\u001b[39m \u001b[34mdplyr  \u001b[39m 1.0.7\n",
      "\u001b[32mv\u001b[39m \u001b[34mtidyr  \u001b[39m 1.1.4     \u001b[32mv\u001b[39m \u001b[34mstringr\u001b[39m 1.4.0\n",
      "\u001b[32mv\u001b[39m \u001b[34mreadr  \u001b[39m 2.0.2     \u001b[32mv\u001b[39m \u001b[34mforcats\u001b[39m 0.5.1\n",
      "\n",
      "-- \u001b[1mConflicts\u001b[22m ---------------------------------------------------------------------------------- tidyverse_conflicts() --\n",
      "\u001b[31mx\u001b[39m \u001b[34mdplyr\u001b[39m::\u001b[32mfilter()\u001b[39m masks \u001b[34mstats\u001b[39m::filter()\n",
      "\u001b[31mx\u001b[39m \u001b[34mdplyr\u001b[39m::\u001b[32mlag()\u001b[39m    masks \u001b[34mstats\u001b[39m::lag()\n",
      "\n"
     ]
    }
   ],
   "source": [
    "library(tidyverse)"
   ]
  },
  {
   "cell_type": "markdown",
   "id": "21a0f600-e9bc-4909-b9e8-ca4c2900b20f",
   "metadata": {
    "id": "21a0f600-e9bc-4909-b9e8-ca4c2900b20f"
   },
   "source": [
    "## `1`. 회귀분석 "
   ]
  },
  {
   "cell_type": "markdown",
   "id": "317e056c-4165-4222-a637-0c6ac78ee201",
   "metadata": {
    "id": "317e056c-4165-4222-a637-0c6ac78ee201"
   },
   "source": [
    "아래와 같은 수식을 고려하자. \n",
    "\n",
    "$$y_i= 1.5+ 5\\sin(t_i)+ 3 \\cos(4 t_i)+\\epsilon_i, \\quad i=1,2,\\dots, 1000$$\n",
    "\n",
    "여기에서 $t_i=\\frac{2\\pi i}{1000}$ 이다. 그리고 $\\epsilon_i \\sim i.i.d~ N(0,1)$, 즉 서로 독립인 표준정규분포에서 추출된 샘플이다. "
   ]
  },
  {
   "cell_type": "markdown",
   "id": "620fd982-09c7-49ee-8faf-926bd5a09dd2",
   "metadata": {
    "id": "620fd982-09c7-49ee-8faf-926bd5a09dd2"
   },
   "source": [
    "#### `(1)` `rnorm()`을 이용하여 $\\{\\epsilon_i \\}_{i=1}^{1000}$ 을 만들고 이를 벡터로 만들어라. 즉 아래와 같은 벡터를 생성하라. \n",
    "\n",
    "- $\\boldsymbol{\\epsilon}=(\\epsilon_1,\\dots,\\epsilon_{1000})$"
   ]
  },
  {
   "cell_type": "code",
   "execution_count": 31,
   "id": "5a8353d6-2c49-4053-aca5-d9f2a0a1d00f",
   "metadata": {},
   "outputs": [
    {
     "data": {
      "text/html": [
       "<style>\n",
       ".list-inline {list-style: none; margin:0; padding: 0}\n",
       ".list-inline>li {display: inline-block}\n",
       ".list-inline>li:not(:last-child)::after {content: \"\\00b7\"; padding: 0 .5ex}\n",
       "</style>\n",
       "<ol class=list-inline><li>-0.675599947501899</li><li>-1.12281044395939</li><li>-0.0179260571646373</li><li>-0.256673512464843</li><li>-0.665892730414028</li><li>-0.140995575693812</li></ol>\n"
      ],
      "text/latex": [
       "\\begin{enumerate*}\n",
       "\\item -0.675599947501899\n",
       "\\item -1.12281044395939\n",
       "\\item -0.0179260571646373\n",
       "\\item -0.256673512464843\n",
       "\\item -0.665892730414028\n",
       "\\item -0.140995575693812\n",
       "\\end{enumerate*}\n"
      ],
      "text/markdown": [
       "1. -0.675599947501899\n",
       "2. -1.12281044395939\n",
       "3. -0.0179260571646373\n",
       "4. -0.256673512464843\n",
       "5. -0.665892730414028\n",
       "6. -0.140995575693812\n",
       "\n",
       "\n"
      ],
      "text/plain": [
       "[1] -0.67559995 -1.12281044 -0.01792606 -0.25667351 -0.66589273 -0.14099558"
      ]
     },
     "metadata": {},
     "output_type": "display_data"
    }
   ],
   "source": [
    "eps = rnorm(1000, mean = 0, sd = 1)\n",
    "head(eps)"
   ]
  },
  {
   "cell_type": "markdown",
   "id": "dd52f507-e2b6-4f65-a06c-2ee05620db5a",
   "metadata": {
    "id": "dd52f507-e2b6-4f65-a06c-2ee05620db5a"
   },
   "source": [
    "#### `(2)` $\\big\\{\\sin(t_i) \\big\\}_{i=1}^{1000}$와 $\\big\\{\\cos(4t_i) \\big\\}_{i=1}^{1000}$를 각각 생성하고 이를 ${\\bf x}_1$와 ${\\bf x}_2$에 저장하라. 즉 아래와 같은 2개의 벡터를 생성하라. \n",
    "- ${\\bf x}_1=\\big(\\sin(\\frac{2\\pi}{1000}),\\sin(\\frac{4\\pi}{1000}),\\dots,\\sin(2\\pi)\\big)$\n",
    "- ${\\bf x}_2=\\big(\\cos(\\frac{8\\pi}{1000}),\\cos(\\frac{16\\pi}{1000}),\\dots,\\cos(8\\pi)\\big)$"
   ]
  },
  {
   "cell_type": "code",
   "execution_count": 32,
   "id": "06a3c093-03f1-47d8-87c3-ab751de55368",
   "metadata": {},
   "outputs": [
    {
     "data": {
      "text/html": [
       "<style>\n",
       ".list-inline {list-style: none; margin:0; padding: 0}\n",
       ".list-inline>li {display: inline-block}\n",
       ".list-inline>li:not(:last-child)::after {content: \"\\00b7\"; padding: 0 .5ex}\n",
       "</style>\n",
       "<ol class=list-inline><li>0.00628314396555895</li><li>0.0125660398833526</li><li>0.0188484397154082</li><li>0.0251300954433375</li><li>0.0314107590781283</li><li>0.0376901826699345</li></ol>\n"
      ],
      "text/latex": [
       "\\begin{enumerate*}\n",
       "\\item 0.00628314396555895\n",
       "\\item 0.0125660398833526\n",
       "\\item 0.0188484397154082\n",
       "\\item 0.0251300954433375\n",
       "\\item 0.0314107590781283\n",
       "\\item 0.0376901826699345\n",
       "\\end{enumerate*}\n"
      ],
      "text/markdown": [
       "1. 0.00628314396555895\n",
       "2. 0.0125660398833526\n",
       "3. 0.0188484397154082\n",
       "4. 0.0251300954433375\n",
       "5. 0.0314107590781283\n",
       "6. 0.0376901826699345\n",
       "\n",
       "\n"
      ],
      "text/plain": [
       "[1] 0.006283144 0.012566040 0.018848440 0.025130095 0.031410759 0.037690183"
      ]
     },
     "metadata": {},
     "output_type": "display_data"
    },
    {
     "data": {
      "text/html": [
       "<style>\n",
       ".list-inline {list-style: none; margin:0; padding: 0}\n",
       ".list-inline>li {display: inline-block}\n",
       ".list-inline>li:not(:last-child)::after {content: \"\\00b7\"; padding: 0 .5ex}\n",
       "</style>\n",
       "<ol class=list-inline><li>0.9996841892833</li><li>0.998736956606017</li><li>0.997158900260614</li><li>0.9949510169813</li><li>0.992114701314478</li><li>0.988651744737914</li></ol>\n"
      ],
      "text/latex": [
       "\\begin{enumerate*}\n",
       "\\item 0.9996841892833\n",
       "\\item 0.998736956606017\n",
       "\\item 0.997158900260614\n",
       "\\item 0.9949510169813\n",
       "\\item 0.992114701314478\n",
       "\\item 0.988651744737914\n",
       "\\end{enumerate*}\n"
      ],
      "text/markdown": [
       "1. 0.9996841892833\n",
       "2. 0.998736956606017\n",
       "3. 0.997158900260614\n",
       "4. 0.9949510169813\n",
       "5. 0.992114701314478\n",
       "6. 0.988651744737914\n",
       "\n",
       "\n"
      ],
      "text/plain": [
       "[1] 0.9996842 0.9987370 0.9971589 0.9949510 0.9921147 0.9886517"
      ]
     },
     "metadata": {},
     "output_type": "display_data"
    }
   ],
   "source": [
    "i = 1:1000\n",
    "t = 2*pi*i/1000\n",
    "\n",
    "x_1 = sin(t)\n",
    "x_2 = cos(4*t)\n",
    "\n",
    "head(x_1)\n",
    "head(x_2)"
   ]
  },
  {
   "cell_type": "markdown",
   "id": "9f7026ba-605c-4f36-84cc-2615e0184358",
   "metadata": {
    "id": "a04cf768-c251-49b2-b75c-227703917abc"
   },
   "source": [
    "#### `(3)` (1),(2)로 부터 $y_i$를 계산하고, $(t_i,y_i)$를 scatter plot으로 시각화 하라. 색은 'gray60'을 사용하라. 시각화 예시는 아래와 같다. "
   ]
  },
  {
   "cell_type": "code",
   "execution_count": 33,
   "id": "da3f0c09-a9c1-45fc-b84d-ed86e2d8b052",
   "metadata": {},
   "outputs": [
    {
     "data": {
      "image/png": "[encoded data removed]",
      "text/plain": [
       "plot without title"
      ]
     },
     "metadata": {
      "image/png": {
       "height": 420,
       "width": 420
      }
     },
     "output_type": "display_data"
    }
   ],
   "source": [
    "y = 1.5 + 5*x_1 + 3*x_2 + eps\n",
    "plot(t, y, col = \"gray60\")"
   ]
  },
  {
   "cell_type": "markdown",
   "id": "2aa97a6f-5be5-4dab-9ffd-cb05cafa1057",
   "metadata": {
    "id": "2aa97a6f-5be5-4dab-9ffd-cb05cafa1057"
   },
   "source": [
    "#### `(4)` 두 벡터 ${\\bf x}_1$, ${\\bf x}_2$와 `cbind()`를 이용하여 아래와 같은 $1000 \\times 3$ 매트릭스 ${\\bf X}$를 만들어라. "
   ]
  },
  {
   "cell_type": "markdown",
   "id": "1a7a9102-3f73-495b-9232-38d1a6a5d979",
   "metadata": {
    "id": "1a7a9102-3f73-495b-9232-38d1a6a5d979"
   },
   "source": [
    "$${\\bf X}=\\begin{bmatrix}\n",
    "1 & \\sin(\\frac{2\\pi}{1000}) & \\cos(\\frac{8\\pi}{1000})\\\\ \n",
    "1 & \\sin(\\frac{4\\pi}{1000}) & \\cos(\\frac{16\\pi}{1000})\\\\ \n",
    "\\dots & \\dots  & \\dots \\\\ \n",
    "1 & \\sin(2\\pi) & \\cos(8\\pi)\\\\ \n",
    "\\end{bmatrix} $$ "
   ]
  },
  {
   "cell_type": "code",
   "execution_count": 34,
   "id": "74bb4dde-219b-4ba0-be12-40cf03fbf668",
   "metadata": {},
   "outputs": [
    {
     "data": {
      "text/html": [
       "<table class=\"dataframe\">\n",
       "<caption>A matrix: 6 × 3 of type dbl</caption>\n",
       "<thead>\n",
       "\t<tr><th scope=col></th><th scope=col>x_1</th><th scope=col>x_2</th></tr>\n",
       "</thead>\n",
       "<tbody>\n",
       "\t<tr><td>1</td><td>0.006283144</td><td>0.9996842</td></tr>\n",
       "\t<tr><td>1</td><td>0.012566040</td><td>0.9987370</td></tr>\n",
       "\t<tr><td>1</td><td>0.018848440</td><td>0.9971589</td></tr>\n",
       "\t<tr><td>1</td><td>0.025130095</td><td>0.9949510</td></tr>\n",
       "\t<tr><td>1</td><td>0.031410759</td><td>0.9921147</td></tr>\n",
       "\t<tr><td>1</td><td>0.037690183</td><td>0.9886517</td></tr>\n",
       "</tbody>\n",
       "</table>\n"
      ],
      "text/latex": [
       "A matrix: 6 × 3 of type dbl\n",
       "\\begin{tabular}{lll}\n",
       "  & x\\_1 & x\\_2\\\\\n",
       "\\hline\n",
       "\t 1 & 0.006283144 & 0.9996842\\\\\n",
       "\t 1 & 0.012566040 & 0.9987370\\\\\n",
       "\t 1 & 0.018848440 & 0.9971589\\\\\n",
       "\t 1 & 0.025130095 & 0.9949510\\\\\n",
       "\t 1 & 0.031410759 & 0.9921147\\\\\n",
       "\t 1 & 0.037690183 & 0.9886517\\\\\n",
       "\\end{tabular}\n"
      ],
      "text/markdown": [
       "\n",
       "A matrix: 6 × 3 of type dbl\n",
       "\n",
       "| <!----> | x_1 | x_2 |\n",
       "|---|---|---|\n",
       "| 1 | 0.006283144 | 0.9996842 |\n",
       "| 1 | 0.012566040 | 0.9987370 |\n",
       "| 1 | 0.018848440 | 0.9971589 |\n",
       "| 1 | 0.025130095 | 0.9949510 |\n",
       "| 1 | 0.031410759 | 0.9921147 |\n",
       "| 1 | 0.037690183 | 0.9886517 |\n",
       "\n"
      ],
      "text/plain": [
       "       x_1         x_2      \n",
       "[1,] 1 0.006283144 0.9996842\n",
       "[2,] 1 0.012566040 0.9987370\n",
       "[3,] 1 0.018848440 0.9971589\n",
       "[4,] 1 0.025130095 0.9949510\n",
       "[5,] 1 0.031410759 0.9921147\n",
       "[6,] 1 0.037690183 0.9886517"
      ]
     },
     "metadata": {},
     "output_type": "display_data"
    }
   ],
   "source": [
    "X = cbind((rep(1,1000)), x_1, x_2)\n",
    "head(X)"
   ]
  },
  {
   "cell_type": "markdown",
   "id": "d09a138b-47fe-479b-a04e-3043d2c3ba86",
   "metadata": {
    "id": "d09a138b-47fe-479b-a04e-3043d2c3ba86"
   },
   "source": [
    "#### `(5)` $3 \\times 1$ 매트릭스 $\\boldsymbol{\\beta}=\\begin{bmatrix} 1.5 \\\\ 5 \\\\ 3 \\end{bmatrix}$를 만들고 매트릭스 곱을 이용하여 ${\\bf X} {\\boldsymbol \\beta}$를 계산하라. 계산결과를 벡터화하고 (3)의 $y$축에 붉은선으로 시각화 하라. 시각화 예시는 아래와 같다. (필요하다면 적절하게 선의 굵기를 조정할 것) "
   ]
  },
  {
   "cell_type": "code",
   "execution_count": 36,
   "id": "cfb138b6-7fbf-4e5f-a9fb-6e2aa41abf17",
   "metadata": {},
   "outputs": [
    {
     "data": {
      "text/html": [
       "<table class=\"dataframe\">\n",
       "<caption>A matrix: 3 × 1 of type dbl</caption>\n",
       "<tbody>\n",
       "\t<tr><td>1.5</td></tr>\n",
       "\t<tr><td>5.0</td></tr>\n",
       "\t<tr><td>3.0</td></tr>\n",
       "</tbody>\n",
       "</table>\n"
      ],
      "text/latex": [
       "A matrix: 3 × 1 of type dbl\n",
       "\\begin{tabular}{l}\n",
       "\t 1.5\\\\\n",
       "\t 5.0\\\\\n",
       "\t 3.0\\\\\n",
       "\\end{tabular}\n"
      ],
      "text/markdown": [
       "\n",
       "A matrix: 3 × 1 of type dbl\n",
       "\n",
       "| 1.5 |\n",
       "| 5.0 |\n",
       "| 3.0 |\n",
       "\n"
      ],
      "text/plain": [
       "     [,1]\n",
       "[1,] 1.5 \n",
       "[2,] 5.0 \n",
       "[3,] 3.0 "
      ]
     },
     "metadata": {},
     "output_type": "display_data"
    }
   ],
   "source": [
    "beta = cbind(c(1.5, 5, 3))\n",
    "beta"
   ]
  },
  {
   "cell_type": "code",
   "execution_count": 37,
   "id": "dd9bb388-0553-4481-ac1d-8277b4819a3e",
   "metadata": {},
   "outputs": [
    {
     "data": {
      "image/png": "[encoded data removed]",
      "text/plain": [
       "plot without title"
      ]
     },
     "metadata": {
      "image/png": {
       "height": 420,
       "width": 420
      }
     },
     "output_type": "display_data"
    }
   ],
   "source": [
    "dotp = c(X%*%beta)\n",
    "plot(t, y, col = \"gray60\")\n",
    "lines(t, dotp, col = \"red\", lwd = 5)"
   ]
  },
  {
   "cell_type": "markdown",
   "id": "99111d0a-5dbc-42db-81f5-b216f9f907db",
   "metadata": {
    "id": "99111d0a-5dbc-42db-81f5-b216f9f907db"
   },
   "source": [
    "![](https://github.com/guebin/2021IR/blob/master/_notebooks/final_fig2.png?raw=true)"
   ]
  },
  {
   "cell_type": "markdown",
   "id": "bd53c3f9-ec49-413b-93fc-4b30c9cf6081",
   "metadata": {
    "id": "bd53c3f9-ec49-413b-93fc-4b30c9cf6081",
    "tags": []
   },
   "source": [
    "#### `(6)` 아래의 수식을 이용하여 $\\boldsymbol{\\hat\\beta}$를 계산하고 계산결과를 $\\boldsymbol{\\beta}$와 비교하라. \n",
    "\n",
    "$$ \\boldsymbol{\\hat\\beta} = ({\\bf X}^\\top {\\bf X})^{-1}{\\bf X}^\\top {\\bf y}$$ "
   ]
  },
  {
   "cell_type": "markdown",
   "id": "eacf1fac-403a-49d0-961a-8275b1446a60",
   "metadata": {
    "id": "eacf1fac-403a-49d0-961a-8275b1446a60"
   },
   "source": [
    "여기에서 ${\\bf X}$와 ${\\bf y}$는 각각 아래와 같다. \n",
    "\n",
    "- ${\\bf X}=\\begin{bmatrix}\n",
    "1 & \\sin(\\frac{2\\pi}{1000}) & \\cos(\\frac{8\\pi}{1000})\\\\ \n",
    "1 & \\sin(\\frac{4\\pi}{1000}) & \\cos(\\frac{16\\pi}{1000})\\\\ \n",
    "\\dots & \\dots  & \\dots \\\\ \n",
    "1 & \\sin(2\\pi) & \\cos(8\\pi)\\\\ \n",
    "\\end{bmatrix}$,  $\\quad {\\bf y}=\\begin{bmatrix} y_1\\\\ y_2\\\\ \\dots \\\\ y_{1000}\\\\ \\end{bmatrix}$"
   ]
  },
  {
   "cell_type": "code",
   "execution_count": 43,
   "id": "f2d6e9fc-609a-4d89-bce1-0adeb0c5dbd3",
   "metadata": {},
   "outputs": [
    {
     "data": {
      "text/html": [
       "<table class=\"dataframe\">\n",
       "<caption>A matrix: 3 × 3 of type dbl</caption>\n",
       "<thead>\n",
       "\t<tr><th></th><th scope=col>BETA</th><th scope=col>BETA_HAT</th><th scope=col>BETA - BETA_HAT</th></tr>\n",
       "</thead>\n",
       "<tbody>\n",
       "\t<tr><th scope=row></th><td>1.5</td><td>1.522394</td><td>-0.02239446</td></tr>\n",
       "\t<tr><th scope=row>x_1</th><td>5.0</td><td>5.019964</td><td>-0.01996399</td></tr>\n",
       "\t<tr><th scope=row>x_2</th><td>3.0</td><td>2.965861</td><td> 0.03413929</td></tr>\n",
       "</tbody>\n",
       "</table>\n"
      ],
      "text/latex": [
       "A matrix: 3 × 3 of type dbl\n",
       "\\begin{tabular}{r|lll}\n",
       "  & BETA & BETA\\_HAT & BETA - BETA\\_HAT\\\\\n",
       "\\hline\n",
       "\t & 1.5 & 1.522394 & -0.02239446\\\\\n",
       "\tx\\_1 & 5.0 & 5.019964 & -0.01996399\\\\\n",
       "\tx\\_2 & 3.0 & 2.965861 &  0.03413929\\\\\n",
       "\\end{tabular}\n"
      ],
      "text/markdown": [
       "\n",
       "A matrix: 3 × 3 of type dbl\n",
       "\n",
       "| <!--/--> | BETA | BETA_HAT | BETA - BETA_HAT |\n",
       "|---|---|---|---|\n",
       "| <!----> | 1.5 | 1.522394 | -0.02239446 |\n",
       "| x_1 | 5.0 | 5.019964 | -0.01996399 |\n",
       "| x_2 | 3.0 | 2.965861 |  0.03413929 |\n",
       "\n"
      ],
      "text/plain": [
       "    BETA BETA_HAT BETA - BETA_HAT\n",
       "    1.5  1.522394 -0.02239446    \n",
       "x_1 5.0  5.019964 -0.01996399    \n",
       "x_2 3.0  2.965861  0.03413929    "
      ]
     },
     "metadata": {},
     "output_type": "display_data"
    }
   ],
   "source": [
    "beta_hat = (solve(t(X)%*%X))%*%t(X)%*%y\n",
    "compare = cbind(beta, beta_hat, beta - beta_hat)\n",
    "colnames(compare) = c(\"BETA\", \"BETA_HAT\", \"BETA - BETA_HAT\")\n",
    "compare"
   ]
  },
  {
   "cell_type": "markdown",
   "id": "05106794-5308-442e-b19a-28035c100220",
   "metadata": {},
   "source": [
    "- **$\\hat{\\beta}$와 $\\beta$는 거의 비슷한 값임을 알았다.**"
   ]
  },
  {
   "cell_type": "markdown",
   "id": "5c9c3816-5af7-46f2-9680-b0e97e729789",
   "metadata": {
    "id": "5c9c3816-5af7-46f2-9680-b0e97e729789"
   },
   "source": [
    "또한 ${\\bf X}^\\top$는 ${\\bf X}$의 전치행렬(transpose) 그리고 $({\\bf X}^\\top {\\bf X})^{-1}$은 ${\\bf X}^\\top {\\bf X}$의 역행렬을 의미한다. "
   ]
  },
  {
   "cell_type": "markdown",
   "id": "8f836f58-cb7d-4b0e-9e6c-612030446856",
   "metadata": {
    "id": "8f836f58-cb7d-4b0e-9e6c-612030446856"
   },
   "source": [
    "#### `(7)` ${\\bf X}\\boldsymbol{\\hat\\beta}$를 계산하라. 계산결과를 벡터화 하고 (5)의 시각화 결과에 푸른점선으로 시각화 하라. 시각화 예시는 아래와 같다. (필요하다면 적절하게 선의 굵기를 조정할 것) "
   ]
  },
  {
   "cell_type": "markdown",
   "id": "e2bdb6c4-fa29-4f07-8c50-5531fc325059",
   "metadata": {
    "id": "e2bdb6c4-fa29-4f07-8c50-5531fc325059"
   },
   "source": [
    "![](https://github.com/guebin/2021IR/blob/master/_notebooks/final_fig3.png?raw=true)"
   ]
  },
  {
   "cell_type": "code",
   "execution_count": 44,
   "id": "ef97eca3-9462-4f43-9da6-6be759245359",
   "metadata": {},
   "outputs": [
    {
     "data": {
      "image/png": "[encoded data removed]",
      "text/plain": [
       "plot without title"
      ]
     },
     "metadata": {
      "image/png": {
       "height": 420,
       "width": 420
      }
     },
     "output_type": "display_data"
    }
   ],
   "source": [
    "Y7 = X%*%beta_hat\n",
    "plot(t, y, col = \"gray60\")\n",
    "lines(t, dotp, col = \"red\", lwd = 5)\n",
    "lines(t, Y7, col = \"blue\", lty = 3, lwd = 5)"
   ]
  },
  {
   "cell_type": "markdown",
   "id": "743acaff-fba8-4bdd-83a0-9bff1bd4805c",
   "metadata": {
    "id": "743acaff-fba8-4bdd-83a0-9bff1bd4805c",
    "tags": []
   },
   "source": [
    "## `2`. 몬테카를로 적분 \n",
    "\n",
    "#### `(1)` $\\int_{-1.96}^{1.96}\\frac{1}{\\sqrt{2\\pi}}e^{-\\frac{1}{2}x^2}dx$의 값을 `runif()`를 이용한 몬테카를로 적분으로 계산하라. "
   ]
  },
  {
   "cell_type": "code",
   "execution_count": 132,
   "id": "6c63ccd2-7bfa-4406-9820-bf4e0f7de83e",
   "metadata": {},
   "outputs": [],
   "source": [
    "st_normal = function(x) return((1/sqrt(2*pi))*exp(-(1/2)*(x**2)))"
   ]
  },
  {
   "cell_type": "code",
   "execution_count": 47,
   "id": "26d6e4ec-745e-44a9-8366-2fd371814344",
   "metadata": {},
   "outputs": [
    {
     "data": {
      "text/html": [
       "0.946484"
      ],
      "text/latex": [
       "0.946484"
      ],
      "text/markdown": [
       "0.946484"
      ],
      "text/plain": [
       "[1] 0.946484"
      ]
     },
     "metadata": {},
     "output_type": "display_data"
    }
   ],
   "source": [
    "xx = runif(n = 10000, min = -1.96, max = 1.96)\n",
    "yy = st_normal(xx)\n",
    "rand_yy = runif(n = 10000, min = 0, max = 0.5)\n",
    "\n",
    "inn = (yy >= rand_yy) %>% sum\n",
    "outt = (yy < rand_yy) %>% sum\n",
    "summ = inn + outt\n",
    "\n",
    "S = 2 * 1.96 * 0.5 * inn/summ\n",
    "S"
   ]
  },
  {
   "cell_type": "markdown",
   "id": "50c84487-5fe2-45b1-aaf7-5f0354d4811f",
   "metadata": {},
   "source": [
    "- 검산"
   ]
  },
  {
   "cell_type": "code",
   "execution_count": 73,
   "id": "c0a4f56e-fc2b-4f59-ae03-ab940b3d291f",
   "metadata": {},
   "outputs": [
    {
     "data": {
      "text/html": [
       "0.950004209703559"
      ],
      "text/plain": [
       "[1] 0.9500042"
      ]
     },
     "metadata": {},
     "output_type": "display_data"
    }
   ],
   "source": [
    "1-(pnorm(-1.96)*2)"
   ]
  },
  {
   "cell_type": "markdown",
   "id": "feb55d2e-1824-4ada-b0fc-a2c5e934c5c1",
   "metadata": {
    "id": "feb55d2e-1824-4ada-b0fc-a2c5e934c5c1",
    "tags": []
   },
   "source": [
    "#### `(2)` `rnorm()`을 이용하여 표준정규분포에서 1000개의 확률변수를 생성하고 생성된 확률변수들 중 구간 $(-1.96 , 1.96)$사이에 있는 확률변수를 count하라. "
   ]
  },
  {
   "cell_type": "code",
   "execution_count": 121,
   "id": "c157d9c8-1f53-4c78-808b-e0dc8ae6ad64",
   "metadata": {},
   "outputs": [
    {
     "data": {
      "text/html": [
       "950"
      ],
      "text/latex": [
       "950"
      ],
      "text/markdown": [
       "950"
      ],
      "text/plain": [
       "[1] 950"
      ]
     },
     "metadata": {},
     "output_type": "display_data"
    }
   ],
   "source": [
    "A = rnorm(1000, mean = 0, sd = 1)\n",
    "((-1.96<=A)&(A<=1.96)) %>% sum"
   ]
  },
  {
   "cell_type": "markdown",
   "id": "6bbb6c21-3c51-4a92-a2be-1bcbad07cd5c",
   "metadata": {},
   "source": [
    "- 약 950개이다."
   ]
  },
  {
   "cell_type": "markdown",
   "id": "b37287d2-025e-4aaa-bb88-435403610185",
   "metadata": {
    "id": "b37287d2-025e-4aaa-bb88-435403610185"
   },
   "source": [
    "## `3`. 징검다리 "
   ]
  },
  {
   "cell_type": "markdown",
   "id": "e0280e4f-623f-4e31-a524-fe8dd78b33b1",
   "metadata": {
    "id": "e0280e4f-623f-4e31-a524-fe8dd78b33b1"
   },
   "source": [
    "10명의 참가자가 (유리,강화유리)의 쌍으로 이루어진 징검다리를 건너는 게임을 시작한다. (유리,강화유리)의 쌍은 총 20개 있다. 따라서 유리는 총 40장이 있다. 참가자는 강화유리로 된 징검다리를 밟으면 살아남지만 유리로 된 징검다리를 밟으면 죽는다. 10명의 참가자의 특징은 아래와 같다. \n",
    "\n",
    "- 1번~8번 참가자, 10번 참가자: 50퍼센트의 확률로 강화유리를 고를 수 있다. \n",
    "- 9번 참가자: 95퍼센트의 확률로 강화유리를 고를 수 있다. \n",
    "\n",
    "다리를 건너는 순서는 아래와 같이 번호의 오름차순으로 건너는 방법과 번호의 내림차순으로 건너는 2가지 방법이 있다고 하자. \n",
    "\n",
    "- Type A: 10번 참가자부터 다리를 건너고 그 뒤로 9번, 8번, ... 1번 순으로 다리를 건넌다. \n",
    "- Type B: 1번 참가자부터 다리를 건너고 그 뒤로 2번, 3번, ... 10번 순으로 다리를 건넌다. \n",
    "\n",
    "8번 참가자는 Type A 와 Type B 중 어떠한 경우에 살아남을 확률이 높은가? "
   ]
  },
  {
   "cell_type": "markdown",
   "id": "e7f83d8c-8f64-4c56-b1a2-a3844ca485ff",
   "metadata": {},
   "source": [
    "### MAIN"
   ]
  },
  {
   "cell_type": "code",
   "execution_count": 126,
   "id": "e1f45bdd-9930-4b09-a955-f786f9c1ef7e",
   "metadata": {},
   "outputs": [],
   "source": [
    "users = c(\"N1\", \"N2\", \"N3\", \"N4\", \"N5\", \"N6\", \"N7\", \"N8\", \"N9_PRO\", \"N10\") # 참가자 목록\n",
    "surv = 10 # 현재 생존자 숫자\n",
    "player = users[surv]\n",
    "stage = 0\n",
    "\n",
    "reset = function(){\n",
    "    surv <<- 10\n",
    "    player <<- users[surv]\n",
    "    stage <<- 0\n",
    "}\n",
    "\n",
    "jump_once = function(){\n",
    "    sof = rbinom(1, size = 1, prob = (0.5 + (player == \"N9_PRO\")*0.45)) # Success or Failure\n",
    "    if (sof == FALSE) surv <<- surv - 1 # 사망하면 surv가 1 감소한다.\n",
    "    stage <<- stage + 1 # 사망 유무와 관계없이 stage는 하나 증가한다.\n",
    "    player <<- users[surv] # surv = 0이면 player = character(0)\n",
    "}\n",
    "\n",
    "\n",
    "simulate = function(){ # 생존자 수를 return한다.\n",
    "    reset()\n",
    "    for (i in 1:20){\n",
    "        jump_once()\n",
    "        if ( (stage == 20)|(surv == 0) ) break\n",
    "    }        \n",
    "    return (surv)\n",
    "}"
   ]
  },
  {
   "cell_type": "markdown",
   "id": "bfa4ba07-abc8-4305-8b10-c66a227410dd",
   "metadata": {},
   "source": [
    "#### Type A"
   ]
  },
  {
   "cell_type": "code",
   "execution_count": 127,
   "id": "f7ba58cf-9613-49b1-ac8e-16a2705bac66",
   "metadata": {},
   "outputs": [
    {
     "data": {
      "text/html": [
       "0.4398"
      ],
      "text/latex": [
       "0.4398"
      ],
      "text/markdown": [
       "0.4398"
      ],
      "text/plain": [
       "[1] 0.4398"
      ]
     },
     "metadata": {},
     "output_type": "display_data"
    }
   ],
   "source": [
    "rsltA = c()\n",
    "users = c(\"N1\", \"N2\", \"N3\", \"N4\", \"N5\", \"N6\", \"N7\", \"N8\", \"N9_PRO\", \"N10\")\n",
    "for (i in 1:10000) rsltA[i] = ifelse((\"N8\" %in% users[0:simulate()]), TRUE, FALSE)\n",
    "(rsltA %>% sum) / 10000"
   ]
  },
  {
   "cell_type": "markdown",
   "id": "dc2f1edd-d198-407c-905b-6738f0c0fb2a",
   "metadata": {},
   "source": [
    "#### Type B"
   ]
  },
  {
   "cell_type": "code",
   "execution_count": 128,
   "id": "8ec2f8c7-d245-464f-8098-db8f5412df2e",
   "metadata": {},
   "outputs": [
    {
     "data": {
      "text/html": [
       "0.1382"
      ],
      "text/latex": [
       "0.1382"
      ],
      "text/markdown": [
       "0.1382"
      ],
      "text/plain": [
       "[1] 0.1382"
      ]
     },
     "metadata": {},
     "output_type": "display_data"
    }
   ],
   "source": [
    "rsltB = c()\n",
    "users = rev(c(\"N1\", \"N2\", \"N3\", \"N4\", \"N5\", \"N6\", \"N7\", \"N8\", \"N9_PRO\", \"N10\"))\n",
    "for (i in 1:10000) rsltB[i] = ifelse((\"N8\" %in% users[0:simulate()]), TRUE, FALSE)\n",
    "(rsltB %>% sum) / 10000"
   ]
  },
  {
   "cell_type": "markdown",
   "id": "31076f3f-b7f8-4a98-a269-58732c121de6",
   "metadata": {},
   "source": [
    "- 결론적으로 `8번 참가자`의 생존률은 `Type A`에서가 더 높다."
   ]
  },
  {
   "cell_type": "markdown",
   "id": "73fcbaef-2059-453e-95f5-3b7084b07bc5",
   "metadata": {
    "id": "73fcbaef-2059-453e-95f5-3b7084b07bc5"
   },
   "source": [
    "## `4`. COVID19"
   ]
  },
  {
   "cell_type": "markdown",
   "id": "dd6dcd9d-22f0-46cb-96ea-6f4f1705b749",
   "metadata": {
    "id": "dd6dcd9d-22f0-46cb-96ea-6f4f1705b749"
   },
   "source": [
    "아래는 한국의 코로나확진자 발생수를 tibble로 불러오는 코드와 그 결과이다. "
   ]
  },
  {
   "cell_type": "code",
   "execution_count": 18,
   "id": "a9beee8e-2bbc-452d-919e-2d225c1f0777",
   "metadata": {
    "id": "a9beee8e-2bbc-452d-919e-2d225c1f0777",
    "outputId": "4e2c7797-ced8-40f3-8b24-374bf502f247"
   },
   "outputs": [
    {
     "name": "stderr",
     "output_type": "stream",
     "text": [
      "\u001b[1m\u001b[1mRows: \u001b[1m\u001b[22m\u001b[34m\u001b[34m12294\u001b[34m\u001b[39m \u001b[1m\u001b[1mColumns: \u001b[1m\u001b[22m\u001b[34m\u001b[34m5\u001b[34m\u001b[39m\n",
      "\n",
      "\u001b[36m--\u001b[39m \u001b[1m\u001b[1mColumn specification\u001b[1m\u001b[22m \u001b[36m------------------------------------------------------------------------------------------------\u001b[39m\n",
      "\u001b[1mDelimiter:\u001b[22m \",\"\n",
      "\u001b[31mchr\u001b[39m (1): prov\n",
      "\u001b[32mdbl\u001b[39m (4): year, month, day, cases\n",
      "\n",
      "\n",
      "\u001b[36mi\u001b[39m Use \u001b[30m\u001b[47m\u001b[30m\u001b[47m`spec()`\u001b[47m\u001b[30m\u001b[49m\u001b[39m to retrieve the full column specification for this data.\n",
      "\u001b[36mi\u001b[39m Specify the column types or set \u001b[30m\u001b[47m\u001b[30m\u001b[47m`show_col_types = FALSE`\u001b[47m\u001b[30m\u001b[49m\u001b[39m to quiet this message.\n",
      "\n"
     ]
    },
    {
     "data": {
      "text/html": [
       "<table class=\"dataframe\">\n",
       "<caption>A tibble: 6 × 5</caption>\n",
       "<thead>\n",
       "\t<tr><th scope=col>year</th><th scope=col>month</th><th scope=col>day</th><th scope=col>prov</th><th scope=col>cases</th></tr>\n",
       "\t<tr><th scope=col>&lt;dbl&gt;</th><th scope=col>&lt;dbl&gt;</th><th scope=col>&lt;dbl&gt;</th><th scope=col>&lt;chr&gt;</th><th scope=col>&lt;dbl&gt;</th></tr>\n",
       "</thead>\n",
       "<tbody>\n",
       "\t<tr><td>2020</td><td>1</td><td>20</td><td>서울</td><td>0</td></tr>\n",
       "\t<tr><td>2020</td><td>1</td><td>20</td><td>부산</td><td>0</td></tr>\n",
       "\t<tr><td>2020</td><td>1</td><td>20</td><td>대구</td><td>0</td></tr>\n",
       "\t<tr><td>2020</td><td>1</td><td>20</td><td>인천</td><td>1</td></tr>\n",
       "\t<tr><td>2020</td><td>1</td><td>20</td><td>광주</td><td>0</td></tr>\n",
       "\t<tr><td>2020</td><td>1</td><td>20</td><td>대전</td><td>0</td></tr>\n",
       "</tbody>\n",
       "</table>\n"
      ],
      "text/latex": [
       "A tibble: 6 × 5\n",
       "\\begin{tabular}{lllll}\n",
       " year & month & day & prov & cases\\\\\n",
       " <dbl> & <dbl> & <dbl> & <chr> & <dbl>\\\\\n",
       "\\hline\n",
       "\t 2020 & 1 & 20 & 서울 & 0\\\\\n",
       "\t 2020 & 1 & 20 & 부산 & 0\\\\\n",
       "\t 2020 & 1 & 20 & 대구 & 0\\\\\n",
       "\t 2020 & 1 & 20 & 인천 & 1\\\\\n",
       "\t 2020 & 1 & 20 & 광주 & 0\\\\\n",
       "\t 2020 & 1 & 20 & 대전 & 0\\\\\n",
       "\\end{tabular}\n"
      ],
      "text/markdown": [
       "\n",
       "A tibble: 6 × 5\n",
       "\n",
       "| year &lt;dbl&gt; | month &lt;dbl&gt; | day &lt;dbl&gt; | prov &lt;chr&gt; | cases &lt;dbl&gt; |\n",
       "|---|---|---|---|---|\n",
       "| 2020 | 1 | 20 | 서울 | 0 |\n",
       "| 2020 | 1 | 20 | 부산 | 0 |\n",
       "| 2020 | 1 | 20 | 대구 | 0 |\n",
       "| 2020 | 1 | 20 | 인천 | 1 |\n",
       "| 2020 | 1 | 20 | 광주 | 0 |\n",
       "| 2020 | 1 | 20 | 대전 | 0 |\n",
       "\n"
      ],
      "text/plain": [
       "  year month day prov cases\n",
       "1 2020 1     20  서울 0    \n",
       "2 2020 1     20  부산 0    \n",
       "3 2020 1     20  대구 0    \n",
       "4 2020 1     20  인천 1    \n",
       "5 2020 1     20  광주 0    \n",
       "6 2020 1     20  대전 0    "
      ]
     },
     "metadata": {},
     "output_type": "display_data"
    }
   ],
   "source": [
    "df=read_csv('https://raw.githubusercontent.com/guebin/2021IR/master/_notebooks/covid19.csv')\n",
    "head(df)"
   ]
  },
  {
   "cell_type": "markdown",
   "id": "d0e96a57-a0a1-4be6-9743-78bb9007e0bf",
   "metadata": {
    "id": "d0e96a57-a0a1-4be6-9743-78bb9007e0bf",
    "tags": []
   },
   "source": [
    "#### `(1)` 2020년의 확진자(cases)총합과 2021년의 확진자(cases)총합을 구하라. "
   ]
  },
  {
   "cell_type": "code",
   "execution_count": 135,
   "id": "9ac5df61-0d22-4cc1-a464-a996762d3dd5",
   "metadata": {},
   "outputs": [
    {
     "data": {
      "text/html": [
       "60726"
      ],
      "text/latex": [
       "60726"
      ],
      "text/markdown": [
       "60726"
      ],
      "text/plain": [
       "[1] 60726"
      ]
     },
     "metadata": {},
     "output_type": "display_data"
    }
   ],
   "source": [
    "df_2020 = df %>% filter(year==2020) # 2020년에 발생한 확진자\n",
    "df_2020$cases %>% sum"
   ]
  },
  {
   "cell_type": "code",
   "execution_count": 131,
   "id": "bc0548c7-6316-4353-972d-8dae2cfa0dc7",
   "metadata": {},
   "outputs": [
    {
     "data": {
      "text/html": [
       "396886"
      ],
      "text/latex": [
       "396886"
      ],
      "text/markdown": [
       "396886"
      ],
      "text/plain": [
       "[1] 396886"
      ]
     },
     "metadata": {},
     "output_type": "display_data"
    }
   ],
   "source": [
    "df_2021 = df %>% filter(year==2021) # 2021년에 발생한 확진자\n",
    "df_2021$cases %>% sum"
   ]
  },
  {
   "cell_type": "markdown",
   "id": "709adf3e-9747-49ab-a28d-6bc014195e29",
   "metadata": {
    "id": "709adf3e-9747-49ab-a28d-6bc014195e29"
   },
   "source": [
    "#### `(2)` 2020년 2월1일 ~ 2020년 2월15일까지의 기간동안 확진자의 합을 지역별로 나누어 구하라. 가장 많은 확진자가 발견된 지역은 어디인가?"
   ]
  },
  {
   "cell_type": "code",
   "execution_count": 144,
   "id": "cb938823-998e-42db-86c0-37c09527fbe7",
   "metadata": {},
   "outputs": [
    {
     "data": {
      "text/html": [
       "<table class=\"dataframe\">\n",
       "<caption>A tibble: 18 × 2</caption>\n",
       "<thead>\n",
       "\t<tr><th scope=col>prov</th><th scope=col>sum_cases</th></tr>\n",
       "\t<tr><th scope=col>&lt;chr&gt;</th><th scope=col>&lt;dbl&gt;</th></tr>\n",
       "</thead>\n",
       "<tbody>\n",
       "\t<tr><td>강원</td><td>0</td></tr>\n",
       "\t<tr><td>검역</td><td>0</td></tr>\n",
       "\t<tr><td>경기</td><td>9</td></tr>\n",
       "\t<tr><td>경남</td><td>0</td></tr>\n",
       "\t<tr><td>경북</td><td>0</td></tr>\n",
       "\t<tr><td>광주</td><td>2</td></tr>\n",
       "\t<tr><td>대구</td><td>0</td></tr>\n",
       "\t<tr><td>대전</td><td>0</td></tr>\n",
       "\t<tr><td>부산</td><td>0</td></tr>\n",
       "\t<tr><td>서울</td><td>5</td></tr>\n",
       "\t<tr><td>세종</td><td>0</td></tr>\n",
       "\t<tr><td>울산</td><td>0</td></tr>\n",
       "\t<tr><td>인천</td><td>0</td></tr>\n",
       "\t<tr><td>전남</td><td>1</td></tr>\n",
       "\t<tr><td>전북</td><td>0</td></tr>\n",
       "\t<tr><td>제주</td><td>0</td></tr>\n",
       "\t<tr><td>충남</td><td>0</td></tr>\n",
       "\t<tr><td>충북</td><td>0</td></tr>\n",
       "</tbody>\n",
       "</table>\n"
      ],
      "text/latex": [
       "A tibble: 18 × 2\n",
       "\\begin{tabular}{ll}\n",
       " prov & sum\\_cases\\\\\n",
       " <chr> & <dbl>\\\\\n",
       "\\hline\n",
       "\t 강원 & 0\\\\\n",
       "\t 검역 & 0\\\\\n",
       "\t 경기 & 9\\\\\n",
       "\t 경남 & 0\\\\\n",
       "\t 경북 & 0\\\\\n",
       "\t 광주 & 2\\\\\n",
       "\t 대구 & 0\\\\\n",
       "\t 대전 & 0\\\\\n",
       "\t 부산 & 0\\\\\n",
       "\t 서울 & 5\\\\\n",
       "\t 세종 & 0\\\\\n",
       "\t 울산 & 0\\\\\n",
       "\t 인천 & 0\\\\\n",
       "\t 전남 & 1\\\\\n",
       "\t 전북 & 0\\\\\n",
       "\t 제주 & 0\\\\\n",
       "\t 충남 & 0\\\\\n",
       "\t 충북 & 0\\\\\n",
       "\\end{tabular}\n"
      ],
      "text/markdown": [
       "\n",
       "A tibble: 18 × 2\n",
       "\n",
       "| prov &lt;chr&gt; | sum_cases &lt;dbl&gt; |\n",
       "|---|---|\n",
       "| 강원 | 0 |\n",
       "| 검역 | 0 |\n",
       "| 경기 | 9 |\n",
       "| 경남 | 0 |\n",
       "| 경북 | 0 |\n",
       "| 광주 | 2 |\n",
       "| 대구 | 0 |\n",
       "| 대전 | 0 |\n",
       "| 부산 | 0 |\n",
       "| 서울 | 5 |\n",
       "| 세종 | 0 |\n",
       "| 울산 | 0 |\n",
       "| 인천 | 0 |\n",
       "| 전남 | 1 |\n",
       "| 전북 | 0 |\n",
       "| 제주 | 0 |\n",
       "| 충남 | 0 |\n",
       "| 충북 | 0 |\n",
       "\n"
      ],
      "text/plain": [
       "   prov sum_cases\n",
       "1  강원 0        \n",
       "2  검역 0        \n",
       "3  경기 9        \n",
       "4  경남 0        \n",
       "5  경북 0        \n",
       "6  광주 2        \n",
       "7  대구 0        \n",
       "8  대전 0        \n",
       "9  부산 0        \n",
       "10 서울 5        \n",
       "11 세종 0        \n",
       "12 울산 0        \n",
       "13 인천 0        \n",
       "14 전남 1        \n",
       "15 전북 0        \n",
       "16 제주 0        \n",
       "17 충남 0        \n",
       "18 충북 0        "
      ]
     },
     "metadata": {},
     "output_type": "display_data"
    },
    {
     "data": {
      "text/html": [
       "'경기'"
      ],
      "text/latex": [
       "'경기'"
      ],
      "text/markdown": [
       "'경기'"
      ],
      "text/plain": [
       "[1] \"경기\""
      ]
     },
     "metadata": {},
     "output_type": "display_data"
    }
   ],
   "source": [
    "summs = df %>% filter(year==2020, month==2, between(day, 1, 15)) %>% \n",
    "  group_by(prov) %>% summarise(sum_cases = sum(cases))\n",
    "\n",
    "summs\n",
    "summs[summs$sum_cases == max(summs$sum_cases),]$prov"
   ]
  },
  {
   "cell_type": "markdown",
   "id": "859737c8-4d9b-42c3-ae56-c6a0fee72f0f",
   "metadata": {},
   "source": [
    "- 2020년 2월 1일 ~ 2020년 2월 15일 기간동안 발생한 확진자의 합이 가장 큰 지역은 경기이다."
   ]
  },
  {
   "cell_type": "markdown",
   "id": "ed5aa778-7796-4ae6-815e-dbbbe25a0dbe",
   "metadata": {
    "id": "ed5aa778-7796-4ae6-815e-dbbbe25a0dbe"
   },
   "source": [
    "#### `(3)`  2020년 2월16일 ~ 2020년 2월29일까지의 기간동안 확진자의 총합을 지역별로 나누어 구하라. 가장 많은 확진자가 발견된 지역은 어디인가?"
   ]
  },
  {
   "cell_type": "code",
   "execution_count": 143,
   "id": "c8b15ff3-2c72-4d21-b187-6af0a87dafc8",
   "metadata": {},
   "outputs": [
    {
     "data": {
      "text/html": [
       "<table class=\"dataframe\">\n",
       "<caption>A tibble: 18 × 2</caption>\n",
       "<thead>\n",
       "\t<tr><th scope=col>prov</th><th scope=col>sum_cases</th></tr>\n",
       "\t<tr><th scope=col>&lt;chr&gt;</th><th scope=col>&lt;dbl&gt;</th></tr>\n",
       "</thead>\n",
       "<tbody>\n",
       "\t<tr><td>강원</td><td>   7</td></tr>\n",
       "\t<tr><td>검역</td><td>   0</td></tr>\n",
       "\t<tr><td>경기</td><td>  65</td></tr>\n",
       "\t<tr><td>경남</td><td>  59</td></tr>\n",
       "\t<tr><td>경북</td><td> 472</td></tr>\n",
       "\t<tr><td>광주</td><td>   7</td></tr>\n",
       "\t<tr><td>대구</td><td>2055</td></tr>\n",
       "\t<tr><td>대전</td><td>  13</td></tr>\n",
       "\t<tr><td>부산</td><td>  75</td></tr>\n",
       "\t<tr><td>서울</td><td>  62</td></tr>\n",
       "\t<tr><td>세종</td><td>   1</td></tr>\n",
       "\t<tr><td>울산</td><td>  17</td></tr>\n",
       "\t<tr><td>인천</td><td>   5</td></tr>\n",
       "\t<tr><td>전남</td><td>   1</td></tr>\n",
       "\t<tr><td>전북</td><td>   4</td></tr>\n",
       "\t<tr><td>제주</td><td>   2</td></tr>\n",
       "\t<tr><td>충남</td><td>  48</td></tr>\n",
       "\t<tr><td>충북</td><td>  10</td></tr>\n",
       "</tbody>\n",
       "</table>\n"
      ],
      "text/latex": [
       "A tibble: 18 × 2\n",
       "\\begin{tabular}{ll}\n",
       " prov & sum\\_cases\\\\\n",
       " <chr> & <dbl>\\\\\n",
       "\\hline\n",
       "\t 강원 &    7\\\\\n",
       "\t 검역 &    0\\\\\n",
       "\t 경기 &   65\\\\\n",
       "\t 경남 &   59\\\\\n",
       "\t 경북 &  472\\\\\n",
       "\t 광주 &    7\\\\\n",
       "\t 대구 & 2055\\\\\n",
       "\t 대전 &   13\\\\\n",
       "\t 부산 &   75\\\\\n",
       "\t 서울 &   62\\\\\n",
       "\t 세종 &    1\\\\\n",
       "\t 울산 &   17\\\\\n",
       "\t 인천 &    5\\\\\n",
       "\t 전남 &    1\\\\\n",
       "\t 전북 &    4\\\\\n",
       "\t 제주 &    2\\\\\n",
       "\t 충남 &   48\\\\\n",
       "\t 충북 &   10\\\\\n",
       "\\end{tabular}\n"
      ],
      "text/markdown": [
       "\n",
       "A tibble: 18 × 2\n",
       "\n",
       "| prov &lt;chr&gt; | sum_cases &lt;dbl&gt; |\n",
       "|---|---|\n",
       "| 강원 |    7 |\n",
       "| 검역 |    0 |\n",
       "| 경기 |   65 |\n",
       "| 경남 |   59 |\n",
       "| 경북 |  472 |\n",
       "| 광주 |    7 |\n",
       "| 대구 | 2055 |\n",
       "| 대전 |   13 |\n",
       "| 부산 |   75 |\n",
       "| 서울 |   62 |\n",
       "| 세종 |    1 |\n",
       "| 울산 |   17 |\n",
       "| 인천 |    5 |\n",
       "| 전남 |    1 |\n",
       "| 전북 |    4 |\n",
       "| 제주 |    2 |\n",
       "| 충남 |   48 |\n",
       "| 충북 |   10 |\n",
       "\n"
      ],
      "text/plain": [
       "   prov sum_cases\n",
       "1  강원    7     \n",
       "2  검역    0     \n",
       "3  경기   65     \n",
       "4  경남   59     \n",
       "5  경북  472     \n",
       "6  광주    7     \n",
       "7  대구 2055     \n",
       "8  대전   13     \n",
       "9  부산   75     \n",
       "10 서울   62     \n",
       "11 세종    1     \n",
       "12 울산   17     \n",
       "13 인천    5     \n",
       "14 전남    1     \n",
       "15 전북    4     \n",
       "16 제주    2     \n",
       "17 충남   48     \n",
       "18 충북   10     "
      ]
     },
     "metadata": {},
     "output_type": "display_data"
    },
    {
     "data": {
      "text/html": [
       "'대구'"
      ],
      "text/latex": [
       "'대구'"
      ],
      "text/markdown": [
       "'대구'"
      ],
      "text/plain": [
       "[1] \"대구\""
      ]
     },
     "metadata": {},
     "output_type": "display_data"
    }
   ],
   "source": [
    "summs = df %>% filter(year==2020, month==2, between(day, 16, 29)) %>% \n",
    "  group_by(prov) %>% summarise(sum_cases = sum(cases))\n",
    "\n",
    "summs\n",
    "summs[summs$sum_cases == max(summs$sum_cases),]$prov"
   ]
  },
  {
   "cell_type": "markdown",
   "id": "8ce4c2ce-ca04-4054-b421-c496381b2de3",
   "metadata": {},
   "source": [
    "- 2020년 2월 16일 ~ 2020년 2월 29일 기간동안 발생한 확진자의 합이 가장 큰 지역은 대구이다."
   ]
  }
 ],
 "metadata": {
  "colab": {
   "name": "2021-12-11-2021년 1학기 R입문기말고사.ipynb",
   "provenance": []
  },
  "kernelspec": {
   "display_name": "R",
   "language": "R",
   "name": "ir"
  },
  "language_info": {
   "codemirror_mode": "r",
   "file_extension": ".r",
   "mimetype": "text/x-r-source",
   "name": "R",
   "pygments_lexer": "r",
   "version": "4.0.5"
  },
  "toc-autonumbering": false,
  "toc-showtags": false
 },
 "nbformat": 4,
 "nbformat_minor": 5
}
