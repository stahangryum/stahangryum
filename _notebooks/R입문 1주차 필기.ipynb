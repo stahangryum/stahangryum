{
 "cells": [
  {
   "cell_type": "markdown",
   "id": "0b9eb4bd-7002-4da1-9b9e-4c2fee0659d6",
   "metadata": {},
   "source": [
    "### R은 좋은 계산기이다."
   ]
  },
  {
   "cell_type": "markdown",
   "id": "82490ea5-aa55-475a-8cc1-eceb1a4a477d",
   "metadata": {},
   "source": [
    "#### 2005년 예비평가(나) 12월/평가원26분(고3)"
   ]
  },
  {
   "cell_type": "markdown",
   "id": "062b3cc8-0a9c-48a5-8440-56779173dabd",
   "metadata": {},
   "source": [
    "어떤 호수에서 수면에서의 빛의 세기가 $I_0$일 때, 수면이 $d$m인 곳에서의 빛의 세기 $I_d$는 다음과 같이 나타낸다."
   ]
  },
  {
   "cell_type": "markdown",
   "id": "efccdce2-fa65-45fb-923b-9c30eefaaa1d",
   "metadata": {},
   "source": [
    "$$I_d = I_0 2^{-0.25d}$$"
   ]
  },
  {
   "cell_type": "markdown",
   "id": "a75f4475-e740-4655-9cff-52c96501f548",
   "metadata": {},
   "source": [
    "이 호수에서 빛의 세기가 수면에서의 빛의 세기의 25%인 곳의 수심은?"
   ]
  },
  {
   "cell_type": "code",
   "execution_count": null,
   "id": "517a4137-4d7e-41e7-8bb6-76e232988f93",
   "metadata": {},
   "outputs": [],
   "source": [
    "(1) 16m\n",
    "\n",
    "(2) 12m\n",
    "\n",
    "(3) 10m\n",
    "\n",
    "(4) 8m\n",
    "\n",
    "(5) 4m"
   ]
  }
 ],
 "metadata": {
  "kernelspec": {
   "display_name": "R",
   "language": "R",
   "name": "ir"
  },
  "language_info": {
   "codemirror_mode": "r",
   "file_extension": ".r",
   "mimetype": "text/x-r-source",
   "name": "R",
   "pygments_lexer": "r",
   "version": "4.1.1"
  }
 },
 "nbformat": 4,
 "nbformat_minor": 5
}
