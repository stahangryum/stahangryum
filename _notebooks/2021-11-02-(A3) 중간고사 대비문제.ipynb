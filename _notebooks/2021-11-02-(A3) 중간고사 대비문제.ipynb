{
 "cells": [
  {
   "cell_type": "code",
   "execution_count": null,
   "id": "bbdce714-8a6e-4118-9ee0-c20bf2daf955",
   "metadata": {},
   "outputs": [],
   "source": [
    "#hide\n",
    "options(jupyter.plot_scale=3)\n",
    "options(jupyter.display_mimetypes=c(\"text/html\"))\n",
    "options(jupyter.rich_display=FALSE)\n",
    "options(repr.plot.width=6,repr.plot.height=6,repr.plot.res=300)\n",
    "options(max.print=1000)"
   ]
  },
  {
   "cell_type": "markdown",
   "id": "48816013-be84-4882-93ca-838f8f1827d8",
   "metadata": {
    "tags": []
   },
   "source": [
    "# \"R입문 중간고사 대비문제\"\n",
    "> \"전북대학교 R입문 중간고사 대비문제\"\n",
    "\n",
    "- toc: true\n",
    "- branch: master\n",
    "- badges: true\n",
    "- comments: true\n",
    "- author: Kim Jeewoo\n",
    "- categories: [Introduction to R]\n",
    "- image: images/r_logo.PNG"
   ]
  },
  {
   "cell_type": "markdown",
   "id": "585845c2-75f0-44cb-a6ee-068b6ee04aeb",
   "metadata": {},
   "source": [
    "### `#`. R을 이용하여 다음을 계산하여라. "
   ]
  },
  {
   "cell_type": "markdown",
   "id": "4a36de37-c4c4-437d-937f-7136544cbbb1",
   "metadata": {},
   "source": [
    "- $2^{-5}+2^{3}$"
   ]
  },
  {
   "cell_type": "code",
   "execution_count": 1,
   "id": "bcaac75f-1782-4074-af6a-895153582b90",
   "metadata": {},
   "outputs": [
    {
     "data": {
      "text/html": [
       "8.03125"
      ],
      "text/latex": [
       "8.03125"
      ],
      "text/markdown": [
       "8.03125"
      ],
      "text/plain": [
       "[1] 8.03125"
      ]
     },
     "metadata": {},
     "output_type": "display_data"
    }
   ],
   "source": [
    "2^(-5) + 2^3"
   ]
  },
  {
   "cell_type": "markdown",
   "id": "82e74af3-870c-4344-b4f5-a5b6f1257a32",
   "metadata": {},
   "source": [
    "- $\\sqrt{33}$"
   ]
  },
  {
   "cell_type": "code",
   "execution_count": 2,
   "id": "940e24e7-b6a7-4cd7-b6a7-05e13153440c",
   "metadata": {},
   "outputs": [
    {
     "data": {
      "text/html": [
       "5.74456264653803"
      ],
      "text/latex": [
       "5.74456264653803"
      ],
      "text/markdown": [
       "5.74456264653803"
      ],
      "text/plain": [
       "[1] 5.744563"
      ]
     },
     "metadata": {},
     "output_type": "display_data"
    }
   ],
   "source": [
    "sqrt(33)"
   ]
  },
  {
   "cell_type": "markdown",
   "id": "566005bd-8605-4187-94c2-2a2c097a969c",
   "metadata": {},
   "source": [
    "- $\\sum_{k=1}^{100} \\frac{1}{k^2+2k+1}$"
   ]
  },
  {
   "cell_type": "code",
   "execution_count": 6,
   "id": "be19cc18-c541-46bf-bc74-94ac4d8c316e",
   "metadata": {},
   "outputs": [
    {
     "name": "stdout",
     "output_type": "stream",
     "text": [
      "[1] 0.6350819\n"
     ]
    }
   ],
   "source": [
    "summ = 0\n",
    "\n",
    "for (k in 1:100){\n",
    "    summ = summ + 1/(k^2 +2*k +1)\n",
    "}\n",
    "print(summ)"
   ]
  },
  {
   "cell_type": "markdown",
   "id": "804d3bd5-93bd-402e-8b80-e26a4fac3adc",
   "metadata": {},
   "source": [
    "- ... "
   ]
  },
  {
   "cell_type": "markdown",
   "id": "ad51a2c9-b520-45cd-9591-b6da037d2f5c",
   "metadata": {},
   "source": [
    "### `#`. 아래와 같은 수열을 만들어라. "
   ]
  },
  {
   "cell_type": "markdown",
   "id": "9da839fb-8318-49d8-91bd-cda9e382e96f",
   "metadata": {},
   "source": [
    "- $(1,3,5,...,101)$\n"
   ]
  },
  {
   "cell_type": "code",
   "execution_count": 7,
   "id": "2d907542-ad03-409c-b5c8-dd99036aba3f",
   "metadata": {},
   "outputs": [
    {
     "data": {
      "text/html": [
       "<style>\n",
       ".list-inline {list-style: none; margin:0; padding: 0}\n",
       ".list-inline>li {display: inline-block}\n",
       ".list-inline>li:not(:last-child)::after {content: \"\\00b7\"; padding: 0 .5ex}\n",
       "</style>\n",
       "<ol class=list-inline><li>1</li><li>3</li><li>5</li><li>7</li><li>9</li><li>11</li><li>13</li><li>15</li><li>17</li><li>19</li><li>21</li><li>23</li><li>25</li><li>27</li><li>29</li><li>31</li><li>33</li><li>35</li><li>37</li><li>39</li><li>41</li><li>43</li><li>45</li><li>47</li><li>49</li><li>51</li><li>53</li><li>55</li><li>57</li><li>59</li><li>61</li><li>63</li><li>65</li><li>67</li><li>69</li><li>71</li><li>73</li><li>75</li><li>77</li><li>79</li><li>81</li><li>83</li><li>85</li><li>87</li><li>89</li><li>91</li><li>93</li><li>95</li><li>97</li><li>99</li><li>101</li></ol>\n"
      ],
      "text/latex": [
       "\\begin{enumerate*}\n",
       "\\item 1\n",
       "\\item 3\n",
       "\\item 5\n",
       "\\item 7\n",
       "\\item 9\n",
       "\\item 11\n",
       "\\item 13\n",
       "\\item 15\n",
       "\\item 17\n",
       "\\item 19\n",
       "\\item 21\n",
       "\\item 23\n",
       "\\item 25\n",
       "\\item 27\n",
       "\\item 29\n",
       "\\item 31\n",
       "\\item 33\n",
       "\\item 35\n",
       "\\item 37\n",
       "\\item 39\n",
       "\\item 41\n",
       "\\item 43\n",
       "\\item 45\n",
       "\\item 47\n",
       "\\item 49\n",
       "\\item 51\n",
       "\\item 53\n",
       "\\item 55\n",
       "\\item 57\n",
       "\\item 59\n",
       "\\item 61\n",
       "\\item 63\n",
       "\\item 65\n",
       "\\item 67\n",
       "\\item 69\n",
       "\\item 71\n",
       "\\item 73\n",
       "\\item 75\n",
       "\\item 77\n",
       "\\item 79\n",
       "\\item 81\n",
       "\\item 83\n",
       "\\item 85\n",
       "\\item 87\n",
       "\\item 89\n",
       "\\item 91\n",
       "\\item 93\n",
       "\\item 95\n",
       "\\item 97\n",
       "\\item 99\n",
       "\\item 101\n",
       "\\end{enumerate*}\n"
      ],
      "text/markdown": [
       "1. 1\n",
       "2. 3\n",
       "3. 5\n",
       "4. 7\n",
       "5. 9\n",
       "6. 11\n",
       "7. 13\n",
       "8. 15\n",
       "9. 17\n",
       "10. 19\n",
       "11. 21\n",
       "12. 23\n",
       "13. 25\n",
       "14. 27\n",
       "15. 29\n",
       "16. 31\n",
       "17. 33\n",
       "18. 35\n",
       "19. 37\n",
       "20. 39\n",
       "21. 41\n",
       "22. 43\n",
       "23. 45\n",
       "24. 47\n",
       "25. 49\n",
       "26. 51\n",
       "27. 53\n",
       "28. 55\n",
       "29. 57\n",
       "30. 59\n",
       "31. 61\n",
       "32. 63\n",
       "33. 65\n",
       "34. 67\n",
       "35. 69\n",
       "36. 71\n",
       "37. 73\n",
       "38. 75\n",
       "39. 77\n",
       "40. 79\n",
       "41. 81\n",
       "42. 83\n",
       "43. 85\n",
       "44. 87\n",
       "45. 89\n",
       "46. 91\n",
       "47. 93\n",
       "48. 95\n",
       "49. 97\n",
       "50. 99\n",
       "51. 101\n",
       "\n",
       "\n"
      ],
      "text/plain": [
       " [1]   1   3   5   7   9  11  13  15  17  19  21  23  25  27  29  31  33  35  37\n",
       "[20]  39  41  43  45  47  49  51  53  55  57  59  61  63  65  67  69  71  73  75\n",
       "[39]  77  79  81  83  85  87  89  91  93  95  97  99 101"
      ]
     },
     "metadata": {},
     "output_type": "display_data"
    }
   ],
   "source": [
    "(0:50)*2 + 1"
   ]
  },
  {
   "cell_type": "markdown",
   "id": "3e7d5d45-2e5e-48ae-b965-a68bcf59eb63",
   "metadata": {},
   "source": [
    "- ... "
   ]
  },
  {
   "cell_type": "markdown",
   "id": "4876411e-3764-451f-b370-90171f4c9086",
   "metadata": {},
   "source": [
    "### `#`. 아래와 같은 함수를 선언하라. $x=1,2,3$ 에 대하여 주어진 함수의 결과값을 출력하라. "
   ]
  },
  {
   "cell_type": "markdown",
   "id": "d0940719-77a7-45d1-bd24-6e7be7880335",
   "metadata": {},
   "source": [
    "- $f(x)=x^2$"
   ]
  },
  {
   "cell_type": "code",
   "execution_count": 13,
   "id": "f203824e-27b6-42c7-9848-f883f81c54de",
   "metadata": {},
   "outputs": [
    {
     "name": "stdout",
     "output_type": "stream",
     "text": [
      "[1] 1\n",
      "[1] 4\n",
      "[1] 9\n"
     ]
    }
   ],
   "source": [
    "f_x = function(x){\n",
    "    return (x^2)\n",
    "}\n",
    "\n",
    "print(f_x(1))\n",
    "print(f_x(2))\n",
    "print(f_x(3))"
   ]
  },
  {
   "cell_type": "markdown",
   "id": "e66204e0-7dc6-4d72-a49a-bec0c5ada4b1",
   "metadata": {},
   "source": [
    "### `#`. 아래중 옳은것은? "
   ]
  },
  {
   "cell_type": "markdown",
   "id": "cf350534-0d6e-4c29-9bf6-6fadd4687ff0",
   "metadata": {},
   "source": [
    "(a) $e^x= \\sum_{n=0}^{\\infty} \\frac{x^n}{n!}$\n",
    "\n"
   ]
  },
  {
   "cell_type": "markdown",
   "id": "d84e1a60-3a09-4b72-be69-0b5bda42c4e7",
   "metadata": {},
   "source": [
    "(b) $e^x= 1+x+x^2+x^3+\\dots $"
   ]
  },
  {
   "cell_type": "markdown",
   "id": "3712d5fe-d250-4668-8ec2-6d5842e6955f",
   "metadata": {
    "tags": []
   },
   "source": [
    "(c) $e^x= 1-(x-1)+(x-1)^2-(x-1)^3+ \\dots $"
   ]
  },
  {
   "cell_type": "code",
   "execution_count": 98,
   "id": "b9c69a79-42e0-4756-a6db-bfbf4d045cf4",
   "metadata": {},
   "outputs": [
    {
     "name": "stdout",
     "output_type": "stream",
     "text": [
      "[1] 5.285689\n"
     ]
    }
   ],
   "source": [
    "f<-function(x, n){\n",
    "    a = c()\n",
    "    a[1] = x\n",
    "    for (i in 2:n){\n",
    "        a[i] = a[i-1] * x / n\n",
    "    }\n",
    "    print(sum(a) + 1)   \n",
    "}\n",
    "f(3, 10)"
   ]
  },
  {
   "cell_type": "code",
   "execution_count": null,
   "id": "979952fa-93a2-420b-a0c8-840f3ec8f36b",
   "metadata": {},
   "outputs": [],
   "source": [
    "g <- function(x"
   ]
  },
  {
   "cell_type": "markdown",
   "id": "9fb2910f-995d-4b90-b02e-a9b6c50916d7",
   "metadata": {},
   "source": [
    "(풀이) "
   ]
  },
  {
   "cell_type": "code",
   "execution_count": 12,
   "id": "819d596b-3537-4e0e-ac2e-b7aaef363c3d",
   "metadata": {},
   "outputs": [],
   "source": [
    "f<-function(x,N){\n",
    "    a<-c()\n",
    "    a[1]=x\n",
    "    for(n in 2:N) a[n]=a[n-1]*x/n\n",
    "    sum(a)+1\n",
    "}"
   ]
  },
  {
   "cell_type": "code",
   "execution_count": 21,
   "id": "5b53cde8-112b-4921-bb59-eb77e6fa437f",
   "metadata": {},
   "outputs": [],
   "source": [
    "g<-function(x,N){\n",
    "    a<-c()\n",
    "    a[1]=x\n",
    "    for(n in 2:N) a[n]=a[n-1]*x \n",
    "    sum(a)+1\n",
    "}"
   ]
  },
  {
   "cell_type": "code",
   "execution_count": 22,
   "id": "e0ac5ef3-7878-4d25-8fd8-fd1236c9644d",
   "metadata": {},
   "outputs": [],
   "source": [
    "h<-function(x,N){\n",
    "    a<-c()\n",
    "    a[1]= -(x-1)\n",
    "    for(n in 2:N) a[n]=a[n-1]*(1-x)\n",
    "    sum(a)+1\n",
    "}"
   ]
  },
  {
   "cell_type": "code",
   "execution_count": 23,
   "id": "b9a2525b-f345-458f-825b-8e012ec0c563",
   "metadata": {},
   "outputs": [
    {
     "name": "stdout",
     "output_type": "stream",
     "text": [
      "[1]   0.1223894 -55.6109439   7.3890561\n",
      "[1]    0.03350054 -119.61094390    6.38905610\n",
      "[1]  8.103718e-03 -2.476109e+02  7.389056e+00\n",
      "[1]  1.754512e-03 -5.036109e+02  6.389056e+00\n",
      "[1]  3.435769e-04 -1.015611e+03  7.389056e+00\n",
      "[1]  6.138994e-05 -2.039611e+03  6.389056e+00\n",
      "[1]  1.008322e-05 -4.087611e+03  7.389056e+00\n",
      "[1]  1.532098e-06 -8.183611e+03  6.389056e+00\n",
      "[1]  2.165414e-07 -1.637561e+04  7.389056e+00\n",
      "[1]  2.860474e-08 -3.275961e+04  6.389056e+00\n",
      "[1]  3.546512e-09 -6.552761e+04  7.389056e+00\n",
      "[1]  4.142349e-10 -1.310636e+05  6.389056e+00\n",
      "[1]  4.573142e-11 -2.621356e+05  7.389056e+00\n",
      "[1]  4.786394e-12 -5.242796e+05  6.389056e+00\n",
      "[1]  4.760636e-13 -1.048568e+06  7.389056e+00\n",
      "[1]  4.529710e-14 -2.097144e+06  6.389056e+00\n"
     ]
    }
   ],
   "source": [
    "x=2\n",
    "for (k in 5:20)\n",
    "    print(c(exp(x)-f(x,k) , exp(x)-g(x,k), exp(x)-h(x,k)))"
   ]
  },
  {
   "cell_type": "markdown",
   "id": "69d5357d-285c-4c0a-9541-52b0ea225a92",
   "metadata": {},
   "source": [
    "- $x=2$일때: $k$가 커질수록 $exp(x) \\approx f(x,k)$ 이지만 다른것은 그렇지 않음 "
   ]
  },
  {
   "cell_type": "code",
   "execution_count": 25,
   "id": "f4448305-7e3d-46c6-a8ce-1e8ed305f18d",
   "metadata": {},
   "outputs": [
    {
     "name": "stdout",
     "output_type": "stream",
     "text": [
      "[1]    1.685537 -343.914463   41.085537\n",
      "[1]     0.6730369 -1072.9144631   -22.9144631\n",
      "[1]     0.2391084 -3259.9144631   105.0855369\n",
      "[1]  7.638514e-02 -9.820914e+03 -1.509145e+02\n",
      "[1]  2.214407e-02 -2.950391e+04  3.610855e+02\n",
      "[1]  5.871745e-03 -8.855291e+04 -6.629145e+02\n",
      "[1]  1.433839e-03 -2.656999e+05  1.385086e+03\n",
      "[1]  3.243623e-04 -7.971409e+05 -2.710914e+03\n",
      "[1]  6.832928e-05 -2.391464e+06  5.481086e+03\n",
      "[1]  1.346506e-05 -7.174433e+06 -1.090291e+04\n",
      "[1]  2.492217e-06 -2.152334e+07  2.186509e+04\n",
      "[1]  4.348086e-07 -6.457006e+07 -4.367091e+04\n",
      "[1]  7.173653e-08 -1.937102e+08  8.740109e+04\n",
      "[1]  1.122453e-08 -5.811307e+08 -1.747429e+05\n",
      "[1]  1.669996e-09 -1.743392e+09  3.495451e+05\n",
      "[1]  2.368168e-10 -5.230177e+09 -6.990309e+05\n"
     ]
    }
   ],
   "source": [
    "x=3\n",
    "for (k in 5:20)\n",
    "    print(c(exp(x)-f(x,k) , exp(x)-g(x,k), exp(x)-h(x,k)))"
   ]
  },
  {
   "cell_type": "code",
   "execution_count": 27,
   "id": "26cd17ca-d72b-4c84-82a3-27897512b2b0",
   "metadata": {},
   "outputs": [
    {
     "name": "stdout",
     "output_type": "stream",
     "text": [
      "[1]  20548.80 -89084.53  75170.47\n",
      "[1]    19159.91 -1089084.53  -456270.53\n",
      "[1]     17175.78 -11089084.53   4326698.47\n",
      "[1]      14695.62 -111089084.53  -38720022.53\n",
      "[1]  1.193989e+04 -1.111089e+09  3.487005e+08\n",
      "[1]  9.184161e+03 -1.111109e+10 -3.138084e+09\n",
      "[1]  6.678950e+03 -1.111111e+11  2.824298e+10\n",
      "[1]  4.591274e+03 -1.111111e+12 -2.541866e+11\n",
      "[1]  2.985370e+03 -1.111111e+13  2.287679e+12\n",
      "[1]  1.838295e+03 -1.111111e+14 -2.058911e+13\n",
      "[1]  1.073579e+03 -1.111111e+15  1.853020e+14\n",
      "[1]  5.956311e+02 -1.111111e+16 -1.667718e+15\n",
      "[1]  3.144854e+02 -1.111111e+17  1.500946e+16\n",
      "[1]  1.582933e+02 -1.111111e+18 -1.350852e+17\n",
      "[1]  7.608695e+01 -1.111111e+19  1.215767e+18\n",
      "[1]  3.498377e+01 -1.111111e+20 -1.094190e+19\n",
      "[1]  1.541083e+01 -1.111111e+21  9.847709e+19\n",
      "[1]  6.514037e+00 -1.111111e+22 -8.862938e+20\n",
      "[1]  2.645867e+00 -1.111111e+23  7.976644e+21\n",
      "[1]  1.034129e+00 -1.111111e+24 -7.178980e+22\n",
      "[1]  3.894339e-01 -1.111111e+25  6.461082e+23\n",
      "[1]  1.414743e-01 -1.111111e+26 -5.814974e+24\n",
      "[1]  4.963739e-02 -1.111111e+27  5.233476e+25\n",
      "[1]  1.683850e-02 -1.111111e+28 -4.710129e+26\n",
      "[1]  5.528535e-03 -1.111111e+29  4.239116e+27\n",
      "[1]  1.758548e-03 -1.111111e+30 -3.815204e+28\n",
      "[1]  5.424228e-04 -1.111111e+31  3.433684e+29\n",
      "[1]  1.623837e-04 -1.111111e+32 -3.090315e+30\n",
      "[1]  4.722033e-05 -1.111111e+33  2.781284e+31\n",
      "[1]  1.334876e-05 -1.111111e+34 -2.503156e+32\n",
      "[1]  3.671161e-06 -1.111111e+35  2.252840e+33\n",
      "[1]  9.829419e-07 -1.111111e+36 -2.027556e+34\n",
      "[1]  2.563938e-07 -1.111111e+37  1.824800e+35\n",
      "[1]  6.519986e-08 -1.111111e+38 -1.642320e+36\n",
      "[1]  1.617445e-08 -1.111111e+39  1.478088e+37\n",
      "[1]  3.918103e-09 -1.111111e+40 -1.330279e+38\n",
      "[1]  9.276846e-10 -1.111111e+41  1.197252e+39\n",
      "[1]  2.182787e-10 -1.111111e+42 -1.077526e+40\n",
      "[1]  5.093170e-11 -1.111111e+43  9.697737e+40\n",
      "[1]  1.455192e-11 -1.111111e+44 -8.727964e+41\n",
      "[1]  3.637979e-12 -1.111111e+45  7.855167e+42\n",
      "[1]  3.637979e-12 -1.111111e+46 -7.069650e+43\n",
      "[1]  3.637979e-12 -1.111111e+47  6.362685e+44\n",
      "[1]  3.637979e-12 -1.111111e+48 -5.726417e+45\n",
      "[1]  3.637979e-12 -1.111111e+49  5.153775e+46\n",
      "[1]  3.637979e-12 -1.111111e+50 -4.638398e+47\n"
     ]
    }
   ],
   "source": [
    "x=10\n",
    "for (k in 5:50)\n",
    "    print(c(exp(x)-f(x,k) , exp(x)-g(x,k), exp(x)-h(x,k)))"
   ]
  },
  {
   "cell_type": "markdown",
   "id": "fd16d167-cfe8-4f64-9431-759af08148b9",
   "metadata": {},
   "source": [
    "답: (a) "
   ]
  },
  {
   "cell_type": "markdown",
   "id": "26ffda99-c8dd-43bb-be30-4e5ff7171cab",
   "metadata": {
    "tags": []
   },
   "source": [
    "### `#`. 다음을 읽고 물음에 답하라. "
   ]
  },
  {
   "cell_type": "markdown",
   "id": "1b928b77-f725-4c5e-b6b3-fb94362aecde",
   "metadata": {},
   "source": [
    "다음은 어느 회사의 연봉에 대한 규정이다. "
   ]
  },
  {
   "cell_type": "markdown",
   "id": "464ebe8c-9685-4109-ad3e-ef97c1af2b96",
   "metadata": {},
   "source": [
    "(가) 입사 첫째 해 연봉은 $a$원이고, 입사 19년째 해까지의 연봉은 해마다 직전 연봉에서 8%씩 인상된다. "
   ]
  },
  {
   "cell_type": "markdown",
   "id": "4d2dcc5e-a40c-4b5a-8f97-a819a7fda388",
   "metadata": {},
   "source": [
    "(나) 입사 20년째 해부터의 연봉은 입사 19년째 해 연봉의 2/3로 한다. "
   ]
  },
  {
   "cell_type": "markdown",
   "id": "e843838c-2175-4a83-bbaf-1add822cf13a",
   "metadata": {},
   "source": [
    "이 회사에 입사한 사람이 28년동안 근무하여 받는 연봉의 총합은? "
   ]
  },
  {
   "cell_type": "markdown",
   "id": "fdd0e1df-c187-4aba-9514-476f53be39df",
   "metadata": {},
   "source": [
    "### `#`. 다음 문장을 읽고 참거짓을 판단하시오. \n",
    "\n"
   ]
  },
  {
   "cell_type": "markdown",
   "id": "58fbe583-f36f-4c17-9d17-984202cbcf6e",
   "metadata": {},
   "source": [
    "- `_a`는 변수이름으로 가능하다. "
   ]
  },
  {
   "cell_type": "markdown",
   "id": "41a6bc7a-3267-402c-870b-cc0f36cbd64e",
   "metadata": {},
   "source": [
    "- ... "
   ]
  },
  {
   "cell_type": "markdown",
   "id": "66d44080-37f9-4f85-850f-ac1a2e299475",
   "metadata": {},
   "source": [
    "### `#` 다음을 잘 읽고 시각화 하라. "
   ]
  },
  {
   "cell_type": "markdown",
   "id": "e787b16a-5615-4b4f-b3a7-30933e8ba681",
   "metadata": {},
   "source": [
    "- 두점 $(1,2)$, $(1.1,2.1)$를 붉은 점으로 각각 시각화 하라. \n",
    "\n",
    "- 동일한 플랏에 $(-1,-2)$, $(-1.1,-2.1)$을 푸른점으로 각각 시각화 하라. "
   ]
  },
  {
   "cell_type": "markdown",
   "id": "4c8459e7-2909-4238-acf8-ce1c264eb6be",
   "metadata": {},
   "source": [
    "**출력예시**"
   ]
  },
  {
   "cell_type": "code",
   "execution_count": null,
   "id": "fdc6c338-0205-49a6-a610-e7808b11fb57",
   "metadata": {},
   "outputs": [],
   "source": [
    "#hide\n",
    "x1<-c(1,1.1)\n",
    "y1<-c(2,2.1)\n",
    "x2<- -x1\n",
    "y2<- -y1\n",
    "plot(x1,y1,col=2,xlim=c(-2,2),ylim=c(-3,3))\n",
    "points(x2,y2,col=4)"
   ]
  },
  {
   "cell_type": "markdown",
   "id": "e4cc765c-7cad-4eb8-9f5c-7bd5991aaeae",
   "metadata": {},
   "source": [
    "### `#` 볼링공의 선택"
   ]
  },
  {
   "cell_type": "markdown",
   "id": "7a046b4e-dadb-45ed-bb14-e1543dc48e97",
   "metadata": {},
   "source": [
    "A,B 두 사람이 볼링을 치고 있습니다. 두 사람은 서로 무게가 다른 볼링공을 고르려고 합니다. 볼링공은 총 N개가 있으며 각 볼링공마다 무게가 적혀 있고, 공의 번호는 1번부터 순서대로 부여됩니다. 또한 같은 무게의 공이 여러개 있을 수 있지만, 서로 다른 공으로 간주합니다. 볼링공의 무게는 1부터 M까지의 자연수 형태로 존재합니다. 예를들어 N이 5이고, M이 3이며 각각의 무게가 차례대로 1,3,2,3,2일 때 각 공의 번호가 차례대로 1번부터 5번까지 부여됩니다. 이때 두 사람이 고를 수 있는 볼링공 번호의 조합을 구하면 다음과 같습니다. \n",
    "\n",
    "(1번,2번), (1번,3번), (1번,4번), (1번,5번), (2번,3번), (2번,5번), (3번,4번), (4번,5번)\n",
    "\n",
    "결과적으로 두 사람이 공을 고르는 경우의 수는 8가지입니다. N개의 공의 무게가 각각 주어질 때, 두 사람이 볼링공을 고르는 경우의 수를 구하는 프로그램을 작성하세요. "
   ]
  },
  {
   "cell_type": "markdown",
   "id": "2f910493-167f-470c-9a78-eb646aaaeca9",
   "metadata": {},
   "source": [
    "`-` 입력예시 \n",
    "\n",
    "```\n",
    "입력\n",
    "5 3 \n",
    "1 3 2 3 2 \n",
    "\n",
    "출력\n",
    "8\n",
    "``` "
   ]
  }
 ],
 "metadata": {
  "kernelspec": {
   "display_name": "R",
   "language": "R",
   "name": "ir"
  },
  "language_info": {
   "codemirror_mode": "r",
   "file_extension": ".r",
   "mimetype": "text/x-r-source",
   "name": "R",
   "pygments_lexer": "r",
   "version": "4.0.5"
  }
 },
 "nbformat": 4,
 "nbformat_minor": 5
}
