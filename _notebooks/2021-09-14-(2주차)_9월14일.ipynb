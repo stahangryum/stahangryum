{
 "cells": [
  {
   "cell_type": "markdown",
   "id": "8c29c5d3-a0b3-4826-af4f-d05149fcb475",
   "metadata": {
    "tags": []
   },
   "source": [
    "# (2주차) 9월14일 \n",
    "> 벡터인덱싱, 메인플랏과 서브플랏, 주석이용법\n",
    "\n",
    "- toc:true\n",
    "- branch: master\n",
    "- badges: true\n",
    "- comments: true\n",
    "- author: 최규빈"
   ]
  },
  {
   "cell_type": "markdown",
   "id": "952581d2-35d9-434a-b541-ca225f38ae23",
   "metadata": {},
   "source": [
    "### 벡터의 원소를 뽑는 방법 "
   ]
  },
  {
   "cell_type": "code",
   "execution_count": 17,
   "id": "27730311-baef-42ed-96c5-11f8326b2cda",
   "metadata": {},
   "outputs": [],
   "source": [
    "x<-c(1,2,-2,4,5,-5,6)"
   ]
  },
  {
   "cell_type": "code",
   "execution_count": 18,
   "id": "8c6862ba-1b8e-4734-a448-3d5181ab6b7b",
   "metadata": {},
   "outputs": [
    {
     "name": "stdout",
     "output_type": "stream",
     "text": [
      "[1]  1  2 -2  4  5 -5  6\n"
     ]
    }
   ],
   "source": [
    "print(x)"
   ]
  },
  {
   "cell_type": "markdown",
   "id": "78c631b2-5e00-48d8-ac92-8db9e0cca6c1",
   "metadata": {},
   "source": [
    "#### 원소들의 번호를 불러서 뽑아낸다. "
   ]
  },
  {
   "cell_type": "markdown",
   "id": "b09dadd6-e8d9-4c6a-8e8d-6aae64ce6e24",
   "metadata": {},
   "source": [
    "`-` 첫 원소를 뽑고싶다. "
   ]
  },
  {
   "cell_type": "code",
   "execution_count": 19,
   "id": "63f682f1-543b-4bb7-806a-f132462f76ae",
   "metadata": {},
   "outputs": [
    {
     "name": "stdout",
     "output_type": "stream",
     "text": [
      "[1] 1\n"
     ]
    }
   ],
   "source": [
    "print(x[1])"
   ]
  },
  {
   "cell_type": "markdown",
   "id": "46e14bc4-9642-4df0-aaf3-59c58729e3f2",
   "metadata": {},
   "source": [
    "`-` 세번째 원소를 뽑고싶다. "
   ]
  },
  {
   "cell_type": "code",
   "execution_count": 20,
   "id": "821058b6-e210-4d15-936e-6a8d48767138",
   "metadata": {},
   "outputs": [
    {
     "name": "stdout",
     "output_type": "stream",
     "text": [
      "[1] -2\n"
     ]
    }
   ],
   "source": [
    "print(x[3])"
   ]
  },
  {
   "cell_type": "markdown",
   "id": "063dfd80-b851-46a4-941d-0aece4e2af56",
   "metadata": {},
   "source": [
    "`-` 첫번째부터 세번째까지의 원소를 뽑고싶다. "
   ]
  },
  {
   "cell_type": "code",
   "execution_count": 21,
   "id": "8b20d399-c889-4138-918c-6237c3c0febb",
   "metadata": {},
   "outputs": [
    {
     "name": "stdout",
     "output_type": "stream",
     "text": [
      "[1]  1  2 -2\n"
     ]
    }
   ],
   "source": [
    "print(x[1:3])"
   ]
  },
  {
   "cell_type": "code",
   "execution_count": 22,
   "id": "5bf5f5f6-88b1-4c19-a125-c8a7f2dbd218",
   "metadata": {},
   "outputs": [
    {
     "name": "stdout",
     "output_type": "stream",
     "text": [
      "[1]  1  2 -2\n"
     ]
    }
   ],
   "source": [
    "print(x[c(1,2,3)])"
   ]
  },
  {
   "cell_type": "markdown",
   "id": "56c2164a-7b5a-4768-9185-b8dd05e7bafb",
   "metadata": {},
   "source": [
    "`-` 2,5,6 번째의 원소를 뽑고싶다면? "
   ]
  },
  {
   "cell_type": "code",
   "execution_count": 23,
   "id": "9c96d071-9ac8-4bb9-99b7-d49c7aabee83",
   "metadata": {},
   "outputs": [
    {
     "name": "stdout",
     "output_type": "stream",
     "text": [
      "[1]  2  5 -5\n"
     ]
    }
   ],
   "source": [
    "print(x[c(2,5,6)])"
   ]
  },
  {
   "cell_type": "markdown",
   "id": "a98f9289-2d4c-44f0-829f-de3c102bad72",
   "metadata": {},
   "source": [
    "`-` 3번째 원소를 제외하고 호출 "
   ]
  },
  {
   "cell_type": "code",
   "execution_count": 25,
   "id": "990ae321-8a13-458a-9c90-2820419dd3a3",
   "metadata": {},
   "outputs": [
    {
     "name": "stdout",
     "output_type": "stream",
     "text": [
      "[1]  1  2  4  5 -5  6\n"
     ]
    }
   ],
   "source": [
    "print(x[-3])"
   ]
  },
  {
   "cell_type": "markdown",
   "id": "bfa76af0-d55f-41bb-bb08-3af7ef612f22",
   "metadata": {},
   "source": [
    "`-` 3,4번째의 원소를 제외하고 호출 "
   ]
  },
  {
   "cell_type": "code",
   "execution_count": 35,
   "id": "fb516a0e-e5fa-4f09-b76e-11845a42c356",
   "metadata": {},
   "outputs": [
    {
     "name": "stdout",
     "output_type": "stream",
     "text": [
      "[1]  1  2  5 -5  6\n"
     ]
    }
   ],
   "source": [
    "print(x[c(-3,-4)])"
   ]
  },
  {
   "cell_type": "code",
   "execution_count": 36,
   "id": "3d171de4-d07f-4641-b309-28ce1a43f5dc",
   "metadata": {},
   "outputs": [
    {
     "name": "stdout",
     "output_type": "stream",
     "text": [
      "[1]  1  2  5 -5  6\n"
     ]
    }
   ],
   "source": [
    "print(x[-(3:4)])"
   ]
  },
  {
   "cell_type": "markdown",
   "id": "55ac5226-296b-4f93-aa1a-385ad5a96769",
   "metadata": {},
   "source": [
    "#### 어떠한 조건을 주고, 그 조건에 만족하는 원소 (혹은 만족하지 않는 원소)를 뽑는법 "
   ]
  },
  {
   "cell_type": "code",
   "execution_count": 37,
   "id": "ad8dfa71-08b1-432d-a7f6-393a21c78dcb",
   "metadata": {},
   "outputs": [
    {
     "name": "stdout",
     "output_type": "stream",
     "text": [
      "[1]  1  2 -2  4  5 -5  6\n"
     ]
    }
   ],
   "source": [
    "x<-c(1,2,-2,4,5,-5,6)\n",
    "print(x)"
   ]
  },
  {
   "cell_type": "markdown",
   "id": "42d1634e-fee4-4277-8e53-47289a1b67c2",
   "metadata": {},
   "source": [
    "`-` 양수인 원소를 뽑는법 "
   ]
  },
  {
   "cell_type": "markdown",
   "id": "33857dd0-9b06-4032-920e-d7d60e457a98",
   "metadata": {},
   "source": [
    "(1) 양수인지 스스로 판단 \n",
    "\n",
    "(2) 양수라면 나간다. "
   ]
  },
  {
   "cell_type": "code",
   "execution_count": 39,
   "id": "f2ae0ee3-6265-4b7a-ae42-72e04e3c5676",
   "metadata": {},
   "outputs": [
    {
     "name": "stdout",
     "output_type": "stream",
     "text": [
      "[1]  TRUE  TRUE FALSE  TRUE  TRUE FALSE  TRUE\n"
     ]
    }
   ],
   "source": [
    "print(x>0)"
   ]
  },
  {
   "cell_type": "markdown",
   "id": "a2822f90-586b-4460-b267-f518ea7d8193",
   "metadata": {},
   "source": [
    "`-` `x>0`이 결과는 TRUE, FALSE가 포함된 벡터 "
   ]
  },
  {
   "cell_type": "code",
   "execution_count": 42,
   "id": "de476a9f-2e6e-4d39-9c10-3c1782b34628",
   "metadata": {},
   "outputs": [
    {
     "name": "stdout",
     "output_type": "stream",
     "text": [
      "[1] 1 2 4 5 6\n"
     ]
    }
   ],
   "source": [
    "print(x[x>0])"
   ]
  },
  {
   "cell_type": "markdown",
   "id": "3a4fd17d-7e4b-4c43-8c87-98d4eb9d6bf0",
   "metadata": {},
   "source": [
    "`-` 3보다 큰 원소를 뽑는 방법 "
   ]
  },
  {
   "cell_type": "code",
   "execution_count": 45,
   "id": "b162e41b-d0e7-4d3e-bacb-2cf3be802e2e",
   "metadata": {},
   "outputs": [
    {
     "name": "stdout",
     "output_type": "stream",
     "text": [
      "[1] 4 5 6\n"
     ]
    }
   ],
   "source": [
    "print(x[x>3])"
   ]
  },
  {
   "cell_type": "markdown",
   "id": "5ff53843-1d4c-4655-975a-6fe4c15b6654",
   "metadata": {},
   "source": [
    "`-` 3번째 원소를 뽑아라. "
   ]
  },
  {
   "cell_type": "code",
   "execution_count": 58,
   "id": "3711de98-60a0-41b7-aa87-138495ae948a",
   "metadata": {},
   "outputs": [],
   "source": [
    "array_ = c(FALSE, FALSE, TRUE, FALSE, FALSE, FALSE, FALSE)"
   ]
  },
  {
   "cell_type": "code",
   "execution_count": 59,
   "id": "df5774d9-8a1c-4553-9c64-cc4ae2df0fec",
   "metadata": {},
   "outputs": [
    {
     "name": "stdout",
     "output_type": "stream",
     "text": [
      "[1] FALSE FALSE  TRUE FALSE FALSE FALSE FALSE\n"
     ]
    }
   ],
   "source": [
    "print(array_)"
   ]
  },
  {
   "cell_type": "code",
   "execution_count": 60,
   "id": "ba66b7a6-9501-487f-bce3-b491ca5bc969",
   "metadata": {},
   "outputs": [
    {
     "name": "stdout",
     "output_type": "stream",
     "text": [
      "[1] -2\n"
     ]
    }
   ],
   "source": [
    "print(x[array_])"
   ]
  },
  {
   "cell_type": "markdown",
   "id": "be71b74a-7abe-4bbd-9d62-2aa98afe19b3",
   "metadata": {},
   "source": [
    "`-` 값이 -2인 원소를 뽑아라. "
   ]
  },
  {
   "cell_type": "code",
   "execution_count": 64,
   "id": "2df61716-790a-46e3-8771-4a0ed42a59b7",
   "metadata": {},
   "outputs": [
    {
     "name": "stdout",
     "output_type": "stream",
     "text": [
      "[1] -2\n"
     ]
    }
   ],
   "source": [
    "print(x[x == -2])"
   ]
  },
  {
   "cell_type": "markdown",
   "id": "2b94965a-f162-4475-898b-b402e48f30e1",
   "metadata": {},
   "source": [
    "`-` 응용예제"
   ]
  },
  {
   "cell_type": "code",
   "execution_count": 65,
   "id": "89731947-f72f-4964-bc6e-540930b07923",
   "metadata": {},
   "outputs": [],
   "source": [
    "x<- c(1,2,3,4,5)\n",
    "y<- x^2 "
   ]
  },
  {
   "cell_type": "code",
   "execution_count": 67,
   "id": "27963d9b-4455-4b5b-8fb9-d436b860c175",
   "metadata": {},
   "outputs": [
    {
     "name": "stdout",
     "output_type": "stream",
     "text": [
      "[1] 1 2 3 4 5\n"
     ]
    }
   ],
   "source": [
    "print(x)"
   ]
  },
  {
   "cell_type": "code",
   "execution_count": 68,
   "id": "3fdaea0f-8fa2-47c2-b9bd-45335aec7433",
   "metadata": {},
   "outputs": [
    {
     "name": "stdout",
     "output_type": "stream",
     "text": [
      "[1]  1  4  9 16 25\n"
     ]
    }
   ],
   "source": [
    "print(y)"
   ]
  },
  {
   "cell_type": "markdown",
   "id": "11a41ccb-4e3e-464e-92fd-76b86651d8c6",
   "metadata": {},
   "source": [
    "$y=x^2=9$가 되도록 만드는 $x$를 알려줘!"
   ]
  },
  {
   "cell_type": "code",
   "execution_count": 71,
   "id": "8c57164f-017f-4dd2-8d76-d48212f9d515",
   "metadata": {},
   "outputs": [
    {
     "name": "stdout",
     "output_type": "stream",
     "text": [
      "[1] 3\n"
     ]
    }
   ],
   "source": [
    "print(x[y==9])"
   ]
  },
  {
   "cell_type": "markdown",
   "id": "7d73f104-ba8a-4de4-b8f0-2e9c69ea73a7",
   "metadata": {},
   "source": [
    "### 그림을 그릴 때 기억할 것\n",
    "\n",
    "`-` 그림자체를 생성해주는 plot과 같은 명령이 있고, 생성된 그림에 덧붙여서만 그릴 수 있는 lines, points, abline 과 같은 함수가 있다. "
   ]
  },
  {
   "cell_type": "markdown",
   "id": "416e8f23-7a2f-4ed4-8dbf-36f170f1f33e",
   "metadata": {},
   "source": [
    "`-` 생성된 그림에 덧붙여서 그릴 수 있는 함수들은 단독으로 쓸 수 없다. "
   ]
  },
  {
   "cell_type": "code",
   "execution_count": 79,
   "id": "447d1265-7bc6-4ead-a15d-d48a1933095f",
   "metadata": {},
   "outputs": [
    {
     "name": "stdout",
     "output_type": "stream",
     "text": [
      " [1] 0.1 0.2 0.3 0.4 0.5 0.6 0.7 0.8 0.9 1.0 1.1 1.2 1.3 1.4 1.5 1.6 1.7 1.8 1.9\n",
      "[20] 2.0 2.1 2.2 2.3 2.4 2.5 2.6 2.7 2.8 2.9 3.0 3.1 3.2 3.3 3.4 3.5 3.6 3.7 3.8\n",
      "[39] 3.9 4.0 4.1 4.2 4.3 4.4 4.5 4.6 4.7 4.8 4.9 5.0 5.1 5.2 5.3 5.4 5.5 5.6 5.7\n",
      "[58] 5.8 5.9 6.0\n"
     ]
    }
   ],
   "source": [
    "x<-1:60/10 \n",
    "print(x)"
   ]
  },
  {
   "cell_type": "code",
   "execution_count": 80,
   "id": "e61f1319-c225-4072-b292-8964d92163c9",
   "metadata": {},
   "outputs": [
    {
     "name": "stdout",
     "output_type": "stream",
     "text": [
      " [1]  0.09983342  0.19866933  0.29552021  0.38941834  0.47942554  0.56464247\n",
      " [7]  0.64421769  0.71735609  0.78332691  0.84147098  0.89120736  0.93203909\n",
      "[13]  0.96355819  0.98544973  0.99749499  0.99957360  0.99166481  0.97384763\n",
      "[19]  0.94630009  0.90929743  0.86320937  0.80849640  0.74570521  0.67546318\n",
      "[25]  0.59847214  0.51550137  0.42737988  0.33498815  0.23924933  0.14112001\n",
      "[31]  0.04158066 -0.05837414 -0.15774569 -0.25554110 -0.35078323 -0.44252044\n",
      "[37] -0.52983614 -0.61185789 -0.68776616 -0.75680250 -0.81827711 -0.87157577\n",
      "[43] -0.91616594 -0.95160207 -0.97753012 -0.99369100 -0.99992326 -0.99616461\n",
      "[49] -0.98245261 -0.95892427 -0.92581468 -0.88345466 -0.83226744 -0.77276449\n",
      "[55] -0.70554033 -0.63126664 -0.55068554 -0.46460218 -0.37387666 -0.27941550\n"
     ]
    }
   ],
   "source": [
    "y<-sin(x)\n",
    "print(y)"
   ]
  },
  {
   "cell_type": "markdown",
   "id": "31fdb5a1-b0eb-4559-aaf2-d45fb4fdb3b2",
   "metadata": {},
   "source": [
    "`-` plot은 단독으로 그림을 만드는 함수, lines는 만들어진 그림에 덧붙이는 함수 "
   ]
  },
  {
   "cell_type": "code",
   "execution_count": 104,
   "id": "3f594e70-227b-4cf8-96aa-ab9969071327",
   "metadata": {},
   "outputs": [
    {
     "data": {
      "image/png": "[encoded data removed]",
      "text/plain": [
       "plot without title"
      ]
     },
     "metadata": {
      "image/png": {
       "height": 420,
       "width": 420
      }
     },
     "output_type": "display_data"
    }
   ],
   "source": [
    "plot(x,y,type='l',col='red')\n",
    "lines(x,y^2,col='blue')"
   ]
  },
  {
   "cell_type": "markdown",
   "id": "798008a2-d3a8-4e1c-a743-9b94f633f5bf",
   "metadata": {},
   "source": [
    "`-` lines를 먼저 사용하면 이미 만들어진 그림이 없는 상태이므로 error가 발생"
   ]
  },
  {
   "cell_type": "code",
   "execution_count": 105,
   "id": "a1b5796d-01c2-4a2b-a166-7d3a970d1769",
   "metadata": {},
   "outputs": [
    {
     "ename": "ERROR",
     "evalue": "Error in plot.xy(xy.coords(x, y), type = type, ...): plot.new has not been called yet\n",
     "output_type": "error",
     "traceback": [
      "Error in plot.xy(xy.coords(x, y), type = type, ...): plot.new has not been called yet\nTraceback:\n",
      "1. lines(x, y^2, type = \"l\", col = \"red\")",
      "2. lines.default(x, y^2, type = \"l\", col = \"red\")",
      "3. plot.xy(xy.coords(x, y), type = type, ...)"
     ]
    }
   ],
   "source": [
    "lines(x,y^2,type='l',col='red')\n",
    "plot(x,y,type='l',col='blue')"
   ]
  },
  {
   "cell_type": "markdown",
   "id": "fbe844c8-b017-4967-9db2-485bca1ce93e",
   "metadata": {},
   "source": [
    "`-` 다양한 명령어들 비교 "
   ]
  },
  {
   "cell_type": "markdown",
   "id": "1fb109f1-e8fa-42a0-a948-59656484ee5c",
   "metadata": {},
   "source": [
    "- plot(x,y)와 plot(x,y,type='l')을 비교해보기\n",
    "- plot(x,y)와 plot(x,y,col='red')를 비교해보기 \n",
    "- plot(x,y)와 lines(x,y**2)를 같이 그려보기\n",
    "- plot(x,y)와 points(x,y**2)를 같이 그려보기"
   ]
  },
  {
   "cell_type": "markdown",
   "id": "561276e0-4b4e-4f48-9ef9-d1aba4c9d845",
   "metadata": {},
   "source": [
    "### 주석이용방법 "
   ]
  },
  {
   "cell_type": "markdown",
   "id": "fc18f092-32b7-4541-9805-85c7ce28ed2d",
   "metadata": {},
   "source": [
    "`-` 사용법"
   ]
  },
  {
   "cell_type": "code",
   "execution_count": 106,
   "id": "3a937a0d-eae9-47e9-ad26-91999bfaac14",
   "metadata": {},
   "outputs": [
    {
     "name": "stdout",
     "output_type": "stream",
     "text": [
      "[1] 3\n"
     ]
    }
   ],
   "source": [
    "a<- 1\n",
    "a<- a+1\n",
    "a<- a+1\n",
    "print(a)"
   ]
  },
  {
   "cell_type": "code",
   "execution_count": 113,
   "id": "68d4cc92-378b-469e-ba6a-90a82cd4f851",
   "metadata": {},
   "outputs": [
    {
     "name": "stdout",
     "output_type": "stream",
     "text": [
      "[1] 2\n"
     ]
    }
   ],
   "source": [
    "a<- 1 \n",
    "#a<- a+1\n",
    "a<- a+1 \n",
    "print(a)"
   ]
  },
  {
   "cell_type": "markdown",
   "id": "0cab875d-6f4c-455e-a3b5-b4200896f839",
   "metadata": {},
   "source": [
    "`-` 왜 쓰는지? (1) 코드 test (2) 설명을 쓰고싶을때 "
   ]
  },
  {
   "cell_type": "code",
   "execution_count": 114,
   "id": "1d502516-33bd-47c0-b78a-2656a1bd7810",
   "metadata": {},
   "outputs": [
    {
     "name": "stdout",
     "output_type": "stream",
     "text": [
      "[1] 2\n"
     ]
    }
   ],
   "source": [
    "a<- 1 # a에 1을 대입하라. \n",
    "#a<- a+1\n",
    "a<- a+1 # a의 값을 1증가하라. \n",
    "print(a)"
   ]
  },
  {
   "cell_type": "markdown",
   "id": "4e8154fc-5e10-41e0-b846-627045ddf86c",
   "metadata": {},
   "source": [
    "### 숙제\n",
    "\n",
    "아래의 4개중 하나를 골라 비교해보고 결과를 캡쳐하여 LMS에 제출"
   ]
  },
  {
   "cell_type": "markdown",
   "id": "f454d00b-7aed-477f-96ff-ad1742f755ca",
   "metadata": {},
   "source": [
    "- plot(x,y)와 plot(x,y,type='l')을 비교해보기\n",
    "- plot(x,y)와 plot(x,y,col='red')를 비교해보기 \n",
    "- plot(x,y)와 lines(x,y**2)를 같이 그려보기\n",
    "- plot(x,y)와 points(x,y**2)를 같이 그려보기"
   ]
  }
 ],
 "metadata": {
  "kernelspec": {
   "display_name": "R",
   "language": "R",
   "name": "ir"
  },
  "language_info": {
   "codemirror_mode": "r",
   "file_extension": ".r",
   "mimetype": "text/x-r-source",
   "name": "R",
   "pygments_lexer": "r",
   "version": "4.0.3"
  }
 },
 "nbformat": 4,
 "nbformat_minor": 5
}
