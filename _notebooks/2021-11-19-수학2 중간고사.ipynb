{
 "cells": [
  {
   "cell_type": "markdown",
   "id": "e22a21ec-9c34-48c3-a276-28943f4f82f4",
   "metadata": {},
   "source": [
    "# \"수학2 중간고사\"\n",
    "> \"전북대학교 수학2 중간고사\"\n",
    "\n",
    "- toc: true\n",
    "- branch: master\n",
    "- badges: true\n",
    "- comments: true\n",
    "- author: Kim Jeewoo\n",
    "- categories: [Calculus], [Exam]\n",
    "- image: images/test_logo.jpg"
   ]
  },
  {
   "cell_type": "markdown",
   "id": "fe6d0af9-2084-4317-9996-eaa0a3b8195a",
   "metadata": {},
   "source": [
    "- 1번 문항\n",
    "\n",
    "다음 급수의 수렴 반지름과 수렴 구간을 구하라."
   ]
  },
  {
   "cell_type": "markdown",
   "id": "e07d8853-162a-4d69-84b7-99bd7f6ffa87",
   "metadata": {},
   "source": [
    "$ \\sum_{n=1}^\\infty \\dfrac{2^n(x-3)^n}{\\sqrt{n+3}} $"
   ]
  },
  {
   "cell_type": "markdown",
   "id": "67c30ad6-e9ef-4b46-9d12-12a764fcd978",
   "metadata": {},
   "source": [
    "- 2번 문항\n",
    "\n",
    "다음 곡선의 $t = \\dfrac{\\pi}{4}$일 때, 접선의 방정식을 구하라.\n",
    "\n",
    "$ x= sec\\,t, y = tan\\,t : -\\dfrac{\\pi}{2}\\,<\\,t\\,< \\dfrac{\\pi}{2}$"
   ]
  },
  {
   "cell_type": "markdown",
   "id": "fe0ca21d-b11a-4903-bde4-9f7d47250a44",
   "metadata": {},
   "source": [
    "- 3번 문항\n",
    "\n",
    "$x = a\\,cos\\,t, y = a\\,sin\\,t$일 때, $\\dfrac{d^2y}{dx^2}$을 구하여라."
   ]
  },
  {
   "cell_type": "markdown",
   "id": "ee2dd21a-5b0b-42ca-aa51-d88fa9be8000",
   "metadata": {},
   "source": [
    "- 4번 문항\n",
    "\n",
    "다음 보기 중 참인 보기를 모두 고르시오.\n",
    "\n",
    "(1) p-급수 $\\sum_{n=1}^{\\infty}\\dfrac{1}{n^P}$는 $p>1$이면 발산이다.\n",
    "\n",
    "(2) 사이클로이드는 직선 위를 따라 원이 구를 때, 원주 위의 점 P에 의하여 그려지는 곡선을 의미한다.\n",
    "\n",
    "(3) $lim_{n \\to \\infty} |a_n|$이면 $lim_{n\\to\\infty}a_n =0$이다.\n",
    "\n",
    "(4) $0\\leq a_n \\leq b_n$이고, $\\sum_{n=1}^{\\infty}b_n$이 발산한다면, $\\sum_{n=1}^{\\infty}a_n$은 발산한다.\n",
    "\n",
    "(5) $\\lim_{n=\\infty}a_n$이 존재하지 않거나, $\\lim_{n=\\infty}a_n \\neq 0$이면 $\\sum_{n=1}^{\\infty}a_n$은 발산한다."
   ]
  },
  {
   "cell_type": "markdown",
   "id": "f26b8f48-81eb-453c-a691-de2165a205f1",
   "metadata": {},
   "source": [
    "- 5번 문항"
   ]
  },
  {
   "cell_type": "markdown",
   "id": "33e9625f-981a-4934-a508-6afc069e661d",
   "metadata": {},
   "source": [
    "급수의 수렴, 발산 판정법이 바르지 않은 것을 모두 찾아라."
   ]
  },
  {
   "cell_type": "markdown",
   "id": "6867aacf-a6bd-4be7-84d1-0a9ddd5e0109",
   "metadata": {},
   "source": [
    "(1) $\\sum_{n=1}^{\\infty}\\dfrac{(2n+1)^n}{n^{2n}}$ : 근판정법"
   ]
  },
  {
   "cell_type": "markdown",
   "id": "958fe85f-cb59-4646-987c-96d01d0eeddc",
   "metadata": {},
   "source": [
    "(2) $\\sum_{n=1}^{\\infty}(-1)^n\\dfrac{n}{n^2+2}$ : 교대급수판정법"
   ]
  },
  {
   "cell_type": "markdown",
   "id": "6b083e7c-8890-4aaa-9ef5-118cc2f1e8cb",
   "metadata": {},
   "source": [
    "(3) $\\sum_{n=1}^{\\infty}\\dfrac{3^n n^2}{n!}$ : 발산판정법"
   ]
  },
  {
   "cell_type": "markdown",
   "id": "1bb1253a-ba8d-4f53-a735-2fdcf8497ec9",
   "metadata": {},
   "source": [
    "(4) $\\sum_{n=1}^{\\infty}\\dfrac{1}{n+3^n}$ : 비교판정법"
   ]
  },
  {
   "cell_type": "markdown",
   "id": "d51e2871-d801-4efb-98b8-22ca1d0b9d11",
   "metadata": {},
   "source": [
    "(5) $\\sum_{n=1}^{\\infty}\\dfrac{1}{2n+1}$ : 비판정법(비율판정법)"
   ]
  },
  {
   "cell_type": "markdown",
   "id": "8c754f66-616c-48b8-8f39-3e3ea4daf69c",
   "metadata": {},
   "source": [
    "- 6번 문항\n",
    "\n",
    "곡선 $x = 1+e^t,\\, y=t-t^2$과 $x$축으로 둘러싸인 넓이를 찾아라."
   ]
  },
  {
   "cell_type": "markdown",
   "id": "0bbf41e9-9c6b-42aa-a835-c190138b52c0",
   "metadata": {},
   "source": [
    "# 서술형"
   ]
  },
  {
   "cell_type": "markdown",
   "id": "33783f74-9638-4685-98e6-78aae80cfa18",
   "metadata": {},
   "source": [
    "1. $x\\geq2$에서 연속이고 감소인 함수 $f(x) = \\dfrac{ln\\,x}{x^3} > 0$와 적분판정법을 이용하여, 다음 급수 $\\sum_{n=1}^{\\infty}\\dfrac{ln\\,n}{n^3}$의 수렴여부를 판정하라."
   ]
  },
  {
   "cell_type": "markdown",
   "id": "aab985e7-e825-4412-8d3e-7fb34e0c0585",
   "metadata": {},
   "source": [
    "2. 멱급수를 이용하여 $\\int \\dfrac{x-tan^{-1}x}{x^3}dx$의 값을 구하라. 그리고 수렴반지름을 찾아라."
   ]
  },
  {
   "cell_type": "markdown",
   "id": "391751a7-3ad5-40de-bb62-a9261e1f8727",
   "metadata": {},
   "source": [
    "3. 매개변수방정식 $x=2cos^2\\theta, y=sin2\\theta$의 접선이 수평이 되는 점과 수직이 되는 점을 찾아라."
   ]
  },
  {
   "cell_type": "markdown",
   "id": "b4b20a41-b82a-475e-97ff-ac60e01ff214",
   "metadata": {},
   "source": []
  },
  {
   "cell_type": "markdown",
   "id": "4a89b734-df50-4388-b5c3-f3d28a6f219e",
   "metadata": {},
   "source": [
    "문제1 : 비율판정법을 사용하면\n",
    "\n",
    "$lim_{n\\to\\infty}|\\dfrac{a_{n+1}}{a_n} = |2x-6| < 1$이면 수렴한다.\n",
    "\n",
    "따라서 수렴 반지름 $R = \\dfrac{1}{2}$이다. 끝점은 별도로 판단하라."
   ]
  },
  {
   "cell_type": "markdown",
   "id": "3859883d-43e7-4c92-8179-4d6e551ff927",
   "metadata": {},
   "source": [
    "문제2 : $\\dfrac{\\dfrac{dy}{dt}}{\\dfrac{dx}{dt}} = \\dfrac{dy}{dx},$\n",
    "\n",
    "$(sec\\,t)' = sec\\,t\\,tan\\,t, (tan\\,t)' = sec^2t$ 임을 활용하라."
   ]
  },
  {
   "cell_type": "code",
   "execution_count": null,
   "id": "a960f3a7-7794-4c68-b2e1-f0f815d6f634",
   "metadata": {},
   "outputs": [],
   "source": []
  }
 ],
 "metadata": {
  "kernelspec": {
   "display_name": "R",
   "language": "R",
   "name": "ir"
  },
  "language_info": {
   "codemirror_mode": "r",
   "file_extension": ".r",
   "mimetype": "text/x-r-source",
   "name": "R",
   "pygments_lexer": "r",
   "version": "4.0.5"
  }
 },
 "nbformat": 4,
 "nbformat_minor": 5
}
