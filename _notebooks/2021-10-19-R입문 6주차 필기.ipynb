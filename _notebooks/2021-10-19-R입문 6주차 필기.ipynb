{
 "cells": [
  {
   "cell_type": "code",
   "execution_count": 3,
   "id": "0e947b5a-f708-451d-bd46-c35134cdd8d8",
   "metadata": {},
   "outputs": [],
   "source": [
    "#hide\n",
    "options(jupyter.plot_scale = 3)\n",
    "options(jupyter.display_mimetypes = c(\"text/html\"))\n",
    "options(jupyter.rich_display=FALSE)\n",
    "options(repr.plot.width=6, repr.plot.height=6, repr.plot.res=300)\n",
    "options(max.print=1000)"
   ]
  },
  {
   "cell_type": "markdown",
   "id": "41a49e28-e2b5-433d-a580-db9e0a058c3e",
   "metadata": {},
   "source": [
    "# \"숫자 카드 게임\"\n",
    "> \"전북대학교 R입문 6주차 필기\"\n",
    "\n",
    "- toc: true\n",
    "- branch: master\n",
    "- badges: true\n",
    "- comments: true\n",
    "- author: Kim Jeewoo\n",
    "- categories: [Introduction to R]\n",
    "- image: images/number_card.png"
   ]
  },
  {
   "cell_type": "markdown",
   "id": "0dba2fe1-bacf-4d3a-b594-b13736eda01b",
   "metadata": {},
   "source": [
    "# Problem"
   ]
  },
  {
   "cell_type": "markdown",
   "id": "133deb17-89be-4557-93f0-d44794ddd823",
   "metadata": {},
   "source": [
    "숫자 카드 게임은 여러 개의 숫자 카드 중에서 가장 높은 숫자가 쓰인 카드 한 장을 뽑는 게임이다. \n",
    "\n",
    "단, 게임의 룰을 지키며 카드를 뽑아야 하고 룰은 다음과 같다.\n",
    "\n",
    "1. 숫자가 쓰인 카드들이 N x M 형태로 놓여 있다. 이때 N은 행의 개수를 의미하며, M은 열의 개수를 의미한다.\n",
    "\n",
    "2. 먼저 뽑고자 하는 카드가 포함되어 있는 행을 선택한다.\n",
    "\n",
    "3. 그 다음 선택된 행에 포함된 카드들 중 가장 숫자가 낮은 카드를 뽑아야 한다.\n",
    "\n",
    "4. 따라서 처음에 카드를 골라낼 행을 선택할 때, 이후에 해당 행에서 가장 숫자가 낮은 카드를 뽑을 것을 고려하여 최종적으로 가장 높은 숫자의 카드를 뽑을 수 있도록 전략을 세워야 한다."
   ]
  },
  {
   "cell_type": "markdown",
   "id": "7c363c03-4172-4236-916a-a22b94356e4f",
   "metadata": {},
   "source": [
    "#### 예시1\n",
    "\n",
    "```\n",
    "입력\n",
    "3 1 2\n",
    "4 1 4\n",
    "2 2 2\n",
    "```\n",
    "\n",
    "```\n",
    "출력\n",
    "2\n",
    "```"
   ]
  },
  {
   "cell_type": "markdown",
   "id": "da43d8f7-0e87-4d81-aed3-7ea687576f06",
   "metadata": {},
   "source": [
    "#### 예시 2\n",
    "\n",
    "```\n",
    "입력\n",
    "7 3 1 8\n",
    "3 3 3 4\n",
    "```\n",
    "\n",
    "```\n",
    "출력\n",
    "3\n",
    "```"
   ]
  },
  {
   "cell_type": "markdown",
   "id": "92d4dfaf-1c98-4e2a-9693-6b240e9c048c",
   "metadata": {
    "tags": []
   },
   "source": [
    "## Solution"
   ]
  },
  {
   "cell_type": "code",
   "execution_count": 41,
   "id": "85c306d2-1919-4399-b220-03377799b5a9",
   "metadata": {},
   "outputs": [
    {
     "data": {
      "text/plain": [
       "     [,1] [,2] [,3]\n",
       "[1,] 3    1    2   \n",
       "[2,] 4    1    4   \n",
       "[3,] 2    2    2   "
      ]
     },
     "metadata": {},
     "output_type": "display_data"
    }
   ],
   "source": [
    "A = rbind(c(3,1,2), c(4,1,4), c(2,2,2))\n",
    "A"
   ]
  },
  {
   "cell_type": "code",
   "execution_count": 42,
   "id": "65dd8c3f-8df9-45d9-91db-db87e33b8783",
   "metadata": {},
   "outputs": [
    {
     "data": {
      "text/plain": [
       "[1] 3 1 2"
      ]
     },
     "metadata": {},
     "output_type": "display_data"
    }
   ],
   "source": [
    "A[1,]"
   ]
  },
  {
   "cell_type": "code",
   "execution_count": 43,
   "id": "7ed5f490-221d-42b6-b798-5697de1fbc46",
   "metadata": {},
   "outputs": [
    {
     "data": {
      "text/plain": [
       "[1] 4 1 4"
      ]
     },
     "metadata": {},
     "output_type": "display_data"
    }
   ],
   "source": [
    "A[2,]"
   ]
  },
  {
   "cell_type": "code",
   "execution_count": 44,
   "id": "811933a3-ee57-45aa-9055-19983dc219c9",
   "metadata": {},
   "outputs": [
    {
     "data": {
      "text/plain": [
       "[1] 3 4 2"
      ]
     },
     "metadata": {},
     "output_type": "display_data"
    }
   ],
   "source": [
    "A[,1]"
   ]
  },
  {
   "cell_type": "code",
   "execution_count": 45,
   "id": "e7972f37-9c85-4d94-b44d-0df5e63996d1",
   "metadata": {},
   "outputs": [
    {
     "data": {
      "text/plain": [
       "[1] 1"
      ]
     },
     "metadata": {},
     "output_type": "display_data"
    }
   ],
   "source": [
    "A[1, 2]"
   ]
  },
  {
   "cell_type": "code",
   "execution_count": 50,
   "id": "a7c76c68-1e10-4f8e-aeb0-403537a7e3e5",
   "metadata": {},
   "outputs": [
    {
     "data": {
      "text/plain": [
       "[1] 2"
      ]
     },
     "metadata": {},
     "output_type": "display_data"
    }
   ],
   "source": [
    "vec = c()\n",
    "for (i in 1:3){\n",
    "    vec[i] = min(A[i,])\n",
    "    }\n",
    "max(vec)"
   ]
  },
  {
   "cell_type": "markdown",
   "id": "49475329-d83a-405d-af44-bb791ebf7e15",
   "metadata": {},
   "source": [
    "# 과제"
   ]
  },
  {
   "cell_type": "markdown",
   "id": "25f302b3-b6ff-4342-bfbb-90fe06a6a8b3",
   "metadata": {},
   "source": [
    "입력이 아래와 같을 때, 출력을 구하는 코드를 작성하시오."
   ]
  },
  {
   "cell_type": "markdown",
   "id": "20a43e26-ee18-41ae-9c65-74018fb1a42d",
   "metadata": {},
   "source": [
    "```\n",
    "입력\n",
    "3 4 5 1\n",
    "7 7 7 2\n",
    "8 1 8 2\n",
    "3 3 4 5\n",
    "```"
   ]
  },
  {
   "cell_type": "code",
   "execution_count": 18,
   "id": "9b697451-9b7c-4cb0-9a5b-3d939154b520",
   "metadata": {},
   "outputs": [
    {
     "data": {
      "text/plain": [
       "     [,1] [,2] [,3] [,4]\n",
       "[1,] 3    4    5    1   \n",
       "[2,] 7    7    7    2   \n",
       "[3,] 8    1    8    2   \n",
       "[4,] 3    3    4    5   "
      ]
     },
     "metadata": {},
     "output_type": "display_data"
    }
   ],
   "source": [
    "A = rbind(c(3,4,5,1), c(7,7,7,2), c(8,1,8,2), c(3,3,4,5))\n",
    "A"
   ]
  },
  {
   "cell_type": "markdown",
   "id": "bc2a3b91-4526-4a59-a7ee-5e02e43743a7",
   "metadata": {},
   "source": [
    "## Solution I"
   ]
  },
  {
   "cell_type": "code",
   "execution_count": 19,
   "id": "0eea8f6c-b3bf-49c6-83ae-cb7ce4d73fd3",
   "metadata": {},
   "outputs": [
    {
     "data": {
      "text/plain": [
       "[1] 3"
      ]
     },
     "metadata": {},
     "output_type": "display_data"
    }
   ],
   "source": [
    "vec = c()\n",
    "for (i in 1:4){ vec[i] = min(A[i,]) }\n",
    "max(vec)"
   ]
  },
  {
   "cell_type": "markdown",
   "id": "12609c0a-38b6-4b17-99ab-77e75f3b2f17",
   "metadata": {},
   "source": [
    "## Solution II"
   ]
  },
  {
   "cell_type": "code",
   "execution_count": 22,
   "id": "1909cf6b-e34e-4b07-88ae-6b9511a6dca8",
   "metadata": {},
   "outputs": [
    {
     "data": {
      "text/plain": [
       "[1] 3"
      ]
     },
     "metadata": {},
     "output_type": "display_data"
    }
   ],
   "source": [
    "max(apply(A, 1, min)) #A : 입력 매트릭스, 1 : row기준, 2 : column기준"
   ]
  }
 ],
 "metadata": {
  "kernelspec": {
   "display_name": "R",
   "language": "R",
   "name": "ir"
  },
  "language_info": {
   "codemirror_mode": "r",
   "file_extension": ".r",
   "mimetype": "text/x-r-source",
   "name": "R",
   "pygments_lexer": "r",
   "version": "4.0.5"
  }
 },
 "nbformat": 4,
 "nbformat_minor": 5
}
