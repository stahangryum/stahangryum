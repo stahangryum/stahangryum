{
 "cells": [
  {
   "cell_type": "markdown",
   "id": "41ddb3a9-48d9-4fbc-b22b-b4f518ab1447",
   "metadata": {},
   "source": [
    "# \"Monte Carlo Integration in Python\"\n",
    "\n",
    "\n",
    "- toc: true\n",
    "- branch: master\n",
    "- badges: true\n",
    "- comments: true\n",
    "- author: Kim Jeewoo\n",
    "- categories: [Python]\n",
    "- image: images/monte_logo.gif"
   ]
  },
  {
   "cell_type": "markdown",
   "id": "0677a537-2b0f-4384-b22f-acc827884c81",
   "metadata": {},
   "source": [
    "# 몬테 카를로 적분(Monte Carlo Integration)"
   ]
  },
  {
   "cell_type": "markdown",
   "id": "26a32d21-ef0f-40f3-8021-5e3205b02010",
   "metadata": {},
   "source": [
    "# Problem "
   ]
  },
  {
   "cell_type": "markdown",
   "id": "079ac567-e6f7-41d2-ac4f-c940de7d0637",
   "metadata": {},
   "source": [
    "**Find $\\int_0^1 (x + sin(\\pi x))\\,dx$.**"
   ]
  },
  {
   "cell_type": "markdown",
   "id": "517f0bd3-f66e-48db-8c8a-104825958b08",
   "metadata": {},
   "source": [
    "## Solution I - Analytic Sol"
   ]
  },
  {
   "cell_type": "markdown",
   "id": "5e12bafd-dbc1-4671-89b1-166fd238e914",
   "metadata": {},
   "source": [
    "$\\int_0^1 (x + sin(\\pi x))\\,dx = \\left[\\cfrac{1}{2} x^2-\\cfrac{1}{\\pi}cos(\\pi x)\\right]_0^1 = \\cfrac{1}{2} + \\cfrac{1}{\\pi} + \\cfrac{1}{\\pi} = \\cfrac{1}{2}+\\cfrac{2}{\\pi}$"
   ]
  },
  {
   "cell_type": "markdown",
   "id": "4daa6e02-1ecb-4477-8983-8567c81cec35",
   "metadata": {},
   "source": [
    "## Solution II - Monte Carlo Integration in Python"
   ]
  },
  {
   "cell_type": "code",
   "execution_count": 79,
   "id": "e2e125c5-d6a0-4fb6-bbb6-96aac589cba1",
   "metadata": {},
   "outputs": [],
   "source": [
    "import numpy as np\n",
    "import matplotlib.pyplot as plt"
   ]
  },
  {
   "cell_type": "code",
   "execution_count": 97,
   "id": "fe93eb5c-9ab7-4417-bbbc-0f4834d8fa10",
   "metadata": {},
   "outputs": [
    {
     "data": {
      "text/plain": [
       "[<matplotlib.lines.Line2D at 0x276564a04c0>]"
      ]
     },
     "execution_count": 97,
     "metadata": {},
     "output_type": "execute_result"
    },
    {
     "data": {
      "image/png": "[encoded data removed]",
      "text/plain": [
       "<Figure size 432x288 with 1 Axes>"
      ]
     },
     "metadata": {
      "needs_background": "light"
     },
     "output_type": "display_data"
    }
   ],
   "source": [
    "def function(x):\n",
    "    return x + np.sin(np.pi*x)\n",
    "\n",
    "x = np.linspace(0, 1, 10000)\n",
    "y = [function(x) for x in x]\n",
    "plt.plot(x, y)"
   ]
  },
  {
   "cell_type": "markdown",
   "id": "0b22d284-385a-44d2-a582-6fd5dd13c3ba",
   "metadata": {},
   "source": [
    "![](image/monte_1.png)"
   ]
  },
  {
   "cell_type": "markdown",
   "id": "70365243-026f-465f-845d-9b9480ecadec",
   "metadata": {},
   "source": [
    "![](image/monte_2.png)"
   ]
  },
  {
   "cell_type": "code",
   "execution_count": 145,
   "id": "355fbff7-9b7a-4ed5-85d8-482ef99ba7a3",
   "metadata": {},
   "outputs": [
    {
     "data": {
      "text/plain": [
       "1.1411200000000001"
      ]
     },
     "execution_count": 145,
     "metadata": {},
     "output_type": "execute_result"
    }
   ],
   "source": [
    "def function(x): #함수 정의\n",
    "    return x + np.sin(np.pi*x)\n",
    "\n",
    "N = int(10000)  # Random Sampling 시행 횟수\n",
    "\n",
    "W = 1  # 사각형의 가로 길이\n",
    "H = 1.6  #사각형의 세로 길이\n",
    "\n",
    "X = np.random.random(N)   # 0~1까지의 x 좌표 Random Sampling을 N번 시행\n",
    "Y = H * np.random.random(N) # 그래프상 최솟값 ~ 최댓값까지의 y 좌표 Randon Sampling을 N번 시행\n",
    "F = function(X) # Random Sampling으로 구한 X값에 따른 함숫값\n",
    "\n",
    "in_or_out = Y < F  # Y < F (IN)이면 True, Y > F (OUT)이면 False\n",
    "A = H * W * np.sum(in_or_out) / N # 영역 S의 넓이\n",
    "\n",
    "A"
   ]
  },
  {
   "cell_type": "markdown",
   "id": "33581b30-5de1-4643-b906-a13f25f79bbf",
   "metadata": {},
   "source": [
    "### Visualization"
   ]
  },
  {
   "cell_type": "code",
   "execution_count": 155,
   "id": "1140adb5-b99c-4e03-8f5d-9fce60bb64bb",
   "metadata": {},
   "outputs": [
    {
     "ename": "AttributeError",
     "evalue": "'numpy.ndarray' object has no attribute 'da'",
     "output_type": "error",
     "traceback": [
      "\u001b[1;31m---------------------------------------------------------------------------\u001b[0m",
      "\u001b[1;31mAttributeError\u001b[0m                            Traceback (most recent call last)",
      "\u001b[1;32m~\\AppData\\Local\\Temp/ipykernel_12772/664705596.py\u001b[0m in \u001b[0;36m<module>\u001b[1;34m\u001b[0m\n\u001b[0;32m      1\u001b[0m \u001b[0mcolor\u001b[0m \u001b[1;33m=\u001b[0m \u001b[0mlist\u001b[0m\u001b[1;33m(\u001b[0m\u001b[0mmap\u001b[0m\u001b[1;33m(\u001b[0m\u001b[1;32mlambda\u001b[0m \u001b[0mx\u001b[0m\u001b[1;33m:\u001b[0m \u001b[1;34m'blue'\u001b[0m \u001b[1;32mif\u001b[0m \u001b[0mx\u001b[0m \u001b[1;32melse\u001b[0m \u001b[1;34m'red'\u001b[0m\u001b[1;33m,\u001b[0m \u001b[0min_or_out\u001b[0m\u001b[1;33m)\u001b[0m\u001b[1;33m)\u001b[0m \u001b[1;31m#색 정하기\u001b[0m\u001b[1;33m\u001b[0m\u001b[1;33m\u001b[0m\u001b[0m\n\u001b[1;32m----> 2\u001b[1;33m \u001b[0mcolor\u001b[0m \u001b[1;33m=\u001b[0m \u001b[0min_or_out\u001b[0m\u001b[1;33m.\u001b[0m\u001b[0mda\u001b[0m\u001b[1;33m\u001b[0m\u001b[1;33m\u001b[0m\u001b[0m\n\u001b[0m\u001b[0;32m      3\u001b[0m \u001b[1;33m\u001b[0m\u001b[0m\n\u001b[0;32m      4\u001b[0m \u001b[0mplt\u001b[0m\u001b[1;33m.\u001b[0m\u001b[0mscatter\u001b[0m\u001b[1;33m(\u001b[0m\u001b[0mX\u001b[0m\u001b[1;33m,\u001b[0m \u001b[0mY\u001b[0m\u001b[1;33m,\u001b[0m \u001b[0mcolor\u001b[0m\u001b[1;33m=\u001b[0m\u001b[0mcolor\u001b[0m\u001b[1;33m,\u001b[0m \u001b[0ms\u001b[0m\u001b[1;33m=\u001b[0m\u001b[1;36m5\u001b[0m\u001b[1;33m,\u001b[0m \u001b[0mlabel\u001b[0m\u001b[1;33m=\u001b[0m\u001b[1;34m'A = {}'\u001b[0m\u001b[1;33m.\u001b[0m\u001b[0mformat\u001b[0m\u001b[1;33m(\u001b[0m\u001b[0mnp\u001b[0m\u001b[1;33m.\u001b[0m\u001b[0mround\u001b[0m\u001b[1;33m(\u001b[0m\u001b[1;36m1\u001b[0m\u001b[1;33m,\u001b[0m \u001b[1;36m4\u001b[0m\u001b[1;33m)\u001b[0m\u001b[1;33m)\u001b[0m\u001b[1;33m)\u001b[0m\u001b[1;33m\u001b[0m\u001b[1;33m\u001b[0m\u001b[0m\n\u001b[0;32m      5\u001b[0m                \u001b[1;31m### 샘플링 포인트 그리기\u001b[0m\u001b[1;33m\u001b[0m\u001b[1;33m\u001b[0m\u001b[0m\n",
      "\u001b[1;31mAttributeError\u001b[0m: 'numpy.ndarray' object has no attribute 'da'"
     ]
    }
   ],
   "source": [
    "color = list(map(lambda x: 'blue' if x else 'red', in_or_out)) #색 정하기\n",
    "color = np.where(in_or_out, True, blue)\n",
    "color =\n",
    "               \n",
    "plt.scatter(X, Y, color=color, s=5, label='A = {}'.format(np.round(1, 4)))\n",
    "               ### 샘플링 포인트 그리기 \n",
    "               \n",
    "plt.plot([0, W], [0, 0], color='black')  ### 사각형 영역 그리기\n",
    "plt.plot([W, W], [0, H], color='black')\n",
    "plt.plot([0, W], [H, H], color='black')\n",
    "plt.plot([0, 0], [0, H], color='black')\n",
    "\n",
    "px = np.linspace(0, W, 1000)\n",
    "py = function(px)\n",
    "plt.plot(px, py, color = 'black') ### 함수 y = f(x) 그리기\n",
    "\n",
    "plt.legend(loc = 'lower right') ### 그래프 그리는 옵션 추가\n",
    "plt.xlabel('x')\n",
    "plt.ylabel('y')\n",
    "plt.grid()\n",
    "plt.show()"
   ]
  },
  {
   "cell_type": "code",
   "execution_count": 156,
   "id": "d176f125-2276-4201-a1e1-e5c77b73472c",
   "metadata": {},
   "outputs": [
    {
     "data": {
      "text/plain": [
       "\u001b[1;31mDocstring:\u001b[0m\n",
       "where(condition, [x, y])\n",
       "\n",
       "Return elements chosen from `x` or `y` depending on `condition`.\n",
       "\n",
       ".. note::\n",
       "    When only `condition` is provided, this function is a shorthand for\n",
       "    ``np.asarray(condition).nonzero()``. Using `nonzero` directly should be\n",
       "    preferred, as it behaves correctly for subclasses. The rest of this\n",
       "    documentation covers only the case where all three arguments are\n",
       "    provided.\n",
       "\n",
       "Parameters\n",
       "----------\n",
       "condition : array_like, bool\n",
       "    Where True, yield `x`, otherwise yield `y`.\n",
       "x, y : array_like\n",
       "    Values from which to choose. `x`, `y` and `condition` need to be\n",
       "    broadcastable to some shape.\n",
       "\n",
       "Returns\n",
       "-------\n",
       "out : ndarray\n",
       "    An array with elements from `x` where `condition` is True, and elements\n",
       "    from `y` elsewhere.\n",
       "\n",
       "See Also\n",
       "--------\n",
       "choose\n",
       "nonzero : The function that is called when x and y are omitted\n",
       "\n",
       "Notes\n",
       "-----\n",
       "If all the arrays are 1-D, `where` is equivalent to::\n",
       "\n",
       "    [xv if c else yv\n",
       "     for c, xv, yv in zip(condition, x, y)]\n",
       "\n",
       "Examples\n",
       "--------\n",
       ">>> a = np.arange(10)\n",
       ">>> a\n",
       "array([0, 1, 2, 3, 4, 5, 6, 7, 8, 9])\n",
       ">>> np.where(a < 5, a, 10*a)\n",
       "array([ 0,  1,  2,  3,  4, 50, 60, 70, 80, 90])\n",
       "\n",
       "This can be used on multidimensional arrays too:\n",
       "\n",
       ">>> np.where([[True, False], [True, True]],\n",
       "...          [[1, 2], [3, 4]],\n",
       "...          [[9, 8], [7, 6]])\n",
       "array([[1, 8],\n",
       "       [3, 4]])\n",
       "\n",
       "The shapes of x, y, and the condition are broadcast together:\n",
       "\n",
       ">>> x, y = np.ogrid[:3, :4]\n",
       ">>> np.where(x < y, x, 10 + y)  # both x and 10+y are broadcast\n",
       "array([[10,  0,  0,  0],\n",
       "       [10, 11,  1,  1],\n",
       "       [10, 11, 12,  2]])\n",
       "\n",
       ">>> a = np.array([[0, 1, 2],\n",
       "...               [0, 2, 4],\n",
       "...               [0, 3, 6]])\n",
       ">>> np.where(a < 4, a, -1)  # -1 is broadcast\n",
       "array([[ 0,  1,  2],\n",
       "       [ 0,  2, -1],\n",
       "       [ 0,  3, -1]])\n",
       "\u001b[1;31mType:\u001b[0m      function\n"
      ]
     },
     "metadata": {},
     "output_type": "display_data"
    }
   ],
   "source": [
    "?np.where"
   ]
  },
  {
   "cell_type": "code",
   "execution_count": null,
   "id": "7d7a350b-caed-4030-96b4-ab956eb71e33",
   "metadata": {},
   "outputs": [],
   "source": []
  }
 ],
 "metadata": {
  "kernelspec": {
   "display_name": "Python 3 (ipykernel)",
   "language": "python",
   "name": "python3"
  },
  "language_info": {
   "codemirror_mode": {
    "name": "ipython",
    "version": 3
   },
   "file_extension": ".py",
   "mimetype": "text/x-python",
   "name": "python",
   "nbconvert_exporter": "python",
   "pygments_lexer": "ipython3",
   "version": "3.9.7"
  }
 },
 "nbformat": 4,
 "nbformat_minor": 5
}
