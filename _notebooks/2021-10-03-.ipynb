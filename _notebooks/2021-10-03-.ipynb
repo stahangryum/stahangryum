{
 "cells": [
  {
   "cell_type": "markdown",
   "id": "41ddb3a9-48d9-4fbc-b22b-b4f518ab1447",
   "metadata": {},
   "source": [
    "# \"Monte Carlo Integration in Python\"\n",
    "\n",
    "\n",
    "- toc: true\n",
    "- branch: master\n",
    "- badges: true\n",
    "- comments: true\n",
    "- author: Kim Jeewoo\n",
    "- categories: [Python]\n",
    "- image: images/monte.gif"
   ]
  },
  {
   "cell_type": "code",
   "execution_count": 1,
   "id": "f5d601a3-caaf-48ba-9054-42a6458926e9",
   "metadata": {},
   "outputs": [],
   "source": [
    "import numpy\n",
    "import matplotlib.pyplot as plt"
   ]
  },
  {
   "cell_type": "code",
   "execution_count": null,
   "id": "355fbff7-9b7a-4ed5-85d8-482ef99ba7a3",
   "metadata": {},
   "outputs": [],
   "source": []
  }
 ],
 "metadata": {
  "kernelspec": {
   "display_name": "Python 3 (ipykernel)",
   "language": "python",
   "name": "python3"
  },
  "language_info": {
   "codemirror_mode": {
    "name": "ipython",
    "version": 3
   },
   "file_extension": ".py",
   "mimetype": "text/x-python",
   "name": "python",
   "nbconvert_exporter": "python",
   "pygments_lexer": "ipython3",
   "version": "3.9.7"
  }
 },
 "nbformat": 4,
 "nbformat_minor": 5
}
