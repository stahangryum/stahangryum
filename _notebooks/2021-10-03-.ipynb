{
 "cells": [
  {
   "cell_type": "markdown",
   "id": "41ddb3a9-48d9-4fbc-b22b-b4f518ab1447",
   "metadata": {},
   "source": [
    "# \"Monte Carlo Integration in Python\"\n",
    "\n",
    "\n",
    "- toc: true\n",
    "- branch: master\n",
    "- badges: true\n",
    "- comments: true\n",
    "- author: Kim Jeewoo\n",
    "- categories: [Python]\n",
    "- image: images/monte_logo.gif"
   ]
  },
  {
   "cell_type": "markdown",
   "id": "0677a537-2b0f-4384-b22f-acc827884c81",
   "metadata": {},
   "source": [
    "# 몬테 카를로 적분(Monte Carlo Integration)"
   ]
  },
  {
   "cell_type": "markdown",
   "id": "26a32d21-ef0f-40f3-8021-5e3205b02010",
   "metadata": {},
   "source": [
    "# Problem "
   ]
  },
  {
   "cell_type": "markdown",
   "id": "079ac567-e6f7-41d2-ac4f-c940de7d0637",
   "metadata": {},
   "source": [
    "**Find $\\int_0^1 (x^5 + sin(4\\pi x))\\,dx$.**"
   ]
  },
  {
   "cell_type": "markdown",
   "id": "517f0bd3-f66e-48db-8c8a-104825958b08",
   "metadata": {},
   "source": [
    "## Solution I"
   ]
  },
  {
   "cell_type": "markdown",
   "id": "5e12bafd-dbc1-4671-89b1-166fd238e914",
   "metadata": {},
   "source": [
    "$\\int_0^1 (x^5 + sin(4\\pi x))\\,dx = \\left[\\cfrac{1}{6} x^6-\\cfrac{1}{4\\pi}cos(4\\pi x)\\right]_0^1 = \\cfrac{1}{6} - \\cfrac{1}{4\\pi} + \\cfrac{1}{4\\pi} = \\cfrac{1}{6}$"
   ]
  },
  {
   "cell_type": "markdown",
   "id": "4daa6e02-1ecb-4477-8983-8567c81cec35",
   "metadata": {},
   "source": [
    "## Solution II - Monte Carlo Integration in Python"
   ]
  },
  {
   "cell_type": "code",
   "execution_count": null,
   "id": "e2e125c5-d6a0-4fb6-bbb6-96aac589cba1",
   "metadata": {},
   "outputs": [],
   "source": [
    "import numpy as np\n",
    "import matplotlib.pyplot as plt"
   ]
  },
  {
   "cell_type": "code",
   "execution_count": 60,
   "id": "fe93eb5c-9ab7-4417-bbbc-0f4834d8fa10",
   "metadata": {},
   "outputs": [
    {
     "data": {
      "image/png": "[encoded data removed]",
      "text/plain": [
       "<Figure size 432x288 with 1 Axes>"
      ]
     },
     "metadata": {
      "needs_background": "light"
     },
     "output_type": "display_data"
    }
   ],
   "source": [
    "def function(x):\n",
    "    return x**5 + np.sin(4*np.pi*x)\n",
    "\n",
    "x = np.linspace(0, 1, 10000)\n",
    "y = [function(x) for x in x]\n",
    "plt.plot(x, y)\n",
    "bottom, top = plt.ylim() #그래프에서 최솟값, 최댓값"
   ]
  },
  {
   "cell_type": "markdown",
   "id": "0b22d284-385a-44d2-a582-6fd5dd13c3ba",
   "metadata": {},
   "source": [
    "![](image/monte_1.png)"
   ]
  },
  {
   "cell_type": "markdown",
   "id": "70365243-026f-465f-845d-9b9480ecadec",
   "metadata": {},
   "source": [
    "![](image/monte_2.png)"
   ]
  },
  {
   "cell_type": "code",
   "execution_count": 61,
   "id": "355fbff7-9b7a-4ed5-85d8-482ef99ba7a3",
   "metadata": {},
   "outputs": [
    {
     "name": "stdout",
     "output_type": "stream",
     "text": [
      "A =  0.9711591930996334\n"
     ]
    }
   ],
   "source": [
    "def function(x): #함수 정의\n",
    "    return x**5 + np.sin(4*np.pi*x)\n",
    "\n",
    "\n",
    "N = int(1e+5)  # Random Sampling 시행 횟수\n",
    "W = 1  # 사각형의 가로 길이 정의\n",
    "H = top - bottom #최댓값 - 최솟값, 꼭 최댓값과 최솟값으로 할 필요는 없음.\n",
    "\n",
    "\n",
    "X = np.random.random(N)   ### 각 점의 x 좌표 랜덤 샘플링\n",
    "Y = H*np.random.random(N) ### 각 점의 y 좌표 랜덤 샘플링\n",
    "\n",
    "F = function(X) ### 각 랜덤 샘플링에 대한 f(x)를 계산\n",
    "in_out = Y < F  ### y와 f(x) 값 비교\n",
    "    \n",
    "A = H * W * np.sum(in_out) / N ### 영역 S의 넓이\n",
    "print(\"A = \", A)"
   ]
  },
  {
   "cell_type": "code",
   "execution_count": 28,
   "id": "bb4b9e60-b6bf-4514-861c-cb120a5a7e2d",
   "metadata": {},
   "outputs": [
    {
     "data": {
      "text/plain": [
       "1.3146653940470887"
      ]
     },
     "execution_count": 28,
     "metadata": {},
     "output_type": "execute_result"
    }
   ],
   "source": [
    "max(x**2 + np.sin(np.pi*x))"
   ]
  },
  {
   "cell_type": "code",
   "execution_count": null,
   "id": "bb7bab4c-fdb5-44a7-9c70-d01cc72062ec",
   "metadata": {},
   "outputs": [],
   "source": []
  }
 ],
 "metadata": {
  "kernelspec": {
   "display_name": "Python 3 (ipykernel)",
   "language": "python",
   "name": "python3"
  },
  "language_info": {
   "codemirror_mode": {
    "name": "ipython",
    "version": 3
   },
   "file_extension": ".py",
   "mimetype": "text/x-python",
   "name": "python",
   "nbconvert_exporter": "python",
   "pygments_lexer": "ipython3",
   "version": "3.9.7"
  }
 },
 "nbformat": 4,
 "nbformat_minor": 5
}
