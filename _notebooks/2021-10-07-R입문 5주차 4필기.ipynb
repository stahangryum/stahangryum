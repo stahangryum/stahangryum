{
 "cells": [
  {
   "cell_type": "code",
   "execution_count": 1,
   "id": "c0563696-bf74-4bbb-a95c-868800184121",
   "metadata": {},
   "outputs": [],
   "source": [
    "#hide\n",
    "options(jupyter.plot_scale = 3)\n",
    "options(jupyter.display_mimetypes = c(\"text/html\"))\n",
    "options(jupyter.rich_display=FALSE)\n",
    "options(repr.plot.width=6, repr.plot.height=6, repr.plot.res=300)\n",
    "options(max.print=1000)"
   ]
  },
  {
   "cell_type": "markdown",
   "id": "12f114c3-dd1a-4c9d-b391-801aeeb8c6f4",
   "metadata": {
    "jp-MarkdownHeadingCollapsed": true,
    "tags": []
   },
   "source": [
    "# \"R : 연산자\"\n",
    "> \"전북대학교 R입문 4주차 필기\"\n",
    "\n",
    "- toc: true\n",
    "- branch: master\n",
    "- badges: true\n",
    "- comments: true\n",
    "- author: Kim Jeewoo\n",
    "- categories: [Introduction to R]\n",
    "- image: images/if_logo.png"
   ]
  },
  {
   "cell_type": "markdown",
   "id": "3fb83714-2be1-4aed-970f-f99c328133b7",
   "metadata": {
    "tags": []
   },
   "source": [
    "# 연산자"
   ]
  },
  {
   "cell_type": "markdown",
   "id": "1815e98f-812a-4353-bdba-34611ffc9614",
   "metadata": {},
   "source": [
    "## 산술연산자"
   ]
  },
  {
   "cell_type": "markdown",
   "id": "6dd788c6-200a-4a60-a75f-fbb4a80d4c14",
   "metadata": {},
   "source": [
    "- 사칙연산 : +, -, *, /"
   ]
  },
  {
   "cell_type": "markdown",
   "id": "43c93d86-dfad-4f37-be5c-8df72b126853",
   "metadata": {},
   "source": [
    "- 나머지연산 : %%"
   ]
  },
  {
   "cell_type": "markdown",
   "id": "e9586ba2-1195-49dd-9f57-3c55e603d841",
   "metadata": {},
   "source": [
    "- 몫연산 : %/%"
   ]
  },
  {
   "cell_type": "markdown",
   "id": "64749cfd-1cb4-404b-b415-dc5c825394f2",
   "metadata": {},
   "source": [
    "- 제곱 : a^b"
   ]
  },
  {
   "cell_type": "markdown",
   "id": "5c66642a-2f7f-4572-bc98-157a4aa703ce",
   "metadata": {},
   "source": [
    "### Example"
   ]
  },
  {
   "cell_type": "code",
   "execution_count": 3,
   "id": "a4a25d69-7cdb-4462-944b-8b4a0db2dd9e",
   "metadata": {},
   "outputs": [
    {
     "data": {
      "text/plain": [
       "[1] 5"
      ]
     },
     "metadata": {},
     "output_type": "display_data"
    }
   ],
   "source": [
    "2+3 #덧셈"
   ]
  },
  {
   "cell_type": "code",
   "execution_count": 5,
   "id": "5edf95bf-2e50-4a9e-a8ed-7d8f7d8a8455",
   "metadata": {},
   "outputs": [
    {
     "data": {
      "text/plain": [
       "[1] 12"
      ]
     },
     "metadata": {},
     "output_type": "display_data"
    }
   ],
   "source": [
    "6-2 #뺄셈"
   ]
  },
  {
   "cell_type": "code",
   "execution_count": 13,
   "id": "a4feb2a4-42f6-4816-acfc-8764b989ec6c",
   "metadata": {},
   "outputs": [
    {
     "data": {
      "text/plain": [
       "[1] 32"
      ]
     },
     "metadata": {},
     "output_type": "display_data"
    }
   ],
   "source": [
    "4*8 #곱셈"
   ]
  },
  {
   "cell_type": "code",
   "execution_count": 14,
   "id": "4f7cc50a-3089-4564-b612-75f8795f03f3",
   "metadata": {},
   "outputs": [
    {
     "data": {
      "text/plain": [
       "[1] 3"
      ]
     },
     "metadata": {},
     "output_type": "display_data"
    }
   ],
   "source": [
    "9/3 #나눗셈"
   ]
  },
  {
   "cell_type": "code",
   "execution_count": 15,
   "id": "b8b2b33c-540f-4924-b973-8e269cac0a2f",
   "metadata": {},
   "outputs": [
    {
     "data": {
      "text/plain": [
       "[1] 3"
      ]
     },
     "metadata": {},
     "output_type": "display_data"
    }
   ],
   "source": [
    "31 %% 7 #나머지"
   ]
  },
  {
   "cell_type": "code",
   "execution_count": 17,
   "id": "6461d4b2-0081-4902-aa16-95f16c62052b",
   "metadata": {},
   "outputs": [
    {
     "data": {
      "text/plain": [
       "[1] 4"
      ]
     },
     "metadata": {},
     "output_type": "display_data"
    }
   ],
   "source": [
    "31 %/% 7 #몫"
   ]
  },
  {
   "cell_type": "code",
   "execution_count": 18,
   "id": "45dcba27-d8f8-4260-bdae-18a87f132b12",
   "metadata": {},
   "outputs": [
    {
     "data": {
      "text/plain": [
       "[1] 1024"
      ]
     },
     "metadata": {},
     "output_type": "display_data"
    }
   ],
   "source": [
    "2^10 #제곱"
   ]
  },
  {
   "cell_type": "markdown",
   "id": "77b6fd53-e95b-46ea-9a4a-5f236501aa91",
   "metadata": {},
   "source": [
    "## 논리연산자"
   ]
  },
  {
   "cell_type": "markdown",
   "id": "07a678ba-924e-4c52-bf9e-2e9fb3d9d385",
   "metadata": {},
   "source": [
    "- TRUE = 1"
   ]
  },
  {
   "cell_type": "markdown",
   "id": "5409cc23-073f-4d0a-a62b-d00c8aaa78d1",
   "metadata": {},
   "source": [
    "- FALSE = 0"
   ]
  },
  {
   "cell_type": "markdown",
   "id": "46b1028f-e741-48cb-b95f-49f8e8e28dab",
   "metadata": {},
   "source": [
    "- !TRUE = FALSE = 0"
   ]
  },
  {
   "cell_type": "markdown",
   "id": "4ce7f4dd-f0a3-4f92-82de-3a813f9dc6c9",
   "metadata": {},
   "source": [
    "- !FALSE = TRUE = 1"
   ]
  },
  {
   "cell_type": "code",
   "execution_count": 24,
   "id": "b7dc3add-dfff-4c57-962c-eb67918b7f5a",
   "metadata": {},
   "outputs": [
    {
     "data": {
      "text/plain": [
       "[1]  TRUE  TRUE FALSE FALSE  TRUE"
      ]
     },
     "metadata": {},
     "output_type": "display_data"
    }
   ],
   "source": [
    "x = c(T,T,F,F,T)\n",
    "x"
   ]
  },
  {
   "cell_type": "code",
   "execution_count": 25,
   "id": "8ad8ff9f-394e-40f9-b3f7-00170a062f89",
   "metadata": {},
   "outputs": [
    {
     "data": {
      "text/plain": [
       "[1]  TRUE FALSE  TRUE FALSE  TRUE"
      ]
     },
     "metadata": {},
     "output_type": "display_data"
    }
   ],
   "source": [
    "y = c(TRUE, FALSE, TRUE, FALSE, TRUE)\n",
    "y"
   ]
  },
  {
   "cell_type": "code",
   "execution_count": 31,
   "id": "9dab853c-5709-408c-a1ea-deb936dfe8ed",
   "metadata": {},
   "outputs": [
    {
     "name": "stdout",
     "output_type": "stream",
     "text": [
      "[1]  TRUE  TRUE FALSE FALSE  TRUE\n",
      "[1] FALSE FALSE  TRUE  TRUE FALSE\n"
     ]
    }
   ],
   "source": [
    "print(x)\n",
    "print(!x)"
   ]
  },
  {
   "cell_type": "code",
   "execution_count": 32,
   "id": "3b289adb-f518-4d24-b56c-192d12178131",
   "metadata": {},
   "outputs": [
    {
     "name": "stdout",
     "output_type": "stream",
     "text": [
      "[1]  TRUE FALSE  TRUE FALSE  TRUE\n",
      "[1] FALSE  TRUE FALSE  TRUE FALSE\n"
     ]
    }
   ],
   "source": [
    "print(y)\n",
    "print(!y)"
   ]
  },
  {
   "cell_type": "markdown",
   "id": "78eea8ef-f2b0-4264-b7c5-ee8f740af512",
   "metadata": {
    "tags": []
   },
   "source": [
    "#### Application"
   ]
  },
  {
   "cell_type": "markdown",
   "id": "e94c2e43-c2de-4a25-9984-4721646b2683",
   "metadata": {},
   "source": [
    "- 1부터 100까지의 자연수 중 3의 배수만 출력하고 싶다."
   ]
  },
  {
   "cell_type": "code",
   "execution_count": 35,
   "id": "50c0bad5-4307-4271-aa75-fc1d869b24fc",
   "metadata": {},
   "outputs": [
    {
     "data": {
      "text/plain": [
       "  [1]   1   2   3   4   5   6   7   8   9  10  11  12  13  14  15  16  17  18\n",
       " [19]  19  20  21  22  23  24  25  26  27  28  29  30  31  32  33  34  35  36\n",
       " [37]  37  38  39  40  41  42  43  44  45  46  47  48  49  50  51  52  53  54\n",
       " [55]  55  56  57  58  59  60  61  62  63  64  65  66  67  68  69  70  71  72\n",
       " [73]  73  74  75  76  77  78  79  80  81  82  83  84  85  86  87  88  89  90\n",
       " [91]  91  92  93  94  95  96  97  98  99 100"
      ]
     },
     "metadata": {},
     "output_type": "display_data"
    }
   ],
   "source": [
    "x = 1:100\n",
    "x"
   ]
  },
  {
   "cell_type": "code",
   "execution_count": 40,
   "id": "bbac1593-5a28-4da0-b8a3-4d0a3dcec3d8",
   "metadata": {},
   "outputs": [
    {
     "data": {
      "text/plain": [
       " [1]  3  6  9 12 15 18 21 24 27 30 33 36 39 42 45 48 51 54 57 60 63 66 69 72 75\n",
       "[26] 78 81 84 87 90 93 96 99"
      ]
     },
     "metadata": {},
     "output_type": "display_data"
    }
   ],
   "source": [
    "x[x %% 3 == 0]"
   ]
  },
  {
   "cell_type": "markdown",
   "id": "b841f9f4-f050-41d2-8e59-c6f5354dc11b",
   "metadata": {},
   "source": [
    "- 1부터 100까지의 자연수 중 3의 배수가 아닌 것을 출력하고 싶다."
   ]
  },
  {
   "cell_type": "code",
   "execution_count": 41,
   "id": "bcd6b773-09e0-49bb-851d-ebe279d4bcee",
   "metadata": {},
   "outputs": [
    {
     "data": {
      "text/plain": [
       " [1]   1   2   4   5   7   8  10  11  13  14  16  17  19  20  22  23  25  26  28\n",
       "[20]  29  31  32  34  35  37  38  40  41  43  44  46  47  49  50  52  53  55  56\n",
       "[39]  58  59  61  62  64  65  67  68  70  71  73  74  76  77  79  80  82  83  85\n",
       "[58]  86  88  89  91  92  94  95  97  98 100"
      ]
     },
     "metadata": {},
     "output_type": "display_data"
    }
   ],
   "source": [
    "x[x %% 3 != 0]"
   ]
  },
  {
   "cell_type": "code",
   "execution_count": 42,
   "id": "9072a4f1-cf1a-43e8-9915-6581f0d865cc",
   "metadata": {},
   "outputs": [
    {
     "data": {
      "text/plain": [
       " [1]   1   2   4   5   7   8  10  11  13  14  16  17  19  20  22  23  25  26  28\n",
       "[20]  29  31  32  34  35  37  38  40  41  43  44  46  47  49  50  52  53  55  56\n",
       "[39]  58  59  61  62  64  65  67  68  70  71  73  74  76  77  79  80  82  83  85\n",
       "[58]  86  88  89  91  92  94  95  97  98 100"
      ]
     },
     "metadata": {},
     "output_type": "display_data"
    }
   ],
   "source": [
    "x[!(x %% 3 == 0)]"
   ]
  },
  {
   "cell_type": "markdown",
   "id": "ec38d101-219c-4574-bd2f-bc8f60801ff0",
   "metadata": {},
   "source": [
    "### AND, OR"
   ]
  },
  {
   "cell_type": "markdown",
   "id": "f0d14145-6af1-4599-9834-ae472df4511f",
   "metadata": {},
   "source": [
    "& : AND"
   ]
  },
  {
   "cell_type": "markdown",
   "id": "46cbdbbe-4ed8-4d9c-bf08-4809974b80d0",
   "metadata": {},
   "source": [
    "| : OR"
   ]
  },
  {
   "cell_type": "code",
   "execution_count": 47,
   "id": "1490e36f-434d-46c0-bdfd-3b5fe786e603",
   "metadata": {},
   "outputs": [
    {
     "data": {
      "text/plain": [
       "[1] TRUE"
      ]
     },
     "metadata": {},
     "output_type": "display_data"
    }
   ],
   "source": [
    "TRUE&TRUE"
   ]
  },
  {
   "cell_type": "code",
   "execution_count": 48,
   "id": "2687d8e2-29d3-4de6-b866-7338c610d112",
   "metadata": {},
   "outputs": [
    {
     "data": {
      "text/plain": [
       "[1] FALSE"
      ]
     },
     "metadata": {},
     "output_type": "display_data"
    }
   ],
   "source": [
    "TRUE&FALSE"
   ]
  },
  {
   "cell_type": "code",
   "execution_count": 49,
   "id": "6a023468-f7d9-4225-865a-7f2accf13fd7",
   "metadata": {},
   "outputs": [
    {
     "data": {
      "text/plain": [
       "[1] FALSE"
      ]
     },
     "metadata": {},
     "output_type": "display_data"
    }
   ],
   "source": [
    "FALSE&TRUE"
   ]
  },
  {
   "cell_type": "code",
   "execution_count": 50,
   "id": "54e74de6-b5d7-4b39-ac1e-10cbae71d08b",
   "metadata": {},
   "outputs": [
    {
     "data": {
      "text/plain": [
       "[1] FALSE"
      ]
     },
     "metadata": {},
     "output_type": "display_data"
    }
   ],
   "source": [
    "FALSE&FALSE"
   ]
  },
  {
   "cell_type": "code",
   "execution_count": 51,
   "id": "4cb28f04-6423-45bb-b188-4fa5fbf0f487",
   "metadata": {},
   "outputs": [
    {
     "data": {
      "text/plain": [
       "[1] TRUE"
      ]
     },
     "metadata": {},
     "output_type": "display_data"
    }
   ],
   "source": [
    "TRUE|TRUE"
   ]
  },
  {
   "cell_type": "code",
   "execution_count": 52,
   "id": "d225d318-1f09-4a49-be75-c06e38064f37",
   "metadata": {},
   "outputs": [
    {
     "data": {
      "text/plain": [
       "[1] TRUE"
      ]
     },
     "metadata": {},
     "output_type": "display_data"
    }
   ],
   "source": [
    "TRUE|FALSE"
   ]
  },
  {
   "cell_type": "code",
   "execution_count": 53,
   "id": "4b5fdfcb-d950-42a9-a72b-90221cf50fbd",
   "metadata": {},
   "outputs": [
    {
     "data": {
      "text/plain": [
       "[1] TRUE"
      ]
     },
     "metadata": {},
     "output_type": "display_data"
    }
   ],
   "source": [
    "FALSE|TRUE"
   ]
  },
  {
   "cell_type": "code",
   "execution_count": 54,
   "id": "52d69d3b-70cf-46c4-b054-d4eec00b6549",
   "metadata": {},
   "outputs": [
    {
     "data": {
      "text/plain": [
       "[1] FALSE"
      ]
     },
     "metadata": {},
     "output_type": "display_data"
    }
   ],
   "source": [
    "FALSE|FALSE"
   ]
  },
  {
   "cell_type": "markdown",
   "id": "ccbd44f8-5400-4a71-b239-d83acf2d3bcd",
   "metadata": {},
   "source": [
    "- &&, ||를 사용하면 첫 번째 원소만 비교"
   ]
  },
  {
   "cell_type": "code",
   "execution_count": 59,
   "id": "6a1408d4-0a35-4271-af65-d81667909859",
   "metadata": {},
   "outputs": [
    {
     "data": {
      "text/plain": [
       "[1] FALSE"
      ]
     },
     "metadata": {},
     "output_type": "display_data"
    }
   ],
   "source": [
    "x = c(T,T,F,F,T)\n",
    "y = c(F,T,T,F,T)\n",
    "x&&y"
   ]
  },
  {
   "cell_type": "code",
   "execution_count": 58,
   "id": "709c145e-c787-40da-9f5e-629d8578851c",
   "metadata": {},
   "outputs": [
    {
     "data": {
      "text/plain": [
       "[1] TRUE"
      ]
     },
     "metadata": {},
     "output_type": "display_data"
    }
   ],
   "source": [
    "x = c(T,T,F,F,T)\n",
    "y = c(T,T,T,F,T)\n",
    "x&&y"
   ]
  },
  {
   "cell_type": "code",
   "execution_count": 60,
   "id": "88ae9365-91da-414f-a799-6f183b60c0ee",
   "metadata": {},
   "outputs": [
    {
     "data": {
      "text/plain": [
       "[1] TRUE"
      ]
     },
     "metadata": {},
     "output_type": "display_data"
    }
   ],
   "source": [
    "x = c(T,T,F,F,T)\n",
    "y = c(F,T,T,F,T)\n",
    "x||y"
   ]
  },
  {
   "cell_type": "code",
   "execution_count": 61,
   "id": "352d192a-8f8d-4306-aeac-9acc282d9b16",
   "metadata": {},
   "outputs": [
    {
     "data": {
      "text/plain": [
       "[1] FALSE"
      ]
     },
     "metadata": {},
     "output_type": "display_data"
    }
   ],
   "source": [
    "x = c(F,T,F,F,T)\n",
    "y = c(F,T,T,F,T)\n",
    "x||y"
   ]
  },
  {
   "cell_type": "markdown",
   "id": "490c5ae6-c497-4802-8e0b-f4f4c156669f",
   "metadata": {},
   "source": [
    "- 아래처럼 해도 된다."
   ]
  },
  {
   "cell_type": "code",
   "execution_count": 62,
   "id": "0f9e4e20-205b-47f0-8853-1ca0e5057951",
   "metadata": {},
   "outputs": [
    {
     "data": {
      "text/plain": [
       "[1] FALSE"
      ]
     },
     "metadata": {},
     "output_type": "display_data"
    }
   ],
   "source": [
    "x = c(T,T,F,F,T)\n",
    "y = c(F,T,T,F,T)\n",
    "(x&y)[1]"
   ]
  },
  {
   "cell_type": "code",
   "execution_count": 63,
   "id": "9723d38d-f4d8-4469-a527-a864db183255",
   "metadata": {},
   "outputs": [
    {
     "data": {
      "text/plain": [
       "[1] TRUE"
      ]
     },
     "metadata": {},
     "output_type": "display_data"
    }
   ],
   "source": [
    "x = c(T,T,F,F,T)\n",
    "y = c(T,T,T,F,T)\n",
    "(x&y)[1]"
   ]
  },
  {
   "cell_type": "code",
   "execution_count": 64,
   "id": "358d21e6-52d0-4d6b-ba93-f0e116fd07e9",
   "metadata": {},
   "outputs": [
    {
     "data": {
      "text/plain": [
       "[1] TRUE"
      ]
     },
     "metadata": {},
     "output_type": "display_data"
    }
   ],
   "source": [
    "x = c(T,T,F,F,T)\n",
    "y = c(F,T,T,F,T)\n",
    "(x|y)[1]"
   ]
  },
  {
   "cell_type": "code",
   "execution_count": 65,
   "id": "060e3f8c-5cb1-48e0-bcc4-d974751b8b07",
   "metadata": {},
   "outputs": [
    {
     "data": {
      "text/plain": [
       "[1] FALSE"
      ]
     },
     "metadata": {},
     "output_type": "display_data"
    }
   ],
   "source": [
    "x = c(F,T,F,F,T)\n",
    "y = c(F,T,T,F,T)\n",
    "(x|y)[1]"
   ]
  },
  {
   "cell_type": "markdown",
   "id": "776cc95a-0989-4106-a742-2018d3b71a1e",
   "metadata": {},
   "source": [
    "## 비교연산자"
   ]
  },
  {
   "cell_type": "markdown",
   "id": "f4e00e4b-8ee6-49ef-8c3b-f4f2fbbf2f94",
   "metadata": {},
   "source": [
    "- a == b"
   ]
  },
  {
   "cell_type": "markdown",
   "id": "0ed59bc2-19f8-4551-9fd6-4093cf34d323",
   "metadata": {},
   "source": [
    "- a != b"
   ]
  },
  {
   "cell_type": "markdown",
   "id": "ac102411-ff5d-4f6b-8c46-a7d512df7381",
   "metadata": {},
   "source": [
    "- a >= b"
   ]
  },
  {
   "cell_type": "markdown",
   "id": "5bf4114e-36e0-4e60-8a23-c04d1f576bcd",
   "metadata": {},
   "source": [
    "- a <= b"
   ]
  },
  {
   "cell_type": "markdown",
   "id": "3e673f65-45bc-4ed6-ba67-fa7b53c2b78a",
   "metadata": {},
   "source": [
    "절대 =!, =<. =>로 쓰면 안된다."
   ]
  },
  {
   "cell_type": "markdown",
   "id": "8eed6255-0f9b-4e71-a0d6-aeb9998bd31f",
   "metadata": {},
   "source": [
    "# 과제"
   ]
  },
  {
   "cell_type": "markdown",
   "id": "acda5baa-c898-401e-9ead-4f5974697968",
   "metadata": {},
   "source": [
    "$-100\\leq x \\leq 100$의 범위에서 아래와 같은 y를 생성하라."
   ]
  },
  {
   "cell_type": "markdown",
   "id": "32ea22bf-1599-4bdd-b451-54b1edd23b41",
   "metadata": {},
   "source": [
    "$y=\\begin{cases}\n",
    "x & |x| > 5 \\\\\n",
    "5 & 2<|x| \\leq 5 \\\\\n",
    "0 & |x| \\leq 2\n",
    "\\end{cases}$"
   ]
  },
  {
   "cell_type": "code",
   "execution_count": 87,
   "id": "e449a2a5-2c5a-414f-850c-3208e7d9ce8b",
   "metadata": {},
   "outputs": [
    {
     "data": {
      "text/plain": [
       "  [1] -10.0  -9.9  -9.8  -9.7  -9.6  -9.5  -9.4  -9.3  -9.2  -9.1  -9.0  -8.9\n",
       " [13]  -8.8  -8.7  -8.6  -8.5  -8.4  -8.3  -8.2  -8.1  -8.0  -7.9  -7.8  -7.7\n",
       " [25]  -7.6  -7.5  -7.4  -7.3  -7.2  -7.1  -7.0  -6.9  -6.8  -6.7  -6.6  -6.5\n",
       " [37]  -6.4  -6.3  -6.2  -6.1  -6.0  -5.9  -5.8  -5.7  -5.6  -5.5  -5.4  -5.3\n",
       " [49]  -5.2  -5.1  -5.0  -4.9  -4.8  -4.7  -4.6  -4.5  -4.4  -4.3  -4.2  -4.1\n",
       " [61]  -4.0  -3.9  -3.8  -3.7  -3.6  -3.5  -3.4  -3.3  -3.2  -3.1  -3.0  -2.9\n",
       " [73]  -2.8  -2.7  -2.6  -2.5  -2.4  -2.3  -2.2  -2.1  -2.0  -1.9  -1.8  -1.7\n",
       " [85]  -1.6  -1.5  -1.4  -1.3  -1.2  -1.1  -1.0  -0.9  -0.8  -0.7  -0.6  -0.5\n",
       " [97]  -0.4  -0.3  -0.2  -0.1   0.0   0.1   0.2   0.3   0.4   0.5   0.6   0.7\n",
       "[109]   0.8   0.9   1.0   1.1   1.2   1.3   1.4   1.5   1.6   1.7   1.8   1.9\n",
       "[121]   2.0   2.1   2.2   2.3   2.4   2.5   2.6   2.7   2.8   2.9   3.0   3.1\n",
       "[133]   3.2   3.3   3.4   3.5   3.6   3.7   3.8   3.9   4.0   4.1   4.2   4.3\n",
       "[145]   4.4   4.5   4.6   4.7   4.8   4.9   5.0   5.1   5.2   5.3   5.4   5.5\n",
       "[157]   5.6   5.7   5.8   5.9   6.0   6.1   6.2   6.3   6.4   6.5   6.6   6.7\n",
       "[169]   6.8   6.9   7.0   7.1   7.2   7.3   7.4   7.5   7.6   7.7   7.8   7.9\n",
       "[181]   8.0   8.1   8.2   8.3   8.4   8.5   8.6   8.7   8.8   8.9   9.0   9.1\n",
       "[193]   9.2   9.3   9.4   9.5   9.6   9.7   9.8   9.9  10.0"
      ]
     },
     "metadata": {},
     "output_type": "display_data"
    }
   ],
   "source": [
    "x = -100:100/10\n",
    "x"
   ]
  },
  {
   "cell_type": "code",
   "execution_count": 107,
   "id": "bd03c6a4-70be-452f-af53-3767dd45ce28",
   "metadata": {},
   "outputs": [],
   "source": [
    "y = ifelse(abs(x) > 5, x, ifelse((2<abs(x))&(abs(x)<=5), 5, 0))"
   ]
  },
  {
   "cell_type": "code",
   "execution_count": 103,
   "id": "3f0d0329-3b4d-4c9a-b1a8-30f0994d574c",
   "metadata": {},
   "outputs": [],
   "source": [
    "k = ifelse(abs(x) > 5, x, ifelse(2<abs(x), 5, 0))"
   ]
  },
  {
   "cell_type": "code",
   "execution_count": 104,
   "id": "6740c068-f3e9-4ae8-8563-0b05cad04510",
   "metadata": {},
   "outputs": [
    {
     "data": {
      "text/plain": [
       "  [1] -10.0  -9.9  -9.8  -9.7  -9.6  -9.5  -9.4  -9.3  -9.2  -9.1  -9.0  -8.9\n",
       " [13]  -8.8  -8.7  -8.6  -8.5  -8.4  -8.3  -8.2  -8.1  -8.0  -7.9  -7.8  -7.7\n",
       " [25]  -7.6  -7.5  -7.4  -7.3  -7.2  -7.1  -7.0  -6.9  -6.8  -6.7  -6.6  -6.5\n",
       " [37]  -6.4  -6.3  -6.2  -6.1  -6.0  -5.9  -5.8  -5.7  -5.6  -5.5  -5.4  -5.3\n",
       " [49]  -5.2  -5.1   5.0   5.0   5.0   5.0   5.0   5.0   5.0   5.0   5.0   5.0\n",
       " [61]   5.0   5.0   5.0   5.0   5.0   5.0   5.0   5.0   5.0   5.0   5.0   5.0\n",
       " [73]   5.0   5.0   5.0   5.0   5.0   5.0   5.0   5.0   0.0   0.0   0.0   0.0\n",
       " [85]   0.0   0.0   0.0   0.0   0.0   0.0   0.0   0.0   0.0   0.0   0.0   0.0\n",
       " [97]   0.0   0.0   0.0   0.0   0.0   0.0   0.0   0.0   0.0   0.0   0.0   0.0\n",
       "[109]   0.0   0.0   0.0   0.0   0.0   0.0   0.0   0.0   0.0   0.0   0.0   0.0\n",
       "[121]   0.0   5.0   5.0   5.0   5.0   5.0   5.0   5.0   5.0   5.0   5.0   5.0\n",
       "[133]   5.0   5.0   5.0   5.0   5.0   5.0   5.0   5.0   5.0   5.0   5.0   5.0\n",
       "[145]   5.0   5.0   5.0   5.0   5.0   5.0   5.0   5.1   5.2   5.3   5.4   5.5\n",
       "[157]   5.6   5.7   5.8   5.9   6.0   6.1   6.2   6.3   6.4   6.5   6.6   6.7\n",
       "[169]   6.8   6.9   7.0   7.1   7.2   7.3   7.4   7.5   7.6   7.7   7.8   7.9\n",
       "[181]   8.0   8.1   8.2   8.3   8.4   8.5   8.6   8.7   8.8   8.9   9.0   9.1\n",
       "[193]   9.2   9.3   9.4   9.5   9.6   9.7   9.8   9.9  10.0"
      ]
     },
     "metadata": {},
     "output_type": "display_data"
    }
   ],
   "source": [
    "y"
   ]
  },
  {
   "cell_type": "code",
   "execution_count": 102,
   "id": "7b4d19f7-49d3-41d7-ad8c-17a944a4492d",
   "metadata": {},
   "outputs": [
    {
     "data": {
      "text/plain": [
       "  [1] TRUE TRUE TRUE TRUE TRUE TRUE TRUE TRUE TRUE TRUE TRUE TRUE TRUE TRUE TRUE\n",
       " [16] TRUE TRUE TRUE TRUE TRUE TRUE TRUE TRUE TRUE TRUE TRUE TRUE TRUE TRUE TRUE\n",
       " [31] TRUE TRUE TRUE TRUE TRUE TRUE TRUE TRUE TRUE TRUE TRUE TRUE TRUE TRUE TRUE\n",
       " [46] TRUE TRUE TRUE TRUE TRUE TRUE TRUE TRUE TRUE TRUE TRUE TRUE TRUE TRUE TRUE\n",
       " [61] TRUE TRUE TRUE TRUE TRUE TRUE TRUE TRUE TRUE TRUE TRUE TRUE TRUE TRUE TRUE\n",
       " [76] TRUE TRUE TRUE TRUE TRUE TRUE TRUE TRUE TRUE TRUE TRUE TRUE TRUE TRUE TRUE\n",
       " [91] TRUE TRUE TRUE TRUE TRUE TRUE TRUE TRUE TRUE TRUE TRUE TRUE TRUE TRUE TRUE\n",
       "[106] TRUE TRUE TRUE TRUE TRUE TRUE TRUE TRUE TRUE TRUE TRUE TRUE TRUE TRUE TRUE\n",
       "[121] TRUE TRUE TRUE TRUE TRUE TRUE TRUE TRUE TRUE TRUE TRUE TRUE TRUE TRUE TRUE\n",
       "[136] TRUE TRUE TRUE TRUE TRUE TRUE TRUE TRUE TRUE TRUE TRUE TRUE TRUE TRUE TRUE\n",
       "[151] TRUE TRUE TRUE TRUE TRUE TRUE TRUE TRUE TRUE TRUE TRUE TRUE TRUE TRUE TRUE\n",
       "[166] TRUE TRUE TRUE TRUE TRUE TRUE TRUE TRUE TRUE TRUE TRUE TRUE TRUE TRUE TRUE\n",
       "[181] TRUE TRUE TRUE TRUE TRUE TRUE TRUE TRUE TRUE TRUE TRUE TRUE TRUE TRUE TRUE\n",
       "[196] TRUE TRUE TRUE TRUE TRUE TRUE"
      ]
     },
     "metadata": {},
     "output_type": "display_data"
    }
   ],
   "source": [
    "y==k"
   ]
  },
  {
   "cell_type": "code",
   "execution_count": 108,
   "id": "560e5ac5-c9dc-45a3-9984-64dfacba9ef4",
   "metadata": {},
   "outputs": [
    {
     "data": {
      "image/png": "[encoded data removed]",
      "text/plain": [
       "plot without title"
      ]
     },
     "metadata": {
      "image/png": {
       "height": 600,
       "width": 600
      }
     },
     "output_type": "display_data"
    }
   ],
   "source": [
    "plot(x,y)"
   ]
  }
 ],
 "metadata": {
  "kernelspec": {
   "display_name": "R",
   "language": "R",
   "name": "ir"
  },
  "language_info": {
   "codemirror_mode": "r",
   "file_extension": ".r",
   "mimetype": "text/x-r-source",
   "name": "R",
   "pygments_lexer": "r",
   "version": "4.0.5"
  }
 },
 "nbformat": 4,
 "nbformat_minor": 5
}
