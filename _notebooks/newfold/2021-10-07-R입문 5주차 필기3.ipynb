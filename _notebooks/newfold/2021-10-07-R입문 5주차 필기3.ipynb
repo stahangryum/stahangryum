{
 "cells": [
  {
   "cell_type": "code",
   "execution_count": 42,
   "id": "c80c360d-fec3-4c20-9e6f-b65ec332c9c2",
   "metadata": {
    "tags": []
   },
   "outputs": [],
   "source": [
    "#hide\n",
    "options(jupyter.plot_scale = 3)\n",
    "options(jupyter.display_mimetypes = c(\"text/html\"))\n",
    "options(jupyter.rich_display=FALSE)\n",
    "options(repr.plot.width=6, repr.plot.height=6, repr.plot.res=300)\n",
    "options(max.print=1000)"
   ]
  },
  {
   "cell_type": "markdown",
   "id": "af53461f-a461-4524-a523-d2f6b4740fb3",
   "metadata": {
    "jp-MarkdownHeadingCollapsed": true,
    "tags": []
   },
   "source": [
    "# \"R : switch, repeat, break, next\"\n",
    "> \"전북대학교 R입문 5주차 필기\"\n",
    "\n",
    "- toc: true\n",
    "- branch: master\n",
    "- badges: true\n",
    "- comments: true\n",
    "- author: Kim Jeewoo\n",
    "- categories: [Introduction to R], [R]\n",
    "- image: images/r_logo.PNG"
   ]
  },
  {
   "cell_type": "markdown",
   "id": "38e97be1-5963-4350-a3f3-2b613a58a423",
   "metadata": {},
   "source": [
    "# switch()"
   ]
  },
  {
   "cell_type": "code",
   "execution_count": 43,
   "id": "d90caa5a-47c3-49f7-b381-73cd13e77207",
   "metadata": {},
   "outputs": [
    {
     "data": {
      "text/plain": [
       "[1] 1 2 3"
      ]
     },
     "metadata": {},
     "output_type": "display_data"
    }
   ],
   "source": [
    "switch(1, a1=c(1,2,3),a2=20,a3=c(30,40))"
   ]
  },
  {
   "cell_type": "code",
   "execution_count": 44,
   "id": "5b61e386-a4bf-4681-bd7d-587586c13e55",
   "metadata": {},
   "outputs": [
    {
     "data": {
      "text/plain": [
       "[1] 20"
      ]
     },
     "metadata": {},
     "output_type": "display_data"
    }
   ],
   "source": [
    "switch(2, a1=c(1,2,3),a2=20,a3=c(30,40))"
   ]
  },
  {
   "cell_type": "code",
   "execution_count": 45,
   "id": "38285422-42b0-4ff2-8480-3d58dc943cda",
   "metadata": {},
   "outputs": [
    {
     "data": {
      "text/plain": [
       "[1] 30 40"
      ]
     },
     "metadata": {},
     "output_type": "display_data"
    }
   ],
   "source": [
    "switch(3, a1=c(1,2,3),a2=20,a3=c(30,40))"
   ]
  },
  {
   "cell_type": "code",
   "execution_count": 46,
   "id": "365f5354-243c-4688-809d-a4b06b1363b3",
   "metadata": {},
   "outputs": [
    {
     "data": {
      "text/plain": [
       "[1] 1 2 3"
      ]
     },
     "metadata": {},
     "output_type": "display_data"
    }
   ],
   "source": [
    "switch('a1', a1=c(1,2,3),a2=20,a3=c(30,40))"
   ]
  },
  {
   "cell_type": "code",
   "execution_count": 47,
   "id": "ffbba730-aa3c-49b8-a4e8-8ae16247b7d6",
   "metadata": {},
   "outputs": [
    {
     "data": {
      "text/plain": [
       "[1] 20"
      ]
     },
     "metadata": {},
     "output_type": "display_data"
    }
   ],
   "source": [
    "switch('a2', a1=c(1,2,3),a2=20,a3=c(30,40))"
   ]
  },
  {
   "cell_type": "code",
   "execution_count": 48,
   "id": "f6f5ad8f-e783-4b14-908d-eb2869cb8061",
   "metadata": {},
   "outputs": [
    {
     "data": {
      "text/plain": [
       "[1] 30 40"
      ]
     },
     "metadata": {},
     "output_type": "display_data"
    }
   ],
   "source": [
    "switch('a3', a1=c(1,2,3),a2=20,a3=c(30,40))"
   ]
  },
  {
   "cell_type": "code",
   "execution_count": 41,
   "id": "724d8d1b-5f45-451c-8d50-ae03e28dc6ed",
   "metadata": {},
   "outputs": [
    {
     "data": {
      "text/plain": [
       "[1] 3"
      ]
     },
     "metadata": {},
     "output_type": "display_data"
    },
    {
     "data": {
      "text/plain": [
       "[1] 11"
      ]
     },
     "metadata": {},
     "output_type": "display_data"
    },
    {
     "data": {
      "text/plain": [
       "[1] 2"
      ]
     },
     "metadata": {},
     "output_type": "display_data"
    }
   ],
   "source": [
    "myfun <- function(x,f){\n",
    "    switch(f,\n",
    "        mean = mean(x),\n",
    "        sqmean = mean(x**2),\n",
    "        var = mean((x-mean(x))**2)\n",
    "    )\n",
    "}\n",
    "\n",
    "x = 1:5\n",
    "myfun(x, 'mean')\n",
    "myfun(x, 'sqmean')\n",
    "myfun(x, 'var')"
   ]
  },
  {
   "cell_type": "markdown",
   "id": "9e8bff9a-3300-420d-aa4e-bd353616b9dd",
   "metadata": {},
   "source": [
    "# repeat()"
   ]
  },
  {
   "cell_type": "code",
   "execution_count": 71,
   "id": "0e736072-aa37-4773-af73-50d6e6fdde62",
   "metadata": {},
   "outputs": [
    {
     "name": "stdout",
     "output_type": "stream",
     "text": [
      "[1] 5050\n"
     ]
    }
   ],
   "source": [
    "total=0\n",
    "i=1\n",
    "repeat{\n",
    "    if (i == 101) break\n",
    "    total = total + i\n",
    "    i = i + 1 \n",
    "    }\n",
    "print(total)"
   ]
  },
  {
   "cell_type": "markdown",
   "id": "f6a1eae3-a66a-44c6-8792-f5535455c258",
   "metadata": {},
   "source": [
    "# break"
   ]
  },
  {
   "cell_type": "code",
   "execution_count": null,
   "id": "f75fc564-6ba9-43ee-b0d0-1939a812797d",
   "metadata": {},
   "outputs": [],
   "source": [
    "- 현재 뤂"
   ]
  },
  {
   "cell_type": "markdown",
   "id": "9f3251c1-2142-40a9-81ba-14da47e7fbde",
   "metadata": {},
   "source": [
    "# next"
   ]
  },
  {
   "cell_type": "code",
   "execution_count": null,
   "id": "b53f08fa-1710-4cf8-bacd-90c9b1b87d0a",
   "metadata": {},
   "outputs": [],
   "source": []
  },
  {
   "cell_type": "code",
   "execution_count": 70,
   "id": "8ad05595-ac62-449d-8433-179015497984",
   "metadata": {},
   "outputs": [
    {
     "name": "stdout",
     "output_type": "stream",
     "text": [
      "[1] 1\n",
      "[1] 2\n",
      "[1] 4\n",
      "[1] 5\n"
     ]
    }
   ],
   "source": [
    "for (i in 1:5){\n",
    "    if (i == 3){\n",
    "        next \n",
    "    }else {\n",
    "        print(i)\n",
    "    }\n",
    "}"
   ]
  },
  {
   "cell_type": "code",
   "execution_count": 68,
   "id": "4464f4fb-0c07-405d-9c3f-db401b811053",
   "metadata": {},
   "outputs": [
    {
     "name": "stdout",
     "output_type": "stream",
     "text": [
      "[1] 1\n",
      "[1] 2\n",
      "[1] 4\n",
      "[1] 5\n"
     ]
    }
   ],
   "source": [
    "for (i in 1:5){\n",
    "    if (i == 3) next else print(i)}"
   ]
  },
  {
   "cell_type": "code",
   "execution_count": 69,
   "id": "25fb0959-a698-467c-86c3-243b53264681",
   "metadata": {},
   "outputs": [
    {
     "name": "stdout",
     "output_type": "stream",
     "text": [
      "[1] 1\n",
      "[1] 2\n",
      "[1] 4\n",
      "[1] 5\n"
     ]
    }
   ],
   "source": []
  },
  {
   "cell_type": "code",
   "execution_count": null,
   "id": "d5c1a44c-2398-4781-96f1-f9eccf5f49d6",
   "metadata": {},
   "outputs": [],
   "source": []
  }
 ],
 "metadata": {
  "kernelspec": {
   "display_name": "R",
   "language": "R",
   "name": "ir"
  },
  "language_info": {
   "codemirror_mode": "r",
   "file_extension": ".r",
   "mimetype": "text/x-r-source",
   "name": "R",
   "pygments_lexer": "r",
   "version": "4.0.5"
  }
 },
 "nbformat": 4,
 "nbformat_minor": 5
}
