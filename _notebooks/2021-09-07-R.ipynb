{
 "cells": [
  {
   "cell_type": "markdown",
   "id": "0b9eb4bd-7002-4da1-9b9e-4c2fee0659d6",
   "metadata": {},
   "source": [
    "## R은 좋은 계산기이다."
   ]
  },
  {
   "cell_type": "markdown",
   "id": "e4803dab-f55a-494f-9006-8970d9b7e8da",
   "metadata": {},
   "source": [
    "# \"R입문 1주차 필기\"\n",
    "> \"Awesome summary\"\n",
    "\n",
    "- toc: true\n",
    "- branch: master\n",
    "- badges: true\n",
    "- comments: true\n",
    "- author: Kim Jeewoo\n",
    "- categories: [R]"
   ]
  },
  {
   "cell_type": "markdown",
   "id": "82490ea5-aa55-475a-8cc1-eceb1a4a477d",
   "metadata": {},
   "source": [
    "#### 2005년 예비평가(나) 12월/평가원26번(고3)"
   ]
  },
  {
   "cell_type": "markdown",
   "id": "062b3cc8-0a9c-48a5-8440-56779173dabd",
   "metadata": {},
   "source": [
    "어떤 호수에서 수면에서의 빛의 세기가 $I_0$일 때, 수면이 $d$m인 곳에서의 빛의 세기 $I_d$는 다음과 같이 나타낸다."
   ]
  },
  {
   "cell_type": "markdown",
   "id": "efccdce2-fa65-45fb-923b-9c30eefaaa1d",
   "metadata": {},
   "source": [
    "$$I_d = I_0 2^{-0.25d}$$"
   ]
  },
  {
   "cell_type": "markdown",
   "id": "a75f4475-e740-4655-9cff-52c96501f548",
   "metadata": {},
   "source": [
    "이 호수에서 빛의 세기가 수면에서의 빛의 세기의 25%인 곳의 수심은? (3점)"
   ]
  },
  {
   "cell_type": "markdown",
   "id": "298db0d2-8586-46f4-91f0-91af053f35e8",
   "metadata": {},
   "source": [
    "(1) 16m\n",
    "\n",
    "(2) 12m\n",
    "\n",
    "(3) 10m\n",
    "\n",
    "(4) 8m\n",
    "\n",
    "(5) 4m"
   ]
  },
  {
   "cell_type": "markdown",
   "id": "4a74901f-6ae5-4d36-9490-2ee1c0a03fbd",
   "metadata": {},
   "source": [
    "(풀이1)"
   ]
  },
  {
   "cell_type": "markdown",
   "id": "d995500f-ffd7-4282-9430-90059c6b3efd",
   "metadata": {},
   "source": [
    "$0.25I_0 = I_0 2^{-0.25d}$"
   ]
  },
  {
   "cell_type": "markdown",
   "id": "afdd83b8-3630-4b74-b3f1-24e13a1b6142",
   "metadata": {},
   "source": [
    "$2^{-2} = 2^{-0.25d}$"
   ]
  },
  {
   "cell_type": "markdown",
   "id": "d3876ce4-d719-4273-8426-77ea220a92e2",
   "metadata": {},
   "source": [
    "$d = 8m$"
   ]
  },
  {
   "cell_type": "markdown",
   "id": "6cfd78e5-f0d6-42a3-a7f9-aecf22fcc365",
   "metadata": {},
   "source": [
    "(풀이2)"
   ]
  },
  {
   "cell_type": "code",
   "execution_count": 26,
   "id": "3a43055e-1647-41d2-a306-94cef3e67b5c",
   "metadata": {},
   "outputs": [
    {
     "name": "stdout",
     "output_type": "stream",
     "text": [
      "[1] 1\n"
     ]
    }
   ],
   "source": [
    "I_0 = 1\n",
    "I_d = 0.25*I_0\n",
    "d = 8\n",
    "y = I_0*2^(-0.25*d)/I_d\n",
    "print(y)"
   ]
  },
  {
   "cell_type": "markdown",
   "id": "6c6f8c89-54b2-4d2d-93d8-d42a2d3be2ec",
   "metadata": {},
   "source": [
    "(풀이3)\n",
    "- $d$를 입력하면 $y$가 계산되는 함수를 만들고 싶다."
   ]
  },
  {
   "cell_type": "markdown",
   "id": "bc3a20ee-9b76-44df-a570-e5e65a550912",
   "metadata": {},
   "source": [
    "$$y=f(d)$$"
   ]
  },
  {
   "cell_type": "code",
   "execution_count": null,
   "id": "3ddf88c5-ac67-4050-8ed8-7bdb9e16c1c0",
   "metadata": {},
   "outputs": [],
   "source": [
    "f <- function(d){\n",
    "    y=I_0*2^(-0.25*d)/I_d\n",
    "    y\n",
    "}"
   ]
  },
  {
   "cell_type": "markdown",
   "id": "6f395aa0-0039-41da-b494-45b6c47592de",
   "metadata": {},
   "source": [
    "- $y=f(d)=\\frac{I_0 2^{-0.25 d}}{I_d}$ 함수를 만들자\n",
    "- y=1이 되는 d가 답이다."
   ]
  },
  {
   "cell_type": "code",
   "execution_count": 116,
   "id": "84cdb1ee-0213-48ce-858e-cb59f49a3f92",
   "metadata": {},
   "outputs": [
    {
     "name": "stdout",
     "output_type": "stream",
     "text": [
      "[1] 1\n"
     ]
    }
   ],
   "source": [
    "print(f(8))"
   ]
  },
  {
   "cell_type": "markdown",
   "id": "b384d90e-4b41-42e9-b8bc-1309fa44388e",
   "metadata": {},
   "source": [
    "- $d=8$이 답이다."
   ]
  },
  {
   "cell_type": "markdown",
   "id": "33708619-a024-4320-abad-864f3c51ebc7",
   "metadata": {},
   "source": [
    "(풀이4)\n",
    " - d를 일일이 대입하는 것이 너무 번거롭다\n",
    " - 함수 f(d)를 그래프로 그려볼까?"
   ]
  },
  {
   "cell_type": "code",
   "execution_count": 117,
   "id": "798b89c4-69e3-4142-8817-bcbed74021f3",
   "metadata": {},
   "outputs": [],
   "source": [
    "d <- c(1, 2, 3)"
   ]
  },
  {
   "cell_type": "code",
   "execution_count": 118,
   "id": "279f627d-d178-4c5b-b141-ebbedf1d3732",
   "metadata": {},
   "outputs": [
    {
     "data": {
      "text/html": [
       "<style>\n",
       ".list-inline {list-style: none; margin:0; padding: 0}\n",
       ".list-inline>li {display: inline-block}\n",
       ".list-inline>li:not(:last-child)::after {content: \"\\00b7\"; padding: 0 .5ex}\n",
       "</style>\n",
       "<ol class=list-inline><li>1</li><li>2</li><li>3</li></ol>\n"
      ],
      "text/latex": [
       "\\begin{enumerate*}\n",
       "\\item 1\n",
       "\\item 2\n",
       "\\item 3\n",
       "\\end{enumerate*}\n"
      ],
      "text/markdown": [
       "1. 1\n",
       "2. 2\n",
       "3. 3\n",
       "\n",
       "\n"
      ],
      "text/plain": [
       "[1] 1 2 3"
      ]
     },
     "metadata": {},
     "output_type": "display_data"
    }
   ],
   "source": [
    "d"
   ]
  },
  {
   "cell_type": "code",
   "execution_count": 119,
   "id": "1fe17cbb-d76c-43d1-b31b-f0bfbd40519d",
   "metadata": {},
   "outputs": [],
   "source": [
    "d <- seq(from=0, to=10, by=0.01)"
   ]
  },
  {
   "cell_type": "code",
   "execution_count": 120,
   "id": "8f09d042-e6bf-4487-8a4a-15abb6422cef",
   "metadata": {},
   "outputs": [],
   "source": [
    "y=I_0*2^(-0.25*d)/I_d"
   ]
  },
  {
   "cell_type": "code",
   "execution_count": 92,
   "id": "1e0d0ab5-6556-438d-88da-5ab613f0046d",
   "metadata": {},
   "outputs": [
    {
     "data": {
      "image/png": "[encoded data removed]",
      "text/plain": [
       "plot without title"
      ]
     },
     "metadata": {
      "image/png": {
       "height": 420,
       "width": 420
      }
     },
     "output_type": "display_data"
    }
   ],
   "source": [
    "plot(d,y)\n",
    "abline(h=1, col=2, lwd=5, lty = 1)\n",
    "#col = 색, lwd = 굵기, lty = 점선\n",
    "#h = 수평선, v = 수직선"
   ]
  },
  {
   "cell_type": "markdown",
   "id": "cb131992-71a2-4595-9ed5-ec144048f345",
   "metadata": {},
   "source": [
    "(풀이5)"
   ]
  },
  {
   "cell_type": "code",
   "execution_count": 99,
   "id": "f8ddf474-ebe8-4080-8c0a-eada17bf4b04",
   "metadata": {},
   "outputs": [
    {
     "data": {
      "text/html": [
       "<style>\n",
       ".list-inline {list-style: none; margin:0; padding: 0}\n",
       ".list-inline>li {display: inline-block}\n",
       ".list-inline>li:not(:last-child)::after {content: \"\\00b7\"; padding: 0 .5ex}\n",
       "</style>\n",
       "<ol class=list-inline><li>FALSE</li><li>FALSE</li><li>TRUE</li><li>FALSE</li><li>FALSE</li></ol>\n"
      ],
      "text/latex": [
       "\\begin{enumerate*}\n",
       "\\item FALSE\n",
       "\\item FALSE\n",
       "\\item TRUE\n",
       "\\item FALSE\n",
       "\\item FALSE\n",
       "\\end{enumerate*}\n"
      ],
      "text/markdown": [
       "1. FALSE\n",
       "2. FALSE\n",
       "3. TRUE\n",
       "4. FALSE\n",
       "5. FALSE\n",
       "\n",
       "\n"
      ],
      "text/plain": [
       "[1] FALSE FALSE  TRUE FALSE FALSE"
      ]
     },
     "metadata": {},
     "output_type": "display_data"
    }
   ],
   "source": [
    "x_ <- c(1,2,3,4,5)\n",
    "x_ == 3"
   ]
  },
  {
   "cell_type": "code",
   "execution_count": 100,
   "id": "d368474f-3ae2-492e-ac58-97a198966490",
   "metadata": {},
   "outputs": [
    {
     "data": {
      "text/html": [
       "<style>\n",
       ".list-inline {list-style: none; margin:0; padding: 0}\n",
       ".list-inline>li {display: inline-block}\n",
       ".list-inline>li:not(:last-child)::after {content: \"\\00b7\"; padding: 0 .5ex}\n",
       "</style>\n",
       "<ol class=list-inline><li>TRUE</li><li>FALSE</li><li>FALSE</li><li>FALSE</li><li>FALSE</li></ol>\n"
      ],
      "text/latex": [
       "\\begin{enumerate*}\n",
       "\\item TRUE\n",
       "\\item FALSE\n",
       "\\item FALSE\n",
       "\\item FALSE\n",
       "\\item FALSE\n",
       "\\end{enumerate*}\n"
      ],
      "text/markdown": [
       "1. TRUE\n",
       "2. FALSE\n",
       "3. FALSE\n",
       "4. FALSE\n",
       "5. FALSE\n",
       "\n",
       "\n"
      ],
      "text/plain": [
       "[1]  TRUE FALSE FALSE FALSE FALSE"
      ]
     },
     "metadata": {},
     "output_type": "display_data"
    }
   ],
   "source": [
    "x_ == 1"
   ]
  },
  {
   "cell_type": "code",
   "execution_count": 101,
   "id": "4925f38f-2a19-406e-b84c-e1e17ddf2def",
   "metadata": {},
   "outputs": [
    {
     "data": {
      "text/html": [
       "8"
      ],
      "text/latex": [
       "8"
      ],
      "text/markdown": [
       "8"
      ],
      "text/plain": [
       "[1] 8"
      ]
     },
     "metadata": {},
     "output_type": "display_data"
    }
   ],
   "source": [
    "d[y==1]"
   ]
  },
  {
   "cell_type": "markdown",
   "id": "68fd3fd9-5fcb-4dc4-ba34-46461682105a",
   "metadata": {},
   "source": [
    "### 과제"
   ]
  },
  {
   "cell_type": "code",
   "execution_count": 114,
   "id": "43c0c6f4-34bc-4b32-a908-054eed9041a7",
   "metadata": {},
   "outputs": [
    {
     "data": {
      "image/png": "[encoded data removed]",
      "text/plain": [
       "plot without title"
      ]
     },
     "metadata": {
      "image/png": {
       "height": 420,
       "width": 420
      }
     },
     "output_type": "display_data"
    }
   ],
   "source": [
    "plot(d,y)\n",
    "abline(h=2, col=2, lwd = 5)"
   ]
  },
  {
   "cell_type": "code",
   "execution_count": null,
   "id": "694529eb-e7ce-4f68-9ab0-3cb3c7db4c37",
   "metadata": {},
   "outputs": [],
   "source": []
  },
  {
   "cell_type": "code",
   "execution_count": null,
   "id": "a8133b42-98a2-48a8-bcab-12c0c45f1bfa",
   "metadata": {},
   "outputs": [],
   "source": []
  },
  {
   "cell_type": "code",
   "execution_count": null,
   "id": "9abf5b53-8ef7-49a6-9d55-0fd6f2475f80",
   "metadata": {},
   "outputs": [],
   "source": []
  }
 ],
 "metadata": {
  "kernelspec": {
   "display_name": "R",
   "language": "R",
   "name": "ir"
  },
  "language_info": {
   "codemirror_mode": "r",
   "file_extension": ".r",
   "mimetype": "text/x-r-source",
   "name": "R",
   "pygments_lexer": "r",
   "version": "4.1.1"
  }
 },
 "nbformat": 4,
 "nbformat_minor": 5
}
