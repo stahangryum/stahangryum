{
 "cells": [
  {
   "cell_type": "code",
   "execution_count": 1,
   "id": "c0563696-bf74-4bbb-a95c-868800184121",
   "metadata": {},
   "outputs": [],
   "source": [
    "#hide\n",
    "options(jupyter.plot_scale = 3)\n",
    "options(jupyter.display_mimetypes = c(\"text/html\"))\n",
    "options(jupyter.rich_display=FALSE)\n",
    "options(repr.plot.width=6, repr.plot.height=6, repr.plot.res=300)\n",
    "options(max.print=1000)"
   ]
  },
  {
   "cell_type": "markdown",
   "id": "12f114c3-dd1a-4c9d-b391-801aeeb8c6f4",
   "metadata": {},
   "source": [
    "# \"R : 연산자\"\n",
    "> \"전북대학교 R입문 4주차 필기\"\n",
    "\n",
    "- toc: true\n",
    "- branch: master\n",
    "- badges: true\n",
    "- comments: true\n",
    "- author: Kim Jeewoo\n",
    "- categories: [Introduction to R]\n",
    "- image: images/if_logo.png"
   ]
  },
  {
   "cell_type": "markdown",
   "id": "3fb83714-2be1-4aed-970f-f99c328133b7",
   "metadata": {
    "tags": []
   },
   "source": [
    "# 연산자"
   ]
  },
  {
   "cell_type": "markdown",
   "id": "1815e98f-812a-4353-bdba-34611ffc9614",
   "metadata": {},
   "source": [
    "## 산술연산자"
   ]
  },
  {
   "cell_type": "markdown",
   "id": "6dd788c6-200a-4a60-a75f-fbb4a80d4c14",
   "metadata": {},
   "source": [
    "- 사칙연산 : +, -, *, /"
   ]
  },
  {
   "cell_type": "markdown",
   "id": "43c93d86-dfad-4f37-be5c-8df72b126853",
   "metadata": {},
   "source": [
    "- 나머지연산 : %%"
   ]
  },
  {
   "cell_type": "markdown",
   "id": "e9586ba2-1195-49dd-9f57-3c55e603d841",
   "metadata": {},
   "source": [
    "- 몫연산 : %/%"
   ]
  },
  {
   "cell_type": "markdown",
   "id": "64749cfd-1cb4-404b-b415-dc5c825394f2",
   "metadata": {},
   "source": [
    "- 제곱 : a^b"
   ]
  },
  {
   "cell_type": "markdown",
   "id": "5c66642a-2f7f-4572-bc98-157a4aa703ce",
   "metadata": {},
   "source": [
    "### Example"
   ]
  },
  {
   "cell_type": "code",
   "execution_count": 3,
   "id": "a4a25d69-7cdb-4462-944b-8b4a0db2dd9e",
   "metadata": {},
   "outputs": [
    {
     "data": {
      "text/plain": [
       "[1] 5"
      ]
     },
     "metadata": {},
     "output_type": "display_data"
    }
   ],
   "source": [
    "2+3 #덧셈"
   ]
  },
  {
   "cell_type": "code",
   "execution_count": 5,
   "id": "5edf95bf-2e50-4a9e-a8ed-7d8f7d8a8455",
   "metadata": {},
   "outputs": [
    {
     "data": {
      "text/plain": [
       "[1] 12"
      ]
     },
     "metadata": {},
     "output_type": "display_data"
    }
   ],
   "source": [
    "6-2 #뺄셈"
   ]
  },
  {
   "cell_type": "code",
   "execution_count": 13,
   "id": "a4feb2a4-42f6-4816-acfc-8764b989ec6c",
   "metadata": {},
   "outputs": [
    {
     "data": {
      "text/plain": [
       "[1] 32"
      ]
     },
     "metadata": {},
     "output_type": "display_data"
    }
   ],
   "source": [
    "4*8 #곱셈"
   ]
  },
  {
   "cell_type": "code",
   "execution_count": 14,
   "id": "4f7cc50a-3089-4564-b612-75f8795f03f3",
   "metadata": {},
   "outputs": [
    {
     "data": {
      "text/plain": [
       "[1] 3"
      ]
     },
     "metadata": {},
     "output_type": "display_data"
    }
   ],
   "source": [
    "9/3 #나눗셈"
   ]
  },
  {
   "cell_type": "code",
   "execution_count": 15,
   "id": "b8b2b33c-540f-4924-b973-8e269cac0a2f",
   "metadata": {},
   "outputs": [
    {
     "data": {
      "text/plain": [
       "[1] 3"
      ]
     },
     "metadata": {},
     "output_type": "display_data"
    }
   ],
   "source": [
    "31 %% 7 #나머지"
   ]
  },
  {
   "cell_type": "code",
   "execution_count": 17,
   "id": "6461d4b2-0081-4902-aa16-95f16c62052b",
   "metadata": {},
   "outputs": [
    {
     "data": {
      "text/plain": [
       "[1] 4"
      ]
     },
     "metadata": {},
     "output_type": "display_data"
    }
   ],
   "source": [
    "31 %/% 7 #몫"
   ]
  },
  {
   "cell_type": "code",
   "execution_count": 18,
   "id": "45dcba27-d8f8-4260-bdae-18a87f132b12",
   "metadata": {},
   "outputs": [
    {
     "data": {
      "text/plain": [
       "[1] 1024"
      ]
     },
     "metadata": {},
     "output_type": "display_data"
    }
   ],
   "source": [
    "2^10 #제곱"
   ]
  },
  {
   "cell_type": "markdown",
   "id": "77b6fd53-e95b-46ea-9a4a-5f236501aa91",
   "metadata": {},
   "source": [
    "## 논리연산자"
   ]
  },
  {
   "cell_type": "markdown",
   "id": "07a678ba-924e-4c52-bf9e-2e9fb3d9d385",
   "metadata": {},
   "source": [
    "- TRUE = 1"
   ]
  },
  {
   "cell_type": "markdown",
   "id": "5409cc23-073f-4d0a-a62b-d00c8aaa78d1",
   "metadata": {},
   "source": [
    "- FALSE = 0"
   ]
  },
  {
   "cell_type": "markdown",
   "id": "46b1028f-e741-48cb-b95f-49f8e8e28dab",
   "metadata": {},
   "source": [
    "- !TRUE = FALSE = 0"
   ]
  },
  {
   "cell_type": "markdown",
   "id": "4ce7f4dd-f0a3-4f92-82de-3a813f9dc6c9",
   "metadata": {},
   "source": [
    "- !FALSE = TRUE = 1"
   ]
  },
  {
   "cell_type": "code",
   "execution_count": 24,
   "id": "b7dc3add-dfff-4c57-962c-eb67918b7f5a",
   "metadata": {},
   "outputs": [
    {
     "data": {
      "text/plain": [
       "[1]  TRUE  TRUE FALSE FALSE  TRUE"
      ]
     },
     "metadata": {},
     "output_type": "display_data"
    }
   ],
   "source": [
    "x = c(T,T,F,F,T)\n",
    "x"
   ]
  },
  {
   "cell_type": "code",
   "execution_count": 25,
   "id": "8ad8ff9f-394e-40f9-b3f7-00170a062f89",
   "metadata": {},
   "outputs": [
    {
     "data": {
      "text/plain": [
       "[1]  TRUE FALSE  TRUE FALSE  TRUE"
      ]
     },
     "metadata": {},
     "output_type": "display_data"
    }
   ],
   "source": [
    "y = c(TRUE, FALSE, TRUE, FALSE, TRUE)\n",
    "y"
   ]
  },
  {
   "cell_type": "code",
   "execution_count": 31,
   "id": "9dab853c-5709-408c-a1ea-deb936dfe8ed",
   "metadata": {},
   "outputs": [
    {
     "name": "stdout",
     "output_type": "stream",
     "text": [
      "[1]  TRUE  TRUE FALSE FALSE  TRUE\n",
      "[1] FALSE FALSE  TRUE  TRUE FALSE\n"
     ]
    }
   ],
   "source": [
    "print(x)\n",
    "print(!x)"
   ]
  },
  {
   "cell_type": "code",
   "execution_count": 32,
   "id": "3b289adb-f518-4d24-b56c-192d12178131",
   "metadata": {},
   "outputs": [
    {
     "name": "stdout",
     "output_type": "stream",
     "text": [
      "[1]  TRUE FALSE  TRUE FALSE  TRUE\n",
      "[1] FALSE  TRUE FALSE  TRUE FALSE\n"
     ]
    }
   ],
   "source": [
    "print(y)\n",
    "print(!y)"
   ]
  },
  {
   "cell_type": "code",
   "execution_count": null,
   "id": "4513b0fc-525f-4bde-847c-8fe648761518",
   "metadata": {},
   "outputs": [],
   "source": []
  }
 ],
 "metadata": {
  "kernelspec": {
   "display_name": "R",
   "language": "R",
   "name": "ir"
  },
  "language_info": {
   "codemirror_mode": "r",
   "file_extension": ".r",
   "mimetype": "text/x-r-source",
   "name": "R",
   "pygments_lexer": "r",
   "version": "4.0.5"
  }
 },
 "nbformat": 4,
 "nbformat_minor": 5
}
