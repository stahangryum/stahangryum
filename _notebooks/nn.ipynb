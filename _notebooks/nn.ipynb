{
 "cells": [
  {
   "cell_type": "code",
   "execution_count": null,
   "id": "5cc85a3b-df79-4376-bfac-3ac67c6adee2",
   "metadata": {},
   "outputs": [],
   "source": []
  },
  {
   "cell_type": "code",
   "execution_count": 9,
   "id": "9cc09e2f-7a82-4128-8848-573b53dc5f6c",
   "metadata": {},
   "outputs": [
    {
     "data": {
      "text/html": [
       "34.1008403361345"
      ],
      "text/latex": [
       "34.1008403361345"
      ],
      "text/markdown": [
       "34.1008403361345"
      ],
      "text/plain": [
       "[1] 34.10084"
      ]
     },
     "metadata": {},
     "output_type": "display_data"
    }
   ],
   "source": [
    "rps = c(66, 39, 14)\n",
    "rr = 119 * 1/3\n",
    "a = c()\n",
    "\n",
    "for (i in 1:3){a[i] = (q[i] - rr)**2 /rr}\n",
    "\n",
    "sum(a)\n"
   ]
  },
  {
   "cell_type": "code",
   "execution_count": 7,
   "id": "913e5dc6-3490-45c5-92f5-77f82a7aabf1",
   "metadata": {},
   "outputs": [
    {
     "data": {
      "text/html": [
       "3"
      ],
      "text/latex": [
       "3"
      ],
      "text/markdown": [
       "3"
      ],
      "text/plain": [
       "[1] 3"
      ]
     },
     "metadata": {},
     "output_type": "display_data"
    }
   ],
   "source": [
    "c(3)"
   ]
  },
  {
   "cell_type": "code",
   "execution_count": 13,
   "id": "95087e74-5df6-4ac8-8b63-22c83036f8b5",
   "metadata": {},
   "outputs": [
    {
     "data": {
      "text/html": [
       "34.1008403361345"
      ],
      "text/latex": [
       "34.1008403361345"
      ],
      "text/markdown": [
       "34.1008403361345"
      ],
      "text/plain": [
       "[1] 34.10084"
      ]
     },
     "metadata": {},
     "output_type": "display_data"
    }
   ],
   "source": [
    "sum((q - rr)^2 /rr)"
   ]
  },
  {
   "cell_type": "code",
   "execution_count": 20,
   "id": "632047ad-bd4b-4ff9-896b-9a31d6b931f7",
   "metadata": {},
   "outputs": [
    {
     "data": {
      "text/html": [
       "6.08123694337411"
      ],
      "text/latex": [
       "6.08123694337411"
      ],
      "text/markdown": [
       "6.08123694337411"
      ],
      "text/plain": [
       "[1] 6.081237"
      ]
     },
     "metadata": {},
     "output_type": "display_data"
    }
   ],
   "source": [
    "a = c(18, 24, 103, 57, 148, 659)\n",
    "b = c(10.8, 24.7, 109.5, 64.2, 147.3, 652.5)\n",
    "h = c()\n",
    "\n",
    "for (i in 1:6){\n",
    "    h[i] = (a[i]-b[i])**2 /b[i]\n",
    "    }\n",
    "sum(h)"
   ]
  },
  {
   "cell_type": "code",
   "execution_count": 29,
   "id": "e805acd6-8927-4362-b0fc-92fce303e4b4",
   "metadata": {},
   "outputs": [
    {
     "data": {
      "text/html": [
       "21.5569170468988"
      ],
      "text/latex": [
       "21.5569170468988"
      ],
      "text/markdown": [
       "21.5569170468988"
      ],
      "text/plain": [
       "[1] 21.55692"
      ]
     },
     "metadata": {},
     "output_type": "display_data"
    }
   ],
   "source": [
    "a = c(117, 130, 60, 30, 50, 91)\n",
    "b = c(117.3, 129.7, 42.7, 47.3, 67, 74)\n",
    "h = c()\n",
    "\n",
    "for (i in 1:6){\n",
    "    h[i] = (a[i]-b[i])**2 /b[i]\n",
    "    }\n",
    "sum(h)"
   ]
  },
  {
   "cell_type": "code",
   "execution_count": 28,
   "id": "9a729e1a-ecba-48e4-b32d-cc394e1d5fd3",
   "metadata": {},
   "outputs": [
    {
     "data": {
      "text/html": [
       "74.0397489539749"
      ],
      "text/latex": [
       "74.0397489539749"
      ],
      "text/markdown": [
       "74.0397489539749"
      ],
      "text/plain": [
       "[1] 74.03975"
      ]
     },
     "metadata": {},
     "output_type": "display_data"
    }
   ],
   "source": [
    "141 * 251/478"
   ]
  },
  {
   "cell_type": "code",
   "execution_count": null,
   "id": "63ef5fd8-c678-4b16-898c-9a86df86d6e6",
   "metadata": {},
   "outputs": [],
   "source": []
  }
 ],
 "metadata": {
  "kernelspec": {
   "display_name": "R",
   "language": "R",
   "name": "ir"
  },
  "language_info": {
   "codemirror_mode": "r",
   "file_extension": ".r",
   "mimetype": "text/x-r-source",
   "name": "R",
   "pygments_lexer": "r",
   "version": "4.0.5"
  }
 },
 "nbformat": 4,
 "nbformat_minor": 5
}
