{
 "cells": [
  {
   "cell_type": "code",
   "execution_count": 1,
   "id": "3a30b457-960a-440f-89ea-0ca08b6ceb91",
   "metadata": {},
   "outputs": [],
   "source": [
    "#hide\n",
    "options(jupyter.plot_scale = 3)\n",
    "options(jupyter.display_mimetypes = c(\"text/html\"))\n",
    "# options(jupyter.rich_display=FALSE)\n",
    "options(repr.plot.width=6, repr.plot.height=6, repr.plot.res=300)\n",
    "options(max.print=1000)"
   ]
  },
  {
   "cell_type": "markdown",
   "id": "2bab56f5-aa2d-4531-84fb-ab4f50b4d574",
   "metadata": {},
   "source": [
    "# \"R : dataframe, tibble\"\n",
    "> \"전북대학교 R입문 12주차 필기\"\n",
    "\n",
    "- toc: true\n",
    "- branch: master\n",
    "- badges: true\n",
    "- comments: true\n",
    "- author: Kim Jeewoo\n",
    "- categories: [Introduction to R]\n",
    "- image: images/r_logo.PNG"
   ]
  },
  {
   "cell_type": "code",
   "execution_count": 26,
   "id": "9fa802b1-f9f2-4415-a5c7-ba195a10b340",
   "metadata": {},
   "outputs": [
    {
     "name": "stderr",
     "output_type": "stream",
     "text": [
      "-- \u001b[1mAttaching packages\u001b[22m ------------------------------------------------------------------------------- tidyverse 1.3.1 --\n",
      "\n",
      "\u001b[32mv\u001b[39m \u001b[34mggplot2\u001b[39m 3.3.5     \u001b[32mv\u001b[39m \u001b[34mpurrr  \u001b[39m 0.3.4\n",
      "\u001b[32mv\u001b[39m \u001b[34mtibble \u001b[39m 3.1.5     \u001b[32mv\u001b[39m \u001b[34mdplyr  \u001b[39m 1.0.7\n",
      "\u001b[32mv\u001b[39m \u001b[34mtidyr  \u001b[39m 1.1.4     \u001b[32mv\u001b[39m \u001b[34mstringr\u001b[39m 1.4.0\n",
      "\u001b[32mv\u001b[39m \u001b[34mreadr  \u001b[39m 2.0.2     \u001b[32mv\u001b[39m \u001b[34mforcats\u001b[39m 0.5.1\n",
      "\n",
      "-- \u001b[1mConflicts\u001b[22m ---------------------------------------------------------------------------------- tidyverse_conflicts() --\n",
      "\u001b[31mx\u001b[39m \u001b[34mdplyr\u001b[39m::\u001b[32mfilter()\u001b[39m masks \u001b[34mstats\u001b[39m::filter()\n",
      "\u001b[31mx\u001b[39m \u001b[34mdplyr\u001b[39m::\u001b[32mlag()\u001b[39m    masks \u001b[34mstats\u001b[39m::lag()\n",
      "\n"
     ]
    }
   ],
   "source": [
    "library(tidyverse)"
   ]
  },
  {
   "cell_type": "markdown",
   "id": "63274a1c-e4b6-42be-99c9-ab51b0093159",
   "metadata": {},
   "source": [
    "# tibble"
   ]
  },
  {
   "cell_type": "code",
   "execution_count": 3,
   "id": "565cbdbf-7406-4d1f-839e-4a7b539a9f95",
   "metadata": {},
   "outputs": [
    {
     "name": "stderr",
     "output_type": "stream",
     "text": [
      "Warning message:\n",
      "\"The `x` argument of `as_tibble.matrix()` must have unique column names if `.name_repair` is omitted as of tibble 2.0.0.\n",
      "Using compatibility `.name_repair`.\n",
      "\u001b[90mThis warning is displayed once every 8 hours.\u001b[39m\n",
      "\u001b[90mCall `lifecycle::last_lifecycle_warnings()` to see where this warning was generated.\u001b[39m\"\n"
     ]
    },
    {
     "data": {
      "text/html": [
       "<table class=\"dataframe\">\n",
       "<caption>A tibble: 10 × 5</caption>\n",
       "<thead>\n",
       "\t<tr><th scope=col>V1</th><th scope=col>V2</th><th scope=col>V3</th><th scope=col>V4</th><th scope=col>V5</th></tr>\n",
       "\t<tr><th scope=col>&lt;dbl&gt;</th><th scope=col>&lt;dbl&gt;</th><th scope=col>&lt;dbl&gt;</th><th scope=col>&lt;dbl&gt;</th><th scope=col>&lt;dbl&gt;</th></tr>\n",
       "</thead>\n",
       "<tbody>\n",
       "\t<tr><td> 1.36007190</td><td>-0.73793104</td><td>-0.81053576</td><td>-0.22171163</td><td>-0.4435196</td></tr>\n",
       "\t<tr><td> 0.53584545</td><td> 0.09181352</td><td> 0.58065814</td><td> 1.69826333</td><td>-0.3276056</td></tr>\n",
       "\t<tr><td> 0.90624156</td><td> 2.85523537</td><td>-1.06706911</td><td>-0.03372118</td><td> 1.6288003</td></tr>\n",
       "\t<tr><td> 1.70929906</td><td> 1.13885998</td><td>-0.69105256</td><td> 0.90800474</td><td>-1.5250155</td></tr>\n",
       "\t<tr><td> 0.19758044</td><td> 0.25588517</td><td>-0.09596958</td><td> 0.19389942</td><td> 0.6184074</td></tr>\n",
       "\t<tr><td>-0.91999842</td><td>-0.55179290</td><td> 1.10549004</td><td>-1.82995542</td><td>-1.3931623</td></tr>\n",
       "\t<tr><td>-1.60525138</td><td>-0.69143779</td><td>-0.51414387</td><td> 1.08352406</td><td>-0.9960136</td></tr>\n",
       "\t<tr><td> 0.13403321</td><td> 1.09364788</td><td>-2.41510714</td><td>-1.25122594</td><td> 1.6910696</td></tr>\n",
       "\t<tr><td>-0.08960615</td><td> 1.32145228</td><td>-0.42417048</td><td>-0.86940762</td><td>-1.6689878</td></tr>\n",
       "\t<tr><td> 1.80364011</td><td>-2.31312123</td><td> 0.11079088</td><td> 0.25294523</td><td> 0.8213772</td></tr>\n",
       "</tbody>\n",
       "</table>\n"
      ],
      "text/plain": [
       "   V1          V2          V3          V4          V5        \n",
       "1   1.36007190 -0.73793104 -0.81053576 -0.22171163 -0.4435196\n",
       "2   0.53584545  0.09181352  0.58065814  1.69826333 -0.3276056\n",
       "3   0.90624156  2.85523537 -1.06706911 -0.03372118  1.6288003\n",
       "4   1.70929906  1.13885998 -0.69105256  0.90800474 -1.5250155\n",
       "5   0.19758044  0.25588517 -0.09596958  0.19389942  0.6184074\n",
       "6  -0.91999842 -0.55179290  1.10549004 -1.82995542 -1.3931623\n",
       "7  -1.60525138 -0.69143779 -0.51414387  1.08352406 -0.9960136\n",
       "8   0.13403321  1.09364788 -2.41510714 -1.25122594  1.6910696\n",
       "9  -0.08960615  1.32145228 -0.42417048 -0.86940762 -1.6689878\n",
       "10  1.80364011 -2.31312123  0.11079088  0.25294523  0.8213772"
      ]
     },
     "metadata": {},
     "output_type": "display_data"
    }
   ],
   "source": [
    "A = rnorm(10*5)\n",
    "dim(A) = c(10,5)\n",
    "A = as_tibble(A)\n",
    "A"
   ]
  },
  {
   "cell_type": "code",
   "execution_count": 4,
   "id": "39440e0e-5112-4d29-a166-6ccc7aad419f",
   "metadata": {},
   "outputs": [
    {
     "data": {
      "text/html": [
       "<style>\n",
       ".list-inline {list-style: none; margin:0; padding: 0}\n",
       ".list-inline>li {display: inline-block}\n",
       ".list-inline>li:not(:last-child)::after {content: \"\\00b7\"; padding: 0 .5ex}\n",
       "</style>\n",
       "<ol class=list-inline><li>'V1'</li><li>'V2'</li><li>'V3'</li><li>'V4'</li><li>'V5'</li></ol>\n"
      ],
      "text/plain": [
       "[1] \"V1\" \"V2\" \"V3\" \"V4\" \"V5\""
      ]
     },
     "metadata": {},
     "output_type": "display_data"
    }
   ],
   "source": [
    "colnames(A)"
   ]
  },
  {
   "cell_type": "code",
   "execution_count": 5,
   "id": "3e2df41b-59aa-4df2-b638-a423a2a6436b",
   "metadata": {},
   "outputs": [
    {
     "data": {
      "text/html": [
       "<table class=\"dataframe\">\n",
       "<caption>A tibble: 10 × 5</caption>\n",
       "<thead>\n",
       "\t<tr><th scope=col>X1</th><th scope=col>X2</th><th scope=col>X3</th><th scope=col>X4</th><th scope=col>X5</th></tr>\n",
       "\t<tr><th scope=col>&lt;dbl&gt;</th><th scope=col>&lt;dbl&gt;</th><th scope=col>&lt;dbl&gt;</th><th scope=col>&lt;dbl&gt;</th><th scope=col>&lt;dbl&gt;</th></tr>\n",
       "</thead>\n",
       "<tbody>\n",
       "\t<tr><td> 1.36007190</td><td>-0.73793104</td><td>-0.81053576</td><td>-0.22171163</td><td>-0.4435196</td></tr>\n",
       "\t<tr><td> 0.53584545</td><td> 0.09181352</td><td> 0.58065814</td><td> 1.69826333</td><td>-0.3276056</td></tr>\n",
       "\t<tr><td> 0.90624156</td><td> 2.85523537</td><td>-1.06706911</td><td>-0.03372118</td><td> 1.6288003</td></tr>\n",
       "\t<tr><td> 1.70929906</td><td> 1.13885998</td><td>-0.69105256</td><td> 0.90800474</td><td>-1.5250155</td></tr>\n",
       "\t<tr><td> 0.19758044</td><td> 0.25588517</td><td>-0.09596958</td><td> 0.19389942</td><td> 0.6184074</td></tr>\n",
       "\t<tr><td>-0.91999842</td><td>-0.55179290</td><td> 1.10549004</td><td>-1.82995542</td><td>-1.3931623</td></tr>\n",
       "\t<tr><td>-1.60525138</td><td>-0.69143779</td><td>-0.51414387</td><td> 1.08352406</td><td>-0.9960136</td></tr>\n",
       "\t<tr><td> 0.13403321</td><td> 1.09364788</td><td>-2.41510714</td><td>-1.25122594</td><td> 1.6910696</td></tr>\n",
       "\t<tr><td>-0.08960615</td><td> 1.32145228</td><td>-0.42417048</td><td>-0.86940762</td><td>-1.6689878</td></tr>\n",
       "\t<tr><td> 1.80364011</td><td>-2.31312123</td><td> 0.11079088</td><td> 0.25294523</td><td> 0.8213772</td></tr>\n",
       "</tbody>\n",
       "</table>\n"
      ],
      "text/plain": [
       "   X1          X2          X3          X4          X5        \n",
       "1   1.36007190 -0.73793104 -0.81053576 -0.22171163 -0.4435196\n",
       "2   0.53584545  0.09181352  0.58065814  1.69826333 -0.3276056\n",
       "3   0.90624156  2.85523537 -1.06706911 -0.03372118  1.6288003\n",
       "4   1.70929906  1.13885998 -0.69105256  0.90800474 -1.5250155\n",
       "5   0.19758044  0.25588517 -0.09596958  0.19389942  0.6184074\n",
       "6  -0.91999842 -0.55179290  1.10549004 -1.82995542 -1.3931623\n",
       "7  -1.60525138 -0.69143779 -0.51414387  1.08352406 -0.9960136\n",
       "8   0.13403321  1.09364788 -2.41510714 -1.25122594  1.6910696\n",
       "9  -0.08960615  1.32145228 -0.42417048 -0.86940762 -1.6689878\n",
       "10  1.80364011 -2.31312123  0.11079088  0.25294523  0.8213772"
      ]
     },
     "metadata": {},
     "output_type": "display_data"
    }
   ],
   "source": [
    "colnames(A) = c(\"X1\", \"X2\", \"X3\", \"X4\", \"X5\")\n",
    "A"
   ]
  },
  {
   "cell_type": "markdown",
   "id": "366b0ca9-5ecb-401d-8858-8ee8a35a81a6",
   "metadata": {},
   "source": [
    "## select"
   ]
  },
  {
   "cell_type": "markdown",
   "id": "8bb43c24-4337-4ced-a26a-015a13df1713",
   "metadata": {},
   "source": [
    "- 특정 열만 return한다."
   ]
  },
  {
   "cell_type": "code",
   "execution_count": 6,
   "id": "732c79cf-4b42-4ccd-b67d-930bee1339b1",
   "metadata": {},
   "outputs": [
    {
     "data": {
      "text/html": [
       "<table class=\"dataframe\">\n",
       "<caption>A tibble: 10 × 4</caption>\n",
       "<thead>\n",
       "\t<tr><th scope=col>X1</th><th scope=col>X2</th><th scope=col>X3</th><th scope=col>X5</th></tr>\n",
       "\t<tr><th scope=col>&lt;dbl&gt;</th><th scope=col>&lt;dbl&gt;</th><th scope=col>&lt;dbl&gt;</th><th scope=col>&lt;dbl&gt;</th></tr>\n",
       "</thead>\n",
       "<tbody>\n",
       "\t<tr><td> 1.36007190</td><td>-0.73793104</td><td>-0.81053576</td><td>-0.4435196</td></tr>\n",
       "\t<tr><td> 0.53584545</td><td> 0.09181352</td><td> 0.58065814</td><td>-0.3276056</td></tr>\n",
       "\t<tr><td> 0.90624156</td><td> 2.85523537</td><td>-1.06706911</td><td> 1.6288003</td></tr>\n",
       "\t<tr><td> 1.70929906</td><td> 1.13885998</td><td>-0.69105256</td><td>-1.5250155</td></tr>\n",
       "\t<tr><td> 0.19758044</td><td> 0.25588517</td><td>-0.09596958</td><td> 0.6184074</td></tr>\n",
       "\t<tr><td>-0.91999842</td><td>-0.55179290</td><td> 1.10549004</td><td>-1.3931623</td></tr>\n",
       "\t<tr><td>-1.60525138</td><td>-0.69143779</td><td>-0.51414387</td><td>-0.9960136</td></tr>\n",
       "\t<tr><td> 0.13403321</td><td> 1.09364788</td><td>-2.41510714</td><td> 1.6910696</td></tr>\n",
       "\t<tr><td>-0.08960615</td><td> 1.32145228</td><td>-0.42417048</td><td>-1.6689878</td></tr>\n",
       "\t<tr><td> 1.80364011</td><td>-2.31312123</td><td> 0.11079088</td><td> 0.8213772</td></tr>\n",
       "</tbody>\n",
       "</table>\n"
      ],
      "text/plain": [
       "   X1          X2          X3          X5        \n",
       "1   1.36007190 -0.73793104 -0.81053576 -0.4435196\n",
       "2   0.53584545  0.09181352  0.58065814 -0.3276056\n",
       "3   0.90624156  2.85523537 -1.06706911  1.6288003\n",
       "4   1.70929906  1.13885998 -0.69105256 -1.5250155\n",
       "5   0.19758044  0.25588517 -0.09596958  0.6184074\n",
       "6  -0.91999842 -0.55179290  1.10549004 -1.3931623\n",
       "7  -1.60525138 -0.69143779 -0.51414387 -0.9960136\n",
       "8   0.13403321  1.09364788 -2.41510714  1.6910696\n",
       "9  -0.08960615  1.32145228 -0.42417048 -1.6689878\n",
       "10  1.80364011 -2.31312123  0.11079088  0.8213772"
      ]
     },
     "metadata": {},
     "output_type": "display_data"
    }
   ],
   "source": [
    "A %>% select(1:3,5)"
   ]
  },
  {
   "cell_type": "code",
   "execution_count": 7,
   "id": "7f036090-8370-4aeb-920a-988d388f1e1b",
   "metadata": {},
   "outputs": [
    {
     "data": {
      "text/html": [
       "<table class=\"dataframe\">\n",
       "<caption>A tibble: 10 × 4</caption>\n",
       "<thead>\n",
       "\t<tr><th scope=col>X1</th><th scope=col>X2</th><th scope=col>X3</th><th scope=col>X5</th></tr>\n",
       "\t<tr><th scope=col>&lt;dbl&gt;</th><th scope=col>&lt;dbl&gt;</th><th scope=col>&lt;dbl&gt;</th><th scope=col>&lt;dbl&gt;</th></tr>\n",
       "</thead>\n",
       "<tbody>\n",
       "\t<tr><td> 1.36007190</td><td>-0.73793104</td><td>-0.81053576</td><td>-0.4435196</td></tr>\n",
       "\t<tr><td> 0.53584545</td><td> 0.09181352</td><td> 0.58065814</td><td>-0.3276056</td></tr>\n",
       "\t<tr><td> 0.90624156</td><td> 2.85523537</td><td>-1.06706911</td><td> 1.6288003</td></tr>\n",
       "\t<tr><td> 1.70929906</td><td> 1.13885998</td><td>-0.69105256</td><td>-1.5250155</td></tr>\n",
       "\t<tr><td> 0.19758044</td><td> 0.25588517</td><td>-0.09596958</td><td> 0.6184074</td></tr>\n",
       "\t<tr><td>-0.91999842</td><td>-0.55179290</td><td> 1.10549004</td><td>-1.3931623</td></tr>\n",
       "\t<tr><td>-1.60525138</td><td>-0.69143779</td><td>-0.51414387</td><td>-0.9960136</td></tr>\n",
       "\t<tr><td> 0.13403321</td><td> 1.09364788</td><td>-2.41510714</td><td> 1.6910696</td></tr>\n",
       "\t<tr><td>-0.08960615</td><td> 1.32145228</td><td>-0.42417048</td><td>-1.6689878</td></tr>\n",
       "\t<tr><td> 1.80364011</td><td>-2.31312123</td><td> 0.11079088</td><td> 0.8213772</td></tr>\n",
       "</tbody>\n",
       "</table>\n"
      ],
      "text/plain": [
       "   X1          X2          X3          X5        \n",
       "1   1.36007190 -0.73793104 -0.81053576 -0.4435196\n",
       "2   0.53584545  0.09181352  0.58065814 -0.3276056\n",
       "3   0.90624156  2.85523537 -1.06706911  1.6288003\n",
       "4   1.70929906  1.13885998 -0.69105256 -1.5250155\n",
       "5   0.19758044  0.25588517 -0.09596958  0.6184074\n",
       "6  -0.91999842 -0.55179290  1.10549004 -1.3931623\n",
       "7  -1.60525138 -0.69143779 -0.51414387 -0.9960136\n",
       "8   0.13403321  1.09364788 -2.41510714  1.6910696\n",
       "9  -0.08960615  1.32145228 -0.42417048 -1.6689878\n",
       "10  1.80364011 -2.31312123  0.11079088  0.8213772"
      ]
     },
     "metadata": {},
     "output_type": "display_data"
    }
   ],
   "source": [
    "A %>% select(X1:X3, X5)"
   ]
  },
  {
   "cell_type": "code",
   "execution_count": 8,
   "id": "89f05835-3503-4fd2-9177-5e72bf5f90aa",
   "metadata": {},
   "outputs": [
    {
     "data": {
      "text/html": [
       "<table class=\"dataframe\">\n",
       "<caption>A tibble: 10 × 4</caption>\n",
       "<thead>\n",
       "\t<tr><th scope=col>X1</th><th scope=col>X2</th><th scope=col>X3</th><th scope=col>X5</th></tr>\n",
       "\t<tr><th scope=col>&lt;dbl&gt;</th><th scope=col>&lt;dbl&gt;</th><th scope=col>&lt;dbl&gt;</th><th scope=col>&lt;dbl&gt;</th></tr>\n",
       "</thead>\n",
       "<tbody>\n",
       "\t<tr><td> 1.36007190</td><td>-0.73793104</td><td>-0.81053576</td><td>-0.4435196</td></tr>\n",
       "\t<tr><td> 0.53584545</td><td> 0.09181352</td><td> 0.58065814</td><td>-0.3276056</td></tr>\n",
       "\t<tr><td> 0.90624156</td><td> 2.85523537</td><td>-1.06706911</td><td> 1.6288003</td></tr>\n",
       "\t<tr><td> 1.70929906</td><td> 1.13885998</td><td>-0.69105256</td><td>-1.5250155</td></tr>\n",
       "\t<tr><td> 0.19758044</td><td> 0.25588517</td><td>-0.09596958</td><td> 0.6184074</td></tr>\n",
       "\t<tr><td>-0.91999842</td><td>-0.55179290</td><td> 1.10549004</td><td>-1.3931623</td></tr>\n",
       "\t<tr><td>-1.60525138</td><td>-0.69143779</td><td>-0.51414387</td><td>-0.9960136</td></tr>\n",
       "\t<tr><td> 0.13403321</td><td> 1.09364788</td><td>-2.41510714</td><td> 1.6910696</td></tr>\n",
       "\t<tr><td>-0.08960615</td><td> 1.32145228</td><td>-0.42417048</td><td>-1.6689878</td></tr>\n",
       "\t<tr><td> 1.80364011</td><td>-2.31312123</td><td> 0.11079088</td><td> 0.8213772</td></tr>\n",
       "</tbody>\n",
       "</table>\n"
      ],
      "text/plain": [
       "   X1          X2          X3          X5        \n",
       "1   1.36007190 -0.73793104 -0.81053576 -0.4435196\n",
       "2   0.53584545  0.09181352  0.58065814 -0.3276056\n",
       "3   0.90624156  2.85523537 -1.06706911  1.6288003\n",
       "4   1.70929906  1.13885998 -0.69105256 -1.5250155\n",
       "5   0.19758044  0.25588517 -0.09596958  0.6184074\n",
       "6  -0.91999842 -0.55179290  1.10549004 -1.3931623\n",
       "7  -1.60525138 -0.69143779 -0.51414387 -0.9960136\n",
       "8   0.13403321  1.09364788 -2.41510714  1.6910696\n",
       "9  -0.08960615  1.32145228 -0.42417048 -1.6689878\n",
       "10  1.80364011 -2.31312123  0.11079088  0.8213772"
      ]
     },
     "metadata": {},
     "output_type": "display_data"
    }
   ],
   "source": [
    "A %>% select(X1:X3, 5)"
   ]
  },
  {
   "cell_type": "markdown",
   "id": "9bf3e4ee-d310-4f82-9001-e73d278ccfe7",
   "metadata": {
    "toc-hr-collapsed": true
   },
   "source": [
    "### select(-c())"
   ]
  },
  {
   "cell_type": "markdown",
   "id": "f61de976-d5a4-4979-a994-08f6daf21f27",
   "metadata": {},
   "source": [
    "- 특정 열을 제외하고 return한다."
   ]
  },
  {
   "cell_type": "code",
   "execution_count": 9,
   "id": "b4e90beb-29ec-408a-a55e-5e75d60f0c03",
   "metadata": {},
   "outputs": [
    {
     "data": {
      "text/html": [
       "<table class=\"dataframe\">\n",
       "<caption>A tibble: 10 × 2</caption>\n",
       "<thead>\n",
       "\t<tr><th scope=col>X4</th><th scope=col>X5</th></tr>\n",
       "\t<tr><th scope=col>&lt;dbl&gt;</th><th scope=col>&lt;dbl&gt;</th></tr>\n",
       "</thead>\n",
       "<tbody>\n",
       "\t<tr><td>-0.22171163</td><td>-0.4435196</td></tr>\n",
       "\t<tr><td> 1.69826333</td><td>-0.3276056</td></tr>\n",
       "\t<tr><td>-0.03372118</td><td> 1.6288003</td></tr>\n",
       "\t<tr><td> 0.90800474</td><td>-1.5250155</td></tr>\n",
       "\t<tr><td> 0.19389942</td><td> 0.6184074</td></tr>\n",
       "\t<tr><td>-1.82995542</td><td>-1.3931623</td></tr>\n",
       "\t<tr><td> 1.08352406</td><td>-0.9960136</td></tr>\n",
       "\t<tr><td>-1.25122594</td><td> 1.6910696</td></tr>\n",
       "\t<tr><td>-0.86940762</td><td>-1.6689878</td></tr>\n",
       "\t<tr><td> 0.25294523</td><td> 0.8213772</td></tr>\n",
       "</tbody>\n",
       "</table>\n"
      ],
      "text/plain": [
       "   X4          X5        \n",
       "1  -0.22171163 -0.4435196\n",
       "2   1.69826333 -0.3276056\n",
       "3  -0.03372118  1.6288003\n",
       "4   0.90800474 -1.5250155\n",
       "5   0.19389942  0.6184074\n",
       "6  -1.82995542 -1.3931623\n",
       "7   1.08352406 -0.9960136\n",
       "8  -1.25122594  1.6910696\n",
       "9  -0.86940762 -1.6689878\n",
       "10  0.25294523  0.8213772"
      ]
     },
     "metadata": {},
     "output_type": "display_data"
    }
   ],
   "source": [
    "A %>% select(-(X1:X3))"
   ]
  },
  {
   "cell_type": "markdown",
   "id": "32e7e3c2-04b9-4300-be2c-ba5262ba4979",
   "metadata": {},
   "source": [
    "### select(...,start_with(~)) "
   ]
  },
  {
   "cell_type": "markdown",
   "id": "4dc3e5c5-c4fe-4f78-bfaa-dfa950d68a6e",
   "metadata": {},
   "source": [
    "- colname이 ~로 시작하는 열을 return한다."
   ]
  },
  {
   "cell_type": "code",
   "execution_count": 10,
   "id": "f3d9d5f7-d325-433a-92e1-f35fb9cd8076",
   "metadata": {},
   "outputs": [
    {
     "data": {
      "text/html": [
       "<table class=\"dataframe\">\n",
       "<caption>A tibble: 10 × 5</caption>\n",
       "<thead>\n",
       "\t<tr><th scope=col>XY1</th><th scope=col>XY2</th><th scope=col>XZ1</th><th scope=col>XZ2</th><th scope=col>X5</th></tr>\n",
       "\t<tr><th scope=col>&lt;dbl&gt;</th><th scope=col>&lt;dbl&gt;</th><th scope=col>&lt;dbl&gt;</th><th scope=col>&lt;dbl&gt;</th><th scope=col>&lt;dbl&gt;</th></tr>\n",
       "</thead>\n",
       "<tbody>\n",
       "\t<tr><td> 1.36007190</td><td>-0.73793104</td><td>-0.81053576</td><td>-0.22171163</td><td>-0.4435196</td></tr>\n",
       "\t<tr><td> 0.53584545</td><td> 0.09181352</td><td> 0.58065814</td><td> 1.69826333</td><td>-0.3276056</td></tr>\n",
       "\t<tr><td> 0.90624156</td><td> 2.85523537</td><td>-1.06706911</td><td>-0.03372118</td><td> 1.6288003</td></tr>\n",
       "\t<tr><td> 1.70929906</td><td> 1.13885998</td><td>-0.69105256</td><td> 0.90800474</td><td>-1.5250155</td></tr>\n",
       "\t<tr><td> 0.19758044</td><td> 0.25588517</td><td>-0.09596958</td><td> 0.19389942</td><td> 0.6184074</td></tr>\n",
       "\t<tr><td>-0.91999842</td><td>-0.55179290</td><td> 1.10549004</td><td>-1.82995542</td><td>-1.3931623</td></tr>\n",
       "\t<tr><td>-1.60525138</td><td>-0.69143779</td><td>-0.51414387</td><td> 1.08352406</td><td>-0.9960136</td></tr>\n",
       "\t<tr><td> 0.13403321</td><td> 1.09364788</td><td>-2.41510714</td><td>-1.25122594</td><td> 1.6910696</td></tr>\n",
       "\t<tr><td>-0.08960615</td><td> 1.32145228</td><td>-0.42417048</td><td>-0.86940762</td><td>-1.6689878</td></tr>\n",
       "\t<tr><td> 1.80364011</td><td>-2.31312123</td><td> 0.11079088</td><td> 0.25294523</td><td> 0.8213772</td></tr>\n",
       "</tbody>\n",
       "</table>\n"
      ],
      "text/plain": [
       "   XY1         XY2         XZ1         XZ2         X5        \n",
       "1   1.36007190 -0.73793104 -0.81053576 -0.22171163 -0.4435196\n",
       "2   0.53584545  0.09181352  0.58065814  1.69826333 -0.3276056\n",
       "3   0.90624156  2.85523537 -1.06706911 -0.03372118  1.6288003\n",
       "4   1.70929906  1.13885998 -0.69105256  0.90800474 -1.5250155\n",
       "5   0.19758044  0.25588517 -0.09596958  0.19389942  0.6184074\n",
       "6  -0.91999842 -0.55179290  1.10549004 -1.82995542 -1.3931623\n",
       "7  -1.60525138 -0.69143779 -0.51414387  1.08352406 -0.9960136\n",
       "8   0.13403321  1.09364788 -2.41510714 -1.25122594  1.6910696\n",
       "9  -0.08960615  1.32145228 -0.42417048 -0.86940762 -1.6689878\n",
       "10  1.80364011 -2.31312123  0.11079088  0.25294523  0.8213772"
      ]
     },
     "metadata": {},
     "output_type": "display_data"
    }
   ],
   "source": [
    "colnames(A) = c(\"XY1\", \"XY2\", \"XZ1\", \"XZ2\", \"X5\")\n",
    "A"
   ]
  },
  {
   "cell_type": "code",
   "execution_count": 11,
   "id": "1cb22e93-294e-4739-aa12-54ad808e3da2",
   "metadata": {},
   "outputs": [
    {
     "data": {
      "text/html": [
       "<table class=\"dataframe\">\n",
       "<caption>A tibble: 10 × 2</caption>\n",
       "<thead>\n",
       "\t<tr><th scope=col>XY1</th><th scope=col>XY2</th></tr>\n",
       "\t<tr><th scope=col>&lt;dbl&gt;</th><th scope=col>&lt;dbl&gt;</th></tr>\n",
       "</thead>\n",
       "<tbody>\n",
       "\t<tr><td> 1.36007190</td><td>-0.73793104</td></tr>\n",
       "\t<tr><td> 0.53584545</td><td> 0.09181352</td></tr>\n",
       "\t<tr><td> 0.90624156</td><td> 2.85523537</td></tr>\n",
       "\t<tr><td> 1.70929906</td><td> 1.13885998</td></tr>\n",
       "\t<tr><td> 0.19758044</td><td> 0.25588517</td></tr>\n",
       "\t<tr><td>-0.91999842</td><td>-0.55179290</td></tr>\n",
       "\t<tr><td>-1.60525138</td><td>-0.69143779</td></tr>\n",
       "\t<tr><td> 0.13403321</td><td> 1.09364788</td></tr>\n",
       "\t<tr><td>-0.08960615</td><td> 1.32145228</td></tr>\n",
       "\t<tr><td> 1.80364011</td><td>-2.31312123</td></tr>\n",
       "</tbody>\n",
       "</table>\n"
      ],
      "text/plain": [
       "   XY1         XY2        \n",
       "1   1.36007190 -0.73793104\n",
       "2   0.53584545  0.09181352\n",
       "3   0.90624156  2.85523537\n",
       "4   1.70929906  1.13885998\n",
       "5   0.19758044  0.25588517\n",
       "6  -0.91999842 -0.55179290\n",
       "7  -1.60525138 -0.69143779\n",
       "8   0.13403321  1.09364788\n",
       "9  -0.08960615  1.32145228\n",
       "10  1.80364011 -2.31312123"
      ]
     },
     "metadata": {},
     "output_type": "display_data"
    }
   ],
   "source": [
    "A %>% select(starts_with(\"XY\"))"
   ]
  },
  {
   "cell_type": "markdown",
   "id": "7bb0d606-12da-4af8-8640-1a72c4c7ee4a",
   "metadata": {},
   "source": [
    "### select(...,ends_with(~)) "
   ]
  },
  {
   "cell_type": "markdown",
   "id": "c890c661-f81b-42d6-a424-6967f849a766",
   "metadata": {},
   "source": [
    "- colname이 ~로 끝나는 열을 return한다."
   ]
  },
  {
   "cell_type": "code",
   "execution_count": 12,
   "id": "195073d9-6f17-4ee1-a388-af89dc3d7cd5",
   "metadata": {},
   "outputs": [
    {
     "data": {
      "text/html": [
       "<table class=\"dataframe\">\n",
       "<caption>A tibble: 10 × 2</caption>\n",
       "<thead>\n",
       "\t<tr><th scope=col>XY2</th><th scope=col>XZ2</th></tr>\n",
       "\t<tr><th scope=col>&lt;dbl&gt;</th><th scope=col>&lt;dbl&gt;</th></tr>\n",
       "</thead>\n",
       "<tbody>\n",
       "\t<tr><td>-0.73793104</td><td>-0.22171163</td></tr>\n",
       "\t<tr><td> 0.09181352</td><td> 1.69826333</td></tr>\n",
       "\t<tr><td> 2.85523537</td><td>-0.03372118</td></tr>\n",
       "\t<tr><td> 1.13885998</td><td> 0.90800474</td></tr>\n",
       "\t<tr><td> 0.25588517</td><td> 0.19389942</td></tr>\n",
       "\t<tr><td>-0.55179290</td><td>-1.82995542</td></tr>\n",
       "\t<tr><td>-0.69143779</td><td> 1.08352406</td></tr>\n",
       "\t<tr><td> 1.09364788</td><td>-1.25122594</td></tr>\n",
       "\t<tr><td> 1.32145228</td><td>-0.86940762</td></tr>\n",
       "\t<tr><td>-2.31312123</td><td> 0.25294523</td></tr>\n",
       "</tbody>\n",
       "</table>\n"
      ],
      "text/plain": [
       "   XY2         XZ2        \n",
       "1  -0.73793104 -0.22171163\n",
       "2   0.09181352  1.69826333\n",
       "3   2.85523537 -0.03372118\n",
       "4   1.13885998  0.90800474\n",
       "5   0.25588517  0.19389942\n",
       "6  -0.55179290 -1.82995542\n",
       "7  -0.69143779  1.08352406\n",
       "8   1.09364788 -1.25122594\n",
       "9   1.32145228 -0.86940762\n",
       "10 -2.31312123  0.25294523"
      ]
     },
     "metadata": {},
     "output_type": "display_data"
    }
   ],
   "source": [
    "A %>% select(ends_with(\"2\"))"
   ]
  },
  {
   "cell_type": "markdown",
   "id": "d7d5b025-dea4-47fc-a354-212c914ed526",
   "metadata": {},
   "source": [
    "### select(...,contains(~)) "
   ]
  },
  {
   "cell_type": "markdown",
   "id": "0d948952-fcd8-467d-ace2-38a1b43fd263",
   "metadata": {},
   "source": [
    "- colname이 ~를 포함한 열을 return한다."
   ]
  },
  {
   "cell_type": "code",
   "execution_count": 13,
   "id": "6b371c6d-c3c7-4826-8109-e034dc508b04",
   "metadata": {},
   "outputs": [
    {
     "data": {
      "text/html": [
       "<table class=\"dataframe\">\n",
       "<caption>A tibble: 10 × 2</caption>\n",
       "<thead>\n",
       "\t<tr><th scope=col>XZ1</th><th scope=col>XZ2</th></tr>\n",
       "\t<tr><th scope=col>&lt;dbl&gt;</th><th scope=col>&lt;dbl&gt;</th></tr>\n",
       "</thead>\n",
       "<tbody>\n",
       "\t<tr><td>-0.81053576</td><td>-0.22171163</td></tr>\n",
       "\t<tr><td> 0.58065814</td><td> 1.69826333</td></tr>\n",
       "\t<tr><td>-1.06706911</td><td>-0.03372118</td></tr>\n",
       "\t<tr><td>-0.69105256</td><td> 0.90800474</td></tr>\n",
       "\t<tr><td>-0.09596958</td><td> 0.19389942</td></tr>\n",
       "\t<tr><td> 1.10549004</td><td>-1.82995542</td></tr>\n",
       "\t<tr><td>-0.51414387</td><td> 1.08352406</td></tr>\n",
       "\t<tr><td>-2.41510714</td><td>-1.25122594</td></tr>\n",
       "\t<tr><td>-0.42417048</td><td>-0.86940762</td></tr>\n",
       "\t<tr><td> 0.11079088</td><td> 0.25294523</td></tr>\n",
       "</tbody>\n",
       "</table>\n"
      ],
      "text/plain": [
       "   XZ1         XZ2        \n",
       "1  -0.81053576 -0.22171163\n",
       "2   0.58065814  1.69826333\n",
       "3  -1.06706911 -0.03372118\n",
       "4  -0.69105256  0.90800474\n",
       "5  -0.09596958  0.19389942\n",
       "6   1.10549004 -1.82995542\n",
       "7  -0.51414387  1.08352406\n",
       "8  -2.41510714 -1.25122594\n",
       "9  -0.42417048 -0.86940762\n",
       "10  0.11079088  0.25294523"
      ]
     },
     "metadata": {},
     "output_type": "display_data"
    }
   ],
   "source": [
    "A %>% select(contains(\"Z\"))"
   ]
  },
  {
   "cell_type": "markdown",
   "id": "121f0dfb-dfa1-4514-9e4d-1ac542c1dc43",
   "metadata": {},
   "source": [
    "### select(...,everyting()) "
   ]
  },
  {
   "cell_type": "markdown",
   "id": "d040c591-92f5-46d4-ae03-e5331de06468",
   "metadata": {},
   "source": [
    "- colname이 ~를 포함하는 열을 좌측으로 옮긴다.\n",
    "- everything()이 없는 코드와 다른 점은 ~를 포함하지 않는 열도 출력한다는 점이다."
   ]
  },
  {
   "cell_type": "code",
   "execution_count": 14,
   "id": "f69b0e44-0555-4b55-8d0c-51ef404a0cbd",
   "metadata": {},
   "outputs": [
    {
     "data": {
      "text/html": [
       "<table class=\"dataframe\">\n",
       "<caption>A tibble: 10 × 5</caption>\n",
       "<thead>\n",
       "\t<tr><th scope=col>XZ1</th><th scope=col>XZ2</th><th scope=col>XY1</th><th scope=col>XY2</th><th scope=col>X5</th></tr>\n",
       "\t<tr><th scope=col>&lt;dbl&gt;</th><th scope=col>&lt;dbl&gt;</th><th scope=col>&lt;dbl&gt;</th><th scope=col>&lt;dbl&gt;</th><th scope=col>&lt;dbl&gt;</th></tr>\n",
       "</thead>\n",
       "<tbody>\n",
       "\t<tr><td>-0.81053576</td><td>-0.22171163</td><td> 1.36007190</td><td>-0.73793104</td><td>-0.4435196</td></tr>\n",
       "\t<tr><td> 0.58065814</td><td> 1.69826333</td><td> 0.53584545</td><td> 0.09181352</td><td>-0.3276056</td></tr>\n",
       "\t<tr><td>-1.06706911</td><td>-0.03372118</td><td> 0.90624156</td><td> 2.85523537</td><td> 1.6288003</td></tr>\n",
       "\t<tr><td>-0.69105256</td><td> 0.90800474</td><td> 1.70929906</td><td> 1.13885998</td><td>-1.5250155</td></tr>\n",
       "\t<tr><td>-0.09596958</td><td> 0.19389942</td><td> 0.19758044</td><td> 0.25588517</td><td> 0.6184074</td></tr>\n",
       "\t<tr><td> 1.10549004</td><td>-1.82995542</td><td>-0.91999842</td><td>-0.55179290</td><td>-1.3931623</td></tr>\n",
       "\t<tr><td>-0.51414387</td><td> 1.08352406</td><td>-1.60525138</td><td>-0.69143779</td><td>-0.9960136</td></tr>\n",
       "\t<tr><td>-2.41510714</td><td>-1.25122594</td><td> 0.13403321</td><td> 1.09364788</td><td> 1.6910696</td></tr>\n",
       "\t<tr><td>-0.42417048</td><td>-0.86940762</td><td>-0.08960615</td><td> 1.32145228</td><td>-1.6689878</td></tr>\n",
       "\t<tr><td> 0.11079088</td><td> 0.25294523</td><td> 1.80364011</td><td>-2.31312123</td><td> 0.8213772</td></tr>\n",
       "</tbody>\n",
       "</table>\n"
      ],
      "text/plain": [
       "   XZ1         XZ2         XY1         XY2         X5        \n",
       "1  -0.81053576 -0.22171163  1.36007190 -0.73793104 -0.4435196\n",
       "2   0.58065814  1.69826333  0.53584545  0.09181352 -0.3276056\n",
       "3  -1.06706911 -0.03372118  0.90624156  2.85523537  1.6288003\n",
       "4  -0.69105256  0.90800474  1.70929906  1.13885998 -1.5250155\n",
       "5  -0.09596958  0.19389942  0.19758044  0.25588517  0.6184074\n",
       "6   1.10549004 -1.82995542 -0.91999842 -0.55179290 -1.3931623\n",
       "7  -0.51414387  1.08352406 -1.60525138 -0.69143779 -0.9960136\n",
       "8  -2.41510714 -1.25122594  0.13403321  1.09364788  1.6910696\n",
       "9  -0.42417048 -0.86940762 -0.08960615  1.32145228 -1.6689878\n",
       "10  0.11079088  0.25294523  1.80364011 -2.31312123  0.8213772"
      ]
     },
     "metadata": {},
     "output_type": "display_data"
    }
   ],
   "source": [
    "A %>% select(contains(\"Z\"), everything())"
   ]
  },
  {
   "cell_type": "markdown",
   "id": "e8004030-a5cd-4a4f-8119-8ac1e58ec4e3",
   "metadata": {},
   "source": [
    "## filter"
   ]
  },
  {
   "cell_type": "code",
   "execution_count": 15,
   "id": "a9f7c727-78c7-4973-99f9-e0e804839424",
   "metadata": {},
   "outputs": [
    {
     "data": {
      "text/html": [
       "<table class=\"dataframe\">\n",
       "<caption>A tibble: 10 × 5</caption>\n",
       "<thead>\n",
       "\t<tr><th scope=col>XY1</th><th scope=col>XY2</th><th scope=col>XZ1</th><th scope=col>XZ2</th><th scope=col>X5</th></tr>\n",
       "\t<tr><th scope=col>&lt;dbl&gt;</th><th scope=col>&lt;dbl&gt;</th><th scope=col>&lt;dbl&gt;</th><th scope=col>&lt;dbl&gt;</th><th scope=col>&lt;dbl&gt;</th></tr>\n",
       "</thead>\n",
       "<tbody>\n",
       "\t<tr><td> 1.36007190</td><td>-0.73793104</td><td>-0.81053576</td><td>-0.22171163</td><td>-0.4435196</td></tr>\n",
       "\t<tr><td> 0.53584545</td><td> 0.09181352</td><td> 0.58065814</td><td> 1.69826333</td><td>-0.3276056</td></tr>\n",
       "\t<tr><td> 0.90624156</td><td> 2.85523537</td><td>-1.06706911</td><td>-0.03372118</td><td> 1.6288003</td></tr>\n",
       "\t<tr><td> 1.70929906</td><td> 1.13885998</td><td>-0.69105256</td><td> 0.90800474</td><td>-1.5250155</td></tr>\n",
       "\t<tr><td> 0.19758044</td><td> 0.25588517</td><td>-0.09596958</td><td> 0.19389942</td><td> 0.6184074</td></tr>\n",
       "\t<tr><td>-0.91999842</td><td>-0.55179290</td><td> 1.10549004</td><td>-1.82995542</td><td>-1.3931623</td></tr>\n",
       "\t<tr><td>-1.60525138</td><td>-0.69143779</td><td>-0.51414387</td><td> 1.08352406</td><td>-0.9960136</td></tr>\n",
       "\t<tr><td> 0.13403321</td><td> 1.09364788</td><td>-2.41510714</td><td>-1.25122594</td><td> 1.6910696</td></tr>\n",
       "\t<tr><td>-0.08960615</td><td> 1.32145228</td><td>-0.42417048</td><td>-0.86940762</td><td>-1.6689878</td></tr>\n",
       "\t<tr><td> 1.80364011</td><td>-2.31312123</td><td> 0.11079088</td><td> 0.25294523</td><td> 0.8213772</td></tr>\n",
       "</tbody>\n",
       "</table>\n"
      ],
      "text/plain": [
       "   XY1         XY2         XZ1         XZ2         X5        \n",
       "1   1.36007190 -0.73793104 -0.81053576 -0.22171163 -0.4435196\n",
       "2   0.53584545  0.09181352  0.58065814  1.69826333 -0.3276056\n",
       "3   0.90624156  2.85523537 -1.06706911 -0.03372118  1.6288003\n",
       "4   1.70929906  1.13885998 -0.69105256  0.90800474 -1.5250155\n",
       "5   0.19758044  0.25588517 -0.09596958  0.19389942  0.6184074\n",
       "6  -0.91999842 -0.55179290  1.10549004 -1.82995542 -1.3931623\n",
       "7  -1.60525138 -0.69143779 -0.51414387  1.08352406 -0.9960136\n",
       "8   0.13403321  1.09364788 -2.41510714 -1.25122594  1.6910696\n",
       "9  -0.08960615  1.32145228 -0.42417048 -0.86940762 -1.6689878\n",
       "10  1.80364011 -2.31312123  0.11079088  0.25294523  0.8213772"
      ]
     },
     "metadata": {},
     "output_type": "display_data"
    }
   ],
   "source": [
    "A"
   ]
  },
  {
   "cell_type": "markdown",
   "id": "1e567060-1b7a-4038-a7de-53127bd9b687",
   "metadata": {},
   "source": [
    "- 아래 코드는 $X5>0$인 행만 return한다."
   ]
  },
  {
   "cell_type": "code",
   "execution_count": 16,
   "id": "a2075d32-f103-4959-8ed9-1cad200bd41d",
   "metadata": {},
   "outputs": [
    {
     "data": {
      "text/html": [
       "<table class=\"dataframe\">\n",
       "<caption>A tibble: 4 × 5</caption>\n",
       "<thead>\n",
       "\t<tr><th scope=col>XY1</th><th scope=col>XY2</th><th scope=col>XZ1</th><th scope=col>XZ2</th><th scope=col>X5</th></tr>\n",
       "\t<tr><th scope=col>&lt;dbl&gt;</th><th scope=col>&lt;dbl&gt;</th><th scope=col>&lt;dbl&gt;</th><th scope=col>&lt;dbl&gt;</th><th scope=col>&lt;dbl&gt;</th></tr>\n",
       "</thead>\n",
       "<tbody>\n",
       "\t<tr><td>0.9062416</td><td> 2.8552354</td><td>-1.06706911</td><td>-0.03372118</td><td>1.6288003</td></tr>\n",
       "\t<tr><td>0.1975804</td><td> 0.2558852</td><td>-0.09596958</td><td> 0.19389942</td><td>0.6184074</td></tr>\n",
       "\t<tr><td>0.1340332</td><td> 1.0936479</td><td>-2.41510714</td><td>-1.25122594</td><td>1.6910696</td></tr>\n",
       "\t<tr><td>1.8036401</td><td>-2.3131212</td><td> 0.11079088</td><td> 0.25294523</td><td>0.8213772</td></tr>\n",
       "</tbody>\n",
       "</table>\n"
      ],
      "text/plain": [
       "  XY1       XY2        XZ1         XZ2         X5       \n",
       "1 0.9062416  2.8552354 -1.06706911 -0.03372118 1.6288003\n",
       "2 0.1975804  0.2558852 -0.09596958  0.19389942 0.6184074\n",
       "3 0.1340332  1.0936479 -2.41510714 -1.25122594 1.6910696\n",
       "4 1.8036401 -2.3131212  0.11079088  0.25294523 0.8213772"
      ]
     },
     "metadata": {},
     "output_type": "display_data"
    }
   ],
   "source": [
    "A %>% filter(X5>0)"
   ]
  },
  {
   "cell_type": "markdown",
   "id": "d61cd021-39c0-43e2-9502-5cee4d779757",
   "metadata": {},
   "source": [
    "- 아래 코드는 $X5>0$이고$XY2>0$인 행만 return한다."
   ]
  },
  {
   "cell_type": "code",
   "execution_count": 17,
   "id": "8fbfe90b-4fd0-4b83-aacb-cb661de54e84",
   "metadata": {},
   "outputs": [
    {
     "data": {
      "text/html": [
       "<table class=\"dataframe\">\n",
       "<caption>A tibble: 3 × 5</caption>\n",
       "<thead>\n",
       "\t<tr><th scope=col>XY1</th><th scope=col>XY2</th><th scope=col>XZ1</th><th scope=col>XZ2</th><th scope=col>X5</th></tr>\n",
       "\t<tr><th scope=col>&lt;dbl&gt;</th><th scope=col>&lt;dbl&gt;</th><th scope=col>&lt;dbl&gt;</th><th scope=col>&lt;dbl&gt;</th><th scope=col>&lt;dbl&gt;</th></tr>\n",
       "</thead>\n",
       "<tbody>\n",
       "\t<tr><td>0.9062416</td><td>2.8552354</td><td>-1.06706911</td><td>-0.03372118</td><td>1.6288003</td></tr>\n",
       "\t<tr><td>0.1975804</td><td>0.2558852</td><td>-0.09596958</td><td> 0.19389942</td><td>0.6184074</td></tr>\n",
       "\t<tr><td>0.1340332</td><td>1.0936479</td><td>-2.41510714</td><td>-1.25122594</td><td>1.6910696</td></tr>\n",
       "</tbody>\n",
       "</table>\n"
      ],
      "text/plain": [
       "  XY1       XY2       XZ1         XZ2         X5       \n",
       "1 0.9062416 2.8552354 -1.06706911 -0.03372118 1.6288003\n",
       "2 0.1975804 0.2558852 -0.09596958  0.19389942 0.6184074\n",
       "3 0.1340332 1.0936479 -2.41510714 -1.25122594 1.6910696"
      ]
     },
     "metadata": {},
     "output_type": "display_data"
    }
   ],
   "source": [
    "A %>% filter(X5>0 & XY2 > 0)"
   ]
  },
  {
   "cell_type": "code",
   "execution_count": 18,
   "id": "460291de-030c-41d1-a058-4a064cd7db72",
   "metadata": {},
   "outputs": [
    {
     "data": {
      "text/html": [
       "<table class=\"dataframe\">\n",
       "<caption>A tibble: 3 × 2</caption>\n",
       "<thead>\n",
       "\t<tr><th scope=col>XY1</th><th scope=col>XY2</th></tr>\n",
       "\t<tr><th scope=col>&lt;dbl&gt;</th><th scope=col>&lt;dbl&gt;</th></tr>\n",
       "</thead>\n",
       "<tbody>\n",
       "\t<tr><td>0.9062416</td><td>2.8552354</td></tr>\n",
       "\t<tr><td>0.1975804</td><td>0.2558852</td></tr>\n",
       "\t<tr><td>0.1340332</td><td>1.0936479</td></tr>\n",
       "</tbody>\n",
       "</table>\n"
      ],
      "text/plain": [
       "  XY1       XY2      \n",
       "1 0.9062416 2.8552354\n",
       "2 0.1975804 0.2558852\n",
       "3 0.1340332 1.0936479"
      ]
     },
     "metadata": {},
     "output_type": "display_data"
    }
   ],
   "source": [
    "A %>% filter(X5>0 & XY2 > 0) %>% select(contains(\"XY\"))"
   ]
  },
  {
   "cell_type": "markdown",
   "id": "debb0ff7-0ad5-4923-ad34-d04959f856d3",
   "metadata": {},
   "source": [
    "## mutate"
   ]
  },
  {
   "cell_type": "markdown",
   "id": "d4f90070-ff77-46b1-a03c-b98bf6337da4",
   "metadata": {},
   "source": [
    "- 새로운 열을 추가한다."
   ]
  },
  {
   "cell_type": "code",
   "execution_count": 19,
   "id": "058633ba-1037-4527-afab-62e68cdf06d4",
   "metadata": {},
   "outputs": [
    {
     "data": {
      "text/html": [
       "<table class=\"dataframe\">\n",
       "<caption>A tibble: 10 × 5</caption>\n",
       "<thead>\n",
       "\t<tr><th scope=col>XY1</th><th scope=col>XY2</th><th scope=col>XZ1</th><th scope=col>XZ2</th><th scope=col>X5</th></tr>\n",
       "\t<tr><th scope=col>&lt;dbl&gt;</th><th scope=col>&lt;dbl&gt;</th><th scope=col>&lt;dbl&gt;</th><th scope=col>&lt;dbl&gt;</th><th scope=col>&lt;dbl&gt;</th></tr>\n",
       "</thead>\n",
       "<tbody>\n",
       "\t<tr><td> 1.36007190</td><td>-0.73793104</td><td>-0.81053576</td><td>-0.22171163</td><td>-0.4435196</td></tr>\n",
       "\t<tr><td> 0.53584545</td><td> 0.09181352</td><td> 0.58065814</td><td> 1.69826333</td><td>-0.3276056</td></tr>\n",
       "\t<tr><td> 0.90624156</td><td> 2.85523537</td><td>-1.06706911</td><td>-0.03372118</td><td> 1.6288003</td></tr>\n",
       "\t<tr><td> 1.70929906</td><td> 1.13885998</td><td>-0.69105256</td><td> 0.90800474</td><td>-1.5250155</td></tr>\n",
       "\t<tr><td> 0.19758044</td><td> 0.25588517</td><td>-0.09596958</td><td> 0.19389942</td><td> 0.6184074</td></tr>\n",
       "\t<tr><td>-0.91999842</td><td>-0.55179290</td><td> 1.10549004</td><td>-1.82995542</td><td>-1.3931623</td></tr>\n",
       "\t<tr><td>-1.60525138</td><td>-0.69143779</td><td>-0.51414387</td><td> 1.08352406</td><td>-0.9960136</td></tr>\n",
       "\t<tr><td> 0.13403321</td><td> 1.09364788</td><td>-2.41510714</td><td>-1.25122594</td><td> 1.6910696</td></tr>\n",
       "\t<tr><td>-0.08960615</td><td> 1.32145228</td><td>-0.42417048</td><td>-0.86940762</td><td>-1.6689878</td></tr>\n",
       "\t<tr><td> 1.80364011</td><td>-2.31312123</td><td> 0.11079088</td><td> 0.25294523</td><td> 0.8213772</td></tr>\n",
       "</tbody>\n",
       "</table>\n"
      ],
      "text/plain": [
       "   XY1         XY2         XZ1         XZ2         X5        \n",
       "1   1.36007190 -0.73793104 -0.81053576 -0.22171163 -0.4435196\n",
       "2   0.53584545  0.09181352  0.58065814  1.69826333 -0.3276056\n",
       "3   0.90624156  2.85523537 -1.06706911 -0.03372118  1.6288003\n",
       "4   1.70929906  1.13885998 -0.69105256  0.90800474 -1.5250155\n",
       "5   0.19758044  0.25588517 -0.09596958  0.19389942  0.6184074\n",
       "6  -0.91999842 -0.55179290  1.10549004 -1.82995542 -1.3931623\n",
       "7  -1.60525138 -0.69143779 -0.51414387  1.08352406 -0.9960136\n",
       "8   0.13403321  1.09364788 -2.41510714 -1.25122594  1.6910696\n",
       "9  -0.08960615  1.32145228 -0.42417048 -0.86940762 -1.6689878\n",
       "10  1.80364011 -2.31312123  0.11079088  0.25294523  0.8213772"
      ]
     },
     "metadata": {},
     "output_type": "display_data"
    }
   ],
   "source": [
    "A"
   ]
  },
  {
   "cell_type": "code",
   "execution_count": 20,
   "id": "8df21c66-f92e-4651-8351-2fa8a6c6280e",
   "metadata": {},
   "outputs": [
    {
     "data": {
      "text/html": [
       "<table class=\"dataframe\">\n",
       "<caption>A tibble: 10 × 8</caption>\n",
       "<thead>\n",
       "\t<tr><th scope=col>XY1</th><th scope=col>XY2</th><th scope=col>XZ1</th><th scope=col>XZ2</th><th scope=col>X5</th><th scope=col>X6</th><th scope=col>Z7</th><th scope=col>Z8</th></tr>\n",
       "\t<tr><th scope=col>&lt;dbl&gt;</th><th scope=col>&lt;dbl&gt;</th><th scope=col>&lt;dbl&gt;</th><th scope=col>&lt;dbl&gt;</th><th scope=col>&lt;dbl&gt;</th><th scope=col>&lt;dbl&gt;</th><th scope=col>&lt;dbl&gt;</th><th scope=col>&lt;dbl&gt;</th></tr>\n",
       "</thead>\n",
       "<tbody>\n",
       "\t<tr><td> 1.36007190</td><td>-0.73793104</td><td>-0.81053576</td><td>-0.22171163</td><td>-0.4435196</td><td>0.4435196</td><td>0.1967096</td><td>-1.2950871</td></tr>\n",
       "\t<tr><td> 0.53584545</td><td> 0.09181352</td><td> 0.58065814</td><td> 1.69826333</td><td>-0.3276056</td><td>0.3276056</td><td>0.1073254</td><td>-1.3844713</td></tr>\n",
       "\t<tr><td> 0.90624156</td><td> 2.85523537</td><td>-1.06706911</td><td>-0.03372118</td><td> 1.6288003</td><td>1.6288003</td><td>2.6529903</td><td> 1.1611936</td></tr>\n",
       "\t<tr><td> 1.70929906</td><td> 1.13885998</td><td>-0.69105256</td><td> 0.90800474</td><td>-1.5250155</td><td>1.5250155</td><td>2.3256722</td><td> 0.8338755</td></tr>\n",
       "\t<tr><td> 0.19758044</td><td> 0.25588517</td><td>-0.09596958</td><td> 0.19389942</td><td> 0.6184074</td><td>0.6184074</td><td>0.3824277</td><td>-1.1093690</td></tr>\n",
       "\t<tr><td>-0.91999842</td><td>-0.55179290</td><td> 1.10549004</td><td>-1.82995542</td><td>-1.3931623</td><td>1.3931623</td><td>1.9409013</td><td> 0.4491046</td></tr>\n",
       "\t<tr><td>-1.60525138</td><td>-0.69143779</td><td>-0.51414387</td><td> 1.08352406</td><td>-0.9960136</td><td>0.9960136</td><td>0.9920430</td><td>-0.4997536</td></tr>\n",
       "\t<tr><td> 0.13403321</td><td> 1.09364788</td><td>-2.41510714</td><td>-1.25122594</td><td> 1.6910696</td><td>1.6910696</td><td>2.8597164</td><td> 1.3679197</td></tr>\n",
       "\t<tr><td>-0.08960615</td><td> 1.32145228</td><td>-0.42417048</td><td>-0.86940762</td><td>-1.6689878</td><td>1.6689878</td><td>2.7855204</td><td> 1.2937237</td></tr>\n",
       "\t<tr><td> 1.80364011</td><td>-2.31312123</td><td> 0.11079088</td><td> 0.25294523</td><td> 0.8213772</td><td>0.8213772</td><td>0.6746605</td><td>-0.8171362</td></tr>\n",
       "</tbody>\n",
       "</table>\n"
      ],
      "text/plain": [
       "   XY1         XY2         XZ1         XZ2         X5         X6       \n",
       "1   1.36007190 -0.73793104 -0.81053576 -0.22171163 -0.4435196 0.4435196\n",
       "2   0.53584545  0.09181352  0.58065814  1.69826333 -0.3276056 0.3276056\n",
       "3   0.90624156  2.85523537 -1.06706911 -0.03372118  1.6288003 1.6288003\n",
       "4   1.70929906  1.13885998 -0.69105256  0.90800474 -1.5250155 1.5250155\n",
       "5   0.19758044  0.25588517 -0.09596958  0.19389942  0.6184074 0.6184074\n",
       "6  -0.91999842 -0.55179290  1.10549004 -1.82995542 -1.3931623 1.3931623\n",
       "7  -1.60525138 -0.69143779 -0.51414387  1.08352406 -0.9960136 0.9960136\n",
       "8   0.13403321  1.09364788 -2.41510714 -1.25122594  1.6910696 1.6910696\n",
       "9  -0.08960615  1.32145228 -0.42417048 -0.86940762 -1.6689878 1.6689878\n",
       "10  1.80364011 -2.31312123  0.11079088  0.25294523  0.8213772 0.8213772\n",
       "   Z7        Z8        \n",
       "1  0.1967096 -1.2950871\n",
       "2  0.1073254 -1.3844713\n",
       "3  2.6529903  1.1611936\n",
       "4  2.3256722  0.8338755\n",
       "5  0.3824277 -1.1093690\n",
       "6  1.9409013  0.4491046\n",
       "7  0.9920430 -0.4997536\n",
       "8  2.8597164  1.3679197\n",
       "9  2.7855204  1.2937237\n",
       "10 0.6746605 -0.8171362"
      ]
     },
     "metadata": {},
     "output_type": "display_data"
    }
   ],
   "source": [
    "A %>% mutate(X6 = abs(X5), Z7 = X5**2, Z8 = Z7 - mean(Z7))"
   ]
  },
  {
   "cell_type": "markdown",
   "id": "3e067762-c552-411b-a644-15cd18938773",
   "metadata": {},
   "source": [
    "## group_by()"
   ]
  },
  {
   "cell_type": "code",
   "execution_count": 21,
   "id": "a41ce0fc-cc0c-442b-b149-db7a995be881",
   "metadata": {},
   "outputs": [],
   "source": [
    "sex = c(\"M\", \"M\", \"M\", \"F\", \"F\", \"F\", \"F\")\n",
    "value = c(1, 2, 3, 10, 20, 30, 40)"
   ]
  },
  {
   "cell_type": "code",
   "execution_count": 22,
   "id": "4e901f96-27fa-44fc-9b86-b3dfd0b07c83",
   "metadata": {},
   "outputs": [
    {
     "data": {
      "text/html": [
       "<table class=\"dataframe\">\n",
       "<caption>A tibble: 7 × 2</caption>\n",
       "<thead>\n",
       "\t<tr><th scope=col>sex</th><th scope=col>value</th></tr>\n",
       "\t<tr><th scope=col>&lt;chr&gt;</th><th scope=col>&lt;dbl&gt;</th></tr>\n",
       "</thead>\n",
       "<tbody>\n",
       "\t<tr><td>M</td><td> 1</td></tr>\n",
       "\t<tr><td>M</td><td> 2</td></tr>\n",
       "\t<tr><td>M</td><td> 3</td></tr>\n",
       "\t<tr><td>F</td><td>10</td></tr>\n",
       "\t<tr><td>F</td><td>20</td></tr>\n",
       "\t<tr><td>F</td><td>30</td></tr>\n",
       "\t<tr><td>F</td><td>40</td></tr>\n",
       "</tbody>\n",
       "</table>\n"
      ],
      "text/plain": [
       "  sex value\n",
       "1 M    1   \n",
       "2 M    2   \n",
       "3 M    3   \n",
       "4 F   10   \n",
       "5 F   20   \n",
       "6 F   30   \n",
       "7 F   40   "
      ]
     },
     "metadata": {},
     "output_type": "display_data"
    }
   ],
   "source": [
    "df = tibble(sex, value)\n",
    "df"
   ]
  },
  {
   "cell_type": "code",
   "execution_count": 23,
   "id": "ebd3303b-c2e8-468a-94e0-07cfc1c90cba",
   "metadata": {},
   "outputs": [
    {
     "data": {
      "text/html": [
       "<table class=\"dataframe\">\n",
       "<caption>A tibble: 2 × 2</caption>\n",
       "<thead>\n",
       "\t<tr><th scope=col>sex</th><th scope=col>mean_value</th></tr>\n",
       "\t<tr><th scope=col>&lt;chr&gt;</th><th scope=col>&lt;dbl&gt;</th></tr>\n",
       "</thead>\n",
       "<tbody>\n",
       "\t<tr><td>F</td><td>25</td></tr>\n",
       "\t<tr><td>M</td><td> 2</td></tr>\n",
       "</tbody>\n",
       "</table>\n"
      ],
      "text/plain": [
       "  sex mean_value\n",
       "1 F   25        \n",
       "2 M    2        "
      ]
     },
     "metadata": {},
     "output_type": "display_data"
    }
   ],
   "source": [
    "df %>% group_by(sex) %>% summarise(mean_value = mean(value))"
   ]
  },
  {
   "cell_type": "markdown",
   "id": "3598a30e-3d2e-4838-90ac-77dbf17e9ded",
   "metadata": {},
   "source": [
    "- 그룹별로 묶은 다음에 평균을 계산한다."
   ]
  },
  {
   "cell_type": "markdown",
   "id": "074ef0b8-6254-49d1-b9bc-288bac8239e5",
   "metadata": {},
   "source": [
    " - `summarise`에 사용할 수 있는 함수는 평균과 같이 $n$개의 벡터가 입력으로 올 때 하나의 스칼라를 return하는 함수이다."
   ]
  },
  {
   "cell_type": "markdown",
   "id": "c8fe1811-244d-4c28-8e1a-0cd83133c48a",
   "metadata": {},
   "source": [
    "## NA"
   ]
  },
  {
   "cell_type": "markdown",
   "id": "06ea6290-66c2-44df-921a-8c3e86b5a5e0",
   "metadata": {},
   "source": [
    "- NA는 신중하게 다루자.\n",
    "\n",
    "- NA가 포함되어도 개별연산은 가능하다."
   ]
  },
  {
   "cell_type": "code",
   "execution_count": 24,
   "id": "5338ee7d-861b-4dd6-980f-97407629525e",
   "metadata": {},
   "outputs": [
    {
     "data": {
      "text/html": [
       "<style>\n",
       ".list-inline {list-style: none; margin:0; padding: 0}\n",
       ".list-inline>li {display: inline-block}\n",
       ".list-inline>li:not(:last-child)::after {content: \"\\00b7\"; padding: 0 .5ex}\n",
       "</style>\n",
       "<ol class=list-inline><li>1</li><li>2</li><li>&lt;NA&gt;</li><li>3</li><li>4</li></ol>\n"
      ],
      "text/plain": [
       "[1]  1  2 NA  3  4"
      ]
     },
     "metadata": {},
     "output_type": "display_data"
    }
   ],
   "source": [
    "x = c(1,2,NA,3,4)\n",
    "x"
   ]
  },
  {
   "cell_type": "code",
   "execution_count": 25,
   "id": "922afad5-833f-465c-8e95-401a761c30c1",
   "metadata": {},
   "outputs": [
    {
     "data": {
      "text/html": [
       "<style>\n",
       ".list-inline {list-style: none; margin:0; padding: 0}\n",
       ".list-inline>li {display: inline-block}\n",
       ".list-inline>li:not(:last-child)::after {content: \"\\00b7\"; padding: 0 .5ex}\n",
       "</style>\n",
       "<ol class=list-inline><li>2</li><li>3</li><li>&lt;NA&gt;</li><li>4</li><li>5</li></ol>\n"
      ],
      "text/plain": [
       "[1]  2  3 NA  4  5"
      ]
     },
     "metadata": {},
     "output_type": "display_data"
    }
   ],
   "source": [
    "x+1"
   ]
  },
  {
   "cell_type": "code",
   "execution_count": 26,
   "id": "219da619-88ed-4201-b3d0-49d46d37f050",
   "metadata": {},
   "outputs": [
    {
     "data": {
      "text/html": [
       "<style>\n",
       ".list-inline {list-style: none; margin:0; padding: 0}\n",
       ".list-inline>li {display: inline-block}\n",
       ".list-inline>li:not(:last-child)::after {content: \"\\00b7\"; padding: 0 .5ex}\n",
       "</style>\n",
       "<ol class=list-inline><li>1</li><li>4</li><li>&lt;NA&gt;</li><li>9</li><li>16</li></ol>\n"
      ],
      "text/plain": [
       "[1]  1  4 NA  9 16"
      ]
     },
     "metadata": {},
     "output_type": "display_data"
    }
   ],
   "source": [
    "x**2"
   ]
  },
  {
   "cell_type": "markdown",
   "id": "7d02436e-c54b-4010-85a0-b5d2cf07dd3f",
   "metadata": {},
   "source": [
    "- 개별연산이 아닌 연산은 불가능하다."
   ]
  },
  {
   "cell_type": "markdown",
   "id": "bd3c34aa-1757-4594-8846-21e2d2d8df2a",
   "metadata": {},
   "source": [
    "- 예를 들면 평균연산"
   ]
  },
  {
   "cell_type": "code",
   "execution_count": 27,
   "id": "f2b04717-1c86-4b89-8eed-e4cabe7ec1dc",
   "metadata": {},
   "outputs": [
    {
     "data": {
      "text/html": [
       "&lt;NA&gt;"
      ],
      "text/plain": [
       "[1] NA"
      ]
     },
     "metadata": {},
     "output_type": "display_data"
    }
   ],
   "source": [
    "mean(x)"
   ]
  },
  {
   "cell_type": "code",
   "execution_count": 28,
   "id": "e44bb82a-d329-4cc0-b481-7daced7cd1ec",
   "metadata": {},
   "outputs": [
    {
     "data": {
      "text/html": [
       "&lt;NA&gt;"
      ],
      "text/plain": [
       "[1] NA"
      ]
     },
     "metadata": {},
     "output_type": "display_data"
    }
   ],
   "source": [
    "sum(x)"
   ]
  },
  {
   "cell_type": "code",
   "execution_count": 29,
   "id": "1fdd14fb-20e8-4b24-9f6e-ffc28cbacffc",
   "metadata": {},
   "outputs": [
    {
     "data": {
      "text/html": [
       "&lt;NA&gt;"
      ],
      "text/plain": [
       "[1] NA"
      ]
     },
     "metadata": {},
     "output_type": "display_data"
    }
   ],
   "source": [
    "max(x)"
   ]
  },
  {
   "cell_type": "markdown",
   "id": "2e8da8ad-9824-41b3-b307-e4aa95a2f9a3",
   "metadata": {},
   "source": [
    "### na.rm=TRUE"
   ]
  },
  {
   "cell_type": "markdown",
   "id": "119313fb-b004-42bd-abcd-c37b9df6d726",
   "metadata": {},
   "source": [
    "- 개별연산이 아닌 연산에도 사용하고 싶다면 `na.rm=TRUE` 옵션을 사용한다."
   ]
  },
  {
   "cell_type": "markdown",
   "id": "d27e891f-aa6a-4c1a-b353-9ea0c1df96d6",
   "metadata": {},
   "source": [
    "- `na.rm=TRUE` 옵션을 주면 `NA`를 제외하고 연산한다."
   ]
  },
  {
   "cell_type": "code",
   "execution_count": 30,
   "id": "2219a4d8-01bb-4e33-854a-5c3b77965af4",
   "metadata": {},
   "outputs": [
    {
     "data": {
      "text/html": [
       "2.5"
      ],
      "text/plain": [
       "[1] 2.5"
      ]
     },
     "metadata": {},
     "output_type": "display_data"
    }
   ],
   "source": [
    "mean(x, na.rm=TRUE)"
   ]
  },
  {
   "cell_type": "code",
   "execution_count": 31,
   "id": "ef774120-9710-450e-bb4d-9ff10afdd91a",
   "metadata": {},
   "outputs": [
    {
     "data": {
      "text/html": [
       "4"
      ],
      "text/plain": [
       "[1] 4"
      ]
     },
     "metadata": {},
     "output_type": "display_data"
    }
   ],
   "source": [
    "max(x, na.rm=TRUE)"
   ]
  },
  {
   "cell_type": "code",
   "execution_count": 32,
   "id": "50eab447-3824-4634-8b66-58e32fefe00c",
   "metadata": {},
   "outputs": [
    {
     "data": {
      "text/html": [
       "<table class=\"dataframe\">\n",
       "<caption>A tibble: 5 × 2</caption>\n",
       "<thead>\n",
       "\t<tr><th scope=col>x</th><th scope=col>y</th></tr>\n",
       "\t<tr><th scope=col>&lt;dbl&gt;</th><th scope=col>&lt;dbl&gt;</th></tr>\n",
       "</thead>\n",
       "<tbody>\n",
       "\t<tr><td> 1</td><td> 2</td></tr>\n",
       "\t<tr><td> 2</td><td> 3</td></tr>\n",
       "\t<tr><td>NA</td><td>NA</td></tr>\n",
       "\t<tr><td> 3</td><td> 4</td></tr>\n",
       "\t<tr><td> 4</td><td> 5</td></tr>\n",
       "</tbody>\n",
       "</table>\n"
      ],
      "text/plain": [
       "  x  y \n",
       "1  1  2\n",
       "2  2  3\n",
       "3 NA NA\n",
       "4  3  4\n",
       "5  4  5"
      ]
     },
     "metadata": {},
     "output_type": "display_data"
    }
   ],
   "source": [
    "tibble(x) %>% mutate(y = x+1)"
   ]
  },
  {
   "cell_type": "code",
   "execution_count": 33,
   "id": "8b9b01a5-fd03-4a89-a042-985f19a2f0e3",
   "metadata": {},
   "outputs": [
    {
     "data": {
      "text/html": [
       "<table class=\"dataframe\">\n",
       "<caption>A tibble: 5 × 2</caption>\n",
       "<thead>\n",
       "\t<tr><th scope=col>x</th><th scope=col>z</th></tr>\n",
       "\t<tr><th scope=col>&lt;dbl&gt;</th><th scope=col>&lt;dbl&gt;</th></tr>\n",
       "</thead>\n",
       "<tbody>\n",
       "\t<tr><td> 1</td><td>NA</td></tr>\n",
       "\t<tr><td> 2</td><td>NA</td></tr>\n",
       "\t<tr><td>NA</td><td>NA</td></tr>\n",
       "\t<tr><td> 3</td><td>NA</td></tr>\n",
       "\t<tr><td> 4</td><td>NA</td></tr>\n",
       "</tbody>\n",
       "</table>\n"
      ],
      "text/plain": [
       "  x  z \n",
       "1  1 NA\n",
       "2  2 NA\n",
       "3 NA NA\n",
       "4  3 NA\n",
       "5  4 NA"
      ]
     },
     "metadata": {},
     "output_type": "display_data"
    }
   ],
   "source": [
    "tibble(x) %>% mutate(z=mean(x))"
   ]
  },
  {
   "cell_type": "code",
   "execution_count": 34,
   "id": "2495c11d-bec2-4b77-a305-1e4d8331714a",
   "metadata": {},
   "outputs": [
    {
     "data": {
      "text/html": [
       "<table class=\"dataframe\">\n",
       "<caption>A tibble: 1 × 1</caption>\n",
       "<thead>\n",
       "\t<tr><th scope=col>z</th></tr>\n",
       "\t<tr><th scope=col>&lt;dbl&gt;</th></tr>\n",
       "</thead>\n",
       "<tbody>\n",
       "\t<tr><td>NA</td></tr>\n",
       "</tbody>\n",
       "</table>\n"
      ],
      "text/plain": [
       "  z \n",
       "1 NA"
      ]
     },
     "metadata": {},
     "output_type": "display_data"
    }
   ],
   "source": [
    "tibble(x) %>% summarise(z=mean(x))"
   ]
  },
  {
   "cell_type": "code",
   "execution_count": 35,
   "id": "48120ef9-d62c-4e5c-9843-4b59043ab190",
   "metadata": {},
   "outputs": [
    {
     "data": {
      "text/html": [
       "<table class=\"dataframe\">\n",
       "<caption>A tibble: 1 × 1</caption>\n",
       "<thead>\n",
       "\t<tr><th scope=col>z</th></tr>\n",
       "\t<tr><th scope=col>&lt;dbl&gt;</th></tr>\n",
       "</thead>\n",
       "<tbody>\n",
       "\t<tr><td>2.5</td></tr>\n",
       "</tbody>\n",
       "</table>\n"
      ],
      "text/plain": [
       "  z  \n",
       "1 2.5"
      ]
     },
     "metadata": {},
     "output_type": "display_data"
    }
   ],
   "source": [
    "tibble(x) %>% summarise(z=mean(x, na.rm=TRUE))"
   ]
  },
  {
   "cell_type": "code",
   "execution_count": 36,
   "id": "f7e347fb-862b-41d9-b343-f00d2d3c496d",
   "metadata": {},
   "outputs": [
    {
     "data": {
      "text/html": [
       "<table class=\"dataframe\">\n",
       "<caption>A tibble: 8 × 2</caption>\n",
       "<thead>\n",
       "\t<tr><th scope=col>x</th><th scope=col>y</th></tr>\n",
       "\t<tr><th scope=col>&lt;dbl&gt;</th><th scope=col>&lt;dbl&gt;</th></tr>\n",
       "</thead>\n",
       "<tbody>\n",
       "\t<tr><td> 1</td><td>-1</td></tr>\n",
       "\t<tr><td> 2</td><td>-2</td></tr>\n",
       "\t<tr><td> 3</td><td>-3</td></tr>\n",
       "\t<tr><td> 4</td><td>-4</td></tr>\n",
       "\t<tr><td>NA</td><td>77</td></tr>\n",
       "\t<tr><td> 5</td><td>-5</td></tr>\n",
       "\t<tr><td> 6</td><td>-6</td></tr>\n",
       "\t<tr><td> 7</td><td>-7</td></tr>\n",
       "</tbody>\n",
       "</table>\n"
      ],
      "text/plain": [
       "  x  y \n",
       "1  1 -1\n",
       "2  2 -2\n",
       "3  3 -3\n",
       "4  4 -4\n",
       "5 NA 77\n",
       "6  5 -5\n",
       "7  6 -6\n",
       "8  7 -7"
      ]
     },
     "metadata": {},
     "output_type": "display_data"
    }
   ],
   "source": [
    "x = c(1,2,3,4,NA,5,6,7)\n",
    "y = c(-1,-2,-3,-4,77,-5,-6,-7)\n",
    "tibble(x,y)"
   ]
  },
  {
   "cell_type": "markdown",
   "id": "15318301-acb5-4175-b26d-7fea2fd951db",
   "metadata": {},
   "source": [
    "### is.na()"
   ]
  },
  {
   "cell_type": "code",
   "execution_count": 37,
   "id": "bb004c2f-4cd3-4376-8e24-b8d05f7a01a3",
   "metadata": {},
   "outputs": [
    {
     "data": {
      "text/html": [
       "<table class=\"dataframe\">\n",
       "<caption>A tibble: 3 × 2</caption>\n",
       "<thead>\n",
       "\t<tr><th scope=col>x</th><th scope=col>y</th></tr>\n",
       "\t<tr><th scope=col>&lt;dbl&gt;</th><th scope=col>&lt;dbl&gt;</th></tr>\n",
       "</thead>\n",
       "<tbody>\n",
       "\t<tr><td>4</td><td>-4</td></tr>\n",
       "\t<tr><td>5</td><td>-5</td></tr>\n",
       "\t<tr><td>6</td><td>-6</td></tr>\n",
       "</tbody>\n",
       "</table>\n"
      ],
      "text/plain": [
       "  x y \n",
       "1 4 -4\n",
       "2 5 -5\n",
       "3 6 -6"
      ]
     },
     "metadata": {},
     "output_type": "display_data"
    }
   ],
   "source": [
    "tibble(x,y) %>% filter(x>3&x<7)"
   ]
  },
  {
   "cell_type": "code",
   "execution_count": 38,
   "id": "56124307-095b-47b5-9319-ed186917b528",
   "metadata": {},
   "outputs": [
    {
     "data": {
      "text/html": [
       "<table class=\"dataframe\">\n",
       "<caption>A tibble: 2 × 2</caption>\n",
       "<thead>\n",
       "\t<tr><th scope=col>x</th><th scope=col>y</th></tr>\n",
       "\t<tr><th scope=col>&lt;dbl&gt;</th><th scope=col>&lt;dbl&gt;</th></tr>\n",
       "</thead>\n",
       "<tbody>\n",
       "\t<tr><td>1</td><td>-1</td></tr>\n",
       "\t<tr><td>2</td><td>-2</td></tr>\n",
       "</tbody>\n",
       "</table>\n"
      ],
      "text/plain": [
       "  x y \n",
       "1 1 -1\n",
       "2 2 -2"
      ]
     },
     "metadata": {},
     "output_type": "display_data"
    }
   ],
   "source": [
    "tibble(x,y) %>% filter(x<3|x>7)"
   ]
  },
  {
   "cell_type": "markdown",
   "id": "f19f4d09-2062-42a8-9d44-8d7913e2bb4c",
   "metadata": {},
   "source": [
    "- NA는 실수가 아니기에 그냥 사라져 버린다."
   ]
  },
  {
   "cell_type": "markdown",
   "id": "7cefa24e-62a6-45f8-a25a-eeb19db5abb1",
   "metadata": {},
   "source": [
    "- 조금 억울한데?"
   ]
  },
  {
   "cell_type": "markdown",
   "id": "07256daf-5611-4af3-86f9-360e6fc496c6",
   "metadata": {},
   "source": [
    "- `is.na`를 사용하면 `NA`가 `TRUE`로 처리된다."
   ]
  },
  {
   "cell_type": "code",
   "execution_count": 39,
   "id": "d80ba1c3-e92c-40bb-8349-09912fd6aac3",
   "metadata": {},
   "outputs": [
    {
     "data": {
      "text/html": [
       "<style>\n",
       ".list-inline {list-style: none; margin:0; padding: 0}\n",
       ".list-inline>li {display: inline-block}\n",
       ".list-inline>li:not(:last-child)::after {content: \"\\00b7\"; padding: 0 .5ex}\n",
       "</style>\n",
       "<ol class=list-inline><li>1</li><li>2</li><li>3</li><li>4</li><li>&lt;NA&gt;</li><li>5</li><li>6</li><li>7</li></ol>\n"
      ],
      "text/plain": [
       "[1]  1  2  3  4 NA  5  6  7"
      ]
     },
     "metadata": {},
     "output_type": "display_data"
    }
   ],
   "source": [
    "x"
   ]
  },
  {
   "cell_type": "code",
   "execution_count": 40,
   "id": "be376d98-e516-47b4-b047-2eeb215c6e84",
   "metadata": {},
   "outputs": [
    {
     "data": {
      "text/html": [
       "<style>\n",
       ".list-inline {list-style: none; margin:0; padding: 0}\n",
       ".list-inline>li {display: inline-block}\n",
       ".list-inline>li:not(:last-child)::after {content: \"\\00b7\"; padding: 0 .5ex}\n",
       "</style>\n",
       "<ol class=list-inline><li>FALSE</li><li>FALSE</li><li>FALSE</li><li>FALSE</li><li>TRUE</li><li>FALSE</li><li>FALSE</li><li>FALSE</li></ol>\n"
      ],
      "text/plain": [
       "[1] FALSE FALSE FALSE FALSE  TRUE FALSE FALSE FALSE"
      ]
     },
     "metadata": {},
     "output_type": "display_data"
    }
   ],
   "source": [
    "is.na(x)"
   ]
  },
  {
   "cell_type": "code",
   "execution_count": 41,
   "id": "ea3dd86f-9532-4b52-9a2a-37ba68e2af9f",
   "metadata": {},
   "outputs": [
    {
     "data": {
      "text/html": [
       "<table class=\"dataframe\">\n",
       "<caption>A tibble: 4 × 2</caption>\n",
       "<thead>\n",
       "\t<tr><th scope=col>x</th><th scope=col>y</th></tr>\n",
       "\t<tr><th scope=col>&lt;dbl&gt;</th><th scope=col>&lt;dbl&gt;</th></tr>\n",
       "</thead>\n",
       "<tbody>\n",
       "\t<tr><td> 4</td><td>-4</td></tr>\n",
       "\t<tr><td>NA</td><td>77</td></tr>\n",
       "\t<tr><td> 5</td><td>-5</td></tr>\n",
       "\t<tr><td> 6</td><td>-6</td></tr>\n",
       "</tbody>\n",
       "</table>\n"
      ],
      "text/plain": [
       "  x  y \n",
       "1  4 -4\n",
       "2 NA 77\n",
       "3  5 -5\n",
       "4  6 -6"
      ]
     },
     "metadata": {},
     "output_type": "display_data"
    }
   ],
   "source": [
    "tibble(x,y) %>% filter(is.na(x) | (x>3&x<7))"
   ]
  },
  {
   "cell_type": "markdown",
   "id": "10f6d0cc-8c24-43d5-ac94-274809bfb468",
   "metadata": {},
   "source": [
    "# Application"
   ]
  },
  {
   "cell_type": "code",
   "execution_count": 42,
   "id": "6e7fe22a-e858-4113-bb9a-95be5619bc73",
   "metadata": {},
   "outputs": [
    {
     "name": "stdout",
     "output_type": "stream",
     "text": [
      "package 'nycflights13' successfully unpacked and MD5 sums checked\n",
      "\n",
      "The downloaded binary packages are in\n",
      "\tC:\\Users\\user\\AppData\\Local\\Temp\\Rtmp2LjT0v\\downloaded_packages\n"
     ]
    }
   ],
   "source": [
    "install.packages(\"nycflights13\")"
   ]
  },
  {
   "cell_type": "code",
   "execution_count": 43,
   "id": "288c72a6-a0b5-4f0d-adb7-ad961d3df990",
   "metadata": {},
   "outputs": [],
   "source": [
    "library(nycflights13)"
   ]
  },
  {
   "cell_type": "code",
   "execution_count": 44,
   "id": "ec592ec2-03bf-4e6d-91da-92f3f09946bb",
   "metadata": {},
   "outputs": [
    {
     "data": {
      "text/html": [
       "<table class=\"dataframe\">\n",
       "<caption>A tibble: 336776 × 19</caption>\n",
       "<thead>\n",
       "\t<tr><th scope=col>year</th><th scope=col>month</th><th scope=col>day</th><th scope=col>dep_time</th><th scope=col>sched_dep_time</th><th scope=col>dep_delay</th><th scope=col>arr_time</th><th scope=col>sched_arr_time</th><th scope=col>arr_delay</th><th scope=col>carrier</th><th scope=col>flight</th><th scope=col>tailnum</th><th scope=col>origin</th><th scope=col>dest</th><th scope=col>air_time</th><th scope=col>distance</th><th scope=col>hour</th><th scope=col>minute</th><th scope=col>time_hour</th></tr>\n",
       "\t<tr><th scope=col>&lt;int&gt;</th><th scope=col>&lt;int&gt;</th><th scope=col>&lt;int&gt;</th><th scope=col>&lt;int&gt;</th><th scope=col>&lt;int&gt;</th><th scope=col>&lt;dbl&gt;</th><th scope=col>&lt;int&gt;</th><th scope=col>&lt;int&gt;</th><th scope=col>&lt;dbl&gt;</th><th scope=col>&lt;chr&gt;</th><th scope=col>&lt;int&gt;</th><th scope=col>&lt;chr&gt;</th><th scope=col>&lt;chr&gt;</th><th scope=col>&lt;chr&gt;</th><th scope=col>&lt;dbl&gt;</th><th scope=col>&lt;dbl&gt;</th><th scope=col>&lt;dbl&gt;</th><th scope=col>&lt;dbl&gt;</th><th scope=col>&lt;dttm&gt;</th></tr>\n",
       "</thead>\n",
       "<tbody>\n",
       "\t<tr><td>2013</td><td>1</td><td>1</td><td>517</td><td>515</td><td> 2</td><td> 830</td><td> 819</td><td> 11</td><td>UA</td><td>1545</td><td>N14228</td><td>EWR</td><td>IAH</td><td>227</td><td>1400</td><td>5</td><td>15</td><td>2013-01-01 05:00:00</td></tr>\n",
       "\t<tr><td>2013</td><td>1</td><td>1</td><td>533</td><td>529</td><td> 4</td><td> 850</td><td> 830</td><td> 20</td><td>UA</td><td>1714</td><td>N24211</td><td>LGA</td><td>IAH</td><td>227</td><td>1416</td><td>5</td><td>29</td><td>2013-01-01 05:00:00</td></tr>\n",
       "\t<tr><td>2013</td><td>1</td><td>1</td><td>542</td><td>540</td><td> 2</td><td> 923</td><td> 850</td><td> 33</td><td>AA</td><td>1141</td><td>N619AA</td><td>JFK</td><td>MIA</td><td>160</td><td>1089</td><td>5</td><td>40</td><td>2013-01-01 05:00:00</td></tr>\n",
       "\t<tr><td>2013</td><td>1</td><td>1</td><td>544</td><td>545</td><td>-1</td><td>1004</td><td>1022</td><td>-18</td><td>B6</td><td> 725</td><td>N804JB</td><td>JFK</td><td>BQN</td><td>183</td><td>1576</td><td>5</td><td>45</td><td>2013-01-01 05:00:00</td></tr>\n",
       "\t<tr><td>2013</td><td>1</td><td>1</td><td>554</td><td>600</td><td>-6</td><td> 812</td><td> 837</td><td>-25</td><td>DL</td><td> 461</td><td>N668DN</td><td>LGA</td><td>ATL</td><td>116</td><td> 762</td><td>6</td><td> 0</td><td>2013-01-01 06:00:00</td></tr>\n",
       "\t<tr><td>2013</td><td>1</td><td>1</td><td>554</td><td>558</td><td>-4</td><td> 740</td><td> 728</td><td> 12</td><td>UA</td><td>1696</td><td>N39463</td><td>EWR</td><td>ORD</td><td>150</td><td> 719</td><td>5</td><td>58</td><td>2013-01-01 05:00:00</td></tr>\n",
       "\t<tr><td>2013</td><td>1</td><td>1</td><td>555</td><td>600</td><td>-5</td><td> 913</td><td> 854</td><td> 19</td><td>B6</td><td> 507</td><td>N516JB</td><td>EWR</td><td>FLL</td><td>158</td><td>1065</td><td>6</td><td> 0</td><td>2013-01-01 06:00:00</td></tr>\n",
       "\t<tr><td>2013</td><td>1</td><td>1</td><td>557</td><td>600</td><td>-3</td><td> 709</td><td> 723</td><td>-14</td><td>EV</td><td>5708</td><td>N829AS</td><td>LGA</td><td>IAD</td><td> 53</td><td> 229</td><td>6</td><td> 0</td><td>2013-01-01 06:00:00</td></tr>\n",
       "\t<tr><td>2013</td><td>1</td><td>1</td><td>557</td><td>600</td><td>-3</td><td> 838</td><td> 846</td><td> -8</td><td>B6</td><td>  79</td><td>N593JB</td><td>JFK</td><td>MCO</td><td>140</td><td> 944</td><td>6</td><td> 0</td><td>2013-01-01 06:00:00</td></tr>\n",
       "\t<tr><td>2013</td><td>1</td><td>1</td><td>558</td><td>600</td><td>-2</td><td> 753</td><td> 745</td><td>  8</td><td>AA</td><td> 301</td><td>N3ALAA</td><td>LGA</td><td>ORD</td><td>138</td><td> 733</td><td>6</td><td> 0</td><td>2013-01-01 06:00:00</td></tr>\n",
       "\t<tr><td>2013</td><td>1</td><td>1</td><td>558</td><td>600</td><td>-2</td><td> 849</td><td> 851</td><td> -2</td><td>B6</td><td>  49</td><td>N793JB</td><td>JFK</td><td>PBI</td><td>149</td><td>1028</td><td>6</td><td> 0</td><td>2013-01-01 06:00:00</td></tr>\n",
       "\t<tr><td>2013</td><td>1</td><td>1</td><td>558</td><td>600</td><td>-2</td><td> 853</td><td> 856</td><td> -3</td><td>B6</td><td>  71</td><td>N657JB</td><td>JFK</td><td>TPA</td><td>158</td><td>1005</td><td>6</td><td> 0</td><td>2013-01-01 06:00:00</td></tr>\n",
       "\t<tr><td>2013</td><td>1</td><td>1</td><td>558</td><td>600</td><td>-2</td><td> 924</td><td> 917</td><td>  7</td><td>UA</td><td> 194</td><td>N29129</td><td>JFK</td><td>LAX</td><td>345</td><td>2475</td><td>6</td><td> 0</td><td>2013-01-01 06:00:00</td></tr>\n",
       "\t<tr><td>2013</td><td>1</td><td>1</td><td>558</td><td>600</td><td>-2</td><td> 923</td><td> 937</td><td>-14</td><td>UA</td><td>1124</td><td>N53441</td><td>EWR</td><td>SFO</td><td>361</td><td>2565</td><td>6</td><td> 0</td><td>2013-01-01 06:00:00</td></tr>\n",
       "\t<tr><td>2013</td><td>1</td><td>1</td><td>559</td><td>600</td><td>-1</td><td> 941</td><td> 910</td><td> 31</td><td>AA</td><td> 707</td><td>N3DUAA</td><td>LGA</td><td>DFW</td><td>257</td><td>1389</td><td>6</td><td> 0</td><td>2013-01-01 06:00:00</td></tr>\n",
       "\t<tr><td>2013</td><td>1</td><td>1</td><td>559</td><td>559</td><td> 0</td><td> 702</td><td> 706</td><td> -4</td><td>B6</td><td>1806</td><td>N708JB</td><td>JFK</td><td>BOS</td><td> 44</td><td> 187</td><td>5</td><td>59</td><td>2013-01-01 05:00:00</td></tr>\n",
       "\t<tr><td>2013</td><td>1</td><td>1</td><td>559</td><td>600</td><td>-1</td><td> 854</td><td> 902</td><td> -8</td><td>UA</td><td>1187</td><td>N76515</td><td>EWR</td><td>LAS</td><td>337</td><td>2227</td><td>6</td><td> 0</td><td>2013-01-01 06:00:00</td></tr>\n",
       "\t<tr><td>2013</td><td>1</td><td>1</td><td>600</td><td>600</td><td> 0</td><td> 851</td><td> 858</td><td> -7</td><td>B6</td><td> 371</td><td>N595JB</td><td>LGA</td><td>FLL</td><td>152</td><td>1076</td><td>6</td><td> 0</td><td>2013-01-01 06:00:00</td></tr>\n",
       "\t<tr><td>2013</td><td>1</td><td>1</td><td>600</td><td>600</td><td> 0</td><td> 837</td><td> 825</td><td> 12</td><td>MQ</td><td>4650</td><td>N542MQ</td><td>LGA</td><td>ATL</td><td>134</td><td> 762</td><td>6</td><td> 0</td><td>2013-01-01 06:00:00</td></tr>\n",
       "\t<tr><td>2013</td><td>1</td><td>1</td><td>601</td><td>600</td><td> 1</td><td> 844</td><td> 850</td><td> -6</td><td>B6</td><td> 343</td><td>N644JB</td><td>EWR</td><td>PBI</td><td>147</td><td>1023</td><td>6</td><td> 0</td><td>2013-01-01 06:00:00</td></tr>\n",
       "\t<tr><td>2013</td><td>1</td><td>1</td><td>602</td><td>610</td><td>-8</td><td> 812</td><td> 820</td><td> -8</td><td>DL</td><td>1919</td><td>N971DL</td><td>LGA</td><td>MSP</td><td>170</td><td>1020</td><td>6</td><td>10</td><td>2013-01-01 06:00:00</td></tr>\n",
       "\t<tr><td>2013</td><td>1</td><td>1</td><td>602</td><td>605</td><td>-3</td><td> 821</td><td> 805</td><td> 16</td><td>MQ</td><td>4401</td><td>N730MQ</td><td>LGA</td><td>DTW</td><td>105</td><td> 502</td><td>6</td><td> 5</td><td>2013-01-01 06:00:00</td></tr>\n",
       "\t<tr><td>2013</td><td>1</td><td>1</td><td>606</td><td>610</td><td>-4</td><td> 858</td><td> 910</td><td>-12</td><td>AA</td><td>1895</td><td>N633AA</td><td>EWR</td><td>MIA</td><td>152</td><td>1085</td><td>6</td><td>10</td><td>2013-01-01 06:00:00</td></tr>\n",
       "\t<tr><td>2013</td><td>1</td><td>1</td><td>606</td><td>610</td><td>-4</td><td> 837</td><td> 845</td><td> -8</td><td>DL</td><td>1743</td><td>N3739P</td><td>JFK</td><td>ATL</td><td>128</td><td> 760</td><td>6</td><td>10</td><td>2013-01-01 06:00:00</td></tr>\n",
       "\t<tr><td>2013</td><td>1</td><td>1</td><td>607</td><td>607</td><td> 0</td><td> 858</td><td> 915</td><td>-17</td><td>UA</td><td>1077</td><td>N53442</td><td>EWR</td><td>MIA</td><td>157</td><td>1085</td><td>6</td><td> 7</td><td>2013-01-01 06:00:00</td></tr>\n",
       "\t<tr><td>2013</td><td>1</td><td>1</td><td>608</td><td>600</td><td> 8</td><td> 807</td><td> 735</td><td> 32</td><td>MQ</td><td>3768</td><td>N9EAMQ</td><td>EWR</td><td>ORD</td><td>139</td><td> 719</td><td>6</td><td> 0</td><td>2013-01-01 06:00:00</td></tr>\n",
       "\t<tr><td>2013</td><td>1</td><td>1</td><td>611</td><td>600</td><td>11</td><td> 945</td><td> 931</td><td> 14</td><td>UA</td><td> 303</td><td>N532UA</td><td>JFK</td><td>SFO</td><td>366</td><td>2586</td><td>6</td><td> 0</td><td>2013-01-01 06:00:00</td></tr>\n",
       "\t<tr><td>2013</td><td>1</td><td>1</td><td>613</td><td>610</td><td> 3</td><td> 925</td><td> 921</td><td>  4</td><td>B6</td><td> 135</td><td>N635JB</td><td>JFK</td><td>RSW</td><td>175</td><td>1074</td><td>6</td><td>10</td><td>2013-01-01 06:00:00</td></tr>\n",
       "\t<tr><td>2013</td><td>1</td><td>1</td><td>615</td><td>615</td><td> 0</td><td>1039</td><td>1100</td><td>-21</td><td>B6</td><td> 709</td><td>N794JB</td><td>JFK</td><td>SJU</td><td>182</td><td>1598</td><td>6</td><td>15</td><td>2013-01-01 06:00:00</td></tr>\n",
       "\t<tr><td>2013</td><td>1</td><td>1</td><td>615</td><td>615</td><td> 0</td><td> 833</td><td> 842</td><td> -9</td><td>DL</td><td> 575</td><td>N326NB</td><td>EWR</td><td>ATL</td><td>120</td><td> 746</td><td>6</td><td>15</td><td>2013-01-01 06:00:00</td></tr>\n",
       "\t<tr><td>⋮</td><td>⋮</td><td>⋮</td><td>⋮</td><td>⋮</td><td>⋮</td><td>⋮</td><td>⋮</td><td>⋮</td><td>⋮</td><td>⋮</td><td>⋮</td><td>⋮</td><td>⋮</td><td>⋮</td><td>⋮</td><td>⋮</td><td>⋮</td><td>⋮</td></tr>\n",
       "\t<tr><td>2013</td><td>9</td><td>30</td><td>2123</td><td>2125</td><td> -2</td><td>2223</td><td>2247</td><td>-24</td><td>EV</td><td>5489</td><td>N712EV</td><td>LGA</td><td>CHO</td><td> 45</td><td> 305</td><td>21</td><td>25</td><td>2013-09-30 21:00:00</td></tr>\n",
       "\t<tr><td>2013</td><td>9</td><td>30</td><td>2127</td><td>2129</td><td> -2</td><td>2314</td><td>2323</td><td> -9</td><td>EV</td><td>3833</td><td>N16546</td><td>EWR</td><td>CLT</td><td> 72</td><td> 529</td><td>21</td><td>29</td><td>2013-09-30 21:00:00</td></tr>\n",
       "\t<tr><td>2013</td><td>9</td><td>30</td><td>2128</td><td>2130</td><td> -2</td><td>2328</td><td>2359</td><td>-31</td><td>B6</td><td>  97</td><td>N807JB</td><td>JFK</td><td>DEN</td><td>213</td><td>1626</td><td>21</td><td>30</td><td>2013-09-30 21:00:00</td></tr>\n",
       "\t<tr><td>2013</td><td>9</td><td>30</td><td>2129</td><td>2059</td><td> 30</td><td>2230</td><td>2232</td><td> -2</td><td>EV</td><td>5048</td><td>N751EV</td><td>LGA</td><td>RIC</td><td> 45</td><td> 292</td><td>20</td><td>59</td><td>2013-09-30 20:00:00</td></tr>\n",
       "\t<tr><td>2013</td><td>9</td><td>30</td><td>2131</td><td>2140</td><td> -9</td><td>2225</td><td>2255</td><td>-30</td><td>MQ</td><td>3621</td><td>N807MQ</td><td>JFK</td><td>DCA</td><td> 36</td><td> 213</td><td>21</td><td>40</td><td>2013-09-30 21:00:00</td></tr>\n",
       "\t<tr><td>2013</td><td>9</td><td>30</td><td>2140</td><td>2140</td><td>  0</td><td>  10</td><td>  40</td><td>-30</td><td>AA</td><td> 185</td><td>N335AA</td><td>JFK</td><td>LAX</td><td>298</td><td>2475</td><td>21</td><td>40</td><td>2013-09-30 21:00:00</td></tr>\n",
       "\t<tr><td>2013</td><td>9</td><td>30</td><td>2142</td><td>2129</td><td> 13</td><td>2250</td><td>2239</td><td> 11</td><td>EV</td><td>4509</td><td>N12957</td><td>EWR</td><td>PWM</td><td> 47</td><td> 284</td><td>21</td><td>29</td><td>2013-09-30 21:00:00</td></tr>\n",
       "\t<tr><td>2013</td><td>9</td><td>30</td><td>2145</td><td>2145</td><td>  0</td><td> 115</td><td> 140</td><td>-25</td><td>B6</td><td>1103</td><td>N633JB</td><td>JFK</td><td>SJU</td><td>192</td><td>1598</td><td>21</td><td>45</td><td>2013-09-30 21:00:00</td></tr>\n",
       "\t<tr><td>2013</td><td>9</td><td>30</td><td>2147</td><td>2137</td><td> 10</td><td>  30</td><td>  27</td><td>  3</td><td>B6</td><td>1371</td><td>N627JB</td><td>LGA</td><td>FLL</td><td>139</td><td>1076</td><td>21</td><td>37</td><td>2013-09-30 21:00:00</td></tr>\n",
       "\t<tr><td>2013</td><td>9</td><td>30</td><td>2149</td><td>2156</td><td> -7</td><td>2245</td><td>2308</td><td>-23</td><td>UA</td><td> 523</td><td>N813UA</td><td>EWR</td><td>BOS</td><td> 37</td><td> 200</td><td>21</td><td>56</td><td>2013-09-30 21:00:00</td></tr>\n",
       "\t<tr><td>2013</td><td>9</td><td>30</td><td>2150</td><td>2159</td><td> -9</td><td>2250</td><td>2306</td><td>-16</td><td>EV</td><td>3842</td><td>N10575</td><td>EWR</td><td>MHT</td><td> 39</td><td> 209</td><td>21</td><td>59</td><td>2013-09-30 21:00:00</td></tr>\n",
       "\t<tr><td>2013</td><td>9</td><td>30</td><td>2159</td><td>1845</td><td>194</td><td>2344</td><td>2030</td><td>194</td><td>9E</td><td>3320</td><td>N906XJ</td><td>JFK</td><td>BUF</td><td> 50</td><td> 301</td><td>18</td><td>45</td><td>2013-09-30 18:00:00</td></tr>\n",
       "\t<tr><td>2013</td><td>9</td><td>30</td><td>2203</td><td>2205</td><td> -2</td><td>2339</td><td>2331</td><td>  8</td><td>EV</td><td>5311</td><td>N722EV</td><td>LGA</td><td>BGR</td><td> 61</td><td> 378</td><td>22</td><td> 5</td><td>2013-09-30 22:00:00</td></tr>\n",
       "\t<tr><td>2013</td><td>9</td><td>30</td><td>2207</td><td>2140</td><td> 27</td><td>2257</td><td>2250</td><td>  7</td><td>MQ</td><td>3660</td><td>N532MQ</td><td>LGA</td><td>BNA</td><td> 97</td><td> 764</td><td>21</td><td>40</td><td>2013-09-30 21:00:00</td></tr>\n",
       "\t<tr><td>2013</td><td>9</td><td>30</td><td>2211</td><td>2059</td><td> 72</td><td>2339</td><td>2242</td><td> 57</td><td>EV</td><td>4672</td><td>N12145</td><td>EWR</td><td>STL</td><td>120</td><td> 872</td><td>20</td><td>59</td><td>2013-09-30 20:00:00</td></tr>\n",
       "\t<tr><td>2013</td><td>9</td><td>30</td><td>2231</td><td>2245</td><td>-14</td><td>2335</td><td>2356</td><td>-21</td><td>B6</td><td> 108</td><td>N193JB</td><td>JFK</td><td>PWM</td><td> 48</td><td> 273</td><td>22</td><td>45</td><td>2013-09-30 22:00:00</td></tr>\n",
       "\t<tr><td>2013</td><td>9</td><td>30</td><td>2233</td><td>2113</td><td> 80</td><td> 112</td><td>  30</td><td> 42</td><td>UA</td><td> 471</td><td>N578UA</td><td>EWR</td><td>SFO</td><td>318</td><td>2565</td><td>21</td><td>13</td><td>2013-09-30 21:00:00</td></tr>\n",
       "\t<tr><td>2013</td><td>9</td><td>30</td><td>2235</td><td>2001</td><td>154</td><td>  59</td><td>2249</td><td>130</td><td>B6</td><td>1083</td><td>N804JB</td><td>JFK</td><td>MCO</td><td>123</td><td> 944</td><td>20</td><td> 1</td><td>2013-09-30 20:00:00</td></tr>\n",
       "\t<tr><td>2013</td><td>9</td><td>30</td><td>2237</td><td>2245</td><td> -8</td><td>2345</td><td>2353</td><td> -8</td><td>B6</td><td> 234</td><td>N318JB</td><td>JFK</td><td>BTV</td><td> 43</td><td> 266</td><td>22</td><td>45</td><td>2013-09-30 22:00:00</td></tr>\n",
       "\t<tr><td>2013</td><td>9</td><td>30</td><td>2240</td><td>2245</td><td> -5</td><td>2334</td><td>2351</td><td>-17</td><td>B6</td><td>1816</td><td>N354JB</td><td>JFK</td><td>SYR</td><td> 41</td><td> 209</td><td>22</td><td>45</td><td>2013-09-30 22:00:00</td></tr>\n",
       "\t<tr><td>2013</td><td>9</td><td>30</td><td>2240</td><td>2250</td><td>-10</td><td>2347</td><td>   7</td><td>-20</td><td>B6</td><td>2002</td><td>N281JB</td><td>JFK</td><td>BUF</td><td> 52</td><td> 301</td><td>22</td><td>50</td><td>2013-09-30 22:00:00</td></tr>\n",
       "\t<tr><td>2013</td><td>9</td><td>30</td><td>2241</td><td>2246</td><td> -5</td><td>2345</td><td>   1</td><td>-16</td><td>B6</td><td> 486</td><td>N346JB</td><td>JFK</td><td>ROC</td><td> 47</td><td> 264</td><td>22</td><td>46</td><td>2013-09-30 22:00:00</td></tr>\n",
       "\t<tr><td>2013</td><td>9</td><td>30</td><td>2307</td><td>2255</td><td> 12</td><td>2359</td><td>2358</td><td>  1</td><td>B6</td><td> 718</td><td>N565JB</td><td>JFK</td><td>BOS</td><td> 33</td><td> 187</td><td>22</td><td>55</td><td>2013-09-30 22:00:00</td></tr>\n",
       "\t<tr><td>2013</td><td>9</td><td>30</td><td>2349</td><td>2359</td><td>-10</td><td> 325</td><td> 350</td><td>-25</td><td>B6</td><td> 745</td><td>N516JB</td><td>JFK</td><td>PSE</td><td>196</td><td>1617</td><td>23</td><td>59</td><td>2013-09-30 23:00:00</td></tr>\n",
       "\t<tr><td>2013</td><td>9</td><td>30</td><td>  NA</td><td>1842</td><td> NA</td><td>  NA</td><td>2019</td><td> NA</td><td>EV</td><td>5274</td><td>N740EV</td><td>LGA</td><td>BNA</td><td> NA</td><td> 764</td><td>18</td><td>42</td><td>2013-09-30 18:00:00</td></tr>\n",
       "\t<tr><td>2013</td><td>9</td><td>30</td><td>  NA</td><td>1455</td><td> NA</td><td>  NA</td><td>1634</td><td> NA</td><td>9E</td><td>3393</td><td>NA    </td><td>JFK</td><td>DCA</td><td> NA</td><td> 213</td><td>14</td><td>55</td><td>2013-09-30 14:00:00</td></tr>\n",
       "\t<tr><td>2013</td><td>9</td><td>30</td><td>  NA</td><td>2200</td><td> NA</td><td>  NA</td><td>2312</td><td> NA</td><td>9E</td><td>3525</td><td>NA    </td><td>LGA</td><td>SYR</td><td> NA</td><td> 198</td><td>22</td><td> 0</td><td>2013-09-30 22:00:00</td></tr>\n",
       "\t<tr><td>2013</td><td>9</td><td>30</td><td>  NA</td><td>1210</td><td> NA</td><td>  NA</td><td>1330</td><td> NA</td><td>MQ</td><td>3461</td><td>N535MQ</td><td>LGA</td><td>BNA</td><td> NA</td><td> 764</td><td>12</td><td>10</td><td>2013-09-30 12:00:00</td></tr>\n",
       "\t<tr><td>2013</td><td>9</td><td>30</td><td>  NA</td><td>1159</td><td> NA</td><td>  NA</td><td>1344</td><td> NA</td><td>MQ</td><td>3572</td><td>N511MQ</td><td>LGA</td><td>CLE</td><td> NA</td><td> 419</td><td>11</td><td>59</td><td>2013-09-30 11:00:00</td></tr>\n",
       "\t<tr><td>2013</td><td>9</td><td>30</td><td>  NA</td><td> 840</td><td> NA</td><td>  NA</td><td>1020</td><td> NA</td><td>MQ</td><td>3531</td><td>N839MQ</td><td>LGA</td><td>RDU</td><td> NA</td><td> 431</td><td> 8</td><td>40</td><td>2013-09-30 08:00:00</td></tr>\n",
       "</tbody>\n",
       "</table>\n"
      ],
      "text/plain": [
       "       year month day dep_time sched_dep_time dep_delay arr_time sched_arr_time\n",
       "1      2013 1     1   517      515             2         830      819          \n",
       "2      2013 1     1   533      529             4         850      830          \n",
       "3      2013 1     1   542      540             2         923      850          \n",
       "4      2013 1     1   544      545            -1        1004     1022          \n",
       "5      2013 1     1   554      600            -6         812      837          \n",
       "6      2013 1     1   554      558            -4         740      728          \n",
       "7      2013 1     1   555      600            -5         913      854          \n",
       "8      2013 1     1   557      600            -3         709      723          \n",
       "9      2013 1     1   557      600            -3         838      846          \n",
       "10     2013 1     1   558      600            -2         753      745          \n",
       "11     2013 1     1   558      600            -2         849      851          \n",
       "12     2013 1     1   558      600            -2         853      856          \n",
       "13     2013 1     1   558      600            -2         924      917          \n",
       "14     2013 1     1   558      600            -2         923      937          \n",
       "15     2013 1     1   559      600            -1         941      910          \n",
       "16     2013 1     1   559      559             0         702      706          \n",
       "17     2013 1     1   559      600            -1         854      902          \n",
       "18     2013 1     1   600      600             0         851      858          \n",
       "19     2013 1     1   600      600             0         837      825          \n",
       "20     2013 1     1   601      600             1         844      850          \n",
       "21     2013 1     1   602      610            -8         812      820          \n",
       "22     2013 1     1   602      605            -3         821      805          \n",
       "23     2013 1     1   606      610            -4         858      910          \n",
       "24     2013 1     1   606      610            -4         837      845          \n",
       "25     2013 1     1   607      607             0         858      915          \n",
       "26     2013 1     1   608      600             8         807      735          \n",
       "27     2013 1     1   611      600            11         945      931          \n",
       "28     2013 1     1   613      610             3         925      921          \n",
       "29     2013 1     1   615      615             0        1039     1100          \n",
       "30     2013 1     1   615      615             0         833      842          \n",
       "<U+22EE>      <U+22EE> <U+22EE> <U+22EE> <U+22EE> <U+22EE>       <U+22EE>  <U+22EE> <U+22EE>      \n",
       "336747 2013 9     30  2123     2125            -2       2223     2247          \n",
       "336748 2013 9     30  2127     2129            -2       2314     2323          \n",
       "336749 2013 9     30  2128     2130            -2       2328     2359          \n",
       "336750 2013 9     30  2129     2059            30       2230     2232          \n",
       "336751 2013 9     30  2131     2140            -9       2225     2255          \n",
       "336752 2013 9     30  2140     2140             0         10       40          \n",
       "336753 2013 9     30  2142     2129            13       2250     2239          \n",
       "336754 2013 9     30  2145     2145             0        115      140          \n",
       "336755 2013 9     30  2147     2137            10         30       27          \n",
       "336756 2013 9     30  2149     2156            -7       2245     2308          \n",
       "336757 2013 9     30  2150     2159            -9       2250     2306          \n",
       "336758 2013 9     30  2159     1845           194       2344     2030          \n",
       "336759 2013 9     30  2203     2205            -2       2339     2331          \n",
       "336760 2013 9     30  2207     2140            27       2257     2250          \n",
       "336761 2013 9     30  2211     2059            72       2339     2242          \n",
       "336762 2013 9     30  2231     2245           -14       2335     2356          \n",
       "336763 2013 9     30  2233     2113            80        112       30          \n",
       "336764 2013 9     30  2235     2001           154         59     2249          \n",
       "336765 2013 9     30  2237     2245            -8       2345     2353          \n",
       "336766 2013 9     30  2240     2245            -5       2334     2351          \n",
       "336767 2013 9     30  2240     2250           -10       2347        7          \n",
       "       arr_delay carrier flight tailnum origin dest air_time distance hour\n",
       "1       11       UA      1545   N14228  EWR    IAH  227      1400     5   \n",
       "2       20       UA      1714   N24211  LGA    IAH  227      1416     5   \n",
       "3       33       AA      1141   N619AA  JFK    MIA  160      1089     5   \n",
       "4      -18       B6       725   N804JB  JFK    BQN  183      1576     5   \n",
       "5      -25       DL       461   N668DN  LGA    ATL  116       762     6   \n",
       "6       12       UA      1696   N39463  EWR    ORD  150       719     5   \n",
       "7       19       B6       507   N516JB  EWR    FLL  158      1065     6   \n",
       "8      -14       EV      5708   N829AS  LGA    IAD   53       229     6   \n",
       "9       -8       B6        79   N593JB  JFK    MCO  140       944     6   \n",
       "10       8       AA       301   N3ALAA  LGA    ORD  138       733     6   \n",
       "11      -2       B6        49   N793JB  JFK    PBI  149      1028     6   \n",
       "12      -3       B6        71   N657JB  JFK    TPA  158      1005     6   \n",
       "13       7       UA       194   N29129  JFK    LAX  345      2475     6   \n",
       "14     -14       UA      1124   N53441  EWR    SFO  361      2565     6   \n",
       "15      31       AA       707   N3DUAA  LGA    DFW  257      1389     6   \n",
       "16      -4       B6      1806   N708JB  JFK    BOS   44       187     5   \n",
       "17      -8       UA      1187   N76515  EWR    LAS  337      2227     6   \n",
       "18      -7       B6       371   N595JB  LGA    FLL  152      1076     6   \n",
       "19      12       MQ      4650   N542MQ  LGA    ATL  134       762     6   \n",
       "20      -6       B6       343   N644JB  EWR    PBI  147      1023     6   \n",
       "21      -8       DL      1919   N971DL  LGA    MSP  170      1020     6   \n",
       "22      16       MQ      4401   N730MQ  LGA    DTW  105       502     6   \n",
       "23     -12       AA      1895   N633AA  EWR    MIA  152      1085     6   \n",
       "24      -8       DL      1743   N3739P  JFK    ATL  128       760     6   \n",
       "25     -17       UA      1077   N53442  EWR    MIA  157      1085     6   \n",
       "26      32       MQ      3768   N9EAMQ  EWR    ORD  139       719     6   \n",
       "27      14       UA       303   N532UA  JFK    SFO  366      2586     6   \n",
       "28       4       B6       135   N635JB  JFK    RSW  175      1074     6   \n",
       "29     -21       B6       709   N794JB  JFK    SJU  182      1598     6   \n",
       "30      -9       DL       575   N326NB  EWR    ATL  120       746     6   \n",
       "<U+22EE>      <U+22EE>  <U+22EE> <U+22EE> <U+22EE> <U+22EE> <U+22EE> <U+22EE> <U+22EE> <U+22EE>\n",
       "336747 -24       EV      5489   N712EV  LGA    CHO   45       305     21  \n",
       "336748  -9       EV      3833   N16546  EWR    CLT   72       529     21  \n",
       "336749 -31       B6        97   N807JB  JFK    DEN  213      1626     21  \n",
       "336750  -2       EV      5048   N751EV  LGA    RIC   45       292     20  \n",
       "336751 -30       MQ      3621   N807MQ  JFK    DCA   36       213     21  \n",
       "336752 -30       AA       185   N335AA  JFK    LAX  298      2475     21  \n",
       "336753  11       EV      4509   N12957  EWR    PWM   47       284     21  \n",
       "336754 -25       B6      1103   N633JB  JFK    SJU  192      1598     21  \n",
       "336755   3       B6      1371   N627JB  LGA    FLL  139      1076     21  \n",
       "336756 -23       UA       523   N813UA  EWR    BOS   37       200     21  \n",
       "336757 -16       EV      3842   N10575  EWR    MHT   39       209     21  \n",
       "336758 194       9E      3320   N906XJ  JFK    BUF   50       301     18  \n",
       "336759   8       EV      5311   N722EV  LGA    BGR   61       378     22  \n",
       "336760   7       MQ      3660   N532MQ  LGA    BNA   97       764     21  \n",
       "336761  57       EV      4672   N12145  EWR    STL  120       872     20  \n",
       "336762 -21       B6       108   N193JB  JFK    PWM   48       273     22  \n",
       "336763  42       UA       471   N578UA  EWR    SFO  318      2565     21  \n",
       "336764 130       B6      1083   N804JB  JFK    MCO  123       944     20  \n",
       "336765  -8       B6       234   N318JB  JFK    BTV   43       266     22  \n",
       "336766 -17       B6      1816   N354JB  JFK    SYR   41       209     22  \n",
       "336767 -20       B6      2002   N281JB  JFK    BUF   52       301     22  \n",
       "       minute time_hour          \n",
       "1      15     2013-01-01 05:00:00\n",
       "2      29     2013-01-01 05:00:00\n",
       "3      40     2013-01-01 05:00:00\n",
       "4      45     2013-01-01 05:00:00\n",
       "5       0     2013-01-01 06:00:00\n",
       "6      58     2013-01-01 05:00:00\n",
       "7       0     2013-01-01 06:00:00\n",
       "8       0     2013-01-01 06:00:00\n",
       "9       0     2013-01-01 06:00:00\n",
       "10      0     2013-01-01 06:00:00\n",
       "11      0     2013-01-01 06:00:00\n",
       "12      0     2013-01-01 06:00:00\n",
       "13      0     2013-01-01 06:00:00\n",
       "14      0     2013-01-01 06:00:00\n",
       "15      0     2013-01-01 06:00:00\n",
       "16     59     2013-01-01 05:00:00\n",
       "17      0     2013-01-01 06:00:00\n",
       "18      0     2013-01-01 06:00:00\n",
       "19      0     2013-01-01 06:00:00\n",
       "20      0     2013-01-01 06:00:00\n",
       "21     10     2013-01-01 06:00:00\n",
       "22      5     2013-01-01 06:00:00\n",
       "23     10     2013-01-01 06:00:00\n",
       "24     10     2013-01-01 06:00:00\n",
       "25      7     2013-01-01 06:00:00\n",
       "26      0     2013-01-01 06:00:00\n",
       "27      0     2013-01-01 06:00:00\n",
       "28     10     2013-01-01 06:00:00\n",
       "29     15     2013-01-01 06:00:00\n",
       "30     15     2013-01-01 06:00:00\n",
       "<U+22EE>      <U+22EE> <U+22EE>           \n",
       "336747 25     2013-09-30 21:00:00\n",
       "336748 29     2013-09-30 21:00:00\n",
       "336749 30     2013-09-30 21:00:00\n",
       "336750 59     2013-09-30 20:00:00\n",
       "336751 40     2013-09-30 21:00:00\n",
       "336752 40     2013-09-30 21:00:00\n",
       "336753 29     2013-09-30 21:00:00\n",
       "336754 45     2013-09-30 21:00:00\n",
       "336755 37     2013-09-30 21:00:00\n",
       "336756 56     2013-09-30 21:00:00\n",
       "336757 59     2013-09-30 21:00:00\n",
       "336758 45     2013-09-30 18:00:00\n",
       "336759  5     2013-09-30 22:00:00\n",
       "336760 40     2013-09-30 21:00:00\n",
       "336761 59     2013-09-30 20:00:00\n",
       "336762 45     2013-09-30 22:00:00\n",
       "336763 13     2013-09-30 21:00:00\n",
       "336764  1     2013-09-30 20:00:00\n",
       "336765 45     2013-09-30 22:00:00\n",
       "336766 45     2013-09-30 22:00:00\n",
       "336767 50     2013-09-30 22:00:00\n",
       " [ getOption(\"max.print\") 에 도달했습니다 -- 9 행들을 생략합니다 ]"
      ]
     },
     "metadata": {},
     "output_type": "display_data"
    }
   ],
   "source": [
    "df = flights\n",
    "df"
   ]
  },
  {
   "cell_type": "markdown",
   "id": "1671eb4d-2532-4309-8ad8-8dd7a10ebf58",
   "metadata": {},
   "source": [
    "## 1월 1일에 출발하는 항공편을 선택하고 싶다."
   ]
  },
  {
   "cell_type": "code",
   "execution_count": 45,
   "id": "41776268-6d7f-4ed0-a4f1-90b8638f5b93",
   "metadata": {},
   "outputs": [
    {
     "data": {
      "text/html": [
       "<table class=\"dataframe\">\n",
       "<caption>A tibble: 842 × 19</caption>\n",
       "<thead>\n",
       "\t<tr><th scope=col>year</th><th scope=col>month</th><th scope=col>day</th><th scope=col>dep_time</th><th scope=col>sched_dep_time</th><th scope=col>dep_delay</th><th scope=col>arr_time</th><th scope=col>sched_arr_time</th><th scope=col>arr_delay</th><th scope=col>carrier</th><th scope=col>flight</th><th scope=col>tailnum</th><th scope=col>origin</th><th scope=col>dest</th><th scope=col>air_time</th><th scope=col>distance</th><th scope=col>hour</th><th scope=col>minute</th><th scope=col>time_hour</th></tr>\n",
       "\t<tr><th scope=col>&lt;int&gt;</th><th scope=col>&lt;int&gt;</th><th scope=col>&lt;int&gt;</th><th scope=col>&lt;int&gt;</th><th scope=col>&lt;int&gt;</th><th scope=col>&lt;dbl&gt;</th><th scope=col>&lt;int&gt;</th><th scope=col>&lt;int&gt;</th><th scope=col>&lt;dbl&gt;</th><th scope=col>&lt;chr&gt;</th><th scope=col>&lt;int&gt;</th><th scope=col>&lt;chr&gt;</th><th scope=col>&lt;chr&gt;</th><th scope=col>&lt;chr&gt;</th><th scope=col>&lt;dbl&gt;</th><th scope=col>&lt;dbl&gt;</th><th scope=col>&lt;dbl&gt;</th><th scope=col>&lt;dbl&gt;</th><th scope=col>&lt;dttm&gt;</th></tr>\n",
       "</thead>\n",
       "<tbody>\n",
       "\t<tr><td>2013</td><td>1</td><td>1</td><td>517</td><td>515</td><td> 2</td><td> 830</td><td> 819</td><td> 11</td><td>UA</td><td>1545</td><td>N14228</td><td>EWR</td><td>IAH</td><td>227</td><td>1400</td><td>5</td><td>15</td><td>2013-01-01 05:00:00</td></tr>\n",
       "\t<tr><td>2013</td><td>1</td><td>1</td><td>533</td><td>529</td><td> 4</td><td> 850</td><td> 830</td><td> 20</td><td>UA</td><td>1714</td><td>N24211</td><td>LGA</td><td>IAH</td><td>227</td><td>1416</td><td>5</td><td>29</td><td>2013-01-01 05:00:00</td></tr>\n",
       "\t<tr><td>2013</td><td>1</td><td>1</td><td>542</td><td>540</td><td> 2</td><td> 923</td><td> 850</td><td> 33</td><td>AA</td><td>1141</td><td>N619AA</td><td>JFK</td><td>MIA</td><td>160</td><td>1089</td><td>5</td><td>40</td><td>2013-01-01 05:00:00</td></tr>\n",
       "\t<tr><td>2013</td><td>1</td><td>1</td><td>544</td><td>545</td><td>-1</td><td>1004</td><td>1022</td><td>-18</td><td>B6</td><td> 725</td><td>N804JB</td><td>JFK</td><td>BQN</td><td>183</td><td>1576</td><td>5</td><td>45</td><td>2013-01-01 05:00:00</td></tr>\n",
       "\t<tr><td>2013</td><td>1</td><td>1</td><td>554</td><td>600</td><td>-6</td><td> 812</td><td> 837</td><td>-25</td><td>DL</td><td> 461</td><td>N668DN</td><td>LGA</td><td>ATL</td><td>116</td><td> 762</td><td>6</td><td> 0</td><td>2013-01-01 06:00:00</td></tr>\n",
       "\t<tr><td>2013</td><td>1</td><td>1</td><td>554</td><td>558</td><td>-4</td><td> 740</td><td> 728</td><td> 12</td><td>UA</td><td>1696</td><td>N39463</td><td>EWR</td><td>ORD</td><td>150</td><td> 719</td><td>5</td><td>58</td><td>2013-01-01 05:00:00</td></tr>\n",
       "\t<tr><td>2013</td><td>1</td><td>1</td><td>555</td><td>600</td><td>-5</td><td> 913</td><td> 854</td><td> 19</td><td>B6</td><td> 507</td><td>N516JB</td><td>EWR</td><td>FLL</td><td>158</td><td>1065</td><td>6</td><td> 0</td><td>2013-01-01 06:00:00</td></tr>\n",
       "\t<tr><td>2013</td><td>1</td><td>1</td><td>557</td><td>600</td><td>-3</td><td> 709</td><td> 723</td><td>-14</td><td>EV</td><td>5708</td><td>N829AS</td><td>LGA</td><td>IAD</td><td> 53</td><td> 229</td><td>6</td><td> 0</td><td>2013-01-01 06:00:00</td></tr>\n",
       "\t<tr><td>2013</td><td>1</td><td>1</td><td>557</td><td>600</td><td>-3</td><td> 838</td><td> 846</td><td> -8</td><td>B6</td><td>  79</td><td>N593JB</td><td>JFK</td><td>MCO</td><td>140</td><td> 944</td><td>6</td><td> 0</td><td>2013-01-01 06:00:00</td></tr>\n",
       "\t<tr><td>2013</td><td>1</td><td>1</td><td>558</td><td>600</td><td>-2</td><td> 753</td><td> 745</td><td>  8</td><td>AA</td><td> 301</td><td>N3ALAA</td><td>LGA</td><td>ORD</td><td>138</td><td> 733</td><td>6</td><td> 0</td><td>2013-01-01 06:00:00</td></tr>\n",
       "\t<tr><td>2013</td><td>1</td><td>1</td><td>558</td><td>600</td><td>-2</td><td> 849</td><td> 851</td><td> -2</td><td>B6</td><td>  49</td><td>N793JB</td><td>JFK</td><td>PBI</td><td>149</td><td>1028</td><td>6</td><td> 0</td><td>2013-01-01 06:00:00</td></tr>\n",
       "\t<tr><td>2013</td><td>1</td><td>1</td><td>558</td><td>600</td><td>-2</td><td> 853</td><td> 856</td><td> -3</td><td>B6</td><td>  71</td><td>N657JB</td><td>JFK</td><td>TPA</td><td>158</td><td>1005</td><td>6</td><td> 0</td><td>2013-01-01 06:00:00</td></tr>\n",
       "\t<tr><td>2013</td><td>1</td><td>1</td><td>558</td><td>600</td><td>-2</td><td> 924</td><td> 917</td><td>  7</td><td>UA</td><td> 194</td><td>N29129</td><td>JFK</td><td>LAX</td><td>345</td><td>2475</td><td>6</td><td> 0</td><td>2013-01-01 06:00:00</td></tr>\n",
       "\t<tr><td>2013</td><td>1</td><td>1</td><td>558</td><td>600</td><td>-2</td><td> 923</td><td> 937</td><td>-14</td><td>UA</td><td>1124</td><td>N53441</td><td>EWR</td><td>SFO</td><td>361</td><td>2565</td><td>6</td><td> 0</td><td>2013-01-01 06:00:00</td></tr>\n",
       "\t<tr><td>2013</td><td>1</td><td>1</td><td>559</td><td>600</td><td>-1</td><td> 941</td><td> 910</td><td> 31</td><td>AA</td><td> 707</td><td>N3DUAA</td><td>LGA</td><td>DFW</td><td>257</td><td>1389</td><td>6</td><td> 0</td><td>2013-01-01 06:00:00</td></tr>\n",
       "\t<tr><td>2013</td><td>1</td><td>1</td><td>559</td><td>559</td><td> 0</td><td> 702</td><td> 706</td><td> -4</td><td>B6</td><td>1806</td><td>N708JB</td><td>JFK</td><td>BOS</td><td> 44</td><td> 187</td><td>5</td><td>59</td><td>2013-01-01 05:00:00</td></tr>\n",
       "\t<tr><td>2013</td><td>1</td><td>1</td><td>559</td><td>600</td><td>-1</td><td> 854</td><td> 902</td><td> -8</td><td>UA</td><td>1187</td><td>N76515</td><td>EWR</td><td>LAS</td><td>337</td><td>2227</td><td>6</td><td> 0</td><td>2013-01-01 06:00:00</td></tr>\n",
       "\t<tr><td>2013</td><td>1</td><td>1</td><td>600</td><td>600</td><td> 0</td><td> 851</td><td> 858</td><td> -7</td><td>B6</td><td> 371</td><td>N595JB</td><td>LGA</td><td>FLL</td><td>152</td><td>1076</td><td>6</td><td> 0</td><td>2013-01-01 06:00:00</td></tr>\n",
       "\t<tr><td>2013</td><td>1</td><td>1</td><td>600</td><td>600</td><td> 0</td><td> 837</td><td> 825</td><td> 12</td><td>MQ</td><td>4650</td><td>N542MQ</td><td>LGA</td><td>ATL</td><td>134</td><td> 762</td><td>6</td><td> 0</td><td>2013-01-01 06:00:00</td></tr>\n",
       "\t<tr><td>2013</td><td>1</td><td>1</td><td>601</td><td>600</td><td> 1</td><td> 844</td><td> 850</td><td> -6</td><td>B6</td><td> 343</td><td>N644JB</td><td>EWR</td><td>PBI</td><td>147</td><td>1023</td><td>6</td><td> 0</td><td>2013-01-01 06:00:00</td></tr>\n",
       "\t<tr><td>2013</td><td>1</td><td>1</td><td>602</td><td>610</td><td>-8</td><td> 812</td><td> 820</td><td> -8</td><td>DL</td><td>1919</td><td>N971DL</td><td>LGA</td><td>MSP</td><td>170</td><td>1020</td><td>6</td><td>10</td><td>2013-01-01 06:00:00</td></tr>\n",
       "\t<tr><td>2013</td><td>1</td><td>1</td><td>602</td><td>605</td><td>-3</td><td> 821</td><td> 805</td><td> 16</td><td>MQ</td><td>4401</td><td>N730MQ</td><td>LGA</td><td>DTW</td><td>105</td><td> 502</td><td>6</td><td> 5</td><td>2013-01-01 06:00:00</td></tr>\n",
       "\t<tr><td>2013</td><td>1</td><td>1</td><td>606</td><td>610</td><td>-4</td><td> 858</td><td> 910</td><td>-12</td><td>AA</td><td>1895</td><td>N633AA</td><td>EWR</td><td>MIA</td><td>152</td><td>1085</td><td>6</td><td>10</td><td>2013-01-01 06:00:00</td></tr>\n",
       "\t<tr><td>2013</td><td>1</td><td>1</td><td>606</td><td>610</td><td>-4</td><td> 837</td><td> 845</td><td> -8</td><td>DL</td><td>1743</td><td>N3739P</td><td>JFK</td><td>ATL</td><td>128</td><td> 760</td><td>6</td><td>10</td><td>2013-01-01 06:00:00</td></tr>\n",
       "\t<tr><td>2013</td><td>1</td><td>1</td><td>607</td><td>607</td><td> 0</td><td> 858</td><td> 915</td><td>-17</td><td>UA</td><td>1077</td><td>N53442</td><td>EWR</td><td>MIA</td><td>157</td><td>1085</td><td>6</td><td> 7</td><td>2013-01-01 06:00:00</td></tr>\n",
       "\t<tr><td>2013</td><td>1</td><td>1</td><td>608</td><td>600</td><td> 8</td><td> 807</td><td> 735</td><td> 32</td><td>MQ</td><td>3768</td><td>N9EAMQ</td><td>EWR</td><td>ORD</td><td>139</td><td> 719</td><td>6</td><td> 0</td><td>2013-01-01 06:00:00</td></tr>\n",
       "\t<tr><td>2013</td><td>1</td><td>1</td><td>611</td><td>600</td><td>11</td><td> 945</td><td> 931</td><td> 14</td><td>UA</td><td> 303</td><td>N532UA</td><td>JFK</td><td>SFO</td><td>366</td><td>2586</td><td>6</td><td> 0</td><td>2013-01-01 06:00:00</td></tr>\n",
       "\t<tr><td>2013</td><td>1</td><td>1</td><td>613</td><td>610</td><td> 3</td><td> 925</td><td> 921</td><td>  4</td><td>B6</td><td> 135</td><td>N635JB</td><td>JFK</td><td>RSW</td><td>175</td><td>1074</td><td>6</td><td>10</td><td>2013-01-01 06:00:00</td></tr>\n",
       "\t<tr><td>2013</td><td>1</td><td>1</td><td>615</td><td>615</td><td> 0</td><td>1039</td><td>1100</td><td>-21</td><td>B6</td><td> 709</td><td>N794JB</td><td>JFK</td><td>SJU</td><td>182</td><td>1598</td><td>6</td><td>15</td><td>2013-01-01 06:00:00</td></tr>\n",
       "\t<tr><td>2013</td><td>1</td><td>1</td><td>615</td><td>615</td><td> 0</td><td> 833</td><td> 842</td><td> -9</td><td>DL</td><td> 575</td><td>N326NB</td><td>EWR</td><td>ATL</td><td>120</td><td> 746</td><td>6</td><td>15</td><td>2013-01-01 06:00:00</td></tr>\n",
       "\t<tr><td>⋮</td><td>⋮</td><td>⋮</td><td>⋮</td><td>⋮</td><td>⋮</td><td>⋮</td><td>⋮</td><td>⋮</td><td>⋮</td><td>⋮</td><td>⋮</td><td>⋮</td><td>⋮</td><td>⋮</td><td>⋮</td><td>⋮</td><td>⋮</td><td>⋮</td></tr>\n",
       "\t<tr><td>2013</td><td>1</td><td>1</td><td>2140</td><td>2135</td><td>  5</td><td> 210</td><td> 224</td><td>-14</td><td>B6</td><td> 701</td><td>N284JB</td><td>JFK</td><td>SJU</td><td>189</td><td>1598</td><td>21</td><td>35</td><td>2013-01-01 21:00:00</td></tr>\n",
       "\t<tr><td>2013</td><td>1</td><td>1</td><td>2157</td><td>2155</td><td>  2</td><td>  43</td><td>  41</td><td>  2</td><td>B6</td><td>  43</td><td>N537JB</td><td>JFK</td><td>MCO</td><td>140</td><td> 944</td><td>21</td><td>55</td><td>2013-01-01 21:00:00</td></tr>\n",
       "\t<tr><td>2013</td><td>1</td><td>1</td><td>2158</td><td>2200</td><td> -2</td><td>2254</td><td>2307</td><td>-13</td><td>EV</td><td>4103</td><td>N14998</td><td>EWR</td><td>BWI</td><td> 36</td><td> 169</td><td>22</td><td> 0</td><td>2013-01-01 22:00:00</td></tr>\n",
       "\t<tr><td>2013</td><td>1</td><td>1</td><td>2205</td><td>1720</td><td>285</td><td>  46</td><td>2040</td><td>246</td><td>AA</td><td>1999</td><td>N5DNAA</td><td>EWR</td><td>MIA</td><td>146</td><td>1085</td><td>17</td><td>20</td><td>2013-01-01 17:00:00</td></tr>\n",
       "\t<tr><td>2013</td><td>1</td><td>1</td><td>2209</td><td>2145</td><td> 24</td><td>  58</td><td>  37</td><td> 21</td><td>B6</td><td>  35</td><td>N608JB</td><td>JFK</td><td>PBI</td><td>143</td><td>1028</td><td>21</td><td>45</td><td>2013-01-01 21:00:00</td></tr>\n",
       "\t<tr><td>2013</td><td>1</td><td>1</td><td>2209</td><td>2155</td><td> 14</td><td>2400</td><td>2337</td><td> 23</td><td>B6</td><td>1109</td><td>N216JB</td><td>JFK</td><td>RDU</td><td> 86</td><td> 427</td><td>21</td><td>55</td><td>2013-01-01 21:00:00</td></tr>\n",
       "\t<tr><td>2013</td><td>1</td><td>1</td><td>2211</td><td>2145</td><td> 26</td><td>2339</td><td>2311</td><td> 28</td><td>B6</td><td> 104</td><td>N228JB</td><td>JFK</td><td>BUF</td><td> 64</td><td> 301</td><td>21</td><td>45</td><td>2013-01-01 21:00:00</td></tr>\n",
       "\t<tr><td>2013</td><td>1</td><td>1</td><td>2217</td><td>2229</td><td>-12</td><td> 249</td><td> 315</td><td>-26</td><td>B6</td><td> 713</td><td>N547JB</td><td>JFK</td><td>SJU</td><td>191</td><td>1598</td><td>22</td><td>29</td><td>2013-01-01 22:00:00</td></tr>\n",
       "\t<tr><td>2013</td><td>1</td><td>1</td><td>2217</td><td>2130</td><td> 47</td><td> 140</td><td>  27</td><td> 73</td><td>B6</td><td>  21</td><td>N516JB</td><td>JFK</td><td>TPA</td><td>163</td><td>1005</td><td>21</td><td>30</td><td>2013-01-01 21:00:00</td></tr>\n",
       "\t<tr><td>2013</td><td>1</td><td>1</td><td>2221</td><td>2000</td><td>141</td><td>2331</td><td>2124</td><td>127</td><td>EV</td><td>4462</td><td>N13566</td><td>EWR</td><td>BUF</td><td> 56</td><td> 282</td><td>20</td><td> 0</td><td>2013-01-01 20:00:00</td></tr>\n",
       "\t<tr><td>2013</td><td>1</td><td>1</td><td>2224</td><td>2200</td><td> 24</td><td>2324</td><td>2316</td><td>  8</td><td>EV</td><td>4206</td><td>N16561</td><td>EWR</td><td>PWM</td><td> 47</td><td> 284</td><td>22</td><td> 0</td><td>2013-01-01 22:00:00</td></tr>\n",
       "\t<tr><td>2013</td><td>1</td><td>1</td><td>2229</td><td>2159</td><td> 30</td><td> 149</td><td> 100</td><td> 49</td><td>B6</td><td>  11</td><td>N531JB</td><td>JFK</td><td>FLL</td><td>153</td><td>1069</td><td>21</td><td>59</td><td>2013-01-01 21:00:00</td></tr>\n",
       "\t<tr><td>2013</td><td>1</td><td>1</td><td>2240</td><td>2245</td><td> -5</td><td>2340</td><td>2356</td><td>-16</td><td>B6</td><td> 608</td><td>N279JB</td><td>JFK</td><td>PWM</td><td> 44</td><td> 273</td><td>22</td><td>45</td><td>2013-01-01 22:00:00</td></tr>\n",
       "\t<tr><td>2013</td><td>1</td><td>1</td><td>2250</td><td>2255</td><td> -5</td><td>2352</td><td>2359</td><td> -7</td><td>B6</td><td>1018</td><td>N521JB</td><td>JFK</td><td>BOS</td><td> 37</td><td> 187</td><td>22</td><td>55</td><td>2013-01-01 22:00:00</td></tr>\n",
       "\t<tr><td>2013</td><td>1</td><td>1</td><td>2302</td><td>2200</td><td> 62</td><td>2342</td><td>2253</td><td> 49</td><td>EV</td><td>4276</td><td>N13903</td><td>EWR</td><td>BDL</td><td> 24</td><td> 116</td><td>22</td><td> 0</td><td>2013-01-01 22:00:00</td></tr>\n",
       "\t<tr><td>2013</td><td>1</td><td>1</td><td>2306</td><td>2245</td><td> 21</td><td>  28</td><td>   5</td><td> 23</td><td>B6</td><td>  30</td><td>N281JB</td><td>JFK</td><td>ROC</td><td> 59</td><td> 264</td><td>22</td><td>45</td><td>2013-01-01 22:00:00</td></tr>\n",
       "\t<tr><td>2013</td><td>1</td><td>1</td><td>2307</td><td>2245</td><td> 22</td><td>  32</td><td>2357</td><td> 35</td><td>B6</td><td> 128</td><td>N178JB</td><td>JFK</td><td>BTV</td><td> 59</td><td> 266</td><td>22</td><td>45</td><td>2013-01-01 22:00:00</td></tr>\n",
       "\t<tr><td>2013</td><td>1</td><td>1</td><td>2310</td><td>2255</td><td> 15</td><td>  24</td><td>  15</td><td>  9</td><td>B6</td><td> 112</td><td>N646JB</td><td>JFK</td><td>BUF</td><td> 57</td><td> 301</td><td>22</td><td>55</td><td>2013-01-01 22:00:00</td></tr>\n",
       "\t<tr><td>2013</td><td>1</td><td>1</td><td>2312</td><td>2000</td><td>192</td><td>  21</td><td>2110</td><td>191</td><td>EV</td><td>4312</td><td>N13958</td><td>EWR</td><td>DCA</td><td> 44</td><td> 199</td><td>20</td><td> 0</td><td>2013-01-01 20:00:00</td></tr>\n",
       "\t<tr><td>2013</td><td>1</td><td>1</td><td>2323</td><td>2200</td><td> 83</td><td>  22</td><td>2313</td><td> 69</td><td>EV</td><td>4257</td><td>N13538</td><td>EWR</td><td>BTV</td><td> 44</td><td> 266</td><td>22</td><td> 0</td><td>2013-01-01 22:00:00</td></tr>\n",
       "\t<tr><td>2013</td><td>1</td><td>1</td><td>2326</td><td>2130</td><td>116</td><td> 131</td><td>  18</td><td> 73</td><td>B6</td><td> 199</td><td>N594JB</td><td>JFK</td><td>LAS</td><td>290</td><td>2248</td><td>21</td><td>30</td><td>2013-01-01 21:00:00</td></tr>\n",
       "\t<tr><td>2013</td><td>1</td><td>1</td><td>2327</td><td>2250</td><td> 37</td><td>  32</td><td>2359</td><td> 33</td><td>B6</td><td>  22</td><td>N639JB</td><td>JFK</td><td>SYR</td><td> 45</td><td> 209</td><td>22</td><td>50</td><td>2013-01-01 22:00:00</td></tr>\n",
       "\t<tr><td>2013</td><td>1</td><td>1</td><td>2343</td><td>1724</td><td>379</td><td> 314</td><td>1938</td><td>456</td><td>EV</td><td>4321</td><td>N21197</td><td>EWR</td><td>MCI</td><td>222</td><td>1092</td><td>17</td><td>24</td><td>2013-01-01 17:00:00</td></tr>\n",
       "\t<tr><td>2013</td><td>1</td><td>1</td><td>2353</td><td>2359</td><td> -6</td><td> 425</td><td> 445</td><td>-20</td><td>B6</td><td> 739</td><td>N591JB</td><td>JFK</td><td>PSE</td><td>195</td><td>1617</td><td>23</td><td>59</td><td>2013-01-01 23:00:00</td></tr>\n",
       "\t<tr><td>2013</td><td>1</td><td>1</td><td>2353</td><td>2359</td><td> -6</td><td> 418</td><td> 442</td><td>-24</td><td>B6</td><td> 707</td><td>N794JB</td><td>JFK</td><td>SJU</td><td>185</td><td>1598</td><td>23</td><td>59</td><td>2013-01-01 23:00:00</td></tr>\n",
       "\t<tr><td>2013</td><td>1</td><td>1</td><td>2356</td><td>2359</td><td> -3</td><td> 425</td><td> 437</td><td>-12</td><td>B6</td><td> 727</td><td>N588JB</td><td>JFK</td><td>BQN</td><td>186</td><td>1576</td><td>23</td><td>59</td><td>2013-01-01 23:00:00</td></tr>\n",
       "\t<tr><td>2013</td><td>1</td><td>1</td><td>  NA</td><td>1630</td><td> NA</td><td>  NA</td><td>1815</td><td> NA</td><td>EV</td><td>4308</td><td>N18120</td><td>EWR</td><td>RDU</td><td> NA</td><td> 416</td><td>16</td><td>30</td><td>2013-01-01 16:00:00</td></tr>\n",
       "\t<tr><td>2013</td><td>1</td><td>1</td><td>  NA</td><td>1935</td><td> NA</td><td>  NA</td><td>2240</td><td> NA</td><td>AA</td><td> 791</td><td>N3EHAA</td><td>LGA</td><td>DFW</td><td> NA</td><td>1389</td><td>19</td><td>35</td><td>2013-01-01 19:00:00</td></tr>\n",
       "\t<tr><td>2013</td><td>1</td><td>1</td><td>  NA</td><td>1500</td><td> NA</td><td>  NA</td><td>1825</td><td> NA</td><td>AA</td><td>1925</td><td>N3EVAA</td><td>LGA</td><td>MIA</td><td> NA</td><td>1096</td><td>15</td><td> 0</td><td>2013-01-01 15:00:00</td></tr>\n",
       "\t<tr><td>2013</td><td>1</td><td>1</td><td>  NA</td><td> 600</td><td> NA</td><td>  NA</td><td> 901</td><td> NA</td><td>B6</td><td> 125</td><td>N618JB</td><td>JFK</td><td>FLL</td><td> NA</td><td>1069</td><td> 6</td><td> 0</td><td>2013-01-01 06:00:00</td></tr>\n",
       "</tbody>\n",
       "</table>\n"
      ],
      "text/plain": [
       "    year month day dep_time sched_dep_time dep_delay arr_time sched_arr_time\n",
       "1   2013 1     1   517      515             2         830      819          \n",
       "2   2013 1     1   533      529             4         850      830          \n",
       "3   2013 1     1   542      540             2         923      850          \n",
       "4   2013 1     1   544      545            -1        1004     1022          \n",
       "5   2013 1     1   554      600            -6         812      837          \n",
       "6   2013 1     1   554      558            -4         740      728          \n",
       "7   2013 1     1   555      600            -5         913      854          \n",
       "8   2013 1     1   557      600            -3         709      723          \n",
       "9   2013 1     1   557      600            -3         838      846          \n",
       "10  2013 1     1   558      600            -2         753      745          \n",
       "11  2013 1     1   558      600            -2         849      851          \n",
       "12  2013 1     1   558      600            -2         853      856          \n",
       "13  2013 1     1   558      600            -2         924      917          \n",
       "14  2013 1     1   558      600            -2         923      937          \n",
       "15  2013 1     1   559      600            -1         941      910          \n",
       "16  2013 1     1   559      559             0         702      706          \n",
       "17  2013 1     1   559      600            -1         854      902          \n",
       "18  2013 1     1   600      600             0         851      858          \n",
       "19  2013 1     1   600      600             0         837      825          \n",
       "20  2013 1     1   601      600             1         844      850          \n",
       "21  2013 1     1   602      610            -8         812      820          \n",
       "22  2013 1     1   602      605            -3         821      805          \n",
       "23  2013 1     1   606      610            -4         858      910          \n",
       "24  2013 1     1   606      610            -4         837      845          \n",
       "25  2013 1     1   607      607             0         858      915          \n",
       "26  2013 1     1   608      600             8         807      735          \n",
       "27  2013 1     1   611      600            11         945      931          \n",
       "28  2013 1     1   613      610             3         925      921          \n",
       "29  2013 1     1   615      615             0        1039     1100          \n",
       "30  2013 1     1   615      615             0         833      842          \n",
       "<U+22EE>   <U+22EE> <U+22EE> <U+22EE> <U+22EE> <U+22EE>       <U+22EE>  <U+22EE> <U+22EE>      \n",
       "813 2013 1     1   2140     2135             5        210      224          \n",
       "814 2013 1     1   2157     2155             2         43       41          \n",
       "815 2013 1     1   2158     2200            -2       2254     2307          \n",
       "816 2013 1     1   2205     1720           285         46     2040          \n",
       "817 2013 1     1   2209     2145            24         58       37          \n",
       "818 2013 1     1   2209     2155            14       2400     2337          \n",
       "819 2013 1     1   2211     2145            26       2339     2311          \n",
       "820 2013 1     1   2217     2229           -12        249      315          \n",
       "821 2013 1     1   2217     2130            47        140       27          \n",
       "822 2013 1     1   2221     2000           141       2331     2124          \n",
       "823 2013 1     1   2224     2200            24       2324     2316          \n",
       "824 2013 1     1   2229     2159            30        149      100          \n",
       "825 2013 1     1   2240     2245            -5       2340     2356          \n",
       "826 2013 1     1   2250     2255            -5       2352     2359          \n",
       "827 2013 1     1   2302     2200            62       2342     2253          \n",
       "828 2013 1     1   2306     2245            21         28        5          \n",
       "829 2013 1     1   2307     2245            22         32     2357          \n",
       "830 2013 1     1   2310     2255            15         24       15          \n",
       "831 2013 1     1   2312     2000           192         21     2110          \n",
       "832 2013 1     1   2323     2200            83         22     2313          \n",
       "833 2013 1     1   2326     2130           116        131       18          \n",
       "    arr_delay carrier flight tailnum origin dest air_time distance hour minute\n",
       "1    11       UA      1545   N14228  EWR    IAH  227      1400     5    15    \n",
       "2    20       UA      1714   N24211  LGA    IAH  227      1416     5    29    \n",
       "3    33       AA      1141   N619AA  JFK    MIA  160      1089     5    40    \n",
       "4   -18       B6       725   N804JB  JFK    BQN  183      1576     5    45    \n",
       "5   -25       DL       461   N668DN  LGA    ATL  116       762     6     0    \n",
       "6    12       UA      1696   N39463  EWR    ORD  150       719     5    58    \n",
       "7    19       B6       507   N516JB  EWR    FLL  158      1065     6     0    \n",
       "8   -14       EV      5708   N829AS  LGA    IAD   53       229     6     0    \n",
       "9    -8       B6        79   N593JB  JFK    MCO  140       944     6     0    \n",
       "10    8       AA       301   N3ALAA  LGA    ORD  138       733     6     0    \n",
       "11   -2       B6        49   N793JB  JFK    PBI  149      1028     6     0    \n",
       "12   -3       B6        71   N657JB  JFK    TPA  158      1005     6     0    \n",
       "13    7       UA       194   N29129  JFK    LAX  345      2475     6     0    \n",
       "14  -14       UA      1124   N53441  EWR    SFO  361      2565     6     0    \n",
       "15   31       AA       707   N3DUAA  LGA    DFW  257      1389     6     0    \n",
       "16   -4       B6      1806   N708JB  JFK    BOS   44       187     5    59    \n",
       "17   -8       UA      1187   N76515  EWR    LAS  337      2227     6     0    \n",
       "18   -7       B6       371   N595JB  LGA    FLL  152      1076     6     0    \n",
       "19   12       MQ      4650   N542MQ  LGA    ATL  134       762     6     0    \n",
       "20   -6       B6       343   N644JB  EWR    PBI  147      1023     6     0    \n",
       "21   -8       DL      1919   N971DL  LGA    MSP  170      1020     6    10    \n",
       "22   16       MQ      4401   N730MQ  LGA    DTW  105       502     6     5    \n",
       "23  -12       AA      1895   N633AA  EWR    MIA  152      1085     6    10    \n",
       "24   -8       DL      1743   N3739P  JFK    ATL  128       760     6    10    \n",
       "25  -17       UA      1077   N53442  EWR    MIA  157      1085     6     7    \n",
       "26   32       MQ      3768   N9EAMQ  EWR    ORD  139       719     6     0    \n",
       "27   14       UA       303   N532UA  JFK    SFO  366      2586     6     0    \n",
       "28    4       B6       135   N635JB  JFK    RSW  175      1074     6    10    \n",
       "29  -21       B6       709   N794JB  JFK    SJU  182      1598     6    15    \n",
       "30   -9       DL       575   N326NB  EWR    ATL  120       746     6    15    \n",
       "<U+22EE>   <U+22EE>  <U+22EE> <U+22EE> <U+22EE> <U+22EE> <U+22EE> <U+22EE> <U+22EE> <U+22EE> <U+22EE>\n",
       "813 -14       B6       701   N284JB  JFK    SJU  189      1598     21   35    \n",
       "814   2       B6        43   N537JB  JFK    MCO  140       944     21   55    \n",
       "815 -13       EV      4103   N14998  EWR    BWI   36       169     22    0    \n",
       "816 246       AA      1999   N5DNAA  EWR    MIA  146      1085     17   20    \n",
       "817  21       B6        35   N608JB  JFK    PBI  143      1028     21   45    \n",
       "818  23       B6      1109   N216JB  JFK    RDU   86       427     21   55    \n",
       "819  28       B6       104   N228JB  JFK    BUF   64       301     21   45    \n",
       "820 -26       B6       713   N547JB  JFK    SJU  191      1598     22   29    \n",
       "821  73       B6        21   N516JB  JFK    TPA  163      1005     21   30    \n",
       "822 127       EV      4462   N13566  EWR    BUF   56       282     20    0    \n",
       "823   8       EV      4206   N16561  EWR    PWM   47       284     22    0    \n",
       "824  49       B6        11   N531JB  JFK    FLL  153      1069     21   59    \n",
       "825 -16       B6       608   N279JB  JFK    PWM   44       273     22   45    \n",
       "826  -7       B6      1018   N521JB  JFK    BOS   37       187     22   55    \n",
       "827  49       EV      4276   N13903  EWR    BDL   24       116     22    0    \n",
       "828  23       B6        30   N281JB  JFK    ROC   59       264     22   45    \n",
       "829  35       B6       128   N178JB  JFK    BTV   59       266     22   45    \n",
       "830   9       B6       112   N646JB  JFK    BUF   57       301     22   55    \n",
       "831 191       EV      4312   N13958  EWR    DCA   44       199     20    0    \n",
       "832  69       EV      4257   N13538  EWR    BTV   44       266     22    0    \n",
       "833  73       B6       199   N594JB  JFK    LAS  290      2248     21   30    \n",
       "    time_hour          \n",
       "1   2013-01-01 05:00:00\n",
       "2   2013-01-01 05:00:00\n",
       "3   2013-01-01 05:00:00\n",
       "4   2013-01-01 05:00:00\n",
       "5   2013-01-01 06:00:00\n",
       "6   2013-01-01 05:00:00\n",
       "7   2013-01-01 06:00:00\n",
       "8   2013-01-01 06:00:00\n",
       "9   2013-01-01 06:00:00\n",
       "10  2013-01-01 06:00:00\n",
       "11  2013-01-01 06:00:00\n",
       "12  2013-01-01 06:00:00\n",
       "13  2013-01-01 06:00:00\n",
       "14  2013-01-01 06:00:00\n",
       "15  2013-01-01 06:00:00\n",
       "16  2013-01-01 05:00:00\n",
       "17  2013-01-01 06:00:00\n",
       "18  2013-01-01 06:00:00\n",
       "19  2013-01-01 06:00:00\n",
       "20  2013-01-01 06:00:00\n",
       "21  2013-01-01 06:00:00\n",
       "22  2013-01-01 06:00:00\n",
       "23  2013-01-01 06:00:00\n",
       "24  2013-01-01 06:00:00\n",
       "25  2013-01-01 06:00:00\n",
       "26  2013-01-01 06:00:00\n",
       "27  2013-01-01 06:00:00\n",
       "28  2013-01-01 06:00:00\n",
       "29  2013-01-01 06:00:00\n",
       "30  2013-01-01 06:00:00\n",
       "<U+22EE>   <U+22EE>           \n",
       "813 2013-01-01 21:00:00\n",
       "814 2013-01-01 21:00:00\n",
       "815 2013-01-01 22:00:00\n",
       "816 2013-01-01 17:00:00\n",
       "817 2013-01-01 21:00:00\n",
       "818 2013-01-01 21:00:00\n",
       "819 2013-01-01 21:00:00\n",
       "820 2013-01-01 22:00:00\n",
       "821 2013-01-01 21:00:00\n",
       "822 2013-01-01 20:00:00\n",
       "823 2013-01-01 22:00:00\n",
       "824 2013-01-01 21:00:00\n",
       "825 2013-01-01 22:00:00\n",
       "826 2013-01-01 22:00:00\n",
       "827 2013-01-01 22:00:00\n",
       "828 2013-01-01 22:00:00\n",
       "829 2013-01-01 22:00:00\n",
       "830 2013-01-01 22:00:00\n",
       "831 2013-01-01 20:00:00\n",
       "832 2013-01-01 22:00:00\n",
       "833 2013-01-01 21:00:00\n",
       " [ getOption(\"max.print\") 에 도달했습니다 -- 9 행들을 생략합니다 ]"
      ]
     },
     "metadata": {},
     "output_type": "display_data"
    }
   ],
   "source": [
    "df %>% filter(month==1&day==1)"
   ]
  },
  {
   "cell_type": "markdown",
   "id": "c98ed301-57bb-4d72-9610-6d3c38300154",
   "metadata": {},
   "source": [
    "## 11월 또는 12월에 출발하는 항공편을 선택하고 싶다."
   ]
  },
  {
   "cell_type": "code",
   "execution_count": 46,
   "id": "e5110a50-c134-4dbc-8ae8-b1cfd2bc1b96",
   "metadata": {},
   "outputs": [
    {
     "data": {
      "text/html": [
       "<table class=\"dataframe\">\n",
       "<caption>A tibble: 55403 × 19</caption>\n",
       "<thead>\n",
       "\t<tr><th scope=col>year</th><th scope=col>month</th><th scope=col>day</th><th scope=col>dep_time</th><th scope=col>sched_dep_time</th><th scope=col>dep_delay</th><th scope=col>arr_time</th><th scope=col>sched_arr_time</th><th scope=col>arr_delay</th><th scope=col>carrier</th><th scope=col>flight</th><th scope=col>tailnum</th><th scope=col>origin</th><th scope=col>dest</th><th scope=col>air_time</th><th scope=col>distance</th><th scope=col>hour</th><th scope=col>minute</th><th scope=col>time_hour</th></tr>\n",
       "\t<tr><th scope=col>&lt;int&gt;</th><th scope=col>&lt;int&gt;</th><th scope=col>&lt;int&gt;</th><th scope=col>&lt;int&gt;</th><th scope=col>&lt;int&gt;</th><th scope=col>&lt;dbl&gt;</th><th scope=col>&lt;int&gt;</th><th scope=col>&lt;int&gt;</th><th scope=col>&lt;dbl&gt;</th><th scope=col>&lt;chr&gt;</th><th scope=col>&lt;int&gt;</th><th scope=col>&lt;chr&gt;</th><th scope=col>&lt;chr&gt;</th><th scope=col>&lt;chr&gt;</th><th scope=col>&lt;dbl&gt;</th><th scope=col>&lt;dbl&gt;</th><th scope=col>&lt;dbl&gt;</th><th scope=col>&lt;dbl&gt;</th><th scope=col>&lt;dttm&gt;</th></tr>\n",
       "</thead>\n",
       "<tbody>\n",
       "\t<tr><td>2013</td><td>11</td><td>1</td><td>  5</td><td>2359</td><td>  6</td><td>352</td><td> 345</td><td>  7</td><td>B6</td><td> 745</td><td>N568JB</td><td>JFK</td><td>PSE</td><td>205</td><td>1617</td><td>23</td><td>59</td><td>2013-11-01 23:00:00</td></tr>\n",
       "\t<tr><td>2013</td><td>11</td><td>1</td><td> 35</td><td>2250</td><td>105</td><td>123</td><td>2356</td><td> 87</td><td>B6</td><td>1816</td><td>N353JB</td><td>JFK</td><td>SYR</td><td> 36</td><td> 209</td><td>22</td><td>50</td><td>2013-11-01 22:00:00</td></tr>\n",
       "\t<tr><td>2013</td><td>11</td><td>1</td><td>455</td><td> 500</td><td> -5</td><td>641</td><td> 651</td><td>-10</td><td>US</td><td>1895</td><td>N192UW</td><td>EWR</td><td>CLT</td><td> 88</td><td> 529</td><td> 5</td><td> 0</td><td>2013-11-01 05:00:00</td></tr>\n",
       "\t<tr><td>2013</td><td>11</td><td>1</td><td>539</td><td> 545</td><td> -6</td><td>856</td><td> 827</td><td> 29</td><td>UA</td><td>1714</td><td>N38727</td><td>LGA</td><td>IAH</td><td>229</td><td>1416</td><td> 5</td><td>45</td><td>2013-11-01 05:00:00</td></tr>\n",
       "\t<tr><td>2013</td><td>11</td><td>1</td><td>542</td><td> 545</td><td> -3</td><td>831</td><td> 855</td><td>-24</td><td>AA</td><td>2243</td><td>N5CLAA</td><td>JFK</td><td>MIA</td><td>147</td><td>1089</td><td> 5</td><td>45</td><td>2013-11-01 05:00:00</td></tr>\n",
       "\t<tr><td>2013</td><td>11</td><td>1</td><td>549</td><td> 600</td><td>-11</td><td>912</td><td> 923</td><td>-11</td><td>UA</td><td> 303</td><td>N595UA</td><td>JFK</td><td>SFO</td><td>359</td><td>2586</td><td> 6</td><td> 0</td><td>2013-11-01 06:00:00</td></tr>\n",
       "\t<tr><td>2013</td><td>11</td><td>1</td><td>550</td><td> 600</td><td>-10</td><td>705</td><td> 659</td><td>  6</td><td>US</td><td>2167</td><td>N748UW</td><td>LGA</td><td>DCA</td><td> 57</td><td> 214</td><td> 6</td><td> 0</td><td>2013-11-01 06:00:00</td></tr>\n",
       "\t<tr><td>2013</td><td>11</td><td>1</td><td>554</td><td> 600</td><td> -6</td><td>659</td><td> 701</td><td> -2</td><td>US</td><td>2134</td><td>N742PS</td><td>LGA</td><td>BOS</td><td> 40</td><td> 184</td><td> 6</td><td> 0</td><td>2013-11-01 06:00:00</td></tr>\n",
       "\t<tr><td>2013</td><td>11</td><td>1</td><td>554</td><td> 600</td><td> -6</td><td>826</td><td> 827</td><td> -1</td><td>DL</td><td> 563</td><td>N912DE</td><td>LGA</td><td>ATL</td><td>126</td><td> 762</td><td> 6</td><td> 0</td><td>2013-11-01 06:00:00</td></tr>\n",
       "\t<tr><td>2013</td><td>11</td><td>1</td><td>554</td><td> 600</td><td> -6</td><td>749</td><td> 751</td><td> -2</td><td>DL</td><td> 731</td><td>N315NB</td><td>LGA</td><td>DTW</td><td> 93</td><td> 502</td><td> 6</td><td> 0</td><td>2013-11-01 06:00:00</td></tr>\n",
       "\t<tr><td>2013</td><td>11</td><td>1</td><td>555</td><td> 600</td><td> -5</td><td>847</td><td> 854</td><td> -7</td><td>B6</td><td> 605</td><td>N640JB</td><td>EWR</td><td>FLL</td><td>149</td><td>1065</td><td> 6</td><td> 0</td><td>2013-11-01 06:00:00</td></tr>\n",
       "\t<tr><td>2013</td><td>11</td><td>1</td><td>555</td><td> 600</td><td> -5</td><td>839</td><td> 846</td><td> -7</td><td>B6</td><td> 583</td><td>N661JB</td><td>JFK</td><td>MCO</td><td>136</td><td> 944</td><td> 6</td><td> 0</td><td>2013-11-01 06:00:00</td></tr>\n",
       "\t<tr><td>2013</td><td>11</td><td>1</td><td>555</td><td> 600</td><td> -5</td><td>929</td><td> 943</td><td>-14</td><td>B6</td><td>1403</td><td>N746JB</td><td>JFK</td><td>SJU</td><td>196</td><td>1598</td><td> 6</td><td> 0</td><td>2013-11-01 06:00:00</td></tr>\n",
       "\t<tr><td>2013</td><td>11</td><td>1</td><td>556</td><td> 600</td><td> -4</td><td>834</td><td> 851</td><td>-17</td><td>UA</td><td> 407</td><td>N834UA</td><td>EWR</td><td>TPA</td><td>142</td><td> 997</td><td> 6</td><td> 0</td><td>2013-11-01 06:00:00</td></tr>\n",
       "\t<tr><td>2013</td><td>11</td><td>1</td><td>558</td><td> 600</td><td> -2</td><td>727</td><td> 730</td><td> -3</td><td>UA</td><td> 279</td><td>N459UA</td><td>EWR</td><td>ORD</td><td>118</td><td> 719</td><td> 6</td><td> 0</td><td>2013-11-01 06:00:00</td></tr>\n",
       "\t<tr><td>2013</td><td>11</td><td>1</td><td>558</td><td> 600</td><td> -2</td><td>650</td><td> 658</td><td> -8</td><td>US</td><td>1909</td><td>N950UW</td><td>LGA</td><td>PHL</td><td> 38</td><td>  96</td><td> 6</td><td> 0</td><td>2013-11-01 06:00:00</td></tr>\n",
       "\t<tr><td>2013</td><td>11</td><td>1</td><td>558</td><td> 600</td><td> -2</td><td>914</td><td> 905</td><td>  9</td><td>AA</td><td>1175</td><td>N3GHAA</td><td>LGA</td><td>MIA</td><td>155</td><td>1096</td><td> 6</td><td> 0</td><td>2013-11-01 06:00:00</td></tr>\n",
       "\t<tr><td>2013</td><td>11</td><td>1</td><td>558</td><td> 600</td><td> -2</td><td>720</td><td> 715</td><td>  5</td><td>WN</td><td> 464</td><td>N390SW</td><td>EWR</td><td>MDW</td><td>117</td><td> 711</td><td> 6</td><td> 0</td><td>2013-11-01 06:00:00</td></tr>\n",
       "\t<tr><td>2013</td><td>11</td><td>1</td><td>559</td><td> 600</td><td> -1</td><td>756</td><td> 730</td><td> 26</td><td>AA</td><td> 301</td><td>N4YHAA</td><td>LGA</td><td>ORD</td><td>119</td><td> 733</td><td> 6</td><td> 0</td><td>2013-11-01 06:00:00</td></tr>\n",
       "\t<tr><td>2013</td><td>11</td><td>1</td><td>600</td><td> 600</td><td>  0</td><td>709</td><td> 716</td><td> -7</td><td>EV</td><td>5716</td><td>N820AS</td><td>JFK</td><td>IAD</td><td> 49</td><td> 228</td><td> 6</td><td> 0</td><td>2013-11-01 06:00:00</td></tr>\n",
       "\t<tr><td>2013</td><td>11</td><td>1</td><td>600</td><td> 600</td><td>  0</td><td>725</td><td> 721</td><td>  4</td><td>UA</td><td>1198</td><td>N23707</td><td>LGA</td><td>ORD</td><td>121</td><td> 733</td><td> 6</td><td> 0</td><td>2013-11-01 06:00:00</td></tr>\n",
       "\t<tr><td>2013</td><td>11</td><td>1</td><td>601</td><td> 600</td><td>  1</td><td>853</td><td> 856</td><td> -3</td><td>B6</td><td> 371</td><td>N570JB</td><td>LGA</td><td>FLL</td><td>150</td><td>1076</td><td> 6</td><td> 0</td><td>2013-11-01 06:00:00</td></tr>\n",
       "\t<tr><td>2013</td><td>11</td><td>1</td><td>601</td><td> 610</td><td> -9</td><td>803</td><td> 813</td><td>-10</td><td>DL</td><td>1919</td><td>N922DL</td><td>LGA</td><td>MSP</td><td>153</td><td>1020</td><td> 6</td><td>10</td><td>2013-11-01 06:00:00</td></tr>\n",
       "\t<tr><td>2013</td><td>11</td><td>1</td><td>602</td><td> 600</td><td>  2</td><td>843</td><td> 815</td><td> 28</td><td>FL</td><td> 345</td><td>N353AT</td><td>LGA</td><td>ATL</td><td>131</td><td> 762</td><td> 6</td><td> 0</td><td>2013-11-01 06:00:00</td></tr>\n",
       "\t<tr><td>2013</td><td>11</td><td>1</td><td>603</td><td> 600</td><td>  3</td><td>717</td><td> 711</td><td>  6</td><td>EV</td><td>4533</td><td>N11109</td><td>EWR</td><td>BUF</td><td> 53</td><td> 282</td><td> 6</td><td> 0</td><td>2013-11-01 06:00:00</td></tr>\n",
       "\t<tr><td>2013</td><td>11</td><td>1</td><td>604</td><td> 610</td><td> -6</td><td>855</td><td> 855</td><td>  0</td><td>AA</td><td>1103</td><td>N3FTAA</td><td>LGA</td><td>DFW</td><td>205</td><td>1389</td><td> 6</td><td>10</td><td>2013-11-01 06:00:00</td></tr>\n",
       "\t<tr><td>2013</td><td>11</td><td>1</td><td>606</td><td> 615</td><td> -9</td><td>746</td><td> 750</td><td> -4</td><td>MQ</td><td>3525</td><td>N834MQ</td><td>LGA</td><td>RDU</td><td> 74</td><td> 431</td><td> 6</td><td>15</td><td>2013-11-01 06:00:00</td></tr>\n",
       "\t<tr><td>2013</td><td>11</td><td>1</td><td>606</td><td> 615</td><td> -9</td><td>807</td><td> 817</td><td>-10</td><td>US</td><td>1899</td><td>N199UW</td><td>JFK</td><td>CLT</td><td> 93</td><td> 541</td><td> 6</td><td>15</td><td>2013-11-01 06:00:00</td></tr>\n",
       "\t<tr><td>2013</td><td>11</td><td>1</td><td>606</td><td> 610</td><td> -4</td><td>752</td><td> 745</td><td>  7</td><td>WN</td><td>2609</td><td>N440LV</td><td>LGA</td><td>STL</td><td>142</td><td> 888</td><td> 6</td><td>10</td><td>2013-11-01 06:00:00</td></tr>\n",
       "\t<tr><td>2013</td><td>11</td><td>1</td><td>607</td><td> 611</td><td> -4</td><td>857</td><td> 912</td><td>-15</td><td>B6</td><td> 601</td><td>N597JB</td><td>JFK</td><td>FLL</td><td>149</td><td>1069</td><td> 6</td><td>11</td><td>2013-11-01 06:00:00</td></tr>\n",
       "\t<tr><td>⋮</td><td>⋮</td><td>⋮</td><td>⋮</td><td>⋮</td><td>⋮</td><td>⋮</td><td>⋮</td><td>⋮</td><td>⋮</td><td>⋮</td><td>⋮</td><td>⋮</td><td>⋮</td><td>⋮</td><td>⋮</td><td>⋮</td><td>⋮</td><td>⋮</td></tr>\n",
       "\t<tr><td>2013</td><td>12</td><td>31</td><td>2155</td><td>2039</td><td> 76</td><td> 253</td><td>2355</td><td> NA</td><td>B6</td><td>1205</td><td>N627JB</td><td>JFK</td><td>PDX</td><td> NA</td><td>2454</td><td>20</td><td>39</td><td>2013-12-31 20:00:00</td></tr>\n",
       "\t<tr><td>2013</td><td>12</td><td>31</td><td>2155</td><td>2150</td><td>  5</td><td> 110</td><td>  51</td><td> 19</td><td>B6</td><td>1901</td><td>N729JB</td><td>JFK</td><td>FLL</td><td>164</td><td>1069</td><td>21</td><td>50</td><td>2013-12-31 21:00:00</td></tr>\n",
       "\t<tr><td>2013</td><td>12</td><td>31</td><td>2159</td><td>2155</td><td>  4</td><td>  55</td><td>  46</td><td>  9</td><td>B6</td><td>2053</td><td>N593JB</td><td>JFK</td><td>PBI</td><td>155</td><td>1028</td><td>21</td><td>55</td><td>2013-12-31 21:00:00</td></tr>\n",
       "\t<tr><td>2013</td><td>12</td><td>31</td><td>2206</td><td>2110</td><td> 56</td><td>  44</td><td>2339</td><td> 65</td><td>B6</td><td> 775</td><td>N184JB</td><td>JFK</td><td>MSY</td><td>195</td><td>1182</td><td>21</td><td>10</td><td>2013-12-31 21:00:00</td></tr>\n",
       "\t<tr><td>2013</td><td>12</td><td>31</td><td>2211</td><td>2159</td><td> 12</td><td> 100</td><td>  45</td><td> 15</td><td>B6</td><td>1183</td><td>N715JB</td><td>JFK</td><td>MCO</td><td>148</td><td> 944</td><td>21</td><td>59</td><td>2013-12-31 21:00:00</td></tr>\n",
       "\t<tr><td>2013</td><td>12</td><td>31</td><td>2218</td><td>2219</td><td> -1</td><td> 315</td><td> 304</td><td> 11</td><td>B6</td><td>1203</td><td>N625JB</td><td>JFK</td><td>SJU</td><td>202</td><td>1598</td><td>22</td><td>19</td><td>2013-12-31 22:00:00</td></tr>\n",
       "\t<tr><td>2013</td><td>12</td><td>31</td><td>2235</td><td>2245</td><td>-10</td><td>2351</td><td>2355</td><td> -4</td><td>B6</td><td> 234</td><td>N355JB</td><td>JFK</td><td>BTV</td><td> 49</td><td> 266</td><td>22</td><td>45</td><td>2013-12-31 22:00:00</td></tr>\n",
       "\t<tr><td>2013</td><td>12</td><td>31</td><td>2245</td><td>2250</td><td> -5</td><td>2359</td><td>2356</td><td>  3</td><td>B6</td><td>1816</td><td>N318JB</td><td>JFK</td><td>SYR</td><td> 51</td><td> 209</td><td>22</td><td>50</td><td>2013-12-31 22:00:00</td></tr>\n",
       "\t<tr><td>2013</td><td>12</td><td>31</td><td>2310</td><td>2255</td><td> 15</td><td>   7</td><td>2356</td><td> 11</td><td>B6</td><td> 718</td><td>N279JB</td><td>JFK</td><td>BOS</td><td> 40</td><td> 187</td><td>22</td><td>55</td><td>2013-12-31 22:00:00</td></tr>\n",
       "\t<tr><td>2013</td><td>12</td><td>31</td><td>2321</td><td>2250</td><td> 31</td><td>  46</td><td>   8</td><td> 38</td><td>B6</td><td>2002</td><td>N179JB</td><td>JFK</td><td>BUF</td><td> 66</td><td> 301</td><td>22</td><td>50</td><td>2013-12-31 22:00:00</td></tr>\n",
       "\t<tr><td>2013</td><td>12</td><td>31</td><td>2328</td><td>2330</td><td> -2</td><td> 412</td><td> 409</td><td>  3</td><td>B6</td><td>1389</td><td>N651JB</td><td>EWR</td><td>SJU</td><td>198</td><td>1608</td><td>23</td><td>30</td><td>2013-12-31 23:00:00</td></tr>\n",
       "\t<tr><td>2013</td><td>12</td><td>31</td><td>2332</td><td>2245</td><td> 47</td><td>  58</td><td>   3</td><td> 55</td><td>B6</td><td> 486</td><td>N334JB</td><td>JFK</td><td>ROC</td><td> 60</td><td> 264</td><td>22</td><td>45</td><td>2013-12-31 22:00:00</td></tr>\n",
       "\t<tr><td>2013</td><td>12</td><td>31</td><td>2355</td><td>2359</td><td> -4</td><td> 430</td><td> 440</td><td>-10</td><td>B6</td><td>1503</td><td>N509JB</td><td>JFK</td><td>SJU</td><td>195</td><td>1598</td><td>23</td><td>59</td><td>2013-12-31 23:00:00</td></tr>\n",
       "\t<tr><td>2013</td><td>12</td><td>31</td><td>2356</td><td>2359</td><td> -3</td><td> 436</td><td> 445</td><td> -9</td><td>B6</td><td> 745</td><td>N665JB</td><td>JFK</td><td>PSE</td><td>200</td><td>1617</td><td>23</td><td>59</td><td>2013-12-31 23:00:00</td></tr>\n",
       "\t<tr><td>2013</td><td>12</td><td>31</td><td>  NA</td><td>1520</td><td> NA</td><td>  NA</td><td>1705</td><td> NA</td><td>AA</td><td> 341</td><td>N568AA</td><td>LGA</td><td>ORD</td><td> NA</td><td> 733</td><td>15</td><td>20</td><td>2013-12-31 15:00:00</td></tr>\n",
       "\t<tr><td>2013</td><td>12</td><td>31</td><td>  NA</td><td>2025</td><td> NA</td><td>  NA</td><td>2205</td><td> NA</td><td>AA</td><td> 371</td><td>N482AA</td><td>LGA</td><td>ORD</td><td> NA</td><td> 733</td><td>20</td><td>25</td><td>2013-12-31 20:00:00</td></tr>\n",
       "\t<tr><td>2013</td><td>12</td><td>31</td><td>  NA</td><td>1932</td><td> NA</td><td>  NA</td><td>2305</td><td> NA</td><td>B6</td><td> 161</td><td>N516JB</td><td>JFK</td><td>SMF</td><td> NA</td><td>2521</td><td>19</td><td>32</td><td>2013-12-31 19:00:00</td></tr>\n",
       "\t<tr><td>2013</td><td>12</td><td>31</td><td>  NA</td><td>1505</td><td> NA</td><td>  NA</td><td>1725</td><td> NA</td><td>EV</td><td>4181</td><td>N24103</td><td>EWR</td><td>MCI</td><td> NA</td><td>1092</td><td>15</td><td> 5</td><td>2013-12-31 15:00:00</td></tr>\n",
       "\t<tr><td>2013</td><td>12</td><td>31</td><td>  NA</td><td>1000</td><td> NA</td><td>  NA</td><td>1252</td><td> NA</td><td>UA</td><td>1124</td><td>NA    </td><td>EWR</td><td>EGE</td><td> NA</td><td>1725</td><td>10</td><td> 0</td><td>2013-12-31 10:00:00</td></tr>\n",
       "\t<tr><td>2013</td><td>12</td><td>31</td><td>  NA</td><td> 840</td><td> NA</td><td>  NA</td><td>1205</td><td> NA</td><td>UA</td><td>1151</td><td>NA    </td><td>EWR</td><td>SEA</td><td> NA</td><td>2402</td><td> 8</td><td>40</td><td>2013-12-31 08:00:00</td></tr>\n",
       "\t<tr><td>2013</td><td>12</td><td>31</td><td>  NA</td><td> 754</td><td> NA</td><td>  NA</td><td>1118</td><td> NA</td><td>UA</td><td>1455</td><td>NA    </td><td>EWR</td><td>LAX</td><td> NA</td><td>2454</td><td> 7</td><td>54</td><td>2013-12-31 07:00:00</td></tr>\n",
       "\t<tr><td>2013</td><td>12</td><td>31</td><td>  NA</td><td>2000</td><td> NA</td><td>  NA</td><td>2146</td><td> NA</td><td>UA</td><td>1482</td><td>NA    </td><td>EWR</td><td>ORD</td><td> NA</td><td> 719</td><td>20</td><td> 0</td><td>2013-12-31 20:00:00</td></tr>\n",
       "\t<tr><td>2013</td><td>12</td><td>31</td><td>  NA</td><td>1500</td><td> NA</td><td>  NA</td><td>1817</td><td> NA</td><td>UA</td><td>1483</td><td>NA    </td><td>EWR</td><td>AUS</td><td> NA</td><td>1504</td><td>15</td><td> 0</td><td>2013-12-31 15:00:00</td></tr>\n",
       "\t<tr><td>2013</td><td>12</td><td>31</td><td>  NA</td><td>1430</td><td> NA</td><td>  NA</td><td>1750</td><td> NA</td><td>UA</td><td>1493</td><td>NA    </td><td>EWR</td><td>LAX</td><td> NA</td><td>2454</td><td>14</td><td>30</td><td>2013-12-31 14:00:00</td></tr>\n",
       "\t<tr><td>2013</td><td>12</td><td>31</td><td>  NA</td><td> 855</td><td> NA</td><td>  NA</td><td>1142</td><td> NA</td><td>UA</td><td>1506</td><td>NA    </td><td>EWR</td><td>JAC</td><td> NA</td><td>1874</td><td> 8</td><td>55</td><td>2013-12-31 08:00:00</td></tr>\n",
       "\t<tr><td>2013</td><td>12</td><td>31</td><td>  NA</td><td> 705</td><td> NA</td><td>  NA</td><td> 931</td><td> NA</td><td>UA</td><td>1729</td><td>NA    </td><td>EWR</td><td>DEN</td><td> NA</td><td>1605</td><td> 7</td><td> 5</td><td>2013-12-31 07:00:00</td></tr>\n",
       "\t<tr><td>2013</td><td>12</td><td>31</td><td>  NA</td><td> 825</td><td> NA</td><td>  NA</td><td>1029</td><td> NA</td><td>US</td><td>1831</td><td>NA    </td><td>JFK</td><td>CLT</td><td> NA</td><td> 541</td><td> 8</td><td>25</td><td>2013-12-31 08:00:00</td></tr>\n",
       "\t<tr><td>2013</td><td>12</td><td>31</td><td>  NA</td><td>1615</td><td> NA</td><td>  NA</td><td>1800</td><td> NA</td><td>MQ</td><td>3301</td><td>N844MQ</td><td>LGA</td><td>RDU</td><td> NA</td><td> 431</td><td>16</td><td>15</td><td>2013-12-31 16:00:00</td></tr>\n",
       "\t<tr><td>2013</td><td>12</td><td>31</td><td>  NA</td><td> 600</td><td> NA</td><td>  NA</td><td> 735</td><td> NA</td><td>UA</td><td> 219</td><td>NA    </td><td>EWR</td><td>ORD</td><td> NA</td><td> 719</td><td> 6</td><td> 0</td><td>2013-12-31 06:00:00</td></tr>\n",
       "\t<tr><td>2013</td><td>12</td><td>31</td><td>  NA</td><td> 830</td><td> NA</td><td>  NA</td><td>1154</td><td> NA</td><td>UA</td><td> 443</td><td>NA    </td><td>JFK</td><td>LAX</td><td> NA</td><td>2475</td><td> 8</td><td>30</td><td>2013-12-31 08:00:00</td></tr>\n",
       "</tbody>\n",
       "</table>\n"
      ],
      "text/plain": [
       "      year month day dep_time sched_dep_time dep_delay arr_time sched_arr_time\n",
       "1     2013 11    1     5      2359             6       352       345          \n",
       "2     2013 11    1    35      2250           105       123      2356          \n",
       "3     2013 11    1   455       500            -5       641       651          \n",
       "4     2013 11    1   539       545            -6       856       827          \n",
       "5     2013 11    1   542       545            -3       831       855          \n",
       "6     2013 11    1   549       600           -11       912       923          \n",
       "7     2013 11    1   550       600           -10       705       659          \n",
       "8     2013 11    1   554       600            -6       659       701          \n",
       "9     2013 11    1   554       600            -6       826       827          \n",
       "10    2013 11    1   554       600            -6       749       751          \n",
       "11    2013 11    1   555       600            -5       847       854          \n",
       "12    2013 11    1   555       600            -5       839       846          \n",
       "13    2013 11    1   555       600            -5       929       943          \n",
       "14    2013 11    1   556       600            -4       834       851          \n",
       "15    2013 11    1   558       600            -2       727       730          \n",
       "16    2013 11    1   558       600            -2       650       658          \n",
       "17    2013 11    1   558       600            -2       914       905          \n",
       "18    2013 11    1   558       600            -2       720       715          \n",
       "19    2013 11    1   559       600            -1       756       730          \n",
       "20    2013 11    1   600       600             0       709       716          \n",
       "21    2013 11    1   600       600             0       725       721          \n",
       "22    2013 11    1   601       600             1       853       856          \n",
       "23    2013 11    1   601       610            -9       803       813          \n",
       "24    2013 11    1   602       600             2       843       815          \n",
       "25    2013 11    1   603       600             3       717       711          \n",
       "26    2013 11    1   604       610            -6       855       855          \n",
       "27    2013 11    1   606       615            -9       746       750          \n",
       "28    2013 11    1   606       615            -9       807       817          \n",
       "29    2013 11    1   606       610            -4       752       745          \n",
       "30    2013 11    1   607       611            -4       857       912          \n",
       "<U+22EE>     <U+22EE> <U+22EE> <U+22EE> <U+22EE> <U+22EE>       <U+22EE>  <U+22EE> <U+22EE>      \n",
       "55374 2013 12    31  2155     2039            76        253     2355          \n",
       "55375 2013 12    31  2155     2150             5        110       51          \n",
       "55376 2013 12    31  2159     2155             4         55       46          \n",
       "55377 2013 12    31  2206     2110            56         44     2339          \n",
       "55378 2013 12    31  2211     2159            12        100       45          \n",
       "55379 2013 12    31  2218     2219            -1        315      304          \n",
       "55380 2013 12    31  2235     2245           -10       2351     2355          \n",
       "55381 2013 12    31  2245     2250            -5       2359     2356          \n",
       "55382 2013 12    31  2310     2255            15          7     2356          \n",
       "55383 2013 12    31  2321     2250            31         46        8          \n",
       "55384 2013 12    31  2328     2330            -2        412      409          \n",
       "55385 2013 12    31  2332     2245            47         58        3          \n",
       "55386 2013 12    31  2355     2359            -4        430      440          \n",
       "55387 2013 12    31  2356     2359            -3        436      445          \n",
       "55388 2013 12    31    NA     1520            NA         NA     1705          \n",
       "55389 2013 12    31    NA     2025            NA         NA     2205          \n",
       "55390 2013 12    31    NA     1932            NA         NA     2305          \n",
       "55391 2013 12    31    NA     1505            NA         NA     1725          \n",
       "55392 2013 12    31    NA     1000            NA         NA     1252          \n",
       "55393 2013 12    31    NA      840            NA         NA     1205          \n",
       "55394 2013 12    31    NA      754            NA         NA     1118          \n",
       "      arr_delay carrier flight tailnum origin dest air_time distance hour\n",
       "1       7       B6       745   N568JB  JFK    PSE  205      1617     23  \n",
       "2      87       B6      1816   N353JB  JFK    SYR   36       209     22  \n",
       "3     -10       US      1895   N192UW  EWR    CLT   88       529      5  \n",
       "4      29       UA      1714   N38727  LGA    IAH  229      1416      5  \n",
       "5     -24       AA      2243   N5CLAA  JFK    MIA  147      1089      5  \n",
       "6     -11       UA       303   N595UA  JFK    SFO  359      2586      6  \n",
       "7       6       US      2167   N748UW  LGA    DCA   57       214      6  \n",
       "8      -2       US      2134   N742PS  LGA    BOS   40       184      6  \n",
       "9      -1       DL       563   N912DE  LGA    ATL  126       762      6  \n",
       "10     -2       DL       731   N315NB  LGA    DTW   93       502      6  \n",
       "11     -7       B6       605   N640JB  EWR    FLL  149      1065      6  \n",
       "12     -7       B6       583   N661JB  JFK    MCO  136       944      6  \n",
       "13    -14       B6      1403   N746JB  JFK    SJU  196      1598      6  \n",
       "14    -17       UA       407   N834UA  EWR    TPA  142       997      6  \n",
       "15     -3       UA       279   N459UA  EWR    ORD  118       719      6  \n",
       "16     -8       US      1909   N950UW  LGA    PHL   38        96      6  \n",
       "17      9       AA      1175   N3GHAA  LGA    MIA  155      1096      6  \n",
       "18      5       WN       464   N390SW  EWR    MDW  117       711      6  \n",
       "19     26       AA       301   N4YHAA  LGA    ORD  119       733      6  \n",
       "20     -7       EV      5716   N820AS  JFK    IAD   49       228      6  \n",
       "21      4       UA      1198   N23707  LGA    ORD  121       733      6  \n",
       "22     -3       B6       371   N570JB  LGA    FLL  150      1076      6  \n",
       "23    -10       DL      1919   N922DL  LGA    MSP  153      1020      6  \n",
       "24     28       FL       345   N353AT  LGA    ATL  131       762      6  \n",
       "25      6       EV      4533   N11109  EWR    BUF   53       282      6  \n",
       "26      0       AA      1103   N3FTAA  LGA    DFW  205      1389      6  \n",
       "27     -4       MQ      3525   N834MQ  LGA    RDU   74       431      6  \n",
       "28    -10       US      1899   N199UW  JFK    CLT   93       541      6  \n",
       "29      7       WN      2609   N440LV  LGA    STL  142       888      6  \n",
       "30    -15       B6       601   N597JB  JFK    FLL  149      1069      6  \n",
       "<U+22EE>     <U+22EE>  <U+22EE> <U+22EE> <U+22EE> <U+22EE> <U+22EE> <U+22EE> <U+22EE> <U+22EE>\n",
       "55374  NA       B6      1205   N627JB  JFK    PDX   NA      2454     20  \n",
       "55375  19       B6      1901   N729JB  JFK    FLL  164      1069     21  \n",
       "55376   9       B6      2053   N593JB  JFK    PBI  155      1028     21  \n",
       "55377  65       B6       775   N184JB  JFK    MSY  195      1182     21  \n",
       "55378  15       B6      1183   N715JB  JFK    MCO  148       944     21  \n",
       "55379  11       B6      1203   N625JB  JFK    SJU  202      1598     22  \n",
       "55380  -4       B6       234   N355JB  JFK    BTV   49       266     22  \n",
       "55381   3       B6      1816   N318JB  JFK    SYR   51       209     22  \n",
       "55382  11       B6       718   N279JB  JFK    BOS   40       187     22  \n",
       "55383  38       B6      2002   N179JB  JFK    BUF   66       301     22  \n",
       "55384   3       B6      1389   N651JB  EWR    SJU  198      1608     23  \n",
       "55385  55       B6       486   N334JB  JFK    ROC   60       264     22  \n",
       "55386 -10       B6      1503   N509JB  JFK    SJU  195      1598     23  \n",
       "55387  -9       B6       745   N665JB  JFK    PSE  200      1617     23  \n",
       "55388  NA       AA       341   N568AA  LGA    ORD   NA       733     15  \n",
       "55389  NA       AA       371   N482AA  LGA    ORD   NA       733     20  \n",
       "55390  NA       B6       161   N516JB  JFK    SMF   NA      2521     19  \n",
       "55391  NA       EV      4181   N24103  EWR    MCI   NA      1092     15  \n",
       "55392  NA       UA      1124   NA      EWR    EGE   NA      1725     10  \n",
       "55393  NA       UA      1151   NA      EWR    SEA   NA      2402      8  \n",
       "55394  NA       UA      1455   NA      EWR    LAX   NA      2454      7  \n",
       "      minute time_hour          \n",
       "1     59     2013-11-01 23:00:00\n",
       "2     50     2013-11-01 22:00:00\n",
       "3      0     2013-11-01 05:00:00\n",
       "4     45     2013-11-01 05:00:00\n",
       "5     45     2013-11-01 05:00:00\n",
       "6      0     2013-11-01 06:00:00\n",
       "7      0     2013-11-01 06:00:00\n",
       "8      0     2013-11-01 06:00:00\n",
       "9      0     2013-11-01 06:00:00\n",
       "10     0     2013-11-01 06:00:00\n",
       "11     0     2013-11-01 06:00:00\n",
       "12     0     2013-11-01 06:00:00\n",
       "13     0     2013-11-01 06:00:00\n",
       "14     0     2013-11-01 06:00:00\n",
       "15     0     2013-11-01 06:00:00\n",
       "16     0     2013-11-01 06:00:00\n",
       "17     0     2013-11-01 06:00:00\n",
       "18     0     2013-11-01 06:00:00\n",
       "19     0     2013-11-01 06:00:00\n",
       "20     0     2013-11-01 06:00:00\n",
       "21     0     2013-11-01 06:00:00\n",
       "22     0     2013-11-01 06:00:00\n",
       "23    10     2013-11-01 06:00:00\n",
       "24     0     2013-11-01 06:00:00\n",
       "25     0     2013-11-01 06:00:00\n",
       "26    10     2013-11-01 06:00:00\n",
       "27    15     2013-11-01 06:00:00\n",
       "28    15     2013-11-01 06:00:00\n",
       "29    10     2013-11-01 06:00:00\n",
       "30    11     2013-11-01 06:00:00\n",
       "<U+22EE>     <U+22EE> <U+22EE>           \n",
       "55374 39     2013-12-31 20:00:00\n",
       "55375 50     2013-12-31 21:00:00\n",
       "55376 55     2013-12-31 21:00:00\n",
       "55377 10     2013-12-31 21:00:00\n",
       "55378 59     2013-12-31 21:00:00\n",
       "55379 19     2013-12-31 22:00:00\n",
       "55380 45     2013-12-31 22:00:00\n",
       "55381 50     2013-12-31 22:00:00\n",
       "55382 55     2013-12-31 22:00:00\n",
       "55383 50     2013-12-31 22:00:00\n",
       "55384 30     2013-12-31 23:00:00\n",
       "55385 45     2013-12-31 22:00:00\n",
       "55386 59     2013-12-31 23:00:00\n",
       "55387 59     2013-12-31 23:00:00\n",
       "55388 20     2013-12-31 15:00:00\n",
       "55389 25     2013-12-31 20:00:00\n",
       "55390 32     2013-12-31 19:00:00\n",
       "55391  5     2013-12-31 15:00:00\n",
       "55392  0     2013-12-31 10:00:00\n",
       "55393 40     2013-12-31 08:00:00\n",
       "55394 54     2013-12-31 07:00:00\n",
       " [ getOption(\"max.print\") 에 도달했습니다 -- 9 행들을 생략합니다 ]"
      ]
     },
     "metadata": {},
     "output_type": "display_data"
    }
   ],
   "source": [
    "df %>% filter(month==11|month==12)"
   ]
  },
  {
   "cell_type": "code",
   "execution_count": 47,
   "id": "1dc3aac4-0194-446c-8e05-381171292390",
   "metadata": {},
   "outputs": [
    {
     "data": {
      "text/html": [
       "<table class=\"dataframe\">\n",
       "<caption>A tibble: 55403 × 19</caption>\n",
       "<thead>\n",
       "\t<tr><th scope=col>year</th><th scope=col>month</th><th scope=col>day</th><th scope=col>dep_time</th><th scope=col>sched_dep_time</th><th scope=col>dep_delay</th><th scope=col>arr_time</th><th scope=col>sched_arr_time</th><th scope=col>arr_delay</th><th scope=col>carrier</th><th scope=col>flight</th><th scope=col>tailnum</th><th scope=col>origin</th><th scope=col>dest</th><th scope=col>air_time</th><th scope=col>distance</th><th scope=col>hour</th><th scope=col>minute</th><th scope=col>time_hour</th></tr>\n",
       "\t<tr><th scope=col>&lt;int&gt;</th><th scope=col>&lt;int&gt;</th><th scope=col>&lt;int&gt;</th><th scope=col>&lt;int&gt;</th><th scope=col>&lt;int&gt;</th><th scope=col>&lt;dbl&gt;</th><th scope=col>&lt;int&gt;</th><th scope=col>&lt;int&gt;</th><th scope=col>&lt;dbl&gt;</th><th scope=col>&lt;chr&gt;</th><th scope=col>&lt;int&gt;</th><th scope=col>&lt;chr&gt;</th><th scope=col>&lt;chr&gt;</th><th scope=col>&lt;chr&gt;</th><th scope=col>&lt;dbl&gt;</th><th scope=col>&lt;dbl&gt;</th><th scope=col>&lt;dbl&gt;</th><th scope=col>&lt;dbl&gt;</th><th scope=col>&lt;dttm&gt;</th></tr>\n",
       "</thead>\n",
       "<tbody>\n",
       "\t<tr><td>2013</td><td>11</td><td>1</td><td>  5</td><td>2359</td><td>  6</td><td>352</td><td> 345</td><td>  7</td><td>B6</td><td> 745</td><td>N568JB</td><td>JFK</td><td>PSE</td><td>205</td><td>1617</td><td>23</td><td>59</td><td>2013-11-01 23:00:00</td></tr>\n",
       "\t<tr><td>2013</td><td>11</td><td>1</td><td> 35</td><td>2250</td><td>105</td><td>123</td><td>2356</td><td> 87</td><td>B6</td><td>1816</td><td>N353JB</td><td>JFK</td><td>SYR</td><td> 36</td><td> 209</td><td>22</td><td>50</td><td>2013-11-01 22:00:00</td></tr>\n",
       "\t<tr><td>2013</td><td>11</td><td>1</td><td>455</td><td> 500</td><td> -5</td><td>641</td><td> 651</td><td>-10</td><td>US</td><td>1895</td><td>N192UW</td><td>EWR</td><td>CLT</td><td> 88</td><td> 529</td><td> 5</td><td> 0</td><td>2013-11-01 05:00:00</td></tr>\n",
       "\t<tr><td>2013</td><td>11</td><td>1</td><td>539</td><td> 545</td><td> -6</td><td>856</td><td> 827</td><td> 29</td><td>UA</td><td>1714</td><td>N38727</td><td>LGA</td><td>IAH</td><td>229</td><td>1416</td><td> 5</td><td>45</td><td>2013-11-01 05:00:00</td></tr>\n",
       "\t<tr><td>2013</td><td>11</td><td>1</td><td>542</td><td> 545</td><td> -3</td><td>831</td><td> 855</td><td>-24</td><td>AA</td><td>2243</td><td>N5CLAA</td><td>JFK</td><td>MIA</td><td>147</td><td>1089</td><td> 5</td><td>45</td><td>2013-11-01 05:00:00</td></tr>\n",
       "\t<tr><td>2013</td><td>11</td><td>1</td><td>549</td><td> 600</td><td>-11</td><td>912</td><td> 923</td><td>-11</td><td>UA</td><td> 303</td><td>N595UA</td><td>JFK</td><td>SFO</td><td>359</td><td>2586</td><td> 6</td><td> 0</td><td>2013-11-01 06:00:00</td></tr>\n",
       "\t<tr><td>2013</td><td>11</td><td>1</td><td>550</td><td> 600</td><td>-10</td><td>705</td><td> 659</td><td>  6</td><td>US</td><td>2167</td><td>N748UW</td><td>LGA</td><td>DCA</td><td> 57</td><td> 214</td><td> 6</td><td> 0</td><td>2013-11-01 06:00:00</td></tr>\n",
       "\t<tr><td>2013</td><td>11</td><td>1</td><td>554</td><td> 600</td><td> -6</td><td>659</td><td> 701</td><td> -2</td><td>US</td><td>2134</td><td>N742PS</td><td>LGA</td><td>BOS</td><td> 40</td><td> 184</td><td> 6</td><td> 0</td><td>2013-11-01 06:00:00</td></tr>\n",
       "\t<tr><td>2013</td><td>11</td><td>1</td><td>554</td><td> 600</td><td> -6</td><td>826</td><td> 827</td><td> -1</td><td>DL</td><td> 563</td><td>N912DE</td><td>LGA</td><td>ATL</td><td>126</td><td> 762</td><td> 6</td><td> 0</td><td>2013-11-01 06:00:00</td></tr>\n",
       "\t<tr><td>2013</td><td>11</td><td>1</td><td>554</td><td> 600</td><td> -6</td><td>749</td><td> 751</td><td> -2</td><td>DL</td><td> 731</td><td>N315NB</td><td>LGA</td><td>DTW</td><td> 93</td><td> 502</td><td> 6</td><td> 0</td><td>2013-11-01 06:00:00</td></tr>\n",
       "\t<tr><td>2013</td><td>11</td><td>1</td><td>555</td><td> 600</td><td> -5</td><td>847</td><td> 854</td><td> -7</td><td>B6</td><td> 605</td><td>N640JB</td><td>EWR</td><td>FLL</td><td>149</td><td>1065</td><td> 6</td><td> 0</td><td>2013-11-01 06:00:00</td></tr>\n",
       "\t<tr><td>2013</td><td>11</td><td>1</td><td>555</td><td> 600</td><td> -5</td><td>839</td><td> 846</td><td> -7</td><td>B6</td><td> 583</td><td>N661JB</td><td>JFK</td><td>MCO</td><td>136</td><td> 944</td><td> 6</td><td> 0</td><td>2013-11-01 06:00:00</td></tr>\n",
       "\t<tr><td>2013</td><td>11</td><td>1</td><td>555</td><td> 600</td><td> -5</td><td>929</td><td> 943</td><td>-14</td><td>B6</td><td>1403</td><td>N746JB</td><td>JFK</td><td>SJU</td><td>196</td><td>1598</td><td> 6</td><td> 0</td><td>2013-11-01 06:00:00</td></tr>\n",
       "\t<tr><td>2013</td><td>11</td><td>1</td><td>556</td><td> 600</td><td> -4</td><td>834</td><td> 851</td><td>-17</td><td>UA</td><td> 407</td><td>N834UA</td><td>EWR</td><td>TPA</td><td>142</td><td> 997</td><td> 6</td><td> 0</td><td>2013-11-01 06:00:00</td></tr>\n",
       "\t<tr><td>2013</td><td>11</td><td>1</td><td>558</td><td> 600</td><td> -2</td><td>727</td><td> 730</td><td> -3</td><td>UA</td><td> 279</td><td>N459UA</td><td>EWR</td><td>ORD</td><td>118</td><td> 719</td><td> 6</td><td> 0</td><td>2013-11-01 06:00:00</td></tr>\n",
       "\t<tr><td>2013</td><td>11</td><td>1</td><td>558</td><td> 600</td><td> -2</td><td>650</td><td> 658</td><td> -8</td><td>US</td><td>1909</td><td>N950UW</td><td>LGA</td><td>PHL</td><td> 38</td><td>  96</td><td> 6</td><td> 0</td><td>2013-11-01 06:00:00</td></tr>\n",
       "\t<tr><td>2013</td><td>11</td><td>1</td><td>558</td><td> 600</td><td> -2</td><td>914</td><td> 905</td><td>  9</td><td>AA</td><td>1175</td><td>N3GHAA</td><td>LGA</td><td>MIA</td><td>155</td><td>1096</td><td> 6</td><td> 0</td><td>2013-11-01 06:00:00</td></tr>\n",
       "\t<tr><td>2013</td><td>11</td><td>1</td><td>558</td><td> 600</td><td> -2</td><td>720</td><td> 715</td><td>  5</td><td>WN</td><td> 464</td><td>N390SW</td><td>EWR</td><td>MDW</td><td>117</td><td> 711</td><td> 6</td><td> 0</td><td>2013-11-01 06:00:00</td></tr>\n",
       "\t<tr><td>2013</td><td>11</td><td>1</td><td>559</td><td> 600</td><td> -1</td><td>756</td><td> 730</td><td> 26</td><td>AA</td><td> 301</td><td>N4YHAA</td><td>LGA</td><td>ORD</td><td>119</td><td> 733</td><td> 6</td><td> 0</td><td>2013-11-01 06:00:00</td></tr>\n",
       "\t<tr><td>2013</td><td>11</td><td>1</td><td>600</td><td> 600</td><td>  0</td><td>709</td><td> 716</td><td> -7</td><td>EV</td><td>5716</td><td>N820AS</td><td>JFK</td><td>IAD</td><td> 49</td><td> 228</td><td> 6</td><td> 0</td><td>2013-11-01 06:00:00</td></tr>\n",
       "\t<tr><td>2013</td><td>11</td><td>1</td><td>600</td><td> 600</td><td>  0</td><td>725</td><td> 721</td><td>  4</td><td>UA</td><td>1198</td><td>N23707</td><td>LGA</td><td>ORD</td><td>121</td><td> 733</td><td> 6</td><td> 0</td><td>2013-11-01 06:00:00</td></tr>\n",
       "\t<tr><td>2013</td><td>11</td><td>1</td><td>601</td><td> 600</td><td>  1</td><td>853</td><td> 856</td><td> -3</td><td>B6</td><td> 371</td><td>N570JB</td><td>LGA</td><td>FLL</td><td>150</td><td>1076</td><td> 6</td><td> 0</td><td>2013-11-01 06:00:00</td></tr>\n",
       "\t<tr><td>2013</td><td>11</td><td>1</td><td>601</td><td> 610</td><td> -9</td><td>803</td><td> 813</td><td>-10</td><td>DL</td><td>1919</td><td>N922DL</td><td>LGA</td><td>MSP</td><td>153</td><td>1020</td><td> 6</td><td>10</td><td>2013-11-01 06:00:00</td></tr>\n",
       "\t<tr><td>2013</td><td>11</td><td>1</td><td>602</td><td> 600</td><td>  2</td><td>843</td><td> 815</td><td> 28</td><td>FL</td><td> 345</td><td>N353AT</td><td>LGA</td><td>ATL</td><td>131</td><td> 762</td><td> 6</td><td> 0</td><td>2013-11-01 06:00:00</td></tr>\n",
       "\t<tr><td>2013</td><td>11</td><td>1</td><td>603</td><td> 600</td><td>  3</td><td>717</td><td> 711</td><td>  6</td><td>EV</td><td>4533</td><td>N11109</td><td>EWR</td><td>BUF</td><td> 53</td><td> 282</td><td> 6</td><td> 0</td><td>2013-11-01 06:00:00</td></tr>\n",
       "\t<tr><td>2013</td><td>11</td><td>1</td><td>604</td><td> 610</td><td> -6</td><td>855</td><td> 855</td><td>  0</td><td>AA</td><td>1103</td><td>N3FTAA</td><td>LGA</td><td>DFW</td><td>205</td><td>1389</td><td> 6</td><td>10</td><td>2013-11-01 06:00:00</td></tr>\n",
       "\t<tr><td>2013</td><td>11</td><td>1</td><td>606</td><td> 615</td><td> -9</td><td>746</td><td> 750</td><td> -4</td><td>MQ</td><td>3525</td><td>N834MQ</td><td>LGA</td><td>RDU</td><td> 74</td><td> 431</td><td> 6</td><td>15</td><td>2013-11-01 06:00:00</td></tr>\n",
       "\t<tr><td>2013</td><td>11</td><td>1</td><td>606</td><td> 615</td><td> -9</td><td>807</td><td> 817</td><td>-10</td><td>US</td><td>1899</td><td>N199UW</td><td>JFK</td><td>CLT</td><td> 93</td><td> 541</td><td> 6</td><td>15</td><td>2013-11-01 06:00:00</td></tr>\n",
       "\t<tr><td>2013</td><td>11</td><td>1</td><td>606</td><td> 610</td><td> -4</td><td>752</td><td> 745</td><td>  7</td><td>WN</td><td>2609</td><td>N440LV</td><td>LGA</td><td>STL</td><td>142</td><td> 888</td><td> 6</td><td>10</td><td>2013-11-01 06:00:00</td></tr>\n",
       "\t<tr><td>2013</td><td>11</td><td>1</td><td>607</td><td> 611</td><td> -4</td><td>857</td><td> 912</td><td>-15</td><td>B6</td><td> 601</td><td>N597JB</td><td>JFK</td><td>FLL</td><td>149</td><td>1069</td><td> 6</td><td>11</td><td>2013-11-01 06:00:00</td></tr>\n",
       "\t<tr><td>⋮</td><td>⋮</td><td>⋮</td><td>⋮</td><td>⋮</td><td>⋮</td><td>⋮</td><td>⋮</td><td>⋮</td><td>⋮</td><td>⋮</td><td>⋮</td><td>⋮</td><td>⋮</td><td>⋮</td><td>⋮</td><td>⋮</td><td>⋮</td><td>⋮</td></tr>\n",
       "\t<tr><td>2013</td><td>12</td><td>31</td><td>2155</td><td>2039</td><td> 76</td><td> 253</td><td>2355</td><td> NA</td><td>B6</td><td>1205</td><td>N627JB</td><td>JFK</td><td>PDX</td><td> NA</td><td>2454</td><td>20</td><td>39</td><td>2013-12-31 20:00:00</td></tr>\n",
       "\t<tr><td>2013</td><td>12</td><td>31</td><td>2155</td><td>2150</td><td>  5</td><td> 110</td><td>  51</td><td> 19</td><td>B6</td><td>1901</td><td>N729JB</td><td>JFK</td><td>FLL</td><td>164</td><td>1069</td><td>21</td><td>50</td><td>2013-12-31 21:00:00</td></tr>\n",
       "\t<tr><td>2013</td><td>12</td><td>31</td><td>2159</td><td>2155</td><td>  4</td><td>  55</td><td>  46</td><td>  9</td><td>B6</td><td>2053</td><td>N593JB</td><td>JFK</td><td>PBI</td><td>155</td><td>1028</td><td>21</td><td>55</td><td>2013-12-31 21:00:00</td></tr>\n",
       "\t<tr><td>2013</td><td>12</td><td>31</td><td>2206</td><td>2110</td><td> 56</td><td>  44</td><td>2339</td><td> 65</td><td>B6</td><td> 775</td><td>N184JB</td><td>JFK</td><td>MSY</td><td>195</td><td>1182</td><td>21</td><td>10</td><td>2013-12-31 21:00:00</td></tr>\n",
       "\t<tr><td>2013</td><td>12</td><td>31</td><td>2211</td><td>2159</td><td> 12</td><td> 100</td><td>  45</td><td> 15</td><td>B6</td><td>1183</td><td>N715JB</td><td>JFK</td><td>MCO</td><td>148</td><td> 944</td><td>21</td><td>59</td><td>2013-12-31 21:00:00</td></tr>\n",
       "\t<tr><td>2013</td><td>12</td><td>31</td><td>2218</td><td>2219</td><td> -1</td><td> 315</td><td> 304</td><td> 11</td><td>B6</td><td>1203</td><td>N625JB</td><td>JFK</td><td>SJU</td><td>202</td><td>1598</td><td>22</td><td>19</td><td>2013-12-31 22:00:00</td></tr>\n",
       "\t<tr><td>2013</td><td>12</td><td>31</td><td>2235</td><td>2245</td><td>-10</td><td>2351</td><td>2355</td><td> -4</td><td>B6</td><td> 234</td><td>N355JB</td><td>JFK</td><td>BTV</td><td> 49</td><td> 266</td><td>22</td><td>45</td><td>2013-12-31 22:00:00</td></tr>\n",
       "\t<tr><td>2013</td><td>12</td><td>31</td><td>2245</td><td>2250</td><td> -5</td><td>2359</td><td>2356</td><td>  3</td><td>B6</td><td>1816</td><td>N318JB</td><td>JFK</td><td>SYR</td><td> 51</td><td> 209</td><td>22</td><td>50</td><td>2013-12-31 22:00:00</td></tr>\n",
       "\t<tr><td>2013</td><td>12</td><td>31</td><td>2310</td><td>2255</td><td> 15</td><td>   7</td><td>2356</td><td> 11</td><td>B6</td><td> 718</td><td>N279JB</td><td>JFK</td><td>BOS</td><td> 40</td><td> 187</td><td>22</td><td>55</td><td>2013-12-31 22:00:00</td></tr>\n",
       "\t<tr><td>2013</td><td>12</td><td>31</td><td>2321</td><td>2250</td><td> 31</td><td>  46</td><td>   8</td><td> 38</td><td>B6</td><td>2002</td><td>N179JB</td><td>JFK</td><td>BUF</td><td> 66</td><td> 301</td><td>22</td><td>50</td><td>2013-12-31 22:00:00</td></tr>\n",
       "\t<tr><td>2013</td><td>12</td><td>31</td><td>2328</td><td>2330</td><td> -2</td><td> 412</td><td> 409</td><td>  3</td><td>B6</td><td>1389</td><td>N651JB</td><td>EWR</td><td>SJU</td><td>198</td><td>1608</td><td>23</td><td>30</td><td>2013-12-31 23:00:00</td></tr>\n",
       "\t<tr><td>2013</td><td>12</td><td>31</td><td>2332</td><td>2245</td><td> 47</td><td>  58</td><td>   3</td><td> 55</td><td>B6</td><td> 486</td><td>N334JB</td><td>JFK</td><td>ROC</td><td> 60</td><td> 264</td><td>22</td><td>45</td><td>2013-12-31 22:00:00</td></tr>\n",
       "\t<tr><td>2013</td><td>12</td><td>31</td><td>2355</td><td>2359</td><td> -4</td><td> 430</td><td> 440</td><td>-10</td><td>B6</td><td>1503</td><td>N509JB</td><td>JFK</td><td>SJU</td><td>195</td><td>1598</td><td>23</td><td>59</td><td>2013-12-31 23:00:00</td></tr>\n",
       "\t<tr><td>2013</td><td>12</td><td>31</td><td>2356</td><td>2359</td><td> -3</td><td> 436</td><td> 445</td><td> -9</td><td>B6</td><td> 745</td><td>N665JB</td><td>JFK</td><td>PSE</td><td>200</td><td>1617</td><td>23</td><td>59</td><td>2013-12-31 23:00:00</td></tr>\n",
       "\t<tr><td>2013</td><td>12</td><td>31</td><td>  NA</td><td>1520</td><td> NA</td><td>  NA</td><td>1705</td><td> NA</td><td>AA</td><td> 341</td><td>N568AA</td><td>LGA</td><td>ORD</td><td> NA</td><td> 733</td><td>15</td><td>20</td><td>2013-12-31 15:00:00</td></tr>\n",
       "\t<tr><td>2013</td><td>12</td><td>31</td><td>  NA</td><td>2025</td><td> NA</td><td>  NA</td><td>2205</td><td> NA</td><td>AA</td><td> 371</td><td>N482AA</td><td>LGA</td><td>ORD</td><td> NA</td><td> 733</td><td>20</td><td>25</td><td>2013-12-31 20:00:00</td></tr>\n",
       "\t<tr><td>2013</td><td>12</td><td>31</td><td>  NA</td><td>1932</td><td> NA</td><td>  NA</td><td>2305</td><td> NA</td><td>B6</td><td> 161</td><td>N516JB</td><td>JFK</td><td>SMF</td><td> NA</td><td>2521</td><td>19</td><td>32</td><td>2013-12-31 19:00:00</td></tr>\n",
       "\t<tr><td>2013</td><td>12</td><td>31</td><td>  NA</td><td>1505</td><td> NA</td><td>  NA</td><td>1725</td><td> NA</td><td>EV</td><td>4181</td><td>N24103</td><td>EWR</td><td>MCI</td><td> NA</td><td>1092</td><td>15</td><td> 5</td><td>2013-12-31 15:00:00</td></tr>\n",
       "\t<tr><td>2013</td><td>12</td><td>31</td><td>  NA</td><td>1000</td><td> NA</td><td>  NA</td><td>1252</td><td> NA</td><td>UA</td><td>1124</td><td>NA    </td><td>EWR</td><td>EGE</td><td> NA</td><td>1725</td><td>10</td><td> 0</td><td>2013-12-31 10:00:00</td></tr>\n",
       "\t<tr><td>2013</td><td>12</td><td>31</td><td>  NA</td><td> 840</td><td> NA</td><td>  NA</td><td>1205</td><td> NA</td><td>UA</td><td>1151</td><td>NA    </td><td>EWR</td><td>SEA</td><td> NA</td><td>2402</td><td> 8</td><td>40</td><td>2013-12-31 08:00:00</td></tr>\n",
       "\t<tr><td>2013</td><td>12</td><td>31</td><td>  NA</td><td> 754</td><td> NA</td><td>  NA</td><td>1118</td><td> NA</td><td>UA</td><td>1455</td><td>NA    </td><td>EWR</td><td>LAX</td><td> NA</td><td>2454</td><td> 7</td><td>54</td><td>2013-12-31 07:00:00</td></tr>\n",
       "\t<tr><td>2013</td><td>12</td><td>31</td><td>  NA</td><td>2000</td><td> NA</td><td>  NA</td><td>2146</td><td> NA</td><td>UA</td><td>1482</td><td>NA    </td><td>EWR</td><td>ORD</td><td> NA</td><td> 719</td><td>20</td><td> 0</td><td>2013-12-31 20:00:00</td></tr>\n",
       "\t<tr><td>2013</td><td>12</td><td>31</td><td>  NA</td><td>1500</td><td> NA</td><td>  NA</td><td>1817</td><td> NA</td><td>UA</td><td>1483</td><td>NA    </td><td>EWR</td><td>AUS</td><td> NA</td><td>1504</td><td>15</td><td> 0</td><td>2013-12-31 15:00:00</td></tr>\n",
       "\t<tr><td>2013</td><td>12</td><td>31</td><td>  NA</td><td>1430</td><td> NA</td><td>  NA</td><td>1750</td><td> NA</td><td>UA</td><td>1493</td><td>NA    </td><td>EWR</td><td>LAX</td><td> NA</td><td>2454</td><td>14</td><td>30</td><td>2013-12-31 14:00:00</td></tr>\n",
       "\t<tr><td>2013</td><td>12</td><td>31</td><td>  NA</td><td> 855</td><td> NA</td><td>  NA</td><td>1142</td><td> NA</td><td>UA</td><td>1506</td><td>NA    </td><td>EWR</td><td>JAC</td><td> NA</td><td>1874</td><td> 8</td><td>55</td><td>2013-12-31 08:00:00</td></tr>\n",
       "\t<tr><td>2013</td><td>12</td><td>31</td><td>  NA</td><td> 705</td><td> NA</td><td>  NA</td><td> 931</td><td> NA</td><td>UA</td><td>1729</td><td>NA    </td><td>EWR</td><td>DEN</td><td> NA</td><td>1605</td><td> 7</td><td> 5</td><td>2013-12-31 07:00:00</td></tr>\n",
       "\t<tr><td>2013</td><td>12</td><td>31</td><td>  NA</td><td> 825</td><td> NA</td><td>  NA</td><td>1029</td><td> NA</td><td>US</td><td>1831</td><td>NA    </td><td>JFK</td><td>CLT</td><td> NA</td><td> 541</td><td> 8</td><td>25</td><td>2013-12-31 08:00:00</td></tr>\n",
       "\t<tr><td>2013</td><td>12</td><td>31</td><td>  NA</td><td>1615</td><td> NA</td><td>  NA</td><td>1800</td><td> NA</td><td>MQ</td><td>3301</td><td>N844MQ</td><td>LGA</td><td>RDU</td><td> NA</td><td> 431</td><td>16</td><td>15</td><td>2013-12-31 16:00:00</td></tr>\n",
       "\t<tr><td>2013</td><td>12</td><td>31</td><td>  NA</td><td> 600</td><td> NA</td><td>  NA</td><td> 735</td><td> NA</td><td>UA</td><td> 219</td><td>NA    </td><td>EWR</td><td>ORD</td><td> NA</td><td> 719</td><td> 6</td><td> 0</td><td>2013-12-31 06:00:00</td></tr>\n",
       "\t<tr><td>2013</td><td>12</td><td>31</td><td>  NA</td><td> 830</td><td> NA</td><td>  NA</td><td>1154</td><td> NA</td><td>UA</td><td> 443</td><td>NA    </td><td>JFK</td><td>LAX</td><td> NA</td><td>2475</td><td> 8</td><td>30</td><td>2013-12-31 08:00:00</td></tr>\n",
       "</tbody>\n",
       "</table>\n"
      ],
      "text/plain": [
       "      year month day dep_time sched_dep_time dep_delay arr_time sched_arr_time\n",
       "1     2013 11    1     5      2359             6       352       345          \n",
       "2     2013 11    1    35      2250           105       123      2356          \n",
       "3     2013 11    1   455       500            -5       641       651          \n",
       "4     2013 11    1   539       545            -6       856       827          \n",
       "5     2013 11    1   542       545            -3       831       855          \n",
       "6     2013 11    1   549       600           -11       912       923          \n",
       "7     2013 11    1   550       600           -10       705       659          \n",
       "8     2013 11    1   554       600            -6       659       701          \n",
       "9     2013 11    1   554       600            -6       826       827          \n",
       "10    2013 11    1   554       600            -6       749       751          \n",
       "11    2013 11    1   555       600            -5       847       854          \n",
       "12    2013 11    1   555       600            -5       839       846          \n",
       "13    2013 11    1   555       600            -5       929       943          \n",
       "14    2013 11    1   556       600            -4       834       851          \n",
       "15    2013 11    1   558       600            -2       727       730          \n",
       "16    2013 11    1   558       600            -2       650       658          \n",
       "17    2013 11    1   558       600            -2       914       905          \n",
       "18    2013 11    1   558       600            -2       720       715          \n",
       "19    2013 11    1   559       600            -1       756       730          \n",
       "20    2013 11    1   600       600             0       709       716          \n",
       "21    2013 11    1   600       600             0       725       721          \n",
       "22    2013 11    1   601       600             1       853       856          \n",
       "23    2013 11    1   601       610            -9       803       813          \n",
       "24    2013 11    1   602       600             2       843       815          \n",
       "25    2013 11    1   603       600             3       717       711          \n",
       "26    2013 11    1   604       610            -6       855       855          \n",
       "27    2013 11    1   606       615            -9       746       750          \n",
       "28    2013 11    1   606       615            -9       807       817          \n",
       "29    2013 11    1   606       610            -4       752       745          \n",
       "30    2013 11    1   607       611            -4       857       912          \n",
       "<U+22EE>     <U+22EE> <U+22EE> <U+22EE> <U+22EE> <U+22EE>       <U+22EE>  <U+22EE> <U+22EE>      \n",
       "55374 2013 12    31  2155     2039            76        253     2355          \n",
       "55375 2013 12    31  2155     2150             5        110       51          \n",
       "55376 2013 12    31  2159     2155             4         55       46          \n",
       "55377 2013 12    31  2206     2110            56         44     2339          \n",
       "55378 2013 12    31  2211     2159            12        100       45          \n",
       "55379 2013 12    31  2218     2219            -1        315      304          \n",
       "55380 2013 12    31  2235     2245           -10       2351     2355          \n",
       "55381 2013 12    31  2245     2250            -5       2359     2356          \n",
       "55382 2013 12    31  2310     2255            15          7     2356          \n",
       "55383 2013 12    31  2321     2250            31         46        8          \n",
       "55384 2013 12    31  2328     2330            -2        412      409          \n",
       "55385 2013 12    31  2332     2245            47         58        3          \n",
       "55386 2013 12    31  2355     2359            -4        430      440          \n",
       "55387 2013 12    31  2356     2359            -3        436      445          \n",
       "55388 2013 12    31    NA     1520            NA         NA     1705          \n",
       "55389 2013 12    31    NA     2025            NA         NA     2205          \n",
       "55390 2013 12    31    NA     1932            NA         NA     2305          \n",
       "55391 2013 12    31    NA     1505            NA         NA     1725          \n",
       "55392 2013 12    31    NA     1000            NA         NA     1252          \n",
       "55393 2013 12    31    NA      840            NA         NA     1205          \n",
       "55394 2013 12    31    NA      754            NA         NA     1118          \n",
       "      arr_delay carrier flight tailnum origin dest air_time distance hour\n",
       "1       7       B6       745   N568JB  JFK    PSE  205      1617     23  \n",
       "2      87       B6      1816   N353JB  JFK    SYR   36       209     22  \n",
       "3     -10       US      1895   N192UW  EWR    CLT   88       529      5  \n",
       "4      29       UA      1714   N38727  LGA    IAH  229      1416      5  \n",
       "5     -24       AA      2243   N5CLAA  JFK    MIA  147      1089      5  \n",
       "6     -11       UA       303   N595UA  JFK    SFO  359      2586      6  \n",
       "7       6       US      2167   N748UW  LGA    DCA   57       214      6  \n",
       "8      -2       US      2134   N742PS  LGA    BOS   40       184      6  \n",
       "9      -1       DL       563   N912DE  LGA    ATL  126       762      6  \n",
       "10     -2       DL       731   N315NB  LGA    DTW   93       502      6  \n",
       "11     -7       B6       605   N640JB  EWR    FLL  149      1065      6  \n",
       "12     -7       B6       583   N661JB  JFK    MCO  136       944      6  \n",
       "13    -14       B6      1403   N746JB  JFK    SJU  196      1598      6  \n",
       "14    -17       UA       407   N834UA  EWR    TPA  142       997      6  \n",
       "15     -3       UA       279   N459UA  EWR    ORD  118       719      6  \n",
       "16     -8       US      1909   N950UW  LGA    PHL   38        96      6  \n",
       "17      9       AA      1175   N3GHAA  LGA    MIA  155      1096      6  \n",
       "18      5       WN       464   N390SW  EWR    MDW  117       711      6  \n",
       "19     26       AA       301   N4YHAA  LGA    ORD  119       733      6  \n",
       "20     -7       EV      5716   N820AS  JFK    IAD   49       228      6  \n",
       "21      4       UA      1198   N23707  LGA    ORD  121       733      6  \n",
       "22     -3       B6       371   N570JB  LGA    FLL  150      1076      6  \n",
       "23    -10       DL      1919   N922DL  LGA    MSP  153      1020      6  \n",
       "24     28       FL       345   N353AT  LGA    ATL  131       762      6  \n",
       "25      6       EV      4533   N11109  EWR    BUF   53       282      6  \n",
       "26      0       AA      1103   N3FTAA  LGA    DFW  205      1389      6  \n",
       "27     -4       MQ      3525   N834MQ  LGA    RDU   74       431      6  \n",
       "28    -10       US      1899   N199UW  JFK    CLT   93       541      6  \n",
       "29      7       WN      2609   N440LV  LGA    STL  142       888      6  \n",
       "30    -15       B6       601   N597JB  JFK    FLL  149      1069      6  \n",
       "<U+22EE>     <U+22EE>  <U+22EE> <U+22EE> <U+22EE> <U+22EE> <U+22EE> <U+22EE> <U+22EE> <U+22EE>\n",
       "55374  NA       B6      1205   N627JB  JFK    PDX   NA      2454     20  \n",
       "55375  19       B6      1901   N729JB  JFK    FLL  164      1069     21  \n",
       "55376   9       B6      2053   N593JB  JFK    PBI  155      1028     21  \n",
       "55377  65       B6       775   N184JB  JFK    MSY  195      1182     21  \n",
       "55378  15       B6      1183   N715JB  JFK    MCO  148       944     21  \n",
       "55379  11       B6      1203   N625JB  JFK    SJU  202      1598     22  \n",
       "55380  -4       B6       234   N355JB  JFK    BTV   49       266     22  \n",
       "55381   3       B6      1816   N318JB  JFK    SYR   51       209     22  \n",
       "55382  11       B6       718   N279JB  JFK    BOS   40       187     22  \n",
       "55383  38       B6      2002   N179JB  JFK    BUF   66       301     22  \n",
       "55384   3       B6      1389   N651JB  EWR    SJU  198      1608     23  \n",
       "55385  55       B6       486   N334JB  JFK    ROC   60       264     22  \n",
       "55386 -10       B6      1503   N509JB  JFK    SJU  195      1598     23  \n",
       "55387  -9       B6       745   N665JB  JFK    PSE  200      1617     23  \n",
       "55388  NA       AA       341   N568AA  LGA    ORD   NA       733     15  \n",
       "55389  NA       AA       371   N482AA  LGA    ORD   NA       733     20  \n",
       "55390  NA       B6       161   N516JB  JFK    SMF   NA      2521     19  \n",
       "55391  NA       EV      4181   N24103  EWR    MCI   NA      1092     15  \n",
       "55392  NA       UA      1124   NA      EWR    EGE   NA      1725     10  \n",
       "55393  NA       UA      1151   NA      EWR    SEA   NA      2402      8  \n",
       "55394  NA       UA      1455   NA      EWR    LAX   NA      2454      7  \n",
       "      minute time_hour          \n",
       "1     59     2013-11-01 23:00:00\n",
       "2     50     2013-11-01 22:00:00\n",
       "3      0     2013-11-01 05:00:00\n",
       "4     45     2013-11-01 05:00:00\n",
       "5     45     2013-11-01 05:00:00\n",
       "6      0     2013-11-01 06:00:00\n",
       "7      0     2013-11-01 06:00:00\n",
       "8      0     2013-11-01 06:00:00\n",
       "9      0     2013-11-01 06:00:00\n",
       "10     0     2013-11-01 06:00:00\n",
       "11     0     2013-11-01 06:00:00\n",
       "12     0     2013-11-01 06:00:00\n",
       "13     0     2013-11-01 06:00:00\n",
       "14     0     2013-11-01 06:00:00\n",
       "15     0     2013-11-01 06:00:00\n",
       "16     0     2013-11-01 06:00:00\n",
       "17     0     2013-11-01 06:00:00\n",
       "18     0     2013-11-01 06:00:00\n",
       "19     0     2013-11-01 06:00:00\n",
       "20     0     2013-11-01 06:00:00\n",
       "21     0     2013-11-01 06:00:00\n",
       "22     0     2013-11-01 06:00:00\n",
       "23    10     2013-11-01 06:00:00\n",
       "24     0     2013-11-01 06:00:00\n",
       "25     0     2013-11-01 06:00:00\n",
       "26    10     2013-11-01 06:00:00\n",
       "27    15     2013-11-01 06:00:00\n",
       "28    15     2013-11-01 06:00:00\n",
       "29    10     2013-11-01 06:00:00\n",
       "30    11     2013-11-01 06:00:00\n",
       "<U+22EE>     <U+22EE> <U+22EE>           \n",
       "55374 39     2013-12-31 20:00:00\n",
       "55375 50     2013-12-31 21:00:00\n",
       "55376 55     2013-12-31 21:00:00\n",
       "55377 10     2013-12-31 21:00:00\n",
       "55378 59     2013-12-31 21:00:00\n",
       "55379 19     2013-12-31 22:00:00\n",
       "55380 45     2013-12-31 22:00:00\n",
       "55381 50     2013-12-31 22:00:00\n",
       "55382 55     2013-12-31 22:00:00\n",
       "55383 50     2013-12-31 22:00:00\n",
       "55384 30     2013-12-31 23:00:00\n",
       "55385 45     2013-12-31 22:00:00\n",
       "55386 59     2013-12-31 23:00:00\n",
       "55387 59     2013-12-31 23:00:00\n",
       "55388 20     2013-12-31 15:00:00\n",
       "55389 25     2013-12-31 20:00:00\n",
       "55390 32     2013-12-31 19:00:00\n",
       "55391  5     2013-12-31 15:00:00\n",
       "55392  0     2013-12-31 10:00:00\n",
       "55393 40     2013-12-31 08:00:00\n",
       "55394 54     2013-12-31 07:00:00\n",
       " [ getOption(\"max.print\") 에 도달했습니다 -- 9 행들을 생략합니다 ]"
      ]
     },
     "metadata": {},
     "output_type": "display_data"
    }
   ],
   "source": [
    "df %>% filter(month %in% c(11,12))"
   ]
  },
  {
   "cell_type": "markdown",
   "id": "1274d2f8-4989-48d6-842e-37c05519fd2d",
   "metadata": {},
   "source": [
    "## arr_delay가 120이하이고 dep_delay가 120이하인 항곤편을 선택하고 싶다."
   ]
  },
  {
   "cell_type": "code",
   "execution_count": 48,
   "id": "e744e1cf-923a-42eb-9728-9d8299f99747",
   "metadata": {},
   "outputs": [
    {
     "data": {
      "text/html": [
       "<table class=\"dataframe\">\n",
       "<caption>A tibble: 316050 × 19</caption>\n",
       "<thead>\n",
       "\t<tr><th scope=col>year</th><th scope=col>month</th><th scope=col>day</th><th scope=col>dep_time</th><th scope=col>sched_dep_time</th><th scope=col>dep_delay</th><th scope=col>arr_time</th><th scope=col>sched_arr_time</th><th scope=col>arr_delay</th><th scope=col>carrier</th><th scope=col>flight</th><th scope=col>tailnum</th><th scope=col>origin</th><th scope=col>dest</th><th scope=col>air_time</th><th scope=col>distance</th><th scope=col>hour</th><th scope=col>minute</th><th scope=col>time_hour</th></tr>\n",
       "\t<tr><th scope=col>&lt;int&gt;</th><th scope=col>&lt;int&gt;</th><th scope=col>&lt;int&gt;</th><th scope=col>&lt;int&gt;</th><th scope=col>&lt;int&gt;</th><th scope=col>&lt;dbl&gt;</th><th scope=col>&lt;int&gt;</th><th scope=col>&lt;int&gt;</th><th scope=col>&lt;dbl&gt;</th><th scope=col>&lt;chr&gt;</th><th scope=col>&lt;int&gt;</th><th scope=col>&lt;chr&gt;</th><th scope=col>&lt;chr&gt;</th><th scope=col>&lt;chr&gt;</th><th scope=col>&lt;dbl&gt;</th><th scope=col>&lt;dbl&gt;</th><th scope=col>&lt;dbl&gt;</th><th scope=col>&lt;dbl&gt;</th><th scope=col>&lt;dttm&gt;</th></tr>\n",
       "</thead>\n",
       "<tbody>\n",
       "\t<tr><td>2013</td><td>1</td><td>1</td><td>517</td><td>515</td><td> 2</td><td> 830</td><td> 819</td><td> 11</td><td>UA</td><td>1545</td><td>N14228</td><td>EWR</td><td>IAH</td><td>227</td><td>1400</td><td>5</td><td>15</td><td>2013-01-01 05:00:00</td></tr>\n",
       "\t<tr><td>2013</td><td>1</td><td>1</td><td>533</td><td>529</td><td> 4</td><td> 850</td><td> 830</td><td> 20</td><td>UA</td><td>1714</td><td>N24211</td><td>LGA</td><td>IAH</td><td>227</td><td>1416</td><td>5</td><td>29</td><td>2013-01-01 05:00:00</td></tr>\n",
       "\t<tr><td>2013</td><td>1</td><td>1</td><td>542</td><td>540</td><td> 2</td><td> 923</td><td> 850</td><td> 33</td><td>AA</td><td>1141</td><td>N619AA</td><td>JFK</td><td>MIA</td><td>160</td><td>1089</td><td>5</td><td>40</td><td>2013-01-01 05:00:00</td></tr>\n",
       "\t<tr><td>2013</td><td>1</td><td>1</td><td>544</td><td>545</td><td>-1</td><td>1004</td><td>1022</td><td>-18</td><td>B6</td><td> 725</td><td>N804JB</td><td>JFK</td><td>BQN</td><td>183</td><td>1576</td><td>5</td><td>45</td><td>2013-01-01 05:00:00</td></tr>\n",
       "\t<tr><td>2013</td><td>1</td><td>1</td><td>554</td><td>600</td><td>-6</td><td> 812</td><td> 837</td><td>-25</td><td>DL</td><td> 461</td><td>N668DN</td><td>LGA</td><td>ATL</td><td>116</td><td> 762</td><td>6</td><td> 0</td><td>2013-01-01 06:00:00</td></tr>\n",
       "\t<tr><td>2013</td><td>1</td><td>1</td><td>554</td><td>558</td><td>-4</td><td> 740</td><td> 728</td><td> 12</td><td>UA</td><td>1696</td><td>N39463</td><td>EWR</td><td>ORD</td><td>150</td><td> 719</td><td>5</td><td>58</td><td>2013-01-01 05:00:00</td></tr>\n",
       "\t<tr><td>2013</td><td>1</td><td>1</td><td>555</td><td>600</td><td>-5</td><td> 913</td><td> 854</td><td> 19</td><td>B6</td><td> 507</td><td>N516JB</td><td>EWR</td><td>FLL</td><td>158</td><td>1065</td><td>6</td><td> 0</td><td>2013-01-01 06:00:00</td></tr>\n",
       "\t<tr><td>2013</td><td>1</td><td>1</td><td>557</td><td>600</td><td>-3</td><td> 709</td><td> 723</td><td>-14</td><td>EV</td><td>5708</td><td>N829AS</td><td>LGA</td><td>IAD</td><td> 53</td><td> 229</td><td>6</td><td> 0</td><td>2013-01-01 06:00:00</td></tr>\n",
       "\t<tr><td>2013</td><td>1</td><td>1</td><td>557</td><td>600</td><td>-3</td><td> 838</td><td> 846</td><td> -8</td><td>B6</td><td>  79</td><td>N593JB</td><td>JFK</td><td>MCO</td><td>140</td><td> 944</td><td>6</td><td> 0</td><td>2013-01-01 06:00:00</td></tr>\n",
       "\t<tr><td>2013</td><td>1</td><td>1</td><td>558</td><td>600</td><td>-2</td><td> 753</td><td> 745</td><td>  8</td><td>AA</td><td> 301</td><td>N3ALAA</td><td>LGA</td><td>ORD</td><td>138</td><td> 733</td><td>6</td><td> 0</td><td>2013-01-01 06:00:00</td></tr>\n",
       "\t<tr><td>2013</td><td>1</td><td>1</td><td>558</td><td>600</td><td>-2</td><td> 849</td><td> 851</td><td> -2</td><td>B6</td><td>  49</td><td>N793JB</td><td>JFK</td><td>PBI</td><td>149</td><td>1028</td><td>6</td><td> 0</td><td>2013-01-01 06:00:00</td></tr>\n",
       "\t<tr><td>2013</td><td>1</td><td>1</td><td>558</td><td>600</td><td>-2</td><td> 853</td><td> 856</td><td> -3</td><td>B6</td><td>  71</td><td>N657JB</td><td>JFK</td><td>TPA</td><td>158</td><td>1005</td><td>6</td><td> 0</td><td>2013-01-01 06:00:00</td></tr>\n",
       "\t<tr><td>2013</td><td>1</td><td>1</td><td>558</td><td>600</td><td>-2</td><td> 924</td><td> 917</td><td>  7</td><td>UA</td><td> 194</td><td>N29129</td><td>JFK</td><td>LAX</td><td>345</td><td>2475</td><td>6</td><td> 0</td><td>2013-01-01 06:00:00</td></tr>\n",
       "\t<tr><td>2013</td><td>1</td><td>1</td><td>558</td><td>600</td><td>-2</td><td> 923</td><td> 937</td><td>-14</td><td>UA</td><td>1124</td><td>N53441</td><td>EWR</td><td>SFO</td><td>361</td><td>2565</td><td>6</td><td> 0</td><td>2013-01-01 06:00:00</td></tr>\n",
       "\t<tr><td>2013</td><td>1</td><td>1</td><td>559</td><td>600</td><td>-1</td><td> 941</td><td> 910</td><td> 31</td><td>AA</td><td> 707</td><td>N3DUAA</td><td>LGA</td><td>DFW</td><td>257</td><td>1389</td><td>6</td><td> 0</td><td>2013-01-01 06:00:00</td></tr>\n",
       "\t<tr><td>2013</td><td>1</td><td>1</td><td>559</td><td>559</td><td> 0</td><td> 702</td><td> 706</td><td> -4</td><td>B6</td><td>1806</td><td>N708JB</td><td>JFK</td><td>BOS</td><td> 44</td><td> 187</td><td>5</td><td>59</td><td>2013-01-01 05:00:00</td></tr>\n",
       "\t<tr><td>2013</td><td>1</td><td>1</td><td>559</td><td>600</td><td>-1</td><td> 854</td><td> 902</td><td> -8</td><td>UA</td><td>1187</td><td>N76515</td><td>EWR</td><td>LAS</td><td>337</td><td>2227</td><td>6</td><td> 0</td><td>2013-01-01 06:00:00</td></tr>\n",
       "\t<tr><td>2013</td><td>1</td><td>1</td><td>600</td><td>600</td><td> 0</td><td> 851</td><td> 858</td><td> -7</td><td>B6</td><td> 371</td><td>N595JB</td><td>LGA</td><td>FLL</td><td>152</td><td>1076</td><td>6</td><td> 0</td><td>2013-01-01 06:00:00</td></tr>\n",
       "\t<tr><td>2013</td><td>1</td><td>1</td><td>600</td><td>600</td><td> 0</td><td> 837</td><td> 825</td><td> 12</td><td>MQ</td><td>4650</td><td>N542MQ</td><td>LGA</td><td>ATL</td><td>134</td><td> 762</td><td>6</td><td> 0</td><td>2013-01-01 06:00:00</td></tr>\n",
       "\t<tr><td>2013</td><td>1</td><td>1</td><td>601</td><td>600</td><td> 1</td><td> 844</td><td> 850</td><td> -6</td><td>B6</td><td> 343</td><td>N644JB</td><td>EWR</td><td>PBI</td><td>147</td><td>1023</td><td>6</td><td> 0</td><td>2013-01-01 06:00:00</td></tr>\n",
       "\t<tr><td>2013</td><td>1</td><td>1</td><td>602</td><td>610</td><td>-8</td><td> 812</td><td> 820</td><td> -8</td><td>DL</td><td>1919</td><td>N971DL</td><td>LGA</td><td>MSP</td><td>170</td><td>1020</td><td>6</td><td>10</td><td>2013-01-01 06:00:00</td></tr>\n",
       "\t<tr><td>2013</td><td>1</td><td>1</td><td>602</td><td>605</td><td>-3</td><td> 821</td><td> 805</td><td> 16</td><td>MQ</td><td>4401</td><td>N730MQ</td><td>LGA</td><td>DTW</td><td>105</td><td> 502</td><td>6</td><td> 5</td><td>2013-01-01 06:00:00</td></tr>\n",
       "\t<tr><td>2013</td><td>1</td><td>1</td><td>606</td><td>610</td><td>-4</td><td> 858</td><td> 910</td><td>-12</td><td>AA</td><td>1895</td><td>N633AA</td><td>EWR</td><td>MIA</td><td>152</td><td>1085</td><td>6</td><td>10</td><td>2013-01-01 06:00:00</td></tr>\n",
       "\t<tr><td>2013</td><td>1</td><td>1</td><td>606</td><td>610</td><td>-4</td><td> 837</td><td> 845</td><td> -8</td><td>DL</td><td>1743</td><td>N3739P</td><td>JFK</td><td>ATL</td><td>128</td><td> 760</td><td>6</td><td>10</td><td>2013-01-01 06:00:00</td></tr>\n",
       "\t<tr><td>2013</td><td>1</td><td>1</td><td>607</td><td>607</td><td> 0</td><td> 858</td><td> 915</td><td>-17</td><td>UA</td><td>1077</td><td>N53442</td><td>EWR</td><td>MIA</td><td>157</td><td>1085</td><td>6</td><td> 7</td><td>2013-01-01 06:00:00</td></tr>\n",
       "\t<tr><td>2013</td><td>1</td><td>1</td><td>608</td><td>600</td><td> 8</td><td> 807</td><td> 735</td><td> 32</td><td>MQ</td><td>3768</td><td>N9EAMQ</td><td>EWR</td><td>ORD</td><td>139</td><td> 719</td><td>6</td><td> 0</td><td>2013-01-01 06:00:00</td></tr>\n",
       "\t<tr><td>2013</td><td>1</td><td>1</td><td>611</td><td>600</td><td>11</td><td> 945</td><td> 931</td><td> 14</td><td>UA</td><td> 303</td><td>N532UA</td><td>JFK</td><td>SFO</td><td>366</td><td>2586</td><td>6</td><td> 0</td><td>2013-01-01 06:00:00</td></tr>\n",
       "\t<tr><td>2013</td><td>1</td><td>1</td><td>613</td><td>610</td><td> 3</td><td> 925</td><td> 921</td><td>  4</td><td>B6</td><td> 135</td><td>N635JB</td><td>JFK</td><td>RSW</td><td>175</td><td>1074</td><td>6</td><td>10</td><td>2013-01-01 06:00:00</td></tr>\n",
       "\t<tr><td>2013</td><td>1</td><td>1</td><td>615</td><td>615</td><td> 0</td><td>1039</td><td>1100</td><td>-21</td><td>B6</td><td> 709</td><td>N794JB</td><td>JFK</td><td>SJU</td><td>182</td><td>1598</td><td>6</td><td>15</td><td>2013-01-01 06:00:00</td></tr>\n",
       "\t<tr><td>2013</td><td>1</td><td>1</td><td>615</td><td>615</td><td> 0</td><td> 833</td><td> 842</td><td> -9</td><td>DL</td><td> 575</td><td>N326NB</td><td>EWR</td><td>ATL</td><td>120</td><td> 746</td><td>6</td><td>15</td><td>2013-01-01 06:00:00</td></tr>\n",
       "\t<tr><td>⋮</td><td>⋮</td><td>⋮</td><td>⋮</td><td>⋮</td><td>⋮</td><td>⋮</td><td>⋮</td><td>⋮</td><td>⋮</td><td>⋮</td><td>⋮</td><td>⋮</td><td>⋮</td><td>⋮</td><td>⋮</td><td>⋮</td><td>⋮</td><td>⋮</td></tr>\n",
       "\t<tr><td>2013</td><td>9</td><td>30</td><td>2110</td><td>2055</td><td> 15</td><td>  51</td><td>2359</td><td> 52</td><td>B6</td><td>1205</td><td>N517JB</td><td>JFK</td><td>PDX</td><td>361</td><td>2454</td><td>20</td><td>55</td><td>2013-09-30 20:00:00</td></tr>\n",
       "\t<tr><td>2013</td><td>9</td><td>30</td><td>2114</td><td>2025</td><td> 49</td><td>2304</td><td>2228</td><td> 36</td><td>EV</td><td>4348</td><td>N11184</td><td>EWR</td><td>MSP</td><td>145</td><td>1008</td><td>20</td><td>25</td><td>2013-09-30 20:00:00</td></tr>\n",
       "\t<tr><td>2013</td><td>9</td><td>30</td><td>2115</td><td>2110</td><td>  5</td><td>2246</td><td>2255</td><td> -9</td><td>MQ</td><td>3603</td><td>N519MQ</td><td>LGA</td><td>DTW</td><td> 72</td><td> 502</td><td>21</td><td>10</td><td>2013-09-30 21:00:00</td></tr>\n",
       "\t<tr><td>2013</td><td>9</td><td>30</td><td>2116</td><td>2124</td><td> -8</td><td>2317</td><td>2337</td><td>-20</td><td>EV</td><td>4682</td><td>N14542</td><td>EWR</td><td>SDF</td><td> 94</td><td> 642</td><td>21</td><td>24</td><td>2013-09-30 21:00:00</td></tr>\n",
       "\t<tr><td>2013</td><td>9</td><td>30</td><td>2119</td><td>2005</td><td> 74</td><td>2310</td><td>2212</td><td> 58</td><td>EV</td><td>4321</td><td>N17984</td><td>EWR</td><td>MCI</td><td>147</td><td>1092</td><td>20</td><td> 5</td><td>2013-09-30 20:00:00</td></tr>\n",
       "\t<tr><td>2013</td><td>9</td><td>30</td><td>2119</td><td>2120</td><td> -1</td><td>2330</td><td>2354</td><td>-24</td><td>B6</td><td>1677</td><td>N358JB</td><td>JFK</td><td>JAX</td><td>113</td><td> 828</td><td>21</td><td>20</td><td>2013-09-30 21:00:00</td></tr>\n",
       "\t<tr><td>2013</td><td>9</td><td>30</td><td>2121</td><td>2100</td><td> 21</td><td>2349</td><td>  14</td><td>-25</td><td>DL</td><td>2363</td><td>N193DN</td><td>JFK</td><td>LAX</td><td>296</td><td>2475</td><td>21</td><td> 0</td><td>2013-09-30 21:00:00</td></tr>\n",
       "\t<tr><td>2013</td><td>9</td><td>30</td><td>2122</td><td>2127</td><td> -5</td><td>2226</td><td>2237</td><td>-11</td><td>EV</td><td>4372</td><td>N14902</td><td>EWR</td><td>DCA</td><td> 35</td><td> 199</td><td>21</td><td>27</td><td>2013-09-30 21:00:00</td></tr>\n",
       "\t<tr><td>2013</td><td>9</td><td>30</td><td>2123</td><td>2125</td><td> -2</td><td>2223</td><td>2247</td><td>-24</td><td>EV</td><td>5489</td><td>N712EV</td><td>LGA</td><td>CHO</td><td> 45</td><td> 305</td><td>21</td><td>25</td><td>2013-09-30 21:00:00</td></tr>\n",
       "\t<tr><td>2013</td><td>9</td><td>30</td><td>2127</td><td>2129</td><td> -2</td><td>2314</td><td>2323</td><td> -9</td><td>EV</td><td>3833</td><td>N16546</td><td>EWR</td><td>CLT</td><td> 72</td><td> 529</td><td>21</td><td>29</td><td>2013-09-30 21:00:00</td></tr>\n",
       "\t<tr><td>2013</td><td>9</td><td>30</td><td>2128</td><td>2130</td><td> -2</td><td>2328</td><td>2359</td><td>-31</td><td>B6</td><td>  97</td><td>N807JB</td><td>JFK</td><td>DEN</td><td>213</td><td>1626</td><td>21</td><td>30</td><td>2013-09-30 21:00:00</td></tr>\n",
       "\t<tr><td>2013</td><td>9</td><td>30</td><td>2129</td><td>2059</td><td> 30</td><td>2230</td><td>2232</td><td> -2</td><td>EV</td><td>5048</td><td>N751EV</td><td>LGA</td><td>RIC</td><td> 45</td><td> 292</td><td>20</td><td>59</td><td>2013-09-30 20:00:00</td></tr>\n",
       "\t<tr><td>2013</td><td>9</td><td>30</td><td>2131</td><td>2140</td><td> -9</td><td>2225</td><td>2255</td><td>-30</td><td>MQ</td><td>3621</td><td>N807MQ</td><td>JFK</td><td>DCA</td><td> 36</td><td> 213</td><td>21</td><td>40</td><td>2013-09-30 21:00:00</td></tr>\n",
       "\t<tr><td>2013</td><td>9</td><td>30</td><td>2140</td><td>2140</td><td>  0</td><td>  10</td><td>  40</td><td>-30</td><td>AA</td><td> 185</td><td>N335AA</td><td>JFK</td><td>LAX</td><td>298</td><td>2475</td><td>21</td><td>40</td><td>2013-09-30 21:00:00</td></tr>\n",
       "\t<tr><td>2013</td><td>9</td><td>30</td><td>2142</td><td>2129</td><td> 13</td><td>2250</td><td>2239</td><td> 11</td><td>EV</td><td>4509</td><td>N12957</td><td>EWR</td><td>PWM</td><td> 47</td><td> 284</td><td>21</td><td>29</td><td>2013-09-30 21:00:00</td></tr>\n",
       "\t<tr><td>2013</td><td>9</td><td>30</td><td>2145</td><td>2145</td><td>  0</td><td> 115</td><td> 140</td><td>-25</td><td>B6</td><td>1103</td><td>N633JB</td><td>JFK</td><td>SJU</td><td>192</td><td>1598</td><td>21</td><td>45</td><td>2013-09-30 21:00:00</td></tr>\n",
       "\t<tr><td>2013</td><td>9</td><td>30</td><td>2147</td><td>2137</td><td> 10</td><td>  30</td><td>  27</td><td>  3</td><td>B6</td><td>1371</td><td>N627JB</td><td>LGA</td><td>FLL</td><td>139</td><td>1076</td><td>21</td><td>37</td><td>2013-09-30 21:00:00</td></tr>\n",
       "\t<tr><td>2013</td><td>9</td><td>30</td><td>2149</td><td>2156</td><td> -7</td><td>2245</td><td>2308</td><td>-23</td><td>UA</td><td> 523</td><td>N813UA</td><td>EWR</td><td>BOS</td><td> 37</td><td> 200</td><td>21</td><td>56</td><td>2013-09-30 21:00:00</td></tr>\n",
       "\t<tr><td>2013</td><td>9</td><td>30</td><td>2150</td><td>2159</td><td> -9</td><td>2250</td><td>2306</td><td>-16</td><td>EV</td><td>3842</td><td>N10575</td><td>EWR</td><td>MHT</td><td> 39</td><td> 209</td><td>21</td><td>59</td><td>2013-09-30 21:00:00</td></tr>\n",
       "\t<tr><td>2013</td><td>9</td><td>30</td><td>2203</td><td>2205</td><td> -2</td><td>2339</td><td>2331</td><td>  8</td><td>EV</td><td>5311</td><td>N722EV</td><td>LGA</td><td>BGR</td><td> 61</td><td> 378</td><td>22</td><td> 5</td><td>2013-09-30 22:00:00</td></tr>\n",
       "\t<tr><td>2013</td><td>9</td><td>30</td><td>2207</td><td>2140</td><td> 27</td><td>2257</td><td>2250</td><td>  7</td><td>MQ</td><td>3660</td><td>N532MQ</td><td>LGA</td><td>BNA</td><td> 97</td><td> 764</td><td>21</td><td>40</td><td>2013-09-30 21:00:00</td></tr>\n",
       "\t<tr><td>2013</td><td>9</td><td>30</td><td>2211</td><td>2059</td><td> 72</td><td>2339</td><td>2242</td><td> 57</td><td>EV</td><td>4672</td><td>N12145</td><td>EWR</td><td>STL</td><td>120</td><td> 872</td><td>20</td><td>59</td><td>2013-09-30 20:00:00</td></tr>\n",
       "\t<tr><td>2013</td><td>9</td><td>30</td><td>2231</td><td>2245</td><td>-14</td><td>2335</td><td>2356</td><td>-21</td><td>B6</td><td> 108</td><td>N193JB</td><td>JFK</td><td>PWM</td><td> 48</td><td> 273</td><td>22</td><td>45</td><td>2013-09-30 22:00:00</td></tr>\n",
       "\t<tr><td>2013</td><td>9</td><td>30</td><td>2233</td><td>2113</td><td> 80</td><td> 112</td><td>  30</td><td> 42</td><td>UA</td><td> 471</td><td>N578UA</td><td>EWR</td><td>SFO</td><td>318</td><td>2565</td><td>21</td><td>13</td><td>2013-09-30 21:00:00</td></tr>\n",
       "\t<tr><td>2013</td><td>9</td><td>30</td><td>2237</td><td>2245</td><td> -8</td><td>2345</td><td>2353</td><td> -8</td><td>B6</td><td> 234</td><td>N318JB</td><td>JFK</td><td>BTV</td><td> 43</td><td> 266</td><td>22</td><td>45</td><td>2013-09-30 22:00:00</td></tr>\n",
       "\t<tr><td>2013</td><td>9</td><td>30</td><td>2240</td><td>2245</td><td> -5</td><td>2334</td><td>2351</td><td>-17</td><td>B6</td><td>1816</td><td>N354JB</td><td>JFK</td><td>SYR</td><td> 41</td><td> 209</td><td>22</td><td>45</td><td>2013-09-30 22:00:00</td></tr>\n",
       "\t<tr><td>2013</td><td>9</td><td>30</td><td>2240</td><td>2250</td><td>-10</td><td>2347</td><td>   7</td><td>-20</td><td>B6</td><td>2002</td><td>N281JB</td><td>JFK</td><td>BUF</td><td> 52</td><td> 301</td><td>22</td><td>50</td><td>2013-09-30 22:00:00</td></tr>\n",
       "\t<tr><td>2013</td><td>9</td><td>30</td><td>2241</td><td>2246</td><td> -5</td><td>2345</td><td>   1</td><td>-16</td><td>B6</td><td> 486</td><td>N346JB</td><td>JFK</td><td>ROC</td><td> 47</td><td> 264</td><td>22</td><td>46</td><td>2013-09-30 22:00:00</td></tr>\n",
       "\t<tr><td>2013</td><td>9</td><td>30</td><td>2307</td><td>2255</td><td> 12</td><td>2359</td><td>2358</td><td>  1</td><td>B6</td><td> 718</td><td>N565JB</td><td>JFK</td><td>BOS</td><td> 33</td><td> 187</td><td>22</td><td>55</td><td>2013-09-30 22:00:00</td></tr>\n",
       "\t<tr><td>2013</td><td>9</td><td>30</td><td>2349</td><td>2359</td><td>-10</td><td> 325</td><td> 350</td><td>-25</td><td>B6</td><td> 745</td><td>N516JB</td><td>JFK</td><td>PSE</td><td>196</td><td>1617</td><td>23</td><td>59</td><td>2013-09-30 23:00:00</td></tr>\n",
       "</tbody>\n",
       "</table>\n"
      ],
      "text/plain": [
       "       year month day dep_time sched_dep_time dep_delay arr_time sched_arr_time\n",
       "1      2013 1     1   517      515             2         830      819          \n",
       "2      2013 1     1   533      529             4         850      830          \n",
       "3      2013 1     1   542      540             2         923      850          \n",
       "4      2013 1     1   544      545            -1        1004     1022          \n",
       "5      2013 1     1   554      600            -6         812      837          \n",
       "6      2013 1     1   554      558            -4         740      728          \n",
       "7      2013 1     1   555      600            -5         913      854          \n",
       "8      2013 1     1   557      600            -3         709      723          \n",
       "9      2013 1     1   557      600            -3         838      846          \n",
       "10     2013 1     1   558      600            -2         753      745          \n",
       "11     2013 1     1   558      600            -2         849      851          \n",
       "12     2013 1     1   558      600            -2         853      856          \n",
       "13     2013 1     1   558      600            -2         924      917          \n",
       "14     2013 1     1   558      600            -2         923      937          \n",
       "15     2013 1     1   559      600            -1         941      910          \n",
       "16     2013 1     1   559      559             0         702      706          \n",
       "17     2013 1     1   559      600            -1         854      902          \n",
       "18     2013 1     1   600      600             0         851      858          \n",
       "19     2013 1     1   600      600             0         837      825          \n",
       "20     2013 1     1   601      600             1         844      850          \n",
       "21     2013 1     1   602      610            -8         812      820          \n",
       "22     2013 1     1   602      605            -3         821      805          \n",
       "23     2013 1     1   606      610            -4         858      910          \n",
       "24     2013 1     1   606      610            -4         837      845          \n",
       "25     2013 1     1   607      607             0         858      915          \n",
       "26     2013 1     1   608      600             8         807      735          \n",
       "27     2013 1     1   611      600            11         945      931          \n",
       "28     2013 1     1   613      610             3         925      921          \n",
       "29     2013 1     1   615      615             0        1039     1100          \n",
       "30     2013 1     1   615      615             0         833      842          \n",
       "<U+22EE>      <U+22EE> <U+22EE> <U+22EE> <U+22EE> <U+22EE>       <U+22EE>  <U+22EE> <U+22EE>      \n",
       "316021 2013 9     30  2110     2055            15         51     2359          \n",
       "316022 2013 9     30  2114     2025            49       2304     2228          \n",
       "316023 2013 9     30  2115     2110             5       2246     2255          \n",
       "316024 2013 9     30  2116     2124            -8       2317     2337          \n",
       "316025 2013 9     30  2119     2005            74       2310     2212          \n",
       "316026 2013 9     30  2119     2120            -1       2330     2354          \n",
       "316027 2013 9     30  2121     2100            21       2349       14          \n",
       "316028 2013 9     30  2122     2127            -5       2226     2237          \n",
       "316029 2013 9     30  2123     2125            -2       2223     2247          \n",
       "316030 2013 9     30  2127     2129            -2       2314     2323          \n",
       "316031 2013 9     30  2128     2130            -2       2328     2359          \n",
       "316032 2013 9     30  2129     2059            30       2230     2232          \n",
       "316033 2013 9     30  2131     2140            -9       2225     2255          \n",
       "316034 2013 9     30  2140     2140             0         10       40          \n",
       "316035 2013 9     30  2142     2129            13       2250     2239          \n",
       "316036 2013 9     30  2145     2145             0        115      140          \n",
       "316037 2013 9     30  2147     2137            10         30       27          \n",
       "316038 2013 9     30  2149     2156            -7       2245     2308          \n",
       "316039 2013 9     30  2150     2159            -9       2250     2306          \n",
       "316040 2013 9     30  2203     2205            -2       2339     2331          \n",
       "316041 2013 9     30  2207     2140            27       2257     2250          \n",
       "       arr_delay carrier flight tailnum origin dest air_time distance hour\n",
       "1       11       UA      1545   N14228  EWR    IAH  227      1400     5   \n",
       "2       20       UA      1714   N24211  LGA    IAH  227      1416     5   \n",
       "3       33       AA      1141   N619AA  JFK    MIA  160      1089     5   \n",
       "4      -18       B6       725   N804JB  JFK    BQN  183      1576     5   \n",
       "5      -25       DL       461   N668DN  LGA    ATL  116       762     6   \n",
       "6       12       UA      1696   N39463  EWR    ORD  150       719     5   \n",
       "7       19       B6       507   N516JB  EWR    FLL  158      1065     6   \n",
       "8      -14       EV      5708   N829AS  LGA    IAD   53       229     6   \n",
       "9       -8       B6        79   N593JB  JFK    MCO  140       944     6   \n",
       "10       8       AA       301   N3ALAA  LGA    ORD  138       733     6   \n",
       "11      -2       B6        49   N793JB  JFK    PBI  149      1028     6   \n",
       "12      -3       B6        71   N657JB  JFK    TPA  158      1005     6   \n",
       "13       7       UA       194   N29129  JFK    LAX  345      2475     6   \n",
       "14     -14       UA      1124   N53441  EWR    SFO  361      2565     6   \n",
       "15      31       AA       707   N3DUAA  LGA    DFW  257      1389     6   \n",
       "16      -4       B6      1806   N708JB  JFK    BOS   44       187     5   \n",
       "17      -8       UA      1187   N76515  EWR    LAS  337      2227     6   \n",
       "18      -7       B6       371   N595JB  LGA    FLL  152      1076     6   \n",
       "19      12       MQ      4650   N542MQ  LGA    ATL  134       762     6   \n",
       "20      -6       B6       343   N644JB  EWR    PBI  147      1023     6   \n",
       "21      -8       DL      1919   N971DL  LGA    MSP  170      1020     6   \n",
       "22      16       MQ      4401   N730MQ  LGA    DTW  105       502     6   \n",
       "23     -12       AA      1895   N633AA  EWR    MIA  152      1085     6   \n",
       "24      -8       DL      1743   N3739P  JFK    ATL  128       760     6   \n",
       "25     -17       UA      1077   N53442  EWR    MIA  157      1085     6   \n",
       "26      32       MQ      3768   N9EAMQ  EWR    ORD  139       719     6   \n",
       "27      14       UA       303   N532UA  JFK    SFO  366      2586     6   \n",
       "28       4       B6       135   N635JB  JFK    RSW  175      1074     6   \n",
       "29     -21       B6       709   N794JB  JFK    SJU  182      1598     6   \n",
       "30      -9       DL       575   N326NB  EWR    ATL  120       746     6   \n",
       "<U+22EE>      <U+22EE>  <U+22EE> <U+22EE> <U+22EE> <U+22EE> <U+22EE> <U+22EE> <U+22EE> <U+22EE>\n",
       "316021  52       B6      1205   N517JB  JFK    PDX  361      2454     20  \n",
       "316022  36       EV      4348   N11184  EWR    MSP  145      1008     20  \n",
       "316023  -9       MQ      3603   N519MQ  LGA    DTW   72       502     21  \n",
       "316024 -20       EV      4682   N14542  EWR    SDF   94       642     21  \n",
       "316025  58       EV      4321   N17984  EWR    MCI  147      1092     20  \n",
       "316026 -24       B6      1677   N358JB  JFK    JAX  113       828     21  \n",
       "316027 -25       DL      2363   N193DN  JFK    LAX  296      2475     21  \n",
       "316028 -11       EV      4372   N14902  EWR    DCA   35       199     21  \n",
       "316029 -24       EV      5489   N712EV  LGA    CHO   45       305     21  \n",
       "316030  -9       EV      3833   N16546  EWR    CLT   72       529     21  \n",
       "316031 -31       B6        97   N807JB  JFK    DEN  213      1626     21  \n",
       "316032  -2       EV      5048   N751EV  LGA    RIC   45       292     20  \n",
       "316033 -30       MQ      3621   N807MQ  JFK    DCA   36       213     21  \n",
       "316034 -30       AA       185   N335AA  JFK    LAX  298      2475     21  \n",
       "316035  11       EV      4509   N12957  EWR    PWM   47       284     21  \n",
       "316036 -25       B6      1103   N633JB  JFK    SJU  192      1598     21  \n",
       "316037   3       B6      1371   N627JB  LGA    FLL  139      1076     21  \n",
       "316038 -23       UA       523   N813UA  EWR    BOS   37       200     21  \n",
       "316039 -16       EV      3842   N10575  EWR    MHT   39       209     21  \n",
       "316040   8       EV      5311   N722EV  LGA    BGR   61       378     22  \n",
       "316041   7       MQ      3660   N532MQ  LGA    BNA   97       764     21  \n",
       "       minute time_hour          \n",
       "1      15     2013-01-01 05:00:00\n",
       "2      29     2013-01-01 05:00:00\n",
       "3      40     2013-01-01 05:00:00\n",
       "4      45     2013-01-01 05:00:00\n",
       "5       0     2013-01-01 06:00:00\n",
       "6      58     2013-01-01 05:00:00\n",
       "7       0     2013-01-01 06:00:00\n",
       "8       0     2013-01-01 06:00:00\n",
       "9       0     2013-01-01 06:00:00\n",
       "10      0     2013-01-01 06:00:00\n",
       "11      0     2013-01-01 06:00:00\n",
       "12      0     2013-01-01 06:00:00\n",
       "13      0     2013-01-01 06:00:00\n",
       "14      0     2013-01-01 06:00:00\n",
       "15      0     2013-01-01 06:00:00\n",
       "16     59     2013-01-01 05:00:00\n",
       "17      0     2013-01-01 06:00:00\n",
       "18      0     2013-01-01 06:00:00\n",
       "19      0     2013-01-01 06:00:00\n",
       "20      0     2013-01-01 06:00:00\n",
       "21     10     2013-01-01 06:00:00\n",
       "22      5     2013-01-01 06:00:00\n",
       "23     10     2013-01-01 06:00:00\n",
       "24     10     2013-01-01 06:00:00\n",
       "25      7     2013-01-01 06:00:00\n",
       "26      0     2013-01-01 06:00:00\n",
       "27      0     2013-01-01 06:00:00\n",
       "28     10     2013-01-01 06:00:00\n",
       "29     15     2013-01-01 06:00:00\n",
       "30     15     2013-01-01 06:00:00\n",
       "<U+22EE>      <U+22EE> <U+22EE>           \n",
       "316021 55     2013-09-30 20:00:00\n",
       "316022 25     2013-09-30 20:00:00\n",
       "316023 10     2013-09-30 21:00:00\n",
       "316024 24     2013-09-30 21:00:00\n",
       "316025  5     2013-09-30 20:00:00\n",
       "316026 20     2013-09-30 21:00:00\n",
       "316027  0     2013-09-30 21:00:00\n",
       "316028 27     2013-09-30 21:00:00\n",
       "316029 25     2013-09-30 21:00:00\n",
       "316030 29     2013-09-30 21:00:00\n",
       "316031 30     2013-09-30 21:00:00\n",
       "316032 59     2013-09-30 20:00:00\n",
       "316033 40     2013-09-30 21:00:00\n",
       "316034 40     2013-09-30 21:00:00\n",
       "316035 29     2013-09-30 21:00:00\n",
       "316036 45     2013-09-30 21:00:00\n",
       "316037 37     2013-09-30 21:00:00\n",
       "316038 56     2013-09-30 21:00:00\n",
       "316039 59     2013-09-30 21:00:00\n",
       "316040  5     2013-09-30 22:00:00\n",
       "316041 40     2013-09-30 21:00:00\n",
       " [ getOption(\"max.print\") 에 도달했습니다 -- 9 행들을 생략합니다 ]"
      ]
     },
     "metadata": {},
     "output_type": "display_data"
    }
   ],
   "source": [
    "df %>% filter(arr_delay <= 120 & dep_delay <= 120)"
   ]
  },
  {
   "cell_type": "markdown",
   "id": "eb7af899-357c-4ed9-bd15-4771d4fd0686",
   "metadata": {},
   "source": [
    "## 필요한 변수만 남기고 싶다."
   ]
  },
  {
   "cell_type": "code",
   "execution_count": 49,
   "id": "5e91a4ea-3d43-4cd5-a3ed-489048ecb4d8",
   "metadata": {},
   "outputs": [
    {
     "data": {
      "text/html": [
       "<style>\n",
       ".list-inline {list-style: none; margin:0; padding: 0}\n",
       ".list-inline>li {display: inline-block}\n",
       ".list-inline>li:not(:last-child)::after {content: \"\\00b7\"; padding: 0 .5ex}\n",
       "</style>\n",
       "<ol class=list-inline><li>'year'</li><li>'month'</li><li>'day'</li><li>'dep_time'</li><li>'sched_dep_time'</li><li>'dep_delay'</li><li>'arr_time'</li><li>'sched_arr_time'</li><li>'arr_delay'</li><li>'carrier'</li><li>'flight'</li><li>'tailnum'</li><li>'origin'</li><li>'dest'</li><li>'air_time'</li><li>'distance'</li><li>'hour'</li><li>'minute'</li><li>'time_hour'</li></ol>\n"
      ],
      "text/plain": [
       " [1] \"year\"           \"month\"          \"day\"            \"dep_time\"      \n",
       " [5] \"sched_dep_time\" \"dep_delay\"      \"arr_time\"       \"sched_arr_time\"\n",
       " [9] \"arr_delay\"      \"carrier\"        \"flight\"         \"tailnum\"       \n",
       "[13] \"origin\"         \"dest\"           \"air_time\"       \"distance\"      \n",
       "[17] \"hour\"           \"minute\"         \"time_hour\"     "
      ]
     },
     "metadata": {},
     "output_type": "display_data"
    }
   ],
   "source": [
    "df %>% colnames"
   ]
  },
  {
   "cell_type": "code",
   "execution_count": 50,
   "id": "c02ff213-6dd1-473d-ba4d-9d51f889a1b4",
   "metadata": {},
   "outputs": [
    {
     "data": {
      "text/html": [
       "<style>\n",
       ".list-inline {list-style: none; margin:0; padding: 0}\n",
       ".list-inline>li {display: inline-block}\n",
       ".list-inline>li:not(:last-child)::after {content: \"\\00b7\"; padding: 0 .5ex}\n",
       "</style>\n",
       "<ol class=list-inline><li>'year'</li><li>'month'</li><li>'day'</li><li>'dep_time'</li><li>'sched_dep_time'</li><li>'dep_delay'</li><li>'arr_time'</li><li>'sched_arr_time'</li><li>'arr_delay'</li><li>'carrier'</li><li>'flight'</li><li>'tailnum'</li><li>'origin'</li><li>'dest'</li><li>'air_time'</li><li>'distance'</li><li>'hour'</li><li>'minute'</li><li>'time_hour'</li></ol>\n"
      ],
      "text/plain": [
       " [1] \"year\"           \"month\"          \"day\"            \"dep_time\"      \n",
       " [5] \"sched_dep_time\" \"dep_delay\"      \"arr_time\"       \"sched_arr_time\"\n",
       " [9] \"arr_delay\"      \"carrier\"        \"flight\"         \"tailnum\"       \n",
       "[13] \"origin\"         \"dest\"           \"air_time\"       \"distance\"      \n",
       "[17] \"hour\"           \"minute\"         \"time_hour\"     "
      ]
     },
     "metadata": {},
     "output_type": "display_data"
    }
   ],
   "source": [
    "df %>% names"
   ]
  },
  {
   "cell_type": "markdown",
   "id": "cc2acc76-a7a6-4260-bbbc-b73d808bdb2c",
   "metadata": {},
   "source": [
    "- 아래 조건에 부합하는 변수만 남기자."
   ]
  },
  {
   "cell_type": "markdown",
   "id": "a451f596-c362-4d91-8a0d-ef38203baf1b",
   "metadata": {},
   "source": [
    "`-` year~day는 포함\n",
    "\n",
    "`-` delay로 끝나는 변수\n",
    "\n",
    "`-` distance, air_time"
   ]
  },
  {
   "cell_type": "code",
   "execution_count": 51,
   "id": "0b53a35e-0d40-43d6-8128-fb1ed099f683",
   "metadata": {},
   "outputs": [
    {
     "data": {
      "text/html": [
       "<table class=\"dataframe\">\n",
       "<caption>A tibble: 336776 × 7</caption>\n",
       "<thead>\n",
       "\t<tr><th scope=col>year</th><th scope=col>month</th><th scope=col>day</th><th scope=col>dep_delay</th><th scope=col>arr_delay</th><th scope=col>distance</th><th scope=col>air_time</th></tr>\n",
       "\t<tr><th scope=col>&lt;int&gt;</th><th scope=col>&lt;int&gt;</th><th scope=col>&lt;int&gt;</th><th scope=col>&lt;dbl&gt;</th><th scope=col>&lt;dbl&gt;</th><th scope=col>&lt;dbl&gt;</th><th scope=col>&lt;dbl&gt;</th></tr>\n",
       "</thead>\n",
       "<tbody>\n",
       "\t<tr><td>2013</td><td>1</td><td>1</td><td> 2</td><td> 11</td><td>1400</td><td>227</td></tr>\n",
       "\t<tr><td>2013</td><td>1</td><td>1</td><td> 4</td><td> 20</td><td>1416</td><td>227</td></tr>\n",
       "\t<tr><td>2013</td><td>1</td><td>1</td><td> 2</td><td> 33</td><td>1089</td><td>160</td></tr>\n",
       "\t<tr><td>2013</td><td>1</td><td>1</td><td>-1</td><td>-18</td><td>1576</td><td>183</td></tr>\n",
       "\t<tr><td>2013</td><td>1</td><td>1</td><td>-6</td><td>-25</td><td> 762</td><td>116</td></tr>\n",
       "\t<tr><td>2013</td><td>1</td><td>1</td><td>-4</td><td> 12</td><td> 719</td><td>150</td></tr>\n",
       "\t<tr><td>2013</td><td>1</td><td>1</td><td>-5</td><td> 19</td><td>1065</td><td>158</td></tr>\n",
       "\t<tr><td>2013</td><td>1</td><td>1</td><td>-3</td><td>-14</td><td> 229</td><td> 53</td></tr>\n",
       "\t<tr><td>2013</td><td>1</td><td>1</td><td>-3</td><td> -8</td><td> 944</td><td>140</td></tr>\n",
       "\t<tr><td>2013</td><td>1</td><td>1</td><td>-2</td><td>  8</td><td> 733</td><td>138</td></tr>\n",
       "\t<tr><td>2013</td><td>1</td><td>1</td><td>-2</td><td> -2</td><td>1028</td><td>149</td></tr>\n",
       "\t<tr><td>2013</td><td>1</td><td>1</td><td>-2</td><td> -3</td><td>1005</td><td>158</td></tr>\n",
       "\t<tr><td>2013</td><td>1</td><td>1</td><td>-2</td><td>  7</td><td>2475</td><td>345</td></tr>\n",
       "\t<tr><td>2013</td><td>1</td><td>1</td><td>-2</td><td>-14</td><td>2565</td><td>361</td></tr>\n",
       "\t<tr><td>2013</td><td>1</td><td>1</td><td>-1</td><td> 31</td><td>1389</td><td>257</td></tr>\n",
       "\t<tr><td>2013</td><td>1</td><td>1</td><td> 0</td><td> -4</td><td> 187</td><td> 44</td></tr>\n",
       "\t<tr><td>2013</td><td>1</td><td>1</td><td>-1</td><td> -8</td><td>2227</td><td>337</td></tr>\n",
       "\t<tr><td>2013</td><td>1</td><td>1</td><td> 0</td><td> -7</td><td>1076</td><td>152</td></tr>\n",
       "\t<tr><td>2013</td><td>1</td><td>1</td><td> 0</td><td> 12</td><td> 762</td><td>134</td></tr>\n",
       "\t<tr><td>2013</td><td>1</td><td>1</td><td> 1</td><td> -6</td><td>1023</td><td>147</td></tr>\n",
       "\t<tr><td>2013</td><td>1</td><td>1</td><td>-8</td><td> -8</td><td>1020</td><td>170</td></tr>\n",
       "\t<tr><td>2013</td><td>1</td><td>1</td><td>-3</td><td> 16</td><td> 502</td><td>105</td></tr>\n",
       "\t<tr><td>2013</td><td>1</td><td>1</td><td>-4</td><td>-12</td><td>1085</td><td>152</td></tr>\n",
       "\t<tr><td>2013</td><td>1</td><td>1</td><td>-4</td><td> -8</td><td> 760</td><td>128</td></tr>\n",
       "\t<tr><td>2013</td><td>1</td><td>1</td><td> 0</td><td>-17</td><td>1085</td><td>157</td></tr>\n",
       "\t<tr><td>2013</td><td>1</td><td>1</td><td> 8</td><td> 32</td><td> 719</td><td>139</td></tr>\n",
       "\t<tr><td>2013</td><td>1</td><td>1</td><td>11</td><td> 14</td><td>2586</td><td>366</td></tr>\n",
       "\t<tr><td>2013</td><td>1</td><td>1</td><td> 3</td><td>  4</td><td>1074</td><td>175</td></tr>\n",
       "\t<tr><td>2013</td><td>1</td><td>1</td><td> 0</td><td>-21</td><td>1598</td><td>182</td></tr>\n",
       "\t<tr><td>2013</td><td>1</td><td>1</td><td> 0</td><td> -9</td><td> 746</td><td>120</td></tr>\n",
       "\t<tr><td>⋮</td><td>⋮</td><td>⋮</td><td>⋮</td><td>⋮</td><td>⋮</td><td>⋮</td></tr>\n",
       "\t<tr><td>2013</td><td>9</td><td>30</td><td> -2</td><td>-24</td><td> 305</td><td> 45</td></tr>\n",
       "\t<tr><td>2013</td><td>9</td><td>30</td><td> -2</td><td> -9</td><td> 529</td><td> 72</td></tr>\n",
       "\t<tr><td>2013</td><td>9</td><td>30</td><td> -2</td><td>-31</td><td>1626</td><td>213</td></tr>\n",
       "\t<tr><td>2013</td><td>9</td><td>30</td><td> 30</td><td> -2</td><td> 292</td><td> 45</td></tr>\n",
       "\t<tr><td>2013</td><td>9</td><td>30</td><td> -9</td><td>-30</td><td> 213</td><td> 36</td></tr>\n",
       "\t<tr><td>2013</td><td>9</td><td>30</td><td>  0</td><td>-30</td><td>2475</td><td>298</td></tr>\n",
       "\t<tr><td>2013</td><td>9</td><td>30</td><td> 13</td><td> 11</td><td> 284</td><td> 47</td></tr>\n",
       "\t<tr><td>2013</td><td>9</td><td>30</td><td>  0</td><td>-25</td><td>1598</td><td>192</td></tr>\n",
       "\t<tr><td>2013</td><td>9</td><td>30</td><td> 10</td><td>  3</td><td>1076</td><td>139</td></tr>\n",
       "\t<tr><td>2013</td><td>9</td><td>30</td><td> -7</td><td>-23</td><td> 200</td><td> 37</td></tr>\n",
       "\t<tr><td>2013</td><td>9</td><td>30</td><td> -9</td><td>-16</td><td> 209</td><td> 39</td></tr>\n",
       "\t<tr><td>2013</td><td>9</td><td>30</td><td>194</td><td>194</td><td> 301</td><td> 50</td></tr>\n",
       "\t<tr><td>2013</td><td>9</td><td>30</td><td> -2</td><td>  8</td><td> 378</td><td> 61</td></tr>\n",
       "\t<tr><td>2013</td><td>9</td><td>30</td><td> 27</td><td>  7</td><td> 764</td><td> 97</td></tr>\n",
       "\t<tr><td>2013</td><td>9</td><td>30</td><td> 72</td><td> 57</td><td> 872</td><td>120</td></tr>\n",
       "\t<tr><td>2013</td><td>9</td><td>30</td><td>-14</td><td>-21</td><td> 273</td><td> 48</td></tr>\n",
       "\t<tr><td>2013</td><td>9</td><td>30</td><td> 80</td><td> 42</td><td>2565</td><td>318</td></tr>\n",
       "\t<tr><td>2013</td><td>9</td><td>30</td><td>154</td><td>130</td><td> 944</td><td>123</td></tr>\n",
       "\t<tr><td>2013</td><td>9</td><td>30</td><td> -8</td><td> -8</td><td> 266</td><td> 43</td></tr>\n",
       "\t<tr><td>2013</td><td>9</td><td>30</td><td> -5</td><td>-17</td><td> 209</td><td> 41</td></tr>\n",
       "\t<tr><td>2013</td><td>9</td><td>30</td><td>-10</td><td>-20</td><td> 301</td><td> 52</td></tr>\n",
       "\t<tr><td>2013</td><td>9</td><td>30</td><td> -5</td><td>-16</td><td> 264</td><td> 47</td></tr>\n",
       "\t<tr><td>2013</td><td>9</td><td>30</td><td> 12</td><td>  1</td><td> 187</td><td> 33</td></tr>\n",
       "\t<tr><td>2013</td><td>9</td><td>30</td><td>-10</td><td>-25</td><td>1617</td><td>196</td></tr>\n",
       "\t<tr><td>2013</td><td>9</td><td>30</td><td> NA</td><td> NA</td><td> 764</td><td> NA</td></tr>\n",
       "\t<tr><td>2013</td><td>9</td><td>30</td><td> NA</td><td> NA</td><td> 213</td><td> NA</td></tr>\n",
       "\t<tr><td>2013</td><td>9</td><td>30</td><td> NA</td><td> NA</td><td> 198</td><td> NA</td></tr>\n",
       "\t<tr><td>2013</td><td>9</td><td>30</td><td> NA</td><td> NA</td><td> 764</td><td> NA</td></tr>\n",
       "\t<tr><td>2013</td><td>9</td><td>30</td><td> NA</td><td> NA</td><td> 419</td><td> NA</td></tr>\n",
       "\t<tr><td>2013</td><td>9</td><td>30</td><td> NA</td><td> NA</td><td> 431</td><td> NA</td></tr>\n",
       "</tbody>\n",
       "</table>\n"
      ],
      "text/plain": [
       "       year month day dep_delay arr_delay distance air_time\n",
       "1      2013 1     1    2         11       1400     227     \n",
       "2      2013 1     1    4         20       1416     227     \n",
       "3      2013 1     1    2         33       1089     160     \n",
       "4      2013 1     1   -1        -18       1576     183     \n",
       "5      2013 1     1   -6        -25        762     116     \n",
       "6      2013 1     1   -4         12        719     150     \n",
       "7      2013 1     1   -5         19       1065     158     \n",
       "8      2013 1     1   -3        -14        229      53     \n",
       "9      2013 1     1   -3         -8        944     140     \n",
       "10     2013 1     1   -2          8        733     138     \n",
       "11     2013 1     1   -2         -2       1028     149     \n",
       "12     2013 1     1   -2         -3       1005     158     \n",
       "13     2013 1     1   -2          7       2475     345     \n",
       "14     2013 1     1   -2        -14       2565     361     \n",
       "15     2013 1     1   -1         31       1389     257     \n",
       "16     2013 1     1    0         -4        187      44     \n",
       "17     2013 1     1   -1         -8       2227     337     \n",
       "18     2013 1     1    0         -7       1076     152     \n",
       "19     2013 1     1    0         12        762     134     \n",
       "20     2013 1     1    1         -6       1023     147     \n",
       "21     2013 1     1   -8         -8       1020     170     \n",
       "22     2013 1     1   -3         16        502     105     \n",
       "23     2013 1     1   -4        -12       1085     152     \n",
       "24     2013 1     1   -4         -8        760     128     \n",
       "25     2013 1     1    0        -17       1085     157     \n",
       "26     2013 1     1    8         32        719     139     \n",
       "27     2013 1     1   11         14       2586     366     \n",
       "28     2013 1     1    3          4       1074     175     \n",
       "29     2013 1     1    0        -21       1598     182     \n",
       "30     2013 1     1    0         -9        746     120     \n",
       "<U+22EE>      <U+22EE> <U+22EE> <U+22EE> <U+22EE>  <U+22EE>  <U+22EE> <U+22EE>\n",
       "336747 2013 9     30   -2       -24        305      45     \n",
       "336748 2013 9     30   -2        -9        529      72     \n",
       "336749 2013 9     30   -2       -31       1626     213     \n",
       "336750 2013 9     30   30        -2        292      45     \n",
       "336751 2013 9     30   -9       -30        213      36     \n",
       "336752 2013 9     30    0       -30       2475     298     \n",
       "336753 2013 9     30   13        11        284      47     \n",
       "336754 2013 9     30    0       -25       1598     192     \n",
       "336755 2013 9     30   10         3       1076     139     \n",
       "336756 2013 9     30   -7       -23        200      37     \n",
       "336757 2013 9     30   -9       -16        209      39     \n",
       "336758 2013 9     30  194       194        301      50     \n",
       "336759 2013 9     30   -2         8        378      61     \n",
       "336760 2013 9     30   27         7        764      97     \n",
       "336761 2013 9     30   72        57        872     120     \n",
       "336762 2013 9     30  -14       -21        273      48     \n",
       "336763 2013 9     30   80        42       2565     318     \n",
       "336764 2013 9     30  154       130        944     123     \n",
       "336765 2013 9     30   -8        -8        266      43     \n",
       "336766 2013 9     30   -5       -17        209      41     \n",
       "336767 2013 9     30  -10       -20        301      52     \n",
       "336768 2013 9     30   -5       -16        264      47     \n",
       "336769 2013 9     30   12         1        187      33     \n",
       "336770 2013 9     30  -10       -25       1617     196     \n",
       "336771 2013 9     30   NA        NA        764      NA     \n",
       "336772 2013 9     30   NA        NA        213      NA     \n",
       "336773 2013 9     30   NA        NA        198      NA     \n",
       "336774 2013 9     30   NA        NA        764      NA     \n",
       "336775 2013 9     30   NA        NA        419      NA     \n",
       "336776 2013 9     30   NA        NA        431      NA     "
      ]
     },
     "metadata": {},
     "output_type": "display_data"
    }
   ],
   "source": [
    "df = df %>% select(year:day , ends_with('delay'), distance, air_time)\n",
    "df"
   ]
  },
  {
   "cell_type": "markdown",
   "id": "98cdeba7-1766-4b1e-bdd2-b15e40c6b4ad",
   "metadata": {},
   "source": [
    "## gain, speed를 계산하고 싶다."
   ]
  },
  {
   "cell_type": "markdown",
   "id": "59f99db9-5173-4e1e-bebc-dfe811c9a573",
   "metadata": {},
   "source": [
    "- 아래의 수식을 시용하여 gain, speed를 계산하자."
   ]
  },
  {
   "cell_type": "markdown",
   "id": "989fe5ed-ae7b-4199-a5c7-5c5b401baba7",
   "metadata": {},
   "source": [
    "`-` gain = dep_delay - arr_delay\n",
    "\n",
    "`-` speed = distance / air_time"
   ]
  },
  {
   "cell_type": "code",
   "execution_count": 52,
   "id": "6f82bd86-859d-4caf-94b5-4ce4140fd8b7",
   "metadata": {},
   "outputs": [
    {
     "name": "stdout",
     "output_type": "stream",
     "text": [
      "\u001b[90m# A tibble: 336,776 x 9\u001b[39m\n",
      "    year month   day dep_delay arr_delay distance air_time  gain speed\n",
      "   \u001b[3m\u001b[90m<int>\u001b[39m\u001b[23m \u001b[3m\u001b[90m<int>\u001b[39m\u001b[23m \u001b[3m\u001b[90m<int>\u001b[39m\u001b[23m     \u001b[3m\u001b[90m<dbl>\u001b[39m\u001b[23m     \u001b[3m\u001b[90m<dbl>\u001b[39m\u001b[23m    \u001b[3m\u001b[90m<dbl>\u001b[39m\u001b[23m    \u001b[3m\u001b[90m<dbl>\u001b[39m\u001b[23m \u001b[3m\u001b[90m<dbl>\u001b[39m\u001b[23m \u001b[3m\u001b[90m<dbl>\u001b[39m\u001b[23m\n",
      "\u001b[90m 1\u001b[39m  \u001b[4m2\u001b[24m013     1     1         2        11     \u001b[4m1\u001b[24m400      227    -\u001b[31m9\u001b[39m  6.17\n",
      "\u001b[90m 2\u001b[39m  \u001b[4m2\u001b[24m013     1     1         4        20     \u001b[4m1\u001b[24m416      227   -\u001b[31m16\u001b[39m  6.24\n",
      "\u001b[90m 3\u001b[39m  \u001b[4m2\u001b[24m013     1     1         2        33     \u001b[4m1\u001b[24m089      160   -\u001b[31m31\u001b[39m  6.81\n",
      "\u001b[90m 4\u001b[39m  \u001b[4m2\u001b[24m013     1     1        -\u001b[31m1\u001b[39m       -\u001b[31m18\u001b[39m     \u001b[4m1\u001b[24m576      183    17  8.61\n",
      "\u001b[90m 5\u001b[39m  \u001b[4m2\u001b[24m013     1     1        -\u001b[31m6\u001b[39m       -\u001b[31m25\u001b[39m      762      116    19  6.57\n",
      "\u001b[90m 6\u001b[39m  \u001b[4m2\u001b[24m013     1     1        -\u001b[31m4\u001b[39m        12      719      150   -\u001b[31m16\u001b[39m  4.79\n",
      "\u001b[90m 7\u001b[39m  \u001b[4m2\u001b[24m013     1     1        -\u001b[31m5\u001b[39m        19     \u001b[4m1\u001b[24m065      158   -\u001b[31m24\u001b[39m  6.74\n",
      "\u001b[90m 8\u001b[39m  \u001b[4m2\u001b[24m013     1     1        -\u001b[31m3\u001b[39m       -\u001b[31m14\u001b[39m      229       53    11  4.32\n",
      "\u001b[90m 9\u001b[39m  \u001b[4m2\u001b[24m013     1     1        -\u001b[31m3\u001b[39m        -\u001b[31m8\u001b[39m      944      140     5  6.74\n",
      "\u001b[90m10\u001b[39m  \u001b[4m2\u001b[24m013     1     1        -\u001b[31m2\u001b[39m         8      733      138   -\u001b[31m10\u001b[39m  5.31\n",
      "\u001b[90m# ... with 336,766 more rows\u001b[39m\n"
     ]
    }
   ],
   "source": [
    "df = df %>% \n",
    "mutate(gain= dep_delay-arr_delay, speed= distance / air_time)\n",
    "print(df)"
   ]
  },
  {
   "cell_type": "markdown",
   "id": "31b2ef1d-16d2-4f92-a676-2ba897a2b7f3",
   "metadata": {},
   "source": [
    "## mean_gain, mean_speed를 계산하고 싶다."
   ]
  },
  {
   "cell_type": "code",
   "execution_count": 53,
   "id": "71bd9e54-2fe9-4649-89c6-977b53c85cfd",
   "metadata": {},
   "outputs": [
    {
     "name": "stderr",
     "output_type": "stream",
     "text": [
      "`summarise()` has grouped output by 'year', 'month'. You can override using the `.groups` argument.\n",
      "\n"
     ]
    },
    {
     "data": {
      "text/html": [
       "<table class=\"dataframe\">\n",
       "<caption>A grouped_df: 365 × 5</caption>\n",
       "<thead>\n",
       "\t<tr><th scope=col>year</th><th scope=col>month</th><th scope=col>day</th><th scope=col>mean_gain</th><th scope=col>mean_speed</th></tr>\n",
       "\t<tr><th scope=col>&lt;int&gt;</th><th scope=col>&lt;int&gt;</th><th scope=col>&lt;int&gt;</th><th scope=col>&lt;dbl&gt;</th><th scope=col>&lt;dbl&gt;</th></tr>\n",
       "</thead>\n",
       "<tbody>\n",
       "\t<tr><td>2013</td><td>1</td><td> 1</td><td>NA</td><td>NA</td></tr>\n",
       "\t<tr><td>2013</td><td>1</td><td> 2</td><td>NA</td><td>NA</td></tr>\n",
       "\t<tr><td>2013</td><td>1</td><td> 3</td><td>NA</td><td>NA</td></tr>\n",
       "\t<tr><td>2013</td><td>1</td><td> 4</td><td>NA</td><td>NA</td></tr>\n",
       "\t<tr><td>2013</td><td>1</td><td> 5</td><td>NA</td><td>NA</td></tr>\n",
       "\t<tr><td>2013</td><td>1</td><td> 6</td><td>NA</td><td>NA</td></tr>\n",
       "\t<tr><td>2013</td><td>1</td><td> 7</td><td>NA</td><td>NA</td></tr>\n",
       "\t<tr><td>2013</td><td>1</td><td> 8</td><td>NA</td><td>NA</td></tr>\n",
       "\t<tr><td>2013</td><td>1</td><td> 9</td><td>NA</td><td>NA</td></tr>\n",
       "\t<tr><td>2013</td><td>1</td><td>10</td><td>NA</td><td>NA</td></tr>\n",
       "\t<tr><td>2013</td><td>1</td><td>11</td><td>NA</td><td>NA</td></tr>\n",
       "\t<tr><td>2013</td><td>1</td><td>12</td><td>NA</td><td>NA</td></tr>\n",
       "\t<tr><td>2013</td><td>1</td><td>13</td><td>NA</td><td>NA</td></tr>\n",
       "\t<tr><td>2013</td><td>1</td><td>14</td><td>NA</td><td>NA</td></tr>\n",
       "\t<tr><td>2013</td><td>1</td><td>15</td><td>NA</td><td>NA</td></tr>\n",
       "\t<tr><td>2013</td><td>1</td><td>16</td><td>NA</td><td>NA</td></tr>\n",
       "\t<tr><td>2013</td><td>1</td><td>17</td><td>NA</td><td>NA</td></tr>\n",
       "\t<tr><td>2013</td><td>1</td><td>18</td><td>NA</td><td>NA</td></tr>\n",
       "\t<tr><td>2013</td><td>1</td><td>19</td><td>NA</td><td>NA</td></tr>\n",
       "\t<tr><td>2013</td><td>1</td><td>20</td><td>NA</td><td>NA</td></tr>\n",
       "\t<tr><td>2013</td><td>1</td><td>21</td><td>NA</td><td>NA</td></tr>\n",
       "\t<tr><td>2013</td><td>1</td><td>22</td><td>NA</td><td>NA</td></tr>\n",
       "\t<tr><td>2013</td><td>1</td><td>23</td><td>NA</td><td>NA</td></tr>\n",
       "\t<tr><td>2013</td><td>1</td><td>24</td><td>NA</td><td>NA</td></tr>\n",
       "\t<tr><td>2013</td><td>1</td><td>25</td><td>NA</td><td>NA</td></tr>\n",
       "\t<tr><td>2013</td><td>1</td><td>26</td><td>NA</td><td>NA</td></tr>\n",
       "\t<tr><td>2013</td><td>1</td><td>27</td><td>NA</td><td>NA</td></tr>\n",
       "\t<tr><td>2013</td><td>1</td><td>28</td><td>NA</td><td>NA</td></tr>\n",
       "\t<tr><td>2013</td><td>1</td><td>29</td><td>NA</td><td>NA</td></tr>\n",
       "\t<tr><td>2013</td><td>1</td><td>30</td><td>NA</td><td>NA</td></tr>\n",
       "\t<tr><td>⋮</td><td>⋮</td><td>⋮</td><td>⋮</td><td>⋮</td></tr>\n",
       "\t<tr><td>2013</td><td>12</td><td> 2</td><td>NA</td><td>NA</td></tr>\n",
       "\t<tr><td>2013</td><td>12</td><td> 3</td><td>NA</td><td>NA</td></tr>\n",
       "\t<tr><td>2013</td><td>12</td><td> 4</td><td>NA</td><td>NA</td></tr>\n",
       "\t<tr><td>2013</td><td>12</td><td> 5</td><td>NA</td><td>NA</td></tr>\n",
       "\t<tr><td>2013</td><td>12</td><td> 6</td><td>NA</td><td>NA</td></tr>\n",
       "\t<tr><td>2013</td><td>12</td><td> 7</td><td>NA</td><td>NA</td></tr>\n",
       "\t<tr><td>2013</td><td>12</td><td> 8</td><td>NA</td><td>NA</td></tr>\n",
       "\t<tr><td>2013</td><td>12</td><td> 9</td><td>NA</td><td>NA</td></tr>\n",
       "\t<tr><td>2013</td><td>12</td><td>10</td><td>NA</td><td>NA</td></tr>\n",
       "\t<tr><td>2013</td><td>12</td><td>11</td><td>NA</td><td>NA</td></tr>\n",
       "\t<tr><td>2013</td><td>12</td><td>12</td><td>NA</td><td>NA</td></tr>\n",
       "\t<tr><td>2013</td><td>12</td><td>13</td><td>NA</td><td>NA</td></tr>\n",
       "\t<tr><td>2013</td><td>12</td><td>14</td><td>NA</td><td>NA</td></tr>\n",
       "\t<tr><td>2013</td><td>12</td><td>15</td><td>NA</td><td>NA</td></tr>\n",
       "\t<tr><td>2013</td><td>12</td><td>16</td><td>NA</td><td>NA</td></tr>\n",
       "\t<tr><td>2013</td><td>12</td><td>17</td><td>NA</td><td>NA</td></tr>\n",
       "\t<tr><td>2013</td><td>12</td><td>18</td><td>NA</td><td>NA</td></tr>\n",
       "\t<tr><td>2013</td><td>12</td><td>19</td><td>NA</td><td>NA</td></tr>\n",
       "\t<tr><td>2013</td><td>12</td><td>20</td><td>NA</td><td>NA</td></tr>\n",
       "\t<tr><td>2013</td><td>12</td><td>21</td><td>NA</td><td>NA</td></tr>\n",
       "\t<tr><td>2013</td><td>12</td><td>22</td><td>NA</td><td>NA</td></tr>\n",
       "\t<tr><td>2013</td><td>12</td><td>23</td><td>NA</td><td>NA</td></tr>\n",
       "\t<tr><td>2013</td><td>12</td><td>24</td><td>NA</td><td>NA</td></tr>\n",
       "\t<tr><td>2013</td><td>12</td><td>25</td><td>NA</td><td>NA</td></tr>\n",
       "\t<tr><td>2013</td><td>12</td><td>26</td><td>NA</td><td>NA</td></tr>\n",
       "\t<tr><td>2013</td><td>12</td><td>27</td><td>NA</td><td>NA</td></tr>\n",
       "\t<tr><td>2013</td><td>12</td><td>28</td><td>NA</td><td>NA</td></tr>\n",
       "\t<tr><td>2013</td><td>12</td><td>29</td><td>NA</td><td>NA</td></tr>\n",
       "\t<tr><td>2013</td><td>12</td><td>30</td><td>NA</td><td>NA</td></tr>\n",
       "\t<tr><td>2013</td><td>12</td><td>31</td><td>NA</td><td>NA</td></tr>\n",
       "</tbody>\n",
       "</table>\n"
      ],
      "text/plain": [
       "    year month day mean_gain mean_speed\n",
       "1   2013 1      1  NA        NA        \n",
       "2   2013 1      2  NA        NA        \n",
       "3   2013 1      3  NA        NA        \n",
       "4   2013 1      4  NA        NA        \n",
       "5   2013 1      5  NA        NA        \n",
       "6   2013 1      6  NA        NA        \n",
       "7   2013 1      7  NA        NA        \n",
       "8   2013 1      8  NA        NA        \n",
       "9   2013 1      9  NA        NA        \n",
       "10  2013 1     10  NA        NA        \n",
       "11  2013 1     11  NA        NA        \n",
       "12  2013 1     12  NA        NA        \n",
       "13  2013 1     13  NA        NA        \n",
       "14  2013 1     14  NA        NA        \n",
       "15  2013 1     15  NA        NA        \n",
       "16  2013 1     16  NA        NA        \n",
       "17  2013 1     17  NA        NA        \n",
       "18  2013 1     18  NA        NA        \n",
       "19  2013 1     19  NA        NA        \n",
       "20  2013 1     20  NA        NA        \n",
       "21  2013 1     21  NA        NA        \n",
       "22  2013 1     22  NA        NA        \n",
       "23  2013 1     23  NA        NA        \n",
       "24  2013 1     24  NA        NA        \n",
       "25  2013 1     25  NA        NA        \n",
       "26  2013 1     26  NA        NA        \n",
       "27  2013 1     27  NA        NA        \n",
       "28  2013 1     28  NA        NA        \n",
       "29  2013 1     29  NA        NA        \n",
       "30  2013 1     30  NA        NA        \n",
       "<U+22EE>   <U+22EE> <U+22EE> <U+22EE> <U+22EE>  <U+22EE>  \n",
       "336 2013 12     2  NA        NA        \n",
       "337 2013 12     3  NA        NA        \n",
       "338 2013 12     4  NA        NA        \n",
       "339 2013 12     5  NA        NA        \n",
       "340 2013 12     6  NA        NA        \n",
       "341 2013 12     7  NA        NA        \n",
       "342 2013 12     8  NA        NA        \n",
       "343 2013 12     9  NA        NA        \n",
       "344 2013 12    10  NA        NA        \n",
       "345 2013 12    11  NA        NA        \n",
       "346 2013 12    12  NA        NA        \n",
       "347 2013 12    13  NA        NA        \n",
       "348 2013 12    14  NA        NA        \n",
       "349 2013 12    15  NA        NA        \n",
       "350 2013 12    16  NA        NA        \n",
       "351 2013 12    17  NA        NA        \n",
       "352 2013 12    18  NA        NA        \n",
       "353 2013 12    19  NA        NA        \n",
       "354 2013 12    20  NA        NA        \n",
       "355 2013 12    21  NA        NA        \n",
       "356 2013 12    22  NA        NA        \n",
       "357 2013 12    23  NA        NA        \n",
       "358 2013 12    24  NA        NA        \n",
       "359 2013 12    25  NA        NA        \n",
       "360 2013 12    26  NA        NA        \n",
       "361 2013 12    27  NA        NA        \n",
       "362 2013 12    28  NA        NA        \n",
       "363 2013 12    29  NA        NA        \n",
       "364 2013 12    30  NA        NA        \n",
       "365 2013 12    31  NA        NA        "
      ]
     },
     "metadata": {},
     "output_type": "display_data"
    }
   ],
   "source": [
    "df %>% \n",
    "select(year:day, ends_with(\"delay\"), distance, air_time) %>%\n",
    "mutate(gain= dep_delay-arr_delay, speed= distance / air_time) %>%\n",
    "group_by(year, month, day) %>%\n",
    "summarise(mean_gain = mean(gain), mean_speed = mean(speed))"
   ]
  },
  {
   "cell_type": "markdown",
   "id": "38c9bf70-4f3a-4ccc-9645-9732a396d665",
   "metadata": {},
   "source": [
    "- NA가 출력되는 것을 보니 데이터 중에 결측치가 존재했던 것 같다."
   ]
  },
  {
   "cell_type": "markdown",
   "id": "f0c4f7f6-7cf4-4fc1-a285-b97981354c30",
   "metadata": {},
   "source": [
    "- `na.rm=TRUE`를 사용하자."
   ]
  },
  {
   "cell_type": "code",
   "execution_count": 54,
   "id": "640dc30b-a506-42fd-8c90-c3430515a84d",
   "metadata": {},
   "outputs": [
    {
     "name": "stderr",
     "output_type": "stream",
     "text": [
      "`summarise()` has grouped output by 'year', 'month'. You can override using the `.groups` argument.\n",
      "\n"
     ]
    },
    {
     "data": {
      "text/html": [
       "<table class=\"dataframe\">\n",
       "<caption>A grouped_df: 365 × 5</caption>\n",
       "<thead>\n",
       "\t<tr><th scope=col>year</th><th scope=col>month</th><th scope=col>day</th><th scope=col>mean_gain</th><th scope=col>mean_speed</th></tr>\n",
       "\t<tr><th scope=col>&lt;int&gt;</th><th scope=col>&lt;int&gt;</th><th scope=col>&lt;int&gt;</th><th scope=col>&lt;dbl&gt;</th><th scope=col>&lt;dbl&gt;</th></tr>\n",
       "</thead>\n",
       "<tbody>\n",
       "\t<tr><td>2013</td><td>1</td><td> 1</td><td>-1.2154031</td><td>5.956879</td></tr>\n",
       "\t<tr><td>2013</td><td>1</td><td> 2</td><td> 0.9849138</td><td>6.085977</td></tr>\n",
       "\t<tr><td>2013</td><td>1</td><td> 3</td><td> 5.1744444</td><td>6.163061</td></tr>\n",
       "\t<tr><td>2013</td><td>1</td><td> 4</td><td>10.8986784</td><td>6.389652</td></tr>\n",
       "\t<tr><td>2013</td><td>1</td><td> 5</td><td> 7.2580195</td><td>6.259174</td></tr>\n",
       "\t<tr><td>2013</td><td>1</td><td> 6</td><td> 2.9095296</td><td>6.146544</td></tr>\n",
       "\t<tr><td>2013</td><td>1</td><td> 7</td><td>10.3645161</td><td>6.488469</td></tr>\n",
       "\t<tr><td>2013</td><td>1</td><td> 8</td><td> 5.7858744</td><td>6.215331</td></tr>\n",
       "\t<tr><td>2013</td><td>1</td><td> 9</td><td> 2.5655095</td><td>6.021767</td></tr>\n",
       "\t<tr><td>2013</td><td>1</td><td>10</td><td> 8.7438105</td><td>6.375353</td></tr>\n",
       "\t<tr><td>2013</td><td>1</td><td>11</td><td> 7.5954198</td><td>6.326487</td></tr>\n",
       "\t<tr><td>2013</td><td>1</td><td>12</td><td>14.6093979</td><td>6.613691</td></tr>\n",
       "\t<tr><td>2013</td><td>1</td><td>13</td><td> 4.6877323</td><td>6.353392</td></tr>\n",
       "\t<tr><td>2013</td><td>1</td><td>14</td><td>-0.8418202</td><td>6.018617</td></tr>\n",
       "\t<tr><td>2013</td><td>1</td><td>15</td><td>-0.3019296</td><td>5.918271</td></tr>\n",
       "\t<tr><td>2013</td><td>1</td><td>16</td><td>-9.7924971</td><td>5.819344</td></tr>\n",
       "\t<tr><td>2013</td><td>1</td><td>17</td><td> 1.1923497</td><td>5.923112</td></tr>\n",
       "\t<tr><td>2013</td><td>1</td><td>18</td><td> 4.9263736</td><td>6.207338</td></tr>\n",
       "\t<tr><td>2013</td><td>1</td><td>19</td><td>11.8882265</td><td>6.340853</td></tr>\n",
       "\t<tr><td>2013</td><td>1</td><td>20</td><td> 3.0640205</td><td>6.098927</td></tr>\n",
       "\t<tr><td>2013</td><td>1</td><td>21</td><td> 1.5232816</td><td>5.911828</td></tr>\n",
       "\t<tr><td>2013</td><td>1</td><td>22</td><td> 0.2225989</td><td>5.966793</td></tr>\n",
       "\t<tr><td>2013</td><td>1</td><td>23</td><td> 3.6925676</td><td>6.081496</td></tr>\n",
       "\t<tr><td>2013</td><td>1</td><td>24</td><td> 4.1156388</td><td>6.305144</td></tr>\n",
       "\t<tr><td>2013</td><td>1</td><td>25</td><td>-5.3469852</td><td>6.177677</td></tr>\n",
       "\t<tr><td>2013</td><td>1</td><td>26</td><td> 6.4619970</td><td>6.342779</td></tr>\n",
       "\t<tr><td>2013</td><td>1</td><td>27</td><td> 9.6972705</td><td>6.371808</td></tr>\n",
       "\t<tr><td>2013</td><td>1</td><td>28</td><td> 5.7794632</td><td>6.288730</td></tr>\n",
       "\t<tr><td>2013</td><td>1</td><td>29</td><td> 9.1047181</td><td>6.297918</td></tr>\n",
       "\t<tr><td>2013</td><td>1</td><td>30</td><td> 2.0226131</td><td>6.072084</td></tr>\n",
       "\t<tr><td>⋮</td><td>⋮</td><td>⋮</td><td>⋮</td><td>⋮</td></tr>\n",
       "\t<tr><td>2013</td><td>12</td><td> 2</td><td>  8.6172345</td><td>6.538165</td></tr>\n",
       "\t<tr><td>2013</td><td>12</td><td> 3</td><td>  3.7637306</td><td>6.385837</td></tr>\n",
       "\t<tr><td>2013</td><td>12</td><td> 4</td><td>  5.5354497</td><td>6.374694</td></tr>\n",
       "\t<tr><td>2013</td><td>12</td><td> 5</td><td>  0.7886279</td><td>6.315847</td></tr>\n",
       "\t<tr><td>2013</td><td>12</td><td> 6</td><td> -4.9424779</td><td>6.088300</td></tr>\n",
       "\t<tr><td>2013</td><td>12</td><td> 7</td><td> -0.5210210</td><td>6.083830</td></tr>\n",
       "\t<tr><td>2013</td><td>12</td><td> 8</td><td>-16.0335404</td><td>6.015119</td></tr>\n",
       "\t<tr><td>2013</td><td>12</td><td> 9</td><td> -7.9688889</td><td>5.927017</td></tr>\n",
       "\t<tr><td>2013</td><td>12</td><td>10</td><td>-18.0433018</td><td>5.851833</td></tr>\n",
       "\t<tr><td>2013</td><td>12</td><td>11</td><td> -3.8292683</td><td>5.854563</td></tr>\n",
       "\t<tr><td>2013</td><td>12</td><td>12</td><td>  2.1491137</td><td>6.257818</td></tr>\n",
       "\t<tr><td>2013</td><td>12</td><td>13</td><td>  5.0612669</td><td>6.276367</td></tr>\n",
       "\t<tr><td>2013</td><td>12</td><td>14</td><td>-19.4046346</td><td>6.257517</td></tr>\n",
       "\t<tr><td>2013</td><td>12</td><td>15</td><td>  3.6813725</td><td>6.167540</td></tr>\n",
       "\t<tr><td>2013</td><td>12</td><td>16</td><td>  4.1434555</td><td>6.232667</td></tr>\n",
       "\t<tr><td>2013</td><td>12</td><td>17</td><td>-15.1005988</td><td>6.380989</td></tr>\n",
       "\t<tr><td>2013</td><td>12</td><td>18</td><td>  2.9474790</td><td>6.464964</td></tr>\n",
       "\t<tr><td>2013</td><td>12</td><td>19</td><td>  7.1438923</td><td>6.458775</td></tr>\n",
       "\t<tr><td>2013</td><td>12</td><td>20</td><td>  3.3555094</td><td>6.272395</td></tr>\n",
       "\t<tr><td>2013</td><td>12</td><td>21</td><td>  7.8052434</td><td>6.465150</td></tr>\n",
       "\t<tr><td>2013</td><td>12</td><td>22</td><td>  5.2189616</td><td>6.320959</td></tr>\n",
       "\t<tr><td>2013</td><td>12</td><td>23</td><td>  0.1666667</td><td>6.193496</td></tr>\n",
       "\t<tr><td>2013</td><td>12</td><td>24</td><td>  7.8098404</td><td>6.363875</td></tr>\n",
       "\t<tr><td>2013</td><td>12</td><td>25</td><td>  9.4517483</td><td>6.478628</td></tr>\n",
       "\t<tr><td>2013</td><td>12</td><td>26</td><td>  7.2430108</td><td>6.349989</td></tr>\n",
       "\t<tr><td>2013</td><td>12</td><td>27</td><td> 11.1061394</td><td>6.442939</td></tr>\n",
       "\t<tr><td>2013</td><td>12</td><td>28</td><td> 11.2410824</td><td>6.555790</td></tr>\n",
       "\t<tr><td>2013</td><td>12</td><td>29</td><td>  3.3479263</td><td>6.365616</td></tr>\n",
       "\t<tr><td>2013</td><td>12</td><td>30</td><td>  0.6526758</td><td>6.115099</td></tr>\n",
       "\t<tr><td>2013</td><td>12</td><td>31</td><td>  0.6930171</td><td>6.139908</td></tr>\n",
       "</tbody>\n",
       "</table>\n"
      ],
      "text/plain": [
       "    year month day mean_gain   mean_speed\n",
       "1   2013 1      1  -1.2154031  5.956879  \n",
       "2   2013 1      2   0.9849138  6.085977  \n",
       "3   2013 1      3   5.1744444  6.163061  \n",
       "4   2013 1      4  10.8986784  6.389652  \n",
       "5   2013 1      5   7.2580195  6.259174  \n",
       "6   2013 1      6   2.9095296  6.146544  \n",
       "7   2013 1      7  10.3645161  6.488469  \n",
       "8   2013 1      8   5.7858744  6.215331  \n",
       "9   2013 1      9   2.5655095  6.021767  \n",
       "10  2013 1     10   8.7438105  6.375353  \n",
       "11  2013 1     11   7.5954198  6.326487  \n",
       "12  2013 1     12  14.6093979  6.613691  \n",
       "13  2013 1     13   4.6877323  6.353392  \n",
       "14  2013 1     14  -0.8418202  6.018617  \n",
       "15  2013 1     15  -0.3019296  5.918271  \n",
       "16  2013 1     16  -9.7924971  5.819344  \n",
       "17  2013 1     17   1.1923497  5.923112  \n",
       "18  2013 1     18   4.9263736  6.207338  \n",
       "19  2013 1     19  11.8882265  6.340853  \n",
       "20  2013 1     20   3.0640205  6.098927  \n",
       "21  2013 1     21   1.5232816  5.911828  \n",
       "22  2013 1     22   0.2225989  5.966793  \n",
       "23  2013 1     23   3.6925676  6.081496  \n",
       "24  2013 1     24   4.1156388  6.305144  \n",
       "25  2013 1     25  -5.3469852  6.177677  \n",
       "26  2013 1     26   6.4619970  6.342779  \n",
       "27  2013 1     27   9.6972705  6.371808  \n",
       "28  2013 1     28   5.7794632  6.288730  \n",
       "29  2013 1     29   9.1047181  6.297918  \n",
       "30  2013 1     30   2.0226131  6.072084  \n",
       "<U+22EE>   <U+22EE> <U+22EE> <U+22EE> <U+22EE>    <U+22EE>  \n",
       "336 2013 12     2    8.6172345 6.538165  \n",
       "337 2013 12     3    3.7637306 6.385837  \n",
       "338 2013 12     4    5.5354497 6.374694  \n",
       "339 2013 12     5    0.7886279 6.315847  \n",
       "340 2013 12     6   -4.9424779 6.088300  \n",
       "341 2013 12     7   -0.5210210 6.083830  \n",
       "342 2013 12     8  -16.0335404 6.015119  \n",
       "343 2013 12     9   -7.9688889 5.927017  \n",
       "344 2013 12    10  -18.0433018 5.851833  \n",
       "345 2013 12    11   -3.8292683 5.854563  \n",
       "346 2013 12    12    2.1491137 6.257818  \n",
       "347 2013 12    13    5.0612669 6.276367  \n",
       "348 2013 12    14  -19.4046346 6.257517  \n",
       "349 2013 12    15    3.6813725 6.167540  \n",
       "350 2013 12    16    4.1434555 6.232667  \n",
       "351 2013 12    17  -15.1005988 6.380989  \n",
       "352 2013 12    18    2.9474790 6.464964  \n",
       "353 2013 12    19    7.1438923 6.458775  \n",
       "354 2013 12    20    3.3555094 6.272395  \n",
       "355 2013 12    21    7.8052434 6.465150  \n",
       "356 2013 12    22    5.2189616 6.320959  \n",
       "357 2013 12    23    0.1666667 6.193496  \n",
       "358 2013 12    24    7.8098404 6.363875  \n",
       "359 2013 12    25    9.4517483 6.478628  \n",
       "360 2013 12    26    7.2430108 6.349989  \n",
       "361 2013 12    27   11.1061394 6.442939  \n",
       "362 2013 12    28   11.2410824 6.555790  \n",
       "363 2013 12    29    3.3479263 6.365616  \n",
       "364 2013 12    30    0.6526758 6.115099  \n",
       "365 2013 12    31    0.6930171 6.139908  "
      ]
     },
     "metadata": {},
     "output_type": "display_data"
    }
   ],
   "source": [
    "df %>% \n",
    "select(year:day, ends_with(\"delay\"), distance, air_time) %>%\n",
    "mutate(gain= dep_delay-arr_delay, speed= distance / air_time) %>%\n",
    "group_by(year, month, day) %>%\n",
    "summarise(mean_gain = mean(gain, na.rm=TRUE),\n",
    "          mean_speed = mean(speed, na.rm=TRUE))"
   ]
  },
  {
   "cell_type": "markdown",
   "id": "4b935fab-0a1d-4e0e-9cb3-9132d8dea5e0",
   "metadata": {},
   "source": [
    "# 과제"
   ]
  },
  {
   "cell_type": "markdown",
   "id": "90ea6c3d-833b-466c-8c27-3fffcdf2c6c7",
   "metadata": {},
   "source": [
    "## Problem"
   ]
  },
  {
   "cell_type": "markdown",
   "id": "36af7e06-3c8e-44b9-96e5-df965f0983f9",
   "metadata": {},
   "source": [
    "강화유리와 유리를 구분할 수 있는 유리 장인이 있다.\n",
    "\n",
    "이 유리장인은 80%의 확률로 강화유리를 고른다.\n",
    "\n",
    "총 10명의 참가자가 있고 이 참가자들은 유리와 강화유리의 조합으로 이루어진 징검다리를 5번 연속으로 건너야 한다.\n",
    "\n",
    "아래의 경우에 참가자들은 총 몇명이 살아남는가? 1000번의 시뮬레이션을 하여 추정하라."
   ]
  },
  {
   "cell_type": "markdown",
   "id": "ab3a4aee-39ce-45d1-80a9-7ec0af7f9ee8",
   "metadata": {},
   "source": [
    "`-` 첫 번째 경우"
   ]
  },
  {
   "cell_type": "markdown",
   "id": "3062a977-620a-43c4-9a80-c554fc13890e",
   "metadata": {},
   "source": [
    "일반인1 - 일반인2 - $\\dots$ - 일반인9 - 유리장인||(유리, 강화유리)"
   ]
  },
  {
   "cell_type": "markdown",
   "id": "5296c45e-aeab-451e-926b-8df7c05fad37",
   "metadata": {},
   "source": [
    "`-` 두 번째 경우"
   ]
  },
  {
   "cell_type": "markdown",
   "id": "c9de133f-8e3d-480e-97eb-a8287334d1f0",
   "metadata": {},
   "source": [
    "유리장인 - 일반인1 - 일반인2 - $\\dots$ - 일반인9||(유리, 강화유리)"
   ]
  },
  {
   "cell_type": "markdown",
   "id": "3c1c8e9e-7468-478b-9e76-7f6c0acdff54",
   "metadata": {},
   "source": [
    "## Solution I"
   ]
  },
  {
   "cell_type": "markdown",
   "id": "e5a0adca-f0ed-4441-8975-b1aa1394b9cb",
   "metadata": {},
   "source": [
    "- 뒤에 있는 5명은 항상 살아남는다."
   ]
  },
  {
   "cell_type": "markdown",
   "id": "a693a9cb-ee84-4788-b8e6-e67f97f42f57",
   "metadata": {},
   "source": [
    "- 따라서 생존자 = 1번 ~ 5번주자 중 생존자 + 5"
   ]
  },
  {
   "cell_type": "markdown",
   "id": "6e9518b3-28fc-4c84-abfa-cdd4d100f844",
   "metadata": {},
   "source": [
    "`-` 첫 번째 경우"
   ]
  },
  {
   "cell_type": "code",
   "execution_count": 47,
   "id": "e85b8801-b060-422b-a26d-b20f08e79952",
   "metadata": {},
   "outputs": [
    {
     "data": {
      "text/html": [
       "8.52672"
      ],
      "text/latex": [
       "8.52672"
      ],
      "text/markdown": [
       "8.52672"
      ],
      "text/plain": [
       "[1] 8.52672"
      ]
     },
     "metadata": {},
     "output_type": "display_data"
    }
   ],
   "source": [
    "rslt = c()\n",
    "A = rbinom(1000,size=5,prob=0.8)\n",
    "B = rbinom(1000,size=4,prob=0.5)\n",
    "for (i in 1:length(B)) rslt[i] = 4*mean(sum(B>=5-A[i]))/1000 + 5\n",
    "rslt%>%mean"
   ]
  },
  {
   "cell_type": "markdown",
   "id": "a32d77f1-26d5-4e0f-88a3-a5d461c9f6ff",
   "metadata": {},
   "source": [
    "- 약 8.5명이 생존한다."
   ]
  },
  {
   "cell_type": "markdown",
   "id": "0686b8f3-8823-4afb-b16f-757367fad8f0",
   "metadata": {},
   "source": [
    "`-` 두 번째 경우"
   ]
  },
  {
   "cell_type": "code",
   "execution_count": 164,
   "id": "99e6ef96-c621-4712-968d-a3a6dde84e50",
   "metadata": {},
   "outputs": [
    {
     "data": {
      "text/html": [
       "7.524"
      ],
      "text/latex": [
       "7.524"
      ],
      "text/markdown": [
       "7.524"
      ],
      "text/plain": [
       "[1] 7.524"
      ]
     },
     "metadata": {},
     "output_type": "display_data"
    }
   ],
   "source": [
    "(rbinom(1000,size=5,prob=0.5) %>% mean) + 5"
   ]
  },
  {
   "cell_type": "markdown",
   "id": "fe4e3604-45b9-4a41-9be2-fa1fd7cac8c3",
   "metadata": {},
   "source": [
    "- 약 7.5명이 생존한다."
   ]
  },
  {
   "cell_type": "code",
   "execution_count": 56,
   "id": "7b6a56b5-569b-4800-9776-a6cbbbc33baa",
   "metadata": {},
   "outputs": [
    {
     "data": {
      "text/html": [
       "7.48"
      ],
      "text/latex": [
       "7.48"
      ],
      "text/markdown": [
       "7.48"
      ],
      "text/plain": [
       "[1] 7.48"
      ]
     },
     "metadata": {},
     "output_type": "display_data"
    }
   ],
   "source": [
    "rslt = c()\n",
    "for (a in 1:1000){\n",
    "    mat = cbind(rep(TRUE, 5), rep(0, 5))\n",
    "    \n",
    "    colnames(mat) = c(\"최종 생존 여부\", \"성공 횟수\")\n",
    "    mat = as_tibble(mat)\n",
    "    for (i in 1:5){\n",
    "        try = 1\n",
    "        scc = 0\n",
    "        while (try == 1){\n",
    "            if (sum(mat[,2]) >=5) break\n",
    "            try = sample(c(0,1), size = 1)\n",
    "            if (try == 1){ #생존\n",
    "                mat[i,2] = mat[i,2] + 1\n",
    "            }\n",
    "            else if(try == 0){ #사망\n",
    "                mat[i,1] = 0\n",
    "                mat[i,2] = mat[i,2] + 1\n",
    "            }\n",
    "        }\n",
    "    }\n",
    "    rslt[a] = sum(mat[,1])\n",
    "}\n",
    "mean(rslt) + 5"
   ]
  },
  {
   "cell_type": "code",
   "execution_count": 58,
   "id": "11a5fd9a-ac79-4ae0-bae4-2aa246770d45",
   "metadata": {},
   "outputs": [
    {
     "data": {
      "text/html": [
       "8.5"
      ],
      "text/latex": [
       "8.5"
      ],
      "text/markdown": [
       "8.5"
      ],
      "text/plain": [
       "[1] 8.5"
      ]
     },
     "metadata": {},
     "output_type": "display_data"
    }
   ],
   "source": [
    "rslt = c()\n",
    "for (a in 1:1000){\n",
    "    mat = cbind(rep(TRUE, 5), rep(0, 5))\n",
    "    mat = as_tibble(mat)\n",
    "    for (i in 1:5){\n",
    "        try = 1\n",
    "        scc = 0\n",
    "        while (try == 1){\n",
    "            if (sum(mat[,2]) >= 5) break\n",
    "            if (i == 1) try = sample(c(0,1), size = 1, prob = c(2,8))\n",
    "            else try = sample(c(0,1), size = 1, prob = c(5,5))\n",
    "            \n",
    "            mat[i,2] = mat[i,2] + 1\n",
    "            if(try == 0) mat[i,1] = 0\n",
    "        }\n",
    "    }\n",
    "    rslt[a] = sum(mat[,1])\n",
    "}\n",
    "mean(rslt) + 5"
   ]
  },
  {
   "cell_type": "markdown",
   "id": "4c070fa0-7990-4607-93cf-69612bb3b84c",
   "metadata": {},
   "source": [
    "## Solution II"
   ]
  },
  {
   "cell_type": "markdown",
   "id": "8b910244-6fbf-4405-9834-099ebbc87bc4",
   "metadata": {},
   "source": [
    "### 장인이 맨 앞에 있는 경우"
   ]
  },
  {
   "cell_type": "markdown",
   "id": "c34ae523-8581-4498-9eca-52bbf7ea9a4e",
   "metadata": {},
   "source": [
    "`-` 10명이 생존할 확률 "
   ]
  },
  {
   "cell_type": "markdown",
   "id": "4ed41b49-056d-45f6-9bb3-e8c41b9ed189",
   "metadata": {},
   "source": [
    "- 장인이 모두 성공$0.8^5$"
   ]
  },
  {
   "cell_type": "markdown",
   "id": "11c0da36-4daf-41f5-b10e-f0ced280a5bb",
   "metadata": {},
   "source": [
    "`-` 9명이 생존할 확률"
   ]
  },
  {
   "cell_type": "markdown",
   "id": "4470a238-8557-43c1-82c6-93463a6cd290",
   "metadata": {},
   "source": [
    "- 장인이 1번째에서 탈락 $=0.8^0 \\times 0.2^1 \\times 0.5^4$\n",
    "\n",
    "- 장인이 2번째에서 탈락 $=0.8^1 \\times 0.2^1 \\times 0.5^3$\n",
    "\n",
    "- 장인이 3번째에서 탈락 $=0.8^2 \\times 0.2^1 \\times 0.5^2$\n",
    " \n",
    "- 장인이 4번째에서 탈락 $=0.8^3 \\times 0.2^1 \\times 0.5^1$\n",
    "\n",
    "- 장인이 5번째에서 탈락 $=0.8^4 \\times 0.2^1 \\times 0.5^0$"
   ]
  },
  {
   "cell_type": "markdown",
   "id": "a53a80de-5415-43ed-beab-e5e5b7156ace",
   "metadata": {},
   "source": [
    "`-` 8명이 생존할 확률"
   ]
  },
  {
   "cell_type": "markdown",
   "id": "8062ba33-7d42-48a4-9ce7-91f5b592bf52",
   "metadata": {},
   "source": [
    "- 장인이 1번째에서 탈락 $=4 \\times0.8^0 \\times 0.2^1 \\times 0.5^4$\n",
    "\n",
    "    - 일반인이 2번째에서 탈락 $=0.8^0 \\times 0.2^1 \\times 0.5^4$\n",
    "    \n",
    "    - 일반인이 3번째에서 탈락 $=0.8^0 \\times 0.2^1 \\times 0.5^4$\n",
    "    - 일반인이 4번째에서 탈락 $=0.8^0 \\times 0.2^1 \\times 0.5^4$\n",
    "    - 일반인이 5번째에서 탈락 $=0.8^0 \\times 0.2^1 \\times 0.5^4$"
   ]
  },
  {
   "cell_type": "markdown",
   "id": "1a52dc55-c7e0-43e7-b23f-699946f22517",
   "metadata": {},
   "source": [
    "- 장인이 2번째에서 탈락 $=3 \\times0.8^1 \\times 0.2^1 \\times 0.5^3$\n",
    "\n",
    "    - 일반인이 3번째에서 탈락 $=0.8^1 \\times 0.2^1 \\times 0.5^3$\n",
    "    - 일반인이 4번째에서 탈락 $=0.8^1 \\times 0.2^1 \\times 0.5^3$\n",
    "    - 일반인이 5번째에서 탈락 $=0.8^1 \\times 0.2^1 \\times 0.5^3$"
   ]
  },
  {
   "cell_type": "markdown",
   "id": "0927da4d-0ecc-4221-ab34-6cac1aa2a5b9",
   "metadata": {},
   "source": [
    "- 장인이 3번째에서 탈락 $=3\\times 0.8^2 \\times 0.2^1 \\times 0.5^2$ \n",
    "\n",
    "    - 일반인이 4번째에서 탈락 $=0.8^2 \\times 0.2^1 \\times 0.5^2$  \n",
    "    \n",
    "    - 일반인이 5번째에서 탈락 $=0.8^2 \\times 0.2^1 \\times 0.5^2$  "
   ]
  },
  {
   "cell_type": "markdown",
   "id": "516788b1-7504-4253-8211-ada433f8674b",
   "metadata": {},
   "source": [
    "  \n",
    "- 장인이 4번째에서 탈락 $=1\\times0.8^2 \\times 0.2^1 \\times 0.5^1$\n",
    "\n",
    "    - 일반인이 5번째에서 탈락 $=0.8^2 \\times 0.2^1 \\times 0.5^1$"
   ]
  },
  {
   "cell_type": "markdown",
   "id": "2723f831-d247-400a-82c6-d6ab39607255",
   "metadata": {},
   "source": [
    "`-` 7명이 생존할 확률"
   ]
  },
  {
   "cell_type": "markdown",
   "id": "25adedc4-f035-43a4-aeb9-0947b1ee12f5",
   "metadata": {},
   "source": [
    "- 장인이 1번째에서 탈락 $= choose(4, 2) \\times0.8^0 \\times 0.2^1 \\times 0.5^4$\n",
    "\n",
    "    - 일반인이 2, 3번째에서 탈락 $=0.8^0 \\times 0.2^1 \\times 0.5^4$\n",
    "    - 일반인이 2, 4번째에서 탈락 $=0.8^0 \\times 0.2^1 \\times 0.5^4$\n",
    "    - 일반인이 2, 5번째에서 탈락 $=0.8^0 \\times 0.2^1 \\times 0.5^4$\n",
    "    - 일반인이 3, 4번째에서 탈락 $=0.8^0 \\times 0.2^1 \\times 0.5^4$\n",
    "    - 일반인이 3, 5번째에서 탈락 $=0.8^0 \\times 0.2^1 \\times 0.5^4$\n",
    "    - 일반인이 4, 5번째에서 탈락 $=0.8^0 \\times 0.2^1 \\times 0.5^4$"
   ]
  },
  {
   "cell_type": "markdown",
   "id": "5889bb40-8954-4dfd-804e-2026b7533a69",
   "metadata": {},
   "source": [
    "- 장인이 2번째에서 탈락 $= choose(3,2)\\times0.8^1 \\times 0.2^1 \\times 0.5^3$\n",
    "\n",
    "    - 일반인이 3, 4번째에서 탈락 $=0.8^1 \\times 0.2^1 \\times 0.5^3$\n",
    "    - 일반인이 3, 5번째에서 탈락 $=0.8^1 \\times 0.2^1 \\times 0.5^3$\n",
    "    - 일반인이 4, 5번째에서 탈락 $=0.8^1 \\times 0.2^1 \\times 0.5^3$"
   ]
  },
  {
   "cell_type": "markdown",
   "id": "1a83ee5f-ccc1-4f1a-af90-fbd09b6e5b33",
   "metadata": {},
   "source": [
    "- 장인이 3번째에서 탈락 $=choose(2,2)\\times 0.8^2 \\times 0.2^1 \\times 0.5^2$ \n",
    "\n",
    "    - 일반인이 4, 5번째에서 탈락 $=0.8^2 \\times 0.2^1 \\times 0.5^2$ "
   ]
  },
  {
   "cell_type": "markdown",
   "id": "8196f810-b721-4bd9-b336-e2dc50bb1cb1",
   "metadata": {},
   "source": [
    "`-` 6명이 생존할 확률 \n",
    "\n",
    "\n",
    "- 장인이 1번째에서 탈락 $= choose(4, 3) \\times0.8^0 \\times 0.2^1 \\times 0.5^4$\n",
    "\n",
    "- 장인이 2번째에서 탈락 $= choose(3,3)\\times0.8^1 \\times 0.2^1 \\times 0.5^3$"
   ]
  },
  {
   "cell_type": "markdown",
   "id": "a5ef51a2-4f1c-4d33-a6ce-391c3f13c711",
   "metadata": {},
   "source": [
    "`-` 5명이 생존할 확률 $=0.2\\times0.5^4$"
   ]
  },
  {
   "cell_type": "markdown",
   "id": "595359f8-6605-4c61-aa38-22d736b911e9",
   "metadata": {},
   "source": [
    "## Solution III"
   ]
  },
  {
   "cell_type": "code",
   "execution_count": 14,
   "id": "a36377b7-6800-4661-b32d-94c26b9b2d6a",
   "metadata": {},
   "outputs": [
    {
     "data": {
      "text/html": [
       "0.32768"
      ],
      "text/latex": [
       "0.32768"
      ],
      "text/markdown": [
       "0.32768"
      ],
      "text/plain": [
       "[1] 0.32768"
      ]
     },
     "metadata": {},
     "output_type": "display_data"
    }
   ],
   "source": [
    "# 10명\n",
    "0.8 ^ 5"
   ]
  },
  {
   "cell_type": "code",
   "execution_count": 15,
   "id": "7c258ea1-dcb6-45cd-a347-135c18d25e3c",
   "metadata": {},
   "outputs": [
    {
     "data": {
      "text/html": [
       "0.19762"
      ],
      "text/latex": [
       "0.19762"
      ],
      "text/markdown": [
       "0.19762"
      ],
      "text/plain": [
       "[1] 0.19762"
      ]
     },
     "metadata": {},
     "output_type": "display_data"
    }
   ],
   "source": [
    "# 9명\n",
    "\n",
    "surv9_prob = c()\n",
    "for (i in 0:4) surv9_prob[i+1] = 0.8^i * 0.2 * 0.5^(4-i)\n",
    "sum(surv9_prob)"
   ]
  },
  {
   "cell_type": "code",
   "execution_count": 16,
   "id": "9e62002e-c2af-4659-b644-dee1988b592b",
   "metadata": {},
   "outputs": [
    {
     "data": {
      "text/html": [
       "0.2252"
      ],
      "text/latex": [
       "0.2252"
      ],
      "text/markdown": [
       "0.2252"
      ],
      "text/plain": [
       "[1] 0.2252"
      ]
     },
     "metadata": {},
     "output_type": "display_data"
    }
   ],
   "source": [
    "# 8명\n",
    "surv8_prob = c()\n",
    "for(i in 0:3) surv8_prob[i+1] = choose(4-i, 1) * 0.8^i * 0.2 * 0.5^(4-i)\n",
    "sum(surv8_prob)"
   ]
  },
  {
   "cell_type": "code",
   "execution_count": 17,
   "id": "5f0be6a3-3e6a-4330-9092-f0882c79f7ed",
   "metadata": {},
   "outputs": [
    {
     "data": {
      "text/html": [
       "0.167"
      ],
      "text/latex": [
       "0.167"
      ],
      "text/markdown": [
       "0.167"
      ],
      "text/plain": [
       "[1] 0.167"
      ]
     },
     "metadata": {},
     "output_type": "display_data"
    }
   ],
   "source": [
    "# 7명\n",
    "surv7_prob = c()\n",
    "for(i in 0:2) surv7_prob[i+1] = choose(4-i, 2) * 0.8^i * 0.2 * 0.5^(4-i)\n",
    "sum(surv7_prob)"
   ]
  },
  {
   "cell_type": "code",
   "execution_count": 18,
   "id": "de783365-a2fb-4898-ab75-437031f93700",
   "metadata": {},
   "outputs": [
    {
     "data": {
      "text/html": [
       "0.07"
      ],
      "text/latex": [
       "0.07"
      ],
      "text/markdown": [
       "0.07"
      ],
      "text/plain": [
       "[1] 0.07"
      ]
     },
     "metadata": {},
     "output_type": "display_data"
    }
   ],
   "source": [
    "# 6명\n",
    "surv6_prob = c()\n",
    "for(i in 0:1) surv6_prob[i+1] = choose(4-i, 3) * 0.8^i * 0.2 * 0.5^(4-i)\n",
    "sum(surv6_prob)"
   ]
  },
  {
   "cell_type": "code",
   "execution_count": 23,
   "id": "4d27af8a-2c3c-49eb-be8c-5332145c3e77",
   "metadata": {},
   "outputs": [
    {
     "data": {
      "text/html": [
       "0.0125"
      ],
      "text/latex": [
       "0.0125"
      ],
      "text/markdown": [
       "0.0125"
      ],
      "text/plain": [
       "[1] 0.0125"
      ]
     },
     "metadata": {},
     "output_type": "display_data"
    }
   ],
   "source": [
    "# 5명\n",
    "surv5_prob = c()\n",
    "for(i in 0:0) surv5_prob[i+1] = choose(4-i, 4) * 0.8^i * 0.2 * 0.5^(4-i)\n",
    "sum(surv5_prob)"
   ]
  },
  {
   "cell_type": "markdown",
   "id": "c73509f7-8ac0-4bb8-b66a-75caee02b0a8",
   "metadata": {},
   "source": [
    "- 확률의 총 합은 1이 되어야 한다."
   ]
  },
  {
   "cell_type": "code",
   "execution_count": 22,
   "id": "1458fad3-317c-4ac1-9158-8e2e0ee9fec9",
   "metadata": {},
   "outputs": [
    {
     "data": {
      "text/html": [
       "1"
      ],
      "text/latex": [
       "1"
      ],
      "text/markdown": [
       "1"
      ],
      "text/plain": [
       "[1] 1"
      ]
     },
     "metadata": {},
     "output_type": "display_data"
    }
   ],
   "source": [
    "0.8^5+ \n",
    "sum(surv9_prob)+ \n",
    "sum(surv8_prob)+\n",
    "sum(surv7_prob)+\n",
    "sum(surv6_prob)+\n",
    "sum(surv5_prob)"
   ]
  },
  {
   "cell_type": "markdown",
   "id": "9968fd39-2f53-4fd8-99d9-05e81563225d",
   "metadata": {},
   "source": [
    "- 평균을 구하자"
   ]
  },
  {
   "cell_type": "code",
   "execution_count": 24,
   "id": "b7332fad-da6e-42db-b30c-7fdb9f74c0da",
   "metadata": {},
   "outputs": [
    {
     "data": {
      "text/html": [
       "8.50848"
      ],
      "text/latex": [
       "8.50848"
      ],
      "text/markdown": [
       "8.50848"
      ],
      "text/plain": [
       "[1] 8.50848"
      ]
     },
     "metadata": {},
     "output_type": "display_data"
    }
   ],
   "source": [
    "0.8^5 *10+ \n",
    "sum(surv9_prob) *9+ \n",
    "sum(surv8_prob) *8+\n",
    "sum(surv7_prob) *7+\n",
    "sum(surv6_prob) *6+\n",
    "sum(surv5_prob) *5"
   ]
  },
  {
   "cell_type": "code",
   "execution_count": 55,
   "id": "9f775442-cf36-40a1-afc6-87e6ea0ebe81",
   "metadata": {},
   "outputs": [
    {
     "data": {
      "text/html": [
       "8.475589804"
      ],
      "text/latex": [
       "8.475589804"
      ],
      "text/markdown": [
       "8.475589804"
      ],
      "text/plain": [
       "[1] 8.47559"
      ]
     },
     "metadata": {},
     "output_type": "display_data"
    }
   ],
   "source": [
    "saves = c()\n",
    "for (j in 1:1000){\n",
    "    rslt = c()\n",
    "    A = rbinom(1000,size=5,prob=0.8)\n",
    "    B = rbinom(1000,size=4,prob=0.5)\n",
    "    for (i in 1:length(B)) rslt[i] = 4*mean(sum(B>=5-A[i]))/1000 + 5\n",
    "    saves[j] = mean(rslt) \n",
    "}\n",
    "saves %>% mean"
   ]
  },
  {
   "cell_type": "code",
   "execution_count": null,
   "id": "8c4bd904-8853-4e6c-9a28-eab03df775dd",
   "metadata": {},
   "outputs": [],
   "source": []
  }
 ],
 "metadata": {
  "kernelspec": {
   "display_name": "R",
   "language": "R",
   "name": "ir"
  },
  "language_info": {
   "codemirror_mode": "r",
   "file_extension": ".r",
   "mimetype": "text/x-r-source",
   "name": "R",
   "pygments_lexer": "r",
   "version": "4.0.5"
  },
  "toc-autonumbering": false,
  "toc-showcode": false,
  "toc-showmarkdowntxt": false
 },
 "nbformat": 4,
 "nbformat_minor": 5
}
