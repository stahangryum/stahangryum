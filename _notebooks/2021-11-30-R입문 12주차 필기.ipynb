{
 "cells": [
  {
   "cell_type": "code",
   "execution_count": 7,
   "id": "3a30b457-960a-440f-89ea-0ca08b6ceb91",
   "metadata": {},
   "outputs": [],
   "source": [
    "#hide\n",
    "options(jupyter.plot_scale = 3)\n",
    "options(jupyter.display_mimetypes = c(\"text/html\"))\n",
    "# options(jupyter.rich_display=FALSE)\n",
    "options(repr.plot.width=6, repr.plot.height=6, repr.plot.res=300)\n",
    "options(max.print=1000)"
   ]
  },
  {
   "cell_type": "markdown",
   "id": "2bab56f5-aa2d-4531-84fb-ab4f50b4d574",
   "metadata": {},
   "source": [
    "# \"R : dataframe, tibble\"\n",
    "> \"전북대학교 R입문 12주차 필기\"\n",
    "\n",
    "- toc: true\n",
    "- branch: master\n",
    "- badges: true\n",
    "- comments: true\n",
    "- author: Kim Jeewoo\n",
    "- categories: [Introduction to R]\n",
    "- image: images/r_logo.PNG"
   ]
  },
  {
   "cell_type": "code",
   "execution_count": 8,
   "id": "9fa802b1-f9f2-4415-a5c7-ba195a10b340",
   "metadata": {},
   "outputs": [],
   "source": [
    "library(tidyverse)"
   ]
  },
  {
   "cell_type": "markdown",
   "id": "63274a1c-e4b6-42be-99c9-ab51b0093159",
   "metadata": {},
   "source": [
    "# tibble"
   ]
  },
  {
   "cell_type": "code",
   "execution_count": 9,
   "id": "565cbdbf-7406-4d1f-839e-4a7b539a9f95",
   "metadata": {},
   "outputs": [
    {
     "data": {
      "text/html": [
       "<table class=\"dataframe\">\n",
       "<caption>A tibble: 10 × 5</caption>\n",
       "<thead>\n",
       "\t<tr><th scope=col>V1</th><th scope=col>V2</th><th scope=col>V3</th><th scope=col>V4</th><th scope=col>V5</th></tr>\n",
       "\t<tr><th scope=col>&lt;dbl&gt;</th><th scope=col>&lt;dbl&gt;</th><th scope=col>&lt;dbl&gt;</th><th scope=col>&lt;dbl&gt;</th><th scope=col>&lt;dbl&gt;</th></tr>\n",
       "</thead>\n",
       "<tbody>\n",
       "\t<tr><td>-0.5293959</td><td> 0.8419212</td><td> 0.5383570</td><td>-0.6655298</td><td> 0.41472626</td></tr>\n",
       "\t<tr><td>-1.3061722</td><td>-0.2285196</td><td> 0.6394019</td><td> 0.7272715</td><td>-1.02279757</td></tr>\n",
       "\t<tr><td> 0.2478515</td><td> 1.5950041</td><td> 0.5822074</td><td>-0.1050912</td><td>-0.41785658</td></tr>\n",
       "\t<tr><td>-1.1055972</td><td> 0.9361912</td><td>-0.1491024</td><td>-2.0990920</td><td>-0.70840815</td></tr>\n",
       "\t<tr><td> 0.7803821</td><td> 1.2455383</td><td> 0.7579811</td><td> 0.3084466</td><td> 0.08802281</td></tr>\n",
       "\t<tr><td>-1.3575121</td><td> 1.0534576</td><td>-1.3763262</td><td> 1.7299393</td><td>-0.52663755</td></tr>\n",
       "\t<tr><td> 1.0180191</td><td> 0.4227296</td><td>-0.9099901</td><td> 1.1248240</td><td>-0.75757808</td></tr>\n",
       "\t<tr><td>-0.7762945</td><td>-0.4015583</td><td>-0.9990871</td><td>-0.7592615</td><td> 0.97259692</td></tr>\n",
       "\t<tr><td> 0.2403993</td><td> 1.0444299</td><td>-0.7533604</td><td>-0.1306571</td><td>-0.79596670</td></tr>\n",
       "\t<tr><td>-0.5339781</td><td>-0.7598847</td><td> 0.9586425</td><td>-2.9451297</td><td> 0.09814421</td></tr>\n",
       "</tbody>\n",
       "</table>\n"
      ],
      "text/plain": [
       "   V1         V2         V3         V4         V5         \n",
       "1  -0.5293959  0.8419212  0.5383570 -0.6655298  0.41472626\n",
       "2  -1.3061722 -0.2285196  0.6394019  0.7272715 -1.02279757\n",
       "3   0.2478515  1.5950041  0.5822074 -0.1050912 -0.41785658\n",
       "4  -1.1055972  0.9361912 -0.1491024 -2.0990920 -0.70840815\n",
       "5   0.7803821  1.2455383  0.7579811  0.3084466  0.08802281\n",
       "6  -1.3575121  1.0534576 -1.3763262  1.7299393 -0.52663755\n",
       "7   1.0180191  0.4227296 -0.9099901  1.1248240 -0.75757808\n",
       "8  -0.7762945 -0.4015583 -0.9990871 -0.7592615  0.97259692\n",
       "9   0.2403993  1.0444299 -0.7533604 -0.1306571 -0.79596670\n",
       "10 -0.5339781 -0.7598847  0.9586425 -2.9451297  0.09814421"
      ]
     },
     "metadata": {},
     "output_type": "display_data"
    }
   ],
   "source": [
    "A = rnorm(10*5)\n",
    "dim(A) = c(10,5)\n",
    "A = as_tibble(A)\n",
    "A"
   ]
  },
  {
   "cell_type": "code",
   "execution_count": 10,
   "id": "39440e0e-5112-4d29-a166-6ccc7aad419f",
   "metadata": {},
   "outputs": [
    {
     "data": {
      "text/html": [
       "<style>\n",
       ".list-inline {list-style: none; margin:0; padding: 0}\n",
       ".list-inline>li {display: inline-block}\n",
       ".list-inline>li:not(:last-child)::after {content: \"\\00b7\"; padding: 0 .5ex}\n",
       "</style>\n",
       "<ol class=list-inline><li>'V1'</li><li>'V2'</li><li>'V3'</li><li>'V4'</li><li>'V5'</li></ol>\n"
      ],
      "text/plain": [
       "[1] \"V1\" \"V2\" \"V3\" \"V4\" \"V5\""
      ]
     },
     "metadata": {},
     "output_type": "display_data"
    }
   ],
   "source": [
    "colnames(A)"
   ]
  },
  {
   "cell_type": "code",
   "execution_count": 16,
   "id": "3e2df41b-59aa-4df2-b638-a423a2a6436b",
   "metadata": {},
   "outputs": [
    {
     "data": {
      "text/html": [
       "<table class=\"dataframe\">\n",
       "<caption>A tibble: 10 × 5</caption>\n",
       "<thead>\n",
       "\t<tr><th scope=col>X1</th><th scope=col>X2</th><th scope=col>X3</th><th scope=col>X4</th><th scope=col>X5</th></tr>\n",
       "\t<tr><th scope=col>&lt;dbl&gt;</th><th scope=col>&lt;dbl&gt;</th><th scope=col>&lt;dbl&gt;</th><th scope=col>&lt;dbl&gt;</th><th scope=col>&lt;dbl&gt;</th></tr>\n",
       "</thead>\n",
       "<tbody>\n",
       "\t<tr><td>-0.5293959</td><td> 0.8419212</td><td> 0.5383570</td><td>-0.6655298</td><td> 0.41472626</td></tr>\n",
       "\t<tr><td>-1.3061722</td><td>-0.2285196</td><td> 0.6394019</td><td> 0.7272715</td><td>-1.02279757</td></tr>\n",
       "\t<tr><td> 0.2478515</td><td> 1.5950041</td><td> 0.5822074</td><td>-0.1050912</td><td>-0.41785658</td></tr>\n",
       "\t<tr><td>-1.1055972</td><td> 0.9361912</td><td>-0.1491024</td><td>-2.0990920</td><td>-0.70840815</td></tr>\n",
       "\t<tr><td> 0.7803821</td><td> 1.2455383</td><td> 0.7579811</td><td> 0.3084466</td><td> 0.08802281</td></tr>\n",
       "\t<tr><td>-1.3575121</td><td> 1.0534576</td><td>-1.3763262</td><td> 1.7299393</td><td>-0.52663755</td></tr>\n",
       "\t<tr><td> 1.0180191</td><td> 0.4227296</td><td>-0.9099901</td><td> 1.1248240</td><td>-0.75757808</td></tr>\n",
       "\t<tr><td>-0.7762945</td><td>-0.4015583</td><td>-0.9990871</td><td>-0.7592615</td><td> 0.97259692</td></tr>\n",
       "\t<tr><td> 0.2403993</td><td> 1.0444299</td><td>-0.7533604</td><td>-0.1306571</td><td>-0.79596670</td></tr>\n",
       "\t<tr><td>-0.5339781</td><td>-0.7598847</td><td> 0.9586425</td><td>-2.9451297</td><td> 0.09814421</td></tr>\n",
       "</tbody>\n",
       "</table>\n"
      ],
      "text/plain": [
       "   X1         X2         X3         X4         X5         \n",
       "1  -0.5293959  0.8419212  0.5383570 -0.6655298  0.41472626\n",
       "2  -1.3061722 -0.2285196  0.6394019  0.7272715 -1.02279757\n",
       "3   0.2478515  1.5950041  0.5822074 -0.1050912 -0.41785658\n",
       "4  -1.1055972  0.9361912 -0.1491024 -2.0990920 -0.70840815\n",
       "5   0.7803821  1.2455383  0.7579811  0.3084466  0.08802281\n",
       "6  -1.3575121  1.0534576 -1.3763262  1.7299393 -0.52663755\n",
       "7   1.0180191  0.4227296 -0.9099901  1.1248240 -0.75757808\n",
       "8  -0.7762945 -0.4015583 -0.9990871 -0.7592615  0.97259692\n",
       "9   0.2403993  1.0444299 -0.7533604 -0.1306571 -0.79596670\n",
       "10 -0.5339781 -0.7598847  0.9586425 -2.9451297  0.09814421"
      ]
     },
     "metadata": {},
     "output_type": "display_data"
    }
   ],
   "source": [
    "colnames(A) = c(\"X1\", \"X2\", \"X3\", \"X4\", \"X5\")\n",
    "A"
   ]
  },
  {
   "cell_type": "markdown",
   "id": "366b0ca9-5ecb-401d-8858-8ee8a35a81a6",
   "metadata": {},
   "source": [
    "## select"
   ]
  },
  {
   "cell_type": "markdown",
   "id": "8bb43c24-4337-4ced-a26a-015a13df1713",
   "metadata": {},
   "source": [
    "- 특정 열만 return한다."
   ]
  },
  {
   "cell_type": "code",
   "execution_count": 13,
   "id": "732c79cf-4b42-4ccd-b67d-930bee1339b1",
   "metadata": {},
   "outputs": [
    {
     "data": {
      "text/html": [
       "<table class=\"dataframe\">\n",
       "<caption>A tibble: 10 × 4</caption>\n",
       "<thead>\n",
       "\t<tr><th scope=col>X1</th><th scope=col>X2</th><th scope=col>X3</th><th scope=col>X5</th></tr>\n",
       "\t<tr><th scope=col>&lt;dbl&gt;</th><th scope=col>&lt;dbl&gt;</th><th scope=col>&lt;dbl&gt;</th><th scope=col>&lt;dbl&gt;</th></tr>\n",
       "</thead>\n",
       "<tbody>\n",
       "\t<tr><td>-0.5293959</td><td> 0.8419212</td><td> 0.5383570</td><td> 0.41472626</td></tr>\n",
       "\t<tr><td>-1.3061722</td><td>-0.2285196</td><td> 0.6394019</td><td>-1.02279757</td></tr>\n",
       "\t<tr><td> 0.2478515</td><td> 1.5950041</td><td> 0.5822074</td><td>-0.41785658</td></tr>\n",
       "\t<tr><td>-1.1055972</td><td> 0.9361912</td><td>-0.1491024</td><td>-0.70840815</td></tr>\n",
       "\t<tr><td> 0.7803821</td><td> 1.2455383</td><td> 0.7579811</td><td> 0.08802281</td></tr>\n",
       "\t<tr><td>-1.3575121</td><td> 1.0534576</td><td>-1.3763262</td><td>-0.52663755</td></tr>\n",
       "\t<tr><td> 1.0180191</td><td> 0.4227296</td><td>-0.9099901</td><td>-0.75757808</td></tr>\n",
       "\t<tr><td>-0.7762945</td><td>-0.4015583</td><td>-0.9990871</td><td> 0.97259692</td></tr>\n",
       "\t<tr><td> 0.2403993</td><td> 1.0444299</td><td>-0.7533604</td><td>-0.79596670</td></tr>\n",
       "\t<tr><td>-0.5339781</td><td>-0.7598847</td><td> 0.9586425</td><td> 0.09814421</td></tr>\n",
       "</tbody>\n",
       "</table>\n"
      ],
      "text/plain": [
       "   X1         X2         X3         X5         \n",
       "1  -0.5293959  0.8419212  0.5383570  0.41472626\n",
       "2  -1.3061722 -0.2285196  0.6394019 -1.02279757\n",
       "3   0.2478515  1.5950041  0.5822074 -0.41785658\n",
       "4  -1.1055972  0.9361912 -0.1491024 -0.70840815\n",
       "5   0.7803821  1.2455383  0.7579811  0.08802281\n",
       "6  -1.3575121  1.0534576 -1.3763262 -0.52663755\n",
       "7   1.0180191  0.4227296 -0.9099901 -0.75757808\n",
       "8  -0.7762945 -0.4015583 -0.9990871  0.97259692\n",
       "9   0.2403993  1.0444299 -0.7533604 -0.79596670\n",
       "10 -0.5339781 -0.7598847  0.9586425  0.09814421"
      ]
     },
     "metadata": {},
     "output_type": "display_data"
    }
   ],
   "source": [
    "A %>% select(1:3,5)"
   ]
  },
  {
   "cell_type": "code",
   "execution_count": 14,
   "id": "7f036090-8370-4aeb-920a-988d388f1e1b",
   "metadata": {},
   "outputs": [
    {
     "data": {
      "text/html": [
       "<table class=\"dataframe\">\n",
       "<caption>A tibble: 10 × 4</caption>\n",
       "<thead>\n",
       "\t<tr><th scope=col>X1</th><th scope=col>X2</th><th scope=col>X3</th><th scope=col>X5</th></tr>\n",
       "\t<tr><th scope=col>&lt;dbl&gt;</th><th scope=col>&lt;dbl&gt;</th><th scope=col>&lt;dbl&gt;</th><th scope=col>&lt;dbl&gt;</th></tr>\n",
       "</thead>\n",
       "<tbody>\n",
       "\t<tr><td>-0.5293959</td><td> 0.8419212</td><td> 0.5383570</td><td> 0.41472626</td></tr>\n",
       "\t<tr><td>-1.3061722</td><td>-0.2285196</td><td> 0.6394019</td><td>-1.02279757</td></tr>\n",
       "\t<tr><td> 0.2478515</td><td> 1.5950041</td><td> 0.5822074</td><td>-0.41785658</td></tr>\n",
       "\t<tr><td>-1.1055972</td><td> 0.9361912</td><td>-0.1491024</td><td>-0.70840815</td></tr>\n",
       "\t<tr><td> 0.7803821</td><td> 1.2455383</td><td> 0.7579811</td><td> 0.08802281</td></tr>\n",
       "\t<tr><td>-1.3575121</td><td> 1.0534576</td><td>-1.3763262</td><td>-0.52663755</td></tr>\n",
       "\t<tr><td> 1.0180191</td><td> 0.4227296</td><td>-0.9099901</td><td>-0.75757808</td></tr>\n",
       "\t<tr><td>-0.7762945</td><td>-0.4015583</td><td>-0.9990871</td><td> 0.97259692</td></tr>\n",
       "\t<tr><td> 0.2403993</td><td> 1.0444299</td><td>-0.7533604</td><td>-0.79596670</td></tr>\n",
       "\t<tr><td>-0.5339781</td><td>-0.7598847</td><td> 0.9586425</td><td> 0.09814421</td></tr>\n",
       "</tbody>\n",
       "</table>\n"
      ],
      "text/plain": [
       "   X1         X2         X3         X5         \n",
       "1  -0.5293959  0.8419212  0.5383570  0.41472626\n",
       "2  -1.3061722 -0.2285196  0.6394019 -1.02279757\n",
       "3   0.2478515  1.5950041  0.5822074 -0.41785658\n",
       "4  -1.1055972  0.9361912 -0.1491024 -0.70840815\n",
       "5   0.7803821  1.2455383  0.7579811  0.08802281\n",
       "6  -1.3575121  1.0534576 -1.3763262 -0.52663755\n",
       "7   1.0180191  0.4227296 -0.9099901 -0.75757808\n",
       "8  -0.7762945 -0.4015583 -0.9990871  0.97259692\n",
       "9   0.2403993  1.0444299 -0.7533604 -0.79596670\n",
       "10 -0.5339781 -0.7598847  0.9586425  0.09814421"
      ]
     },
     "metadata": {},
     "output_type": "display_data"
    }
   ],
   "source": [
    "A %>% select(X1:X3, X5)"
   ]
  },
  {
   "cell_type": "code",
   "execution_count": 15,
   "id": "89f05835-3503-4fd2-9177-5e72bf5f90aa",
   "metadata": {},
   "outputs": [
    {
     "data": {
      "text/html": [
       "<table class=\"dataframe\">\n",
       "<caption>A tibble: 10 × 4</caption>\n",
       "<thead>\n",
       "\t<tr><th scope=col>X1</th><th scope=col>X2</th><th scope=col>X3</th><th scope=col>X5</th></tr>\n",
       "\t<tr><th scope=col>&lt;dbl&gt;</th><th scope=col>&lt;dbl&gt;</th><th scope=col>&lt;dbl&gt;</th><th scope=col>&lt;dbl&gt;</th></tr>\n",
       "</thead>\n",
       "<tbody>\n",
       "\t<tr><td>-0.5293959</td><td> 0.8419212</td><td> 0.5383570</td><td> 0.41472626</td></tr>\n",
       "\t<tr><td>-1.3061722</td><td>-0.2285196</td><td> 0.6394019</td><td>-1.02279757</td></tr>\n",
       "\t<tr><td> 0.2478515</td><td> 1.5950041</td><td> 0.5822074</td><td>-0.41785658</td></tr>\n",
       "\t<tr><td>-1.1055972</td><td> 0.9361912</td><td>-0.1491024</td><td>-0.70840815</td></tr>\n",
       "\t<tr><td> 0.7803821</td><td> 1.2455383</td><td> 0.7579811</td><td> 0.08802281</td></tr>\n",
       "\t<tr><td>-1.3575121</td><td> 1.0534576</td><td>-1.3763262</td><td>-0.52663755</td></tr>\n",
       "\t<tr><td> 1.0180191</td><td> 0.4227296</td><td>-0.9099901</td><td>-0.75757808</td></tr>\n",
       "\t<tr><td>-0.7762945</td><td>-0.4015583</td><td>-0.9990871</td><td> 0.97259692</td></tr>\n",
       "\t<tr><td> 0.2403993</td><td> 1.0444299</td><td>-0.7533604</td><td>-0.79596670</td></tr>\n",
       "\t<tr><td>-0.5339781</td><td>-0.7598847</td><td> 0.9586425</td><td> 0.09814421</td></tr>\n",
       "</tbody>\n",
       "</table>\n"
      ],
      "text/plain": [
       "   X1         X2         X3         X5         \n",
       "1  -0.5293959  0.8419212  0.5383570  0.41472626\n",
       "2  -1.3061722 -0.2285196  0.6394019 -1.02279757\n",
       "3   0.2478515  1.5950041  0.5822074 -0.41785658\n",
       "4  -1.1055972  0.9361912 -0.1491024 -0.70840815\n",
       "5   0.7803821  1.2455383  0.7579811  0.08802281\n",
       "6  -1.3575121  1.0534576 -1.3763262 -0.52663755\n",
       "7   1.0180191  0.4227296 -0.9099901 -0.75757808\n",
       "8  -0.7762945 -0.4015583 -0.9990871  0.97259692\n",
       "9   0.2403993  1.0444299 -0.7533604 -0.79596670\n",
       "10 -0.5339781 -0.7598847  0.9586425  0.09814421"
      ]
     },
     "metadata": {},
     "output_type": "display_data"
    }
   ],
   "source": [
    "A %>% select(X1:X3, 5)"
   ]
  },
  {
   "cell_type": "markdown",
   "id": "9bf3e4ee-d310-4f82-9001-e73d278ccfe7",
   "metadata": {},
   "source": [
    "### select(-c())"
   ]
  },
  {
   "cell_type": "markdown",
   "id": "f61de976-d5a4-4979-a994-08f6daf21f27",
   "metadata": {},
   "source": [
    "- 특정 열을 제외하고 return한다."
   ]
  },
  {
   "cell_type": "code",
   "execution_count": 17,
   "id": "b4e90beb-29ec-408a-a55e-5e75d60f0c03",
   "metadata": {},
   "outputs": [
    {
     "data": {
      "text/html": [
       "<table class=\"dataframe\">\n",
       "<caption>A tibble: 10 × 2</caption>\n",
       "<thead>\n",
       "\t<tr><th scope=col>X4</th><th scope=col>X5</th></tr>\n",
       "\t<tr><th scope=col>&lt;dbl&gt;</th><th scope=col>&lt;dbl&gt;</th></tr>\n",
       "</thead>\n",
       "<tbody>\n",
       "\t<tr><td>-0.6655298</td><td> 0.41472626</td></tr>\n",
       "\t<tr><td> 0.7272715</td><td>-1.02279757</td></tr>\n",
       "\t<tr><td>-0.1050912</td><td>-0.41785658</td></tr>\n",
       "\t<tr><td>-2.0990920</td><td>-0.70840815</td></tr>\n",
       "\t<tr><td> 0.3084466</td><td> 0.08802281</td></tr>\n",
       "\t<tr><td> 1.7299393</td><td>-0.52663755</td></tr>\n",
       "\t<tr><td> 1.1248240</td><td>-0.75757808</td></tr>\n",
       "\t<tr><td>-0.7592615</td><td> 0.97259692</td></tr>\n",
       "\t<tr><td>-0.1306571</td><td>-0.79596670</td></tr>\n",
       "\t<tr><td>-2.9451297</td><td> 0.09814421</td></tr>\n",
       "</tbody>\n",
       "</table>\n"
      ],
      "text/plain": [
       "   X4         X5         \n",
       "1  -0.6655298  0.41472626\n",
       "2   0.7272715 -1.02279757\n",
       "3  -0.1050912 -0.41785658\n",
       "4  -2.0990920 -0.70840815\n",
       "5   0.3084466  0.08802281\n",
       "6   1.7299393 -0.52663755\n",
       "7   1.1248240 -0.75757808\n",
       "8  -0.7592615  0.97259692\n",
       "9  -0.1306571 -0.79596670\n",
       "10 -2.9451297  0.09814421"
      ]
     },
     "metadata": {},
     "output_type": "display_data"
    }
   ],
   "source": [
    "A %>% select(-(X1:X3))"
   ]
  },
  {
   "cell_type": "markdown",
   "id": "32e7e3c2-04b9-4300-be2c-ba5262ba4979",
   "metadata": {},
   "source": [
    "### select(...,start_with(~)) "
   ]
  },
  {
   "cell_type": "markdown",
   "id": "4dc3e5c5-c4fe-4f78-bfaa-dfa950d68a6e",
   "metadata": {},
   "source": [
    "- colname이 ~로 시작하는 열을 return한다."
   ]
  },
  {
   "cell_type": "code",
   "execution_count": 20,
   "id": "f3d9d5f7-d325-433a-92e1-f35fb9cd8076",
   "metadata": {},
   "outputs": [
    {
     "data": {
      "text/html": [
       "<table class=\"dataframe\">\n",
       "<caption>A tibble: 10 × 5</caption>\n",
       "<thead>\n",
       "\t<tr><th scope=col>XY1</th><th scope=col>XY2</th><th scope=col>XZ1</th><th scope=col>XZ2</th><th scope=col>X5</th></tr>\n",
       "\t<tr><th scope=col>&lt;dbl&gt;</th><th scope=col>&lt;dbl&gt;</th><th scope=col>&lt;dbl&gt;</th><th scope=col>&lt;dbl&gt;</th><th scope=col>&lt;dbl&gt;</th></tr>\n",
       "</thead>\n",
       "<tbody>\n",
       "\t<tr><td>-0.5293959</td><td> 0.8419212</td><td> 0.5383570</td><td>-0.6655298</td><td> 0.41472626</td></tr>\n",
       "\t<tr><td>-1.3061722</td><td>-0.2285196</td><td> 0.6394019</td><td> 0.7272715</td><td>-1.02279757</td></tr>\n",
       "\t<tr><td> 0.2478515</td><td> 1.5950041</td><td> 0.5822074</td><td>-0.1050912</td><td>-0.41785658</td></tr>\n",
       "\t<tr><td>-1.1055972</td><td> 0.9361912</td><td>-0.1491024</td><td>-2.0990920</td><td>-0.70840815</td></tr>\n",
       "\t<tr><td> 0.7803821</td><td> 1.2455383</td><td> 0.7579811</td><td> 0.3084466</td><td> 0.08802281</td></tr>\n",
       "\t<tr><td>-1.3575121</td><td> 1.0534576</td><td>-1.3763262</td><td> 1.7299393</td><td>-0.52663755</td></tr>\n",
       "\t<tr><td> 1.0180191</td><td> 0.4227296</td><td>-0.9099901</td><td> 1.1248240</td><td>-0.75757808</td></tr>\n",
       "\t<tr><td>-0.7762945</td><td>-0.4015583</td><td>-0.9990871</td><td>-0.7592615</td><td> 0.97259692</td></tr>\n",
       "\t<tr><td> 0.2403993</td><td> 1.0444299</td><td>-0.7533604</td><td>-0.1306571</td><td>-0.79596670</td></tr>\n",
       "\t<tr><td>-0.5339781</td><td>-0.7598847</td><td> 0.9586425</td><td>-2.9451297</td><td> 0.09814421</td></tr>\n",
       "</tbody>\n",
       "</table>\n"
      ],
      "text/plain": [
       "   XY1        XY2        XZ1        XZ2        X5         \n",
       "1  -0.5293959  0.8419212  0.5383570 -0.6655298  0.41472626\n",
       "2  -1.3061722 -0.2285196  0.6394019  0.7272715 -1.02279757\n",
       "3   0.2478515  1.5950041  0.5822074 -0.1050912 -0.41785658\n",
       "4  -1.1055972  0.9361912 -0.1491024 -2.0990920 -0.70840815\n",
       "5   0.7803821  1.2455383  0.7579811  0.3084466  0.08802281\n",
       "6  -1.3575121  1.0534576 -1.3763262  1.7299393 -0.52663755\n",
       "7   1.0180191  0.4227296 -0.9099901  1.1248240 -0.75757808\n",
       "8  -0.7762945 -0.4015583 -0.9990871 -0.7592615  0.97259692\n",
       "9   0.2403993  1.0444299 -0.7533604 -0.1306571 -0.79596670\n",
       "10 -0.5339781 -0.7598847  0.9586425 -2.9451297  0.09814421"
      ]
     },
     "metadata": {},
     "output_type": "display_data"
    }
   ],
   "source": [
    "colnames(A) = c(\"XY1\", \"XY2\", \"XZ1\", \"XZ2\", \"X5\")\n",
    "A"
   ]
  },
  {
   "cell_type": "code",
   "execution_count": 21,
   "id": "1cb22e93-294e-4739-aa12-54ad808e3da2",
   "metadata": {},
   "outputs": [
    {
     "data": {
      "text/html": [
       "<table class=\"dataframe\">\n",
       "<caption>A tibble: 10 × 2</caption>\n",
       "<thead>\n",
       "\t<tr><th scope=col>XY1</th><th scope=col>XY2</th></tr>\n",
       "\t<tr><th scope=col>&lt;dbl&gt;</th><th scope=col>&lt;dbl&gt;</th></tr>\n",
       "</thead>\n",
       "<tbody>\n",
       "\t<tr><td>-0.5293959</td><td> 0.8419212</td></tr>\n",
       "\t<tr><td>-1.3061722</td><td>-0.2285196</td></tr>\n",
       "\t<tr><td> 0.2478515</td><td> 1.5950041</td></tr>\n",
       "\t<tr><td>-1.1055972</td><td> 0.9361912</td></tr>\n",
       "\t<tr><td> 0.7803821</td><td> 1.2455383</td></tr>\n",
       "\t<tr><td>-1.3575121</td><td> 1.0534576</td></tr>\n",
       "\t<tr><td> 1.0180191</td><td> 0.4227296</td></tr>\n",
       "\t<tr><td>-0.7762945</td><td>-0.4015583</td></tr>\n",
       "\t<tr><td> 0.2403993</td><td> 1.0444299</td></tr>\n",
       "\t<tr><td>-0.5339781</td><td>-0.7598847</td></tr>\n",
       "</tbody>\n",
       "</table>\n"
      ],
      "text/plain": [
       "   XY1        XY2       \n",
       "1  -0.5293959  0.8419212\n",
       "2  -1.3061722 -0.2285196\n",
       "3   0.2478515  1.5950041\n",
       "4  -1.1055972  0.9361912\n",
       "5   0.7803821  1.2455383\n",
       "6  -1.3575121  1.0534576\n",
       "7   1.0180191  0.4227296\n",
       "8  -0.7762945 -0.4015583\n",
       "9   0.2403993  1.0444299\n",
       "10 -0.5339781 -0.7598847"
      ]
     },
     "metadata": {},
     "output_type": "display_data"
    }
   ],
   "source": [
    "A %>% select(starts_with(\"XY\"))"
   ]
  },
  {
   "cell_type": "markdown",
   "id": "7bb0d606-12da-4af8-8640-1a72c4c7ee4a",
   "metadata": {},
   "source": [
    "### select(...,ends_with(~)) "
   ]
  },
  {
   "cell_type": "markdown",
   "id": "c890c661-f81b-42d6-a424-6967f849a766",
   "metadata": {},
   "source": [
    "- colname이 ~로 끝나는 열을 return한다."
   ]
  },
  {
   "cell_type": "code",
   "execution_count": 24,
   "id": "195073d9-6f17-4ee1-a388-af89dc3d7cd5",
   "metadata": {},
   "outputs": [
    {
     "data": {
      "text/html": [
       "<table class=\"dataframe\">\n",
       "<caption>A tibble: 10 × 2</caption>\n",
       "<thead>\n",
       "\t<tr><th scope=col>XY2</th><th scope=col>XZ2</th></tr>\n",
       "\t<tr><th scope=col>&lt;dbl&gt;</th><th scope=col>&lt;dbl&gt;</th></tr>\n",
       "</thead>\n",
       "<tbody>\n",
       "\t<tr><td> 0.8419212</td><td>-0.6655298</td></tr>\n",
       "\t<tr><td>-0.2285196</td><td> 0.7272715</td></tr>\n",
       "\t<tr><td> 1.5950041</td><td>-0.1050912</td></tr>\n",
       "\t<tr><td> 0.9361912</td><td>-2.0990920</td></tr>\n",
       "\t<tr><td> 1.2455383</td><td> 0.3084466</td></tr>\n",
       "\t<tr><td> 1.0534576</td><td> 1.7299393</td></tr>\n",
       "\t<tr><td> 0.4227296</td><td> 1.1248240</td></tr>\n",
       "\t<tr><td>-0.4015583</td><td>-0.7592615</td></tr>\n",
       "\t<tr><td> 1.0444299</td><td>-0.1306571</td></tr>\n",
       "\t<tr><td>-0.7598847</td><td>-2.9451297</td></tr>\n",
       "</tbody>\n",
       "</table>\n"
      ],
      "text/plain": [
       "   XY2        XZ2       \n",
       "1   0.8419212 -0.6655298\n",
       "2  -0.2285196  0.7272715\n",
       "3   1.5950041 -0.1050912\n",
       "4   0.9361912 -2.0990920\n",
       "5   1.2455383  0.3084466\n",
       "6   1.0534576  1.7299393\n",
       "7   0.4227296  1.1248240\n",
       "8  -0.4015583 -0.7592615\n",
       "9   1.0444299 -0.1306571\n",
       "10 -0.7598847 -2.9451297"
      ]
     },
     "metadata": {},
     "output_type": "display_data"
    }
   ],
   "source": [
    "A %>% select(ends_with(\"2\"))"
   ]
  },
  {
   "cell_type": "markdown",
   "id": "d7d5b025-dea4-47fc-a354-212c914ed526",
   "metadata": {},
   "source": [
    "### select(...,contains(~)) "
   ]
  },
  {
   "cell_type": "markdown",
   "id": "0d948952-fcd8-467d-ace2-38a1b43fd263",
   "metadata": {},
   "source": [
    "- colname이 ~를 포함한 열을 return한다."
   ]
  },
  {
   "cell_type": "code",
   "execution_count": 28,
   "id": "6b371c6d-c3c7-4826-8109-e034dc508b04",
   "metadata": {},
   "outputs": [
    {
     "data": {
      "text/html": [
       "<table class=\"dataframe\">\n",
       "<caption>A tibble: 10 × 2</caption>\n",
       "<thead>\n",
       "\t<tr><th scope=col>XZ1</th><th scope=col>XZ2</th></tr>\n",
       "\t<tr><th scope=col>&lt;dbl&gt;</th><th scope=col>&lt;dbl&gt;</th></tr>\n",
       "</thead>\n",
       "<tbody>\n",
       "\t<tr><td> 0.5383570</td><td>-0.6655298</td></tr>\n",
       "\t<tr><td> 0.6394019</td><td> 0.7272715</td></tr>\n",
       "\t<tr><td> 0.5822074</td><td>-0.1050912</td></tr>\n",
       "\t<tr><td>-0.1491024</td><td>-2.0990920</td></tr>\n",
       "\t<tr><td> 0.7579811</td><td> 0.3084466</td></tr>\n",
       "\t<tr><td>-1.3763262</td><td> 1.7299393</td></tr>\n",
       "\t<tr><td>-0.9099901</td><td> 1.1248240</td></tr>\n",
       "\t<tr><td>-0.9990871</td><td>-0.7592615</td></tr>\n",
       "\t<tr><td>-0.7533604</td><td>-0.1306571</td></tr>\n",
       "\t<tr><td> 0.9586425</td><td>-2.9451297</td></tr>\n",
       "</tbody>\n",
       "</table>\n"
      ],
      "text/plain": [
       "   XZ1        XZ2       \n",
       "1   0.5383570 -0.6655298\n",
       "2   0.6394019  0.7272715\n",
       "3   0.5822074 -0.1050912\n",
       "4  -0.1491024 -2.0990920\n",
       "5   0.7579811  0.3084466\n",
       "6  -1.3763262  1.7299393\n",
       "7  -0.9099901  1.1248240\n",
       "8  -0.9990871 -0.7592615\n",
       "9  -0.7533604 -0.1306571\n",
       "10  0.9586425 -2.9451297"
      ]
     },
     "metadata": {},
     "output_type": "display_data"
    }
   ],
   "source": [
    "A %>% select(contains(\"Z\"))"
   ]
  },
  {
   "cell_type": "markdown",
   "id": "121f0dfb-dfa1-4514-9e4d-1ac542c1dc43",
   "metadata": {},
   "source": [
    "### select(...,everyting()) "
   ]
  },
  {
   "cell_type": "markdown",
   "id": "d040c591-92f5-46d4-ae03-e5331de06468",
   "metadata": {},
   "source": [
    "- colname이 ~를 포함하는 열을 좌측으로 옮긴다.\n",
    "- everything()이 없는 코드와 다른 점은 ~를 포함하지 않는 열도 출력한다는 점이다."
   ]
  },
  {
   "cell_type": "code",
   "execution_count": 30,
   "id": "f69b0e44-0555-4b55-8d0c-51ef404a0cbd",
   "metadata": {},
   "outputs": [
    {
     "data": {
      "text/html": [
       "<table class=\"dataframe\">\n",
       "<caption>A tibble: 10 × 5</caption>\n",
       "<thead>\n",
       "\t<tr><th scope=col>XZ1</th><th scope=col>XZ2</th><th scope=col>XY1</th><th scope=col>XY2</th><th scope=col>X5</th></tr>\n",
       "\t<tr><th scope=col>&lt;dbl&gt;</th><th scope=col>&lt;dbl&gt;</th><th scope=col>&lt;dbl&gt;</th><th scope=col>&lt;dbl&gt;</th><th scope=col>&lt;dbl&gt;</th></tr>\n",
       "</thead>\n",
       "<tbody>\n",
       "\t<tr><td> 0.5383570</td><td>-0.6655298</td><td>-0.5293959</td><td> 0.8419212</td><td> 0.41472626</td></tr>\n",
       "\t<tr><td> 0.6394019</td><td> 0.7272715</td><td>-1.3061722</td><td>-0.2285196</td><td>-1.02279757</td></tr>\n",
       "\t<tr><td> 0.5822074</td><td>-0.1050912</td><td> 0.2478515</td><td> 1.5950041</td><td>-0.41785658</td></tr>\n",
       "\t<tr><td>-0.1491024</td><td>-2.0990920</td><td>-1.1055972</td><td> 0.9361912</td><td>-0.70840815</td></tr>\n",
       "\t<tr><td> 0.7579811</td><td> 0.3084466</td><td> 0.7803821</td><td> 1.2455383</td><td> 0.08802281</td></tr>\n",
       "\t<tr><td>-1.3763262</td><td> 1.7299393</td><td>-1.3575121</td><td> 1.0534576</td><td>-0.52663755</td></tr>\n",
       "\t<tr><td>-0.9099901</td><td> 1.1248240</td><td> 1.0180191</td><td> 0.4227296</td><td>-0.75757808</td></tr>\n",
       "\t<tr><td>-0.9990871</td><td>-0.7592615</td><td>-0.7762945</td><td>-0.4015583</td><td> 0.97259692</td></tr>\n",
       "\t<tr><td>-0.7533604</td><td>-0.1306571</td><td> 0.2403993</td><td> 1.0444299</td><td>-0.79596670</td></tr>\n",
       "\t<tr><td> 0.9586425</td><td>-2.9451297</td><td>-0.5339781</td><td>-0.7598847</td><td> 0.09814421</td></tr>\n",
       "</tbody>\n",
       "</table>\n"
      ],
      "text/plain": [
       "   XZ1        XZ2        XY1        XY2        X5         \n",
       "1   0.5383570 -0.6655298 -0.5293959  0.8419212  0.41472626\n",
       "2   0.6394019  0.7272715 -1.3061722 -0.2285196 -1.02279757\n",
       "3   0.5822074 -0.1050912  0.2478515  1.5950041 -0.41785658\n",
       "4  -0.1491024 -2.0990920 -1.1055972  0.9361912 -0.70840815\n",
       "5   0.7579811  0.3084466  0.7803821  1.2455383  0.08802281\n",
       "6  -1.3763262  1.7299393 -1.3575121  1.0534576 -0.52663755\n",
       "7  -0.9099901  1.1248240  1.0180191  0.4227296 -0.75757808\n",
       "8  -0.9990871 -0.7592615 -0.7762945 -0.4015583  0.97259692\n",
       "9  -0.7533604 -0.1306571  0.2403993  1.0444299 -0.79596670\n",
       "10  0.9586425 -2.9451297 -0.5339781 -0.7598847  0.09814421"
      ]
     },
     "metadata": {},
     "output_type": "display_data"
    }
   ],
   "source": [
    "A %>% select(contains(\"Z\"), everything())"
   ]
  },
  {
   "cell_type": "markdown",
   "id": "e8004030-a5cd-4a4f-8119-8ac1e58ec4e3",
   "metadata": {},
   "source": [
    "## filter"
   ]
  },
  {
   "cell_type": "code",
   "execution_count": 34,
   "id": "a9f7c727-78c7-4973-99f9-e0e804839424",
   "metadata": {},
   "outputs": [
    {
     "data": {
      "text/html": [
       "<table class=\"dataframe\">\n",
       "<caption>A tibble: 10 × 5</caption>\n",
       "<thead>\n",
       "\t<tr><th scope=col>XY1</th><th scope=col>XY2</th><th scope=col>XZ1</th><th scope=col>XZ2</th><th scope=col>X5</th></tr>\n",
       "\t<tr><th scope=col>&lt;dbl&gt;</th><th scope=col>&lt;dbl&gt;</th><th scope=col>&lt;dbl&gt;</th><th scope=col>&lt;dbl&gt;</th><th scope=col>&lt;dbl&gt;</th></tr>\n",
       "</thead>\n",
       "<tbody>\n",
       "\t<tr><td>-0.5293959</td><td> 0.8419212</td><td> 0.5383570</td><td>-0.6655298</td><td> 0.41472626</td></tr>\n",
       "\t<tr><td>-1.3061722</td><td>-0.2285196</td><td> 0.6394019</td><td> 0.7272715</td><td>-1.02279757</td></tr>\n",
       "\t<tr><td> 0.2478515</td><td> 1.5950041</td><td> 0.5822074</td><td>-0.1050912</td><td>-0.41785658</td></tr>\n",
       "\t<tr><td>-1.1055972</td><td> 0.9361912</td><td>-0.1491024</td><td>-2.0990920</td><td>-0.70840815</td></tr>\n",
       "\t<tr><td> 0.7803821</td><td> 1.2455383</td><td> 0.7579811</td><td> 0.3084466</td><td> 0.08802281</td></tr>\n",
       "\t<tr><td>-1.3575121</td><td> 1.0534576</td><td>-1.3763262</td><td> 1.7299393</td><td>-0.52663755</td></tr>\n",
       "\t<tr><td> 1.0180191</td><td> 0.4227296</td><td>-0.9099901</td><td> 1.1248240</td><td>-0.75757808</td></tr>\n",
       "\t<tr><td>-0.7762945</td><td>-0.4015583</td><td>-0.9990871</td><td>-0.7592615</td><td> 0.97259692</td></tr>\n",
       "\t<tr><td> 0.2403993</td><td> 1.0444299</td><td>-0.7533604</td><td>-0.1306571</td><td>-0.79596670</td></tr>\n",
       "\t<tr><td>-0.5339781</td><td>-0.7598847</td><td> 0.9586425</td><td>-2.9451297</td><td> 0.09814421</td></tr>\n",
       "</tbody>\n",
       "</table>\n"
      ],
      "text/plain": [
       "   XY1        XY2        XZ1        XZ2        X5         \n",
       "1  -0.5293959  0.8419212  0.5383570 -0.6655298  0.41472626\n",
       "2  -1.3061722 -0.2285196  0.6394019  0.7272715 -1.02279757\n",
       "3   0.2478515  1.5950041  0.5822074 -0.1050912 -0.41785658\n",
       "4  -1.1055972  0.9361912 -0.1491024 -2.0990920 -0.70840815\n",
       "5   0.7803821  1.2455383  0.7579811  0.3084466  0.08802281\n",
       "6  -1.3575121  1.0534576 -1.3763262  1.7299393 -0.52663755\n",
       "7   1.0180191  0.4227296 -0.9099901  1.1248240 -0.75757808\n",
       "8  -0.7762945 -0.4015583 -0.9990871 -0.7592615  0.97259692\n",
       "9   0.2403993  1.0444299 -0.7533604 -0.1306571 -0.79596670\n",
       "10 -0.5339781 -0.7598847  0.9586425 -2.9451297  0.09814421"
      ]
     },
     "metadata": {},
     "output_type": "display_data"
    }
   ],
   "source": [
    "A"
   ]
  },
  {
   "cell_type": "markdown",
   "id": "1e567060-1b7a-4038-a7de-53127bd9b687",
   "metadata": {},
   "source": [
    "- 아래 코드는 $X5>0$인 행만 return한다."
   ]
  },
  {
   "cell_type": "code",
   "execution_count": 37,
   "id": "a2075d32-f103-4959-8ed9-1cad200bd41d",
   "metadata": {},
   "outputs": [
    {
     "data": {
      "text/html": [
       "<table class=\"dataframe\">\n",
       "<caption>A tibble: 4 × 5</caption>\n",
       "<thead>\n",
       "\t<tr><th scope=col>XY1</th><th scope=col>XY2</th><th scope=col>XZ1</th><th scope=col>XZ2</th><th scope=col>X5</th></tr>\n",
       "\t<tr><th scope=col>&lt;dbl&gt;</th><th scope=col>&lt;dbl&gt;</th><th scope=col>&lt;dbl&gt;</th><th scope=col>&lt;dbl&gt;</th><th scope=col>&lt;dbl&gt;</th></tr>\n",
       "</thead>\n",
       "<tbody>\n",
       "\t<tr><td>-0.5293959</td><td> 0.8419212</td><td> 0.5383570</td><td>-0.6655298</td><td>0.41472626</td></tr>\n",
       "\t<tr><td> 0.7803821</td><td> 1.2455383</td><td> 0.7579811</td><td> 0.3084466</td><td>0.08802281</td></tr>\n",
       "\t<tr><td>-0.7762945</td><td>-0.4015583</td><td>-0.9990871</td><td>-0.7592615</td><td>0.97259692</td></tr>\n",
       "\t<tr><td>-0.5339781</td><td>-0.7598847</td><td> 0.9586425</td><td>-2.9451297</td><td>0.09814421</td></tr>\n",
       "</tbody>\n",
       "</table>\n"
      ],
      "text/plain": [
       "  XY1        XY2        XZ1        XZ2        X5        \n",
       "1 -0.5293959  0.8419212  0.5383570 -0.6655298 0.41472626\n",
       "2  0.7803821  1.2455383  0.7579811  0.3084466 0.08802281\n",
       "3 -0.7762945 -0.4015583 -0.9990871 -0.7592615 0.97259692\n",
       "4 -0.5339781 -0.7598847  0.9586425 -2.9451297 0.09814421"
      ]
     },
     "metadata": {},
     "output_type": "display_data"
    }
   ],
   "source": [
    "A %>% filter(X5>0)"
   ]
  },
  {
   "cell_type": "markdown",
   "id": "d61cd021-39c0-43e2-9502-5cee4d779757",
   "metadata": {},
   "source": [
    "- 아래 코드는 $X5>0$이고$XY2>0$인 행만 return한다."
   ]
  },
  {
   "cell_type": "code",
   "execution_count": 39,
   "id": "8fbfe90b-4fd0-4b83-aacb-cb661de54e84",
   "metadata": {},
   "outputs": [
    {
     "data": {
      "text/html": [
       "<table class=\"dataframe\">\n",
       "<caption>A tibble: 2 × 5</caption>\n",
       "<thead>\n",
       "\t<tr><th scope=col>XY1</th><th scope=col>XY2</th><th scope=col>XZ1</th><th scope=col>XZ2</th><th scope=col>X5</th></tr>\n",
       "\t<tr><th scope=col>&lt;dbl&gt;</th><th scope=col>&lt;dbl&gt;</th><th scope=col>&lt;dbl&gt;</th><th scope=col>&lt;dbl&gt;</th><th scope=col>&lt;dbl&gt;</th></tr>\n",
       "</thead>\n",
       "<tbody>\n",
       "\t<tr><td>-0.5293959</td><td>0.8419212</td><td>0.5383570</td><td>-0.6655298</td><td>0.41472626</td></tr>\n",
       "\t<tr><td> 0.7803821</td><td>1.2455383</td><td>0.7579811</td><td> 0.3084466</td><td>0.08802281</td></tr>\n",
       "</tbody>\n",
       "</table>\n"
      ],
      "text/plain": [
       "  XY1        XY2       XZ1       XZ2        X5        \n",
       "1 -0.5293959 0.8419212 0.5383570 -0.6655298 0.41472626\n",
       "2  0.7803821 1.2455383 0.7579811  0.3084466 0.08802281"
      ]
     },
     "metadata": {},
     "output_type": "display_data"
    }
   ],
   "source": [
    "A %>% filter(X5>0 & XY2 > 0)"
   ]
  },
  {
   "cell_type": "code",
   "execution_count": 40,
   "id": "460291de-030c-41d1-a058-4a064cd7db72",
   "metadata": {},
   "outputs": [
    {
     "data": {
      "text/html": [
       "<table class=\"dataframe\">\n",
       "<caption>A tibble: 2 × 2</caption>\n",
       "<thead>\n",
       "\t<tr><th scope=col>XY1</th><th scope=col>XY2</th></tr>\n",
       "\t<tr><th scope=col>&lt;dbl&gt;</th><th scope=col>&lt;dbl&gt;</th></tr>\n",
       "</thead>\n",
       "<tbody>\n",
       "\t<tr><td>-0.5293959</td><td>0.8419212</td></tr>\n",
       "\t<tr><td> 0.7803821</td><td>1.2455383</td></tr>\n",
       "</tbody>\n",
       "</table>\n"
      ],
      "text/plain": [
       "  XY1        XY2      \n",
       "1 -0.5293959 0.8419212\n",
       "2  0.7803821 1.2455383"
      ]
     },
     "metadata": {},
     "output_type": "display_data"
    }
   ],
   "source": [
    "A %>% filter(X5>0 & XY2 > 0) %>% select(contains(\"XY\"))"
   ]
  },
  {
   "cell_type": "markdown",
   "id": "debb0ff7-0ad5-4923-ad34-d04959f856d3",
   "metadata": {},
   "source": [
    "## mutate"
   ]
  },
  {
   "cell_type": "markdown",
   "id": "d4f90070-ff77-46b1-a03c-b98bf6337da4",
   "metadata": {},
   "source": [
    "- 새로운 열을 추가한다."
   ]
  },
  {
   "cell_type": "code",
   "execution_count": 41,
   "id": "058633ba-1037-4527-afab-62e68cdf06d4",
   "metadata": {},
   "outputs": [
    {
     "data": {
      "text/html": [
       "<table class=\"dataframe\">\n",
       "<caption>A tibble: 10 × 5</caption>\n",
       "<thead>\n",
       "\t<tr><th scope=col>XY1</th><th scope=col>XY2</th><th scope=col>XZ1</th><th scope=col>XZ2</th><th scope=col>X5</th></tr>\n",
       "\t<tr><th scope=col>&lt;dbl&gt;</th><th scope=col>&lt;dbl&gt;</th><th scope=col>&lt;dbl&gt;</th><th scope=col>&lt;dbl&gt;</th><th scope=col>&lt;dbl&gt;</th></tr>\n",
       "</thead>\n",
       "<tbody>\n",
       "\t<tr><td>-0.5293959</td><td> 0.8419212</td><td> 0.5383570</td><td>-0.6655298</td><td> 0.41472626</td></tr>\n",
       "\t<tr><td>-1.3061722</td><td>-0.2285196</td><td> 0.6394019</td><td> 0.7272715</td><td>-1.02279757</td></tr>\n",
       "\t<tr><td> 0.2478515</td><td> 1.5950041</td><td> 0.5822074</td><td>-0.1050912</td><td>-0.41785658</td></tr>\n",
       "\t<tr><td>-1.1055972</td><td> 0.9361912</td><td>-0.1491024</td><td>-2.0990920</td><td>-0.70840815</td></tr>\n",
       "\t<tr><td> 0.7803821</td><td> 1.2455383</td><td> 0.7579811</td><td> 0.3084466</td><td> 0.08802281</td></tr>\n",
       "\t<tr><td>-1.3575121</td><td> 1.0534576</td><td>-1.3763262</td><td> 1.7299393</td><td>-0.52663755</td></tr>\n",
       "\t<tr><td> 1.0180191</td><td> 0.4227296</td><td>-0.9099901</td><td> 1.1248240</td><td>-0.75757808</td></tr>\n",
       "\t<tr><td>-0.7762945</td><td>-0.4015583</td><td>-0.9990871</td><td>-0.7592615</td><td> 0.97259692</td></tr>\n",
       "\t<tr><td> 0.2403993</td><td> 1.0444299</td><td>-0.7533604</td><td>-0.1306571</td><td>-0.79596670</td></tr>\n",
       "\t<tr><td>-0.5339781</td><td>-0.7598847</td><td> 0.9586425</td><td>-2.9451297</td><td> 0.09814421</td></tr>\n",
       "</tbody>\n",
       "</table>\n"
      ],
      "text/plain": [
       "   XY1        XY2        XZ1        XZ2        X5         \n",
       "1  -0.5293959  0.8419212  0.5383570 -0.6655298  0.41472626\n",
       "2  -1.3061722 -0.2285196  0.6394019  0.7272715 -1.02279757\n",
       "3   0.2478515  1.5950041  0.5822074 -0.1050912 -0.41785658\n",
       "4  -1.1055972  0.9361912 -0.1491024 -2.0990920 -0.70840815\n",
       "5   0.7803821  1.2455383  0.7579811  0.3084466  0.08802281\n",
       "6  -1.3575121  1.0534576 -1.3763262  1.7299393 -0.52663755\n",
       "7   1.0180191  0.4227296 -0.9099901  1.1248240 -0.75757808\n",
       "8  -0.7762945 -0.4015583 -0.9990871 -0.7592615  0.97259692\n",
       "9   0.2403993  1.0444299 -0.7533604 -0.1306571 -0.79596670\n",
       "10 -0.5339781 -0.7598847  0.9586425 -2.9451297  0.09814421"
      ]
     },
     "metadata": {},
     "output_type": "display_data"
    }
   ],
   "source": [
    "A"
   ]
  },
  {
   "cell_type": "code",
   "execution_count": 45,
   "id": "8df21c66-f92e-4651-8351-2fa8a6c6280e",
   "metadata": {},
   "outputs": [
    {
     "data": {
      "text/html": [
       "<table class=\"dataframe\">\n",
       "<caption>A tibble: 10 × 8</caption>\n",
       "<thead>\n",
       "\t<tr><th scope=col>XY1</th><th scope=col>XY2</th><th scope=col>XZ1</th><th scope=col>XZ2</th><th scope=col>X5</th><th scope=col>X6</th><th scope=col>Z7</th><th scope=col>Z8</th></tr>\n",
       "\t<tr><th scope=col>&lt;dbl&gt;</th><th scope=col>&lt;dbl&gt;</th><th scope=col>&lt;dbl&gt;</th><th scope=col>&lt;dbl&gt;</th><th scope=col>&lt;dbl&gt;</th><th scope=col>&lt;dbl&gt;</th><th scope=col>&lt;dbl&gt;</th><th scope=col>&lt;dbl&gt;</th></tr>\n",
       "</thead>\n",
       "<tbody>\n",
       "\t<tr><td>-0.5293959</td><td> 0.8419212</td><td> 0.5383570</td><td>-0.6655298</td><td> 0.41472626</td><td>0.41472626</td><td>0.171997869</td><td>-0.26227400</td></tr>\n",
       "\t<tr><td>-1.3061722</td><td>-0.2285196</td><td> 0.6394019</td><td> 0.7272715</td><td>-1.02279757</td><td>1.02279757</td><td>1.046114867</td><td> 0.61184300</td></tr>\n",
       "\t<tr><td> 0.2478515</td><td> 1.5950041</td><td> 0.5822074</td><td>-0.1050912</td><td>-0.41785658</td><td>0.41785658</td><td>0.174604124</td><td>-0.25966774</td></tr>\n",
       "\t<tr><td>-1.1055972</td><td> 0.9361912</td><td>-0.1491024</td><td>-2.0990920</td><td>-0.70840815</td><td>0.70840815</td><td>0.501842114</td><td> 0.06757025</td></tr>\n",
       "\t<tr><td> 0.7803821</td><td> 1.2455383</td><td> 0.7579811</td><td> 0.3084466</td><td> 0.08802281</td><td>0.08802281</td><td>0.007748016</td><td>-0.42652385</td></tr>\n",
       "\t<tr><td>-1.3575121</td><td> 1.0534576</td><td>-1.3763262</td><td> 1.7299393</td><td>-0.52663755</td><td>0.52663755</td><td>0.277347111</td><td>-0.15692476</td></tr>\n",
       "\t<tr><td> 1.0180191</td><td> 0.4227296</td><td>-0.9099901</td><td> 1.1248240</td><td>-0.75757808</td><td>0.75757808</td><td>0.573924544</td><td> 0.13965268</td></tr>\n",
       "\t<tr><td>-0.7762945</td><td>-0.4015583</td><td>-0.9990871</td><td>-0.7592615</td><td> 0.97259692</td><td>0.97259692</td><td>0.945944761</td><td> 0.51167289</td></tr>\n",
       "\t<tr><td> 0.2403993</td><td> 1.0444299</td><td>-0.7533604</td><td>-0.1306571</td><td>-0.79596670</td><td>0.79596670</td><td>0.633562985</td><td> 0.19929112</td></tr>\n",
       "\t<tr><td>-0.5339781</td><td>-0.7598847</td><td> 0.9586425</td><td>-2.9451297</td><td> 0.09814421</td><td>0.09814421</td><td>0.009632287</td><td>-0.42463958</td></tr>\n",
       "</tbody>\n",
       "</table>\n"
      ],
      "text/plain": [
       "   XY1        XY2        XZ1        XZ2        X5          X6        \n",
       "1  -0.5293959  0.8419212  0.5383570 -0.6655298  0.41472626 0.41472626\n",
       "2  -1.3061722 -0.2285196  0.6394019  0.7272715 -1.02279757 1.02279757\n",
       "3   0.2478515  1.5950041  0.5822074 -0.1050912 -0.41785658 0.41785658\n",
       "4  -1.1055972  0.9361912 -0.1491024 -2.0990920 -0.70840815 0.70840815\n",
       "5   0.7803821  1.2455383  0.7579811  0.3084466  0.08802281 0.08802281\n",
       "6  -1.3575121  1.0534576 -1.3763262  1.7299393 -0.52663755 0.52663755\n",
       "7   1.0180191  0.4227296 -0.9099901  1.1248240 -0.75757808 0.75757808\n",
       "8  -0.7762945 -0.4015583 -0.9990871 -0.7592615  0.97259692 0.97259692\n",
       "9   0.2403993  1.0444299 -0.7533604 -0.1306571 -0.79596670 0.79596670\n",
       "10 -0.5339781 -0.7598847  0.9586425 -2.9451297  0.09814421 0.09814421\n",
       "   Z7          Z8         \n",
       "1  0.171997869 -0.26227400\n",
       "2  1.046114867  0.61184300\n",
       "3  0.174604124 -0.25966774\n",
       "4  0.501842114  0.06757025\n",
       "5  0.007748016 -0.42652385\n",
       "6  0.277347111 -0.15692476\n",
       "7  0.573924544  0.13965268\n",
       "8  0.945944761  0.51167289\n",
       "9  0.633562985  0.19929112\n",
       "10 0.009632287 -0.42463958"
      ]
     },
     "metadata": {},
     "output_type": "display_data"
    }
   ],
   "source": [
    "A %>% mutate(X6 = abs(X5), Z7 = X5**2, Z8 = Z7 - mean(Z7))"
   ]
  },
  {
   "cell_type": "code",
   "execution_count": null,
   "id": "75b95286-8cd7-46b4-b772-77a57bbdc0df",
   "metadata": {},
   "outputs": [],
   "source": []
  }
 ],
 "metadata": {
  "kernelspec": {
   "display_name": "R",
   "language": "R",
   "name": "ir"
  },
  "language_info": {
   "codemirror_mode": "r",
   "file_extension": ".r",
   "mimetype": "text/x-r-source",
   "name": "R",
   "pygments_lexer": "r",
   "version": "4.0.5"
  }
 },
 "nbformat": 4,
 "nbformat_minor": 5
}
