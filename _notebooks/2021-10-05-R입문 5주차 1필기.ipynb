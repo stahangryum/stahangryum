{
 "cells": [
  {
   "cell_type": "code",
   "execution_count": null,
   "id": "cf2777fe-088f-4369-acc9-b76ecb69ca3d",
   "metadata": {},
   "outputs": [],
   "source": [
    "#hide\n",
    "options(jupyter.plot_scale = 3)\n",
    "options(jupyter.display_mimetypes = c(\"text/html\"))\n",
    "options(jupyter.rich_display=FALSE)\n",
    "options(repr.plot.width=6, repr.plot.height=6, repr.plot.res=300)\n",
    "options(max.print=1000)"
   ]
  },
  {
   "cell_type": "markdown",
   "id": "7d8ca16d-d4ae-4946-8d8d-2a03da23e375",
   "metadata": {
    "jp-MarkdownHeadingCollapsed": true,
    "tags": []
   },
   "source": [
    "# \"R : while()\"\n",
    "> \"전북대학교 R입문 5주차 필기\"\n",
    "\n",
    "- toc: true\n",
    "- branch: master\n",
    "- badges: true\n",
    "- comments: true\n",
    "- author: Kim Jeewoo\n",
    "- categories: [Introduction to R]\n",
    "- image: images/r_logo.PNG"
   ]
  },
  {
   "cell_type": "markdown",
   "id": "38f0f6e9-a283-4ee1-aa6e-ffbf8e08b3ba",
   "metadata": {},
   "source": [
    "# while() 의 기본 구조"
   ]
  },
  {
   "cell_type": "markdown",
   "id": "b4989b74-ec04-4187-8c83-1b9aa9245be1",
   "metadata": {},
   "source": [
    "```r\n",
    "while (조건){\n",
    "    (조건이 TRUE이면 실행, FALSE이면 PASS)\n",
    "    }\n",
    "```"
   ]
  },
  {
   "cell_type": "markdown",
   "id": "9a62c9c2-60ef-44e0-9370-c5f377258043",
   "metadata": {},
   "source": [
    "# Problem {% fn 1 %}"
   ]
  },
  {
   "cell_type": "markdown",
   "id": "c80b25cf-bea4-44f3-a441-676e6fe3806e",
   "metadata": {},
   "source": [
    "![](image/200709math16.PNG)"
   ]
  },
  {
   "cell_type": "markdown",
   "id": "75c2d1f3-3725-465f-b10f-357f266c5367",
   "metadata": {},
   "source": [
    "## Solution I - for"
   ]
  },
  {
   "cell_type": "code",
   "execution_count": 1,
   "id": "79fd86ba-b2f8-4de2-a461-943d9dd5a8e5",
   "metadata": {},
   "outputs": [
    {
     "name": "stdout",
     "output_type": "stream",
     "text": [
      "[1] 2046\n"
     ]
    }
   ],
   "source": [
    "px = c()\n",
    "py = c()\n",
    "px[1] = 1\n",
    "py[1] = 1\n",
    "\n",
    "for (n in 1:2**12){\n",
    "    if ((px[n]==10)&(py[n]==2^10)){\n",
    "        print(n)\n",
    "        break\n",
    "    }else{\n",
    "        if (py[n] < 2**(px[n])){\n",
    "            px[n+1] = px[n]\n",
    "            py[n+1] = py[n] + 1\n",
    "        }else{\n",
    "            px[n+1] = px[n] + 1\n",
    "            py[n+1] = 1\n",
    "                   \n",
    "        }\n",
    "    }\n",
    "}"
   ]
  },
  {
   "cell_type": "markdown",
   "id": "265cb7fc-f205-453d-b1d4-acfc47cc9f86",
   "metadata": {},
   "source": [
    "$n = 2046 = 2048 - 2 = 2^{11} - 2$"
   ]
  },
  {
   "cell_type": "markdown",
   "id": "d136ef5d-a174-4581-8449-e9aa247abe8b",
   "metadata": {},
   "source": [
    "## Solution II - while"
   ]
  },
  {
   "cell_type": "code",
   "execution_count": 2,
   "id": "88446fbf-9b91-43bc-aa56-900bde9a9a75",
   "metadata": {},
   "outputs": [
    {
     "name": "stdout",
     "output_type": "stream",
     "text": [
      "[1] 2046\n"
     ]
    }
   ],
   "source": [
    "p_x = c()\n",
    "p_y = c()\n",
    "p_x[1] = 1\n",
    "p_y[1] = 1\n",
    "n = 1\n",
    "\n",
    "while (TRUE){\n",
    "    if ((px[n]==10)&(py[n]==2^10)){\n",
    "        print(n)\n",
    "        break\n",
    "    }else{\n",
    "        if (py[n] < 2**(px[n])){\n",
    "            px[n+1] = px[n]\n",
    "            py[n+1] = py[n] + 1\n",
    "        }else{\n",
    "            px[n+1] = px[n] + 1\n",
    "            py[n+1]\n",
    "            \n",
    "        }\n",
    "    n = n + 1\n",
    "    }\n",
    "}"
   ]
  },
  {
   "cell_type": "markdown",
   "id": "e5b47ad3-8637-4aaf-b25b-a1af8155a400",
   "metadata": {},
   "source": [
    "# 과제"
   ]
  },
  {
   "cell_type": "code",
   "execution_count": 3,
   "id": "70a888b5-6aaf-4007-abbb-26b7b8d60d71",
   "metadata": {},
   "outputs": [
    {
     "name": "stdout",
     "output_type": "stream",
     "text": [
      "[1] \"x는음수\"\n",
      "[1] \"x는음수\"\n",
      "[1] \"x는음수\"\n",
      "[1] \"x는음수\"\n",
      "[1] \"x는음수\"\n"
     ]
    }
   ],
   "source": [
    "for (x in (-5:100)){\n",
    "    if (x >= 0){\n",
    "        break\n",
    "    }else{\n",
    "        print(\"x는음수\")\n",
    "    }\n",
    "}"
   ]
  },
  {
   "cell_type": "markdown",
   "id": "c77f8754-72cb-425d-bfa7-120934e40b28",
   "metadata": {},
   "source": [
    "{{ '2007년 대학수학능력시험 9월 모의평가 수학영역(나형) 16번' | fndetail: 1 }}"
   ]
  }
 ],
 "metadata": {
  "kernelspec": {
   "display_name": "R",
   "language": "R",
   "name": "ir"
  },
  "language_info": {
   "codemirror_mode": "r",
   "file_extension": ".r",
   "mimetype": "text/x-r-source",
   "name": "R",
   "pygments_lexer": "r",
   "version": "4.0.5"
  }
 },
 "nbformat": 4,
 "nbformat_minor": 5
}
