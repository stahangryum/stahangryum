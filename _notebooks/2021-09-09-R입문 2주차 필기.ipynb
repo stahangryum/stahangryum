{
 "cells": [
  {
   "cell_type": "markdown",
   "id": "2b311539-9ce3-4386-a41e-a30278445d82",
   "metadata": {},
   "source": [
    "# \"R 변수\"\n",
    "> \"전북대학교 R입문 2주차 필기\"\n",
    "\n",
    "- toc: true\n",
    "- branch: master\n",
    "- badges: true\n",
    "- comments: true\n",
    "- author: Kim Jeewoo\n",
    "- categories: [Introduction to R]"
   ]
  },
  {
   "cell_type": "markdown",
   "id": "333cf3b5-4e2e-444f-8128-df2cdee5a422",
   "metadata": {},
   "source": [
    "### 변수에 어떠한 값을 넣는 방법"
   ]
  },
  {
   "cell_type": "markdown",
   "id": "1c4d42e1-efc8-493c-8b99-98b52cf24e0e",
   "metadata": {},
   "source": [
    "`-` 방법1"
   ]
  },
  {
   "cell_type": "code",
   "execution_count": 10,
   "id": "7fd72f0b-fa90-4b5d-b8e3-0ddd4e826032",
   "metadata": {},
   "outputs": [],
   "source": [
    "a = 1"
   ]
  },
  {
   "cell_type": "code",
   "execution_count": 11,
   "id": "d41c835d-a5a2-48a4-9722-e74ba25b811d",
   "metadata": {},
   "outputs": [
    {
     "data": {
      "text/html": [
       "1"
      ],
      "text/latex": [
       "1"
      ],
      "text/markdown": [
       "1"
      ],
      "text/plain": [
       "[1] 1"
      ]
     },
     "metadata": {},
     "output_type": "display_data"
    }
   ],
   "source": [
    "a"
   ]
  },
  {
   "cell_type": "markdown",
   "id": "0cda92ba-96e5-4156-b597-e9dc91138327",
   "metadata": {},
   "source": [
    "`-`방법2"
   ]
  },
  {
   "cell_type": "code",
   "execution_count": 12,
   "id": "e52a275f-eeb3-4a8d-a46f-dcd363298f84",
   "metadata": {},
   "outputs": [],
   "source": [
    "b <- 3"
   ]
  },
  {
   "cell_type": "code",
   "execution_count": 13,
   "id": "095632ae-193f-4291-b6ff-2f1476ed84e9",
   "metadata": {},
   "outputs": [
    {
     "data": {
      "text/html": [
       "3"
      ],
      "text/latex": [
       "3"
      ],
      "text/markdown": [
       "3"
      ],
      "text/plain": [
       "[1] 3"
      ]
     },
     "metadata": {},
     "output_type": "display_data"
    }
   ],
   "source": [
    "b"
   ]
  },
  {
   "cell_type": "markdown",
   "id": "f7db748e-24c5-4138-a684-78219b1cd11f",
   "metadata": {},
   "source": [
    "`-` 주의할 점"
   ]
  },
  {
   "cell_type": "markdown",
   "id": "722d1011-749f-407c-bcce-818dda4a5d9b",
   "metadata": {},
   "source": [
    "- 변수 이름은 숫자로만 구성할 수 없다."
   ]
  },
  {
   "cell_type": "code",
   "execution_count": 18,
   "id": "4846b728-32d5-4176-a53c-0c74ad6cdc72",
   "metadata": {},
   "outputs": [
    {
     "ename": "ERROR",
     "evalue": "Error in 444 <- 5: 대입에 유효하지 않은 (do_set) 좌변입니다\n",
     "output_type": "error",
     "traceback": [
      "Error in 444 <- 5: 대입에 유효하지 않은 (do_set) 좌변입니다\nTraceback:\n"
     ]
    }
   ],
   "source": [
    "444 <- 5"
   ]
  },
  {
   "cell_type": "markdown",
   "id": "442eea08-751a-4840-a418-99415684f999",
   "metadata": {},
   "source": [
    "- 변수 이름은 특수문자로 구성할 수 없다."
   ]
  },
  {
   "cell_type": "code",
   "execution_count": 22,
   "id": "cd6509c6-e349-4ed8-a2a0-2aaf01b14f09",
   "metadata": {},
   "outputs": [
    {
     "ename": "ERROR",
     "evalue": "Error in parse(text = x, srcfile = src): <text>:1:1: 예기치 않은 '^'입니다\n1: ^\n    ^\n",
     "output_type": "error",
     "traceback": [
      "Error in parse(text = x, srcfile = src): <text>:1:1: 예기치 않은 '^'입니다\n1: ^\n    ^\nTraceback:\n"
     ]
    }
   ],
   "source": [
    "^^@ < - 4"
   ]
  },
  {
   "cell_type": "markdown",
   "id": "59f713b7-18f1-4f56-9c06-bb852f3d2f0a",
   "metadata": {},
   "source": [
    "- 변수 이름은 숫자로 '시작'할 수 없다."
   ]
  },
  {
   "cell_type": "code",
   "execution_count": 25,
   "id": "ffb73f69-b4b8-4e82-85b4-55e3fe5d8ff7",
   "metadata": {},
   "outputs": [
    {
     "ename": "ERROR",
     "evalue": "Error in parse(text = x, srcfile = src): <text>:1:2: 예상하지 못한 기호(symbol)입니다.\n1: 1a\n     ^\n",
     "output_type": "error",
     "traceback": [
      "Error in parse(text = x, srcfile = src): <text>:1:2: 예상하지 못한 기호(symbol)입니다.\n1: 1a\n     ^\nTraceback:\n"
     ]
    }
   ],
   "source": [
    "1a <- 3"
   ]
  },
  {
   "cell_type": "markdown",
   "id": "ac7cdafb-9be7-4a10-b33c-10484413ad1c",
   "metadata": {},
   "source": [
    "- 이건 가능하다"
   ]
  },
  {
   "cell_type": "code",
   "execution_count": 24,
   "id": "68eab747-65b4-4f60-be10-f8b06c861016",
   "metadata": {},
   "outputs": [],
   "source": [
    "a1 <- 3"
   ]
  },
  {
   "cell_type": "markdown",
   "id": "b0e43ae4-cb8c-4f30-bcae-42530a8c91fc",
   "metadata": {},
   "source": [
    "- 가능은 하나 권장하지 않는 변수 이름"
   ]
  },
  {
   "cell_type": "code",
   "execution_count": 1,
   "id": "95e10ed4-0b63-4e59-be49-409da7594a6c",
   "metadata": {},
   "outputs": [
    {
     "data": {
      "text/html": [
       "3.14159265358979"
      ],
      "text/latex": [
       "3.14159265358979"
      ],
      "text/markdown": [
       "3.14159265358979"
      ],
      "text/plain": [
       "[1] 3.141593"
      ]
     },
     "metadata": {},
     "output_type": "display_data"
    }
   ],
   "source": [
    "pi"
   ]
  },
  {
   "cell_type": "code",
   "execution_count": 2,
   "id": "67141221-1e31-4acf-a32f-cb41ea14c1a8",
   "metadata": {},
   "outputs": [],
   "source": [
    "pi<-333"
   ]
  },
  {
   "cell_type": "code",
   "execution_count": 3,
   "id": "593172c8-3b0b-4aff-ac39-49748991f571",
   "metadata": {},
   "outputs": [
    {
     "data": {
      "text/html": [
       "333"
      ],
      "text/latex": [
       "333"
      ],
      "text/markdown": [
       "333"
      ],
      "text/plain": [
       "[1] 333"
      ]
     },
     "metadata": {},
     "output_type": "display_data"
    }
   ],
   "source": [
    "pi"
   ]
  },
  {
   "cell_type": "markdown",
   "id": "46aee924-32a0-4b35-94ce-5616aaf3e3d8",
   "metadata": {},
   "source": [
    "원래 내장된 $\\pi$가 날아가버렸다..."
   ]
  },
  {
   "cell_type": "code",
   "execution_count": null,
   "id": "9d767ea0-edf2-4965-9320-e417dcde320b",
   "metadata": {},
   "outputs": [],
   "source": []
  }
 ],
 "metadata": {
  "kernelspec": {
   "display_name": "R",
   "language": "R",
   "name": "ir"
  },
  "language_info": {
   "codemirror_mode": "r",
   "file_extension": ".r",
   "mimetype": "text/x-r-source",
   "name": "R",
   "pygments_lexer": "r",
   "version": "4.1.1"
  }
 },
 "nbformat": 4,
 "nbformat_minor": 5
}
