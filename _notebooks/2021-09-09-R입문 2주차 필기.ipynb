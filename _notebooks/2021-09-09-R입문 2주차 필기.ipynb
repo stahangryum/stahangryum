{
 "cells": [
  {
   "cell_type": "markdown",
   "id": "2b311539-9ce3-4386-a41e-a30278445d82",
   "metadata": {},
   "source": [
    "# \"R 변수\"\n",
    "> \"전북대학교 R입문 2주차 필기\"\n",
    "\n",
    "- toc: true\n",
    "- branch: master\n",
    "- badges: true\n",
    "- comments: true\n",
    "- author: Kim Jeewoo\n",
    "- categories: [Introduction to R]"
   ]
  },
  {
   "cell_type": "markdown",
   "id": "333cf3b5-4e2e-444f-8128-df2cdee5a422",
   "metadata": {},
   "source": [
    "### 변수에 어떠한 값을 넣는 방법"
   ]
  },
  {
   "cell_type": "markdown",
   "id": "1c4d42e1-efc8-493c-8b99-98b52cf24e0e",
   "metadata": {},
   "source": [
    "#### 방법1 :  `=` 이용"
   ]
  },
  {
   "cell_type": "code",
   "execution_count": 2,
   "id": "7fd72f0b-fa90-4b5d-b8e3-0ddd4e826032",
   "metadata": {},
   "outputs": [],
   "source": [
    "a = 1"
   ]
  },
  {
   "cell_type": "code",
   "execution_count": 3,
   "id": "d41c835d-a5a2-48a4-9722-e74ba25b811d",
   "metadata": {},
   "outputs": [
    {
     "data": {
      "text/html": [
       "1"
      ],
      "text/latex": [
       "1"
      ],
      "text/markdown": [
       "1"
      ],
      "text/plain": [
       "[1] 1"
      ]
     },
     "metadata": {},
     "output_type": "display_data"
    }
   ],
   "source": [
    "a"
   ]
  },
  {
   "cell_type": "markdown",
   "id": "0cda92ba-96e5-4156-b597-e9dc91138327",
   "metadata": {},
   "source": [
    "#### 방법2 : `<-`이용"
   ]
  },
  {
   "cell_type": "code",
   "execution_count": 4,
   "id": "e52a275f-eeb3-4a8d-a46f-dcd363298f84",
   "metadata": {},
   "outputs": [],
   "source": [
    "b <- 3"
   ]
  },
  {
   "cell_type": "code",
   "execution_count": 5,
   "id": "095632ae-193f-4291-b6ff-2f1476ed84e9",
   "metadata": {},
   "outputs": [
    {
     "data": {
      "text/html": [
       "3"
      ],
      "text/latex": [
       "3"
      ],
      "text/markdown": [
       "3"
      ],
      "text/plain": [
       "[1] 3"
      ]
     },
     "metadata": {},
     "output_type": "display_data"
    }
   ],
   "source": [
    "b"
   ]
  },
  {
   "cell_type": "markdown",
   "id": "f7db748e-24c5-4138-a684-78219b1cd11f",
   "metadata": {},
   "source": [
    "#### 변수 이름을 설정할 때 주의할 점"
   ]
  },
  {
   "cell_type": "markdown",
   "id": "722d1011-749f-407c-bcce-818dda4a5d9b",
   "metadata": {
    "tags": []
   },
   "source": [
    "##### `-` 변수 이름은 숫자로만 구성할 수 없다."
   ]
  },
  {
   "cell_type": "code",
   "execution_count": 6,
   "id": "4846b728-32d5-4176-a53c-0c74ad6cdc72",
   "metadata": {},
   "outputs": [
    {
     "ename": "ERROR",
     "evalue": "Error in 444 <- 5: 대입에 유효하지 않은 (do_set) 좌변입니다\n",
     "output_type": "error",
     "traceback": [
      "Error in 444 <- 5: 대입에 유효하지 않은 (do_set) 좌변입니다\nTraceback:\n"
     ]
    }
   ],
   "source": [
    "444 <- 5"
   ]
  },
  {
   "cell_type": "markdown",
   "id": "442eea08-751a-4840-a418-99415684f999",
   "metadata": {},
   "source": [
    "##### `-` 변수 이름은 특수문자로 구성할 수 없다."
   ]
  },
  {
   "cell_type": "code",
   "execution_count": 7,
   "id": "cd6509c6-e349-4ed8-a2a0-2aaf01b14f09",
   "metadata": {
    "tags": []
   },
   "outputs": [
    {
     "ename": "ERROR",
     "evalue": "Error in parse(text = x, srcfile = src): <text>:1:1: 예기치 않은 '^'입니다\n1: ^\n    ^\n",
     "output_type": "error",
     "traceback": [
      "Error in parse(text = x, srcfile = src): <text>:1:1: 예기치 않은 '^'입니다\n1: ^\n    ^\nTraceback:\n"
     ]
    }
   ],
   "source": [
    "^^@ < - 4"
   ]
  },
  {
   "cell_type": "markdown",
   "id": "eede5ad2-bde1-40ff-8af1-9372cdd93f62",
   "metadata": {},
   "source": [
    "##### `-` 변수 이름에 띄어쓰기를 사용할 수 없다."
   ]
  },
  {
   "cell_type": "code",
   "execution_count": 8,
   "id": "b206194e-b19c-4409-bc07-077f33f1665d",
   "metadata": {},
   "outputs": [
    {
     "ename": "ERROR",
     "evalue": "Error in parse(text = x, srcfile = src): <text>:1:5: 예상하지 못한 기호(symbol)입니다.\n1: Kim Jeewoo\n        ^\n",
     "output_type": "error",
     "traceback": [
      "Error in parse(text = x, srcfile = src): <text>:1:5: 예상하지 못한 기호(symbol)입니다.\n1: Kim Jeewoo\n        ^\nTraceback:\n"
     ]
    }
   ],
   "source": [
    "Kim Jeewoo <- 4"
   ]
  },
  {
   "cell_type": "markdown",
   "id": "2ac921bf-1435-41a6-aa70-327b90bb4228",
   "metadata": {},
   "source": [
    "##### `-` 띄어쓰기 대신 언더바(_)를 사용하는 것은 가능하다.\n",
    "##### `-` 단, 변수 이름을 언더바로 '시작'할 수 없다."
   ]
  },
  {
   "cell_type": "code",
   "execution_count": 9,
   "id": "d29399e2-7339-44b9-b63e-fea02a2f0881",
   "metadata": {},
   "outputs": [],
   "source": [
    "Kim_Jeewoo <- 4\n",
    "Kim.Jeewoo <- 5"
   ]
  },
  {
   "cell_type": "markdown",
   "id": "59f713b7-18f1-4f56-9c06-bb852f3d2f0a",
   "metadata": {},
   "source": [
    "##### `-` 변수 이름은 숫자로 '시작'할 수 없다."
   ]
  },
  {
   "cell_type": "code",
   "execution_count": 10,
   "id": "ffb73f69-b4b8-4e82-85b4-55e3fe5d8ff7",
   "metadata": {},
   "outputs": [
    {
     "ename": "ERROR",
     "evalue": "Error in parse(text = x, srcfile = src): <text>:1:2: 예상하지 못한 기호(symbol)입니다.\n1: 1a\n     ^\n",
     "output_type": "error",
     "traceback": [
      "Error in parse(text = x, srcfile = src): <text>:1:2: 예상하지 못한 기호(symbol)입니다.\n1: 1a\n     ^\nTraceback:\n"
     ]
    }
   ],
   "source": [
    "1a <- 3"
   ]
  },
  {
   "cell_type": "markdown",
   "id": "ac7cdafb-9be7-4a10-b33c-10484413ad1c",
   "metadata": {},
   "source": [
    "##### `-` 이건 가능하다"
   ]
  },
  {
   "cell_type": "code",
   "execution_count": 11,
   "id": "68eab747-65b4-4f60-be10-f8b06c861016",
   "metadata": {},
   "outputs": [],
   "source": [
    "a1 <- 3"
   ]
  },
  {
   "cell_type": "markdown",
   "id": "b0e43ae4-cb8c-4f30-bcae-42530a8c91fc",
   "metadata": {},
   "source": [
    "#### 가능은 하나 권장하지 않는 변수 이름"
   ]
  },
  {
   "cell_type": "code",
   "execution_count": 12,
   "id": "95e10ed4-0b63-4e59-be49-409da7594a6c",
   "metadata": {},
   "outputs": [
    {
     "data": {
      "text/html": [
       "3.14159265358979"
      ],
      "text/latex": [
       "3.14159265358979"
      ],
      "text/markdown": [
       "3.14159265358979"
      ],
      "text/plain": [
       "[1] 3.141593"
      ]
     },
     "metadata": {},
     "output_type": "display_data"
    }
   ],
   "source": [
    "pi"
   ]
  },
  {
   "cell_type": "code",
   "execution_count": 13,
   "id": "67141221-1e31-4acf-a32f-cb41ea14c1a8",
   "metadata": {},
   "outputs": [],
   "source": [
    "pi<-333"
   ]
  },
  {
   "cell_type": "code",
   "execution_count": 14,
   "id": "593172c8-3b0b-4aff-ac39-49748991f571",
   "metadata": {},
   "outputs": [
    {
     "data": {
      "text/html": [
       "333"
      ],
      "text/latex": [
       "333"
      ],
      "text/markdown": [
       "333"
      ],
      "text/plain": [
       "[1] 333"
      ]
     },
     "metadata": {},
     "output_type": "display_data"
    }
   ],
   "source": [
    "pi"
   ]
  },
  {
   "cell_type": "markdown",
   "id": "46aee924-32a0-4b35-94ce-5616aaf3e3d8",
   "metadata": {},
   "source": [
    "원래 내장된 $\\pi$가 날아가버렸다..."
   ]
  },
  {
   "cell_type": "markdown",
   "id": "2648f975-6bae-4fd4-8a43-083e4e021ca8",
   "metadata": {},
   "source": [
    "#### 변수 생성시 팁"
   ]
  },
  {
   "cell_type": "markdown",
   "id": "87e48586-c69e-4644-98c1-77c43bb1059e",
   "metadata": {},
   "source": [
    "##### `-` 변수를 축약할 때 모음을 제외하면 좋다."
   ]
  },
  {
   "cell_type": "markdown",
   "id": "b70659a4-83b6-4b26-8ec7-ba9f163238c2",
   "metadata": {},
   "source": [
    "- result -> rslt\n",
    "- residual -> rsdl"
   ]
  },
  {
   "cell_type": "markdown",
   "id": "bfde1479-38c3-4594-9755-d811b930c7e3",
   "metadata": {},
   "source": [
    "##### `-` 임시로 변수명을 사용해야 할 경우 변수 이름 끝에 언더바를 붙인다."
   ]
  },
  {
   "cell_type": "markdown",
   "id": "1da5727a-b575-4e19-8938-b453d2996573",
   "metadata": {},
   "source": [
    "- x_, y_, rslt_, rsdl"
   ]
  },
  {
   "cell_type": "markdown",
   "id": "2e12d6dd-1d6d-4576-8b70-5d9c1285b4e4",
   "metadata": {},
   "source": [
    "### 벡터를 선언하는 방법"
   ]
  },
  {
   "cell_type": "markdown",
   "id": "ff6df32e-855b-48a9-a3d6-eef3b5fc99cb",
   "metadata": {},
   "source": [
    "#### 방법1 - 직접 입력"
   ]
  },
  {
   "cell_type": "code",
   "execution_count": 1,
   "id": "2b5e9e15-e006-4fae-b6d1-7dcb51ead447",
   "metadata": {},
   "outputs": [],
   "source": [
    "v1 <- c(1, 2, 3, 3, 4, 5, 2)"
   ]
  },
  {
   "cell_type": "code",
   "execution_count": 2,
   "id": "8d0a113e-7187-4d6d-8539-3f38beba511d",
   "metadata": {},
   "outputs": [
    {
     "data": {
      "text/html": [
       "<style>\n",
       ".list-inline {list-style: none; margin:0; padding: 0}\n",
       ".list-inline>li {display: inline-block}\n",
       ".list-inline>li:not(:last-child)::after {content: \"\\00b7\"; padding: 0 .5ex}\n",
       "</style>\n",
       "<ol class=list-inline><li>1</li><li>2</li><li>3</li><li>3</li><li>4</li><li>5</li><li>2</li></ol>\n"
      ],
      "text/latex": [
       "\\begin{enumerate*}\n",
       "\\item 1\n",
       "\\item 2\n",
       "\\item 3\n",
       "\\item 3\n",
       "\\item 4\n",
       "\\item 5\n",
       "\\item 2\n",
       "\\end{enumerate*}\n"
      ],
      "text/markdown": [
       "1. 1\n",
       "2. 2\n",
       "3. 3\n",
       "4. 3\n",
       "5. 4\n",
       "6. 5\n",
       "7. 2\n",
       "\n",
       "\n"
      ],
      "text/plain": [
       "[1] 1 2 3 3 4 5 2"
      ]
     },
     "metadata": {},
     "output_type": "display_data"
    }
   ],
   "source": [
    "v1"
   ]
  },
  {
   "cell_type": "code",
   "execution_count": 3,
   "id": "b2aea214-e16b-453c-985c-3e051d952f59",
   "metadata": {},
   "outputs": [
    {
     "name": "stdout",
     "output_type": "stream",
     "text": [
      "[1] 1 2 3 3 4 5 2\n"
     ]
    }
   ],
   "source": [
    "print(v1)"
   ]
  },
  {
   "cell_type": "markdown",
   "id": "e0119f4f-7316-473a-8546-b8e76451b258",
   "metadata": {
    "tags": []
   },
   "source": [
    "#### 방법2 - `seq`를 이용"
   ]
  },
  {
   "cell_type": "code",
   "execution_count": null,
   "id": "ec59a319-3bc5-413d-bb72-0df9edd6ac08",
   "metadata": {},
   "outputs": [],
   "source": [
    "?sqe #실행하면 sqe의 사용법에 대해 알려준다."
   ]
  },
  {
   "cell_type": "code",
   "execution_count": 2,
   "id": "592a116c-8c91-460d-9ec0-e9dc31b48474",
   "metadata": {},
   "outputs": [],
   "source": [
    "v2 <- seq(from=0, to=10, by=0.1) #0부터 10까지 0.1 단위로 벡터 생성!"
   ]
  },
  {
   "cell_type": "code",
   "execution_count": 3,
   "id": "6fcb5dd7-3bc2-4e8a-a22a-c1b1fba028c8",
   "metadata": {},
   "outputs": [
    {
     "name": "stdout",
     "output_type": "stream",
     "text": [
      "  [1]  0.0  0.1  0.2  0.3  0.4  0.5  0.6  0.7  0.8  0.9  1.0  1.1  1.2  1.3  1.4\n",
      " [16]  1.5  1.6  1.7  1.8  1.9  2.0  2.1  2.2  2.3  2.4  2.5  2.6  2.7  2.8  2.9\n",
      " [31]  3.0  3.1  3.2  3.3  3.4  3.5  3.6  3.7  3.8  3.9  4.0  4.1  4.2  4.3  4.4\n",
      " [46]  4.5  4.6  4.7  4.8  4.9  5.0  5.1  5.2  5.3  5.4  5.5  5.6  5.7  5.8  5.9\n",
      " [61]  6.0  6.1  6.2  6.3  6.4  6.5  6.6  6.7  6.8  6.9  7.0  7.1  7.2  7.3  7.4\n",
      " [76]  7.5  7.6  7.7  7.8  7.9  8.0  8.1  8.2  8.3  8.4  8.5  8.6  8.7  8.8  8.9\n",
      " [91]  9.0  9.1  9.2  9.3  9.4  9.5  9.6  9.7  9.8  9.9 10.0\n"
     ]
    }
   ],
   "source": [
    "print(v2)"
   ]
  },
  {
   "cell_type": "code",
   "execution_count": 10,
   "id": "0b9413aa-813e-4bb5-bdbb-893dc1530684",
   "metadata": {},
   "outputs": [
    {
     "name": "stdout",
     "output_type": "stream",
     "text": [
      " [1] 0.00000000 0.01785714 0.03571429 0.05357143 0.07142857 0.08928571\n",
      " [7] 0.10714286 0.12500000 0.14285714 0.16071429 0.17857143 0.19642857\n",
      "[13] 0.21428571 0.23214286 0.25000000 0.26785714 0.28571429 0.30357143\n",
      "[19] 0.32142857 0.33928571 0.35714286 0.37500000 0.39285714 0.41071429\n",
      "[25] 0.42857143 0.44642857 0.46428571 0.48214286 0.50000000 0.51785714\n",
      "[31] 0.53571429 0.55357143 0.57142857 0.58928571 0.60714286 0.62500000\n",
      "[37] 0.64285714 0.66071429 0.67857143 0.69642857 0.71428571 0.73214286\n",
      "[43] 0.75000000 0.76785714 0.78571429 0.80357143 0.82142857 0.83928571\n",
      "[49] 0.85714286 0.87500000 0.89285714 0.91071429 0.92857143 0.94642857\n",
      "[55] 0.96428571 0.98214286 1.00000000\n"
     ]
    }
   ],
   "source": [
    "print(seq(from=0, to=1, length.out = 57)) #0부터 1까지 10등분"
   ]
  },
  {
   "cell_type": "markdown",
   "id": "da1c654b-6627-4cc6-b92a-046a4eddf167",
   "metadata": {},
   "source": [
    "#### 방법3 - `:` 이용"
   ]
  },
  {
   "cell_type": "code",
   "execution_count": 6,
   "id": "33c7bdb3-82c7-4358-b0cd-bedf1a8be832",
   "metadata": {},
   "outputs": [
    {
     "data": {
      "text/html": [
       "<style>\n",
       ".list-inline {list-style: none; margin:0; padding: 0}\n",
       ".list-inline>li {display: inline-block}\n",
       ".list-inline>li:not(:last-child)::after {content: \"\\00b7\"; padding: 0 .5ex}\n",
       "</style>\n",
       "<ol class=list-inline><li>0</li><li>1</li><li>2</li><li>3</li><li>4</li><li>5</li><li>6</li><li>7</li><li>8</li><li>9</li><li>10</li><li>11</li><li>12</li><li>13</li><li>14</li><li>15</li><li>16</li><li>17</li><li>18</li><li>19</li><li>20</li><li>21</li><li>22</li><li>23</li><li>24</li><li>25</li><li>26</li><li>27</li><li>28</li><li>29</li><li>30</li><li>31</li><li>32</li><li>33</li><li>34</li><li>35</li><li>36</li><li>37</li><li>38</li><li>39</li><li>40</li><li>41</li><li>42</li><li>43</li><li>44</li><li>45</li><li>46</li><li>47</li><li>48</li><li>49</li><li>50</li><li>51</li><li>52</li><li>53</li><li>54</li><li>55</li><li>56</li></ol>\n"
      ],
      "text/latex": [
       "\\begin{enumerate*}\n",
       "\\item 0\n",
       "\\item 1\n",
       "\\item 2\n",
       "\\item 3\n",
       "\\item 4\n",
       "\\item 5\n",
       "\\item 6\n",
       "\\item 7\n",
       "\\item 8\n",
       "\\item 9\n",
       "\\item 10\n",
       "\\item 11\n",
       "\\item 12\n",
       "\\item 13\n",
       "\\item 14\n",
       "\\item 15\n",
       "\\item 16\n",
       "\\item 17\n",
       "\\item 18\n",
       "\\item 19\n",
       "\\item 20\n",
       "\\item 21\n",
       "\\item 22\n",
       "\\item 23\n",
       "\\item 24\n",
       "\\item 25\n",
       "\\item 26\n",
       "\\item 27\n",
       "\\item 28\n",
       "\\item 29\n",
       "\\item 30\n",
       "\\item 31\n",
       "\\item 32\n",
       "\\item 33\n",
       "\\item 34\n",
       "\\item 35\n",
       "\\item 36\n",
       "\\item 37\n",
       "\\item 38\n",
       "\\item 39\n",
       "\\item 40\n",
       "\\item 41\n",
       "\\item 42\n",
       "\\item 43\n",
       "\\item 44\n",
       "\\item 45\n",
       "\\item 46\n",
       "\\item 47\n",
       "\\item 48\n",
       "\\item 49\n",
       "\\item 50\n",
       "\\item 51\n",
       "\\item 52\n",
       "\\item 53\n",
       "\\item 54\n",
       "\\item 55\n",
       "\\item 56\n",
       "\\end{enumerate*}\n"
      ],
      "text/markdown": [
       "1. 0\n",
       "2. 1\n",
       "3. 2\n",
       "4. 3\n",
       "5. 4\n",
       "6. 5\n",
       "7. 6\n",
       "8. 7\n",
       "9. 8\n",
       "10. 9\n",
       "11. 10\n",
       "12. 11\n",
       "13. 12\n",
       "14. 13\n",
       "15. 14\n",
       "16. 15\n",
       "17. 16\n",
       "18. 17\n",
       "19. 18\n",
       "20. 19\n",
       "21. 20\n",
       "22. 21\n",
       "23. 22\n",
       "24. 23\n",
       "25. 24\n",
       "26. 25\n",
       "27. 26\n",
       "28. 27\n",
       "29. 28\n",
       "30. 29\n",
       "31. 30\n",
       "32. 31\n",
       "33. 32\n",
       "34. 33\n",
       "35. 34\n",
       "36. 35\n",
       "37. 36\n",
       "38. 37\n",
       "39. 38\n",
       "40. 39\n",
       "41. 40\n",
       "42. 41\n",
       "43. 42\n",
       "44. 43\n",
       "45. 44\n",
       "46. 45\n",
       "47. 46\n",
       "48. 47\n",
       "49. 48\n",
       "50. 49\n",
       "51. 50\n",
       "52. 51\n",
       "53. 52\n",
       "54. 53\n",
       "55. 54\n",
       "56. 55\n",
       "57. 56\n",
       "\n",
       "\n"
      ],
      "text/plain": [
       " [1]  0  1  2  3  4  5  6  7  8  9 10 11 12 13 14 15 16 17 18 19 20 21 22 23 24\n",
       "[26] 25 26 27 28 29 30 31 32 33 34 35 36 37 38 39 40 41 42 43 44 45 46 47 48 49\n",
       "[51] 50 51 52 53 54 55 56"
      ]
     },
     "metadata": {},
     "output_type": "display_data"
    }
   ],
   "source": [
    "0:56"
   ]
  },
  {
   "cell_type": "code",
   "execution_count": 9,
   "id": "bf8f1861-4a39-48cd-be7d-2133a344ba7c",
   "metadata": {},
   "outputs": [
    {
     "data": {
      "text/html": [
       "<style>\n",
       ".list-inline {list-style: none; margin:0; padding: 0}\n",
       ".list-inline>li {display: inline-block}\n",
       ".list-inline>li:not(:last-child)::after {content: \"\\00b7\"; padding: 0 .5ex}\n",
       "</style>\n",
       "<ol class=list-inline><li>0</li><li>0.0178571428571429</li><li>0.0357142857142857</li><li>0.0535714285714286</li><li>0.0714285714285714</li><li>0.0892857142857143</li><li>0.107142857142857</li><li>0.125</li><li>0.142857142857143</li><li>0.160714285714286</li><li>0.178571428571429</li><li>0.196428571428571</li><li>0.214285714285714</li><li>0.232142857142857</li><li>0.25</li><li>0.267857142857143</li><li>0.285714285714286</li><li>0.303571428571429</li><li>0.321428571428571</li><li>0.339285714285714</li><li>0.357142857142857</li><li>0.375</li><li>0.392857142857143</li><li>0.410714285714286</li><li>0.428571428571429</li><li>0.446428571428571</li><li>0.464285714285714</li><li>0.482142857142857</li><li>0.5</li><li>0.517857142857143</li><li>0.535714285714286</li><li>0.553571428571429</li><li>0.571428571428571</li><li>0.589285714285714</li><li>0.607142857142857</li><li>0.625</li><li>0.642857142857143</li><li>0.660714285714286</li><li>0.678571428571429</li><li>0.696428571428571</li><li>0.714285714285714</li><li>0.732142857142857</li><li>0.75</li><li>0.767857142857143</li><li>0.785714285714286</li><li>0.803571428571429</li><li>0.821428571428571</li><li>0.839285714285714</li><li>0.857142857142857</li><li>0.875</li><li>0.892857142857143</li><li>0.910714285714286</li><li>0.928571428571429</li><li>0.946428571428571</li><li>0.964285714285714</li><li>0.982142857142857</li><li>1</li></ol>\n"
      ],
      "text/latex": [
       "\\begin{enumerate*}\n",
       "\\item 0\n",
       "\\item 0.0178571428571429\n",
       "\\item 0.0357142857142857\n",
       "\\item 0.0535714285714286\n",
       "\\item 0.0714285714285714\n",
       "\\item 0.0892857142857143\n",
       "\\item 0.107142857142857\n",
       "\\item 0.125\n",
       "\\item 0.142857142857143\n",
       "\\item 0.160714285714286\n",
       "\\item 0.178571428571429\n",
       "\\item 0.196428571428571\n",
       "\\item 0.214285714285714\n",
       "\\item 0.232142857142857\n",
       "\\item 0.25\n",
       "\\item 0.267857142857143\n",
       "\\item 0.285714285714286\n",
       "\\item 0.303571428571429\n",
       "\\item 0.321428571428571\n",
       "\\item 0.339285714285714\n",
       "\\item 0.357142857142857\n",
       "\\item 0.375\n",
       "\\item 0.392857142857143\n",
       "\\item 0.410714285714286\n",
       "\\item 0.428571428571429\n",
       "\\item 0.446428571428571\n",
       "\\item 0.464285714285714\n",
       "\\item 0.482142857142857\n",
       "\\item 0.5\n",
       "\\item 0.517857142857143\n",
       "\\item 0.535714285714286\n",
       "\\item 0.553571428571429\n",
       "\\item 0.571428571428571\n",
       "\\item 0.589285714285714\n",
       "\\item 0.607142857142857\n",
       "\\item 0.625\n",
       "\\item 0.642857142857143\n",
       "\\item 0.660714285714286\n",
       "\\item 0.678571428571429\n",
       "\\item 0.696428571428571\n",
       "\\item 0.714285714285714\n",
       "\\item 0.732142857142857\n",
       "\\item 0.75\n",
       "\\item 0.767857142857143\n",
       "\\item 0.785714285714286\n",
       "\\item 0.803571428571429\n",
       "\\item 0.821428571428571\n",
       "\\item 0.839285714285714\n",
       "\\item 0.857142857142857\n",
       "\\item 0.875\n",
       "\\item 0.892857142857143\n",
       "\\item 0.910714285714286\n",
       "\\item 0.928571428571429\n",
       "\\item 0.946428571428571\n",
       "\\item 0.964285714285714\n",
       "\\item 0.982142857142857\n",
       "\\item 1\n",
       "\\end{enumerate*}\n"
      ],
      "text/markdown": [
       "1. 0\n",
       "2. 0.0178571428571429\n",
       "3. 0.0357142857142857\n",
       "4. 0.0535714285714286\n",
       "5. 0.0714285714285714\n",
       "6. 0.0892857142857143\n",
       "7. 0.107142857142857\n",
       "8. 0.125\n",
       "9. 0.142857142857143\n",
       "10. 0.160714285714286\n",
       "11. 0.178571428571429\n",
       "12. 0.196428571428571\n",
       "13. 0.214285714285714\n",
       "14. 0.232142857142857\n",
       "15. 0.25\n",
       "16. 0.267857142857143\n",
       "17. 0.285714285714286\n",
       "18. 0.303571428571429\n",
       "19. 0.321428571428571\n",
       "20. 0.339285714285714\n",
       "21. 0.357142857142857\n",
       "22. 0.375\n",
       "23. 0.392857142857143\n",
       "24. 0.410714285714286\n",
       "25. 0.428571428571429\n",
       "26. 0.446428571428571\n",
       "27. 0.464285714285714\n",
       "28. 0.482142857142857\n",
       "29. 0.5\n",
       "30. 0.517857142857143\n",
       "31. 0.535714285714286\n",
       "32. 0.553571428571429\n",
       "33. 0.571428571428571\n",
       "34. 0.589285714285714\n",
       "35. 0.607142857142857\n",
       "36. 0.625\n",
       "37. 0.642857142857143\n",
       "38. 0.660714285714286\n",
       "39. 0.678571428571429\n",
       "40. 0.696428571428571\n",
       "41. 0.714285714285714\n",
       "42. 0.732142857142857\n",
       "43. 0.75\n",
       "44. 0.767857142857143\n",
       "45. 0.785714285714286\n",
       "46. 0.803571428571429\n",
       "47. 0.821428571428571\n",
       "48. 0.839285714285714\n",
       "49. 0.857142857142857\n",
       "50. 0.875\n",
       "51. 0.892857142857143\n",
       "52. 0.910714285714286\n",
       "53. 0.928571428571429\n",
       "54. 0.946428571428571\n",
       "55. 0.964285714285714\n",
       "56. 0.982142857142857\n",
       "57. 1\n",
       "\n",
       "\n"
      ],
      "text/plain": [
       " [1] 0.00000000 0.01785714 0.03571429 0.05357143 0.07142857 0.08928571\n",
       " [7] 0.10714286 0.12500000 0.14285714 0.16071429 0.17857143 0.19642857\n",
       "[13] 0.21428571 0.23214286 0.25000000 0.26785714 0.28571429 0.30357143\n",
       "[19] 0.32142857 0.33928571 0.35714286 0.37500000 0.39285714 0.41071429\n",
       "[25] 0.42857143 0.44642857 0.46428571 0.48214286 0.50000000 0.51785714\n",
       "[31] 0.53571429 0.55357143 0.57142857 0.58928571 0.60714286 0.62500000\n",
       "[37] 0.64285714 0.66071429 0.67857143 0.69642857 0.71428571 0.73214286\n",
       "[43] 0.75000000 0.76785714 0.78571429 0.80357143 0.82142857 0.83928571\n",
       "[49] 0.85714286 0.87500000 0.89285714 0.91071429 0.92857143 0.94642857\n",
       "[55] 0.96428571 0.98214286 1.00000000"
      ]
     },
     "metadata": {},
     "output_type": "display_data"
    }
   ],
   "source": [
    "0:56 / 56"
   ]
  },
  {
   "cell_type": "markdown",
   "id": "88802a83-af35-45d4-97d9-f21472f5cb51",
   "metadata": {},
   "source": [
    "#### 방법4 - `rep` 이용"
   ]
  },
  {
   "cell_type": "code",
   "execution_count": 11,
   "id": "16f84506-6df9-4f29-8851-b4b1ffe3a86c",
   "metadata": {},
   "outputs": [
    {
     "data": {
      "text/html": [
       "<style>\n",
       ".list-inline {list-style: none; margin:0; padding: 0}\n",
       ".list-inline>li {display: inline-block}\n",
       ".list-inline>li:not(:last-child)::after {content: \"\\00b7\"; padding: 0 .5ex}\n",
       "</style>\n",
       "<ol class=list-inline><li>0</li><li>0</li><li>0</li><li>0</li><li>0</li><li>0</li><li>0</li><li>0</li><li>0</li><li>0</li><li>0</li><li>0</li><li>0</li><li>0</li><li>0</li><li>0</li><li>0</li><li>0</li><li>0</li><li>0</li><li>0</li><li>0</li></ol>\n"
      ],
      "text/latex": [
       "\\begin{enumerate*}\n",
       "\\item 0\n",
       "\\item 0\n",
       "\\item 0\n",
       "\\item 0\n",
       "\\item 0\n",
       "\\item 0\n",
       "\\item 0\n",
       "\\item 0\n",
       "\\item 0\n",
       "\\item 0\n",
       "\\item 0\n",
       "\\item 0\n",
       "\\item 0\n",
       "\\item 0\n",
       "\\item 0\n",
       "\\item 0\n",
       "\\item 0\n",
       "\\item 0\n",
       "\\item 0\n",
       "\\item 0\n",
       "\\item 0\n",
       "\\item 0\n",
       "\\end{enumerate*}\n"
      ],
      "text/markdown": [
       "1. 0\n",
       "2. 0\n",
       "3. 0\n",
       "4. 0\n",
       "5. 0\n",
       "6. 0\n",
       "7. 0\n",
       "8. 0\n",
       "9. 0\n",
       "10. 0\n",
       "11. 0\n",
       "12. 0\n",
       "13. 0\n",
       "14. 0\n",
       "15. 0\n",
       "16. 0\n",
       "17. 0\n",
       "18. 0\n",
       "19. 0\n",
       "20. 0\n",
       "21. 0\n",
       "22. 0\n",
       "\n",
       "\n"
      ],
      "text/plain": [
       " [1] 0 0 0 0 0 0 0 0 0 0 0 0 0 0 0 0 0 0 0 0 0 0"
      ]
     },
     "metadata": {},
     "output_type": "display_data"
    }
   ],
   "source": [
    "rep(0,22) #0을 22번 반복"
   ]
  },
  {
   "cell_type": "code",
   "execution_count": 12,
   "id": "bafbeeb8-f8cc-4cfb-a331-232a1cd23e1e",
   "metadata": {},
   "outputs": [
    {
     "data": {
      "text/html": [
       "<style>\n",
       ".list-inline {list-style: none; margin:0; padding: 0}\n",
       ".list-inline>li {display: inline-block}\n",
       ".list-inline>li:not(:last-child)::after {content: \"\\00b7\"; padding: 0 .5ex}\n",
       "</style>\n",
       "<ol class=list-inline><li>4</li><li>4</li><li>4</li><li>4</li><li>4</li><li>4</li><li>4</li><li>4</li><li>4</li><li>4</li><li>4</li><li>4</li></ol>\n"
      ],
      "text/latex": [
       "\\begin{enumerate*}\n",
       "\\item 4\n",
       "\\item 4\n",
       "\\item 4\n",
       "\\item 4\n",
       "\\item 4\n",
       "\\item 4\n",
       "\\item 4\n",
       "\\item 4\n",
       "\\item 4\n",
       "\\item 4\n",
       "\\item 4\n",
       "\\item 4\n",
       "\\end{enumerate*}\n"
      ],
      "text/markdown": [
       "1. 4\n",
       "2. 4\n",
       "3. 4\n",
       "4. 4\n",
       "5. 4\n",
       "6. 4\n",
       "7. 4\n",
       "8. 4\n",
       "9. 4\n",
       "10. 4\n",
       "11. 4\n",
       "12. 4\n",
       "\n",
       "\n"
      ],
      "text/plain": [
       " [1] 4 4 4 4 4 4 4 4 4 4 4 4"
      ]
     },
     "metadata": {},
     "output_type": "display_data"
    }
   ],
   "source": [
    "rep(4,12) #4를 12번 반복"
   ]
  },
  {
   "cell_type": "code",
   "execution_count": 14,
   "id": "9c0fcf09-2457-4aea-9aa9-7d2c601e719a",
   "metadata": {},
   "outputs": [
    {
     "name": "stdout",
     "output_type": "stream",
     "text": [
      " [1] 5 5 5 5 5 5 5 5 5 5 5 5 5 5 5 5 5 5 5 5 5 5 5 5 5 5 5 5 5 5 5 5 5 5 5 5 5 5\n",
      "[39] 5 5 5 5 5 5 5 5 5 5 5 5 5 5 5 5 5 5 5 5 5 5 5 5 5 5 5 5 5 5 5 5 5 5 5 5 5 5\n",
      "[77] 5\n"
     ]
    }
   ],
   "source": [
    "print(rep(5, 77))"
   ]
  },
  {
   "cell_type": "markdown",
   "id": "316dfa80-08ed-438d-83cc-4f1b802de959",
   "metadata": {},
   "source": [
    "### 함수를 사용하는 방법"
   ]
  },
  {
   "cell_type": "markdown",
   "id": "bf7f8b76-3035-494b-be9a-4adc36f3ec6b",
   "metadata": {},
   "source": [
    "#### `-` 기본 구조"
   ]
  },
  {
   "cell_type": "markdown",
   "id": "3882253b-c03c-4f89-bd27-7c8b7d2d1ee4",
   "metadata": {},
   "source": [
    "```r\n",
    "함수 이름 <- function(입력){\n",
    "    함수의 기능\n",
    "    return 출력\n",
    "    }\n",
    "```"
   ]
  },
  {
   "cell_type": "markdown",
   "id": "d8542e13-f8ac-481c-a488-46bd2b5343ac",
   "metadata": {},
   "source": [
    "#### `-` 예시"
   ]
  },
  {
   "cell_type": "code",
   "execution_count": 3,
   "id": "bc8d308b-08ed-4118-b58b-40e796db08bc",
   "metadata": {},
   "outputs": [],
   "source": [
    "f <- function(d){\n",
    "    y=2^(-0.25*d)\n",
    "    y\n",
    "}"
   ]
  },
  {
   "cell_type": "code",
   "execution_count": 5,
   "id": "8b77c466-dcd4-4b78-875b-877415e6350c",
   "metadata": {},
   "outputs": [
    {
     "data": {
      "text/html": [
       "0.25"
      ],
      "text/latex": [
       "0.25"
      ],
      "text/markdown": [
       "0.25"
      ],
      "text/plain": [
       "[1] 0.25"
      ]
     },
     "metadata": {},
     "output_type": "display_data"
    }
   ],
   "source": [
    "f(8)"
   ]
  },
  {
   "cell_type": "code",
   "execution_count": null,
   "id": "8bed6521-4611-426c-920b-2e695fb4b332",
   "metadata": {},
   "outputs": [],
   "source": []
  }
 ],
 "metadata": {
  "kernelspec": {
   "display_name": "R",
   "language": "R",
   "name": "ir"
  },
  "language_info": {
   "codemirror_mode": "r",
   "file_extension": ".r",
   "mimetype": "text/x-r-source",
   "name": "R",
   "pygments_lexer": "r",
   "version": "4.0.5"
  }
 },
 "nbformat": 4,
 "nbformat_minor": 5
}
