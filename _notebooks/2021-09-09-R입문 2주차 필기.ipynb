{
 "cells": [
  {
   "cell_type": "markdown",
   "id": "2b311539-9ce3-4386-a41e-a30278445d82",
   "metadata": {},
   "source": [
    "# \"R - 변수, 벡터, 함수\"\n",
    "> \"전북대학교 R입문 2주차 필기\"\n",
    "\n",
    "- toc: true\n",
    "- branch: master\n",
    "- badges: true\n",
    "- comments: true\n",
    "- author: Kim Jeewoo\n",
    "- categories: [Introduction to R]\n",
    "- image: images/r_logo.PNG"
   ]
  },
  {
   "cell_type": "markdown",
   "id": "333cf3b5-4e2e-444f-8128-df2cdee5a422",
   "metadata": {},
   "source": [
    "### 변수에 어떠한 값을 넣는 방법"
   ]
  },
  {
   "cell_type": "markdown",
   "id": "1c4d42e1-efc8-493c-8b99-98b52cf24e0e",
   "metadata": {},
   "source": [
    "#### 방법1 :  `=` 이용"
   ]
  },
  {
   "cell_type": "code",
   "execution_count": 1,
   "id": "7fd72f0b-fa90-4b5d-b8e3-0ddd4e826032",
   "metadata": {},
   "outputs": [],
   "source": [
    "a = 1"
   ]
  },
  {
   "cell_type": "code",
   "execution_count": 2,
   "id": "d41c835d-a5a2-48a4-9722-e74ba25b811d",
   "metadata": {},
   "outputs": [
    {
     "name": "stdout",
     "output_type": "stream",
     "text": [
      "[1] 1\n"
     ]
    }
   ],
   "source": [
    "print(a)"
   ]
  },
  {
   "cell_type": "markdown",
   "id": "0cda92ba-96e5-4156-b597-e9dc91138327",
   "metadata": {},
   "source": [
    "#### 방법2 : `<-`이용"
   ]
  },
  {
   "cell_type": "code",
   "execution_count": 3,
   "id": "e52a275f-eeb3-4a8d-a46f-dcd363298f84",
   "metadata": {},
   "outputs": [],
   "source": [
    "b <- 3"
   ]
  },
  {
   "cell_type": "code",
   "execution_count": 4,
   "id": "095632ae-193f-4291-b6ff-2f1476ed84e9",
   "metadata": {},
   "outputs": [
    {
     "name": "stdout",
     "output_type": "stream",
     "text": [
      "[1] 3\n"
     ]
    }
   ],
   "source": [
    "print(b)"
   ]
  },
  {
   "cell_type": "markdown",
   "id": "f7db748e-24c5-4138-a684-78219b1cd11f",
   "metadata": {},
   "source": [
    "#### 변수 이름을 설정할 때 주의할 점"
   ]
  },
  {
   "cell_type": "markdown",
   "id": "722d1011-749f-407c-bcce-818dda4a5d9b",
   "metadata": {
    "tags": []
   },
   "source": [
    "##### `-` 변수 이름은 숫자로만 구성할 수 없다."
   ]
  },
  {
   "cell_type": "code",
   "execution_count": 5,
   "id": "4846b728-32d5-4176-a53c-0c74ad6cdc72",
   "metadata": {},
   "outputs": [
    {
     "ename": "ERROR",
     "evalue": "Error in 444 <- 5: 대입에 유효하지 않은 (do_set) 좌변입니다\n",
     "output_type": "error",
     "traceback": [
      "Error in 444 <- 5: 대입에 유효하지 않은 (do_set) 좌변입니다\nTraceback:\n"
     ]
    }
   ],
   "source": [
    "444 <- 5"
   ]
  },
  {
   "cell_type": "markdown",
   "id": "442eea08-751a-4840-a418-99415684f999",
   "metadata": {},
   "source": [
    "##### `-` 변수 이름은 특수문자로 구성할 수 없다."
   ]
  },
  {
   "cell_type": "code",
   "execution_count": 6,
   "id": "cd6509c6-e349-4ed8-a2a0-2aaf01b14f09",
   "metadata": {
    "tags": []
   },
   "outputs": [
    {
     "ename": "ERROR",
     "evalue": "Error in parse(text = x, srcfile = src): <text>:1:1: 예기치 않은 '^'입니다\n1: ^\n    ^\n",
     "output_type": "error",
     "traceback": [
      "Error in parse(text = x, srcfile = src): <text>:1:1: 예기치 않은 '^'입니다\n1: ^\n    ^\nTraceback:\n"
     ]
    }
   ],
   "source": [
    "^^@ < - 4"
   ]
  },
  {
   "cell_type": "markdown",
   "id": "eede5ad2-bde1-40ff-8af1-9372cdd93f62",
   "metadata": {},
   "source": [
    "##### `-` 변수 이름에 띄어쓰기를 사용할 수 없다."
   ]
  },
  {
   "cell_type": "code",
   "execution_count": 7,
   "id": "b206194e-b19c-4409-bc07-077f33f1665d",
   "metadata": {},
   "outputs": [
    {
     "ename": "ERROR",
     "evalue": "Error in parse(text = x, srcfile = src): <text>:1:5: 예상하지 못한 기호(symbol)입니다.\n1: Kim Jeewoo\n        ^\n",
     "output_type": "error",
     "traceback": [
      "Error in parse(text = x, srcfile = src): <text>:1:5: 예상하지 못한 기호(symbol)입니다.\n1: Kim Jeewoo\n        ^\nTraceback:\n"
     ]
    }
   ],
   "source": [
    "Kim Jeewoo <- 4"
   ]
  },
  {
   "cell_type": "markdown",
   "id": "2ac921bf-1435-41a6-aa70-327b90bb4228",
   "metadata": {},
   "source": [
    "##### `-` 띄어쓰기 대신 언더바(_)를 사용하는 것은 가능하다.\n",
    "##### `-` 단, 변수 이름을 언더바로 '시작'할 수 없다."
   ]
  },
  {
   "cell_type": "code",
   "execution_count": 8,
   "id": "d29399e2-7339-44b9-b63e-fea02a2f0881",
   "metadata": {},
   "outputs": [],
   "source": [
    "Kim_Jeewoo <- 4\n",
    "Kim.Jeewoo <- 5"
   ]
  },
  {
   "cell_type": "markdown",
   "id": "59f713b7-18f1-4f56-9c06-bb852f3d2f0a",
   "metadata": {},
   "source": [
    "##### `-` 변수 이름은 숫자로 '시작'할 수 없다."
   ]
  },
  {
   "cell_type": "code",
   "execution_count": 9,
   "id": "ffb73f69-b4b8-4e82-85b4-55e3fe5d8ff7",
   "metadata": {},
   "outputs": [
    {
     "ename": "ERROR",
     "evalue": "Error in parse(text = x, srcfile = src): <text>:1:2: 예상하지 못한 기호(symbol)입니다.\n1: 1a\n     ^\n",
     "output_type": "error",
     "traceback": [
      "Error in parse(text = x, srcfile = src): <text>:1:2: 예상하지 못한 기호(symbol)입니다.\n1: 1a\n     ^\nTraceback:\n"
     ]
    }
   ],
   "source": [
    "1a <- 3"
   ]
  },
  {
   "cell_type": "markdown",
   "id": "ac7cdafb-9be7-4a10-b33c-10484413ad1c",
   "metadata": {},
   "source": [
    "##### `-` 이건 가능하다"
   ]
  },
  {
   "cell_type": "code",
   "execution_count": 10,
   "id": "68eab747-65b4-4f60-be10-f8b06c861016",
   "metadata": {},
   "outputs": [],
   "source": [
    "a1 <- 3"
   ]
  },
  {
   "cell_type": "markdown",
   "id": "b0e43ae4-cb8c-4f30-bcae-42530a8c91fc",
   "metadata": {},
   "source": [
    "#### 가능은 하나 권장하지 않는 변수 이름"
   ]
  },
  {
   "cell_type": "code",
   "execution_count": 11,
   "id": "95e10ed4-0b63-4e59-be49-409da7594a6c",
   "metadata": {},
   "outputs": [
    {
     "name": "stdout",
     "output_type": "stream",
     "text": [
      "[1] 3.141593\n"
     ]
    }
   ],
   "source": [
    "print(pi)"
   ]
  },
  {
   "cell_type": "code",
   "execution_count": 12,
   "id": "67141221-1e31-4acf-a32f-cb41ea14c1a8",
   "metadata": {},
   "outputs": [],
   "source": [
    "pi<-333"
   ]
  },
  {
   "cell_type": "code",
   "execution_count": 13,
   "id": "593172c8-3b0b-4aff-ac39-49748991f571",
   "metadata": {},
   "outputs": [
    {
     "name": "stdout",
     "output_type": "stream",
     "text": [
      "[1] 333\n"
     ]
    }
   ],
   "source": [
    "print(pi)"
   ]
  },
  {
   "cell_type": "markdown",
   "id": "46aee924-32a0-4b35-94ce-5616aaf3e3d8",
   "metadata": {},
   "source": [
    "원래 내장된 $\\pi$가 날아가버렸다..."
   ]
  },
  {
   "cell_type": "markdown",
   "id": "2648f975-6bae-4fd4-8a43-083e4e021ca8",
   "metadata": {},
   "source": [
    "#### 변수 생성시 팁"
   ]
  },
  {
   "cell_type": "markdown",
   "id": "87e48586-c69e-4644-98c1-77c43bb1059e",
   "metadata": {},
   "source": [
    "##### `-` 변수를 축약할 때 모음을 제외하면 좋다."
   ]
  },
  {
   "cell_type": "markdown",
   "id": "b70659a4-83b6-4b26-8ec7-ba9f163238c2",
   "metadata": {},
   "source": [
    "- result -> rslt\n",
    "- residual -> rsdl"
   ]
  },
  {
   "cell_type": "markdown",
   "id": "bfde1479-38c3-4594-9755-d811b930c7e3",
   "metadata": {},
   "source": [
    "##### `-` 임시로 변수명을 사용해야 할 경우 변수 이름 끝에 언더바를 붙인다."
   ]
  },
  {
   "cell_type": "markdown",
   "id": "1da5727a-b575-4e19-8938-b453d2996573",
   "metadata": {},
   "source": [
    "- x_, y_, rslt_, rsdl"
   ]
  },
  {
   "cell_type": "markdown",
   "id": "2e12d6dd-1d6d-4576-8b70-5d9c1285b4e4",
   "metadata": {},
   "source": [
    "### 벡터를 선언하는 방법"
   ]
  },
  {
   "cell_type": "markdown",
   "id": "ff6df32e-855b-48a9-a3d6-eef3b5fc99cb",
   "metadata": {},
   "source": [
    "#### 방법1 - 직접 입력"
   ]
  },
  {
   "cell_type": "code",
   "execution_count": 14,
   "id": "2b5e9e15-e006-4fae-b6d1-7dcb51ead447",
   "metadata": {},
   "outputs": [],
   "source": [
    "v1 <- c(1, 2, 3, 3, 4, 5, 2)"
   ]
  },
  {
   "cell_type": "code",
   "execution_count": 15,
   "id": "8d0a113e-7187-4d6d-8539-3f38beba511d",
   "metadata": {},
   "outputs": [
    {
     "name": "stdout",
     "output_type": "stream",
     "text": [
      "[1] 1 2 3 3 4 5 2\n"
     ]
    }
   ],
   "source": [
    "print(v1)"
   ]
  },
  {
   "cell_type": "markdown",
   "id": "e0119f4f-7316-473a-8546-b8e76451b258",
   "metadata": {
    "tags": []
   },
   "source": [
    "#### 방법2 - `seq`를 이용"
   ]
  },
  {
   "cell_type": "code",
   "execution_count": null,
   "id": "b69e5f94-b1ce-4457-8622-78b93c206f9b",
   "metadata": {},
   "outputs": [],
   "source": [
    "?seq #실행하면 seq의 사용법에 대해 알려준다."
   ]
  },
  {
   "cell_type": "code",
   "execution_count": 16,
   "id": "592a116c-8c91-460d-9ec0-e9dc31b48474",
   "metadata": {},
   "outputs": [],
   "source": [
    "v2 <- seq(from=0, to=10, by=0.1) #0부터 10까지 0.1 단위로 벡터 생성!"
   ]
  },
  {
   "cell_type": "code",
   "execution_count": 17,
   "id": "6fcb5dd7-3bc2-4e8a-a22a-c1b1fba028c8",
   "metadata": {},
   "outputs": [
    {
     "name": "stdout",
     "output_type": "stream",
     "text": [
      "  [1]  0.0  0.1  0.2  0.3  0.4  0.5  0.6  0.7  0.8  0.9  1.0  1.1  1.2  1.3  1.4\n",
      " [16]  1.5  1.6  1.7  1.8  1.9  2.0  2.1  2.2  2.3  2.4  2.5  2.6  2.7  2.8  2.9\n",
      " [31]  3.0  3.1  3.2  3.3  3.4  3.5  3.6  3.7  3.8  3.9  4.0  4.1  4.2  4.3  4.4\n",
      " [46]  4.5  4.6  4.7  4.8  4.9  5.0  5.1  5.2  5.3  5.4  5.5  5.6  5.7  5.8  5.9\n",
      " [61]  6.0  6.1  6.2  6.3  6.4  6.5  6.6  6.7  6.8  6.9  7.0  7.1  7.2  7.3  7.4\n",
      " [76]  7.5  7.6  7.7  7.8  7.9  8.0  8.1  8.2  8.3  8.4  8.5  8.6  8.7  8.8  8.9\n",
      " [91]  9.0  9.1  9.2  9.3  9.4  9.5  9.6  9.7  9.8  9.9 10.0\n"
     ]
    }
   ],
   "source": [
    "print(v2)"
   ]
  },
  {
   "cell_type": "code",
   "execution_count": 18,
   "id": "0b9413aa-813e-4bb5-bdbb-893dc1530684",
   "metadata": {},
   "outputs": [
    {
     "name": "stdout",
     "output_type": "stream",
     "text": [
      " [1] 0.00000000 0.01785714 0.03571429 0.05357143 0.07142857 0.08928571\n",
      " [7] 0.10714286 0.12500000 0.14285714 0.16071429 0.17857143 0.19642857\n",
      "[13] 0.21428571 0.23214286 0.25000000 0.26785714 0.28571429 0.30357143\n",
      "[19] 0.32142857 0.33928571 0.35714286 0.37500000 0.39285714 0.41071429\n",
      "[25] 0.42857143 0.44642857 0.46428571 0.48214286 0.50000000 0.51785714\n",
      "[31] 0.53571429 0.55357143 0.57142857 0.58928571 0.60714286 0.62500000\n",
      "[37] 0.64285714 0.66071429 0.67857143 0.69642857 0.71428571 0.73214286\n",
      "[43] 0.75000000 0.76785714 0.78571429 0.80357143 0.82142857 0.83928571\n",
      "[49] 0.85714286 0.87500000 0.89285714 0.91071429 0.92857143 0.94642857\n",
      "[55] 0.96428571 0.98214286 1.00000000\n"
     ]
    }
   ],
   "source": [
    "print(seq(from=0, to=1, length.out = 57)) #0부터 1까지 10등분"
   ]
  },
  {
   "cell_type": "markdown",
   "id": "da1c654b-6627-4cc6-b92a-046a4eddf167",
   "metadata": {},
   "source": [
    "#### 방법3 - `:` 이용"
   ]
  },
  {
   "cell_type": "code",
   "execution_count": 19,
   "id": "33c7bdb3-82c7-4358-b0cd-bedf1a8be832",
   "metadata": {},
   "outputs": [
    {
     "name": "stdout",
     "output_type": "stream",
     "text": [
      " [1]  0  1  2  3  4  5  6  7  8  9 10 11 12 13 14 15 16 17 18 19 20 21 22 23 24\n",
      "[26] 25 26 27 28 29 30 31 32 33 34 35 36 37 38 39 40 41 42 43 44 45 46 47 48 49\n",
      "[51] 50 51 52 53 54 55 56\n"
     ]
    }
   ],
   "source": [
    "print(0:56)"
   ]
  },
  {
   "cell_type": "code",
   "execution_count": 20,
   "id": "bf8f1861-4a39-48cd-be7d-2133a344ba7c",
   "metadata": {},
   "outputs": [
    {
     "name": "stdout",
     "output_type": "stream",
     "text": [
      " [1] 0.00000000 0.01785714 0.03571429 0.05357143 0.07142857 0.08928571\n",
      " [7] 0.10714286 0.12500000 0.14285714 0.16071429 0.17857143 0.19642857\n",
      "[13] 0.21428571 0.23214286 0.25000000 0.26785714 0.28571429 0.30357143\n",
      "[19] 0.32142857 0.33928571 0.35714286 0.37500000 0.39285714 0.41071429\n",
      "[25] 0.42857143 0.44642857 0.46428571 0.48214286 0.50000000 0.51785714\n",
      "[31] 0.53571429 0.55357143 0.57142857 0.58928571 0.60714286 0.62500000\n",
      "[37] 0.64285714 0.66071429 0.67857143 0.69642857 0.71428571 0.73214286\n",
      "[43] 0.75000000 0.76785714 0.78571429 0.80357143 0.82142857 0.83928571\n",
      "[49] 0.85714286 0.87500000 0.89285714 0.91071429 0.92857143 0.94642857\n",
      "[55] 0.96428571 0.98214286 1.00000000\n"
     ]
    }
   ],
   "source": [
    "print(0:56 / 56)"
   ]
  },
  {
   "cell_type": "markdown",
   "id": "88802a83-af35-45d4-97d9-f21472f5cb51",
   "metadata": {},
   "source": [
    "#### 방법4 - `rep` 이용"
   ]
  },
  {
   "cell_type": "code",
   "execution_count": 21,
   "id": "16f84506-6df9-4f29-8851-b4b1ffe3a86c",
   "metadata": {},
   "outputs": [
    {
     "name": "stdout",
     "output_type": "stream",
     "text": [
      " [1] 0 0 0 0 0 0 0 0 0 0 0 0 0 0 0 0 0 0 0 0 0 0\n"
     ]
    }
   ],
   "source": [
    "print(rep(0,22)) #0을 22번 반복"
   ]
  },
  {
   "cell_type": "code",
   "execution_count": 22,
   "id": "bafbeeb8-f8cc-4cfb-a331-232a1cd23e1e",
   "metadata": {},
   "outputs": [
    {
     "name": "stdout",
     "output_type": "stream",
     "text": [
      " [1] 4 4 4 4 4 4 4 4 4 4 4 4\n"
     ]
    }
   ],
   "source": [
    "print(rep(4,12)) #4를 12번 반복"
   ]
  },
  {
   "cell_type": "code",
   "execution_count": 23,
   "id": "9c0fcf09-2457-4aea-9aa9-7d2c601e719a",
   "metadata": {},
   "outputs": [
    {
     "name": "stdout",
     "output_type": "stream",
     "text": [
      " [1] 5 5 5 5 5 5 5 5 5 5 5 5 5 5 5 5 5 5 5 5 5 5 5 5 5 5 5 5 5 5 5 5 5 5 5 5 5 5\n",
      "[39] 5 5 5 5 5 5 5 5 5 5 5 5 5 5 5 5 5 5 5 5 5 5 5 5 5 5 5 5 5 5 5 5 5 5 5 5 5 5\n",
      "[77] 5\n"
     ]
    }
   ],
   "source": [
    "print(rep(5, 77))"
   ]
  },
  {
   "cell_type": "markdown",
   "id": "316dfa80-08ed-438d-83cc-4f1b802de959",
   "metadata": {},
   "source": [
    "## 함수를 사용하는 방법"
   ]
  },
  {
   "cell_type": "markdown",
   "id": "bf7f8b76-3035-494b-be9a-4adc36f3ec6b",
   "metadata": {},
   "source": [
    "#### `-` 기본 구조"
   ]
  },
  {
   "cell_type": "markdown",
   "id": "3882253b-c03c-4f89-bd27-7c8b7d2d1ee4",
   "metadata": {},
   "source": [
    "```r\n",
    "함수 이름 <- function(입력){\n",
    "    함수의 기능\n",
    "    return 출력\n",
    "    }\n",
    "```"
   ]
  },
  {
   "cell_type": "markdown",
   "id": "d8542e13-f8ac-481c-a488-46bd2b5343ac",
   "metadata": {},
   "source": [
    "#### `-` 예시"
   ]
  },
  {
   "cell_type": "code",
   "execution_count": 24,
   "id": "bc8d308b-08ed-4118-b58b-40e796db08bc",
   "metadata": {},
   "outputs": [],
   "source": [
    "f <- function(d){\n",
    "    y=2^(-0.25*d)\n",
    "    return(y)\n",
    "}"
   ]
  },
  {
   "cell_type": "code",
   "execution_count": 25,
   "id": "8b77c466-dcd4-4b78-875b-877415e6350c",
   "metadata": {},
   "outputs": [
    {
     "data": {
      "text/html": [
       "0.25"
      ],
      "text/latex": [
       "0.25"
      ],
      "text/markdown": [
       "0.25"
      ],
      "text/plain": [
       "[1] 0.25"
      ]
     },
     "metadata": {},
     "output_type": "display_data"
    }
   ],
   "source": [
    "f(8)"
   ]
  },
  {
   "cell_type": "markdown",
   "id": "88796510-145b-40b2-9e65-2228c8dca570",
   "metadata": {
    "tags": []
   },
   "source": [
    "#### `-` return을 생략해도 괜찮다."
   ]
  },
  {
   "cell_type": "code",
   "execution_count": 26,
   "id": "7773ef8b-d1e8-4902-9250-f9cc5098d285",
   "metadata": {},
   "outputs": [],
   "source": [
    "g <- function(d){\n",
    "    y=2^(-0.25*d)\n",
    "    y\n",
    "}"
   ]
  },
  {
   "cell_type": "code",
   "execution_count": 27,
   "id": "df96f477-62f5-4598-9887-b56784cc4ed5",
   "metadata": {},
   "outputs": [
    {
     "data": {
      "text/html": [
       "0.25"
      ],
      "text/latex": [
       "0.25"
      ],
      "text/markdown": [
       "0.25"
      ],
      "text/plain": [
       "[1] 0.25"
      ]
     },
     "metadata": {},
     "output_type": "display_data"
    }
   ],
   "source": [
    "g(8)"
   ]
  },
  {
   "cell_type": "markdown",
   "id": "d0043634-8407-416b-8085-3e02f25350c9",
   "metadata": {
    "tags": []
   },
   "source": [
    "## 벡터의 원소를 뽑는 방법"
   ]
  },
  {
   "cell_type": "code",
   "execution_count": 28,
   "id": "604a15f3-20b9-436c-81ce-21e885ca6faa",
   "metadata": {},
   "outputs": [
    {
     "name": "stdout",
     "output_type": "stream",
     "text": [
      "[1]  1  2 -2  4  5 -5  6\n"
     ]
    }
   ],
   "source": [
    "x <- c(1,2,-2,4,5,-5,6)\n",
    "print(x)"
   ]
  },
  {
   "cell_type": "markdown",
   "id": "70f7aec9-4bda-42e9-98c0-e3ad2969712a",
   "metadata": {
    "tags": []
   },
   "source": [
    "### 원소의 번호를 불러서 뽑는 방법"
   ]
  },
  {
   "cell_type": "markdown",
   "id": "840b6a03-a2a4-48ec-ba02-88a49208a193",
   "metadata": {},
   "source": [
    "#### `-` 첫번째 원소를 뽑고싶다."
   ]
  },
  {
   "cell_type": "markdown",
   "id": "a124331f-b643-4d52-9b9b-8ee2012c4c02",
   "metadata": {},
   "source": [
    "파이썬과 다르게 인덱싱은 1부터 시작한다."
   ]
  },
  {
   "cell_type": "code",
   "execution_count": 29,
   "id": "c64ffc23-23a5-41a8-bb25-c5aef725f455",
   "metadata": {},
   "outputs": [
    {
     "name": "stdout",
     "output_type": "stream",
     "text": [
      "[1] 1\n"
     ]
    }
   ],
   "source": [
    "print(x[1])"
   ]
  },
  {
   "cell_type": "markdown",
   "id": "d6d46d15-f10f-4906-a5cf-ffa1df4b83f0",
   "metadata": {},
   "source": [
    "#### `-` 두번째 원소를 뽑고싶다."
   ]
  },
  {
   "cell_type": "code",
   "execution_count": 30,
   "id": "fa274172-4bf9-4464-836d-030a177f18cc",
   "metadata": {},
   "outputs": [
    {
     "name": "stdout",
     "output_type": "stream",
     "text": [
      "[1] -2\n"
     ]
    }
   ],
   "source": [
    "print(x[3])"
   ]
  },
  {
   "cell_type": "markdown",
   "id": "2ca3fdba-25c7-4103-8df3-c0b76e49f762",
   "metadata": {},
   "source": [
    "#### `-` 첫번째부터 세번째까지의 원소를 뽑고싶다."
   ]
  },
  {
   "cell_type": "code",
   "execution_count": 31,
   "id": "dada20fc-7bd4-4be1-a12d-5db6a9d4bb4b",
   "metadata": {},
   "outputs": [
    {
     "name": "stdout",
     "output_type": "stream",
     "text": [
      "[1]  1  2 -2\n"
     ]
    }
   ],
   "source": [
    "print(x[1:3])"
   ]
  },
  {
   "cell_type": "code",
   "execution_count": 32,
   "id": "16e815e7-11c6-4d06-bc40-b4d2cc55df35",
   "metadata": {},
   "outputs": [
    {
     "name": "stdout",
     "output_type": "stream",
     "text": [
      "[1]  1  2 -2\n"
     ]
    }
   ],
   "source": [
    "print(x[c(1,2,3)])"
   ]
  },
  {
   "cell_type": "markdown",
   "id": "d6f02e03-e691-4a3e-ad00-fe5819f73510",
   "metadata": {},
   "source": [
    "#### `-` 2, 5, 6 번째의 원소를 뽑고싶다."
   ]
  },
  {
   "cell_type": "code",
   "execution_count": 33,
   "id": "f85223cd-e0ae-41d5-8442-ae8f4ffcbdf7",
   "metadata": {},
   "outputs": [
    {
     "name": "stdout",
     "output_type": "stream",
     "text": [
      "[1]  2  5 -5\n"
     ]
    }
   ],
   "source": [
    "print(x[c(2, 5, 6)])"
   ]
  },
  {
   "cell_type": "markdown",
   "id": "e46c2a14-d051-49b8-a77b-2c464043200b",
   "metadata": {},
   "source": [
    "#### `-` 3번째 원소를 제외하고 뽑고싶다."
   ]
  },
  {
   "cell_type": "code",
   "execution_count": 34,
   "id": "bee067a4-7b20-43fb-bdab-6b6062c0b006",
   "metadata": {},
   "outputs": [
    {
     "name": "stdout",
     "output_type": "stream",
     "text": [
      "[1]  1  2 -2  4  5 -5  6\n"
     ]
    }
   ],
   "source": [
    "print(x)"
   ]
  },
  {
   "cell_type": "code",
   "execution_count": 35,
   "id": "17a255da-1e26-4ad7-8d04-04ab13d2c309",
   "metadata": {},
   "outputs": [
    {
     "name": "stdout",
     "output_type": "stream",
     "text": [
      "[1]  1  2  4  5 -5  6\n"
     ]
    }
   ],
   "source": [
    "print(x[-3])"
   ]
  },
  {
   "cell_type": "markdown",
   "id": "8e09e2f5-8070-4b92-aecf-2162739958fb",
   "metadata": {},
   "source": [
    "#### `-` 3, 4번째의 원소를 제외하고 뽑고싶다."
   ]
  },
  {
   "cell_type": "code",
   "execution_count": 36,
   "id": "f1876ae7-5ded-46d0-a03d-7e381a909be8",
   "metadata": {},
   "outputs": [
    {
     "name": "stdout",
     "output_type": "stream",
     "text": [
      "[1]  1  2  5 -5  6\n"
     ]
    }
   ],
   "source": [
    "print(x[-c(3,4)])"
   ]
  },
  {
   "cell_type": "code",
   "execution_count": 37,
   "id": "25fc407d-06a7-4017-8e73-a6a4e3e9c6ea",
   "metadata": {},
   "outputs": [
    {
     "name": "stdout",
     "output_type": "stream",
     "text": [
      "[1]  1  2  5 -5  6\n"
     ]
    }
   ],
   "source": [
    "print(x[-(3:4)])"
   ]
  },
  {
   "cell_type": "markdown",
   "id": "c31eb607-a469-4d63-9d51-c4beefa0f69a",
   "metadata": {},
   "source": [
    "### 어떠한 조건을 주고, 그 조건에 만족하는 원소 (혹은 만족하지 않는 원소)를 뽑는 방법"
   ]
  },
  {
   "cell_type": "markdown",
   "id": "183c163e-e557-45e2-80df-6f667d8bdd7f",
   "metadata": {},
   "source": [
    "#### `-` 양수인 원소를 뽑고싶다."
   ]
  },
  {
   "cell_type": "code",
   "execution_count": 38,
   "id": "fa95f2be-84a3-4a53-93fa-17d2885eb5d3",
   "metadata": {},
   "outputs": [
    {
     "name": "stdout",
     "output_type": "stream",
     "text": [
      "[1]  1  2 -2  4  5 -5  6\n"
     ]
    }
   ],
   "source": [
    "print(x)"
   ]
  },
  {
   "cell_type": "markdown",
   "id": "dda52e76-ade3-4918-adc7-56a7624b7422",
   "metadata": {},
   "source": [
    "(1) 양수인지 스스로 판단\n",
    "\n",
    "(2) 양수라면 나간다."
   ]
  },
  {
   "cell_type": "code",
   "execution_count": 39,
   "id": "9e46fba5-0a83-4ba2-9761-940997bf07d1",
   "metadata": {},
   "outputs": [
    {
     "name": "stdout",
     "output_type": "stream",
     "text": [
      "[1]  TRUE  TRUE FALSE  TRUE  TRUE FALSE  TRUE\n"
     ]
    }
   ],
   "source": [
    "print(x>0)"
   ]
  },
  {
   "cell_type": "markdown",
   "id": "af425101-9b21-491d-8cc1-3a626c866312",
   "metadata": {},
   "source": [
    "x>0의 결과는 TRUE, FALSE가 포함된 벡터"
   ]
  },
  {
   "cell_type": "code",
   "execution_count": 40,
   "id": "02ed1fe7-ac39-4bc3-a8cd-3fcc84d3e684",
   "metadata": {},
   "outputs": [
    {
     "name": "stdout",
     "output_type": "stream",
     "text": [
      "[1] 1 2 4 5 6\n"
     ]
    }
   ],
   "source": [
    "print(x[x>0])"
   ]
  },
  {
   "cell_type": "markdown",
   "id": "99becd5f-ef58-4403-920a-44e35856a1f1",
   "metadata": {},
   "source": [
    "#### `-` 3이상인 원소를 뽑고싶다."
   ]
  },
  {
   "cell_type": "code",
   "execution_count": 41,
   "id": "84fec3be-7125-4eb7-883a-ba3a44a0967a",
   "metadata": {},
   "outputs": [
    {
     "name": "stdout",
     "output_type": "stream",
     "text": [
      "[1] FALSE FALSE FALSE  TRUE  TRUE FALSE  TRUE\n"
     ]
    }
   ],
   "source": [
    "print(x>3)"
   ]
  },
  {
   "cell_type": "code",
   "execution_count": 42,
   "id": "70d6ae72-2721-4e4b-b1d7-3c94cbbbd7a5",
   "metadata": {},
   "outputs": [
    {
     "name": "stdout",
     "output_type": "stream",
     "text": [
      "[1] 4 5 6\n"
     ]
    }
   ],
   "source": [
    "print(x[x>3])"
   ]
  },
  {
   "cell_type": "markdown",
   "id": "4d2c92cb-06e5-4d02-aabb-6c15ace9e77e",
   "metadata": {},
   "source": [
    "#### `-` TRUE 들여다보기"
   ]
  },
  {
   "cell_type": "code",
   "execution_count": 43,
   "id": "df49ecc4-55bf-41d3-ba2f-2d52103b9f4b",
   "metadata": {},
   "outputs": [
    {
     "name": "stdout",
     "output_type": "stream",
     "text": [
      "[1]  1  2 -2  4  5 -5  6\n"
     ]
    }
   ],
   "source": [
    "print(x)"
   ]
  },
  {
   "cell_type": "code",
   "execution_count": 44,
   "id": "568f7c70-71e9-418d-b11e-85feb8ce06ec",
   "metadata": {},
   "outputs": [],
   "source": [
    "array_ = c(TRUE, FALSE, TRUE, FALSE, FALSE, FALSE, FALSE)"
   ]
  },
  {
   "cell_type": "code",
   "execution_count": 45,
   "id": "4158e155-fdee-4600-84bc-56a403698b6f",
   "metadata": {},
   "outputs": [
    {
     "name": "stdout",
     "output_type": "stream",
     "text": [
      "[1]  TRUE FALSE  TRUE FALSE FALSE FALSE FALSE\n"
     ]
    }
   ],
   "source": [
    "print(array_)"
   ]
  },
  {
   "cell_type": "code",
   "execution_count": 46,
   "id": "176265a4-62ef-461d-851e-4b4836e0ece3",
   "metadata": {},
   "outputs": [
    {
     "name": "stdout",
     "output_type": "stream",
     "text": [
      "[1]  1 -2\n"
     ]
    }
   ],
   "source": [
    "print(x[array_])"
   ]
  },
  {
   "cell_type": "markdown",
   "id": "e2be1f2c-9f36-4f5a-827f-03267f911272",
   "metadata": {},
   "source": [
    "#### `-` 값이 -2인 원소를 뽑고싶다."
   ]
  },
  {
   "cell_type": "code",
   "execution_count": 47,
   "id": "f3102aa4-1f2a-4ba6-b983-a788b2e5b742",
   "metadata": {},
   "outputs": [
    {
     "name": "stdout",
     "output_type": "stream",
     "text": [
      "[1]  1  2 -2  4  5 -5  6\n"
     ]
    }
   ],
   "source": [
    "print(x)"
   ]
  },
  {
   "cell_type": "code",
   "execution_count": 48,
   "id": "e1e53b09-efec-441a-9b53-badc575ce9a8",
   "metadata": {},
   "outputs": [
    {
     "name": "stdout",
     "output_type": "stream",
     "text": [
      "[1] -2\n"
     ]
    }
   ],
   "source": [
    "print(x[x == -2])"
   ]
  },
  {
   "cell_type": "markdown",
   "id": "9786539f-ec1d-4cbc-9d8e-035653826b98",
   "metadata": {},
   "source": [
    "#### `-` 응용예제 1"
   ]
  },
  {
   "cell_type": "code",
   "execution_count": 49,
   "id": "a2501419-f420-4871-afec-25939b4b67a3",
   "metadata": {},
   "outputs": [],
   "source": [
    "x <- c(1,2,3,4,5)\n",
    "y <- x^2"
   ]
  },
  {
   "cell_type": "code",
   "execution_count": 50,
   "id": "759c6f55-d306-468e-8f8c-e2763e21eeb4",
   "metadata": {},
   "outputs": [
    {
     "name": "stdout",
     "output_type": "stream",
     "text": [
      "[1] 1 2 3 4 5\n"
     ]
    }
   ],
   "source": [
    "print(x)"
   ]
  },
  {
   "cell_type": "code",
   "execution_count": 51,
   "id": "fd06f8ea-034a-4987-afa8-a41d4c530959",
   "metadata": {},
   "outputs": [
    {
     "name": "stdout",
     "output_type": "stream",
     "text": [
      "[1]  1  4  9 16 25\n"
     ]
    }
   ],
   "source": [
    "print(y)"
   ]
  },
  {
   "cell_type": "markdown",
   "id": "b26b2b8a-3bf8-49a6-9d4b-6319f2771104",
   "metadata": {},
   "source": [
    "- $y=9$가 되도록 하는 $x$를 구하고싶다."
   ]
  },
  {
   "cell_type": "code",
   "execution_count": 52,
   "id": "57da70ca-a51a-4d86-adf6-6a0e2e7977ab",
   "metadata": {},
   "outputs": [
    {
     "name": "stdout",
     "output_type": "stream",
     "text": [
      "[1] 3\n"
     ]
    }
   ],
   "source": [
    "print(x[y == 9])"
   ]
  },
  {
   "cell_type": "markdown",
   "id": "c00815e3-7d0a-4822-8b02-4bc66dab966c",
   "metadata": {},
   "source": [
    "#### `-` 응용예제 2 - 후술"
   ]
  },
  {
   "cell_type": "markdown",
   "id": "6e0b27f0-b8be-4630-adca-859c2237e0cc",
   "metadata": {},
   "source": [
    "- 후술"
   ]
  },
  {
   "cell_type": "markdown",
   "id": "a61b7c6e-67ed-4c14-b703-f977916fa1d4",
   "metadata": {},
   "source": [
    "## 그림을 그리는 법"
   ]
  },
  {
   "cell_type": "code",
   "execution_count": 53,
   "id": "b4b7c949-1ba1-42fc-b25a-e37f5fa63c6f",
   "metadata": {},
   "outputs": [
    {
     "name": "stdout",
     "output_type": "stream",
     "text": [
      " [1] 0.1 0.2 0.3 0.4 0.5 0.6 0.7 0.8 0.9 1.0 1.1 1.2 1.3 1.4 1.5 1.6 1.7 1.8 1.9\n",
      "[20] 2.0 2.1 2.2 2.3 2.4 2.5 2.6 2.7 2.8 2.9 3.0 3.1 3.2 3.3 3.4 3.5 3.6 3.7 3.8\n",
      "[39] 3.9 4.0 4.1 4.2 4.3 4.4 4.5 4.6 4.7 4.8 4.9 5.0 5.1 5.2 5.3 5.4 5.5 5.6 5.7\n",
      "[58] 5.8 5.9 6.0\n"
     ]
    }
   ],
   "source": [
    "x <- 1:60/10\n",
    "print(x)"
   ]
  },
  {
   "cell_type": "code",
   "execution_count": 54,
   "id": "58ee4d01-0138-40dc-b348-86125dd5afe9",
   "metadata": {},
   "outputs": [
    {
     "data": {
      "text/html": [
       "<style>\n",
       ".list-inline {list-style: none; margin:0; padding: 0}\n",
       ".list-inline>li {display: inline-block}\n",
       ".list-inline>li:not(:last-child)::after {content: \"\\00b7\"; padding: 0 .5ex}\n",
       "</style>\n",
       "<ol class=list-inline><li>0.0998334166468282</li><li>0.198669330795061</li><li>0.29552020666134</li><li>0.389418342308651</li><li>0.479425538604203</li><li>0.564642473395035</li><li>0.644217687237691</li><li>0.717356090899523</li><li>0.783326909627483</li><li>0.841470984807897</li><li>0.891207360061435</li><li>0.932039085967226</li><li>0.963558185417193</li><li>0.98544972998846</li><li>0.997494986604054</li><li>0.999573603041505</li><li>0.991664810452469</li><li>0.973847630878195</li><li>0.946300087687414</li><li>0.909297426825682</li><li>0.863209366648874</li><li>0.80849640381959</li><li>0.74570521217672</li><li>0.675463180551151</li><li>0.598472144103957</li><li>0.515501371821464</li><li>0.42737988023383</li><li>0.334988150155905</li><li>0.239249329213982</li><li>0.141120008059867</li><li>0.0415806624332905</li><li>-0.0583741434275801</li><li>-0.157745694143248</li><li>-0.255541102026831</li><li>-0.35078322768962</li><li>-0.442520443294852</li><li>-0.529836140908493</li><li>-0.611857890942719</li><li>-0.687766159183974</li><li>-0.756802495307928</li><li>-0.81827711106441</li><li>-0.871575772413588</li><li>-0.916165936749455</li><li>-0.951602073889516</li><li>-0.977530117665097</li><li>-0.993691003633464</li><li>-0.999923257564101</li><li>-0.996164608835841</li><li>-0.982452612624332</li><li>-0.958924274663138</li><li>-0.925814682327732</li><li>-0.883454655720153</li><li>-0.832267442223901</li><li>-0.772764487555987</li><li>-0.705540325570392</li><li>-0.631266637872322</li><li>-0.550685542597638</li><li>-0.464602179413757</li><li>-0.373876664830236</li><li>-0.279415498198926</li></ol>\n"
      ],
      "text/latex": [
       "\\begin{enumerate*}\n",
       "\\item 0.0998334166468282\n",
       "\\item 0.198669330795061\n",
       "\\item 0.29552020666134\n",
       "\\item 0.389418342308651\n",
       "\\item 0.479425538604203\n",
       "\\item 0.564642473395035\n",
       "\\item 0.644217687237691\n",
       "\\item 0.717356090899523\n",
       "\\item 0.783326909627483\n",
       "\\item 0.841470984807897\n",
       "\\item 0.891207360061435\n",
       "\\item 0.932039085967226\n",
       "\\item 0.963558185417193\n",
       "\\item 0.98544972998846\n",
       "\\item 0.997494986604054\n",
       "\\item 0.999573603041505\n",
       "\\item 0.991664810452469\n",
       "\\item 0.973847630878195\n",
       "\\item 0.946300087687414\n",
       "\\item 0.909297426825682\n",
       "\\item 0.863209366648874\n",
       "\\item 0.80849640381959\n",
       "\\item 0.74570521217672\n",
       "\\item 0.675463180551151\n",
       "\\item 0.598472144103957\n",
       "\\item 0.515501371821464\n",
       "\\item 0.42737988023383\n",
       "\\item 0.334988150155905\n",
       "\\item 0.239249329213982\n",
       "\\item 0.141120008059867\n",
       "\\item 0.0415806624332905\n",
       "\\item -0.0583741434275801\n",
       "\\item -0.157745694143248\n",
       "\\item -0.255541102026831\n",
       "\\item -0.35078322768962\n",
       "\\item -0.442520443294852\n",
       "\\item -0.529836140908493\n",
       "\\item -0.611857890942719\n",
       "\\item -0.687766159183974\n",
       "\\item -0.756802495307928\n",
       "\\item -0.81827711106441\n",
       "\\item -0.871575772413588\n",
       "\\item -0.916165936749455\n",
       "\\item -0.951602073889516\n",
       "\\item -0.977530117665097\n",
       "\\item -0.993691003633464\n",
       "\\item -0.999923257564101\n",
       "\\item -0.996164608835841\n",
       "\\item -0.982452612624332\n",
       "\\item -0.958924274663138\n",
       "\\item -0.925814682327732\n",
       "\\item -0.883454655720153\n",
       "\\item -0.832267442223901\n",
       "\\item -0.772764487555987\n",
       "\\item -0.705540325570392\n",
       "\\item -0.631266637872322\n",
       "\\item -0.550685542597638\n",
       "\\item -0.464602179413757\n",
       "\\item -0.373876664830236\n",
       "\\item -0.279415498198926\n",
       "\\end{enumerate*}\n"
      ],
      "text/markdown": [
       "1. 0.0998334166468282\n",
       "2. 0.198669330795061\n",
       "3. 0.29552020666134\n",
       "4. 0.389418342308651\n",
       "5. 0.479425538604203\n",
       "6. 0.564642473395035\n",
       "7. 0.644217687237691\n",
       "8. 0.717356090899523\n",
       "9. 0.783326909627483\n",
       "10. 0.841470984807897\n",
       "11. 0.891207360061435\n",
       "12. 0.932039085967226\n",
       "13. 0.963558185417193\n",
       "14. 0.98544972998846\n",
       "15. 0.997494986604054\n",
       "16. 0.999573603041505\n",
       "17. 0.991664810452469\n",
       "18. 0.973847630878195\n",
       "19. 0.946300087687414\n",
       "20. 0.909297426825682\n",
       "21. 0.863209366648874\n",
       "22. 0.80849640381959\n",
       "23. 0.74570521217672\n",
       "24. 0.675463180551151\n",
       "25. 0.598472144103957\n",
       "26. 0.515501371821464\n",
       "27. 0.42737988023383\n",
       "28. 0.334988150155905\n",
       "29. 0.239249329213982\n",
       "30. 0.141120008059867\n",
       "31. 0.0415806624332905\n",
       "32. -0.0583741434275801\n",
       "33. -0.157745694143248\n",
       "34. -0.255541102026831\n",
       "35. -0.35078322768962\n",
       "36. -0.442520443294852\n",
       "37. -0.529836140908493\n",
       "38. -0.611857890942719\n",
       "39. -0.687766159183974\n",
       "40. -0.756802495307928\n",
       "41. -0.81827711106441\n",
       "42. -0.871575772413588\n",
       "43. -0.916165936749455\n",
       "44. -0.951602073889516\n",
       "45. -0.977530117665097\n",
       "46. -0.993691003633464\n",
       "47. -0.999923257564101\n",
       "48. -0.996164608835841\n",
       "49. -0.982452612624332\n",
       "50. -0.958924274663138\n",
       "51. -0.925814682327732\n",
       "52. -0.883454655720153\n",
       "53. -0.832267442223901\n",
       "54. -0.772764487555987\n",
       "55. -0.705540325570392\n",
       "56. -0.631266637872322\n",
       "57. -0.550685542597638\n",
       "58. -0.464602179413757\n",
       "59. -0.373876664830236\n",
       "60. -0.279415498198926\n",
       "\n",
       "\n"
      ],
      "text/plain": [
       " [1]  0.09983342  0.19866933  0.29552021  0.38941834  0.47942554  0.56464247\n",
       " [7]  0.64421769  0.71735609  0.78332691  0.84147098  0.89120736  0.93203909\n",
       "[13]  0.96355819  0.98544973  0.99749499  0.99957360  0.99166481  0.97384763\n",
       "[19]  0.94630009  0.90929743  0.86320937  0.80849640  0.74570521  0.67546318\n",
       "[25]  0.59847214  0.51550137  0.42737988  0.33498815  0.23924933  0.14112001\n",
       "[31]  0.04158066 -0.05837414 -0.15774569 -0.25554110 -0.35078323 -0.44252044\n",
       "[37] -0.52983614 -0.61185789 -0.68776616 -0.75680250 -0.81827711 -0.87157577\n",
       "[43] -0.91616594 -0.95160207 -0.97753012 -0.99369100 -0.99992326 -0.99616461\n",
       "[49] -0.98245261 -0.95892427 -0.92581468 -0.88345466 -0.83226744 -0.77276449\n",
       "[55] -0.70554033 -0.63126664 -0.55068554 -0.46460218 -0.37387666 -0.27941550"
      ]
     },
     "metadata": {},
     "output_type": "display_data"
    }
   ],
   "source": [
    "y <- sin(x)\n",
    "y"
   ]
  },
  {
   "cell_type": "code",
   "execution_count": 55,
   "id": "412da70d-e2ce-4887-8619-a90878a29a41",
   "metadata": {},
   "outputs": [
    {
     "data": {
      "image/png": "[encoded data removed]",
      "text/plain": [
       "plot without title"
      ]
     },
     "metadata": {
      "image/png": {
       "height": 420,
       "width": 420
      }
     },
     "output_type": "display_data"
    }
   ],
   "source": [
    "plot(x, y)"
   ]
  },
  {
   "cell_type": "code",
   "execution_count": 56,
   "id": "0e9e2e01-1448-445e-a648-c7aecdeb0036",
   "metadata": {},
   "outputs": [
    {
     "data": {
      "image/png": "[encoded data removed]",
      "text/plain": [
       "plot without title"
      ]
     },
     "metadata": {
      "image/png": {
       "height": 420,
       "width": 420
      }
     },
     "output_type": "display_data"
    }
   ],
   "source": [
    "plot(x, y^2)"
   ]
  },
  {
   "cell_type": "code",
   "execution_count": 57,
   "id": "ef3971d9-e879-4ca2-9b52-a8fdb67744bf",
   "metadata": {},
   "outputs": [
    {
     "data": {
      "image/png": "[encoded data removed]",
      "text/plain": [
       "plot without title"
      ]
     },
     "metadata": {
      "image/png": {
       "height": 420,
       "width": 420
      }
     },
     "output_type": "display_data"
    }
   ],
   "source": [
    "plot(x,y)\n",
    "lines(x, y^2)"
   ]
  },
  {
   "cell_type": "code",
   "execution_count": 58,
   "id": "f7614f84-bfee-42c8-a8ef-5dd2a824b670",
   "metadata": {},
   "outputs": [
    {
     "data": {
      "image/png": "[encoded data removed]",
      "text/plain": [
       "plot without title"
      ]
     },
     "metadata": {
      "image/png": {
       "height": 420,
       "width": 420
      }
     },
     "output_type": "display_data"
    }
   ],
   "source": [
    "plot(x, y)\n",
    "points(x, y^2)"
   ]
  },
  {
   "cell_type": "code",
   "execution_count": 59,
   "id": "df5a5762-7bc1-4880-93eb-ae1ee11970d1",
   "metadata": {},
   "outputs": [
    {
     "data": {
      "image/png": "[encoded data removed]",
      "text/plain": [
       "plot without title"
      ]
     },
     "metadata": {
      "image/png": {
       "height": 420,
       "width": 420
      }
     },
     "output_type": "display_data"
    }
   ],
   "source": [
    "plot(x, y, type='l')\n",
    "lines(x, y^2)"
   ]
  },
  {
   "cell_type": "code",
   "execution_count": 60,
   "id": "822e3d8a-53c0-44fd-96ee-f98f8efb0c1d",
   "metadata": {},
   "outputs": [
    {
     "data": {
      "image/png": "[encoded data removed]",
      "text/plain": [
       "plot without title"
      ]
     },
     "metadata": {
      "image/png": {
       "height": 420,
       "width": 420
      }
     },
     "output_type": "display_data"
    }
   ],
   "source": [
    "plot(x, y, type ='l', col='blue')\n",
    "lines(x, y^2, type = 'p', col = '#ADD826')\n",
    "lines(x, y^6 - y^3, col = 'lightblue')"
   ]
  },
  {
   "cell_type": "markdown",
   "id": "2b099729-deb7-4fa6-9679-3576be7f93c0",
   "metadata": {},
   "source": [
    "### 주의할 점\n",
    "`-` 그림 자체를 생성 해주는 plot과 같은 명령이 있고, 생성된 그림에 덧붙여서만 그릴 수 있는 lines, points, abline과 같은 기생함수가 있다."
   ]
  },
  {
   "cell_type": "markdown",
   "id": "a2e22147-cca6-4c79-bc9b-55fc4526b66e",
   "metadata": {},
   "source": [
    "`-` 기생함수는 단독으로 쓸 수 없다."
   ]
  },
  {
   "cell_type": "code",
   "execution_count": 61,
   "id": "ce671a15-0ef5-4b76-bcbc-4116792c23d0",
   "metadata": {},
   "outputs": [
    {
     "ename": "ERROR",
     "evalue": "Error in plot.xy(xy.coords(x, y), type = type, ...): plot.new has not been called yet\n",
     "output_type": "error",
     "traceback": [
      "Error in plot.xy(xy.coords(x, y), type = type, ...): plot.new has not been called yet\nTraceback:\n",
      "1. lines(x, y)",
      "2. lines.default(x, y)",
      "3. plot.xy(xy.coords(x, y), type = type, ...)"
     ]
    }
   ],
   "source": [
    "lines(x,y)"
   ]
  },
  {
   "cell_type": "code",
   "execution_count": null,
   "id": "53a69d00-b14f-471a-8c9e-4a8cdfe8e883",
   "metadata": {},
   "outputs": [],
   "source": [
    "lines(x,y)\n",
    "ploat(x,y)"
   ]
  },
  {
   "cell_type": "markdown",
   "id": "f7ec7352-2bd8-4f23-8f0c-ff8b227e5507",
   "metadata": {},
   "source": [
    "## 주석 이용 방법"
   ]
  },
  {
   "cell_type": "markdown",
   "id": "0993fc6d-0535-4c26-ba2f-f519ba19b627",
   "metadata": {},
   "source": [
    "#### `-` 주석은 실행하지 않는 문장이다."
   ]
  },
  {
   "cell_type": "code",
   "execution_count": null,
   "id": "1631ca88-7d92-4fb7-81ce-1c8876ed9816",
   "metadata": {},
   "outputs": [],
   "source": [
    "a <- 1\n",
    "a <- a+1\n",
    "a <- a+1\n",
    "print(a)"
   ]
  },
  {
   "cell_type": "code",
   "execution_count": null,
   "id": "44321ee8-bfc7-433e-8135-4ae5ef4c7162",
   "metadata": {},
   "outputs": [],
   "source": [
    "a <- 1\n",
    "#a <- a+1\n",
    "a <- a+1\n",
    "print(a)"
   ]
  },
  {
   "cell_type": "markdown",
   "id": "f4d68069-890a-4f4d-935d-7e4b4a9fd75b",
   "metadata": {},
   "source": [
    "#### `-` 왜 쓰는가?"
   ]
  },
  {
   "cell_type": "markdown",
   "id": "20285468-027f-4997-9f71-64daf9c493d5",
   "metadata": {},
   "source": [
    "(1) 코드를 나눠서 테스트 할 때\n",
    "\n",
    "(2) 코드에 대한 설명이나 메모를 쓰고 싶을 때"
   ]
  },
  {
   "cell_type": "markdown",
   "id": "0638dac6-8a91-4aa8-bf83-9c4a87b9b2d5",
   "metadata": {},
   "source": [
    "### `-` 과제\n",
    "\n",
    "plot(x,y)와 plot(x,y,type='l')을 비교해보기"
   ]
  },
  {
   "cell_type": "code",
   "execution_count": 62,
   "id": "d7d8699e-7884-49cb-b32c-b1f4da572d6c",
   "metadata": {},
   "outputs": [
    {
     "data": {
      "image/png": "[encoded data removed]",
      "text/plain": [
       "plot without title"
      ]
     },
     "metadata": {
      "image/png": {
       "height": 420,
       "width": 420
      }
     },
     "output_type": "display_data"
    }
   ],
   "source": [
    "plot(x, y) #할당된 점만 표시"
   ]
  },
  {
   "cell_type": "code",
   "execution_count": 63,
   "id": "f3c7f315-29cd-464d-b137-3fcd5eded889",
   "metadata": {},
   "outputs": [
    {
     "data": {
      "image/png": "[encoded data removed]",
      "text/plain": [
       "plot without title"
      ]
     },
     "metadata": {
      "image/png": {
       "height": 420,
       "width": 420
      }
     },
     "output_type": "display_data"
    }
   ],
   "source": [
    "plot(x, y, type = 'l') #할당된 점을 선으로 이어서 표시"
   ]
  }
 ],
 "metadata": {
  "kernelspec": {
   "display_name": "R",
   "language": "R",
   "name": "ir"
  },
  "language_info": {
   "codemirror_mode": "r",
   "file_extension": ".r",
   "mimetype": "text/x-r-source",
   "name": "R",
   "pygments_lexer": "r",
   "version": "4.1.1"
  }
 },
 "nbformat": 4,
 "nbformat_minor": 5
}
