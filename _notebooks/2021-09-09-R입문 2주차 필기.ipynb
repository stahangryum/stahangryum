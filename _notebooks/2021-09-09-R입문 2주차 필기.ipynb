{
 "cells": [
  {
   "cell_type": "markdown",
   "id": "2b311539-9ce3-4386-a41e-a30278445d82",
   "metadata": {},
   "source": [
    "# \"R - 변수, 벡터, 함수\"\n",
    "> \"전북대학교 R입문 2주차 필기\"\n",
    "\n",
    "- toc: true\n",
    "- branch: master\n",
    "- badges: true\n",
    "- comments: true\n",
    "- author: Kim Jeewoo\n",
    "- categories: [Introduction to R]"
   ]
  },
  {
   "cell_type": "markdown",
   "id": "333cf3b5-4e2e-444f-8128-df2cdee5a422",
   "metadata": {},
   "source": [
    "### 변수에 어떠한 값을 넣는 방법"
   ]
  },
  {
   "cell_type": "markdown",
   "id": "1c4d42e1-efc8-493c-8b99-98b52cf24e0e",
   "metadata": {},
   "source": [
    "#### 방법1 :  `=` 이용"
   ]
  },
  {
   "cell_type": "code",
   "execution_count": 2,
   "id": "7fd72f0b-fa90-4b5d-b8e3-0ddd4e826032",
   "metadata": {},
   "outputs": [],
   "source": [
    "a = 1"
   ]
  },
  {
   "cell_type": "code",
   "execution_count": 3,
   "id": "d41c835d-a5a2-48a4-9722-e74ba25b811d",
   "metadata": {},
   "outputs": [
    {
     "name": "stdout",
     "output_type": "stream",
     "text": [
      "[1] 1\n"
     ]
    }
   ],
   "source": [
    "print(a)"
   ]
  },
  {
   "cell_type": "markdown",
   "id": "0cda92ba-96e5-4156-b597-e9dc91138327",
   "metadata": {},
   "source": [
    "#### 방법2 : `<-`이용"
   ]
  },
  {
   "cell_type": "code",
   "execution_count": 5,
   "id": "e52a275f-eeb3-4a8d-a46f-dcd363298f84",
   "metadata": {},
   "outputs": [],
   "source": [
    "b <- 3"
   ]
  },
  {
   "cell_type": "code",
   "execution_count": 6,
   "id": "095632ae-193f-4291-b6ff-2f1476ed84e9",
   "metadata": {},
   "outputs": [
    {
     "name": "stdout",
     "output_type": "stream",
     "text": [
      "[1] 3\n"
     ]
    }
   ],
   "source": [
    "print(b)"
   ]
  },
  {
   "cell_type": "markdown",
   "id": "f7db748e-24c5-4138-a684-78219b1cd11f",
   "metadata": {},
   "source": [
    "#### 변수 이름을 설정할 때 주의할 점"
   ]
  },
  {
   "cell_type": "markdown",
   "id": "722d1011-749f-407c-bcce-818dda4a5d9b",
   "metadata": {
    "tags": []
   },
   "source": [
    "##### `-` 변수 이름은 숫자로만 구성할 수 없다."
   ]
  },
  {
   "cell_type": "code",
   "execution_count": 7,
   "id": "4846b728-32d5-4176-a53c-0c74ad6cdc72",
   "metadata": {},
   "outputs": [
    {
     "ename": "ERROR",
     "evalue": "Error in 444 <- 5: 대입에 유효하지 않은 (do_set) 좌변입니다\n",
     "output_type": "error",
     "traceback": [
      "Error in 444 <- 5: 대입에 유효하지 않은 (do_set) 좌변입니다\nTraceback:\n"
     ]
    }
   ],
   "source": [
    "444 <- 5"
   ]
  },
  {
   "cell_type": "markdown",
   "id": "442eea08-751a-4840-a418-99415684f999",
   "metadata": {},
   "source": [
    "##### `-` 변수 이름은 특수문자로 구성할 수 없다."
   ]
  },
  {
   "cell_type": "code",
   "execution_count": 8,
   "id": "cd6509c6-e349-4ed8-a2a0-2aaf01b14f09",
   "metadata": {
    "tags": []
   },
   "outputs": [
    {
     "ename": "ERROR",
     "evalue": "Error in parse(text = x, srcfile = src): <text>:1:1: 예기치 않은 '^'입니다\n1: ^\n    ^\n",
     "output_type": "error",
     "traceback": [
      "Error in parse(text = x, srcfile = src): <text>:1:1: 예기치 않은 '^'입니다\n1: ^\n    ^\nTraceback:\n"
     ]
    }
   ],
   "source": [
    "^^@ < - 4"
   ]
  },
  {
   "cell_type": "markdown",
   "id": "eede5ad2-bde1-40ff-8af1-9372cdd93f62",
   "metadata": {},
   "source": [
    "##### `-` 변수 이름에 띄어쓰기를 사용할 수 없다."
   ]
  },
  {
   "cell_type": "code",
   "execution_count": 9,
   "id": "b206194e-b19c-4409-bc07-077f33f1665d",
   "metadata": {},
   "outputs": [
    {
     "ename": "ERROR",
     "evalue": "Error in parse(text = x, srcfile = src): <text>:1:5: 예상하지 못한 기호(symbol)입니다.\n1: Kim Jeewoo\n        ^\n",
     "output_type": "error",
     "traceback": [
      "Error in parse(text = x, srcfile = src): <text>:1:5: 예상하지 못한 기호(symbol)입니다.\n1: Kim Jeewoo\n        ^\nTraceback:\n"
     ]
    }
   ],
   "source": [
    "Kim Jeewoo <- 4"
   ]
  },
  {
   "cell_type": "markdown",
   "id": "2ac921bf-1435-41a6-aa70-327b90bb4228",
   "metadata": {},
   "source": [
    "##### `-` 띄어쓰기 대신 언더바(_)를 사용하는 것은 가능하다.\n",
    "##### `-` 단, 변수 이름을 언더바로 '시작'할 수 없다."
   ]
  },
  {
   "cell_type": "code",
   "execution_count": 10,
   "id": "d29399e2-7339-44b9-b63e-fea02a2f0881",
   "metadata": {},
   "outputs": [],
   "source": [
    "Kim_Jeewoo <- 4\n",
    "Kim.Jeewoo <- 5"
   ]
  },
  {
   "cell_type": "markdown",
   "id": "59f713b7-18f1-4f56-9c06-bb852f3d2f0a",
   "metadata": {},
   "source": [
    "##### `-` 변수 이름은 숫자로 '시작'할 수 없다."
   ]
  },
  {
   "cell_type": "code",
   "execution_count": 11,
   "id": "ffb73f69-b4b8-4e82-85b4-55e3fe5d8ff7",
   "metadata": {},
   "outputs": [
    {
     "ename": "ERROR",
     "evalue": "Error in parse(text = x, srcfile = src): <text>:1:2: 예상하지 못한 기호(symbol)입니다.\n1: 1a\n     ^\n",
     "output_type": "error",
     "traceback": [
      "Error in parse(text = x, srcfile = src): <text>:1:2: 예상하지 못한 기호(symbol)입니다.\n1: 1a\n     ^\nTraceback:\n"
     ]
    }
   ],
   "source": [
    "1a <- 3"
   ]
  },
  {
   "cell_type": "markdown",
   "id": "ac7cdafb-9be7-4a10-b33c-10484413ad1c",
   "metadata": {},
   "source": [
    "##### `-` 이건 가능하다"
   ]
  },
  {
   "cell_type": "code",
   "execution_count": 12,
   "id": "68eab747-65b4-4f60-be10-f8b06c861016",
   "metadata": {},
   "outputs": [],
   "source": [
    "a1 <- 3"
   ]
  },
  {
   "cell_type": "markdown",
   "id": "b0e43ae4-cb8c-4f30-bcae-42530a8c91fc",
   "metadata": {},
   "source": [
    "#### 가능은 하나 권장하지 않는 변수 이름"
   ]
  },
  {
   "cell_type": "code",
   "execution_count": 13,
   "id": "95e10ed4-0b63-4e59-be49-409da7594a6c",
   "metadata": {},
   "outputs": [
    {
     "name": "stdout",
     "output_type": "stream",
     "text": [
      "[1] 3.141593\n"
     ]
    }
   ],
   "source": [
    "print(pi)"
   ]
  },
  {
   "cell_type": "code",
   "execution_count": 14,
   "id": "67141221-1e31-4acf-a32f-cb41ea14c1a8",
   "metadata": {},
   "outputs": [],
   "source": [
    "pi<-333"
   ]
  },
  {
   "cell_type": "code",
   "execution_count": 15,
   "id": "593172c8-3b0b-4aff-ac39-49748991f571",
   "metadata": {},
   "outputs": [
    {
     "name": "stdout",
     "output_type": "stream",
     "text": [
      "[1] 333\n"
     ]
    }
   ],
   "source": [
    "print(pi)"
   ]
  },
  {
   "cell_type": "markdown",
   "id": "46aee924-32a0-4b35-94ce-5616aaf3e3d8",
   "metadata": {},
   "source": [
    "원래 내장된 $\\pi$가 날아가버렸다..."
   ]
  },
  {
   "cell_type": "markdown",
   "id": "2648f975-6bae-4fd4-8a43-083e4e021ca8",
   "metadata": {},
   "source": [
    "#### 변수 생성시 팁"
   ]
  },
  {
   "cell_type": "markdown",
   "id": "87e48586-c69e-4644-98c1-77c43bb1059e",
   "metadata": {},
   "source": [
    "##### `-` 변수를 축약할 때 모음을 제외하면 좋다."
   ]
  },
  {
   "cell_type": "markdown",
   "id": "b70659a4-83b6-4b26-8ec7-ba9f163238c2",
   "metadata": {},
   "source": [
    "- result -> rslt\n",
    "- residual -> rsdl"
   ]
  },
  {
   "cell_type": "markdown",
   "id": "bfde1479-38c3-4594-9755-d811b930c7e3",
   "metadata": {},
   "source": [
    "##### `-` 임시로 변수명을 사용해야 할 경우 변수 이름 끝에 언더바를 붙인다."
   ]
  },
  {
   "cell_type": "markdown",
   "id": "1da5727a-b575-4e19-8938-b453d2996573",
   "metadata": {},
   "source": [
    "- x_, y_, rslt_, rsdl"
   ]
  },
  {
   "cell_type": "markdown",
   "id": "2e12d6dd-1d6d-4576-8b70-5d9c1285b4e4",
   "metadata": {},
   "source": [
    "### 벡터를 선언하는 방법"
   ]
  },
  {
   "cell_type": "markdown",
   "id": "ff6df32e-855b-48a9-a3d6-eef3b5fc99cb",
   "metadata": {},
   "source": [
    "#### 방법1 - 직접 입력"
   ]
  },
  {
   "cell_type": "code",
   "execution_count": 16,
   "id": "2b5e9e15-e006-4fae-b6d1-7dcb51ead447",
   "metadata": {},
   "outputs": [],
   "source": [
    "v1 <- c(1, 2, 3, 3, 4, 5, 2)"
   ]
  },
  {
   "cell_type": "code",
   "execution_count": 18,
   "id": "8d0a113e-7187-4d6d-8539-3f38beba511d",
   "metadata": {},
   "outputs": [
    {
     "name": "stdout",
     "output_type": "stream",
     "text": [
      "[1] 1 2 3 3 4 5 2\n"
     ]
    }
   ],
   "source": [
    "print(v1)"
   ]
  },
  {
   "cell_type": "markdown",
   "id": "e0119f4f-7316-473a-8546-b8e76451b258",
   "metadata": {
    "tags": []
   },
   "source": [
    "#### 방법2 - `seq`를 이용"
   ]
  },
  {
   "cell_type": "code",
   "execution_count": null,
   "id": "b69e5f94-b1ce-4457-8622-78b93c206f9b",
   "metadata": {},
   "outputs": [],
   "source": [
    "?sqe #실행하면 sqe의 사용법에 대해 알려준다."
   ]
  },
  {
   "cell_type": "code",
   "execution_count": 20,
   "id": "592a116c-8c91-460d-9ec0-e9dc31b48474",
   "metadata": {},
   "outputs": [],
   "source": [
    "v2 <- seq(from=0, to=10, by=0.1) #0부터 10까지 0.1 단위로 벡터 생성!"
   ]
  },
  {
   "cell_type": "code",
   "execution_count": 21,
   "id": "6fcb5dd7-3bc2-4e8a-a22a-c1b1fba028c8",
   "metadata": {},
   "outputs": [
    {
     "name": "stdout",
     "output_type": "stream",
     "text": [
      "  [1]  0.0  0.1  0.2  0.3  0.4  0.5  0.6  0.7  0.8  0.9  1.0  1.1  1.2  1.3  1.4\n",
      " [16]  1.5  1.6  1.7  1.8  1.9  2.0  2.1  2.2  2.3  2.4  2.5  2.6  2.7  2.8  2.9\n",
      " [31]  3.0  3.1  3.2  3.3  3.4  3.5  3.6  3.7  3.8  3.9  4.0  4.1  4.2  4.3  4.4\n",
      " [46]  4.5  4.6  4.7  4.8  4.9  5.0  5.1  5.2  5.3  5.4  5.5  5.6  5.7  5.8  5.9\n",
      " [61]  6.0  6.1  6.2  6.3  6.4  6.5  6.6  6.7  6.8  6.9  7.0  7.1  7.2  7.3  7.4\n",
      " [76]  7.5  7.6  7.7  7.8  7.9  8.0  8.1  8.2  8.3  8.4  8.5  8.6  8.7  8.8  8.9\n",
      " [91]  9.0  9.1  9.2  9.3  9.4  9.5  9.6  9.7  9.8  9.9 10.0\n"
     ]
    }
   ],
   "source": [
    "print(v2)"
   ]
  },
  {
   "cell_type": "code",
   "execution_count": 22,
   "id": "0b9413aa-813e-4bb5-bdbb-893dc1530684",
   "metadata": {},
   "outputs": [
    {
     "name": "stdout",
     "output_type": "stream",
     "text": [
      " [1] 0.00000000 0.01785714 0.03571429 0.05357143 0.07142857 0.08928571\n",
      " [7] 0.10714286 0.12500000 0.14285714 0.16071429 0.17857143 0.19642857\n",
      "[13] 0.21428571 0.23214286 0.25000000 0.26785714 0.28571429 0.30357143\n",
      "[19] 0.32142857 0.33928571 0.35714286 0.37500000 0.39285714 0.41071429\n",
      "[25] 0.42857143 0.44642857 0.46428571 0.48214286 0.50000000 0.51785714\n",
      "[31] 0.53571429 0.55357143 0.57142857 0.58928571 0.60714286 0.62500000\n",
      "[37] 0.64285714 0.66071429 0.67857143 0.69642857 0.71428571 0.73214286\n",
      "[43] 0.75000000 0.76785714 0.78571429 0.80357143 0.82142857 0.83928571\n",
      "[49] 0.85714286 0.87500000 0.89285714 0.91071429 0.92857143 0.94642857\n",
      "[55] 0.96428571 0.98214286 1.00000000\n"
     ]
    }
   ],
   "source": [
    "print(seq(from=0, to=1, length.out = 57)) #0부터 1까지 10등분"
   ]
  },
  {
   "cell_type": "markdown",
   "id": "da1c654b-6627-4cc6-b92a-046a4eddf167",
   "metadata": {},
   "source": [
    "#### 방법3 - `:` 이용"
   ]
  },
  {
   "cell_type": "code",
   "execution_count": 23,
   "id": "33c7bdb3-82c7-4358-b0cd-bedf1a8be832",
   "metadata": {},
   "outputs": [
    {
     "name": "stdout",
     "output_type": "stream",
     "text": [
      " [1]  0  1  2  3  4  5  6  7  8  9 10 11 12 13 14 15 16 17 18 19 20 21 22 23 24\n",
      "[26] 25 26 27 28 29 30 31 32 33 34 35 36 37 38 39 40 41 42 43 44 45 46 47 48 49\n",
      "[51] 50 51 52 53 54 55 56\n"
     ]
    }
   ],
   "source": [
    "print(0:56)"
   ]
  },
  {
   "cell_type": "code",
   "execution_count": 24,
   "id": "bf8f1861-4a39-48cd-be7d-2133a344ba7c",
   "metadata": {},
   "outputs": [
    {
     "name": "stdout",
     "output_type": "stream",
     "text": [
      " [1] 0.00000000 0.01785714 0.03571429 0.05357143 0.07142857 0.08928571\n",
      " [7] 0.10714286 0.12500000 0.14285714 0.16071429 0.17857143 0.19642857\n",
      "[13] 0.21428571 0.23214286 0.25000000 0.26785714 0.28571429 0.30357143\n",
      "[19] 0.32142857 0.33928571 0.35714286 0.37500000 0.39285714 0.41071429\n",
      "[25] 0.42857143 0.44642857 0.46428571 0.48214286 0.50000000 0.51785714\n",
      "[31] 0.53571429 0.55357143 0.57142857 0.58928571 0.60714286 0.62500000\n",
      "[37] 0.64285714 0.66071429 0.67857143 0.69642857 0.71428571 0.73214286\n",
      "[43] 0.75000000 0.76785714 0.78571429 0.80357143 0.82142857 0.83928571\n",
      "[49] 0.85714286 0.87500000 0.89285714 0.91071429 0.92857143 0.94642857\n",
      "[55] 0.96428571 0.98214286 1.00000000\n"
     ]
    }
   ],
   "source": [
    "print(0:56 / 56)"
   ]
  },
  {
   "cell_type": "markdown",
   "id": "88802a83-af35-45d4-97d9-f21472f5cb51",
   "metadata": {},
   "source": [
    "#### 방법4 - `rep` 이용"
   ]
  },
  {
   "cell_type": "code",
   "execution_count": 25,
   "id": "16f84506-6df9-4f29-8851-b4b1ffe3a86c",
   "metadata": {},
   "outputs": [
    {
     "name": "stdout",
     "output_type": "stream",
     "text": [
      " [1] 0 0 0 0 0 0 0 0 0 0 0 0 0 0 0 0 0 0 0 0 0 0\n"
     ]
    }
   ],
   "source": [
    "print(rep(0,22)) #0을 22번 반복"
   ]
  },
  {
   "cell_type": "code",
   "execution_count": 26,
   "id": "bafbeeb8-f8cc-4cfb-a331-232a1cd23e1e",
   "metadata": {},
   "outputs": [
    {
     "name": "stdout",
     "output_type": "stream",
     "text": [
      " [1] 4 4 4 4 4 4 4 4 4 4 4 4\n"
     ]
    }
   ],
   "source": [
    "print(rep(4,12)) #4를 12번 반복"
   ]
  },
  {
   "cell_type": "code",
   "execution_count": 27,
   "id": "9c0fcf09-2457-4aea-9aa9-7d2c601e719a",
   "metadata": {},
   "outputs": [
    {
     "name": "stdout",
     "output_type": "stream",
     "text": [
      " [1] 5 5 5 5 5 5 5 5 5 5 5 5 5 5 5 5 5 5 5 5 5 5 5 5 5 5 5 5 5 5 5 5 5 5 5 5 5 5\n",
      "[39] 5 5 5 5 5 5 5 5 5 5 5 5 5 5 5 5 5 5 5 5 5 5 5 5 5 5 5 5 5 5 5 5 5 5 5 5 5 5\n",
      "[77] 5\n"
     ]
    }
   ],
   "source": [
    "print(rep(5, 77))"
   ]
  },
  {
   "cell_type": "markdown",
   "id": "316dfa80-08ed-438d-83cc-4f1b802de959",
   "metadata": {},
   "source": [
    "## 함수를 사용하는 방법"
   ]
  },
  {
   "cell_type": "markdown",
   "id": "bf7f8b76-3035-494b-be9a-4adc36f3ec6b",
   "metadata": {},
   "source": [
    "#### `-` 기본 구조"
   ]
  },
  {
   "cell_type": "markdown",
   "id": "3882253b-c03c-4f89-bd27-7c8b7d2d1ee4",
   "metadata": {},
   "source": [
    "```r\n",
    "함수 이름 <- function(입력){\n",
    "    함수의 기능\n",
    "    return 출력\n",
    "    }\n",
    "```"
   ]
  },
  {
   "cell_type": "markdown",
   "id": "d8542e13-f8ac-481c-a488-46bd2b5343ac",
   "metadata": {},
   "source": [
    "#### `-` 예시"
   ]
  },
  {
   "cell_type": "code",
   "execution_count": 28,
   "id": "bc8d308b-08ed-4118-b58b-40e796db08bc",
   "metadata": {},
   "outputs": [],
   "source": [
    "f <- function(d){\n",
    "    y=2^(-0.25*d)\n",
    "    return(y)\n",
    "}"
   ]
  },
  {
   "cell_type": "code",
   "execution_count": 3,
   "id": "8b77c466-dcd4-4b78-875b-877415e6350c",
   "metadata": {},
   "outputs": [
    {
     "data": {
      "text/html": [
       "0.25"
      ],
      "text/latex": [
       "0.25"
      ],
      "text/markdown": [
       "0.25"
      ],
      "text/plain": [
       "[1] 0.25"
      ]
     },
     "metadata": {},
     "output_type": "display_data"
    }
   ],
   "source": [
    "f(8)"
   ]
  },
  {
   "cell_type": "markdown",
   "id": "88796510-145b-40b2-9e65-2228c8dca570",
   "metadata": {
    "tags": []
   },
   "source": [
    "#### `-` return을 생략해도 괜찮다."
   ]
  },
  {
   "cell_type": "code",
   "execution_count": 9,
   "id": "7773ef8b-d1e8-4902-9250-f9cc5098d285",
   "metadata": {},
   "outputs": [],
   "source": [
    "g <- function(d){\n",
    "    y=2^(-0.25*d)\n",
    "    y\n",
    "}"
   ]
  },
  {
   "cell_type": "code",
   "execution_count": 10,
   "id": "df96f477-62f5-4598-9887-b56784cc4ed5",
   "metadata": {},
   "outputs": [
    {
     "data": {
      "text/html": [
       "0.25"
      ],
      "text/latex": [
       "0.25"
      ],
      "text/markdown": [
       "0.25"
      ],
      "text/plain": [
       "[1] 0.25"
      ]
     },
     "metadata": {},
     "output_type": "display_data"
    }
   ],
   "source": [
    "g(8)"
   ]
  },
  {
   "cell_type": "markdown",
   "id": "d0043634-8407-416b-8085-3e02f25350c9",
   "metadata": {
    "tags": []
   },
   "source": [
    "## 벡터의 원소를 뽑는 방법"
   ]
  },
  {
   "cell_type": "code",
   "execution_count": 49,
   "id": "604a15f3-20b9-436c-81ce-21e885ca6faa",
   "metadata": {},
   "outputs": [
    {
     "name": "stdout",
     "output_type": "stream",
     "text": [
      "[1]  1  2 -2  4  5 -5  6\n"
     ]
    }
   ],
   "source": [
    "x <- c(1,2,-2,4,5,-5,6)\n",
    "print(x)"
   ]
  },
  {
   "cell_type": "markdown",
   "id": "70f7aec9-4bda-42e9-98c0-e3ad2969712a",
   "metadata": {
    "tags": []
   },
   "source": [
    "### 원소의 번호를 불러서 뽑는 방법"
   ]
  },
  {
   "cell_type": "markdown",
   "id": "840b6a03-a2a4-48ec-ba02-88a49208a193",
   "metadata": {},
   "source": [
    "#### `-` 첫번째 원소를 뽑고싶다."
   ]
  },
  {
   "cell_type": "markdown",
   "id": "a124331f-b643-4d52-9b9b-8ee2012c4c02",
   "metadata": {},
   "source": [
    "파이썬과 다르게 인덱싱은 1부터 시작한다."
   ]
  },
  {
   "cell_type": "code",
   "execution_count": 32,
   "id": "c64ffc23-23a5-41a8-bb25-c5aef725f455",
   "metadata": {},
   "outputs": [
    {
     "name": "stdout",
     "output_type": "stream",
     "text": [
      "[1] 1\n"
     ]
    }
   ],
   "source": [
    "print(x[1])"
   ]
  },
  {
   "cell_type": "markdown",
   "id": "d6d46d15-f10f-4906-a5cf-ffa1df4b83f0",
   "metadata": {},
   "source": [
    "#### `-` 두번째 원소를 뽑고싶다."
   ]
  },
  {
   "cell_type": "code",
   "execution_count": 33,
   "id": "fa274172-4bf9-4464-836d-030a177f18cc",
   "metadata": {},
   "outputs": [
    {
     "name": "stdout",
     "output_type": "stream",
     "text": [
      "[1] -2\n"
     ]
    }
   ],
   "source": [
    "print(x[3])"
   ]
  },
  {
   "cell_type": "markdown",
   "id": "2ca3fdba-25c7-4103-8df3-c0b76e49f762",
   "metadata": {},
   "source": [
    "#### `-` 첫번째부터 세번째까지의 원소를 뽑고싶다."
   ]
  },
  {
   "cell_type": "code",
   "execution_count": 34,
   "id": "dada20fc-7bd4-4be1-a12d-5db6a9d4bb4b",
   "metadata": {},
   "outputs": [
    {
     "name": "stdout",
     "output_type": "stream",
     "text": [
      "[1]  1  2 -2\n"
     ]
    }
   ],
   "source": [
    "print(x[1:3])"
   ]
  },
  {
   "cell_type": "code",
   "execution_count": 35,
   "id": "16e815e7-11c6-4d06-bc40-b4d2cc55df35",
   "metadata": {},
   "outputs": [
    {
     "name": "stdout",
     "output_type": "stream",
     "text": [
      "[1]  1  2 -2\n"
     ]
    }
   ],
   "source": [
    "print(x[c(1,2,3)])"
   ]
  },
  {
   "cell_type": "markdown",
   "id": "d6f02e03-e691-4a3e-ad00-fe5819f73510",
   "metadata": {},
   "source": [
    "#### `-` 2, 5, 6 번째의 원소를 뽑고싶다."
   ]
  },
  {
   "cell_type": "code",
   "execution_count": 37,
   "id": "f85223cd-e0ae-41d5-8442-ae8f4ffcbdf7",
   "metadata": {},
   "outputs": [
    {
     "name": "stdout",
     "output_type": "stream",
     "text": [
      "[1]  2  5 -5\n"
     ]
    }
   ],
   "source": [
    "print(x[c(2, 5, 6)])"
   ]
  },
  {
   "cell_type": "markdown",
   "id": "e46c2a14-d051-49b8-a77b-2c464043200b",
   "metadata": {},
   "source": [
    "#### `-` 3번째 원소를 제외하고 뽑고싶다."
   ]
  },
  {
   "cell_type": "code",
   "execution_count": 42,
   "id": "bee067a4-7b20-43fb-bdab-6b6062c0b006",
   "metadata": {},
   "outputs": [
    {
     "name": "stdout",
     "output_type": "stream",
     "text": [
      "[1]  1  2 -2  4  5 -5  6\n"
     ]
    }
   ],
   "source": [
    "print(x)"
   ]
  },
  {
   "cell_type": "code",
   "execution_count": 39,
   "id": "17a255da-1e26-4ad7-8d04-04ab13d2c309",
   "metadata": {},
   "outputs": [
    {
     "name": "stdout",
     "output_type": "stream",
     "text": [
      "[1]  1  2  4  5 -5  6\n"
     ]
    }
   ],
   "source": [
    "print(x[-3])"
   ]
  },
  {
   "cell_type": "markdown",
   "id": "8e09e2f5-8070-4b92-aecf-2162739958fb",
   "metadata": {},
   "source": [
    "#### `-` 3, 4번째의 원소를 제외하고 뽑고싶다."
   ]
  },
  {
   "cell_type": "code",
   "execution_count": 51,
   "id": "f1876ae7-5ded-46d0-a03d-7e381a909be8",
   "metadata": {},
   "outputs": [
    {
     "name": "stdout",
     "output_type": "stream",
     "text": [
      "[1]  1  2  5 -5  6\n"
     ]
    }
   ],
   "source": [
    "print(x[-c(3,4)])"
   ]
  },
  {
   "cell_type": "code",
   "execution_count": 52,
   "id": "25fc407d-06a7-4017-8e73-a6a4e3e9c6ea",
   "metadata": {},
   "outputs": [
    {
     "name": "stdout",
     "output_type": "stream",
     "text": [
      "[1]  1  2  5 -5  6\n"
     ]
    }
   ],
   "source": [
    "print(x[-(3:4)])"
   ]
  },
  {
   "cell_type": "markdown",
   "id": "c31eb607-a469-4d63-9d51-c4beefa0f69a",
   "metadata": {},
   "source": [
    "#### 어떠한 조건을 주고, 그 조건에 만족하는 원소 (혹은 만족하지 않는 원소)를 뽑는 방법"
   ]
  },
  {
   "cell_type": "markdown",
   "id": "183c163e-e557-45e2-80df-6f667d8bdd7f",
   "metadata": {},
   "source": [
    "#### `-` 양수인 원소를 뽑고싶다."
   ]
  },
  {
   "cell_type": "code",
   "execution_count": 57,
   "id": "fa95f2be-84a3-4a53-93fa-17d2885eb5d3",
   "metadata": {},
   "outputs": [
    {
     "name": "stdout",
     "output_type": "stream",
     "text": [
      "[1]  1  2 -2  4  5 -5  6\n"
     ]
    }
   ],
   "source": [
    "print(x)"
   ]
  },
  {
   "cell_type": "markdown",
   "id": "dda52e76-ade3-4918-adc7-56a7624b7422",
   "metadata": {},
   "source": [
    "(1) 양수인지 스스로 판단\n",
    "\n",
    "(2) 양수라면 나간다."
   ]
  },
  {
   "cell_type": "code",
   "execution_count": 58,
   "id": "9e46fba5-0a83-4ba2-9761-940997bf07d1",
   "metadata": {},
   "outputs": [
    {
     "name": "stdout",
     "output_type": "stream",
     "text": [
      "[1]  TRUE  TRUE FALSE  TRUE  TRUE FALSE  TRUE\n"
     ]
    }
   ],
   "source": [
    "print(x>0)"
   ]
  },
  {
   "cell_type": "markdown",
   "id": "af425101-9b21-491d-8cc1-3a626c866312",
   "metadata": {},
   "source": [
    "x>0의 결과는 TRUE, FALSE가 포함된 벡터"
   ]
  },
  {
   "cell_type": "code",
   "execution_count": 59,
   "id": "02ed1fe7-ac39-4bc3-a8cd-3fcc84d3e684",
   "metadata": {},
   "outputs": [
    {
     "name": "stdout",
     "output_type": "stream",
     "text": [
      "[1] 1 2 4 5 6\n"
     ]
    }
   ],
   "source": [
    "print(x[x>0])"
   ]
  },
  {
   "cell_type": "code",
   "execution_count": null,
   "id": "70d6ae72-2721-4e4b-b1d7-3c94cbbbd7a5",
   "metadata": {},
   "outputs": [],
   "source": [
    "print(x[x>3"
   ]
  }
 ],
 "metadata": {
  "kernelspec": {
   "display_name": "R",
   "language": "R",
   "name": "ir"
  },
  "language_info": {
   "codemirror_mode": "r",
   "file_extension": ".r",
   "mimetype": "text/x-r-source",
   "name": "R",
   "pygments_lexer": "r",
   "version": "4.0.5"
  }
 },
 "nbformat": 4,
 "nbformat_minor": 5
}
