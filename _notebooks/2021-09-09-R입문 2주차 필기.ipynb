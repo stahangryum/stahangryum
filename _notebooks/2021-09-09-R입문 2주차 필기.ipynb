{
 "cells": [
  {
   "cell_type": "markdown",
   "id": "2b311539-9ce3-4386-a41e-a30278445d82",
   "metadata": {},
   "source": [
    "# \"R 변수\"\n",
    "> \"전북대학교 R입문 2주차 필기\"\n",
    "\n",
    "- toc: true\n",
    "- branch: master\n",
    "- badges: true\n",
    "- comments: true\n",
    "- author: Kim Jeewoo\n",
    "- categories: [Introduction to R]"
   ]
  },
  {
   "cell_type": "markdown",
   "id": "333cf3b5-4e2e-444f-8128-df2cdee5a422",
   "metadata": {},
   "source": [
    "### 변수에 어떠한 값을 넣는 방법"
   ]
  },
  {
   "cell_type": "markdown",
   "id": "1c4d42e1-efc8-493c-8b99-98b52cf24e0e",
   "metadata": {},
   "source": [
    "#### 방법1"
   ]
  },
  {
   "cell_type": "code",
   "execution_count": 10,
   "id": "7fd72f0b-fa90-4b5d-b8e3-0ddd4e826032",
   "metadata": {},
   "outputs": [],
   "source": [
    "a = 1"
   ]
  },
  {
   "cell_type": "code",
   "execution_count": 11,
   "id": "d41c835d-a5a2-48a4-9722-e74ba25b811d",
   "metadata": {},
   "outputs": [
    {
     "data": {
      "text/html": [
       "1"
      ],
      "text/latex": [
       "1"
      ],
      "text/markdown": [
       "1"
      ],
      "text/plain": [
       "[1] 1"
      ]
     },
     "metadata": {},
     "output_type": "display_data"
    }
   ],
   "source": [
    "a"
   ]
  },
  {
   "cell_type": "markdown",
   "id": "0cda92ba-96e5-4156-b597-e9dc91138327",
   "metadata": {},
   "source": [
    "#### 방법2"
   ]
  },
  {
   "cell_type": "code",
   "execution_count": 12,
   "id": "e52a275f-eeb3-4a8d-a46f-dcd363298f84",
   "metadata": {},
   "outputs": [],
   "source": [
    "b <- 3"
   ]
  },
  {
   "cell_type": "code",
   "execution_count": 13,
   "id": "095632ae-193f-4291-b6ff-2f1476ed84e9",
   "metadata": {},
   "outputs": [
    {
     "data": {
      "text/html": [
       "3"
      ],
      "text/latex": [
       "3"
      ],
      "text/markdown": [
       "3"
      ],
      "text/plain": [
       "[1] 3"
      ]
     },
     "metadata": {},
     "output_type": "display_data"
    }
   ],
   "source": [
    "b"
   ]
  },
  {
   "cell_type": "markdown",
   "id": "f7db748e-24c5-4138-a684-78219b1cd11f",
   "metadata": {},
   "source": [
    "#### 변수 이름을 설정할 때 주의할 점"
   ]
  },
  {
   "cell_type": "markdown",
   "id": "722d1011-749f-407c-bcce-818dda4a5d9b",
   "metadata": {
    "tags": []
   },
   "source": [
    "##### `-` 변수 이름은 숫자로만 구성할 수 없다."
   ]
  },
  {
   "cell_type": "code",
   "execution_count": 18,
   "id": "4846b728-32d5-4176-a53c-0c74ad6cdc72",
   "metadata": {},
   "outputs": [
    {
     "ename": "ERROR",
     "evalue": "Error in 444 <- 5: 대입에 유효하지 않은 (do_set) 좌변입니다\n",
     "output_type": "error",
     "traceback": [
      "Error in 444 <- 5: 대입에 유효하지 않은 (do_set) 좌변입니다\nTraceback:\n"
     ]
    }
   ],
   "source": [
    "444 <- 5"
   ]
  },
  {
   "cell_type": "markdown",
   "id": "442eea08-751a-4840-a418-99415684f999",
   "metadata": {},
   "source": [
    "##### `-` 변수 이름은 특수문자로 구성할 수 없다."
   ]
  },
  {
   "cell_type": "code",
   "execution_count": 5,
   "id": "cd6509c6-e349-4ed8-a2a0-2aaf01b14f09",
   "metadata": {
    "tags": []
   },
   "outputs": [
    {
     "ename": "ERROR",
     "evalue": "Error in parse(text = x, srcfile = src): <text>:1:1: 예기치 않은 '^'입니다\n1: ^\n    ^\n",
     "output_type": "error",
     "traceback": [
      "Error in parse(text = x, srcfile = src): <text>:1:1: 예기치 않은 '^'입니다\n1: ^\n    ^\nTraceback:\n"
     ]
    }
   ],
   "source": [
    "^^@ < - 4"
   ]
  },
  {
   "cell_type": "markdown",
   "id": "eede5ad2-bde1-40ff-8af1-9372cdd93f62",
   "metadata": {},
   "source": [
    "##### `-` 변수 이름에 띄어쓰기를 사용할 수 없다."
   ]
  },
  {
   "cell_type": "code",
   "execution_count": 9,
   "id": "b206194e-b19c-4409-bc07-077f33f1665d",
   "metadata": {},
   "outputs": [
    {
     "ename": "ERROR",
     "evalue": "Error in parse(text = x, srcfile = src): <text>:1:5: 예상하지 못한 기호(symbol)입니다.\n1: Kim Jeewoo\n        ^\n",
     "output_type": "error",
     "traceback": [
      "Error in parse(text = x, srcfile = src): <text>:1:5: 예상하지 못한 기호(symbol)입니다.\n1: Kim Jeewoo\n        ^\nTraceback:\n"
     ]
    }
   ],
   "source": [
    "Kim Jeewoo <- 4"
   ]
  },
  {
   "cell_type": "markdown",
   "id": "2ac921bf-1435-41a6-aa70-327b90bb4228",
   "metadata": {},
   "source": [
    "##### `-` 띄어쓰기 대신 언더바(_)를 사용하는 것은 가능하다.\n",
    "##### `-` 단, 변수 이름을 언더바로 '시작'할 수 없다."
   ]
  },
  {
   "cell_type": "code",
   "execution_count": 10,
   "id": "d29399e2-7339-44b9-b63e-fea02a2f0881",
   "metadata": {},
   "outputs": [],
   "source": [
    "Kim_Jeewoo <- 4\n",
    "Kim.Jeewoo <- 5"
   ]
  },
  {
   "cell_type": "markdown",
   "id": "59f713b7-18f1-4f56-9c06-bb852f3d2f0a",
   "metadata": {},
   "source": [
    "##### `-` 변수 이름은 숫자로 '시작'할 수 없다."
   ]
  },
  {
   "cell_type": "code",
   "execution_count": 25,
   "id": "ffb73f69-b4b8-4e82-85b4-55e3fe5d8ff7",
   "metadata": {},
   "outputs": [
    {
     "ename": "ERROR",
     "evalue": "Error in parse(text = x, srcfile = src): <text>:1:2: 예상하지 못한 기호(symbol)입니다.\n1: 1a\n     ^\n",
     "output_type": "error",
     "traceback": [
      "Error in parse(text = x, srcfile = src): <text>:1:2: 예상하지 못한 기호(symbol)입니다.\n1: 1a\n     ^\nTraceback:\n"
     ]
    }
   ],
   "source": [
    "1a <- 3"
   ]
  },
  {
   "cell_type": "markdown",
   "id": "ac7cdafb-9be7-4a10-b33c-10484413ad1c",
   "metadata": {},
   "source": [
    "##### `-` 이건 가능하다"
   ]
  },
  {
   "cell_type": "code",
   "execution_count": 24,
   "id": "68eab747-65b4-4f60-be10-f8b06c861016",
   "metadata": {},
   "outputs": [],
   "source": [
    "a1 <- 3"
   ]
  },
  {
   "cell_type": "markdown",
   "id": "b0e43ae4-cb8c-4f30-bcae-42530a8c91fc",
   "metadata": {},
   "source": [
    "#### 가능은 하나 권장하지 않는 변수 이름"
   ]
  },
  {
   "cell_type": "code",
   "execution_count": 1,
   "id": "95e10ed4-0b63-4e59-be49-409da7594a6c",
   "metadata": {},
   "outputs": [
    {
     "data": {
      "text/html": [
       "3.14159265358979"
      ],
      "text/latex": [
       "3.14159265358979"
      ],
      "text/markdown": [
       "3.14159265358979"
      ],
      "text/plain": [
       "[1] 3.141593"
      ]
     },
     "metadata": {},
     "output_type": "display_data"
    }
   ],
   "source": [
    "pi"
   ]
  },
  {
   "cell_type": "code",
   "execution_count": 2,
   "id": "67141221-1e31-4acf-a32f-cb41ea14c1a8",
   "metadata": {},
   "outputs": [],
   "source": [
    "pi<-333"
   ]
  },
  {
   "cell_type": "code",
   "execution_count": 3,
   "id": "593172c8-3b0b-4aff-ac39-49748991f571",
   "metadata": {},
   "outputs": [
    {
     "data": {
      "text/html": [
       "333"
      ],
      "text/latex": [
       "333"
      ],
      "text/markdown": [
       "333"
      ],
      "text/plain": [
       "[1] 333"
      ]
     },
     "metadata": {},
     "output_type": "display_data"
    }
   ],
   "source": [
    "pi"
   ]
  },
  {
   "cell_type": "markdown",
   "id": "46aee924-32a0-4b35-94ce-5616aaf3e3d8",
   "metadata": {},
   "source": [
    "원래 내장된 $\\pi$가 날아가버렸다..."
   ]
  },
  {
   "cell_type": "markdown",
   "id": "2648f975-6bae-4fd4-8a43-083e4e021ca8",
   "metadata": {},
   "source": [
    "#### 변수 생성시 팁"
   ]
  },
  {
   "cell_type": "markdown",
   "id": "87e48586-c69e-4644-98c1-77c43bb1059e",
   "metadata": {},
   "source": [
    "##### `-` 변수를 축약할 때 모음을 제외하면 좋다."
   ]
  },
  {
   "cell_type": "markdown",
   "id": "b70659a4-83b6-4b26-8ec7-ba9f163238c2",
   "metadata": {},
   "source": [
    "- result -> rslt\n",
    "- residual -> rsdl"
   ]
  },
  {
   "cell_type": "markdown",
   "id": "bfde1479-38c3-4594-9755-d811b930c7e3",
   "metadata": {},
   "source": [
    "##### `-` 임시로 변수명을 사용해야 할 경우 변수 이름 끝에 언더바를 붙인다."
   ]
  },
  {
   "cell_type": "markdown",
   "id": "1da5727a-b575-4e19-8938-b453d2996573",
   "metadata": {},
   "source": [
    "- x_, y_, rslt_, rsdl"
   ]
  },
  {
   "cell_type": "markdown",
   "id": "2e12d6dd-1d6d-4576-8b70-5d9c1285b4e4",
   "metadata": {},
   "source": [
    "### 벡터를 선언하는 방법"
   ]
  },
  {
   "cell_type": "markdown",
   "id": "ff6df32e-855b-48a9-a3d6-eef3b5fc99cb",
   "metadata": {},
   "source": [
    "#### 방법1 : 직접 입력"
   ]
  },
  {
   "cell_type": "code",
   "execution_count": 17,
   "id": "2b5e9e15-e006-4fae-b6d1-7dcb51ead447",
   "metadata": {},
   "outputs": [],
   "source": [
    "v1 <- c(1, 2, 3, 3, 4, 5, 2)"
   ]
  },
  {
   "cell_type": "code",
   "execution_count": 18,
   "id": "8d0a113e-7187-4d6d-8539-3f38beba511d",
   "metadata": {},
   "outputs": [
    {
     "data": {
      "text/html": [
       "<style>\n",
       ".list-inline {list-style: none; margin:0; padding: 0}\n",
       ".list-inline>li {display: inline-block}\n",
       ".list-inline>li:not(:last-child)::after {content: \"\\00b7\"; padding: 0 .5ex}\n",
       "</style>\n",
       "<ol class=list-inline><li>1</li><li>2</li><li>3</li><li>3</li><li>4</li><li>5</li><li>2</li></ol>\n"
      ],
      "text/latex": [
       "\\begin{enumerate*}\n",
       "\\item 1\n",
       "\\item 2\n",
       "\\item 3\n",
       "\\item 3\n",
       "\\item 4\n",
       "\\item 5\n",
       "\\item 2\n",
       "\\end{enumerate*}\n"
      ],
      "text/markdown": [
       "1. 1\n",
       "2. 2\n",
       "3. 3\n",
       "4. 3\n",
       "5. 4\n",
       "6. 5\n",
       "7. 2\n",
       "\n",
       "\n"
      ],
      "text/plain": [
       "[1] 1 2 3 3 4 5 2"
      ]
     },
     "metadata": {},
     "output_type": "display_data"
    }
   ],
   "source": [
    "v1"
   ]
  },
  {
   "cell_type": "code",
   "execution_count": 19,
   "id": "b2aea214-e16b-453c-985c-3e051d952f59",
   "metadata": {},
   "outputs": [
    {
     "name": "stdout",
     "output_type": "stream",
     "text": [
      "[1] 1 2 3 3 4 5 2\n"
     ]
    }
   ],
   "source": [
    "print(v1)"
   ]
  },
  {
   "cell_type": "markdown",
   "id": "e0119f4f-7316-473a-8546-b8e76451b258",
   "metadata": {},
   "source": [
    "#### 방법2 : seq를 이용"
   ]
  },
  {
   "cell_type": "code",
   "execution_count": 30,
   "id": "592a116c-8c91-460d-9ec0-e9dc31b48474",
   "metadata": {},
   "outputs": [],
   "source": [
    "v2 <- seq(from=0, to=10, by=0.1) #0부터 10까지 0.1 단위로 벡터 생성!"
   ]
  },
  {
   "cell_type": "code",
   "execution_count": 31,
   "id": "6fcb5dd7-3bc2-4e8a-a22a-c1b1fba028c8",
   "metadata": {},
   "outputs": [
    {
     "name": "stdout",
     "output_type": "stream",
     "text": [
      "  [1]  0.0  0.1  0.2  0.3  0.4  0.5  0.6  0.7  0.8  0.9  1.0  1.1  1.2  1.3  1.4\n",
      " [16]  1.5  1.6  1.7  1.8  1.9  2.0  2.1  2.2  2.3  2.4  2.5  2.6  2.7  2.8  2.9\n",
      " [31]  3.0  3.1  3.2  3.3  3.4  3.5  3.6  3.7  3.8  3.9  4.0  4.1  4.2  4.3  4.4\n",
      " [46]  4.5  4.6  4.7  4.8  4.9  5.0  5.1  5.2  5.3  5.4  5.5  5.6  5.7  5.8  5.9\n",
      " [61]  6.0  6.1  6.2  6.3  6.4  6.5  6.6  6.7  6.8  6.9  7.0  7.1  7.2  7.3  7.4\n",
      " [76]  7.5  7.6  7.7  7.8  7.9  8.0  8.1  8.2  8.3  8.4  8.5  8.6  8.7  8.8  8.9\n",
      " [91]  9.0  9.1  9.2  9.3  9.4  9.5  9.6  9.7  9.8  9.9 10.0\n"
     ]
    }
   ],
   "source": [
    "print(v2)"
   ]
  },
  {
   "cell_type": "code",
   "execution_count": 38,
   "id": "c4ef1f4c-ce53-43b2-a5c8-2970f5a95db5",
   "metadata": {},
   "outputs": [
    {
     "name": "stderr",
     "output_type": "stream",
     "text": [
      "Warning message in seq_len(head.end.idx):\n",
      "\"first element used of 'length.out' argument\"\n",
      "ERROR while rich displaying an object: Error in seq_len(head.end.idx): 인자는 반드시 음이 아닌 정수로 강제형변환할 수 있어야 합니다\n",
      "\n",
      "Traceback:\n",
      "1. FUN(X[[i]], ...)\n",
      "2. tryCatch(withCallingHandlers({\n",
      " .     if (!mime %in% names(repr::mime2repr)) \n",
      " .         stop(\"No repr_* for mimetype \", mime, \" in repr::mime2repr\")\n",
      " .     rpr <- repr::mime2repr[[mime]](obj)\n",
      " .     if (is.null(rpr)) \n",
      " .         return(NULL)\n",
      " .     prepare_content(is.raw(rpr), rpr)\n",
      " . }, error = error_handler), error = outer_handler)\n",
      "3. tryCatchList(expr, classes, parentenv, handlers)\n",
      "4. tryCatchOne(expr, names, parentenv, handlers[[1L]])\n",
      "5. doTryCatch(return(expr), name, parentenv, handler)\n",
      "6. withCallingHandlers({\n",
      " .     if (!mime %in% names(repr::mime2repr)) \n",
      " .         stop(\"No repr_* for mimetype \", mime, \" in repr::mime2repr\")\n",
      " .     rpr <- repr::mime2repr[[mime]](obj)\n",
      " .     if (is.null(rpr)) \n",
      " .         return(NULL)\n",
      " .     prepare_content(is.raw(rpr), rpr)\n",
      " . }, error = error_handler)\n",
      "7. repr::mime2repr[[mime]](obj)\n",
      "8. repr_html.help_files_with_topic(obj)\n",
      "9. repr_help_files_with_topic_generic(obj, Rd2HTML)\n"
     ]
    },
    {
     "data": {
      "text/latex": [
       "\\inputencoding{utf8}\n",
       "\\HeaderA{seq}{Sequence Generation}{seq}\n",
       "\\methaliasA{seq.default}{seq}{seq.default}\n",
       "\\methaliasA{seq.int}{seq}{seq.int}\n",
       "\\aliasA{seq\\_along}{seq}{seq.Rul.along}\n",
       "\\aliasA{seq\\_len}{seq}{seq.Rul.len}\n",
       "\\keyword{manip}{seq}\n",
       "%\n",
       "\\begin{Description}\\relax\n",
       "Generate regular sequences.  \\code{seq} is a standard generic with a\n",
       "default method.  \\code{seq.int} is a primitive which can be\n",
       "much faster but has a few restrictions.  \\code{seq\\_along} and\n",
       "\\code{seq\\_len} are very fast primitives for two common cases.\n",
       "\\end{Description}\n",
       "%\n",
       "\\begin{Usage}\n",
       "\\begin{verbatim}\n",
       "seq(...)\n",
       "\n",
       "## Default S3 method:\n",
       "seq(from = 1, to = 1, by = ((to - from)/(length.out - 1)),\n",
       "    length.out = NULL, along.with = NULL, ...)\n",
       "\n",
       "seq.int(from, to, by, length.out, along.with, ...)\n",
       "\n",
       "seq_along(along.with)\n",
       "seq_len(length.out)\n",
       "\\end{verbatim}\n",
       "\\end{Usage}\n",
       "%\n",
       "\\begin{Arguments}\n",
       "\\begin{ldescription}\n",
       "\\item[\\code{...}] arguments passed to or from methods.\n",
       "\\item[\\code{from, to}] the starting and (maximal) end values of the\n",
       "sequence.  Of length \\code{1} unless just \\code{from} is supplied as\n",
       "an unnamed argument.\n",
       "\\item[\\code{by}] number: increment of the sequence.\n",
       "\\item[\\code{length.out}] desired length of the sequence.  A\n",
       "non-negative number, which for \\code{seq} and \\code{seq.int} will be\n",
       "rounded up if fractional.\n",
       "\\item[\\code{along.with}] take the length from the length of this argument.\n",
       "\\end{ldescription}\n",
       "\\end{Arguments}\n",
       "%\n",
       "\\begin{Details}\\relax\n",
       "Numerical inputs should all be \\LinkA{finite}{finite} (that is, not infinite,\n",
       "\\code{\\LinkA{NaN}{NaN}} or \\code{NA}).\n",
       "\n",
       "The interpretation of the unnamed arguments of \\code{seq} and\n",
       "\\code{seq.int} is \\emph{not} standard, and it is recommended always to\n",
       "name the arguments when programming.\n",
       "\n",
       "\\code{seq} is  generic, and only the default method is described here.\n",
       "Note that it dispatches on the class of the \\strong{first} argument\n",
       "irrespective of argument names.  This can have unintended consequences\n",
       "if it is called with just one argument intending this to be taken as\n",
       "\\code{along.with}: it is much better to use \\code{seq\\_along} in that\n",
       "case.\n",
       "\n",
       "\\code{seq.int} is an \\LinkA{internal generic}{internal generic} which dispatches on\n",
       "methods for \\code{\"seq\"} based on the class of the first supplied\n",
       "argument (before argument matching).\n",
       "\n",
       "Typical usages are\n",
       "\\begin{alltt}seq(from, to)\n",
       "seq(from, to, by= )\n",
       "seq(from, to, length.out= )\n",
       "seq(along.with= )\n",
       "seq(from)\n",
       "seq(length.out= )\n",
       "\\end{alltt}\n",
       "\n",
       "The first form generates the sequence \\code{from, from+/-1, ..., to}\n",
       "(identical to \\code{from:to}).\n",
       "\n",
       "The second form generates \\code{from, from+by}, \\ldots, up to the\n",
       "sequence value less than or equal to \\code{to}.  Specifying \\code{to -\n",
       "  from} and \\code{by} of opposite signs is an error.  Note that the\n",
       "computed final value can go just beyond \\code{to} to allow for\n",
       "rounding error, but is truncated to \\code{to}.  (`Just beyond'\n",
       "is by up to \\eqn{10^{-10}}{} times \\code{abs(from - to)}.)\n",
       "\n",
       "The third generates a sequence of \\code{length.out} equally spaced\n",
       "values from \\code{from} to \\code{to}.  (\\code{length.out} is usually\n",
       "abbreviated to \\code{length} or \\code{len}, and \\code{seq\\_len} is much\n",
       "faster.)\n",
       "\n",
       "The fourth form generates the integer sequence \\code{1, 2, ...,\n",
       "    length(along.with)}.  (\\code{along.with} is usually abbreviated to\n",
       "\\code{along}, and \\code{seq\\_along} is much faster.)\n",
       "\n",
       "The fifth form generates the sequence \\code{1, 2, ..., length(from)}\n",
       "(as if argument \\code{along.with} had been specified), \\emph{unless}\n",
       "the argument is numeric of length 1 when it is interpreted as\n",
       "\\code{1:from} (even for \\code{seq(0)} for compatibility with S).\n",
       "Using either \\code{seq\\_along} or \\code{seq\\_len} is much preferred\n",
       "(unless strict S compatibility is essential).\n",
       "\n",
       "The final form generates the integer sequence \\code{1, 2, ...,\n",
       "  length.out} unless \\code{length.out = 0}, when it generates\n",
       "\\code{integer(0)}.\n",
       "\n",
       "Very small sequences (with \\code{from - to} of the order of \\eqn{10^{-14}}{}\n",
       "times the larger of the ends) will return \\code{from}.\n",
       "\n",
       "For \\code{seq} (only), up to two of \\code{from}, \\code{to} and\n",
       "\\code{by} can be supplied as complex values provided \\code{length.out}\n",
       "or \\code{along.with} is specified.  More generally, the default method\n",
       "of \\code{seq} will handle classed objects with methods for\n",
       "the \\code{Math}, \\code{Ops} and \\code{Summary} group generics.\n",
       "\n",
       "\\code{seq.int}, \\code{seq\\_along} and \\code{seq\\_len} are\n",
       "\\LinkA{primitive}{primitive}.\n",
       "\\end{Details}\n",
       "%\n",
       "\\begin{Value}\n",
       "\\code{seq.int} and the default method of \\code{seq} for numeric\n",
       "arguments return a vector of type \\code{\"integer\"} or \\code{\"double\"}:\n",
       "programmers should not rely on which.\n",
       "\n",
       "\\code{seq\\_along} and \\code{seq\\_len} return an integer vector, unless\n",
       "it is a \\emph{\\LinkA{long vector}{long vector}} when it will be double.\n",
       "\\end{Value}\n",
       "%\n",
       "\\begin{References}\\relax\n",
       "Becker, R. A., Chambers, J. M. and Wilks, A. R. (1988)\n",
       "\\emph{The New S Language}.\n",
       "Wadsworth \\& Brooks/Cole.\n",
       "\\end{References}\n",
       "%\n",
       "\\begin{SeeAlso}\\relax\n",
       "The methods \\code{\\LinkA{seq.Date}{seq.Date}} and \\code{\\LinkA{seq.POSIXt}{seq.POSIXt}}.\n",
       "\n",
       "\\code{\\LinkA{:}{:}},\n",
       "\\code{\\LinkA{rep}{rep}},\n",
       "\\code{\\LinkA{sequence}{sequence}},\n",
       "\\code{\\LinkA{row}{row}},\n",
       "\\code{\\LinkA{col}{col}}.\n",
       "\\end{SeeAlso}\n",
       "%\n",
       "\\begin{Examples}\n",
       "\\begin{ExampleCode}\n",
       "seq(0, 1, length.out = 11)\n",
       "seq(stats::rnorm(20)) # effectively 'along'\n",
       "seq(1, 9, by = 2)     # matches 'end'\n",
       "seq(1, 9, by = pi)    # stays below 'end'\n",
       "seq(1, 6, by = 3)\n",
       "seq(1.575, 5.125, by = 0.05)\n",
       "seq(17) # same as 1:17, or even better seq_len(17)\n",
       "\\end{ExampleCode}\n",
       "\\end{Examples}"
      ],
      "text/plain": [
       "seq                    package:base                    R Documentation\n",
       "\n",
       "_\bS_\be_\bq_\bu_\be_\bn_\bc_\be _\bG_\be_\bn_\be_\br_\ba_\bt_\bi_\bo_\bn\n",
       "\n",
       "_\bD_\be_\bs_\bc_\br_\bi_\bp_\bt_\bi_\bo_\bn:\n",
       "\n",
       "     Generate regular sequences.  'seq' is a standard generic with a\n",
       "     default method.  'seq.int' is a primitive which can be much faster\n",
       "     but has a few restrictions.  'seq_along' and 'seq_len' are very\n",
       "     fast primitives for two common cases.\n",
       "\n",
       "_\bU_\bs_\ba_\bg_\be:\n",
       "\n",
       "     seq(...)\n",
       "     \n",
       "     ## Default S3 method:\n",
       "     seq(from = 1, to = 1, by = ((to - from)/(length.out - 1)),\n",
       "         length.out = NULL, along.with = NULL, ...)\n",
       "     \n",
       "     seq.int(from, to, by, length.out, along.with, ...)\n",
       "     \n",
       "     seq_along(along.with)\n",
       "     seq_len(length.out)\n",
       "     \n",
       "_\bA_\br_\bg_\bu_\bm_\be_\bn_\bt_\bs:\n",
       "\n",
       "     ...: arguments passed to or from methods.\n",
       "\n",
       "from, to: the starting and (maximal) end values of the sequence.  Of\n",
       "          length '1' unless just 'from' is supplied as an unnamed\n",
       "          argument.\n",
       "\n",
       "      by: number: increment of the sequence.\n",
       "\n",
       "length.out: desired length of the sequence.  A non-negative number,\n",
       "          which for 'seq' and 'seq.int' will be rounded up if\n",
       "          fractional.\n",
       "\n",
       "along.with: take the length from the length of this argument.\n",
       "\n",
       "_\bD_\be_\bt_\ba_\bi_\bl_\bs:\n",
       "\n",
       "     Numerical inputs should all be finite (that is, not infinite,\n",
       "     'NaN' or 'NA').\n",
       "\n",
       "     The interpretation of the unnamed arguments of 'seq' and 'seq.int'\n",
       "     is _not_ standard, and it is recommended always to name the\n",
       "     arguments when programming.\n",
       "\n",
       "     'seq' is generic, and only the default method is described here.\n",
       "     Note that it dispatches on the class of the *first* argument\n",
       "     irrespective of argument names.  This can have unintended\n",
       "     consequences if it is called with just one argument intending this\n",
       "     to be taken as 'along.with': it is much better to use 'seq_along'\n",
       "     in that case.\n",
       "\n",
       "     'seq.int' is an internal generic which dispatches on methods for\n",
       "     '\"seq\"' based on the class of the first supplied argument (before\n",
       "     argument matching).\n",
       "\n",
       "     Typical usages are\n",
       "\n",
       "     seq(from, to)\n",
       "     seq(from, to, by= )\n",
       "     seq(from, to, length.out= )\n",
       "     seq(along.with= )\n",
       "     seq(from)\n",
       "     seq(length.out= )\n",
       "     \n",
       "     The first form generates the sequence 'from, from+/-1, ..., to'\n",
       "     (identical to 'from:to').\n",
       "\n",
       "     The second form generates 'from, from+by', ..., up to the sequence\n",
       "     value less than or equal to 'to'.  Specifying 'to - from' and 'by'\n",
       "     of opposite signs is an error.  Note that the computed final value\n",
       "     can go just beyond 'to' to allow for rounding error, but is\n",
       "     truncated to 'to'.  ('Just beyond' is by up to 1e-10 times\n",
       "     'abs(from - to)'.)\n",
       "\n",
       "     The third generates a sequence of 'length.out' equally spaced\n",
       "     values from 'from' to 'to'.  ('length.out' is usually abbreviated\n",
       "     to 'length' or 'len', and 'seq_len' is much faster.)\n",
       "\n",
       "     The fourth form generates the integer sequence '1, 2, ...,\n",
       "     length(along.with)'.  ('along.with' is usually abbreviated to\n",
       "     'along', and 'seq_along' is much faster.)\n",
       "\n",
       "     The fifth form generates the sequence '1, 2, ..., length(from)'\n",
       "     (as if argument 'along.with' had been specified), _unless_ the\n",
       "     argument is numeric of length 1 when it is interpreted as '1:from'\n",
       "     (even for 'seq(0)' for compatibility with S).  Using either\n",
       "     'seq_along' or 'seq_len' is much preferred (unless strict S\n",
       "     compatibility is essential).\n",
       "\n",
       "     The final form generates the integer sequence '1, 2, ...,\n",
       "     length.out' unless 'length.out = 0', when it generates\n",
       "     'integer(0)'.\n",
       "\n",
       "     Very small sequences (with 'from - to' of the order of 10^{-14}\n",
       "     times the larger of the ends) will return 'from'.\n",
       "\n",
       "     For 'seq' (only), up to two of 'from', 'to' and 'by' can be\n",
       "     supplied as complex values provided 'length.out' or 'along.with'\n",
       "     is specified.  More generally, the default method of 'seq' will\n",
       "     handle classed objects with methods for the 'Math', 'Ops' and\n",
       "     'Summary' group generics.\n",
       "\n",
       "     'seq.int', 'seq_along' and 'seq_len' are primitive.\n",
       "\n",
       "_\bV_\ba_\bl_\bu_\be:\n",
       "\n",
       "     'seq.int' and the default method of 'seq' for numeric arguments\n",
       "     return a vector of type '\"integer\"' or '\"double\"': programmers\n",
       "     should not rely on which.\n",
       "\n",
       "     'seq_along' and 'seq_len' return an integer vector, unless it is a\n",
       "     _long vector_ when it will be double.\n",
       "\n",
       "_\bR_\be_\bf_\be_\br_\be_\bn_\bc_\be_\bs:\n",
       "\n",
       "     Becker, R. A., Chambers, J. M. and Wilks, A. R. (1988) _The New S\n",
       "     Language_.  Wadsworth & Brooks/Cole.\n",
       "\n",
       "_\bS_\be_\be _\bA_\bl_\bs_\bo:\n",
       "\n",
       "     The methods 'seq.Date' and 'seq.POSIXt'.\n",
       "\n",
       "     ':', 'rep', 'sequence', 'row', 'col'.\n",
       "\n",
       "_\bE_\bx_\ba_\bm_\bp_\bl_\be_\bs:\n",
       "\n",
       "     seq(0, 1, length.out = 11)\n",
       "     seq(stats::rnorm(20)) # effectively 'along'\n",
       "     seq(1, 9, by = 2)     # matches 'end'\n",
       "     seq(1, 9, by = pi)    # stays below 'end'\n",
       "     seq(1, 6, by = 3)\n",
       "     seq(1.575, 5.125, by = 0.05)\n",
       "     seq(17) # same as 1:17, or even better seq_len(17)\n",
       "     "
      ]
     },
     "metadata": {},
     "output_type": "display_data"
    }
   ],
   "source": [
    "?seq"
   ]
  },
  {
   "cell_type": "code",
   "execution_count": null,
   "id": "70bbc24e-47b5-4563-a38a-93b56d2e3959",
   "metadata": {},
   "outputs": [],
   "source": []
  }
 ],
 "metadata": {
  "kernelspec": {
   "display_name": "R",
   "language": "R",
   "name": "ir"
  },
  "language_info": {
   "codemirror_mode": "r",
   "file_extension": ".r",
   "mimetype": "text/x-r-source",
   "name": "R",
   "pygments_lexer": "r",
   "version": "4.1.1"
  }
 },
 "nbformat": 4,
 "nbformat_minor": 5
}
