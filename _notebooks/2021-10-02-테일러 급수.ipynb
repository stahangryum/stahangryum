{
 "cells": [
  {
   "cell_type": "markdown",
   "id": "4bb721f5-41b8-4cff-86cf-b426da88428a",
   "metadata": {},
   "source": [
    "# \"테일러 급수\"\n",
    "\n",
    "- toc: true\n",
    "- branch: master\n",
    "- badges: true\n",
    "- comments: true\n",
    "- author: Kim Jeewoo\n",
    "- categories: [미분적분학]\n",
    "- image: images/TaylorSeries.gif"
   ]
  },
  {
   "cell_type": "markdown",
   "id": "47f11900-1ca6-4148-a31f-964d627a4846",
   "metadata": {},
   "source": [
    "$$\n",
    "f(x) = \\sum_{n=0}^\\infty\\cfrac{f^{(n)}(a)}{n!}(x-a)^a\n",
    "$$"
   ]
  },
  {
   "cell_type": "markdown",
   "id": "c29b3123-657f-40b6-af90-9297692d6c07",
   "metadata": {},
   "source": []
  },
  {
   "cell_type": "markdown",
   "id": "d8ceef2d-9d43-485f-8ca1-2dee2be06082",
   "metadata": {},
   "source": []
  },
  {
   "cell_type": "markdown",
   "id": "407ab2e4-d4a0-4a3a-9bca-06effe211a45",
   "metadata": {},
   "source": []
  },
  {
   "cell_type": "markdown",
   "id": "7549d659-8810-4df9-97b2-388a7bec830e",
   "metadata": {},
   "source": []
  },
  {
   "cell_type": "markdown",
   "id": "2ddbabdd-5895-4b06-bb96-4c0f036608f8",
   "metadata": {},
   "source": []
  },
  {
   "cell_type": "markdown",
   "id": "b1b3f302-179f-4710-a489-37cd5049bc57",
   "metadata": {},
   "source": []
  },
  {
   "cell_type": "markdown",
   "id": "05f8884f-6f00-4121-b28f-0575e204a8ca",
   "metadata": {},
   "source": []
  },
  {
   "cell_type": "markdown",
   "id": "2ad4cd42-0e45-42ce-ae7c-13a049856c77",
   "metadata": {},
   "source": []
  },
  {
   "cell_type": "markdown",
   "id": "b6ecfef1-6706-4cd3-8f76-6dd961d93889",
   "metadata": {},
   "source": []
  },
  {
   "cell_type": "markdown",
   "id": "3f504586-4335-485a-b7e3-126fc8a78419",
   "metadata": {},
   "source": []
  }
 ],
 "metadata": {
  "kernelspec": {
   "display_name": "R",
   "language": "R",
   "name": "ir"
  },
  "language_info": {
   "codemirror_mode": "r",
   "file_extension": ".r",
   "mimetype": "text/x-r-source",
   "name": "R",
   "pygments_lexer": "r",
   "version": "4.1.1"
  }
 },
 "nbformat": 4,
 "nbformat_minor": 5
}
