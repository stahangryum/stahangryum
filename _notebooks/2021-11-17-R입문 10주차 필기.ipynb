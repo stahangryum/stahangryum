{
 "cells": [
  {
   "cell_type": "code",
   "execution_count": 16,
   "id": "f884bb8c-435d-4679-95f2-8f0d89eaa9fd",
   "metadata": {},
   "outputs": [],
   "source": [
    "#hide\n",
    "options(jupyter.plot_scale = 3)\n",
    "options(jupyter.display_mimetypes = c(\"text/html\"))\n",
    "options(jupyter.rich_display=FALSE)\n",
    "options(repr.plot.width=6, repr.plot.height=6, repr.plot.res=300)\n",
    "options(max.print=1000)"
   ]
  },
  {
   "cell_type": "markdown",
   "id": "d35ef499-ec41-45f0-a02f-8660c46aa554",
   "metadata": {},
   "source": [
    "# \"리스트\"\n",
    "> \"전북대학교 R입문 10주차 필기\"\n",
    "\n",
    "- toc: true\n",
    "- branch: master\n",
    "- badges: true\n",
    "- comments: true\n",
    "- author: Kim Jeewoo\n",
    "- categories: [Introduction to R]\n",
    "- image: images/r_logo.PNG"
   ]
  },
  {
   "cell_type": "code",
   "execution_count": 17,
   "id": "208479d5-6c39-480c-9b27-e57153154e2a",
   "metadata": {},
   "outputs": [
    {
     "data": {
      "text/plain": [
       "[[1]]\n",
       "[1]  5  6  7  8  9 10\n",
       "\n",
       "[[2]]\n",
       "[1] \"A\" \"B\" \"C\"\n",
       "\n",
       "[[3]]\n",
       "     [,1]  [,2]\n",
       "[1,] TRUE FALSE\n",
       "[2,] TRUE  TRUE\n"
      ]
     },
     "metadata": {},
     "output_type": "display_data"
    }
   ],
   "source": [
    "lst = list(5:10, c(\"A\",\"B\",\"C\"), matrix(c(T,T,F,T),ncol=2))\n",
    "lst"
   ]
  },
  {
   "cell_type": "code",
   "execution_count": 24,
   "id": "1caff31a-6597-4975-8e59-41cad50877c9",
   "metadata": {},
   "outputs": [
    {
     "data": {
      "text/plain": [
       "[1]  5  6  7  8  9 10"
      ]
     },
     "metadata": {},
     "output_type": "display_data"
    }
   ],
   "source": [
    "lst[[1]]"
   ]
  },
  {
   "cell_type": "code",
   "execution_count": 19,
   "id": "56448428-d222-4b93-a7c0-e13fb58442c2",
   "metadata": {},
   "outputs": [
    {
     "data": {
      "text/plain": [
       "[1] \"A\" \"B\" \"C\""
      ]
     },
     "metadata": {},
     "output_type": "display_data"
    }
   ],
   "source": [
    "lst[[2]]"
   ]
  },
  {
   "cell_type": "code",
   "execution_count": 20,
   "id": "9f5bd514-a69e-44a3-a554-7c281f64fc35",
   "metadata": {},
   "outputs": [
    {
     "data": {
      "text/plain": [
       "     [,1] [,2] \n",
       "[1,] TRUE FALSE\n",
       "[2,] TRUE  TRUE"
      ]
     },
     "metadata": {},
     "output_type": "display_data"
    }
   ],
   "source": [
    "lst[[3]]"
   ]
  },
  {
   "cell_type": "code",
   "execution_count": 22,
   "id": "29e2bc8d-97e8-49c8-bd55-bab93aaa6eb5",
   "metadata": {},
   "outputs": [
    {
     "data": {
      "text/plain": [
       "[1]  9 10 11 12 13 14"
      ]
     },
     "metadata": {},
     "output_type": "display_data"
    }
   ],
   "source": [
    "lst[[1]] + 4"
   ]
  },
  {
   "cell_type": "code",
   "execution_count": 25,
   "id": "0ac61832-87c1-401b-85fc-b7e9ed5a5e48",
   "metadata": {},
   "outputs": [
    {
     "data": {
      "text/plain": [
       "[1] 3"
      ]
     },
     "metadata": {},
     "output_type": "display_data"
    }
   ],
   "source": [
    "length(lst)"
   ]
  },
  {
   "cell_type": "code",
   "execution_count": null,
   "id": "08101635-4778-4bab-a8d3-4c4085038891",
   "metadata": {},
   "outputs": [],
   "source": []
  }
 ],
 "metadata": {
  "kernelspec": {
   "display_name": "R",
   "language": "R",
   "name": "ir"
  },
  "language_info": {
   "codemirror_mode": "r",
   "file_extension": ".r",
   "mimetype": "text/x-r-source",
   "name": "R",
   "pygments_lexer": "r",
   "version": "4.0.5"
  }
 },
 "nbformat": 4,
 "nbformat_minor": 5
}
