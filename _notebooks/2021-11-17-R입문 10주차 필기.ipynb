{
 "cells": [
  {
   "cell_type": "code",
   "execution_count": 1,
   "id": "f884bb8c-435d-4679-95f2-8f0d89eaa9fd",
   "metadata": {},
   "outputs": [],
   "source": [
    "#hide\n",
    "options(jupyter.plot_scale = 3)\n",
    "options(jupyter.display_mimetypes = c(\"text/html\"))\n",
    "options(jupyter.rich_display=FALSE)\n",
    "options(repr.plot.width=6, repr.plot.height=6, repr.plot.res=300)\n",
    "options(max.print=1000)"
   ]
  },
  {
   "cell_type": "markdown",
   "id": "d35ef499-ec41-45f0-a02f-8660c46aa554",
   "metadata": {},
   "source": [
    "# \"R : list\"\n",
    "> \"전북대학교 R입문 10주차 필기\"\n",
    "\n",
    "- toc: true\n",
    "- branch: master\n",
    "- badges: true\n",
    "- comments: true\n",
    "- author: Kim Jeewoo\n",
    "- categories: [Introduction to R]\n",
    "- image: images/r_logo.PNG"
   ]
  },
  {
   "cell_type": "code",
   "execution_count": 2,
   "id": "9e0b9182-3b25-4ad0-a9fa-0e716defb6b9",
   "metadata": {},
   "outputs": [
    {
     "name": "stderr",
     "output_type": "stream",
     "text": [
      "-- \u001b[1mAttaching packages\u001b[22m ------------------------------------------------------------------------------- tidyverse 1.3.1 --\n",
      "\n",
      "\u001b[32mv\u001b[39m \u001b[34mggplot2\u001b[39m 3.3.5     \u001b[32mv\u001b[39m \u001b[34mpurrr  \u001b[39m 0.3.4\n",
      "\u001b[32mv\u001b[39m \u001b[34mtibble \u001b[39m 3.1.5     \u001b[32mv\u001b[39m \u001b[34mdplyr  \u001b[39m 1.0.7\n",
      "\u001b[32mv\u001b[39m \u001b[34mtidyr  \u001b[39m 1.1.4     \u001b[32mv\u001b[39m \u001b[34mstringr\u001b[39m 1.4.0\n",
      "\u001b[32mv\u001b[39m \u001b[34mreadr  \u001b[39m 2.0.2     \u001b[32mv\u001b[39m \u001b[34mforcats\u001b[39m 0.5.1\n",
      "\n",
      "-- \u001b[1mConflicts\u001b[22m ---------------------------------------------------------------------------------- tidyverse_conflicts() --\n",
      "\u001b[31mx\u001b[39m \u001b[34mdplyr\u001b[39m::\u001b[32mfilter()\u001b[39m masks \u001b[34mstats\u001b[39m::filter()\n",
      "\u001b[31mx\u001b[39m \u001b[34mdplyr\u001b[39m::\u001b[32mlag()\u001b[39m    masks \u001b[34mstats\u001b[39m::lag()\n",
      "\n"
     ]
    }
   ],
   "source": [
    "library(tidyverse)"
   ]
  },
  {
   "cell_type": "markdown",
   "id": "31495b6c-0ffb-40d0-a083-f0a709d011bd",
   "metadata": {},
   "source": [
    "# list"
   ]
  },
  {
   "cell_type": "code",
   "execution_count": 3,
   "id": "208479d5-6c39-480c-9b27-e57153154e2a",
   "metadata": {},
   "outputs": [
    {
     "data": {
      "text/plain": [
       "[[1]]\n",
       "[1]  5  6  7  8  9 10\n",
       "\n",
       "[[2]]\n",
       "[1] \"A\" \"B\" \"C\"\n",
       "\n",
       "[[3]]\n",
       "     [,1]  [,2]\n",
       "[1,] TRUE FALSE\n",
       "[2,] TRUE  TRUE\n"
      ]
     },
     "metadata": {},
     "output_type": "display_data"
    }
   ],
   "source": [
    "lst = list(5:10, c(\"A\",\"B\",\"C\"), matrix(c(T,T,F,T),ncol=2))\n",
    "lst"
   ]
  },
  {
   "cell_type": "code",
   "execution_count": 4,
   "id": "1caff31a-6597-4975-8e59-41cad50877c9",
   "metadata": {},
   "outputs": [
    {
     "data": {
      "text/plain": [
       "[1]  5  6  7  8  9 10"
      ]
     },
     "metadata": {},
     "output_type": "display_data"
    }
   ],
   "source": [
    "lst[[1]]"
   ]
  },
  {
   "cell_type": "code",
   "execution_count": 5,
   "id": "56448428-d222-4b93-a7c0-e13fb58442c2",
   "metadata": {},
   "outputs": [
    {
     "data": {
      "text/plain": [
       "[1] \"A\" \"B\" \"C\""
      ]
     },
     "metadata": {},
     "output_type": "display_data"
    }
   ],
   "source": [
    "lst[[2]]"
   ]
  },
  {
   "cell_type": "code",
   "execution_count": 6,
   "id": "9f5bd514-a69e-44a3-a554-7c281f64fc35",
   "metadata": {},
   "outputs": [
    {
     "data": {
      "text/plain": [
       "     [,1] [,2] \n",
       "[1,] TRUE FALSE\n",
       "[2,] TRUE  TRUE"
      ]
     },
     "metadata": {},
     "output_type": "display_data"
    }
   ],
   "source": [
    "lst[[3]]"
   ]
  },
  {
   "cell_type": "code",
   "execution_count": 7,
   "id": "29e2bc8d-97e8-49c8-bd55-bab93aaa6eb5",
   "metadata": {},
   "outputs": [
    {
     "data": {
      "text/plain": [
       "[1]  9 10 11 12 13 14"
      ]
     },
     "metadata": {},
     "output_type": "display_data"
    }
   ],
   "source": [
    "lst[[1]] + 4"
   ]
  },
  {
   "cell_type": "code",
   "execution_count": 8,
   "id": "0ac61832-87c1-401b-85fc-b7e9ed5a5e48",
   "metadata": {},
   "outputs": [
    {
     "data": {
      "text/plain": [
       "[1] 3"
      ]
     },
     "metadata": {},
     "output_type": "display_data"
    }
   ],
   "source": [
    "length(lst)"
   ]
  },
  {
   "cell_type": "markdown",
   "id": "3ad8c8e5-d6d4-4b09-b310-0860d252e910",
   "metadata": {},
   "source": [
    "---"
   ]
  },
  {
   "cell_type": "markdown",
   "id": "d1776c3c-e3b2-49ae-8ff1-f2766ac69dcd",
   "metadata": {},
   "source": [
    "## 왜 쓰는가?"
   ]
  },
  {
   "cell_type": "markdown",
   "id": "9c397990-89b9-41f3-b459-a5d0ec09ae86",
   "metadata": {},
   "source": [
    "1. 함수에서 여러개의 리턴값"
   ]
  },
  {
   "cell_type": "markdown",
   "id": "bf171b3e-0a5b-4739-a8a9-96b13ffd2513",
   "metadata": {},
   "source": [
    "2. 자료의 저장 및 정리"
   ]
  },
  {
   "cell_type": "markdown",
   "id": "6994384f-8af5-4655-bcd2-fd24b6c48d6f",
   "metadata": {},
   "source": [
    "---"
   ]
  },
  {
   "cell_type": "code",
   "execution_count": 9,
   "id": "a9741972-86af-4673-9b97-24f5943fe7b7",
   "metadata": {},
   "outputs": [
    {
     "data": {
      "text/plain": [
       "[[1]]\n",
       "[1] \"hynn\" \"iu\"   \"gd\"  \n",
       "\n",
       "[[2]]\n",
       "[1] 100  95 100\n"
      ]
     },
     "metadata": {},
     "output_type": "display_data"
    }
   ],
   "source": [
    "mid = list(c('hynn', 'iu', 'gd'), c(100,95,100))\n",
    "mid"
   ]
  },
  {
   "cell_type": "code",
   "execution_count": 10,
   "id": "105199e5-47d2-435c-961c-c18db29f3894",
   "metadata": {},
   "outputs": [
    {
     "data": {
      "text/plain": [
       "NULL"
      ]
     },
     "metadata": {},
     "output_type": "display_data"
    }
   ],
   "source": [
    "names(mid)"
   ]
  },
  {
   "cell_type": "code",
   "execution_count": 11,
   "id": "e7f145d5-afac-4dbb-b095-5a7a5c3c6f94",
   "metadata": {},
   "outputs": [
    {
     "data": {
      "text/plain": [
       "$names\n",
       "[1] \"hynn\" \"iu\"   \"gd\"  \n",
       "\n",
       "$score\n",
       "[1] 100  95 100\n"
      ]
     },
     "metadata": {},
     "output_type": "display_data"
    }
   ],
   "source": [
    "names(mid) = c('names', 'score')\n",
    "mid"
   ]
  },
  {
   "cell_type": "code",
   "execution_count": 12,
   "id": "5c84f435-48e1-4b8d-aa9e-7455476debd2",
   "metadata": {},
   "outputs": [
    {
     "data": {
      "text/plain": [
       "[1] \"names\" \"score\""
      ]
     },
     "metadata": {},
     "output_type": "display_data"
    }
   ],
   "source": [
    "names(mid)"
   ]
  },
  {
   "cell_type": "code",
   "execution_count": 13,
   "id": "c2a0e844-2ea7-4d36-9e69-1aa13a830cbe",
   "metadata": {},
   "outputs": [
    {
     "data": {
      "text/plain": [
       "[1] \"hynn\" \"iu\"   \"gd\"  "
      ]
     },
     "metadata": {},
     "output_type": "display_data"
    }
   ],
   "source": [
    "mid$names"
   ]
  },
  {
   "cell_type": "code",
   "execution_count": 14,
   "id": "56b73a76-b725-4ef8-b5d9-562c9d9c65cd",
   "metadata": {},
   "outputs": [
    {
     "data": {
      "text/plain": [
       "[1] 100  95 100"
      ]
     },
     "metadata": {},
     "output_type": "display_data"
    }
   ],
   "source": [
    "mid$score"
   ]
  },
  {
   "cell_type": "code",
   "execution_count": 15,
   "id": "df36d007-272e-486c-addb-9b74bc1db463",
   "metadata": {},
   "outputs": [
    {
     "data": {
      "text/plain": [
       "$names\n",
       "[1] \"hynn\" \"iu\"   \"gd\"  \n",
       "\n",
       "$score\n",
       "[1] 90 85 90\n"
      ]
     },
     "metadata": {},
     "output_type": "display_data"
    }
   ],
   "source": [
    "final = mid\n",
    "final$score = mid$score - 10\n",
    "final"
   ]
  },
  {
   "cell_type": "code",
   "execution_count": 16,
   "id": "adbdf4a7-505d-474d-a7e0-296e0036a9ee",
   "metadata": {},
   "outputs": [
    {
     "data": {
      "text/plain": [
       "[[1]]\n",
       "[[1]]$names\n",
       "[1] \"hynn\" \"iu\"   \"gd\"  \n",
       "\n",
       "[[1]]$score\n",
       "[1] 100  95 100\n",
       "\n",
       "\n",
       "[[2]]\n",
       "[[2]]$names\n",
       "[1] \"hynn\" \"iu\"   \"gd\"  \n",
       "\n",
       "[[2]]$score\n",
       "[1] 90 85 90\n",
       "\n"
      ]
     },
     "metadata": {},
     "output_type": "display_data"
    }
   ],
   "source": [
    "IR2021 = list(mid, final)\n",
    "IR2021"
   ]
  },
  {
   "cell_type": "code",
   "execution_count": 17,
   "id": "061f926e-47ac-45cb-b3cf-15cfb76f6446",
   "metadata": {},
   "outputs": [
    {
     "data": {
      "text/plain": [
       "$mid\n",
       "$mid$names\n",
       "[1] \"hynn\" \"iu\"   \"gd\"  \n",
       "\n",
       "$mid$score\n",
       "[1] 100  95 100\n",
       "\n",
       "\n",
       "$final\n",
       "$final$names\n",
       "[1] \"hynn\" \"iu\"   \"gd\"  \n",
       "\n",
       "$final$score\n",
       "[1] 90 85 90\n",
       "\n"
      ]
     },
     "metadata": {},
     "output_type": "display_data"
    }
   ],
   "source": [
    "names(IR2021) = c(\"mid\", \"final\")\n",
    "IR2021"
   ]
  },
  {
   "cell_type": "code",
   "execution_count": 18,
   "id": "3505aab7-596d-4aaa-8ac9-e5f9b88a569d",
   "metadata": {},
   "outputs": [
    {
     "data": {
      "text/plain": [
       "[1] 90 85 90"
      ]
     },
     "metadata": {},
     "output_type": "display_data"
    }
   ],
   "source": [
    "IR2021$final$score"
   ]
  },
  {
   "cell_type": "markdown",
   "id": "d59b2c4d-ad72-4407-92e3-3b0c8e38a835",
   "metadata": {},
   "source": [
    "- 아래와 같이 선언하는 것도 깔끔하다."
   ]
  },
  {
   "cell_type": "code",
   "execution_count": 19,
   "id": "98e93018-be8e-409f-af73-5e342ef987ed",
   "metadata": {},
   "outputs": [
    {
     "data": {
      "text/plain": [
       "$names\n",
       "[1] \"hynn\" \"iu\"   \"gd\"  \n",
       "\n",
       "$mid\n",
       "[1] 100  95 100\n",
       "\n",
       "$final\n",
       "[1] 90 85 90\n"
      ]
     },
     "metadata": {},
     "output_type": "display_data"
    }
   ],
   "source": [
    "IR2021 = list(names = mid$names, mid = mid$score, final = final$score)\n",
    "IR2021"
   ]
  },
  {
   "cell_type": "markdown",
   "id": "a222300a-500c-4307-92e7-f71281398c59",
   "metadata": {},
   "source": [
    "# 리스트의 서브세팅"
   ]
  },
  {
   "cell_type": "code",
   "execution_count": 20,
   "id": "27637282-3e0d-4a4d-b48e-07edf7dec7a1",
   "metadata": {},
   "outputs": [
    {
     "data": {
      "text/plain": [
       "$names\n",
       "[1] \"hynn\" \"iu\"   \"gd\"  \n",
       "\n",
       "$mid\n",
       "[1] 100  95 100\n",
       "\n",
       "$final\n",
       "[1] 90 85 90\n"
      ]
     },
     "metadata": {},
     "output_type": "display_data"
    }
   ],
   "source": [
    "IR2021"
   ]
  },
  {
   "cell_type": "markdown",
   "id": "406c9c4e-8232-4439-b519-63d34055dbb8",
   "metadata": {},
   "source": [
    "## 첫 번째 방법 : ["
   ]
  },
  {
   "cell_type": "markdown",
   "id": "6c99bd92-492b-43bb-b920-8cd89895b517",
   "metadata": {},
   "source": [
    "- `[`를 이용: 리스트를 리턴"
   ]
  },
  {
   "cell_type": "code",
   "execution_count": 21,
   "id": "4b4f678f-0882-4674-bc5e-e436a06a47a1",
   "metadata": {},
   "outputs": [
    {
     "data": {
      "text/plain": [
       "$names\n",
       "[1] \"hynn\" \"iu\"   \"gd\"  \n"
      ]
     },
     "metadata": {},
     "output_type": "display_data"
    }
   ],
   "source": [
    "IR2021[1]"
   ]
  },
  {
   "cell_type": "code",
   "execution_count": 22,
   "id": "5c23d471-663a-4490-94fc-f7ca7ac98cad",
   "metadata": {},
   "outputs": [
    {
     "data": {
      "text/plain": [
       "$names\n",
       "[1] \"hynn\" \"iu\"   \"gd\"  \n",
       "\n",
       "$mid\n",
       "[1] 100  95 100\n"
      ]
     },
     "metadata": {},
     "output_type": "display_data"
    }
   ],
   "source": [
    "IR2021[1:2]"
   ]
  },
  {
   "cell_type": "code",
   "execution_count": 23,
   "id": "3eeeff91-5f6a-4514-84cb-7a45ea975f5c",
   "metadata": {},
   "outputs": [
    {
     "data": {
      "text/plain": [
       "$names\n",
       "[1] \"hynn\" \"iu\"   \"gd\"  \n",
       "\n",
       "$final\n",
       "[1] 90 85 90\n"
      ]
     },
     "metadata": {},
     "output_type": "display_data"
    }
   ],
   "source": [
    "IR2021[c(1,3)]"
   ]
  },
  {
   "cell_type": "markdown",
   "id": "d2262daf-fc6a-4567-be9e-96ec0b354179",
   "metadata": {},
   "source": [
    "## 두 번째 방법 : [["
   ]
  },
  {
   "cell_type": "markdown",
   "id": "acbe1eaf-164f-4a65-858a-9d105ec840f4",
   "metadata": {},
   "source": [
    "- `[[`를 이용: 리스트의 요소를 리턴"
   ]
  },
  {
   "cell_type": "code",
   "execution_count": 24,
   "id": "2ec0eb0b-2aa9-4e81-a974-1cbf209ceeb1",
   "metadata": {},
   "outputs": [
    {
     "data": {
      "text/plain": [
       "[1] \"hynn\" \"iu\"   \"gd\"  "
      ]
     },
     "metadata": {},
     "output_type": "display_data"
    }
   ],
   "source": [
    "IR2021[[1]]"
   ]
  },
  {
   "cell_type": "code",
   "execution_count": 25,
   "id": "1b0eebbc-71b1-4d00-9e36-2524e466c255",
   "metadata": {},
   "outputs": [
    {
     "data": {
      "text/plain": [
       "[1] 100  95 100"
      ]
     },
     "metadata": {},
     "output_type": "display_data"
    }
   ],
   "source": [
    "IR2021[[2]]"
   ]
  },
  {
   "cell_type": "markdown",
   "id": "4d43304a-0229-4c1d-92dd-5af928ce0180",
   "metadata": {},
   "source": [
    " `[['names']]`와 같은 사용도 가능하다."
   ]
  },
  {
   "cell_type": "code",
   "execution_count": 26,
   "id": "3ec0d3b5-8acc-44e6-90a4-a408e09bb40b",
   "metadata": {},
   "outputs": [
    {
     "data": {
      "text/plain": [
       "[1] \"hynn\" \"iu\"   \"gd\"  "
      ]
     },
     "metadata": {},
     "output_type": "display_data"
    }
   ],
   "source": [
    "IR2021[['names']]"
   ]
  },
  {
   "cell_type": "markdown",
   "id": "835519b7-e55e-43d3-ba78-c38006361112",
   "metadata": {},
   "source": [
    "### 주의점"
   ]
  },
  {
   "cell_type": "code",
   "execution_count": 27,
   "id": "49592ffc-9be0-4acc-9a07-b1fa3698c376",
   "metadata": {},
   "outputs": [
    {
     "data": {
      "text/plain": [
       "[1] \"iu\""
      ]
     },
     "metadata": {},
     "output_type": "display_data"
    }
   ],
   "source": [
    "IR2021[[1:2]]"
   ]
  },
  {
   "cell_type": "code",
   "execution_count": 28,
   "id": "8ce70753-1aa7-4c60-9f37-316e86943b8b",
   "metadata": {},
   "outputs": [
    {
     "data": {
      "text/plain": [
       "[1] \"iu\""
      ]
     },
     "metadata": {},
     "output_type": "display_data"
    }
   ],
   "source": [
    "IR2021[[c(1,2)]]"
   ]
  },
  {
   "cell_type": "markdown",
   "id": "851ba38c-4378-4760-a82c-75c35f9fd6dd",
   "metadata": {},
   "source": [
    "- 위 코드는 IR2021[[1]][2]와 같다."
   ]
  },
  {
   "cell_type": "code",
   "execution_count": 29,
   "id": "22ffb9f0-9a25-4494-968a-00184de8e538",
   "metadata": {},
   "outputs": [
    {
     "ename": "ERROR",
     "evalue": "Error in IR2021[[1:3]]: recursive indexing failed at level 2\n\n",
     "output_type": "error",
     "traceback": [
      "Error in IR2021[[1:3]]: recursive indexing failed at level 2\n\nTraceback:\n"
     ]
    }
   ],
   "source": [
    "IR2021[[1:3]]"
   ]
  },
  {
   "cell_type": "markdown",
   "id": "9ebd456d-9096-47f3-b93a-1f2ccb21b4c3",
   "metadata": {},
   "source": [
    "## 세 번째 방법 : $"
   ]
  },
  {
   "cell_type": "markdown",
   "id": "78b760ab-b593-4b23-afef-7f9ba8715a03",
   "metadata": {},
   "source": [
    "- `$`를 이용:"
   ]
  },
  {
   "cell_type": "code",
   "execution_count": 30,
   "id": "4459263f-b8f3-4a8d-9612-1b2bf26eed97",
   "metadata": {},
   "outputs": [
    {
     "data": {
      "text/plain": [
       "[1] \"hynn\" \"iu\"   \"gd\"  "
      ]
     },
     "metadata": {},
     "output_type": "display_data"
    }
   ],
   "source": [
    "IR2021$names"
   ]
  },
  {
   "cell_type": "markdown",
   "id": "a39fb49b-c9f9-4053-bfa1-2bc069bd07f9",
   "metadata": {},
   "source": [
    "### partial matching"
   ]
  },
  {
   "cell_type": "code",
   "execution_count": 31,
   "id": "a7c840cf-00c9-42c1-899f-f66ee51080a3",
   "metadata": {},
   "outputs": [
    {
     "data": {
      "text/plain": [
       "[1] \"hynn\" \"iu\"   \"gd\"  "
      ]
     },
     "metadata": {},
     "output_type": "display_data"
    }
   ],
   "source": [
    "IR2021$n"
   ]
  },
  {
   "cell_type": "code",
   "execution_count": 32,
   "id": "425c0a2d-c138-4d7a-9581-12685e8c345c",
   "metadata": {},
   "outputs": [
    {
     "data": {
      "text/plain": [
       "[1] \"hynn\" \"iu\"   \"gd\"  "
      ]
     },
     "metadata": {},
     "output_type": "display_data"
    }
   ],
   "source": [
    "IR2021$na"
   ]
  },
  {
   "cell_type": "markdown",
   "id": "2962bab8-7271-4084-ad76-95042945aeae",
   "metadata": {},
   "source": [
    "IR201$names"
   ]
  },
  {
   "cell_type": "markdown",
   "id": "6ab7e5ee-9ce8-4467-9f43-1e78bb4e5be9",
   "metadata": {},
   "source": [
    "# 리스트의 활용"
   ]
  },
  {
   "cell_type": "markdown",
   "id": "66c9baf4-1f44-499b-9d0c-174616305209",
   "metadata": {},
   "source": [
    "## 함수의 다중 리턴"
   ]
  },
  {
   "cell_type": "code",
   "execution_count": 33,
   "id": "7842b69d-54e6-47b0-8f47-170b4e18b92f",
   "metadata": {},
   "outputs": [
    {
     "data": {
      "text/plain": [
       "$add\n",
       "[1] 5\n",
       "\n",
       "$sub\n",
       "[1] -1\n",
       "\n",
       "$mul\n",
       "[1] 6\n",
       "\n",
       "$dic\n",
       "[1] 0.6666667\n"
      ]
     },
     "metadata": {},
     "output_type": "display_data"
    }
   ],
   "source": [
    "cal = function(x, y){\n",
    "    return(list(add=x+y, sub=x-y, mul=x*y, dic=x/y))\n",
    "}\n",
    "\n",
    "cal(2,3)"
   ]
  },
  {
   "cell_type": "markdown",
   "id": "afcac911-5378-49b2-b303-49b1d4b89d3f",
   "metadata": {},
   "source": [
    "- 함수의 결괏값을 저장하여 아래와 같이 사용"
   ]
  },
  {
   "cell_type": "code",
   "execution_count": 34,
   "id": "abdef53d-8536-4b72-b557-fcb81589bda4",
   "metadata": {},
   "outputs": [],
   "source": [
    "rslt = cal(4,3)"
   ]
  },
  {
   "cell_type": "code",
   "execution_count": 35,
   "id": "abaee735-1191-42e4-91d6-cb44f508bceb",
   "metadata": {},
   "outputs": [
    {
     "data": {
      "text/plain": [
       "[1] 7"
      ]
     },
     "metadata": {},
     "output_type": "display_data"
    }
   ],
   "source": [
    "rslt$add"
   ]
  },
  {
   "cell_type": "code",
   "execution_count": 36,
   "id": "0c1cc613-d7d7-4b35-939b-322456073624",
   "metadata": {},
   "outputs": [
    {
     "data": {
      "text/plain": [
       "[1] 1"
      ]
     },
     "metadata": {},
     "output_type": "display_data"
    }
   ],
   "source": [
    "rslt$sub"
   ]
  },
  {
   "cell_type": "markdown",
   "id": "52f39bf5-c00b-4ee8-a99b-5bd3b94f8c26",
   "metadata": {},
   "source": [
    "- 아래와 같은 코드는 비효율적이므로 잘 사용하지 않는다."
   ]
  },
  {
   "cell_type": "code",
   "execution_count": 37,
   "id": "163123ca-dceb-49a7-86db-7357c46b863b",
   "metadata": {},
   "outputs": [
    {
     "data": {
      "text/plain": [
       "[1] 7"
      ]
     },
     "metadata": {},
     "output_type": "display_data"
    }
   ],
   "source": [
    "cal(4,3)$add"
   ]
  },
  {
   "cell_type": "code",
   "execution_count": 38,
   "id": "80bce49b-5a11-4ee4-9e06-493b81b208e2",
   "metadata": {},
   "outputs": [
    {
     "data": {
      "text/plain": [
       "[1] 1"
      ]
     },
     "metadata": {},
     "output_type": "display_data"
    }
   ],
   "source": [
    "cal(4,3)$sub"
   ]
  },
  {
   "cell_type": "markdown",
   "id": "ad96e302-e202-4bba-b079-bfcd3e064244",
   "metadata": {},
   "source": [
    "# 과제"
   ]
  },
  {
   "cell_type": "markdown",
   "id": "bb5818bf-09b9-4e60-a014-4cb0c632cf74",
   "metadata": {},
   "source": [
    "- 아래 주어진 코드를 이용하여 벡터 ${\\bf x}$와 벡터 ${\\bf y}$를 표준정규분포에서 생성하라.\n",
    "\n",
    "```r\n",
    "x=rnorm(100)\n",
    "y=rnorm(100)\n",
    "```"
   ]
  },
  {
   "cell_type": "markdown",
   "id": "3243e64e-1be9-453d-8f9e-48cf813c8269",
   "metadata": {},
   "source": [
    "아래의 수식을 계산하는 코드를 작성하라."
   ]
  },
  {
   "cell_type": "markdown",
   "id": "fc364c01-3478-4cfc-9f53-ad0d2b785beb",
   "metadata": {},
   "source": [
    "$\n",
    "\\dfrac{\\sum_{i=1}^{100}(x_i-\\bar{x})(y_i-\\bar{y})}{\\sqrt{\\sum_{i=1}^{100}(x_i-\\bar{x})^2}\\sqrt{\\sum_{i=1}^{100}(y_i-\\bar{y})^2}}\n",
    "$\n",
    "\n",
    "단 $\\bar{x}=\\frac{1}{100}\\sum_{i=1}^{100}x_i$로 정의한다. "
   ]
  },
  {
   "cell_type": "code",
   "execution_count": 65,
   "id": "78bd95ea-dc0c-4497-8651-9750374ac97c",
   "metadata": {},
   "outputs": [],
   "source": [
    "x=rnorm(100)\n",
    "y=rnorm(100)"
   ]
  },
  {
   "cell_type": "code",
   "execution_count": 66,
   "id": "22ddb037-256c-4c99-b039-f711bbf0e152",
   "metadata": {},
   "outputs": [],
   "source": [
    "crrn = function(x, y){\n",
    "    x_bar = mean(x)\n",
    "    y_bar = mean(y)\n",
    "    \n",
    "    crrn = sum((x-x_bar)*(y-y_bar)) / (sqrt(sum((x-x_bar)**2)) * sqrt(sum((y-y_bar)**2)))\n",
    "    return(crrn)\n",
    "}"
   ]
  },
  {
   "cell_type": "code",
   "execution_count": 67,
   "id": "a64b3b1a-d621-4e10-aa6e-ab532b962531",
   "metadata": {},
   "outputs": [
    {
     "data": {
      "text/plain": [
       "[1] 0.09379184"
      ]
     },
     "metadata": {},
     "output_type": "display_data"
    }
   ],
   "source": [
    "crrn(x,y) "
   ]
  },
  {
   "cell_type": "markdown",
   "id": "53a59b64-aa63-478b-adf0-c946bd36f23d",
   "metadata": {},
   "source": [
    "# exp"
   ]
  },
  {
   "cell_type": "code",
   "execution_count": 58,
   "id": "e5e208b0-96b8-4c67-b4f3-699c09ba3e36",
   "metadata": {},
   "outputs": [
    {
     "data": {
      "text/plain": [
       "[1] TRUE"
      ]
     },
     "metadata": {},
     "output_type": "display_data"
    }
   ],
   "source": [
    "crrn(x,y) %>% round(6) == cor(x,y) %>% round(6)"
   ]
  },
  {
   "cell_type": "code",
   "execution_count": 63,
   "id": "eedf57d0-9c9f-43c1-87cb-23585c7565bc",
   "metadata": {},
   "outputs": [
    {
     "data": {
      "image/png": "[encoded data removed]",
      "text/plain": [
       "Plot with title \"Histogram of tt\""
      ]
     },
     "metadata": {
      "image/png": {
       "height": 600,
       "width": 600
      }
     },
     "output_type": "display_data"
    }
   ],
   "source": [
    "tt = c()\n",
    "for (i in 1:100){\n",
    "    x=rnorm(100)\n",
    "    y=rnorm(100)\n",
    "    tt[i] = crrn(x,y)\n",
    "}\n",
    "hist(tt)"
   ]
  },
  {
   "cell_type": "code",
   "execution_count": 45,
   "id": "cdea2040-52bc-4064-8785-92bf4e8bec13",
   "metadata": {},
   "outputs": [
    {
     "data": {
      "image/png": "[encoded data removed]",
      "text/plain": [
       "Plot with title \"Histogram of y\""
      ]
     },
     "metadata": {
      "image/png": {
       "height": 600,
       "width": 600
      }
     },
     "output_type": "display_data"
    }
   ],
   "source": [
    "hist(x, breaks= 50, col = \"RED\")\n",
    "par(new = T)\n",
    "hist(y, breaks= 50, col = \"BLUE\")\n",
    "par(new = T)\n",
    "k <- seq(-3, 3, length=200)\n",
    "plot(k, dnorm(k, mean=0, sd=1),lwd = 10)\n"
   ]
  },
  {
   "cell_type": "code",
   "execution_count": null,
   "id": "e936d5eb-afcd-4dd1-9d46-d03bc4983815",
   "metadata": {},
   "outputs": [],
   "source": []
  }
 ],
 "metadata": {
  "kernelspec": {
   "display_name": "R",
   "language": "R",
   "name": "ir"
  },
  "language_info": {
   "codemirror_mode": "r",
   "file_extension": ".r",
   "mimetype": "text/x-r-source",
   "name": "R",
   "pygments_lexer": "r",
   "version": "4.0.5"
  }
 },
 "nbformat": 4,
 "nbformat_minor": 5
}
