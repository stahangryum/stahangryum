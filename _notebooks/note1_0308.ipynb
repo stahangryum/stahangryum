{
 "cells": [
  {
   "cell_type": "markdown",
   "id": "limiting-attitude",
   "metadata": {},
   "source": [
    "# 파이썬 교재"
   ]
  },
  {
   "cell_type": "markdown",
   "id": "personalized-inspiration",
   "metadata": {},
   "source": [
    "- https://docs.python.org/3.8/tutorial/index.html\n",
    "- https://wikidocs.net/book/1\n",
    "- https://jakevdp.github.io/PythonDataScienceHandbook/"
   ]
  },
  {
   "cell_type": "markdown",
   "id": "white-russia",
   "metadata": {},
   "source": [
    "# 파이썬 객체소개"
   ]
  },
  {
   "cell_type": "markdown",
   "id": "centered-prior",
   "metadata": {},
   "source": [
    "객체? "
   ]
  },
  {
   "cell_type": "markdown",
   "id": "distant-serial",
   "metadata": {},
   "source": [
    "- 아직은 설명하기 어렵다. \n",
    "- 본질적으로는 객체는 메모리 조각이다. \n",
    "- 파이썬에서는 모든것이 객체이다. (값, 연산, 함수, 클래스, 컴파일된 코드) \n",
    "    - 예를들면 숫자(99)도 객체이며, 파이썬이 제공하는 연산들(더하기, 빼기)도 객체이다. \n",
    "- 내장객체의 타입을 알아보자. "
   ]
  },
  {
   "cell_type": "markdown",
   "id": "stock-liechtenstein",
   "metadata": {},
   "source": [
    "# 1. `0차원` 자료형  "
   ]
  },
  {
   "cell_type": "markdown",
   "id": "exact-validity",
   "metadata": {},
   "source": [
    "### (1) `int`형 "
   ]
  },
  {
   "cell_type": "code",
   "execution_count": 8,
   "id": "extraordinary-steering",
   "metadata": {},
   "outputs": [],
   "source": [
    "a=100"
   ]
  },
  {
   "cell_type": "markdown",
   "id": "prescribed-temple",
   "metadata": {},
   "source": [
    "### (2) `float`형"
   ]
  },
  {
   "cell_type": "code",
   "execution_count": 13,
   "id": "threatened-cemetery",
   "metadata": {},
   "outputs": [
    {
     "data": {
      "text/plain": [
       "3.5999999999999996"
      ]
     },
     "execution_count": 13,
     "metadata": {},
     "output_type": "execute_result"
    }
   ],
   "source": [
    "a=1.2*3\n",
    "a"
   ]
  },
  {
   "cell_type": "markdown",
   "id": "beautiful-attempt",
   "metadata": {},
   "source": [
    "### (3) `complex`형 "
   ]
  },
  {
   "cell_type": "code",
   "execution_count": 15,
   "id": "tired-hawaiian",
   "metadata": {},
   "outputs": [],
   "source": [
    "a=1+2j\n",
    "b=2-2j\n",
    "c=a+b"
   ]
  },
  {
   "cell_type": "markdown",
   "id": "faced-hurricane",
   "metadata": {},
   "source": [
    "### (4) `bool`형 "
   ]
  },
  {
   "cell_type": "code",
   "execution_count": 19,
   "id": "applied-airline",
   "metadata": {},
   "outputs": [],
   "source": [
    "a=True ## a=1로 생각해도 .. \n",
    "b=False ## b=0으로 생각해도 .. "
   ]
  },
  {
   "cell_type": "markdown",
   "id": "renewable-windsor",
   "metadata": {},
   "source": [
    "#### [$\\ast$] 형태변환 "
   ]
  },
  {
   "cell_type": "code",
   "execution_count": 25,
   "id": "ahead-regulation",
   "metadata": {},
   "outputs": [],
   "source": [
    "a=3.6234"
   ]
  },
  {
   "cell_type": "code",
   "execution_count": 27,
   "id": "spoken-interview",
   "metadata": {},
   "outputs": [],
   "source": [
    "b=int(a)"
   ]
  },
  {
   "cell_type": "code",
   "execution_count": 28,
   "id": "measured-amateur",
   "metadata": {},
   "outputs": [],
   "source": [
    "a=3"
   ]
  },
  {
   "cell_type": "code",
   "execution_count": 29,
   "id": "colored-valuation",
   "metadata": {},
   "outputs": [
    {
     "data": {
      "text/plain": [
       "3"
      ]
     },
     "execution_count": 29,
     "metadata": {},
     "output_type": "execute_result"
    }
   ],
   "source": [
    "a"
   ]
  },
  {
   "cell_type": "code",
   "execution_count": 30,
   "id": "mobile-bacteria",
   "metadata": {},
   "outputs": [
    {
     "data": {
      "text/plain": [
       "3.0"
      ]
     },
     "execution_count": 30,
     "metadata": {},
     "output_type": "execute_result"
    }
   ],
   "source": [
    "float(a)"
   ]
  },
  {
   "cell_type": "code",
   "execution_count": 31,
   "id": "median-boost",
   "metadata": {},
   "outputs": [
    {
     "data": {
      "text/plain": [
       "1"
      ]
     },
     "execution_count": 31,
     "metadata": {},
     "output_type": "execute_result"
    }
   ],
   "source": [
    "int(True)"
   ]
  },
  {
   "cell_type": "code",
   "execution_count": 32,
   "id": "intended-forestry",
   "metadata": {},
   "outputs": [
    {
     "data": {
      "text/plain": [
       "0.0"
      ]
     },
     "execution_count": 32,
     "metadata": {},
     "output_type": "execute_result"
    }
   ],
   "source": [
    "float(False)"
   ]
  },
  {
   "cell_type": "code",
   "execution_count": 35,
   "id": "oriented-maple",
   "metadata": {},
   "outputs": [
    {
     "ename": "TypeError",
     "evalue": "can't convert complex to float",
     "output_type": "error",
     "traceback": [
      "\u001b[0;31m---------------------------------------------------------------------------\u001b[0m",
      "\u001b[0;31mTypeError\u001b[0m                                 Traceback (most recent call last)",
      "\u001b[0;32m<ipython-input-35-804a051fe87a>\u001b[0m in \u001b[0;36m<module>\u001b[0;34m\u001b[0m\n\u001b[0;32m----> 1\u001b[0;31m \u001b[0mfloat\u001b[0m\u001b[0;34m(\u001b[0m\u001b[0;36m3\u001b[0m\u001b[0;34m+\u001b[0m\u001b[0;36m0j\u001b[0m\u001b[0;34m)\u001b[0m\u001b[0;34m\u001b[0m\u001b[0;34m\u001b[0m\u001b[0m\n\u001b[0m",
      "\u001b[0;31mTypeError\u001b[0m: can't convert complex to float"
     ]
    }
   ],
   "source": [
    "float(3+0j)"
   ]
  },
  {
   "cell_type": "markdown",
   "id": "fossil-theater",
   "metadata": {},
   "source": [
    "#### [$\\ast$] `math`"
   ]
  },
  {
   "cell_type": "code",
   "execution_count": 40,
   "id": "mechanical-theorem",
   "metadata": {},
   "outputs": [
    {
     "data": {
      "text/plain": [
       "3.141592653589793"
      ]
     },
     "execution_count": 40,
     "metadata": {},
     "output_type": "execute_result"
    }
   ],
   "source": [
    "import math\n",
    "math.pi"
   ]
  },
  {
   "cell_type": "code",
   "execution_count": 41,
   "id": "adequate-department",
   "metadata": {},
   "outputs": [
    {
     "data": {
      "text/plain": [
       "4.141592653589793"
      ]
     },
     "execution_count": 41,
     "metadata": {},
     "output_type": "execute_result"
    }
   ],
   "source": [
    "math.pi+1"
   ]
  },
  {
   "cell_type": "code",
   "execution_count": 42,
   "id": "robust-myanmar",
   "metadata": {},
   "outputs": [
    {
     "data": {
      "text/plain": [
       "2.718281828459045"
      ]
     },
     "execution_count": 42,
     "metadata": {},
     "output_type": "execute_result"
    }
   ],
   "source": [
    "math.e"
   ]
  },
  {
   "cell_type": "code",
   "execution_count": 43,
   "id": "final-capability",
   "metadata": {},
   "outputs": [
    {
     "data": {
      "text/plain": [
       "4.718281828459045"
      ]
     },
     "execution_count": 43,
     "metadata": {},
     "output_type": "execute_result"
    }
   ],
   "source": [
    "math.e+2"
   ]
  },
  {
   "cell_type": "code",
   "execution_count": 54,
   "id": "promotional-conditioning",
   "metadata": {},
   "outputs": [
    {
     "data": {
      "text/plain": [
       "1.0"
      ]
     },
     "execution_count": 54,
     "metadata": {},
     "output_type": "execute_result"
    }
   ],
   "source": [
    "math.sin(math.pi/2)"
   ]
  },
  {
   "cell_type": "code",
   "execution_count": 45,
   "id": "norwegian-natural",
   "metadata": {},
   "outputs": [
    {
     "data": {
      "text/plain": [
       "1.4142135623730951"
      ]
     },
     "execution_count": 45,
     "metadata": {},
     "output_type": "execute_result"
    }
   ],
   "source": [
    "math.sqrt(2)"
   ]
  },
  {
   "cell_type": "code",
   "execution_count": 51,
   "id": "dedicated-intro",
   "metadata": {},
   "outputs": [
    {
     "data": {
      "text/plain": [
       "['__doc__',\n",
       " '__file__',\n",
       " '__loader__',\n",
       " '__name__',\n",
       " '__package__',\n",
       " '__spec__',\n",
       " 'acos',\n",
       " 'acosh',\n",
       " 'asin',\n",
       " 'asinh',\n",
       " 'atan',\n",
       " 'atan2',\n",
       " 'atanh',\n",
       " 'ceil',\n",
       " 'comb',\n",
       " 'copysign',\n",
       " 'cos',\n",
       " 'cosh',\n",
       " 'degrees',\n",
       " 'dist',\n",
       " 'e',\n",
       " 'erf',\n",
       " 'erfc',\n",
       " 'exp',\n",
       " 'expm1',\n",
       " 'fabs',\n",
       " 'factorial',\n",
       " 'floor',\n",
       " 'fmod',\n",
       " 'frexp',\n",
       " 'fsum',\n",
       " 'gamma',\n",
       " 'gcd',\n",
       " 'hypot',\n",
       " 'inf',\n",
       " 'isclose',\n",
       " 'isfinite',\n",
       " 'isinf',\n",
       " 'isnan',\n",
       " 'isqrt',\n",
       " 'ldexp',\n",
       " 'lgamma',\n",
       " 'log',\n",
       " 'log10',\n",
       " 'log1p',\n",
       " 'log2',\n",
       " 'modf',\n",
       " 'nan',\n",
       " 'perm',\n",
       " 'pi',\n",
       " 'pow',\n",
       " 'prod',\n",
       " 'radians',\n",
       " 'remainder',\n",
       " 'sin',\n",
       " 'sinh',\n",
       " 'sqrt',\n",
       " 'tan',\n",
       " 'tanh',\n",
       " 'tau',\n",
       " 'trunc']"
      ]
     },
     "execution_count": 51,
     "metadata": {},
     "output_type": "execute_result"
    }
   ],
   "source": [
    "dir(math)"
   ]
  },
  {
   "cell_type": "markdown",
   "id": "applied-motor",
   "metadata": {},
   "source": [
    "- `math.??`의 사용법을 아는 방법? "
   ]
  },
  {
   "cell_type": "code",
   "execution_count": 53,
   "id": "august-secondary",
   "metadata": {},
   "outputs": [
    {
     "data": {
      "text/plain": [
       "\u001b[0;31mSignature:\u001b[0m \u001b[0mmath\u001b[0m\u001b[0;34m.\u001b[0m\u001b[0msqrt\u001b[0m\u001b[0;34m(\u001b[0m\u001b[0mx\u001b[0m\u001b[0;34m,\u001b[0m \u001b[0;34m/\u001b[0m\u001b[0;34m)\u001b[0m\u001b[0;34m\u001b[0m\u001b[0;34m\u001b[0m\u001b[0m\n",
       "\u001b[0;31mDocstring:\u001b[0m Return the square root of x.\n",
       "\u001b[0;31mType:\u001b[0m      builtin_function_or_method\n"
      ]
     },
     "metadata": {},
     "output_type": "display_data"
    }
   ],
   "source": [
    "math.sqrt"
   ]
  },
  {
   "cell_type": "markdown",
   "id": "republican-pollution",
   "metadata": {},
   "source": [
    "(의문) `math.`에서 `.`을 왜 항상 붙이는가?"
   ]
  },
  {
   "cell_type": "markdown",
   "id": "former-deployment",
   "metadata": {},
   "source": [
    "(요구) `.` 을 안붙이는 방법은 없을까? "
   ]
  },
  {
   "cell_type": "code",
   "execution_count": 56,
   "id": "adjusted-belly",
   "metadata": {},
   "outputs": [],
   "source": [
    "from math import pi "
   ]
  },
  {
   "cell_type": "code",
   "execution_count": 57,
   "id": "satisfied-mention",
   "metadata": {},
   "outputs": [
    {
     "data": {
      "text/plain": [
       "3.141592653589793"
      ]
     },
     "execution_count": 57,
     "metadata": {},
     "output_type": "execute_result"
    }
   ],
   "source": [
    "pi"
   ]
  },
  {
   "cell_type": "code",
   "execution_count": 58,
   "id": "published-athletics",
   "metadata": {},
   "outputs": [
    {
     "data": {
      "text/plain": [
       "6.283185307179586"
      ]
     },
     "execution_count": 58,
     "metadata": {},
     "output_type": "execute_result"
    }
   ],
   "source": [
    "2*pi"
   ]
  },
  {
   "cell_type": "code",
   "execution_count": 59,
   "id": "classical-member",
   "metadata": {},
   "outputs": [
    {
     "data": {
      "text/plain": [
       "9.42477796076938"
      ]
     },
     "execution_count": 59,
     "metadata": {},
     "output_type": "execute_result"
    }
   ],
   "source": [
    "3*pi"
   ]
  },
  {
   "cell_type": "code",
   "execution_count": 61,
   "id": "common-lawyer",
   "metadata": {},
   "outputs": [
    {
     "data": {
      "text/plain": [
       "1.0"
      ]
     },
     "execution_count": 61,
     "metadata": {},
     "output_type": "execute_result"
    }
   ],
   "source": [
    "math.sin(pi/2)"
   ]
  },
  {
   "cell_type": "code",
   "execution_count": 62,
   "id": "outer-ukraine",
   "metadata": {},
   "outputs": [],
   "source": [
    "from math import sin "
   ]
  },
  {
   "cell_type": "code",
   "execution_count": 63,
   "id": "active-portal",
   "metadata": {},
   "outputs": [
    {
     "data": {
      "text/plain": [
       "1.0"
      ]
     },
     "execution_count": 63,
     "metadata": {},
     "output_type": "execute_result"
    }
   ],
   "source": [
    "sin(pi/2)"
   ]
  },
  {
   "cell_type": "code",
   "execution_count": 68,
   "id": "listed-weapon",
   "metadata": {},
   "outputs": [
    {
     "data": {
      "text/plain": [
       "1.4142135623730951"
      ]
     },
     "execution_count": 68,
     "metadata": {},
     "output_type": "execute_result"
    }
   ],
   "source": [
    "abs(1+1j)"
   ]
  },
  {
   "cell_type": "code",
   "execution_count": 67,
   "id": "universal-graduation",
   "metadata": {},
   "outputs": [
    {
     "data": {
      "text/plain": [
       "1.4142135623730951"
      ]
     },
     "execution_count": 67,
     "metadata": {},
     "output_type": "execute_result"
    }
   ],
   "source": [
    "math.sqrt(2)"
   ]
  },
  {
   "cell_type": "markdown",
   "id": "special-fusion",
   "metadata": {},
   "source": [
    "#### [$\\ast$] 파이썬 빌트인함수"
   ]
  },
  {
   "cell_type": "markdown",
   "id": "furnished-milton",
   "metadata": {},
   "source": [
    "빌트인함수의 종류에 어떤것이 있는지 확인하는 방법? "
   ]
  },
  {
   "cell_type": "markdown",
   "id": "unsigned-letter",
   "metadata": {},
   "source": [
    "- https://docs.python.org/3.8/library/functions.html"
   ]
  },
  {
   "cell_type": "code",
   "execution_count": 69,
   "id": "global-dispute",
   "metadata": {},
   "outputs": [],
   "source": [
    "import builtins "
   ]
  },
  {
   "cell_type": "code",
   "execution_count": 70,
   "id": "horizontal-suspect",
   "metadata": {},
   "outputs": [
    {
     "data": {
      "text/plain": [
       "['ArithmeticError',\n",
       " 'AssertionError',\n",
       " 'AttributeError',\n",
       " 'BaseException',\n",
       " 'BlockingIOError',\n",
       " 'BrokenPipeError',\n",
       " 'BufferError',\n",
       " 'BytesWarning',\n",
       " 'ChildProcessError',\n",
       " 'ConnectionAbortedError',\n",
       " 'ConnectionError',\n",
       " 'ConnectionRefusedError',\n",
       " 'ConnectionResetError',\n",
       " 'DeprecationWarning',\n",
       " 'EOFError',\n",
       " 'Ellipsis',\n",
       " 'EnvironmentError',\n",
       " 'Exception',\n",
       " 'False',\n",
       " 'FileExistsError',\n",
       " 'FileNotFoundError',\n",
       " 'FloatingPointError',\n",
       " 'FutureWarning',\n",
       " 'GeneratorExit',\n",
       " 'IOError',\n",
       " 'ImportError',\n",
       " 'ImportWarning',\n",
       " 'IndentationError',\n",
       " 'IndexError',\n",
       " 'InterruptedError',\n",
       " 'IsADirectoryError',\n",
       " 'KeyError',\n",
       " 'KeyboardInterrupt',\n",
       " 'LookupError',\n",
       " 'MemoryError',\n",
       " 'ModuleNotFoundError',\n",
       " 'NameError',\n",
       " 'None',\n",
       " 'NotADirectoryError',\n",
       " 'NotImplemented',\n",
       " 'NotImplementedError',\n",
       " 'OSError',\n",
       " 'OverflowError',\n",
       " 'PendingDeprecationWarning',\n",
       " 'PermissionError',\n",
       " 'ProcessLookupError',\n",
       " 'RecursionError',\n",
       " 'ReferenceError',\n",
       " 'ResourceWarning',\n",
       " 'RuntimeError',\n",
       " 'RuntimeWarning',\n",
       " 'StopAsyncIteration',\n",
       " 'StopIteration',\n",
       " 'SyntaxError',\n",
       " 'SyntaxWarning',\n",
       " 'SystemError',\n",
       " 'SystemExit',\n",
       " 'TabError',\n",
       " 'TimeoutError',\n",
       " 'True',\n",
       " 'TypeError',\n",
       " 'UnboundLocalError',\n",
       " 'UnicodeDecodeError',\n",
       " 'UnicodeEncodeError',\n",
       " 'UnicodeError',\n",
       " 'UnicodeTranslateError',\n",
       " 'UnicodeWarning',\n",
       " 'UserWarning',\n",
       " 'ValueError',\n",
       " 'Warning',\n",
       " 'ZeroDivisionError',\n",
       " '__IPYTHON__',\n",
       " '__build_class__',\n",
       " '__debug__',\n",
       " '__doc__',\n",
       " '__import__',\n",
       " '__loader__',\n",
       " '__name__',\n",
       " '__package__',\n",
       " '__spec__',\n",
       " 'abs',\n",
       " 'all',\n",
       " 'any',\n",
       " 'ascii',\n",
       " 'bin',\n",
       " 'bool',\n",
       " 'breakpoint',\n",
       " 'bytearray',\n",
       " 'bytes',\n",
       " 'callable',\n",
       " 'chr',\n",
       " 'classmethod',\n",
       " 'compile',\n",
       " 'complex',\n",
       " 'copyright',\n",
       " 'credits',\n",
       " 'delattr',\n",
       " 'dict',\n",
       " 'dir',\n",
       " 'display',\n",
       " 'divmod',\n",
       " 'enumerate',\n",
       " 'eval',\n",
       " 'exec',\n",
       " 'filter',\n",
       " 'float',\n",
       " 'format',\n",
       " 'frozenset',\n",
       " 'get_ipython',\n",
       " 'getattr',\n",
       " 'globals',\n",
       " 'hasattr',\n",
       " 'hash',\n",
       " 'help',\n",
       " 'hex',\n",
       " 'id',\n",
       " 'input',\n",
       " 'int',\n",
       " 'isinstance',\n",
       " 'issubclass',\n",
       " 'iter',\n",
       " 'len',\n",
       " 'license',\n",
       " 'list',\n",
       " 'locals',\n",
       " 'map',\n",
       " 'max',\n",
       " 'memoryview',\n",
       " 'min',\n",
       " 'next',\n",
       " 'object',\n",
       " 'oct',\n",
       " 'open',\n",
       " 'ord',\n",
       " 'pow',\n",
       " 'print',\n",
       " 'property',\n",
       " 'range',\n",
       " 'repr',\n",
       " 'reversed',\n",
       " 'round',\n",
       " 'set',\n",
       " 'setattr',\n",
       " 'slice',\n",
       " 'sorted',\n",
       " 'staticmethod',\n",
       " 'str',\n",
       " 'sum',\n",
       " 'super',\n",
       " 'tuple',\n",
       " 'type',\n",
       " 'vars',\n",
       " 'zip']"
      ]
     },
     "execution_count": 70,
     "metadata": {},
     "output_type": "execute_result"
    }
   ],
   "source": [
    "dir(builtins)"
   ]
  },
  {
   "cell_type": "markdown",
   "id": "successful-grade",
   "metadata": {},
   "source": [
    "# 2. `1차원`자료형 "
   ]
  },
  {
   "cell_type": "markdown",
   "id": "promotional-relief",
   "metadata": {},
   "source": [
    "### (1) `str`"
   ]
  },
  {
   "cell_type": "code",
   "execution_count": 79,
   "id": "reflected-textbook",
   "metadata": {},
   "outputs": [],
   "source": [
    "a='guebin'"
   ]
  },
  {
   "cell_type": "code",
   "execution_count": 80,
   "id": "compressed-turkey",
   "metadata": {},
   "outputs": [
    {
     "data": {
      "text/plain": [
       "'guebin'"
      ]
     },
     "execution_count": 80,
     "metadata": {},
     "output_type": "execute_result"
    }
   ],
   "source": [
    "a"
   ]
  },
  {
   "cell_type": "code",
   "execution_count": 86,
   "id": "indian-concentration",
   "metadata": {},
   "outputs": [],
   "source": [
    "a='X'\n",
    "b='2'"
   ]
  },
  {
   "cell_type": "code",
   "execution_count": 87,
   "id": "legal-whale",
   "metadata": {},
   "outputs": [
    {
     "data": {
      "text/plain": [
       "'X2'"
      ]
     },
     "execution_count": 87,
     "metadata": {},
     "output_type": "execute_result"
    }
   ],
   "source": [
    "a+b"
   ]
  },
  {
   "cell_type": "code",
   "execution_count": 88,
   "id": "alike-vermont",
   "metadata": {},
   "outputs": [
    {
     "ename": "TypeError",
     "evalue": "unsupported operand type(s) for -: 'str' and 'str'",
     "output_type": "error",
     "traceback": [
      "\u001b[0;31m---------------------------------------------------------------------------\u001b[0m",
      "\u001b[0;31mTypeError\u001b[0m                                 Traceback (most recent call last)",
      "\u001b[0;32m<ipython-input-88-5ae0619f8fe1>\u001b[0m in \u001b[0;36m<module>\u001b[0;34m\u001b[0m\n\u001b[0;32m----> 1\u001b[0;31m \u001b[0ma\u001b[0m\u001b[0;34m-\u001b[0m\u001b[0mb\u001b[0m\u001b[0;34m\u001b[0m\u001b[0;34m\u001b[0m\u001b[0m\n\u001b[0m",
      "\u001b[0;31mTypeError\u001b[0m: unsupported operand type(s) for -: 'str' and 'str'"
     ]
    }
   ],
   "source": [
    "a-b"
   ]
  },
  {
   "cell_type": "code",
   "execution_count": 94,
   "id": "completed-serve",
   "metadata": {},
   "outputs": [
    {
     "ename": "TypeError",
     "evalue": "can't multiply sequence by non-int of type 'str'",
     "output_type": "error",
     "traceback": [
      "\u001b[0;31m---------------------------------------------------------------------------\u001b[0m",
      "\u001b[0;31mTypeError\u001b[0m                                 Traceback (most recent call last)",
      "\u001b[0;32m<ipython-input-94-2cc0ff00cff2>\u001b[0m in \u001b[0;36m<module>\u001b[0;34m\u001b[0m\n\u001b[0;32m----> 1\u001b[0;31m \u001b[0ma\u001b[0m\u001b[0;34m*\u001b[0m\u001b[0mb\u001b[0m \u001b[0;31m# a랑 b랑 곱해볼까?\u001b[0m\u001b[0;34m\u001b[0m\u001b[0;34m\u001b[0m\u001b[0m\n\u001b[0m",
      "\u001b[0;31mTypeError\u001b[0m: can't multiply sequence by non-int of type 'str'"
     ]
    }
   ],
   "source": [
    "a*b # a랑 b랑 곱해볼까? "
   ]
  },
  {
   "cell_type": "code",
   "execution_count": 96,
   "id": "stretch-dryer",
   "metadata": {},
   "outputs": [
    {
     "data": {
      "text/plain": [
       "'XXX'"
      ]
     },
     "execution_count": 96,
     "metadata": {},
     "output_type": "execute_result"
    }
   ],
   "source": [
    "a*3 # a*3=a+a+a 이니까? "
   ]
  },
  {
   "cell_type": "code",
   "execution_count": 97,
   "id": "extraordinary-coaching",
   "metadata": {},
   "outputs": [],
   "source": [
    "a='guebin'"
   ]
  },
  {
   "cell_type": "code",
   "execution_count": 98,
   "id": "czech-velvet",
   "metadata": {},
   "outputs": [
    {
     "data": {
      "text/plain": [
       "'guebin'"
      ]
     },
     "execution_count": 98,
     "metadata": {},
     "output_type": "execute_result"
    }
   ],
   "source": [
    "a"
   ]
  },
  {
   "cell_type": "markdown",
   "id": "absolute-trance",
   "metadata": {},
   "source": [
    "|g|u|e|b|i|n|\n",
    "|-|-|-|-|-|-|\n",
    "|0|1|2|3|4|5|\n",
    "|0|-5|-4|-3|-2|-1|"
   ]
  },
  {
   "cell_type": "code",
   "execution_count": 99,
   "id": "encouraging-ending",
   "metadata": {},
   "outputs": [
    {
     "data": {
      "text/plain": [
       "'g'"
      ]
     },
     "execution_count": 99,
     "metadata": {},
     "output_type": "execute_result"
    }
   ],
   "source": [
    "a[0]"
   ]
  },
  {
   "cell_type": "code",
   "execution_count": 100,
   "id": "handmade-spanish",
   "metadata": {},
   "outputs": [
    {
     "data": {
      "text/plain": [
       "'u'"
      ]
     },
     "execution_count": 100,
     "metadata": {},
     "output_type": "execute_result"
    }
   ],
   "source": [
    "a[1]"
   ]
  },
  {
   "cell_type": "code",
   "execution_count": 101,
   "id": "union-dynamics",
   "metadata": {},
   "outputs": [
    {
     "data": {
      "text/plain": [
       "'b'"
      ]
     },
     "execution_count": 101,
     "metadata": {},
     "output_type": "execute_result"
    }
   ],
   "source": [
    "a[3]"
   ]
  },
  {
   "cell_type": "code",
   "execution_count": 104,
   "id": "awful-moisture",
   "metadata": {},
   "outputs": [
    {
     "data": {
      "text/plain": [
       "'e'"
      ]
     },
     "execution_count": 104,
     "metadata": {},
     "output_type": "execute_result"
    }
   ],
   "source": [
    "a[-4]"
   ]
  },
  {
   "cell_type": "code",
   "execution_count": 106,
   "id": "outside-essex",
   "metadata": {},
   "outputs": [
    {
     "data": {
      "text/plain": [
       "'gue'"
      ]
     },
     "execution_count": 106,
     "metadata": {},
     "output_type": "execute_result"
    }
   ],
   "source": [
    "a[0:3] # 0,1,2,3 의 인덱스가 아니라 0,1,2 "
   ]
  },
  {
   "cell_type": "code",
   "execution_count": 107,
   "id": "american-authorization",
   "metadata": {},
   "outputs": [
    {
     "data": {
      "text/plain": [
       "'ue'"
      ]
     },
     "execution_count": 107,
     "metadata": {},
     "output_type": "execute_result"
    }
   ],
   "source": [
    "a[1:3] # index 1부터시작해서 (3-1)개만큼 반환 "
   ]
  },
  {
   "cell_type": "code",
   "execution_count": 109,
   "id": "straight-gallery",
   "metadata": {},
   "outputs": [
    {
     "data": {
      "text/plain": [
       "'gue'"
      ]
     },
     "execution_count": 109,
     "metadata": {},
     "output_type": "execute_result"
    }
   ],
   "source": [
    "a[:3] # =a[0:3]"
   ]
  },
  {
   "cell_type": "code",
   "execution_count": 110,
   "id": "intended-strap",
   "metadata": {},
   "outputs": [
    {
     "data": {
      "text/plain": [
       "'bin'"
      ]
     },
     "execution_count": 110,
     "metadata": {},
     "output_type": "execute_result"
    }
   ],
   "source": [
    "a[3:6] # =a[3:]"
   ]
  },
  {
   "cell_type": "code",
   "execution_count": 111,
   "id": "disciplinary-authorization",
   "metadata": {},
   "outputs": [
    {
     "data": {
      "text/plain": [
       "'bin'"
      ]
     },
     "execution_count": 111,
     "metadata": {},
     "output_type": "execute_result"
    }
   ],
   "source": [
    "a[3:]"
   ]
  },
  {
   "cell_type": "code",
   "execution_count": 113,
   "id": "norman-national",
   "metadata": {},
   "outputs": [
    {
     "data": {
      "text/plain": [
       "'u'"
      ]
     },
     "execution_count": 113,
     "metadata": {},
     "output_type": "execute_result"
    }
   ],
   "source": [
    "a[1:-4] "
   ]
  },
  {
   "cell_type": "markdown",
   "id": "atlantic-exemption",
   "metadata": {},
   "source": [
    "#### [$\\ast$] `0차원` vs `1차원`"
   ]
  },
  {
   "cell_type": "code",
   "execution_count": 114,
   "id": "electric-modeling",
   "metadata": {},
   "outputs": [],
   "source": [
    "a=3.144"
   ]
  },
  {
   "cell_type": "code",
   "execution_count": 115,
   "id": "satisfactory-elements",
   "metadata": {},
   "outputs": [
    {
     "ename": "TypeError",
     "evalue": "object of type 'float' has no len()",
     "output_type": "error",
     "traceback": [
      "\u001b[0;31m---------------------------------------------------------------------------\u001b[0m",
      "\u001b[0;31mTypeError\u001b[0m                                 Traceback (most recent call last)",
      "\u001b[0;32m<ipython-input-115-1a2e6ec5f1e3>\u001b[0m in \u001b[0;36m<module>\u001b[0;34m\u001b[0m\n\u001b[0;32m----> 1\u001b[0;31m \u001b[0mlen\u001b[0m\u001b[0;34m(\u001b[0m\u001b[0ma\u001b[0m\u001b[0;34m)\u001b[0m\u001b[0;34m\u001b[0m\u001b[0;34m\u001b[0m\u001b[0m\n\u001b[0m",
      "\u001b[0;31mTypeError\u001b[0m: object of type 'float' has no len()"
     ]
    }
   ],
   "source": [
    "len(a)"
   ]
  },
  {
   "cell_type": "code",
   "execution_count": 116,
   "id": "multiple-international",
   "metadata": {},
   "outputs": [],
   "source": [
    "a='3.144'"
   ]
  },
  {
   "cell_type": "code",
   "execution_count": 117,
   "id": "british-header",
   "metadata": {},
   "outputs": [
    {
     "data": {
      "text/plain": [
       "5"
      ]
     },
     "execution_count": 117,
     "metadata": {},
     "output_type": "execute_result"
    }
   ],
   "source": [
    "len(a)"
   ]
  },
  {
   "cell_type": "code",
   "execution_count": 118,
   "id": "perceived-vehicle",
   "metadata": {},
   "outputs": [],
   "source": [
    "a='1'"
   ]
  },
  {
   "cell_type": "code",
   "execution_count": 119,
   "id": "collaborative-mixer",
   "metadata": {},
   "outputs": [
    {
     "data": {
      "text/plain": [
       "1"
      ]
     },
     "execution_count": 119,
     "metadata": {},
     "output_type": "execute_result"
    }
   ],
   "source": [
    "len(a)"
   ]
  },
  {
   "cell_type": "code",
   "execution_count": 120,
   "id": "beneficial-grant",
   "metadata": {},
   "outputs": [],
   "source": [
    "a=1"
   ]
  },
  {
   "cell_type": "code",
   "execution_count": 121,
   "id": "hollywood-czech",
   "metadata": {},
   "outputs": [
    {
     "ename": "TypeError",
     "evalue": "object of type 'int' has no len()",
     "output_type": "error",
     "traceback": [
      "\u001b[0;31m---------------------------------------------------------------------------\u001b[0m",
      "\u001b[0;31mTypeError\u001b[0m                                 Traceback (most recent call last)",
      "\u001b[0;32m<ipython-input-121-1a2e6ec5f1e3>\u001b[0m in \u001b[0;36m<module>\u001b[0;34m\u001b[0m\n\u001b[0;32m----> 1\u001b[0;31m \u001b[0mlen\u001b[0m\u001b[0;34m(\u001b[0m\u001b[0ma\u001b[0m\u001b[0;34m)\u001b[0m\u001b[0;34m\u001b[0m\u001b[0;34m\u001b[0m\u001b[0m\n\u001b[0m",
      "\u001b[0;31mTypeError\u001b[0m: object of type 'int' has no len()"
     ]
    }
   ],
   "source": [
    "len(a)"
   ]
  },
  {
   "cell_type": "code",
   "execution_count": 122,
   "id": "identified-copying",
   "metadata": {},
   "outputs": [],
   "source": [
    "a='guebin'"
   ]
  },
  {
   "cell_type": "code",
   "execution_count": 123,
   "id": "crucial-growth",
   "metadata": {},
   "outputs": [
    {
     "data": {
      "text/plain": [
       "6"
      ]
     },
     "execution_count": 123,
     "metadata": {},
     "output_type": "execute_result"
    }
   ],
   "source": [
    "len(a)"
   ]
  },
  {
   "cell_type": "markdown",
   "id": "lightweight-colonial",
   "metadata": {},
   "source": [
    "### (2) `list` "
   ]
  },
  {
   "cell_type": "code",
   "execution_count": 124,
   "id": "gorgeous-recipient",
   "metadata": {},
   "outputs": [],
   "source": [
    "a=[11,22]"
   ]
  },
  {
   "cell_type": "code",
   "execution_count": 125,
   "id": "excited-denmark",
   "metadata": {},
   "outputs": [
    {
     "data": {
      "text/plain": [
       "[11, 22]"
      ]
     },
     "execution_count": 125,
     "metadata": {},
     "output_type": "execute_result"
    }
   ],
   "source": [
    "a"
   ]
  },
  {
   "cell_type": "code",
   "execution_count": 126,
   "id": "hungarian-slovakia",
   "metadata": {},
   "outputs": [],
   "source": [
    "b=[12,13]"
   ]
  },
  {
   "cell_type": "markdown",
   "id": "alien-tennessee",
   "metadata": {},
   "source": [
    "$a=(11,12)$\n",
    "\n",
    "$b=(12,13)$\n",
    "\n",
    "$a+b=(23,25)$"
   ]
  },
  {
   "cell_type": "code",
   "execution_count": 128,
   "id": "ceramic-stability",
   "metadata": {},
   "outputs": [
    {
     "data": {
      "text/plain": [
       "[11, 22, 12, 13]"
      ]
     },
     "execution_count": 128,
     "metadata": {},
     "output_type": "execute_result"
    }
   ],
   "source": [
    "a+b"
   ]
  },
  {
   "cell_type": "code",
   "execution_count": 129,
   "id": "confused-missile",
   "metadata": {},
   "outputs": [
    {
     "ename": "TypeError",
     "evalue": "unsupported operand type(s) for -: 'list' and 'list'",
     "output_type": "error",
     "traceback": [
      "\u001b[0;31m---------------------------------------------------------------------------\u001b[0m",
      "\u001b[0;31mTypeError\u001b[0m                                 Traceback (most recent call last)",
      "\u001b[0;32m<ipython-input-129-5ae0619f8fe1>\u001b[0m in \u001b[0;36m<module>\u001b[0;34m\u001b[0m\n\u001b[0;32m----> 1\u001b[0;31m \u001b[0ma\u001b[0m\u001b[0;34m-\u001b[0m\u001b[0mb\u001b[0m\u001b[0;34m\u001b[0m\u001b[0;34m\u001b[0m\u001b[0m\n\u001b[0m",
      "\u001b[0;31mTypeError\u001b[0m: unsupported operand type(s) for -: 'list' and 'list'"
     ]
    }
   ],
   "source": [
    "a-b"
   ]
  },
  {
   "cell_type": "code",
   "execution_count": 130,
   "id": "suited-script",
   "metadata": {},
   "outputs": [
    {
     "data": {
      "text/plain": [
       "[11, 22, 11, 22]"
      ]
     },
     "execution_count": 130,
     "metadata": {},
     "output_type": "execute_result"
    }
   ],
   "source": [
    "2*a # a+a "
   ]
  },
  {
   "cell_type": "code",
   "execution_count": 131,
   "id": "interstate-classics",
   "metadata": {},
   "outputs": [
    {
     "data": {
      "text/plain": [
       "[12, 13, 12, 13, 12, 13]"
      ]
     },
     "execution_count": 131,
     "metadata": {},
     "output_type": "execute_result"
    }
   ],
   "source": [
    "3*b"
   ]
  },
  {
   "cell_type": "code",
   "execution_count": 132,
   "id": "expensive-prophet",
   "metadata": {},
   "outputs": [
    {
     "data": {
      "text/plain": [
       "[11, 22, 11, 22, 12, 13, 12, 13, 12, 13]"
      ]
     },
     "execution_count": 132,
     "metadata": {},
     "output_type": "execute_result"
    }
   ],
   "source": [
    "2*a+3*b"
   ]
  },
  {
   "cell_type": "code",
   "execution_count": 135,
   "id": "frozen-walnut",
   "metadata": {},
   "outputs": [
    {
     "data": {
      "text/plain": [
       "[11, 22, 33, 345]"
      ]
     },
     "execution_count": 135,
     "metadata": {},
     "output_type": "execute_result"
    }
   ],
   "source": [
    "a+[33]+[345]"
   ]
  },
  {
   "cell_type": "code",
   "execution_count": 136,
   "id": "surprised-minneapolis",
   "metadata": {},
   "outputs": [],
   "source": [
    "c=[11,222,333]"
   ]
  },
  {
   "cell_type": "code",
   "execution_count": 137,
   "id": "increased-shelf",
   "metadata": {},
   "outputs": [
    {
     "data": {
      "text/plain": [
       "233"
      ]
     },
     "execution_count": 137,
     "metadata": {},
     "output_type": "execute_result"
    }
   ],
   "source": [
    "c[0]+c[1]"
   ]
  },
  {
   "cell_type": "markdown",
   "id": "moving-philip",
   "metadata": {},
   "source": [
    "`list`끼리는 수치적연산이 되지 않지만 `list의 원소끼리는` 수치연산이 가능할수도있음. "
   ]
  },
  {
   "cell_type": "code",
   "execution_count": 149,
   "id": "solar-reality",
   "metadata": {},
   "outputs": [],
   "source": [
    "c1=11\n",
    "c2=222\n",
    "c3=333"
   ]
  },
  {
   "cell_type": "code",
   "execution_count": 150,
   "id": "naval-yesterday",
   "metadata": {},
   "outputs": [],
   "source": [
    "c=[c1,c2,c3]"
   ]
  },
  {
   "cell_type": "code",
   "execution_count": 151,
   "id": "another-smooth",
   "metadata": {},
   "outputs": [
    {
     "data": {
      "text/plain": [
       "233"
      ]
     },
     "execution_count": 151,
     "metadata": {},
     "output_type": "execute_result"
    }
   ],
   "source": [
    "c1+c2 # c[0]+c[1]"
   ]
  },
  {
   "cell_type": "markdown",
   "id": "charming-influence",
   "metadata": {},
   "source": [
    "#### [$\\ast$] `list`의 원소는 꼭 숫자형만 가능한 것이 아니다. "
   ]
  },
  {
   "cell_type": "code",
   "execution_count": 156,
   "id": "controlled-occurrence",
   "metadata": {},
   "outputs": [],
   "source": [
    "list1=[1,3.14,True,'a',[1,2],(1,2),\n",
    "      {'name':'guebin','age':38},{1,2,3}]"
   ]
  },
  {
   "cell_type": "code",
   "execution_count": 161,
   "id": "fourth-engineering",
   "metadata": {},
   "outputs": [],
   "source": [
    "l0=list1[0]\n",
    "l1=list1[1]\n",
    "l2=list1[2]\n",
    "l3=list1[3]\n",
    "l4=list1[4]\n",
    "l5=list1[5]\n",
    "l6=list1[6]\n",
    "l7=list1[7]"
   ]
  },
  {
   "cell_type": "code",
   "execution_count": 162,
   "id": "neither-rolling",
   "metadata": {},
   "outputs": [],
   "source": [
    "list2=[list1,3.14]"
   ]
  },
  {
   "cell_type": "code",
   "execution_count": 165,
   "id": "communist-wrong",
   "metadata": {},
   "outputs": [
    {
     "data": {
      "text/plain": [
       "3.14"
      ]
     },
     "execution_count": 165,
     "metadata": {},
     "output_type": "execute_result"
    }
   ],
   "source": [
    "list2[1]"
   ]
  },
  {
   "cell_type": "code",
   "execution_count": null,
   "id": "approximate-smooth",
   "metadata": {},
   "outputs": [],
   "source": [
    "math."
   ]
  }
 ],
 "metadata": {
  "kernelspec": {
   "display_name": "Python 3",
   "language": "python",
   "name": "python3"
  },
  "language_info": {
   "codemirror_mode": {
    "name": "ipython",
    "version": 3
   },
   "file_extension": ".py",
   "mimetype": "text/x-python",
   "name": "python",
   "nbconvert_exporter": "python",
   "pygments_lexer": "ipython3",
   "version": "3.8.5"
  }
 },
 "nbformat": 4,
 "nbformat_minor": 5
}
