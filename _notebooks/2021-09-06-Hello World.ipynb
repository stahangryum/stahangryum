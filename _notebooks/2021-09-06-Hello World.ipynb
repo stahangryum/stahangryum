{
 "cells": [
  {
   "cell_type": "code",
   "execution_count": null,
   "id": "165cbed4-fefd-4906-8184-4348ccd96029",
   "metadata": {},
   "outputs": [],
   "source": [
    "Hello <- 'Hello World'\n",
    "Hello"
   ]
  },
  {
   "cell_type": "markdown",
   "id": "32968297-89fb-4445-b56d-436d02892ace",
   "metadata": {},
   "source": [
    "# Hello World"
   ]
  },
  {
   "cell_type": "code",
   "execution_count": null,
   "id": "8cbb1685-3dfb-4dac-a2ee-65e9a3406e74",
   "metadata": {},
   "outputs": [],
   "source": []
  },
  {
   "cell_type": "code",
   "execution_count": null,
   "id": "87b289a5-843b-4e26-9d66-3fc2a3b956ce",
   "metadata": {},
   "outputs": [],
   "source": []
  }
 ],
 "metadata": {
  "kernelspec": {
   "display_name": "R",
   "language": "R",
   "name": "ir"
  },
  "language_info": {
   "codemirror_mode": "r",
   "file_extension": ".r",
   "mimetype": "text/x-r-source",
   "name": "R",
   "pygments_lexer": "r",
   "version": "4.1.1"
  }
 },
 "nbformat": 4,
 "nbformat_minor": 5
}
