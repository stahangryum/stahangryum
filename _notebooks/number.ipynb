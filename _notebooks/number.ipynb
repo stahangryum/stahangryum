{
 "cells": [
  {
   "cell_type": "markdown",
   "id": "d358494f-1339-43e3-a5d2-7a876d36d408",
   "metadata": {},
   "source": [
    "- 1번문항"
   ]
  },
  {
   "cell_type": "code",
   "execution_count": null,
   "id": "b4b47bd2-79f5-4947-ae1b-047db5723496",
   "metadata": {},
   "outputs": [],
   "source": [
    "user = 100\n",
    "\n",
    "f <- function(x){"
   ]
  },
  {
   "cell_type": "code",
   "execution_count": null,
   "id": "1adf5523-d020-4540-901d-97fd94c95f70",
   "metadata": {},
   "outputs": [],
   "source": []
  },
  {
   "cell_type": "code",
   "execution_count": null,
   "id": "3068cbc9-e999-4616-a90f-fa46561d7951",
   "metadata": {},
   "outputs": [],
   "source": []
  }
 ],
 "metadata": {
  "kernelspec": {
   "display_name": "Python 3 (ipykernel)",
   "language": "python",
   "name": "python3"
  },
  "language_info": {
   "codemirror_mode": {
    "name": "ipython",
    "version": 3
   },
   "file_extension": ".py",
   "mimetype": "text/x-python",
   "name": "python",
   "nbconvert_exporter": "python",
   "pygments_lexer": "ipython3",
   "version": "3.9.7"
  }
 },
 "nbformat": 4,
 "nbformat_minor": 5
}
