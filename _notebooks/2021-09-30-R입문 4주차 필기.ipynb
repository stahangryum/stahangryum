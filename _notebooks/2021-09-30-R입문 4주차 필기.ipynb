{
 "cells": [
  {
   "cell_type": "code",
   "execution_count": 1,
   "id": "75f60d48-bc6b-4b5e-adf1-91f941568499",
   "metadata": {},
   "outputs": [],
   "source": [
    "#hide\n",
    "options(jupyter.plot_scale = 3)\n",
    "options(jupyter.display_mimetypes = c(\"text/html\"))\n",
    "options(jupyter.rich_display=FALSE)\n",
    "options(repr.plot.width=6, repr.plot.height=6, repr.plot.res=300)\n",
    "options(max.print=1000)"
   ]
  },
  {
   "cell_type": "markdown",
   "id": "16716ee2-d15a-4b96-8514-3c7ce54dbac7",
   "metadata": {},
   "source": [
    "# \"R - 조건문\"\n",
    "> \"전북대학교 R입문 4주차 필기\"\n",
    "\n",
    "- toc: true\n",
    "- branch: master\n",
    "- badges: true\n",
    "- comments: true\n",
    "- author: Kim Jeewoo\n",
    "- categories: [Introduction to R]\n",
    "- image: images/r_logo.PNG"
   ]
  },
  {
   "cell_type": "markdown",
   "id": "d09ad8cf-3979-4e78-9879-8aac9671e312",
   "metadata": {},
   "source": [
    "# 조건문의 기본 구조\n",
    "```r\n",
    "if (조건1){\n",
    "    (조건1이 TRUE이면 실행, FALSE이면 pass)\n",
    "}\n",
    "else if (조건2){\n",
    "    (조건1이 FALSE이고 조건2가 TRUE일 때 실행,)\n",
    "}\n",
    "else {\n",
    "    (조건1과 조건2가 모두 FALSE일 때 실행)\n",
    "```\n"
   ]
  },
  {
   "cell_type": "markdown",
   "id": "d8da8ee1-aa0b-41bf-8651-f9b1f8a9053f",
   "metadata": {},
   "source": [
    "## Example"
   ]
  },
  {
   "cell_type": "code",
   "execution_count": 34,
   "id": "3c237b77-cf92-4eed-abb3-24e886bb691e",
   "metadata": {},
   "outputs": [
    {
     "name": "stdout",
     "output_type": "stream",
     "text": [
      "[1] \"a는 양수이다.\"\n"
     ]
    }
   ],
   "source": [
    "a = 10\n",
    "\n",
    "if (a > 0){\n",
    "    print(\"a는 양수이다.\")\n",
    "} else if (a < 0){\n",
    "    print(\"a는 음수이다.\")\n",
    "} else if (a == 0)\n",
    "    {\n",
    "    print(\"a는 0이다.\")  \n",
    "} else {\n",
    "    print(\"a는 실수가 아니다.\")\n",
    "}"
   ]
  },
  {
   "cell_type": "markdown",
   "id": "3b39f299-4c06-401e-8c53-c83ef914baef",
   "metadata": {},
   "source": [
    "## 변형"
   ]
  },
  {
   "cell_type": "code",
   "execution_count": 30,
   "id": "f7a8cd2a-720b-4164-90d6-6140e08ec9e3",
   "metadata": {},
   "outputs": [
    {
     "ename": "ERROR",
     "evalue": "Error in parse(text = x, srcfile = src): <text>:1:4: 예기치 않은 '{'입니다\n1: if {\n       ^\n",
     "output_type": "error",
     "traceback": [
      "Error in parse(text = x, srcfile = src): <text>:1:4: 예기치 않은 '{'입니다\n1: if {\n       ^\nTraceback:\n"
     ]
    }
   ],
   "source": [
    "if (a > 0) {print(\"a는 양수이다.\")}"
   ]
  },
  {
   "cell_type": "markdown",
   "id": "c738c715-bcd7-42bd-a166-ac6ff7fabf1a",
   "metadata": {},
   "source": [
    "- 임의로 띄어쓰기를 넣어도 상관없다."
   ]
  },
  {
   "cell_type": "code",
   "execution_count": 31,
   "id": "684957e8-3d86-45fb-8604-6dc8f7f933ca",
   "metadata": {},
   "outputs": [
    {
     "ename": "ERROR",
     "evalue": "Error in parse(text = x, srcfile = src): <text>:1:4: 예기치 않은 '{'입니다\n1: if {\n       ^\n",
     "output_type": "error",
     "traceback": [
      "Error in parse(text = x, srcfile = src): <text>:1:4: 예기치 않은 '{'입니다\n1: if {\n       ^\nTraceback:\n"
     ]
    }
   ],
   "source": [
    "if              (a > 0)    {{print(\"a는 양수이다.\")}"
   ]
  },
  {
   "cell_type": "markdown",
   "id": "869e4f14-3112-45ae-9c32-430bcb3c3a3a",
   "metadata": {},
   "source": [
    "- 임의로 Enter를 넣어도 상관없다."
   ]
  },
  {
   "cell_type": "code",
   "execution_count": 5,
   "id": "a38f0f37-8677-4831-bf60-ecaf8f894537",
   "metadata": {},
   "outputs": [
    {
     "name": "stdout",
     "output_type": "stream",
     "text": [
      "[1] \"a는 양수이다.\"\n"
     ]
    }
   ],
   "source": [
    "if \n",
    "    \n",
    "    \n",
    "    \n",
    "    (a > 0){\n",
    "    \n",
    "    \n",
    "     \n",
    "    \n",
    "    print(\"a는 양수이다.\")}"
   ]
  },
  {
   "cell_type": "code",
   "execution_count": null,
   "id": "8edab51c-cf86-48db-ba3c-8ba4f70de684",
   "metadata": {},
   "outputs": [],
   "source": []
  },
  {
   "cell_type": "code",
   "execution_count": null,
   "id": "803df0d1-670f-4d39-9f77-ae5978df10f1",
   "metadata": {},
   "outputs": [],
   "source": []
  },
  {
   "cell_type": "code",
   "execution_count": null,
   "id": "87762cbc-77a8-478c-b409-4b7f4d2c5532",
   "metadata": {},
   "outputs": [],
   "source": []
  },
  {
   "cell_type": "code",
   "execution_count": null,
   "id": "3d9100f6-b35e-40c4-9a0e-37ce7993cbd6",
   "metadata": {},
   "outputs": [],
   "source": []
  },
  {
   "cell_type": "code",
   "execution_count": null,
   "id": "3fdcf121-778a-456f-a4fb-1ce2268f88a2",
   "metadata": {},
   "outputs": [],
   "source": []
  },
  {
   "cell_type": "code",
   "execution_count": null,
   "id": "6401b59e-7770-4e23-b86a-fa51933b1184",
   "metadata": {},
   "outputs": [],
   "source": []
  },
  {
   "cell_type": "code",
   "execution_count": null,
   "id": "99ef184c-0321-474b-812d-517625d06e0a",
   "metadata": {},
   "outputs": [],
   "source": []
  },
  {
   "cell_type": "code",
   "execution_count": null,
   "id": "e3525938-2b39-42c9-8d32-1f21701ca587",
   "metadata": {},
   "outputs": [],
   "source": []
  }
 ],
 "metadata": {
  "kernelspec": {
   "display_name": "R",
   "language": "R",
   "name": "ir"
  },
  "language_info": {
   "codemirror_mode": "r",
   "file_extension": ".r",
   "mimetype": "text/x-r-source",
   "name": "R",
   "pygments_lexer": "r",
   "version": "4.1.1"
  }
 },
 "nbformat": 4,
 "nbformat_minor": 5
}
