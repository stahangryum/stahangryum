{
 "cells": [
  {
   "cell_type": "code",
   "execution_count": 1,
   "id": "75f60d48-bc6b-4b5e-adf1-91f941568499",
   "metadata": {},
   "outputs": [],
   "source": [
    "#hide\n",
    "options(jupyter.plot_scale = 3)\n",
    "options(jupyter.display_mimetypes = c(\"text/html\"))\n",
    "options(jupyter.rich_display=FALSE)\n",
    "options(repr.plot.width=6, repr.plot.height=6, repr.plot.res=300)\n",
    "options(max.print=1000)"
   ]
  },
  {
   "cell_type": "markdown",
   "id": "16716ee2-d15a-4b96-8514-3c7ce54dbac7",
   "metadata": {},
   "source": [
    "# \"R : 조건문\"\n",
    "> \"전북대학교 R입문 4주차 필기\"\n",
    "\n",
    "- toc: true\n",
    "- branch: master\n",
    "- badges: true\n",
    "- comments: true\n",
    "- author: Kim Jeewoo\n",
    "- categories: [Introduction to R]\n",
    "- image: images/if_logo.PNG"
   ]
  },
  {
   "cell_type": "markdown",
   "id": "d09ad8cf-3979-4e78-9879-8aac9671e312",
   "metadata": {},
   "source": [
    "# 조건문의 기본 구조\n",
    "```r\n",
    "if (조건1){\n",
    "    (조건1이 TRUE이면 실행, FALSE이면 pass)\n",
    "}\n",
    "else if (조건2){\n",
    "    (조건1이 FALSE이고 조건2가 TRUE일 때 실행,)\n",
    "}\n",
    "else {\n",
    "    (조건1과 조건2가 모두 FALSE일 때 실행)\n",
    "```\n"
   ]
  },
  {
   "cell_type": "markdown",
   "id": "d8da8ee1-aa0b-41bf-8651-f9b1f8a9053f",
   "metadata": {},
   "source": [
    "## Example"
   ]
  },
  {
   "cell_type": "code",
   "execution_count": 74,
   "id": "3c237b77-cf92-4eed-abb3-24e886bb691e",
   "metadata": {},
   "outputs": [
    {
     "name": "stdout",
     "output_type": "stream",
     "text": [
      "[1] \"a는 양수이다.\"\n"
     ]
    }
   ],
   "source": [
    "a = 10\n",
    "\n",
    "if (a > 0){\n",
    "    print(\"a는 양수이다.\")\n",
    "} else if (a < 0){\n",
    "    print(\"a는 음수이다.\")\n",
    "} else if (a == 0){\n",
    "    print(\"a는 0이다.\")  \n",
    "} else {\n",
    "    print(\"a는 실 수가 아니다.\")\n",
    "}"
   ]
  },
  {
   "cell_type": "markdown",
   "id": "3b39f299-4c06-401e-8c53-c83ef914baef",
   "metadata": {},
   "source": [
    "## NOTE\n",
    "> 다음과 같은 코드는 가급적 작성하지 마시오."
   ]
  },
  {
   "cell_type": "code",
   "execution_count": 75,
   "id": "f7a8cd2a-720b-4164-90d6-6140e08ec9e3",
   "metadata": {},
   "outputs": [
    {
     "name": "stdout",
     "output_type": "stream",
     "text": [
      "[1] \"a는 양수이다.\"\n"
     ]
    }
   ],
   "source": [
    "if (a > 0) {print(\"a는 양수이다.\")}"
   ]
  },
  {
   "cell_type": "markdown",
   "id": "c738c715-bcd7-42bd-a166-ac6ff7fabf1a",
   "metadata": {},
   "source": [
    "- 임의로 Space나 Enter를 넣어도 상관없다.\n",
    "- 다만, 가독성 떨어질 수 있으니 유의하라."
   ]
  },
  {
   "cell_type": "code",
   "execution_count": 76,
   "id": "684957e8-3d86-45fb-8604-6dc8f7f933ca",
   "metadata": {},
   "outputs": [
    {
     "name": "stdout",
     "output_type": "stream",
     "text": [
      "[1] \"a는 양수이다.\"\n"
     ]
    }
   ],
   "source": [
    "if              (a > 0)    {print(\"a는 양수이다.\")}"
   ]
  },
  {
   "cell_type": "code",
   "execution_count": 77,
   "id": "a38f0f37-8677-4831-bf60-ecaf8f894537",
   "metadata": {},
   "outputs": [
    {
     "name": "stdout",
     "output_type": "stream",
     "text": [
      "[1] \"a는 양수이다.\"\n"
     ]
    }
   ],
   "source": [
    "if \n",
    "    \n",
    "    (a > 0){\n",
    "    \n",
    "\n",
    "    print(\"a는 양수이다.\")}"
   ]
  },
  {
   "cell_type": "markdown",
   "id": "b2a7a431-31df-40b9-b91d-94605018588c",
   "metadata": {},
   "source": [
    "- 조건에 벡터가 사용될 경우, 첫 번째 요소만이 사용된다.\n",
    "- 다만, 굳이 코드를 이렇게 작성할 필요는 없다."
   ]
  },
  {
   "cell_type": "code",
   "execution_count": 78,
   "id": "803df0d1-670f-4d39-9f77-ae5978df10f1",
   "metadata": {},
   "outputs": [
    {
     "name": "stderr",
     "output_type": "stream",
     "text": [
      "Warning message in if ((4:10) > 3) {:\n",
      "\"length > 1 이라는 조건이 있고, 첫번째 요소만이 사용될 것입니다\"\n"
     ]
    },
    {
     "name": "stdout",
     "output_type": "stream",
     "text": [
      "[1] \"우엉징\"\n"
     ]
    }
   ],
   "source": [
    "if ((4:10) > 3){\n",
    "    print(\"우엉징\")\n",
    "}"
   ]
  },
  {
   "cell_type": "markdown",
   "id": "08c0b3b0-7953-4957-bac1-6037e570340c",
   "metadata": {},
   "source": [
    "위 코드의 조건문을 보면, 좌변에서 벡터의 첫 번째 요소인 '4'가 사용되었으므로 (4 > 3) <- TRUE"
   ]
  },
  {
   "cell_type": "code",
   "execution_count": 79,
   "id": "87762cbc-77a8-478c-b409-4b7f4d2c5532",
   "metadata": {},
   "outputs": [
    {
     "name": "stderr",
     "output_type": "stream",
     "text": [
      "Warning message in if ((2:10) > 3) {:\n",
      "\"length > 1 이라는 조건이 있고, 첫번째 요소만이 사용될 것입니다\"\n"
     ]
    }
   ],
   "source": [
    "if ((2:10) > 3){\n",
    "    print(\"우징엉\")\n",
    "}"
   ]
  },
  {
   "cell_type": "markdown",
   "id": "c91f7194-acad-4183-906b-43c6bfb52b81",
   "metadata": {},
   "source": [
    "위 코드의 조건문을 보면, 좌변에서 벡터의 첫 번째 요소인 '2'가 사용되었으므로 (2 > 3) <- TRUE"
   ]
  },
  {
   "cell_type": "markdown",
   "id": "0539bcd2-b656-439b-b694-216f53a30dde",
   "metadata": {},
   "source": [
    "## NOTE2"
   ]
  },
  {
   "cell_type": "markdown",
   "id": "172e9112-d415-45b4-8ffb-ff82d861f4a1",
   "metadata": {},
   "source": [
    "- 아래는 잘못된 예이다."
   ]
  },
  {
   "cell_type": "code",
   "execution_count": 87,
   "id": "6401b59e-7770-4e23-b86a-fa51933b1184",
   "metadata": {},
   "outputs": [
    {
     "ename": "ERROR",
     "evalue": "Error in parse(text = x, srcfile = src): <text>:4:1: 예기치 않은 'else'입니다\n3: }\n4: else\n   ^\n",
     "output_type": "error",
     "traceback": [
      "Error in parse(text = x, srcfile = src): <text>:4:1: 예기치 않은 'else'입니다\n3: }\n4: else\n   ^\nTraceback:\n"
     ]
    }
   ],
   "source": [
    "if (5 > 3){\n",
    "    print(\"우징엉\")\n",
    "}\n",
    "else{\n",
    "    print(\"오징엉\")\n",
    "}"
   ]
  },
  {
   "cell_type": "markdown",
   "id": "db011182-3cf0-485f-aced-4ad6cb2f57e1",
   "metadata": {},
   "source": [
    "- 위 코드에서, LINE3에서 컴퓨터는 조건문이 완전히 종료된 것으로 인식하였다. \n",
    "- 그런데 갑자기 `else`를 마주하자 오류를 낸 것.\n",
    "\n",
    "\n",
    "- 아래는 옳은 예이다."
   ]
  },
  {
   "cell_type": "code",
   "execution_count": 90,
   "id": "e3525938-2b39-42c9-8d32-1f21701ca587",
   "metadata": {},
   "outputs": [
    {
     "name": "stdout",
     "output_type": "stream",
     "text": [
      "[1] \"우징엉\"\n"
     ]
    }
   ],
   "source": [
    "if (5 > 3) {\n",
    "    print(\"우징엉\")\n",
    "} else {\n",
    "    print(\"오징엉\")\n",
    "}"
   ]
  },
  {
   "cell_type": "markdown",
   "id": "31b7907d-4050-4e22-a681-8c84579c56c5",
   "metadata": {},
   "source": [
    "- 위 코드처럼 코드가 끝나지 않았음을 컴퓨터에게 알려줘야 한다."
   ]
  },
  {
   "cell_type": "markdown",
   "id": "8fb28be3-33fb-478e-9a08-7e7eea4aff32",
   "metadata": {},
   "source": [
    "# 과제"
   ]
  },
  {
   "cell_type": "markdown",
   "id": "06235a89-bbdc-419a-94c0-813b8c19a5b7",
   "metadata": {},
   "source": [
    "- if문을 활용하여 제곱근을 계산하는 함수를 만드시오."
   ]
  },
  {
   "cell_type": "code",
   "execution_count": 102,
   "id": "b16d4d2f-b868-458b-b946-5c904645d0c2",
   "metadata": {},
   "outputs": [],
   "source": [
    "mysqrtfun <- function(x){\n",
    "    if (x >= 0){\n",
    "        print(sqrt(x))        \n",
    "    }else{\n",
    "        print(\"x는 양수이어야 합니다.\")\n",
    "        }\n",
    "    }"
   ]
  },
  {
   "cell_type": "code",
   "execution_count": 103,
   "id": "d188bd24-d147-4372-ac61-17146a6f75f4",
   "metadata": {},
   "outputs": [
    {
     "name": "stdout",
     "output_type": "stream",
     "text": [
      "[1] \"x는 양수이어야 합니다.\"\n"
     ]
    }
   ],
   "source": [
    "mysqrtfun(-2)"
   ]
  },
  {
   "cell_type": "code",
   "execution_count": 104,
   "id": "14b43586-f248-4c7b-b449-78d8cc1a3a98",
   "metadata": {},
   "outputs": [
    {
     "name": "stdout",
     "output_type": "stream",
     "text": [
      "[1] 1.414214\n"
     ]
    }
   ],
   "source": [
    "mysqrtfun(2)"
   ]
  }
 ],
 "metadata": {
  "kernelspec": {
   "display_name": "R",
   "language": "R",
   "name": "ir"
  },
  "language_info": {
   "codemirror_mode": "r",
   "file_extension": ".r",
   "mimetype": "text/x-r-source",
   "name": "R",
   "pygments_lexer": "r",
   "version": "4.1.1"
  }
 },
 "nbformat": 4,
 "nbformat_minor": 5
}
