{
 "cells": [
  {
   "cell_type": "code",
   "execution_count": 1,
   "id": "c80c360d-fec3-4c20-9e6f-b65ec332c9c2",
   "metadata": {},
   "outputs": [],
   "source": [
    "#hide\n",
    "options(jupyter.plot_scale = 3)\n",
    "options(jupyter.display_mimetypes = c(\"text/html\"))\n",
    "options(jupyter.rich_display=FALSE)\n",
    "options(repr.plot.width=6, repr.plot.height=6, repr.plot.res=300)\n",
    "options(max.print=1000)"
   ]
  },
  {
   "cell_type": "markdown",
   "id": "af53461f-a461-4524-a523-d2f6b4740fb3",
   "metadata": {},
   "source": [
    "# \"R : switch()\"\n",
    "> \"전북대학교 R입문 5주차 필기\"\n",
    "\n",
    "- toc: true\n",
    "- branch: master\n",
    "- badges: true\n",
    "- comments: true\n",
    "- author: Kim Jeewoo\n",
    "- categories: [Introduction to R], [R]\n",
    "- image: images/r_logo.PNG"
   ]
  },
  {
   "cell_type": "markdown",
   "id": "38e97be1-5963-4350-a3f3-2b613a58a423",
   "metadata": {},
   "source": [
    "# **switch()**"
   ]
  },
  {
   "cell_type": "code",
   "execution_count": null,
   "id": "724d8d1b-5f45-451c-8d50-ae03e28dc6ed",
   "metadata": {},
   "outputs": [],
   "source": []
  }
 ],
 "metadata": {
  "kernelspec": {
   "display_name": "R",
   "language": "R",
   "name": "ir"
  },
  "language_info": {
   "codemirror_mode": "r",
   "file_extension": ".r",
   "mimetype": "text/x-r-source",
   "name": "R",
   "pygments_lexer": "r",
   "version": "4.0.5"
  }
 },
 "nbformat": 4,
 "nbformat_minor": 5
}
