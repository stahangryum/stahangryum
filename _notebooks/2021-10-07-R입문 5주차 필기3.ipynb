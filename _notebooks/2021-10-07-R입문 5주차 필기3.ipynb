{
 "cells": [
  {
   "cell_type": "code",
   "execution_count": 1,
   "id": "c80c360d-fec3-4c20-9e6f-b65ec332c9c2",
   "metadata": {},
   "outputs": [],
   "source": [
    "#hide\n",
    "options(jupyter.plot_scale = 3)\n",
    "options(jupyter.display_mimetypes = c(\"text/html\"))\n",
    "options(jupyter.rich_display=FALSE)\n",
    "options(repr.plot.width=6, repr.plot.height=6, repr.plot.res=300)\n",
    "options(max.print=1000)"
   ]
  },
  {
   "cell_type": "markdown",
   "id": "af53461f-a461-4524-a523-d2f6b4740fb3",
   "metadata": {},
   "source": [
    "# \"R : switch()\"\n",
    "> \"전북대학교 R입문 5주차 필기\"\n",
    "\n",
    "- toc: true\n",
    "- branch: master\n",
    "- badges: true\n",
    "- comments: true\n",
    "- author: Kim Jeewoo\n",
    "- categories: [Introduction to R], [R]\n",
    "- image: images/r_logo.PNG"
   ]
  },
  {
   "cell_type": "markdown",
   "id": "38e97be1-5963-4350-a3f3-2b613a58a423",
   "metadata": {},
   "source": [
    "# switch()"
   ]
  },
  {
   "cell_type": "code",
   "execution_count": 26,
   "id": "d90caa5a-47c3-49f7-b381-73cd13e77207",
   "metadata": {},
   "outputs": [
    {
     "data": {
      "text/plain": [
       "[1] 1 2 3"
      ]
     },
     "metadata": {},
     "output_type": "display_data"
    }
   ],
   "source": [
    "switch(1, a1=c(1,2,3),a2=20,a3=c(30,40))"
   ]
  },
  {
   "cell_type": "code",
   "execution_count": 27,
   "id": "5b61e386-a4bf-4681-bd7d-587586c13e55",
   "metadata": {},
   "outputs": [
    {
     "data": {
      "text/plain": [
       "[1] 20"
      ]
     },
     "metadata": {},
     "output_type": "display_data"
    }
   ],
   "source": [
    "switch(2, a1=c(1,2,3),a2=20,a3=c(30,40))"
   ]
  },
  {
   "cell_type": "code",
   "execution_count": 28,
   "id": "38285422-42b0-4ff2-8480-3d58dc943cda",
   "metadata": {},
   "outputs": [
    {
     "data": {
      "text/plain": [
       "[1] 30 40"
      ]
     },
     "metadata": {},
     "output_type": "display_data"
    }
   ],
   "source": [
    "switch(3, a1=c(1,2,3),a2=20,a3=c(30,40))"
   ]
  },
  {
   "cell_type": "code",
   "execution_count": 18,
   "id": "365f5354-243c-4688-809d-a4b06b1363b3",
   "metadata": {},
   "outputs": [
    {
     "data": {
      "text/plain": [
       "[1] 1 2 3"
      ]
     },
     "metadata": {},
     "output_type": "display_data"
    }
   ],
   "source": [
    "switch('a1', a1=c(1,2,3),a2=20,a3=c(30,40))"
   ]
  },
  {
   "cell_type": "code",
   "execution_count": 19,
   "id": "ffbba730-aa3c-49b8-a4e8-8ae16247b7d6",
   "metadata": {},
   "outputs": [
    {
     "data": {
      "text/plain": [
       "[1] 1 2 3"
      ]
     },
     "metadata": {},
     "output_type": "display_data"
    }
   ],
   "source": [
    "switch('a2', a1=c(1,2,3),a2=20,a3=c(30,40))"
   ]
  },
  {
   "cell_type": "code",
   "execution_count": 22,
   "id": "f6f5ad8f-e783-4b14-908d-eb2869cb8061",
   "metadata": {},
   "outputs": [
    {
     "data": {
      "text/plain": [
       "[1] 30 40"
      ]
     },
     "metadata": {},
     "output_type": "display_data"
    }
   ],
   "source": [
    "switch('a3', a1=c(1,2,3),a2=20,a3=c(30,40))"
   ]
  },
  {
   "cell_type": "code",
   "execution_count": 38,
   "id": "724d8d1b-5f45-451c-8d50-ae03e28dc6ed",
   "metadata": {},
   "outputs": [
    {
     "data": {
      "text/plain": [
       "[1] 3"
      ]
     },
     "metadata": {},
     "output_type": "display_data"
    },
    {
     "data": {
      "text/plain": [
       "[1] 11"
      ]
     },
     "metadata": {},
     "output_type": "display_data"
    },
    {
     "data": {
      "text/plain": [
       "[1] 2"
      ]
     },
     "metadata": {},
     "output_type": "display_data"
    }
   ],
   "source": [
    "myfun <- function(x,f){\n",
    "    switch(f,\n",
    "        mean = mean(x),\n",
    "        sqmean = mean(x**2),\n",
    "        var = mean((x-mean(x))**2)\n",
    "    )\n",
    "}\n",
    "\n",
    "x = 1:5\n",
    "myfun(x, 'mean')\n",
    "myfun(x, 'sqmean')\n",
    "myfun(x, 'var')"
   ]
  },
  {
   "cell_type": "code",
   "execution_count": null,
   "id": "b4d646a0-6a5e-44ea-9fce-7818781bd24e",
   "metadata": {},
   "outputs": [],
   "source": []
  }
 ],
 "metadata": {
  "kernelspec": {
   "display_name": "R",
   "language": "R",
   "name": "ir"
  },
  "language_info": {
   "codemirror_mode": "r",
   "file_extension": ".r",
   "mimetype": "text/x-r-source",
   "name": "R",
   "pygments_lexer": "r",
   "version": "4.0.5"
  }
 },
 "nbformat": 4,
 "nbformat_minor": 5
}
