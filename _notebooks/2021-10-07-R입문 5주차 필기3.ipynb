{
 "cells": [
  {
   "cell_type": "code",
   "execution_count": 1,
   "id": "c80c360d-fec3-4c20-9e6f-b65ec332c9c2",
   "metadata": {},
   "outputs": [],
   "source": [
    "#hide\n",
    "options(jupyter.plot_scale = 3)\n",
    "options(jupyter.display_mimetypes = c(\"text/html\"))\n",
    "options(jupyter.rich_display=FALSE)\n",
    "options(repr.plot.width=6, repr.plot.height=6, repr.plot.res=300)\n",
    "options(max.print=1000)"
   ]
  },
  {
   "cell_type": "markdown",
   "id": "af53461f-a461-4524-a523-d2f6b4740fb3",
   "metadata": {},
   "source": [
    "# \"R : switch()\"\n",
    "> \"전북대학교 R입문 5주차 필기\"\n",
    "\n",
    "- toc: true\n",
    "- branch: master\n",
    "- badges: true\n",
    "- comments: true\n",
    "- author: Kim Jeewoo\n",
    "- categories: [Introduction to R], [R]\n",
    "- image: images/r_logo.PNG"
   ]
  },
  {
   "cell_type": "markdown",
   "id": "38e97be1-5963-4350-a3f3-2b613a58a423",
   "metadata": {},
   "source": [
    "# switch()"
   ]
  },
  {
   "cell_type": "code",
   "execution_count": 8,
   "id": "724d8d1b-5f45-451c-8d50-ae03e28dc6ed",
   "metadata": {},
   "outputs": [
    {
     "data": {
      "text/plain": [
       "[1] 3"
      ]
     },
     "metadata": {},
     "output_type": "display_data"
    },
    {
     "data": {
      "text/plain": [
       "[1] 11"
      ]
     },
     "metadata": {},
     "output_type": "display_data"
    },
    {
     "data": {
      "text/plain": [
       "[1] 2"
      ]
     },
     "metadata": {},
     "output_type": "display_data"
    }
   ],
   "source": [
    "myfun <- function(x, f){\n",
    "    switch(f,\n",
    "        mean = mean(x),\n",
    "        sqmean = mean(x**2),\n",
    "        var = mean((x-mean(x))**2)\n",
    "    )\n",
    "}\n",
    "\n",
    "x = 1:5\n",
    "myfun(x, 'mean')\n",
    "myfun(x, 'sqmean')\n",
    "myfun(x, 'var')"
   ]
  },
  {
   "cell_type": "code",
   "execution_count": null,
   "id": "90b73d0d-7d7a-4b6b-8e1c-fc80e1c8ee33",
   "metadata": {},
   "outputs": [],
   "source": []
  }
 ],
 "metadata": {
  "kernelspec": {
   "display_name": "R",
   "language": "R",
   "name": "ir"
  },
  "language_info": {
   "codemirror_mode": "r",
   "file_extension": ".r",
   "mimetype": "text/x-r-source",
   "name": "R",
   "pygments_lexer": "r",
   "version": "4.0.5"
  }
 },
 "nbformat": 4,
 "nbformat_minor": 5
}
