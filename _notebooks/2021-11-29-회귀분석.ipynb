{
 "cells": [
  {
   "cell_type": "markdown",
   "id": "10e31733-3af6-4e29-88a8-5b466844ae55",
   "metadata": {},
   "source": [
    "# \"Regression Analysis\"\n",
    "> \"전북대학교 통계학 입문\"\n",
    "\n",
    "- toc: true\n",
    "- branch: master\n",
    "- badges: true\n",
    "- comments: true\n",
    "- author: Kim Jeewoo\n",
    "- categories: [Introduction to Statistics]\n",
    "- image: images/20211130linear.png"
   ]
  },
  {
   "cell_type": "code",
   "execution_count": 55,
   "id": "0b547ef8-800c-49d5-8b10-13947c523ddc",
   "metadata": {},
   "outputs": [],
   "source": [
    "library(tidyverse)"
   ]
  },
  {
   "cell_type": "markdown",
   "id": "8fd10e76-2441-4e86-b236-510f7c8aca88",
   "metadata": {},
   "source": [
    "# 기울기와 상관관계 추론"
   ]
  },
  {
   "cell_type": "markdown",
   "id": "b93dc31c-87db-4b9b-8b77-ee380e306ab6",
   "metadata": {},
   "source": [
    "## Example 5.2"
   ]
  },
  {
   "cell_type": "code",
   "execution_count": 14,
   "id": "224b24ed-5a6a-4018-9462-2f20a55537c3",
   "metadata": {},
   "outputs": [],
   "source": [
    "file_url =  \"http://www.lock5stat.com/datasets2e/InkjetPrinters.csv\""
   ]
  },
  {
   "cell_type": "code",
   "execution_count": 17,
   "id": "a775db82-c13c-44d7-b165-8725a50c5bb5",
   "metadata": {},
   "outputs": [
    {
     "data": {
      "text/html": [
       "<table class=\"dataframe\">\n",
       "<caption>A data.frame: 20 × 6</caption>\n",
       "<thead>\n",
       "\t<tr><th scope=col>Model</th><th scope=col>PPM</th><th scope=col>PhotoTime</th><th scope=col>Price</th><th scope=col>CostBW</th><th scope=col>CostColor</th></tr>\n",
       "\t<tr><th scope=col>&lt;chr&gt;</th><th scope=col>&lt;dbl&gt;</th><th scope=col>&lt;int&gt;</th><th scope=col>&lt;int&gt;</th><th scope=col>&lt;dbl&gt;</th><th scope=col>&lt;dbl&gt;</th></tr>\n",
       "</thead>\n",
       "<tbody>\n",
       "\t<tr><td>HP Photosmart Pro 8500A e-All-in-One       </td><td>3.9</td><td> 67</td><td>300</td><td>1.6</td><td> 7.2</td></tr>\n",
       "\t<tr><td>Canon Pixma MX882                          </td><td>2.9</td><td> 63</td><td>199</td><td>5.2</td><td>13.4</td></tr>\n",
       "\t<tr><td>Lexmark Impact S305                        </td><td>2.7</td><td> 43</td><td> 79</td><td>6.9</td><td> 9.0</td></tr>\n",
       "\t<tr><td>Lexmark Interpret S405                     </td><td>2.9</td><td> 42</td><td>129</td><td>4.9</td><td>13.9</td></tr>\n",
       "\t<tr><td>Epson Workforce 520                        </td><td>2.4</td><td>170</td><td> 70</td><td>4.9</td><td>14.4</td></tr>\n",
       "\t<tr><td>Brother MFC-J6910DW                        </td><td>4.1</td><td>143</td><td>348</td><td>1.7</td><td> 7.9</td></tr>\n",
       "\t<tr><td>HP Officejet 7500A Wide Format e-All-in-One</td><td>3.4</td><td> 66</td><td>299</td><td>2.7</td><td> 9.1</td></tr>\n",
       "\t<tr><td>Canon Pixma iX7000 Inkjet Business Printer </td><td>2.8</td><td> 66</td><td>248</td><td>4.1</td><td> 9.8</td></tr>\n",
       "\t<tr><td>Kodak ESP Office 2170 All-in-One Printer   </td><td>3.0</td><td> 42</td><td>150</td><td>3.7</td><td>11.3</td></tr>\n",
       "\t<tr><td>HP Photosmart Plus e-All-in-One            </td><td>3.2</td><td> 77</td><td>150</td><td>4.2</td><td>11.4</td></tr>\n",
       "\t<tr><td>Kodak ESP C310 All-in-One                  </td><td>2.7</td><td> 44</td><td> 87</td><td>3.7</td><td>11.3</td></tr>\n",
       "\t<tr><td>Dell P513w All-in-One Wireless             </td><td>2.7</td><td> 45</td><td>100</td><td>8.3</td><td>18.6</td></tr>\n",
       "\t<tr><td>Brother MFC-J410W                          </td><td>2.2</td><td> 96</td><td> 99</td><td>5.0</td><td>14.7</td></tr>\n",
       "\t<tr><td>Dell V715w                                 </td><td>2.5</td><td> 41</td><td>189</td><td>3.8</td><td>12.4</td></tr>\n",
       "\t<tr><td>Kodak ESP C310 All-in-One                  </td><td>2.7</td><td> 44</td><td> 99</td><td>3.7</td><td>11.3</td></tr>\n",
       "\t<tr><td>Epson Stylus NX420                         </td><td>1.7</td><td>170</td><td> 60</td><td>5.7</td><td>14.6</td></tr>\n",
       "\t<tr><td>Kodak ESP 7250 All-in-One                  </td><td>2.8</td><td> 58</td><td>199</td><td>2.2</td><td> 6.5</td></tr>\n",
       "\t<tr><td>Canon Pixma 420 Wireless Inject Office     </td><td>1.8</td><td> 97</td><td>149</td><td>5.5</td><td>13.2</td></tr>\n",
       "\t<tr><td>Canon Pixma MX360 Office Inkjet All-in-One </td><td>1.8</td><td> 94</td><td> 79</td><td>5.5</td><td>13.2</td></tr>\n",
       "\t<tr><td>Epson WorkForce 635                        </td><td>4.1</td><td>134</td><td>199</td><td>3.0</td><td>10.2</td></tr>\n",
       "</tbody>\n",
       "</table>\n"
      ],
      "text/latex": [
       "A data.frame: 20 × 6\n",
       "\\begin{tabular}{llllll}\n",
       " Model & PPM & PhotoTime & Price & CostBW & CostColor\\\\\n",
       " <chr> & <dbl> & <int> & <int> & <dbl> & <dbl>\\\\\n",
       "\\hline\n",
       "\t HP Photosmart Pro 8500A e-All-in-One        & 3.9 &  67 & 300 & 1.6 &  7.2\\\\\n",
       "\t Canon Pixma MX882                           & 2.9 &  63 & 199 & 5.2 & 13.4\\\\\n",
       "\t Lexmark Impact S305                         & 2.7 &  43 &  79 & 6.9 &  9.0\\\\\n",
       "\t Lexmark Interpret S405                      & 2.9 &  42 & 129 & 4.9 & 13.9\\\\\n",
       "\t Epson Workforce 520                         & 2.4 & 170 &  70 & 4.9 & 14.4\\\\\n",
       "\t Brother MFC-J6910DW                         & 4.1 & 143 & 348 & 1.7 &  7.9\\\\\n",
       "\t HP Officejet 7500A Wide Format e-All-in-One & 3.4 &  66 & 299 & 2.7 &  9.1\\\\\n",
       "\t Canon Pixma iX7000 Inkjet Business Printer  & 2.8 &  66 & 248 & 4.1 &  9.8\\\\\n",
       "\t Kodak ESP Office 2170 All-in-One Printer    & 3.0 &  42 & 150 & 3.7 & 11.3\\\\\n",
       "\t HP Photosmart Plus e-All-in-One             & 3.2 &  77 & 150 & 4.2 & 11.4\\\\\n",
       "\t Kodak ESP C310 All-in-One                   & 2.7 &  44 &  87 & 3.7 & 11.3\\\\\n",
       "\t Dell P513w All-in-One Wireless              & 2.7 &  45 & 100 & 8.3 & 18.6\\\\\n",
       "\t Brother MFC-J410W                           & 2.2 &  96 &  99 & 5.0 & 14.7\\\\\n",
       "\t Dell V715w                                  & 2.5 &  41 & 189 & 3.8 & 12.4\\\\\n",
       "\t Kodak ESP C310 All-in-One                   & 2.7 &  44 &  99 & 3.7 & 11.3\\\\\n",
       "\t Epson Stylus NX420                          & 1.7 & 170 &  60 & 5.7 & 14.6\\\\\n",
       "\t Kodak ESP 7250 All-in-One                   & 2.8 &  58 & 199 & 2.2 &  6.5\\\\\n",
       "\t Canon Pixma 420 Wireless Inject Office      & 1.8 &  97 & 149 & 5.5 & 13.2\\\\\n",
       "\t Canon Pixma MX360 Office Inkjet All-in-One  & 1.8 &  94 &  79 & 5.5 & 13.2\\\\\n",
       "\t Epson WorkForce 635                         & 4.1 & 134 & 199 & 3.0 & 10.2\\\\\n",
       "\\end{tabular}\n"
      ],
      "text/markdown": [
       "\n",
       "A data.frame: 20 × 6\n",
       "\n",
       "| Model &lt;chr&gt; | PPM &lt;dbl&gt; | PhotoTime &lt;int&gt; | Price &lt;int&gt; | CostBW &lt;dbl&gt; | CostColor &lt;dbl&gt; |\n",
       "|---|---|---|---|---|---|\n",
       "| HP Photosmart Pro 8500A e-All-in-One        | 3.9 |  67 | 300 | 1.6 |  7.2 |\n",
       "| Canon Pixma MX882                           | 2.9 |  63 | 199 | 5.2 | 13.4 |\n",
       "| Lexmark Impact S305                         | 2.7 |  43 |  79 | 6.9 |  9.0 |\n",
       "| Lexmark Interpret S405                      | 2.9 |  42 | 129 | 4.9 | 13.9 |\n",
       "| Epson Workforce 520                         | 2.4 | 170 |  70 | 4.9 | 14.4 |\n",
       "| Brother MFC-J6910DW                         | 4.1 | 143 | 348 | 1.7 |  7.9 |\n",
       "| HP Officejet 7500A Wide Format e-All-in-One | 3.4 |  66 | 299 | 2.7 |  9.1 |\n",
       "| Canon Pixma iX7000 Inkjet Business Printer  | 2.8 |  66 | 248 | 4.1 |  9.8 |\n",
       "| Kodak ESP Office 2170 All-in-One Printer    | 3.0 |  42 | 150 | 3.7 | 11.3 |\n",
       "| HP Photosmart Plus e-All-in-One             | 3.2 |  77 | 150 | 4.2 | 11.4 |\n",
       "| Kodak ESP C310 All-in-One                   | 2.7 |  44 |  87 | 3.7 | 11.3 |\n",
       "| Dell P513w All-in-One Wireless              | 2.7 |  45 | 100 | 8.3 | 18.6 |\n",
       "| Brother MFC-J410W                           | 2.2 |  96 |  99 | 5.0 | 14.7 |\n",
       "| Dell V715w                                  | 2.5 |  41 | 189 | 3.8 | 12.4 |\n",
       "| Kodak ESP C310 All-in-One                   | 2.7 |  44 |  99 | 3.7 | 11.3 |\n",
       "| Epson Stylus NX420                          | 1.7 | 170 |  60 | 5.7 | 14.6 |\n",
       "| Kodak ESP 7250 All-in-One                   | 2.8 |  58 | 199 | 2.2 |  6.5 |\n",
       "| Canon Pixma 420 Wireless Inject Office      | 1.8 |  97 | 149 | 5.5 | 13.2 |\n",
       "| Canon Pixma MX360 Office Inkjet All-in-One  | 1.8 |  94 |  79 | 5.5 | 13.2 |\n",
       "| Epson WorkForce 635                         | 4.1 | 134 | 199 | 3.0 | 10.2 |\n",
       "\n"
      ],
      "text/plain": [
       "   Model                                       PPM PhotoTime Price CostBW\n",
       "1  HP Photosmart Pro 8500A e-All-in-One        3.9  67       300   1.6   \n",
       "2  Canon Pixma MX882                           2.9  63       199   5.2   \n",
       "3  Lexmark Impact S305                         2.7  43        79   6.9   \n",
       "4  Lexmark Interpret S405                      2.9  42       129   4.9   \n",
       "5  Epson Workforce 520                         2.4 170        70   4.9   \n",
       "6  Brother MFC-J6910DW                         4.1 143       348   1.7   \n",
       "7  HP Officejet 7500A Wide Format e-All-in-One 3.4  66       299   2.7   \n",
       "8  Canon Pixma iX7000 Inkjet Business Printer  2.8  66       248   4.1   \n",
       "9  Kodak ESP Office 2170 All-in-One Printer    3.0  42       150   3.7   \n",
       "10 HP Photosmart Plus e-All-in-One             3.2  77       150   4.2   \n",
       "11 Kodak ESP C310 All-in-One                   2.7  44        87   3.7   \n",
       "12 Dell P513w All-in-One Wireless              2.7  45       100   8.3   \n",
       "13 Brother MFC-J410W                           2.2  96        99   5.0   \n",
       "14 Dell V715w                                  2.5  41       189   3.8   \n",
       "15 Kodak ESP C310 All-in-One                   2.7  44        99   3.7   \n",
       "16 Epson Stylus NX420                          1.7 170        60   5.7   \n",
       "17 Kodak ESP 7250 All-in-One                   2.8  58       199   2.2   \n",
       "18 Canon Pixma 420 Wireless Inject Office      1.8  97       149   5.5   \n",
       "19 Canon Pixma MX360 Office Inkjet All-in-One  1.8  94        79   5.5   \n",
       "20 Epson WorkForce 635                         4.1 134       199   3.0   \n",
       "   CostColor\n",
       "1   7.2     \n",
       "2  13.4     \n",
       "3   9.0     \n",
       "4  13.9     \n",
       "5  14.4     \n",
       "6   7.9     \n",
       "7   9.1     \n",
       "8   9.8     \n",
       "9  11.3     \n",
       "10 11.4     \n",
       "11 11.3     \n",
       "12 18.6     \n",
       "13 14.7     \n",
       "14 12.4     \n",
       "15 11.3     \n",
       "16 14.6     \n",
       "17  6.5     \n",
       "18 13.2     \n",
       "19 13.2     \n",
       "20 10.2     "
      ]
     },
     "metadata": {},
     "output_type": "display_data"
    }
   ],
   "source": [
    "inkjet = read.csv(file_url)\n",
    "inkjet"
   ]
  },
  {
   "cell_type": "code",
   "execution_count": 19,
   "id": "bff4b916-d822-492e-b299-39b188eae5cd",
   "metadata": {},
   "outputs": [
    {
     "data": {
      "text/plain": [
       "\n",
       "Call:\n",
       "lm(formula = Price ~ PPM, data = inkjet)\n",
       "\n",
       "Residuals:\n",
       "   Min     1Q Median     3Q    Max \n",
       "-79.38 -51.40  -3.49  43.85  87.76 \n",
       "\n",
       "Coefficients:\n",
       "            Estimate Std. Error t value Pr(>|t|)    \n",
       "(Intercept)   -94.22      56.40  -1.671 0.112086    \n",
       "PPM            90.88      19.49   4.663 0.000193 ***\n",
       "---\n",
       "Signif. codes:  0 '***' 0.001 '**' 0.01 '*' 0.05 '.' 0.1 ' ' 1\n",
       "\n",
       "Residual standard error: 58.55 on 18 degrees of freedom\n",
       "Multiple R-squared:  0.5471,\tAdjusted R-squared:  0.522 \n",
       "F-statistic: 21.75 on 1 and 18 DF,  p-value: 0.0001934\n"
      ]
     },
     "metadata": {},
     "output_type": "display_data"
    }
   ],
   "source": [
    "fit = lm(Price ~ PPM, data = inkjet)\n",
    "summary(fit)"
   ]
  },
  {
   "cell_type": "markdown",
   "id": "f85af7cb-f4c1-4e54-a62f-8eb006233ef9",
   "metadata": {},
   "source": [
    "- $b_1 = 90.88, SE = 19.49$"
   ]
  },
  {
   "cell_type": "code",
   "execution_count": 25,
   "id": "1b099e12-1af5-48f3-9a13-d0e0df915ba3",
   "metadata": {},
   "outputs": [
    {
     "data": {
      "text/html": [
       "18"
      ],
      "text/latex": [
       "18"
      ],
      "text/markdown": [
       "18"
      ],
      "text/plain": [
       "[1] 18"
      ]
     },
     "metadata": {},
     "output_type": "display_data"
    }
   ],
   "source": [
    "t_df = count(inkjet) %>% as.numeric - 2\n",
    "t_df"
   ]
  },
  {
   "cell_type": "markdown",
   "id": "7c0c8227-227b-4e39-a292-531253605328",
   "metadata": {},
   "source": [
    "자유도가 18인 t-분포에서 $t^*=2.10$이므로 95% 신뢰구간은"
   ]
  },
  {
   "cell_type": "markdown",
   "id": "f2b62b88-cf56-41f4-bf29-db42e8a2a790",
   "metadata": {},
   "source": [
    "$b_1 \\pm t^* \\centerdot SE$"
   ]
  },
  {
   "cell_type": "code",
   "execution_count": 32,
   "id": "98335628-ba2b-48dc-94c0-916de773c8b2",
   "metadata": {},
   "outputs": [
    {
     "data": {
      "text/html": [
       "49.951"
      ],
      "text/latex": [
       "49.951"
      ],
      "text/markdown": [
       "49.951"
      ],
      "text/plain": [
       "[1] 49.951"
      ]
     },
     "metadata": {},
     "output_type": "display_data"
    },
    {
     "data": {
      "text/html": [
       "131.809"
      ],
      "text/latex": [
       "131.809"
      ],
      "text/markdown": [
       "131.809"
      ],
      "text/plain": [
       "[1] 131.809"
      ]
     },
     "metadata": {},
     "output_type": "display_data"
    }
   ],
   "source": [
    "90.88 - 2.10 * 19.49\n",
    "90.88 + 2.10 * 19.49"
   ]
  },
  {
   "cell_type": "markdown",
   "id": "5dbb011b-8753-434b-88e1-a2f8dc2fb955",
   "metadata": {},
   "source": [
    "이 데이터로부터 기울기(인쇄 속도가 분당 1페이지 더 빨라질 때 프린터 가격 상승)는 **49.95에서 131.81 사이라고 95% 확신한다.**"
   ]
  },
  {
   "cell_type": "markdown",
   "id": "d8eecd3b-d16b-4a03-9e12-5d2aed93b0c7",
   "metadata": {},
   "source": [
    "## Example 5.3"
   ]
  },
  {
   "cell_type": "code",
   "execution_count": 33,
   "id": "6a6c843a-288f-4f2d-871a-a3fedce596d0",
   "metadata": {},
   "outputs": [],
   "source": [
    "file_url = \"http://www.lock5stat.com/datasets2e/RestaurantTips.csv\""
   ]
  },
  {
   "cell_type": "code",
   "execution_count": 35,
   "id": "b709ebca-e6d3-4c50-91fb-21d074170a90",
   "metadata": {},
   "outputs": [
    {
     "data": {
      "text/html": [
       "<table class=\"dataframe\">\n",
       "<caption>A data.frame: 6 × 7</caption>\n",
       "<thead>\n",
       "\t<tr><th></th><th scope=col>Bill</th><th scope=col>Tip</th><th scope=col>Credit</th><th scope=col>Guests</th><th scope=col>Day</th><th scope=col>Server</th><th scope=col>PctTip</th></tr>\n",
       "\t<tr><th></th><th scope=col>&lt;dbl&gt;</th><th scope=col>&lt;dbl&gt;</th><th scope=col>&lt;chr&gt;</th><th scope=col>&lt;int&gt;</th><th scope=col>&lt;chr&gt;</th><th scope=col>&lt;chr&gt;</th><th scope=col>&lt;dbl&gt;</th></tr>\n",
       "</thead>\n",
       "<tbody>\n",
       "\t<tr><th scope=row>1</th><td>23.70</td><td>10.00</td><td>n</td><td>2</td><td>f</td><td>A</td><td>42.2</td></tr>\n",
       "\t<tr><th scope=row>2</th><td>36.11</td><td> 7.00</td><td>n</td><td>3</td><td>f</td><td>B</td><td>19.4</td></tr>\n",
       "\t<tr><th scope=row>3</th><td>31.99</td><td> 5.01</td><td>y</td><td>2</td><td>f</td><td>A</td><td>15.7</td></tr>\n",
       "\t<tr><th scope=row>4</th><td>17.39</td><td> 3.61</td><td>y</td><td>2</td><td>f</td><td>B</td><td>20.8</td></tr>\n",
       "\t<tr><th scope=row>5</th><td>15.41</td><td> 3.00</td><td>n</td><td>2</td><td>f</td><td>B</td><td>19.5</td></tr>\n",
       "\t<tr><th scope=row>6</th><td>18.62</td><td> 2.50</td><td>n</td><td>2</td><td>f</td><td>A</td><td>13.4</td></tr>\n",
       "</tbody>\n",
       "</table>\n"
      ],
      "text/latex": [
       "A data.frame: 6 × 7\n",
       "\\begin{tabular}{r|lllllll}\n",
       "  & Bill & Tip & Credit & Guests & Day & Server & PctTip\\\\\n",
       "  & <dbl> & <dbl> & <chr> & <int> & <chr> & <chr> & <dbl>\\\\\n",
       "\\hline\n",
       "\t1 & 23.70 & 10.00 & n & 2 & f & A & 42.2\\\\\n",
       "\t2 & 36.11 &  7.00 & n & 3 & f & B & 19.4\\\\\n",
       "\t3 & 31.99 &  5.01 & y & 2 & f & A & 15.7\\\\\n",
       "\t4 & 17.39 &  3.61 & y & 2 & f & B & 20.8\\\\\n",
       "\t5 & 15.41 &  3.00 & n & 2 & f & B & 19.5\\\\\n",
       "\t6 & 18.62 &  2.50 & n & 2 & f & A & 13.4\\\\\n",
       "\\end{tabular}\n"
      ],
      "text/markdown": [
       "\n",
       "A data.frame: 6 × 7\n",
       "\n",
       "| <!--/--> | Bill &lt;dbl&gt; | Tip &lt;dbl&gt; | Credit &lt;chr&gt; | Guests &lt;int&gt; | Day &lt;chr&gt; | Server &lt;chr&gt; | PctTip &lt;dbl&gt; |\n",
       "|---|---|---|---|---|---|---|---|\n",
       "| 1 | 23.70 | 10.00 | n | 2 | f | A | 42.2 |\n",
       "| 2 | 36.11 |  7.00 | n | 3 | f | B | 19.4 |\n",
       "| 3 | 31.99 |  5.01 | y | 2 | f | A | 15.7 |\n",
       "| 4 | 17.39 |  3.61 | y | 2 | f | B | 20.8 |\n",
       "| 5 | 15.41 |  3.00 | n | 2 | f | B | 19.5 |\n",
       "| 6 | 18.62 |  2.50 | n | 2 | f | A | 13.4 |\n",
       "\n"
      ],
      "text/plain": [
       "  Bill  Tip   Credit Guests Day Server PctTip\n",
       "1 23.70 10.00 n      2      f   A      42.2  \n",
       "2 36.11  7.00 n      3      f   B      19.4  \n",
       "3 31.99  5.01 y      2      f   A      15.7  \n",
       "4 17.39  3.61 y      2      f   B      20.8  \n",
       "5 15.41  3.00 n      2      f   B      19.5  \n",
       "6 18.62  2.50 n      2      f   A      13.4  "
      ]
     },
     "metadata": {},
     "output_type": "display_data"
    }
   ],
   "source": [
    "RestaurantTips = read.csv(file_url)\n",
    "head(RestaurantTips)"
   ]
  },
  {
   "cell_type": "code",
   "execution_count": 37,
   "id": "49ae3643-fffe-4f73-a823-d10d3dcf12c9",
   "metadata": {},
   "outputs": [
    {
     "data": {
      "text/plain": [
       "\n",
       "Call:\n",
       "lm(formula = Tip ~ Bill, data = RestaurantTips)\n",
       "\n",
       "Residuals:\n",
       "    Min      1Q  Median      3Q     Max \n",
       "-2.3911 -0.4891 -0.1108  0.2839  5.9738 \n",
       "\n",
       "Coefficients:\n",
       "             Estimate Std. Error t value Pr(>|t|)    \n",
       "(Intercept) -0.292267   0.166160  -1.759   0.0806 .  \n",
       "Bill         0.182215   0.006451  28.247   <2e-16 ***\n",
       "---\n",
       "Signif. codes:  0 '***' 0.001 '**' 0.01 '*' 0.05 '.' 0.1 ' ' 1\n",
       "\n",
       "Residual standard error: 0.9795 on 155 degrees of freedom\n",
       "Multiple R-squared:  0.8373,\tAdjusted R-squared:  0.8363 \n",
       "F-statistic: 797.9 on 1 and 155 DF,  p-value: < 2.2e-16\n"
      ]
     },
     "metadata": {},
     "output_type": "display_data"
    }
   ],
   "source": [
    "fit = lm(Tip ~ Bill, data= RestaurantTips)\n",
    "summary(fit)"
   ]
  },
  {
   "cell_type": "code",
   "execution_count": 48,
   "id": "fe1f6fed-fd90-49ca-a35c-47e28aeee05f",
   "metadata": {},
   "outputs": [
    {
     "data": {
      "text/html": [
       "155"
      ],
      "text/latex": [
       "155"
      ],
      "text/markdown": [
       "155"
      ],
      "text/plain": [
       "[1] 155"
      ]
     },
     "metadata": {},
     "output_type": "display_data"
    }
   ],
   "source": [
    "b1 = 0.182\n",
    "SE = 0.006451\n",
    "n = count(RestaurantTips) %>% as.numeric\n",
    "df = n - 2\n",
    "df"
   ]
  },
  {
   "cell_type": "markdown",
   "id": "76b14c95-740d-4b4b-8f64-4c1b16a96650",
   "metadata": {},
   "source": [
    "$t^* = 1.655$\n",
    "\n",
    "90% 신뢰구간은 다음과 같다."
   ]
  },
  {
   "cell_type": "code",
   "execution_count": 51,
   "id": "02e3671b-b908-4e2e-a8d5-cc5fdda4e272",
   "metadata": {},
   "outputs": [
    {
     "data": {
      "text/html": [
       "0.171323595"
      ],
      "text/latex": [
       "0.171323595"
      ],
      "text/markdown": [
       "0.171323595"
      ],
      "text/plain": [
       "[1] 0.1713236"
      ]
     },
     "metadata": {},
     "output_type": "display_data"
    },
    {
     "data": {
      "text/html": [
       "0.192676405"
      ],
      "text/latex": [
       "0.192676405"
      ],
      "text/markdown": [
       "0.192676405"
      ],
      "text/plain": [
       "[1] 0.1926764"
      ]
     },
     "metadata": {},
     "output_type": "display_data"
    }
   ],
   "source": [
    "b1-1.655*SE\n",
    "b1+1.655*SE"
   ]
  },
  {
   "cell_type": "markdown",
   "id": "9d3db629-124a-47cb-aaf0-84a08fff4aae",
   "metadata": {},
   "source": [
    "## Example 5.4"
   ]
  },
  {
   "cell_type": "code",
   "execution_count": 54,
   "id": "ac75300c-63d3-4bf0-9459-0244ade0d7fb",
   "metadata": {},
   "outputs": [
    {
     "data": {
      "text/plain": [
       "\n",
       "Call:\n",
       "lm(formula = PctTip ~ Bill, data = RestaurantTips)\n",
       "\n",
       "Residuals:\n",
       "    Min      1Q  Median      3Q     Max \n",
       "-8.9927 -2.3096 -0.6455  1.4679 25.5335 \n",
       "\n",
       "Coefficients:\n",
       "            Estimate Std. Error t value Pr(>|t|)    \n",
       "(Intercept) 15.50965    0.73956   20.97   <2e-16 ***\n",
       "Bill         0.04881    0.02871    1.70   0.0911 .  \n",
       "---\n",
       "Signif. codes:  0 '***' 0.001 '**' 0.01 '*' 0.05 '.' 0.1 ' ' 1\n",
       "\n",
       "Residual standard error: 4.36 on 155 degrees of freedom\n",
       "Multiple R-squared:  0.01831,\tAdjusted R-squared:  0.01197 \n",
       "F-statistic:  2.89 on 1 and 155 DF,  p-value: 0.09112\n"
      ]
     },
     "metadata": {},
     "output_type": "display_data"
    }
   ],
   "source": [
    "fit = lm(PctTip ~ Bill, data = RestaurantTips)\n",
    "summary(fit)"
   ]
  },
  {
   "cell_type": "markdown",
   "id": "d06ebb93-373a-476c-9dd8-1137bc55357a",
   "metadata": {},
   "source": [
    "# 상관관계 t-검증"
   ]
  },
  {
   "cell_type": "markdown",
   "id": "624548b4-ca1c-4840-b55b-90932435792f",
   "metadata": {},
   "source": [
    "## Example 5.5"
   ]
  },
  {
   "cell_type": "code",
   "execution_count": 56,
   "id": "fed8436e-99fb-4f14-a547-9f7de36570ca",
   "metadata": {},
   "outputs": [],
   "source": [
    "r = -0.636"
   ]
  },
  {
   "cell_type": "code",
   "execution_count": null,
   "id": "ae46b3c5-4e49-4ebb-8ff3-a73c7414e5f9",
   "metadata": {},
   "outputs": [],
   "source": []
  }
 ],
 "metadata": {
  "kernelspec": {
   "display_name": "R",
   "language": "R",
   "name": "ir"
  },
  "language_info": {
   "codemirror_mode": "r",
   "file_extension": ".r",
   "mimetype": "text/x-r-source",
   "name": "R",
   "pygments_lexer": "r",
   "version": "4.0.5"
  }
 },
 "nbformat": 4,
 "nbformat_minor": 5
}
