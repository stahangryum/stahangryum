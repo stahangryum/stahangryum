{
 "cells": [
  {
   "cell_type": "code",
   "execution_count": null,
   "id": "bcf1407a-9513-4b1c-8f5f-692f1f9fa140",
   "metadata": {},
   "outputs": [],
   "source": [
    "# \"R : Random Sampling and Integration\"\n",
    "> \"전북대학교 R입문 11주차 필기\"\n",
    "\n",
    "- toc: true\n",
    "- branch: master\n",
    "- badges: true\n",
    "- comments: true\n",
    "- author: Kim Jeewoo\n",
    "- categories: [Introduction to R]\n",
    "- image: images/20211119main.jpg"
   ]
  }
 ],
 "metadata": {
  "kernelspec": {
   "display_name": "R",
   "language": "R",
   "name": "ir"
  },
  "language_info": {
   "codemirror_mode": "r",
   "file_extension": ".r",
   "mimetype": "text/x-r-source",
   "name": "R",
   "pygments_lexer": "r",
   "version": "4.0.5"
  }
 },
 "nbformat": 4,
 "nbformat_minor": 5
}
