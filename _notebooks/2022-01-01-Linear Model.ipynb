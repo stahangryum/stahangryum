{
 "cells": [
  {
   "cell_type": "markdown",
   "id": "c1f17e18-a8d7-44d5-918b-25373cec7ec9",
   "metadata": {},
   "source": [
    "# \"Linear Model with Pytorch\"\n",
    "\n",
    "- toc: true\n",
    "- branch: master\n",
    "- badges: true\n",
    "- comments: true\n",
    "- author: Kim Jeewoo\n",
    "- categories: [Python, BDA]\n",
    "- image: images/gradient_descent.gif"
   ]
  },
  {
   "cell_type": "markdown",
   "id": "a256362d-3d4b-4ed6-aeb6-eaeb08a2938c",
   "metadata": {},
   "source": [
    "# Packages"
   ]
  },
  {
   "cell_type": "code",
   "execution_count": 2,
   "id": "f33bff3f-85d3-4e91-a370-89cd555b594c",
   "metadata": {},
   "outputs": [],
   "source": [
    "import torch\n",
    "import numpy as np\n",
    "import matplotlib.pyplot as plt"
   ]
  },
  {
   "cell_type": "markdown",
   "id": "2d3ab57f-6568-48b8-b26d-8336f2b8c1fc",
   "metadata": {},
   "source": [
    "# Data"
   ]
  },
  {
   "cell_type": "markdown",
   "id": "ac5d2fad-ed39-43a3-a1f8-fa3ea8a24be0",
   "metadata": {},
   "source": [
    "`-` model : $y_i = \\beta_0 + \\beta_1 x_i + \\epsilon_i \\to w_0 + w_1 x_i + \\epsilon_i$"
   ]
  },
  {
   "cell_type": "markdown",
   "id": "1885c606-307d-4d1e-9543-2c99ef38ed6a",
   "metadata": {},
   "source": [
    "`-` model : ${\\bf y} = {\\bf X}{\\bf W} + \\boldsymbol{\\epsilon}$"
   ]
  },
  {
   "cell_type": "markdown",
   "id": "f3673eb3-6bc3-4e93-8417-b33135f9c845",
   "metadata": {},
   "source": [
    "`-` ${\\bf y}=\\begin{bmatrix} y_1 \\\\ y_2 \\\\ \\dots \\\\ y_n\\end{bmatrix}, \\quad {\\bf X}=\\begin{bmatrix} 1 & x_1 \\\\ 1 & x_2 \\\\ \\dots \\\\ 1 & x_n\\end{bmatrix}, \\quad {\\bf W}=\\begin{bmatrix} 2.5 \\\\ 4 \\end{bmatrix}, \\quad \\boldsymbol{\\epsilon}= \\begin{bmatrix} \\epsilon_1 \\\\ \\epsilon_2 \\\\ \\dots \\\\ \\epsilon_n\\end{bmatrix}$"
   ]
  },
  {
   "cell_type": "code",
   "execution_count": 38,
   "id": "eae44d60-4efc-4adb-8ab2-06a8a1423072",
   "metadata": {},
   "outputs": [],
   "source": [
    "n = 100\n",
    "ones = torch.ones(n)\n",
    "x,_ = torch.randn(n).sort()\n",
    "\n",
    "X = torch.vstack([ones, x]).T\n",
    "W = torch.tensor([2.5, 4])\n",
    "ϵ = torch.randn(n) * 0.5\n",
    "\n",
    "y = X@W + ϵ\n",
    "ytrue = X@W"
   ]
  },
  {
   "cell_type": "code",
   "execution_count": 34,
   "id": "95f9a782-211f-4a41-aa61-32ef685d696a",
   "metadata": {},
   "outputs": [
    {
     "data": {
      "text/plain": [
       "tensor([-7.9254, -7.2846, -6.6988, -5.3959, -4.9642, -4.7078, -4.0894, -2.9930,\n",
       "        -2.3942, -1.7454, -3.4303, -2.3827, -2.3087, -2.4119, -2.1397, -1.2018,\n",
       "        -1.0087, -1.2137, -0.9966, -1.4436, -1.0670, -0.4035, -0.7238, -0.4093,\n",
       "        -0.4892, -0.5167, -0.6416, -0.3774,  0.1593, -0.2544,  0.2295,  0.1423,\n",
       "         0.2736,  1.0596,  1.2832,  0.6843,  0.6133,  1.2394,  1.2755,  0.2394,\n",
       "         0.7692,  1.3112,  1.5886,  1.3820,  2.0761,  1.3800,  1.8351,  1.7022,\n",
       "         2.5458,  1.7944,  1.2655,  1.8077,  2.2059,  2.9316,  2.5784,  2.9715,\n",
       "         2.5274,  2.0825,  2.1534,  2.6146,  3.2631,  1.7419,  2.2964,  2.7733,\n",
       "         4.5586,  2.4951,  3.8458,  3.8980,  3.2497,  3.9855,  2.8741,  3.2463,\n",
       "         3.5336,  4.2413,  4.6400,  4.8920,  4.8734,  6.0103,  4.9590,  6.0903,\n",
       "         5.2965,  5.2345,  5.4932,  5.9743,  6.4441,  6.3307,  6.7264,  7.5554,\n",
       "         7.0148,  7.6583,  7.1105,  7.8448,  8.7719,  9.3451,  8.4065,  9.9763,\n",
       "         9.3290, 10.4825, 10.8686, 14.0962])"
      ]
     },
     "execution_count": 34,
     "metadata": {},
     "output_type": "execute_result"
    }
   ],
   "source": [
    "y"
   ]
  },
  {
   "cell_type": "code",
   "execution_count": 49,
   "id": "166ba52e-7ead-4797-8f07-7c6b6187d9d9",
   "metadata": {},
   "outputs": [
    {
     "data": {
      "text/plain": [
       "[<matplotlib.lines.Line2D at 0x2333ec6a8e0>]"
      ]
     },
     "execution_count": 49,
     "metadata": {},
     "output_type": "execute_result"
    },
    {
     "name": "stderr",
     "output_type": "stream",
     "text": [
      "C:\\Users\\user\\anaconda3\\envs\\py39r40\\lib\\site-packages\\matplotlib\\backends\\backend_agg.py:240: RuntimeWarning: Glyph 8722 missing from current font.\n",
      "  font.set_text(s, 0.0, flags=flags)\n",
      "C:\\Users\\user\\anaconda3\\envs\\py39r40\\lib\\site-packages\\matplotlib\\backends\\backend_agg.py:203: RuntimeWarning: Glyph 8722 missing from current font.\n",
      "  font.set_text(s, 0, flags=flags)\n"
     ]
    },
    {
     "data": {
      "image/png": "[encoded data removed]",
      "text/plain": [
       "<Figure size 432x288 with 1 Axes>"
      ]
     },
     "metadata": {
      "needs_background": "light"
     },
     "output_type": "display_data"
    }
   ],
   "source": [
    "plt.plot(x, y, 'o')\n",
    "plt.plot(x, ytrue, '--', color = \"red\")"
   ]
  },
  {
   "cell_type": "markdown",
   "id": "534fe1f9-57c3-4dee-ad4a-697ceca8b4d8",
   "metadata": {},
   "source": [
    "# Learning"
   ]
  },
  {
   "cell_type": "markdown",
   "id": "6c9506e7-9cd1-499d-a2c2-01b27974c8af",
   "metadata": {},
   "source": [
    "학습이란 ` Given data ` 를 이용하여 ` Parameter ` 를 추론하는 것이다.\n",
    "\n",
    "위 그래프에서는 파란색 점으로 으로 빨간색 선 추론하는 것이 학습이다."
   ]
  },
  {
   "cell_type": "markdown",
   "id": "d1466be1-31d0-4b79-92d6-95787185aaa9",
   "metadata": {},
   "source": [
    "- Given data : $\\big\\{(x_i,y_i) \\big\\}_{i=1}^{n}$\n",
    "\n",
    "- Parameter: ${\\bf W}=\\begin{bmatrix} w_0 \\\\ w_1 \\end{bmatrix}$\n",
    "\n",
    "- Estimated parameter: ${\\bf \\hat{W}}=\\begin{bmatrix} \\hat{w}_0 \\\\ \\hat{w}_1 \\end{bmatrix}$"
   ]
  },
  {
   "cell_type": "markdown",
   "id": "ebc64fbb-c724-470d-8ac0-0dc6b2fd8a82",
   "metadata": {},
   "source": [
    "우선 임의로 $(\\hat{w}_0, \\hat{w}_1) = (-5, 10)$, 즉 $\\hat{y}_i = -5 + 10x_i$ 을 선택하여 선을 그려보고 적절한지 판단해보자."
   ]
  },
  {
   "cell_type": "code",
   "execution_count": 50,
   "id": "b429d064-9d95-4a23-99f5-f4b39745e0f6",
   "metadata": {},
   "outputs": [
    {
     "data": {
      "text/plain": [
       "[<matplotlib.lines.Line2D at 0x2333ecd4b50>]"
      ]
     },
     "execution_count": 50,
     "metadata": {},
     "output_type": "execute_result"
    },
    {
     "name": "stderr",
     "output_type": "stream",
     "text": [
      "C:\\Users\\user\\anaconda3\\envs\\py39r40\\lib\\site-packages\\matplotlib\\backends\\backend_agg.py:240: RuntimeWarning: Glyph 8722 missing from current font.\n",
      "  font.set_text(s, 0.0, flags=flags)\n",
      "C:\\Users\\user\\anaconda3\\envs\\py39r40\\lib\\site-packages\\matplotlib\\backends\\backend_agg.py:203: RuntimeWarning: Glyph 8722 missing from current font.\n",
      "  font.set_text(s, 0, flags=flags)\n"
     ]
    },
    {
     "data": {
      "image/png": "[encoded data removed]",
      "text/plain": [
       "<Figure size 432x288 with 1 Axes>"
      ]
     },
     "metadata": {
      "needs_background": "light"
     },
     "output_type": "display_data"
    }
   ],
   "source": [
    "plt.plot(x, y, 'o')\n",
    "plt.plot(x, -5+10*x, '--')"
   ]
  },
  {
   "cell_type": "markdown",
   "id": "1e1515fc-0941-42d3-a2c3-e2e17c9c26c2",
   "metadata": {},
   "source": [
    "임의로 값을 선택하였으므로 당연히 적절하지 않다.\n",
    "\n",
    "`경사하강법`을 사용하여 Parameter를 학습하여 적절한 회귀선을 구할 수 있다."
   ]
  },
  {
   "cell_type": "markdown",
   "id": "63eb665c-1771-4b0a-b9ee-369dad8e4774",
   "metadata": {},
   "source": [
    "# Update Parameter"
   ]
  },
  {
   "cell_type": "markdown",
   "id": "881bde63-e3ce-4fbd-90bd-a13960462717",
   "metadata": {},
   "source": [
    "`1` Initial value : 임의의 선을 그린다."
   ]
  },
  {
   "cell_type": "code",
   "execution_count": 53,
   "id": "852561c2-149b-4622-a4d4-a029c6074f0c",
   "metadata": {},
   "outputs": [],
   "source": [
    "What = torch.tensor([-5.0, 10.0], requires_grad=True) "
   ]
  },
  {
   "cell_type": "code",
   "execution_count": 52,
   "id": "522702ba-9853-42f5-a949-fc7607684c78",
   "metadata": {},
   "outputs": [
    {
     "data": {
      "text/plain": [
       "tensor([-5., 10.], requires_grad=True)"
      ]
     },
     "execution_count": 52,
     "metadata": {},
     "output_type": "execute_result"
    }
   ],
   "source": [
    "What"
   ]
  },
  {
   "cell_type": "markdown",
   "id": "4a34c8d9-d561-4e56-a750-f705dece8305",
   "metadata": {},
   "source": [
    "requires_grad=True는 추후 미분을 위한 옵션이다."
   ]
  },
  {
   "cell_type": "code",
   "execution_count": null,
   "id": "7b9e05cf-e7e8-42ea-a3e3-babd09a4466c",
   "metadata": {},
   "outputs": [],
   "source": []
  }
 ],
 "metadata": {
  "kernelspec": {
   "display_name": "Python 3 (ipykernel)",
   "language": "python",
   "name": "python3"
  },
  "language_info": {
   "codemirror_mode": {
    "name": "ipython",
    "version": 3
   },
   "file_extension": ".py",
   "mimetype": "text/x-python",
   "name": "python",
   "nbconvert_exporter": "python",
   "pygments_lexer": "ipython3",
   "version": "3.9.7"
  }
 },
 "nbformat": 4,
 "nbformat_minor": 5
}
