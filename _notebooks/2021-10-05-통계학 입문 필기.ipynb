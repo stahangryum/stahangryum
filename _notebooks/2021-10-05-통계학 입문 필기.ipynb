{
 "cells": [
  {
   "cell_type": "markdown",
   "id": "8cd6c369-60d9-441e-b989-c2c01bd24474",
   "metadata": {},
   "source": [
    "# 통"
   ]
  }
 ],
 "metadata": {
  "kernelspec": {
   "display_name": "R",
   "language": "R",
   "name": "ir"
  },
  "language_info": {
   "codemirror_mode": "r",
   "file_extension": ".r",
   "mimetype": "text/x-r-source",
   "name": "R",
   "pygments_lexer": "r",
   "version": "4.0.5"
  }
 },
 "nbformat": 4,
 "nbformat_minor": 5
}
