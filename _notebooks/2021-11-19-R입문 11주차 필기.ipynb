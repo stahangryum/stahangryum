{
 "cells": [
  {
   "cell_type": "code",
   "execution_count": 1,
   "id": "910985da-4f7d-4e65-a530-204c362bbafc",
   "metadata": {},
   "outputs": [],
   "source": [
    "#hide\n",
    "options(jupyter.plot_scale = 3)\n",
    "options(jupyter.display_mimetypes = c(\"text/html\"))\n",
    "options(jupyter.rich_display=FALSE)\n",
    "options(repr.plot.width=6, repr.plot.height=6, repr.plot.res=300)\n",
    "options(max.print=1000)"
   ]
  },
  {
   "cell_type": "markdown",
   "id": "6dc7a429-394a-4af1-b682-6128a2cfd0ca",
   "metadata": {},
   "source": [
    "# \"R : Random Sampling and Integration\"\n",
    "> \"전북대학교 R입문 11주차 필기\"\n",
    "\n",
    "- toc: true\n",
    "- branch: master\n",
    "- badges: true\n",
    "- comments: true\n",
    "- author: Kim Jeewoo\n",
    "- categories: [Introduction to R]\n",
    "- image: images/20211119main.jpg"
   ]
  },
  {
   "cell_type": "code",
   "execution_count": 1,
   "id": "3f7e3844-2f3b-4378-a1ad-d35e8ba4d00d",
   "metadata": {},
   "outputs": [
    {
     "name": "stderr",
     "output_type": "stream",
     "text": [
      "-- \u001b[1mAttaching packages\u001b[22m ------------------------------------------------------------------------------- tidyverse 1.3.1 --\n",
      "\n",
      "\u001b[32mv\u001b[39m \u001b[34mggplot2\u001b[39m 3.3.5     \u001b[32mv\u001b[39m \u001b[34mpurrr  \u001b[39m 0.3.4\n",
      "\u001b[32mv\u001b[39m \u001b[34mtibble \u001b[39m 3.1.5     \u001b[32mv\u001b[39m \u001b[34mdplyr  \u001b[39m 1.0.7\n",
      "\u001b[32mv\u001b[39m \u001b[34mtidyr  \u001b[39m 1.1.4     \u001b[32mv\u001b[39m \u001b[34mstringr\u001b[39m 1.4.0\n",
      "\u001b[32mv\u001b[39m \u001b[34mreadr  \u001b[39m 2.0.2     \u001b[32mv\u001b[39m \u001b[34mforcats\u001b[39m 0.5.1\n",
      "\n",
      "-- \u001b[1mConflicts\u001b[22m ---------------------------------------------------------------------------------- tidyverse_conflicts() --\n",
      "\u001b[31mx\u001b[39m \u001b[34mdplyr\u001b[39m::\u001b[32mfilter()\u001b[39m masks \u001b[34mstats\u001b[39m::filter()\n",
      "\u001b[31mx\u001b[39m \u001b[34mdplyr\u001b[39m::\u001b[32mlag()\u001b[39m    masks \u001b[34mstats\u001b[39m::lag()\n",
      "\n"
     ]
    }
   ],
   "source": [
    "library(tidyverse)"
   ]
  },
  {
   "cell_type": "markdown",
   "id": "e5340c86-58c0-49b1-988e-c1d49738391c",
   "metadata": {},
   "source": [
    "# 랜덤변수의 생성"
   ]
  },
  {
   "cell_type": "markdown",
   "id": "1142d1bb-34b7-4978-94d4-376a4972c2e6",
   "metadata": {},
   "source": [
    "## runif(N): 균등분포"
   ]
  },
  {
   "cell_type": "markdown",
   "id": "17e883ea-dd31-4792-bf93-5dbfd05ba3c3",
   "metadata": {},
   "source": [
    "- `runif(N)`을 실행하면 0 ~ 1 사이의 난수를 N개 리턴한다.\n",
    "\n",
    "- `runif(n = N, min = a, max = b)`을 실행하면 a ~ b 사이의 난수를 N개 리턴한다."
   ]
  },
  {
   "cell_type": "code",
   "execution_count": 2,
   "id": "523deac9-255f-41a9-aea1-c873dc770eb3",
   "metadata": {},
   "outputs": [
    {
     "data": {
      "text/html": [
       "<style>\n",
       ".list-inline {list-style: none; margin:0; padding: 0}\n",
       ".list-inline>li {display: inline-block}\n",
       ".list-inline>li:not(:last-child)::after {content: \"\\00b7\"; padding: 0 .5ex}\n",
       "</style>\n",
       "<ol class=list-inline><li>0.113343952456489</li><li>0.958494298160076</li><li>0.333700813120231</li><li>0.296662832610309</li><li>0.0340885552577674</li></ol>\n"
      ],
      "text/latex": [
       "\\begin{enumerate*}\n",
       "\\item 0.113343952456489\n",
       "\\item 0.958494298160076\n",
       "\\item 0.333700813120231\n",
       "\\item 0.296662832610309\n",
       "\\item 0.0340885552577674\n",
       "\\end{enumerate*}\n"
      ],
      "text/markdown": [
       "1. 0.113343952456489\n",
       "2. 0.958494298160076\n",
       "3. 0.333700813120231\n",
       "4. 0.296662832610309\n",
       "5. 0.0340885552577674\n",
       "\n",
       "\n"
      ],
      "text/plain": [
       "[1] 0.11334395 0.95849430 0.33370081 0.29666283 0.03408856"
      ]
     },
     "metadata": {},
     "output_type": "display_data"
    }
   ],
   "source": [
    "runif(5)"
   ]
  },
  {
   "cell_type": "code",
   "execution_count": 3,
   "id": "f426a231-139c-4935-ae0d-01c32b5f953b",
   "metadata": {},
   "outputs": [
    {
     "data": {
      "text/html": [
       "<style>\n",
       ".list-inline {list-style: none; margin:0; padding: 0}\n",
       ".list-inline>li {display: inline-block}\n",
       ".list-inline>li:not(:last-child)::after {content: \"\\00b7\"; padding: 0 .5ex}\n",
       "</style>\n",
       "<ol class=list-inline><li>3.20300217764452</li><li>4.31503517366946</li><li>3.09817771287635</li><li>4.0317866820842</li><li>4.81291742436588</li></ol>\n"
      ],
      "text/latex": [
       "\\begin{enumerate*}\n",
       "\\item 3.20300217764452\n",
       "\\item 4.31503517366946\n",
       "\\item 3.09817771287635\n",
       "\\item 4.0317866820842\n",
       "\\item 4.81291742436588\n",
       "\\end{enumerate*}\n"
      ],
      "text/markdown": [
       "1. 3.20300217764452\n",
       "2. 4.31503517366946\n",
       "3. 3.09817771287635\n",
       "4. 4.0317866820842\n",
       "5. 4.81291742436588\n",
       "\n",
       "\n"
      ],
      "text/plain": [
       "[1] 3.203002 4.315035 3.098178 4.031787 4.812917"
      ]
     },
     "metadata": {},
     "output_type": "display_data"
    }
   ],
   "source": [
    "runif(n = 5, min = 3, max = 5)"
   ]
  },
  {
   "cell_type": "markdown",
   "id": "12254566-6a69-463c-bef0-de91edc57cb3",
   "metadata": {},
   "source": [
    "### Application"
   ]
  },
  {
   "cell_type": "code",
   "execution_count": 4,
   "id": "729f09c5-f92c-48a1-9a85-2974027ca4df",
   "metadata": {},
   "outputs": [
    {
     "data": {
      "text/html": [
       "<style>\n",
       ".list-inline {list-style: none; margin:0; padding: 0}\n",
       ".list-inline>li {display: inline-block}\n",
       ".list-inline>li:not(:last-child)::after {content: \"\\00b7\"; padding: 0 .5ex}\n",
       "</style>\n",
       "<ol class=list-inline><li>0.448645848315209</li><li>1.02495100675151</li><li>0.26648238953203</li><li>0.401437606196851</li><li>0.0193486330099404</li></ol>\n"
      ],
      "text/latex": [
       "\\begin{enumerate*}\n",
       "\\item 0.448645848315209\n",
       "\\item 1.02495100675151\n",
       "\\item 0.26648238953203\n",
       "\\item 0.401437606196851\n",
       "\\item 0.0193486330099404\n",
       "\\end{enumerate*}\n"
      ],
      "text/markdown": [
       "1. 0.448645848315209\n",
       "2. 1.02495100675151\n",
       "3. 0.26648238953203\n",
       "4. 0.401437606196851\n",
       "5. 0.0193486330099404\n",
       "\n",
       "\n"
      ],
      "text/plain": [
       "[1] 0.44864585 1.02495101 0.26648239 0.40143761 0.01934863"
      ]
     },
     "metadata": {},
     "output_type": "display_data"
    }
   ],
   "source": [
    "runif(5)*2 # 0 ~ 2 사이의 난수를 리턴"
   ]
  },
  {
   "cell_type": "code",
   "execution_count": 5,
   "id": "d648e4db-5492-4f53-bc38-93c455891ff0",
   "metadata": {},
   "outputs": [
    {
     "data": {
      "text/html": [
       "<style>\n",
       ".list-inline {list-style: none; margin:0; padding: 0}\n",
       ".list-inline>li {display: inline-block}\n",
       ".list-inline>li:not(:last-child)::after {content: \"\\00b7\"; padding: 0 .5ex}\n",
       "</style>\n",
       "<ol class=list-inline><li>5.14778439537622</li><li>4.72293969267048</li><li>5.91136680007912</li><li>6.92601511161774</li><li>4.97068434930407</li></ol>\n"
      ],
      "text/latex": [
       "\\begin{enumerate*}\n",
       "\\item 5.14778439537622\n",
       "\\item 4.72293969267048\n",
       "\\item 5.91136680007912\n",
       "\\item 6.92601511161774\n",
       "\\item 4.97068434930407\n",
       "\\end{enumerate*}\n"
      ],
      "text/markdown": [
       "1. 5.14778439537622\n",
       "2. 4.72293969267048\n",
       "3. 5.91136680007912\n",
       "4. 6.92601511161774\n",
       "5. 4.97068434930407\n",
       "\n",
       "\n"
      ],
      "text/plain": [
       "[1] 5.147784 4.722940 5.911367 6.926015 4.970684"
      ]
     },
     "metadata": {},
     "output_type": "display_data"
    }
   ],
   "source": [
    "(runif(5)*3)+4 # 4 ~ 7 사이의 난수를 리턴"
   ]
  },
  {
   "cell_type": "markdown",
   "id": "3d2ed575-e2a5-4911-b3bc-6ae1b4f7d492",
   "metadata": {
    "tags": []
   },
   "source": [
    "### Problem"
   ]
  },
  {
   "cell_type": "markdown",
   "id": "47449fc3-062c-423e-b2a4-55a7b09d3acb",
   "metadata": {},
   "source": [
    "$$\\text{Find}\\int_0^2 |x^2(x-1)|dx$$"
   ]
  },
  {
   "cell_type": "markdown",
   "id": "008b4aad-86cf-4407-9669-c16ad1be84f0",
   "metadata": {},
   "source": [
    "#### Solution I"
   ]
  },
  {
   "cell_type": "markdown",
   "id": "948d78d7-6552-4c0e-9f54-2fc8848fa55f",
   "metadata": {},
   "source": [
    "$$ \\begin{aligned}\n",
    "\\int_0^2 |x^2(x-1)|dx &= \\int_0^1 |x^2(x-1)|dx + \\int_1^2 |x^2(x-1)|dx\\\\\\\\\\\\&=-\\int_0^1 x^2(x-1)dx + \\int_1^2 x^2(x-1)dx\\\\\\\\\\\\&=-\\int_0^1 (x^3-x^2)dx + \\int_1^2 (x^3-x^2)dx\\\\\\\\\\\\&= -\\left[\\dfrac{1}{4}x^4 - \\dfrac{1}{3}x^3\\right]_0^1 + \\left[\\dfrac{1}{4}x^4 - \\dfrac{1}{3}x^3\\right]_1^2\\\\\\\\\\\\&= -\\left(\\dfrac{1}{4}-\\dfrac{1}{3}\\right) + \\left(\\dfrac{16}{4}-\\dfrac{8}{3}\\right)-\\left(\\dfrac{1}{4}-\\dfrac{1}{3}\\right)\\\\\\\\\\\\&=\\dfrac{3}{2}\n",
    "\\end{aligned}$$"
   ]
  },
  {
   "cell_type": "markdown",
   "id": "40cfca67-5d68-4e15-aef3-a57a4db6d593",
   "metadata": {},
   "source": [
    "#### Solution II"
   ]
  },
  {
   "cell_type": "code",
   "execution_count": 6,
   "id": "30c7a11c-0de9-4e03-9525-6bd7000a619a",
   "metadata": {},
   "outputs": [
    {
     "data": {
      "image/png": "[encoded data removed]",
      "text/plain": [
       "plot without title"
      ]
     },
     "metadata": {
      "image/png": {
       "height": 420,
       "width": 420
      }
     },
     "output_type": "display_data"
    }
   ],
   "source": [
    "f = function(x) abs(x**2 *(x-1))\n",
    "\n",
    "x = seq(0,2, by=0.001)\n",
    "\n",
    "plot(x, f(x), type = 'l')"
   ]
  },
  {
   "cell_type": "code",
   "execution_count": 7,
   "id": "0a2844f4-b067-41af-af89-788182954ee3",
   "metadata": {},
   "outputs": [
    {
     "data": {
      "image/png": "[encoded data removed]",
      "text/plain": [
       "plot without title"
      ]
     },
     "metadata": {
      "image/png": {
       "height": 420,
       "width": 420
      }
     },
     "output_type": "display_data"
    }
   ],
   "source": [
    "xx = runif(10000) * 2\n",
    "yy = runif(10000) * 4\n",
    "\n",
    "plot(xx, yy, col = 'gray')\n",
    "lines(x, f(x), col = 'red')"
   ]
  },
  {
   "cell_type": "markdown",
   "id": "a218484a-bda1-4025-94d0-7b65f9e44733",
   "metadata": {},
   "source": [
    "- 빨간색 그래프 아래에 있는 넓이가 적분값이다. "
   ]
  },
  {
   "cell_type": "code",
   "execution_count": 8,
   "id": "0f1913b6-8a06-4ba7-9d65-4fb9f06b1b61",
   "metadata": {},
   "outputs": [],
   "source": [
    "test = function(xx, yy){\n",
    "    yy < f(xx)\n",
    "}"
   ]
  },
  {
   "cell_type": "code",
   "execution_count": 9,
   "id": "6fc5d525-6b52-4166-a79a-4f0ed8dacd56",
   "metadata": {},
   "outputs": [],
   "source": [
    "A = test(xx, yy) "
   ]
  },
  {
   "cell_type": "code",
   "execution_count": 10,
   "id": "65ab4582-732c-4047-a409-e419a601c30a",
   "metadata": {},
   "outputs": [
    {
     "data": {
      "image/png": "[encoded data removed]",
      "text/plain": [
       "plot without title"
      ]
     },
     "metadata": {
      "image/png": {
       "height": 420,
       "width": 420
      }
     },
     "output_type": "display_data"
    }
   ],
   "source": [
    "plot(xx, yy, col = \"gray\")\n",
    "lines(x, f(x), col = \"red\")\n",
    "points(xx[A], yy[A], col= \"red\")"
   ]
  },
  {
   "cell_type": "markdown",
   "id": "f65f4eed-8de7-4c07-acbe-2c23def0e32d",
   "metadata": {},
   "source": [
    "$ \\text{적분값} = \\text{사각형의 크기}\\times\\dfrac{\\text{빨간색 점의 개수}}{\\text{전체 점의 개수}}$"
   ]
  },
  {
   "cell_type": "code",
   "execution_count": 11,
   "id": "d32e45b5-0071-4ee9-b0a0-5e63836dde54",
   "metadata": {},
   "outputs": [
    {
     "data": {
      "text/html": [
       "1.5368"
      ],
      "text/latex": [
       "1.5368"
      ],
      "text/markdown": [
       "1.5368"
      ],
      "text/plain": [
       "[1] 1.5368"
      ]
     },
     "metadata": {},
     "output_type": "display_data"
    }
   ],
   "source": [
    "8 * (sum(A)/length(A))"
   ]
  },
  {
   "cell_type": "markdown",
   "id": "2dbb105e-01ab-45b3-a665-f6e892900030",
   "metadata": {},
   "source": [
    "- `Solution I`에서 구한 값과 유사하다.\n",
    "- 표본을 늘리면 오차가 줄어들 것 같다."
   ]
  },
  {
   "cell_type": "code",
   "execution_count": 12,
   "id": "76c8bace-0d94-40e6-b02a-3762a9cda9cb",
   "metadata": {},
   "outputs": [
    {
     "data": {
      "image/png": "[encoded data removed]",
      "text/plain": [
       "plot without title"
      ]
     },
     "metadata": {
      "image/png": {
       "height": 420,
       "width": 420
      }
     },
     "output_type": "display_data"
    }
   ],
   "source": [
    "xx = runif(1000000) * 2\n",
    "yy = runif(1000000) * 4\n",
    "A = test(xx, yy)\n",
    "\n",
    "plot(xx, yy, col = \"gray\")\n",
    "lines(x, f(x), col = \"red\")\n",
    "points(xx[A], yy[A], col= \"red\")"
   ]
  },
  {
   "cell_type": "code",
   "execution_count": 13,
   "id": "625fad37-32b0-4aaa-8530-90d49333306e",
   "metadata": {},
   "outputs": [
    {
     "data": {
      "text/html": [
       "1.496296"
      ],
      "text/latex": [
       "1.496296"
      ],
      "text/markdown": [
       "1.496296"
      ],
      "text/plain": [
       "[1] 1.496296"
      ]
     },
     "metadata": {},
     "output_type": "display_data"
    }
   ],
   "source": [
    "8 * (sum(A)/length(A))"
   ]
  },
  {
   "cell_type": "markdown",
   "id": "69100de0-37ef-4590-ab39-f3f8f0efa5ff",
   "metadata": {},
   "source": [
    "- 답은 1.5이다."
   ]
  },
  {
   "cell_type": "markdown",
   "id": "30b2a40e-d643-459c-b34b-1315a7283aea",
   "metadata": {},
   "source": [
    "## rbinom(n, size = a, prob = b): 이항분포"
   ]
  },
  {
   "cell_type": "markdown",
   "id": "ae87ac5d-14b4-4002-b363-2d8fa3d9fe55",
   "metadata": {},
   "source": [
    "- `rbinom(N, size = a, prob = b)`"
   ]
  },
  {
   "cell_type": "markdown",
   "id": "813ce472-b225-4158-a5fd-a7884ff43fa7",
   "metadata": {},
   "source": [
    "- 앞면이 나올 확률이 **b**인 동전을 **a**번 던졌을 때 앞면이 나온 횟수를 리턴한다. 위 시행을 **n**번 반복한다."
   ]
  },
  {
   "cell_type": "markdown",
   "id": "d485bb97-d418-4d76-ab5d-5195081f5814",
   "metadata": {},
   "source": [
    "- **b=0.5**이면 베르누이 분포이다.(베르누이 분포는 이항분포의 특수한 경우이다.)"
   ]
  },
  {
   "cell_type": "code",
   "execution_count": 14,
   "id": "0e4fd39e-8fd8-45fd-9a4b-5fdd076d317f",
   "metadata": {},
   "outputs": [
    {
     "data": {
      "text/html": [
       "9"
      ],
      "text/latex": [
       "9"
      ],
      "text/markdown": [
       "9"
      ],
      "text/plain": [
       "[1] 9"
      ]
     },
     "metadata": {},
     "output_type": "display_data"
    }
   ],
   "source": [
    "rbinom(1,size=10,prob=0.9)"
   ]
  },
  {
   "cell_type": "markdown",
   "id": "1ec9ab04-d9a7-42f3-8135-c76509a41ccf",
   "metadata": {},
   "source": [
    "- 위 코드는 앞면이 나올 확률이 0.9인 동전을 10번 던졌더니 8번 앞면이 나온 것이다."
   ]
  },
  {
   "cell_type": "code",
   "execution_count": 15,
   "id": "8e675ed1-591e-4373-bbf7-3a80421e741a",
   "metadata": {},
   "outputs": [
    {
     "data": {
      "text/html": [
       "7"
      ],
      "text/latex": [
       "7"
      ],
      "text/markdown": [
       "7"
      ],
      "text/plain": [
       "[1] 7"
      ]
     },
     "metadata": {},
     "output_type": "display_data"
    }
   ],
   "source": [
    "rbinom(1,size=10,prob=0.9)"
   ]
  },
  {
   "cell_type": "markdown",
   "id": "7b90f850-975d-48b9-87f2-978da6ef749c",
   "metadata": {},
   "source": [
    "- 위 코드는 앞면이 나올 확률이 0.9인 동전을 10번 던졌더니 7번 앞면이 나온 것이다. "
   ]
  },
  {
   "cell_type": "markdown",
   "id": "30737650-672c-49e9-b330-13f053627be4",
   "metadata": {},
   "source": [
    "- 이러한 시행을 계속해서 반복하면, 즉 **N**의 크기를 늘린다면 그 평균은 9에 수렴하지 않겠는가? 실제로 그렇다."
   ]
  },
  {
   "cell_type": "code",
   "execution_count": 16,
   "id": "1fb439a9-cd9b-441a-9298-4553d3e7dc1d",
   "metadata": {},
   "outputs": [
    {
     "data": {
      "text/html": [
       "9.0035"
      ],
      "text/latex": [
       "9.0035"
      ],
      "text/markdown": [
       "9.0035"
      ],
      "text/plain": [
       "[1] 9.0035"
      ]
     },
     "metadata": {},
     "output_type": "display_data"
    }
   ],
   "source": [
    "rbinom(10000, size=10, prob=0.9) %>% mean"
   ]
  },
  {
   "cell_type": "markdown",
   "id": "cf16225a-bdd5-4190-bff4-839583a89ba8",
   "metadata": {},
   "source": [
    "## sample(a, size = n, prob = p, replace = TRUE or FALSE): 집합에서의 샘플링"
   ]
  },
  {
   "cell_type": "markdown",
   "id": "4675bb00-4f63-414a-8836-d5a707ab0e7d",
   "metadata": {},
   "source": [
    "- `sample(a, size = n)`를 실행하면 집합 **a**에서 **n**개의 원소를 비복원추출한다."
   ]
  },
  {
   "cell_type": "markdown",
   "id": "b2f78923-4e73-46c4-a310-b341b1839e61",
   "metadata": {},
   "source": [
    "- `sample(a, size = n, replace = TRUE)`를 실행하면 집합 **a**에서 **n**개의 원소를 복원추출한다."
   ]
  },
  {
   "cell_type": "markdown",
   "id": "62c484e6-cf19-4ebb-869d-10cecced8b36",
   "metadata": {},
   "source": [
    "- `sample(a, size = n, prob = c(p_1, p_2 ....p_k))`을 실행하면 원소의 개수가 **k**인 집합 **a**에서 **n**개의 원소를 뽑되, 각 원소가 뽑힐 확률을 제어할 수 있다. 이 때 확률 벡터는 **a의 인덱스 순**으로 입력해야 한다."
   ]
  },
  {
   "cell_type": "code",
   "execution_count": 17,
   "id": "ae079fa3-9827-4b74-b505-f617f4095c37",
   "metadata": {},
   "outputs": [
    {
     "data": {
      "text/html": [
       "<style>\n",
       ".list-inline {list-style: none; margin:0; padding: 0}\n",
       ".list-inline>li {display: inline-block}\n",
       ".list-inline>li:not(:last-child)::after {content: \"\\00b7\"; padding: 0 .5ex}\n",
       "</style>\n",
       "<ol class=list-inline><li>'blue'</li><li>'blue'</li><li>'red'</li><li>'red'</li></ol>\n"
      ],
      "text/latex": [
       "\\begin{enumerate*}\n",
       "\\item 'blue'\n",
       "\\item 'blue'\n",
       "\\item 'red'\n",
       "\\item 'red'\n",
       "\\end{enumerate*}\n"
      ],
      "text/markdown": [
       "1. 'blue'\n",
       "2. 'blue'\n",
       "3. 'red'\n",
       "4. 'red'\n",
       "\n",
       "\n"
      ],
      "text/plain": [
       "[1] \"blue\" \"blue\" \"red\"  \"red\" "
      ]
     },
     "metadata": {},
     "output_type": "display_data"
    }
   ],
   "source": [
    "set = c('red', 'red', 'blue', 'blue', 'blue')\n",
    "sample(set, size = 4)"
   ]
  },
  {
   "cell_type": "code",
   "execution_count": 18,
   "id": "eb8f9107-74f3-4046-971a-c3ba1a6848e2",
   "metadata": {},
   "outputs": [
    {
     "data": {
      "text/html": [
       "<style>\n",
       ".list-inline {list-style: none; margin:0; padding: 0}\n",
       ".list-inline>li {display: inline-block}\n",
       ".list-inline>li:not(:last-child)::after {content: \"\\00b7\"; padding: 0 .5ex}\n",
       "</style>\n",
       "<ol class=list-inline><li>'blue'</li><li>'red'</li><li>'blue'</li><li>'blue'</li></ol>\n"
      ],
      "text/latex": [
       "\\begin{enumerate*}\n",
       "\\item 'blue'\n",
       "\\item 'red'\n",
       "\\item 'blue'\n",
       "\\item 'blue'\n",
       "\\end{enumerate*}\n"
      ],
      "text/markdown": [
       "1. 'blue'\n",
       "2. 'red'\n",
       "3. 'blue'\n",
       "4. 'blue'\n",
       "\n",
       "\n"
      ],
      "text/plain": [
       "[1] \"blue\" \"red\"  \"blue\" \"blue\""
      ]
     },
     "metadata": {},
     "output_type": "display_data"
    }
   ],
   "source": [
    "sample(set, size = 4)"
   ]
  },
  {
   "cell_type": "code",
   "execution_count": 19,
   "id": "ea015795-a474-44f1-976b-a310c42c5150",
   "metadata": {},
   "outputs": [
    {
     "data": {
      "text/html": [
       "<style>\n",
       ".list-inline {list-style: none; margin:0; padding: 0}\n",
       ".list-inline>li {display: inline-block}\n",
       ".list-inline>li:not(:last-child)::after {content: \"\\00b7\"; padding: 0 .5ex}\n",
       "</style>\n",
       "<ol class=list-inline><li>'blue'</li><li>'blue'</li><li>'blue'</li><li>'blue'</li></ol>\n"
      ],
      "text/latex": [
       "\\begin{enumerate*}\n",
       "\\item 'blue'\n",
       "\\item 'blue'\n",
       "\\item 'blue'\n",
       "\\item 'blue'\n",
       "\\end{enumerate*}\n"
      ],
      "text/markdown": [
       "1. 'blue'\n",
       "2. 'blue'\n",
       "3. 'blue'\n",
       "4. 'blue'\n",
       "\n",
       "\n"
      ],
      "text/plain": [
       "[1] \"blue\" \"blue\" \"blue\" \"blue\""
      ]
     },
     "metadata": {},
     "output_type": "display_data"
    }
   ],
   "source": [
    "sample(set, size = 4, replace = TRUE)"
   ]
  },
  {
   "cell_type": "code",
   "execution_count": 20,
   "id": "de8fe616-a140-41e5-be89-89e9dd6d4c3a",
   "metadata": {},
   "outputs": [
    {
     "data": {
      "text/html": [
       "<style>\n",
       ".list-inline {list-style: none; margin:0; padding: 0}\n",
       ".list-inline>li {display: inline-block}\n",
       ".list-inline>li:not(:last-child)::after {content: \"\\00b7\"; padding: 0 .5ex}\n",
       "</style>\n",
       "<ol class=list-inline><li>'blue'</li><li>'blue'</li><li>'red'</li><li>'red'</li></ol>\n"
      ],
      "text/latex": [
       "\\begin{enumerate*}\n",
       "\\item 'blue'\n",
       "\\item 'blue'\n",
       "\\item 'red'\n",
       "\\item 'red'\n",
       "\\end{enumerate*}\n"
      ],
      "text/markdown": [
       "1. 'blue'\n",
       "2. 'blue'\n",
       "3. 'red'\n",
       "4. 'red'\n",
       "\n",
       "\n"
      ],
      "text/plain": [
       "[1] \"blue\" \"blue\" \"red\"  \"red\" "
      ]
     },
     "metadata": {},
     "output_type": "display_data"
    }
   ],
   "source": [
    "sample(set, size = 4, replace = TRUE)"
   ]
  },
  {
   "cell_type": "code",
   "execution_count": 21,
   "id": "ac1db011-9b3b-40be-a664-d6ff227d14d4",
   "metadata": {},
   "outputs": [
    {
     "data": {
      "text/html": [
       "<style>\n",
       ".list-inline {list-style: none; margin:0; padding: 0}\n",
       ".list-inline>li {display: inline-block}\n",
       ".list-inline>li:not(:last-child)::after {content: \"\\00b7\"; padding: 0 .5ex}\n",
       "</style>\n",
       "<ol class=list-inline><li>'blue'</li><li>'blue'</li><li>'blue'</li><li>'red'</li><li>'blue'</li></ol>\n"
      ],
      "text/latex": [
       "\\begin{enumerate*}\n",
       "\\item 'blue'\n",
       "\\item 'blue'\n",
       "\\item 'blue'\n",
       "\\item 'red'\n",
       "\\item 'blue'\n",
       "\\end{enumerate*}\n"
      ],
      "text/markdown": [
       "1. 'blue'\n",
       "2. 'blue'\n",
       "3. 'blue'\n",
       "4. 'red'\n",
       "5. 'blue'\n",
       "\n",
       "\n"
      ],
      "text/plain": [
       "[1] \"blue\" \"blue\" \"blue\" \"red\"  \"blue\""
      ]
     },
     "metadata": {},
     "output_type": "display_data"
    }
   ],
   "source": [
    "set = c('red', 'blue')\n",
    "sample(set, size = 5, prob = c(0.2, 0.8), replace = TRUE)"
   ]
  },
  {
   "cell_type": "code",
   "execution_count": 22,
   "id": "41ebd158-a008-45b2-84e2-c0236a458bbe",
   "metadata": {},
   "outputs": [
    {
     "ename": "ERROR",
     "evalue": "Error in sample.int(length(x), size, replace, prob): 'replace = FALSE' 일때는 모집단보다 큰 샘플을 가질 수 없습니다\n",
     "output_type": "error",
     "traceback": [
      "Error in sample.int(length(x), size, replace, prob): 'replace = FALSE' 일때는 모집단보다 큰 샘플을 가질 수 없습니다\nTraceback:\n",
      "1. sample(set, size = 5, prob = c(0.2, 0.8))",
      "2. sample.int(length(x), size, replace, prob)"
     ]
    }
   ],
   "source": [
    "sample(set, size = 5, prob = c(0.2, 0.8))"
   ]
  },
  {
   "cell_type": "markdown",
   "id": "f47a975b-dee1-4788-b312-a047beca5895",
   "metadata": {},
   "source": [
    "- 위 코드는 비복원추출인데, 원소가 2개인 집합에서 5개의 원소를 뽑으려 했기 때문에 오류가 발생한 것이다."
   ]
  },
  {
   "cell_type": "code",
   "execution_count": 23,
   "id": "ba980721-6a83-4396-985b-238aafa320be",
   "metadata": {},
   "outputs": [
    {
     "data": {
      "text/html": [
       "<style>\n",
       ".list-inline {list-style: none; margin:0; padding: 0}\n",
       ".list-inline>li {display: inline-block}\n",
       ".list-inline>li:not(:last-child)::after {content: \"\\00b7\"; padding: 0 .5ex}\n",
       "</style>\n",
       "<ol class=list-inline><li>'red'</li><li>'blue'</li></ol>\n"
      ],
      "text/latex": [
       "\\begin{enumerate*}\n",
       "\\item 'red'\n",
       "\\item 'blue'\n",
       "\\end{enumerate*}\n"
      ],
      "text/markdown": [
       "1. 'red'\n",
       "2. 'blue'\n",
       "\n",
       "\n"
      ],
      "text/plain": [
       "[1] \"red\"  \"blue\""
      ]
     },
     "metadata": {},
     "output_type": "display_data"
    }
   ],
   "source": [
    "sample(set, size = 2, prob = c(0.2, 0.3), replace = TRUE)"
   ]
  },
  {
   "cell_type": "code",
   "execution_count": 24,
   "id": "1c427afd-38ae-4bd8-a9e0-cc201bd9eed1",
   "metadata": {},
   "outputs": [
    {
     "data": {
      "text/html": [
       "<style>\n",
       ".list-inline {list-style: none; margin:0; padding: 0}\n",
       ".list-inline>li {display: inline-block}\n",
       ".list-inline>li:not(:last-child)::after {content: \"\\00b7\"; padding: 0 .5ex}\n",
       "</style>\n",
       "<ol class=list-inline><li>'red'</li><li>'blue'</li></ol>\n"
      ],
      "text/latex": [
       "\\begin{enumerate*}\n",
       "\\item 'red'\n",
       "\\item 'blue'\n",
       "\\end{enumerate*}\n"
      ],
      "text/markdown": [
       "1. 'red'\n",
       "2. 'blue'\n",
       "\n",
       "\n"
      ],
      "text/plain": [
       "[1] \"red\"  \"blue\""
      ]
     },
     "metadata": {},
     "output_type": "display_data"
    }
   ],
   "source": [
    "sample(set, size = 2, prob = c(32.2, 44.3), replace = TRUE)"
   ]
  },
  {
   "cell_type": "code",
   "execution_count": 25,
   "id": "476e6f0b-8382-40ee-863a-4d71f830e13a",
   "metadata": {},
   "outputs": [
    {
     "data": {
      "text/html": [
       "<table class=\"dataframe\">\n",
       "<caption>A matrix: 1000 × 2 of type chr</caption>\n",
       "<tbody>\n",
       "\t<tr><td>_</td><td>_</td></tr>\n",
       "\t<tr><td>_</td><td>_</td></tr>\n",
       "\t<tr><td>_</td><td>_</td></tr>\n",
       "\t<tr><td>_</td><td>_</td></tr>\n",
       "\t<tr><td>_</td><td>_</td></tr>\n",
       "\t<tr><td>_</td><td>_</td></tr>\n",
       "\t<tr><td>_</td><td>_</td></tr>\n",
       "\t<tr><td>_</td><td>_</td></tr>\n",
       "\t<tr><td>_</td><td>_</td></tr>\n",
       "\t<tr><td>_</td><td>_</td></tr>\n",
       "\t<tr><td>_</td><td>_</td></tr>\n",
       "\t<tr><td>_</td><td>_</td></tr>\n",
       "\t<tr><td>_</td><td>_</td></tr>\n",
       "\t<tr><td>_</td><td>_</td></tr>\n",
       "\t<tr><td>_</td><td>_</td></tr>\n",
       "\t<tr><td>_</td><td>_</td></tr>\n",
       "\t<tr><td>_</td><td>_</td></tr>\n",
       "\t<tr><td>_</td><td>_</td></tr>\n",
       "\t<tr><td>_</td><td>_</td></tr>\n",
       "\t<tr><td>_</td><td>_</td></tr>\n",
       "\t<tr><td>_</td><td>_</td></tr>\n",
       "\t<tr><td>_</td><td>_</td></tr>\n",
       "\t<tr><td>_</td><td>_</td></tr>\n",
       "\t<tr><td>_</td><td>_</td></tr>\n",
       "\t<tr><td>_</td><td>_</td></tr>\n",
       "\t<tr><td>_</td><td>_</td></tr>\n",
       "\t<tr><td>_</td><td>_</td></tr>\n",
       "\t<tr><td>_</td><td>_</td></tr>\n",
       "\t<tr><td>_</td><td>_</td></tr>\n",
       "\t<tr><td>_</td><td>_</td></tr>\n",
       "\t<tr><td>⋮</td><td>⋮</td></tr>\n",
       "\t<tr><td>_</td><td>_</td></tr>\n",
       "\t<tr><td>_</td><td>_</td></tr>\n",
       "\t<tr><td>_</td><td>_</td></tr>\n",
       "\t<tr><td>_</td><td>_</td></tr>\n",
       "\t<tr><td>_</td><td>_</td></tr>\n",
       "\t<tr><td>_</td><td>_</td></tr>\n",
       "\t<tr><td>_</td><td>_</td></tr>\n",
       "\t<tr><td>_</td><td>_</td></tr>\n",
       "\t<tr><td>_</td><td>_</td></tr>\n",
       "\t<tr><td>_</td><td>_</td></tr>\n",
       "\t<tr><td>_</td><td>_</td></tr>\n",
       "\t<tr><td>_</td><td>_</td></tr>\n",
       "\t<tr><td>_</td><td>_</td></tr>\n",
       "\t<tr><td>_</td><td>_</td></tr>\n",
       "\t<tr><td>_</td><td>_</td></tr>\n",
       "\t<tr><td>_</td><td>_</td></tr>\n",
       "\t<tr><td>_</td><td>_</td></tr>\n",
       "\t<tr><td>_</td><td>_</td></tr>\n",
       "\t<tr><td>_</td><td>_</td></tr>\n",
       "\t<tr><td>_</td><td>_</td></tr>\n",
       "\t<tr><td>_</td><td>_</td></tr>\n",
       "\t<tr><td>_</td><td>_</td></tr>\n",
       "\t<tr><td>_</td><td>_</td></tr>\n",
       "\t<tr><td>_</td><td>_</td></tr>\n",
       "\t<tr><td>_</td><td>_</td></tr>\n",
       "\t<tr><td>_</td><td>_</td></tr>\n",
       "\t<tr><td>_</td><td>_</td></tr>\n",
       "\t<tr><td>_</td><td>_</td></tr>\n",
       "\t<tr><td>_</td><td>_</td></tr>\n",
       "\t<tr><td>_</td><td>_</td></tr>\n",
       "</tbody>\n",
       "</table>\n"
      ],
      "text/latex": [
       "A matrix: 1000 × 2 of type chr\n",
       "\\begin{tabular}{ll}\n",
       "\t \\_ & \\_\\\\\n",
       "\t \\_ & \\_\\\\\n",
       "\t \\_ & \\_\\\\\n",
       "\t \\_ & \\_\\\\\n",
       "\t \\_ & \\_\\\\\n",
       "\t \\_ & \\_\\\\\n",
       "\t \\_ & \\_\\\\\n",
       "\t \\_ & \\_\\\\\n",
       "\t \\_ & \\_\\\\\n",
       "\t \\_ & \\_\\\\\n",
       "\t \\_ & \\_\\\\\n",
       "\t \\_ & \\_\\\\\n",
       "\t \\_ & \\_\\\\\n",
       "\t \\_ & \\_\\\\\n",
       "\t \\_ & \\_\\\\\n",
       "\t \\_ & \\_\\\\\n",
       "\t \\_ & \\_\\\\\n",
       "\t \\_ & \\_\\\\\n",
       "\t \\_ & \\_\\\\\n",
       "\t \\_ & \\_\\\\\n",
       "\t \\_ & \\_\\\\\n",
       "\t \\_ & \\_\\\\\n",
       "\t \\_ & \\_\\\\\n",
       "\t \\_ & \\_\\\\\n",
       "\t \\_ & \\_\\\\\n",
       "\t \\_ & \\_\\\\\n",
       "\t \\_ & \\_\\\\\n",
       "\t \\_ & \\_\\\\\n",
       "\t \\_ & \\_\\\\\n",
       "\t \\_ & \\_\\\\\n",
       "\t ⋮ & ⋮\\\\\n",
       "\t \\_ & \\_\\\\\n",
       "\t \\_ & \\_\\\\\n",
       "\t \\_ & \\_\\\\\n",
       "\t \\_ & \\_\\\\\n",
       "\t \\_ & \\_\\\\\n",
       "\t \\_ & \\_\\\\\n",
       "\t \\_ & \\_\\\\\n",
       "\t \\_ & \\_\\\\\n",
       "\t \\_ & \\_\\\\\n",
       "\t \\_ & \\_\\\\\n",
       "\t \\_ & \\_\\\\\n",
       "\t \\_ & \\_\\\\\n",
       "\t \\_ & \\_\\\\\n",
       "\t \\_ & \\_\\\\\n",
       "\t \\_ & \\_\\\\\n",
       "\t \\_ & \\_\\\\\n",
       "\t \\_ & \\_\\\\\n",
       "\t \\_ & \\_\\\\\n",
       "\t \\_ & \\_\\\\\n",
       "\t \\_ & \\_\\\\\n",
       "\t \\_ & \\_\\\\\n",
       "\t \\_ & \\_\\\\\n",
       "\t \\_ & \\_\\\\\n",
       "\t \\_ & \\_\\\\\n",
       "\t \\_ & \\_\\\\\n",
       "\t \\_ & \\_\\\\\n",
       "\t \\_ & \\_\\\\\n",
       "\t \\_ & \\_\\\\\n",
       "\t \\_ & \\_\\\\\n",
       "\t \\_ & \\_\\\\\n",
       "\\end{tabular}\n"
      ],
      "text/markdown": [
       "\n",
       "A matrix: 1000 × 2 of type chr\n",
       "\n",
       "| _ | _ |\n",
       "| _ | _ |\n",
       "| _ | _ |\n",
       "| _ | _ |\n",
       "| _ | _ |\n",
       "| _ | _ |\n",
       "| _ | _ |\n",
       "| _ | _ |\n",
       "| _ | _ |\n",
       "| _ | _ |\n",
       "| _ | _ |\n",
       "| _ | _ |\n",
       "| _ | _ |\n",
       "| _ | _ |\n",
       "| _ | _ |\n",
       "| _ | _ |\n",
       "| _ | _ |\n",
       "| _ | _ |\n",
       "| _ | _ |\n",
       "| _ | _ |\n",
       "| _ | _ |\n",
       "| _ | _ |\n",
       "| _ | _ |\n",
       "| _ | _ |\n",
       "| _ | _ |\n",
       "| _ | _ |\n",
       "| _ | _ |\n",
       "| _ | _ |\n",
       "| _ | _ |\n",
       "| _ | _ |\n",
       "| ⋮ | ⋮ |\n",
       "| _ | _ |\n",
       "| _ | _ |\n",
       "| _ | _ |\n",
       "| _ | _ |\n",
       "| _ | _ |\n",
       "| _ | _ |\n",
       "| _ | _ |\n",
       "| _ | _ |\n",
       "| _ | _ |\n",
       "| _ | _ |\n",
       "| _ | _ |\n",
       "| _ | _ |\n",
       "| _ | _ |\n",
       "| _ | _ |\n",
       "| _ | _ |\n",
       "| _ | _ |\n",
       "| _ | _ |\n",
       "| _ | _ |\n",
       "| _ | _ |\n",
       "| _ | _ |\n",
       "| _ | _ |\n",
       "| _ | _ |\n",
       "| _ | _ |\n",
       "| _ | _ |\n",
       "| _ | _ |\n",
       "| _ | _ |\n",
       "| _ | _ |\n",
       "| _ | _ |\n",
       "| _ | _ |\n",
       "| _ | _ |\n",
       "\n"
      ],
      "text/plain": [
       "      [,1] [,2]\n",
       " [1,] _    _   \n",
       " [2,] _    _   \n",
       " [3,] _    _   \n",
       " [4,] _    _   \n",
       " [5,] _    _   \n",
       " [6,] _    _   \n",
       " [7,] _    _   \n",
       " [8,] _    _   \n",
       " [9,] _    _   \n",
       "[10,] _    _   \n",
       "[11,] _    _   \n",
       "[12,] _    _   \n",
       "[13,] _    _   \n",
       "[14,] _    _   \n",
       "[15,] _    _   \n",
       "[16,] _    _   \n",
       "[17,] _    _   \n",
       "[18,] _    _   \n",
       "[19,] _    _   \n",
       "[20,] _    _   \n",
       "[21,] _    _   \n",
       "[22,] _    _   \n",
       "[23,] _    _   \n",
       "[24,] _    _   \n",
       "[25,] _    _   \n",
       "[26,] _    _   \n",
       "[27,] _    _   \n",
       "[28,] _    _   \n",
       "[29,] _    _   \n",
       "[30,] _    _   \n",
       "[31,] <U+22EE> <U+22EE>\n",
       "[32,] _    _   \n",
       "[33,] _    _   \n",
       "[34,] _    _   \n",
       "[35,] _    _   \n",
       "[36,] _    _   \n",
       "[37,] _    _   \n",
       "[38,] _    _   \n",
       "[39,] _    _   \n",
       "[40,] _    _   \n",
       "[41,] _    _   \n",
       "[42,] _    _   \n",
       "[43,] _    _   \n",
       "[44,] _    _   \n",
       "[45,] _    _   \n",
       "[46,] _    _   \n",
       "[47,] _    _   \n",
       "[48,] _    _   \n",
       "[49,] _    _   \n",
       "[50,] _    _   \n",
       "[51,] _    _   \n",
       "[52,] _    _   \n",
       "[53,] _    _   \n",
       "[54,] _    _   \n",
       "[55,] _    _   \n",
       "[56,] _    _   \n",
       "[57,] _    _   \n",
       "[58,] _    _   \n",
       "[59,] _    _   \n",
       "[60,] _    _   \n",
       "[61,] _    _   "
      ]
     },
     "metadata": {},
     "output_type": "display_data"
    }
   ],
   "source": [
    "#collapse-output\n",
    "set = c('red', 'blue')\n",
    "rslt = matrix(rep(\"_\", 1000*2), ncol = 2)\n",
    "rslt"
   ]
  },
  {
   "cell_type": "code",
   "execution_count": 26,
   "id": "715f4576-d52d-45d8-b68f-eea2b136d92a",
   "metadata": {},
   "outputs": [
    {
     "data": {
      "text/html": [
       "<table class=\"dataframe\">\n",
       "<caption>A matrix: 1000 × 2 of type chr</caption>\n",
       "<tbody>\n",
       "\t<tr><td>red </td><td>blue</td></tr>\n",
       "\t<tr><td>red </td><td>blue</td></tr>\n",
       "\t<tr><td>red </td><td>blue</td></tr>\n",
       "\t<tr><td>red </td><td>blue</td></tr>\n",
       "\t<tr><td>red </td><td>blue</td></tr>\n",
       "\t<tr><td>red </td><td>blue</td></tr>\n",
       "\t<tr><td>red </td><td>blue</td></tr>\n",
       "\t<tr><td>red </td><td>blue</td></tr>\n",
       "\t<tr><td>red </td><td>blue</td></tr>\n",
       "\t<tr><td>red </td><td>blue</td></tr>\n",
       "\t<tr><td>red </td><td>blue</td></tr>\n",
       "\t<tr><td>red </td><td>blue</td></tr>\n",
       "\t<tr><td>red </td><td>blue</td></tr>\n",
       "\t<tr><td>red </td><td>blue</td></tr>\n",
       "\t<tr><td>blue</td><td>red </td></tr>\n",
       "\t<tr><td>red </td><td>blue</td></tr>\n",
       "\t<tr><td>blue</td><td>red </td></tr>\n",
       "\t<tr><td>red </td><td>blue</td></tr>\n",
       "\t<tr><td>red </td><td>blue</td></tr>\n",
       "\t<tr><td>red </td><td>blue</td></tr>\n",
       "\t<tr><td>red </td><td>blue</td></tr>\n",
       "\t<tr><td>red </td><td>blue</td></tr>\n",
       "\t<tr><td>red </td><td>blue</td></tr>\n",
       "\t<tr><td>red </td><td>blue</td></tr>\n",
       "\t<tr><td>red </td><td>blue</td></tr>\n",
       "\t<tr><td>red </td><td>blue</td></tr>\n",
       "\t<tr><td>red </td><td>blue</td></tr>\n",
       "\t<tr><td>red </td><td>blue</td></tr>\n",
       "\t<tr><td>red </td><td>blue</td></tr>\n",
       "\t<tr><td>red </td><td>blue</td></tr>\n",
       "\t<tr><td>⋮</td><td>⋮</td></tr>\n",
       "\t<tr><td>red </td><td>blue</td></tr>\n",
       "\t<tr><td>red </td><td>blue</td></tr>\n",
       "\t<tr><td>blue</td><td>red </td></tr>\n",
       "\t<tr><td>red </td><td>blue</td></tr>\n",
       "\t<tr><td>red </td><td>blue</td></tr>\n",
       "\t<tr><td>red </td><td>blue</td></tr>\n",
       "\t<tr><td>red </td><td>blue</td></tr>\n",
       "\t<tr><td>red </td><td>blue</td></tr>\n",
       "\t<tr><td>red </td><td>blue</td></tr>\n",
       "\t<tr><td>red </td><td>blue</td></tr>\n",
       "\t<tr><td>red </td><td>blue</td></tr>\n",
       "\t<tr><td>red </td><td>blue</td></tr>\n",
       "\t<tr><td>red </td><td>blue</td></tr>\n",
       "\t<tr><td>red </td><td>blue</td></tr>\n",
       "\t<tr><td>red </td><td>blue</td></tr>\n",
       "\t<tr><td>red </td><td>blue</td></tr>\n",
       "\t<tr><td>red </td><td>blue</td></tr>\n",
       "\t<tr><td>red </td><td>blue</td></tr>\n",
       "\t<tr><td>red </td><td>blue</td></tr>\n",
       "\t<tr><td>red </td><td>blue</td></tr>\n",
       "\t<tr><td>red </td><td>blue</td></tr>\n",
       "\t<tr><td>red </td><td>blue</td></tr>\n",
       "\t<tr><td>red </td><td>blue</td></tr>\n",
       "\t<tr><td>red </td><td>blue</td></tr>\n",
       "\t<tr><td>red </td><td>blue</td></tr>\n",
       "\t<tr><td>red </td><td>blue</td></tr>\n",
       "\t<tr><td>red </td><td>blue</td></tr>\n",
       "\t<tr><td>red </td><td>blue</td></tr>\n",
       "\t<tr><td>red </td><td>blue</td></tr>\n",
       "\t<tr><td>red </td><td>blue</td></tr>\n",
       "</tbody>\n",
       "</table>\n"
      ],
      "text/latex": [
       "A matrix: 1000 × 2 of type chr\n",
       "\\begin{tabular}{ll}\n",
       "\t red  & blue\\\\\n",
       "\t red  & blue\\\\\n",
       "\t red  & blue\\\\\n",
       "\t red  & blue\\\\\n",
       "\t red  & blue\\\\\n",
       "\t red  & blue\\\\\n",
       "\t red  & blue\\\\\n",
       "\t red  & blue\\\\\n",
       "\t red  & blue\\\\\n",
       "\t red  & blue\\\\\n",
       "\t red  & blue\\\\\n",
       "\t red  & blue\\\\\n",
       "\t red  & blue\\\\\n",
       "\t red  & blue\\\\\n",
       "\t blue & red \\\\\n",
       "\t red  & blue\\\\\n",
       "\t blue & red \\\\\n",
       "\t red  & blue\\\\\n",
       "\t red  & blue\\\\\n",
       "\t red  & blue\\\\\n",
       "\t red  & blue\\\\\n",
       "\t red  & blue\\\\\n",
       "\t red  & blue\\\\\n",
       "\t red  & blue\\\\\n",
       "\t red  & blue\\\\\n",
       "\t red  & blue\\\\\n",
       "\t red  & blue\\\\\n",
       "\t red  & blue\\\\\n",
       "\t red  & blue\\\\\n",
       "\t red  & blue\\\\\n",
       "\t ⋮ & ⋮\\\\\n",
       "\t red  & blue\\\\\n",
       "\t red  & blue\\\\\n",
       "\t blue & red \\\\\n",
       "\t red  & blue\\\\\n",
       "\t red  & blue\\\\\n",
       "\t red  & blue\\\\\n",
       "\t red  & blue\\\\\n",
       "\t red  & blue\\\\\n",
       "\t red  & blue\\\\\n",
       "\t red  & blue\\\\\n",
       "\t red  & blue\\\\\n",
       "\t red  & blue\\\\\n",
       "\t red  & blue\\\\\n",
       "\t red  & blue\\\\\n",
       "\t red  & blue\\\\\n",
       "\t red  & blue\\\\\n",
       "\t red  & blue\\\\\n",
       "\t red  & blue\\\\\n",
       "\t red  & blue\\\\\n",
       "\t red  & blue\\\\\n",
       "\t red  & blue\\\\\n",
       "\t red  & blue\\\\\n",
       "\t red  & blue\\\\\n",
       "\t red  & blue\\\\\n",
       "\t red  & blue\\\\\n",
       "\t red  & blue\\\\\n",
       "\t red  & blue\\\\\n",
       "\t red  & blue\\\\\n",
       "\t red  & blue\\\\\n",
       "\t red  & blue\\\\\n",
       "\\end{tabular}\n"
      ],
      "text/markdown": [
       "\n",
       "A matrix: 1000 × 2 of type chr\n",
       "\n",
       "| red  | blue |\n",
       "| red  | blue |\n",
       "| red  | blue |\n",
       "| red  | blue |\n",
       "| red  | blue |\n",
       "| red  | blue |\n",
       "| red  | blue |\n",
       "| red  | blue |\n",
       "| red  | blue |\n",
       "| red  | blue |\n",
       "| red  | blue |\n",
       "| red  | blue |\n",
       "| red  | blue |\n",
       "| red  | blue |\n",
       "| blue | red  |\n",
       "| red  | blue |\n",
       "| blue | red  |\n",
       "| red  | blue |\n",
       "| red  | blue |\n",
       "| red  | blue |\n",
       "| red  | blue |\n",
       "| red  | blue |\n",
       "| red  | blue |\n",
       "| red  | blue |\n",
       "| red  | blue |\n",
       "| red  | blue |\n",
       "| red  | blue |\n",
       "| red  | blue |\n",
       "| red  | blue |\n",
       "| red  | blue |\n",
       "| ⋮ | ⋮ |\n",
       "| red  | blue |\n",
       "| red  | blue |\n",
       "| blue | red  |\n",
       "| red  | blue |\n",
       "| red  | blue |\n",
       "| red  | blue |\n",
       "| red  | blue |\n",
       "| red  | blue |\n",
       "| red  | blue |\n",
       "| red  | blue |\n",
       "| red  | blue |\n",
       "| red  | blue |\n",
       "| red  | blue |\n",
       "| red  | blue |\n",
       "| red  | blue |\n",
       "| red  | blue |\n",
       "| red  | blue |\n",
       "| red  | blue |\n",
       "| red  | blue |\n",
       "| red  | blue |\n",
       "| red  | blue |\n",
       "| red  | blue |\n",
       "| red  | blue |\n",
       "| red  | blue |\n",
       "| red  | blue |\n",
       "| red  | blue |\n",
       "| red  | blue |\n",
       "| red  | blue |\n",
       "| red  | blue |\n",
       "| red  | blue |\n",
       "\n"
      ],
      "text/plain": [
       "      [,1] [,2]\n",
       " [1,] red  blue\n",
       " [2,] red  blue\n",
       " [3,] red  blue\n",
       " [4,] red  blue\n",
       " [5,] red  blue\n",
       " [6,] red  blue\n",
       " [7,] red  blue\n",
       " [8,] red  blue\n",
       " [9,] red  blue\n",
       "[10,] red  blue\n",
       "[11,] red  blue\n",
       "[12,] red  blue\n",
       "[13,] red  blue\n",
       "[14,] red  blue\n",
       "[15,] blue red \n",
       "[16,] red  blue\n",
       "[17,] blue red \n",
       "[18,] red  blue\n",
       "[19,] red  blue\n",
       "[20,] red  blue\n",
       "[21,] red  blue\n",
       "[22,] red  blue\n",
       "[23,] red  blue\n",
       "[24,] red  blue\n",
       "[25,] red  blue\n",
       "[26,] red  blue\n",
       "[27,] red  blue\n",
       "[28,] red  blue\n",
       "[29,] red  blue\n",
       "[30,] red  blue\n",
       "[31,] <U+22EE> <U+22EE>\n",
       "[32,] red  blue\n",
       "[33,] red  blue\n",
       "[34,] blue red \n",
       "[35,] red  blue\n",
       "[36,] red  blue\n",
       "[37,] red  blue\n",
       "[38,] red  blue\n",
       "[39,] red  blue\n",
       "[40,] red  blue\n",
       "[41,] red  blue\n",
       "[42,] red  blue\n",
       "[43,] red  blue\n",
       "[44,] red  blue\n",
       "[45,] red  blue\n",
       "[46,] red  blue\n",
       "[47,] red  blue\n",
       "[48,] red  blue\n",
       "[49,] red  blue\n",
       "[50,] red  blue\n",
       "[51,] red  blue\n",
       "[52,] red  blue\n",
       "[53,] red  blue\n",
       "[54,] red  blue\n",
       "[55,] red  blue\n",
       "[56,] red  blue\n",
       "[57,] red  blue\n",
       "[58,] red  blue\n",
       "[59,] red  blue\n",
       "[60,] red  blue\n",
       "[61,] red  blue"
      ]
     },
     "metadata": {},
     "output_type": "display_data"
    }
   ],
   "source": [
    "#collapse-output\n",
    "for (i in 1:1000) rslt[i,] = sample(set, size = 2, prob=c(0.95,0.05))\n",
    "rslt"
   ]
  },
  {
   "cell_type": "code",
   "execution_count": 27,
   "id": "176b66db-3afd-47ce-8471-d6b89df06152",
   "metadata": {},
   "outputs": [
    {
     "data": {
      "text/html": [
       "0.956"
      ],
      "text/latex": [
       "0.956"
      ],
      "text/markdown": [
       "0.956"
      ],
      "text/plain": [
       "[1] 0.956"
      ]
     },
     "metadata": {},
     "output_type": "display_data"
    }
   ],
   "source": [
    "sum(rslt[,1] == \"red\")/1000"
   ]
  },
  {
   "cell_type": "markdown",
   "id": "3b03d63a-31b8-4410-88b7-a923f71d557f",
   "metadata": {},
   "source": [
    "# 과제: 유리로 된 징검다리 건너기"
   ]
  },
  {
   "cell_type": "markdown",
   "id": "fe8fd84c-733b-486e-a062-8f2f3f97fad3",
   "metadata": {},
   "source": [
    "## Problem"
   ]
  },
  {
   "cell_type": "markdown",
   "id": "27c3ebb5-df93-42c6-ab1b-3b30d06a7f0a",
   "metadata": {},
   "source": [
    "![](image/20211119work.jpg)"
   ]
  },
  {
   "cell_type": "markdown",
   "id": "1a3f058e-35e3-4f08-9cfd-3e21bfabfb00",
   "metadata": {},
   "source": [
    "유리와 강화유리가 한 쌍으로 이루어진 징검다리가 총 5개 있다고 하자.(따라서 징검다리는 모두 10개이다.)\n",
    "\n",
    "강화유리로 된 징검다리를 밟으면 살아남지만 유리로 된 징검다리를 밟으면 죽는다.\n",
    "\n",
    "따라서 강화유리로 된 징검다리를 골라야 살아남을 수 있다.\n",
    "\n",
    "A씨는 유리공장에서 20년 근무한 장인으로 유리와 강화유리를 구분할 수 있는 능력을 가져서 강화유리로 된 징검다리를 고를 확률이 80%이다.\n",
    "\n",
    "A씨가 살아남을 확률을 시뮬레이션을 통하여 구하여라."
   ]
  },
  {
   "cell_type": "markdown",
   "id": "232eecff-cb01-4d29-b256-2f9a18871246",
   "metadata": {},
   "source": [
    "### Solution"
   ]
  },
  {
   "cell_type": "code",
   "execution_count": 28,
   "id": "4bec9857-0fae-4040-b027-ec1fe1cb7241",
   "metadata": {},
   "outputs": [
    {
     "data": {
      "text/html": [
       "0.32768"
      ],
      "text/latex": [
       "0.32768"
      ],
      "text/markdown": [
       "0.32768"
      ],
      "text/plain": [
       "[1] 0.32768"
      ]
     },
     "metadata": {},
     "output_type": "display_data"
    }
   ],
   "source": [
    "\n",
    "#수리적으로 구한 값\n",
    "\n",
    "(0.8)^5 "
   ]
  },
  {
   "cell_type": "code",
   "execution_count": 29,
   "id": "0ff2e45f-8f9a-424e-9084-c44b5755adb9",
   "metadata": {},
   "outputs": [
    {
     "data": {
      "text/html": [
       "0.3277079"
      ],
      "text/latex": [
       "0.3277079"
      ],
      "text/markdown": [
       "0.3277079"
      ],
      "text/plain": [
       "[1] 0.3277079"
      ]
     },
     "metadata": {},
     "output_type": "display_data"
    }
   ],
   "source": [
    "\n",
    "#천만번의 시뮬레이션을 통해 평균을 구한다.\n",
    "\n",
    "num_repeat = 10000000\n",
    "sum(rbinom(num_repeat, size=5, prob=0.8) == 5) / num_repeat"
   ]
  },
  {
   "cell_type": "code",
   "execution_count": 30,
   "id": "7b7768d9-b5bc-47c4-a0cb-c599c5c81358",
   "metadata": {},
   "outputs": [
    {
     "data": {
      "text/html": [
       "0.3277134"
      ],
      "text/latex": [
       "0.3277134"
      ],
      "text/markdown": [
       "0.3277134"
      ],
      "text/plain": [
       "[1] 0.3277134"
      ]
     },
     "metadata": {},
     "output_type": "display_data"
    }
   ],
   "source": [
    "\n",
    "# mean으로도 가능한 것 같다.\n",
    "num_repeat = 10000000\n",
    "mean(rbinom(num_repeat, size=5, prob=0.8) == 5)"
   ]
  },
  {
   "cell_type": "markdown",
   "id": "a2831aeb-790d-407f-b03d-ef91f7c147f8",
   "metadata": {},
   "source": [
    "- 즉, 시뮬레이션으로 구한 A씨가 살아남을 확률은 약 0.3278이다."
   ]
  },
  {
   "cell_type": "markdown",
   "id": "a742b4d6-648b-42fc-886c-a27ecc04c94e",
   "metadata": {},
   "source": [
    "## Problem"
   ]
  },
  {
   "cell_type": "markdown",
   "id": "1542dfe4-2dea-4d8c-9dbd-030795419ec5",
   "metadata": {},
   "source": [
    "강화유리와 유리를 랜덤으로 찍는 참가자가 2명 있다고 하자. (따라서 강화유리를 고를 확률이 50%이다.)\n",
    "\n",
    "(강화유리, 유리)의 징검다리가 3개 있다고 하자. (따라서 총 6개의 유리가 있고, 3번연속으로 강화유리를 고르면 2명 모두 살아남는다)\n",
    "\n",
    "8000번의 시뮬레이션을 하였을 경우 아래의 질문에 답하라.\n",
    "\n",
    "(질문1) 2명 모두 살아남는 경우는 몇번인가? 약 1000번\n",
    "\n",
    "(질문2) 1명만 살아남는 경우는 몇번정도인가? 약 3000번 정도.."
   ]
  },
  {
   "cell_type": "markdown",
   "id": "b1593be2-a050-489f-9e0f-61ef8220792f",
   "metadata": {},
   "source": [
    "### Solution I"
   ]
  },
  {
   "cell_type": "markdown",
   "id": "1a107a26-b73f-403f-bdda-17b3e91d2c05",
   "metadata": {},
   "source": [
    "#### 2명 모두 생존하는 경우"
   ]
  },
  {
   "cell_type": "code",
   "execution_count": 31,
   "id": "b27601b0-274c-48c5-9589-daa0f5287987",
   "metadata": {},
   "outputs": [
    {
     "data": {
      "text/html": [
       "1006"
      ],
      "text/latex": [
       "1006"
      ],
      "text/markdown": [
       "1006"
      ],
      "text/plain": [
       "[1] 1006"
      ]
     },
     "metadata": {},
     "output_type": "display_data"
    }
   ],
   "source": [
    "simulate_all_sulv = function(N) return (sum(rbinom(8000,size=3,prob=0.5) == 3))\n",
    "\n",
    "simulate_all_sulv(8000)"
   ]
  },
  {
   "cell_type": "markdown",
   "id": "afe86609-385f-4da8-b6c6-fb84b9fc206f",
   "metadata": {},
   "source": [
    "#### 1명만 생존하는 경우"
   ]
  },
  {
   "cell_type": "code",
   "execution_count": 54,
   "id": "3edcdbf1-74b7-443c-bce7-a02401fd94c5",
   "metadata": {},
   "outputs": [
    {
     "data": {
      "text/html": [
       "3026"
      ],
      "text/latex": [
       "3026"
      ],
      "text/markdown": [
       "3026"
      ],
      "text/plain": [
       "[1] 3026"
      ]
     },
     "metadata": {},
     "output_type": "display_data"
    }
   ],
   "source": [
    "matt = sample(size = 8000*3, c(0,1), prob = c(5,5), replace = T) \n",
    "dim(matt) = c(8000, 3)\n",
    "matt = as.tibble(matt)\n",
    "\n",
    "sum(\n",
    "(rbinom(sum(matt$V1==0), size = 2, prob = 0.5) == 2)%>% sum + \n",
    "(rbinom(sum((matt$V1==1)&(matt$V2==0)), size = 1, prob = 0.5) == 1) %>% sum +\n",
    "(rbinom(sum((matt$V1==1)&(matt$V2==1)&(matt$V3==0)), size = 0, prob = 0.5) == 0) %>% sum\n",
    ")\n"
   ]
  },
  {
   "cell_type": "markdown",
   "id": "a2eab149-735e-4017-8f29-2cf7c7e75483",
   "metadata": {},
   "source": [
    "### Solution II"
   ]
  },
  {
   "cell_type": "code",
   "execution_count": 33,
   "id": "971dca92-daec-4dfd-a90e-e7995d3d6100",
   "metadata": {},
   "outputs": [],
   "source": [
    "simulate_one_sulv = function(N){ #N <- 시행 횟수\n",
    "    matt = sample(size = N*3, c(0,1), prob = c(5,5), replace = T)\n",
    "    dim(matt) = c(N, 3)\n",
    "\n",
    "    for (i in 1:N){ # 사망하면 더이상 시도할 수 없으므로 0이후에 발생된 1은 0으로 교체한다.\n",
    "        if (matt[i,1] == 0) matt[i,2] <- matt[i,3] <- 0 # 첫 번째에 사망한 경우 두 번째, 세 번째는 실패로 간주한다.\n",
    "        else if (matt[i,2] == 0) matt[i,3] <- 0 # 두 번째에 사망한 경우 세 번째는 실패로 간주한다.\n",
    "    }\n",
    "    \n",
    "    # sum은 1번 주자의 성공 횟수이다.\n",
    "    matt = matt %>% as.tibble %>% mutate(sum = V1 + V2 + V3)\n",
    "\n",
    "    # sum이 3이면 한 명만 생존하는 경우가 아니므로 summ이 0:2인 경우만 계산한다.\n",
    "    rslt = c()\n",
    "    for (i in 0:2) rslt[i+1] = (matt %>% filter(sum == i) %>% count %>% as.numeric %>% rbinom(size = 2-i, prob = 0.5) == 2-i) %>% sum\n",
    "    return(sum(rslt))\n",
    "}"
   ]
  },
  {
   "cell_type": "code",
   "execution_count": 34,
   "id": "87f37fd9-e775-4901-8048-5b65fa3b1348",
   "metadata": {},
   "outputs": [
    {
     "data": {
      "text/html": [
       "3012"
      ],
      "text/latex": [
       "3012"
      ],
      "text/markdown": [
       "3012"
      ],
      "text/plain": [
       "[1] 3012"
      ]
     },
     "metadata": {},
     "output_type": "display_data"
    }
   ],
   "source": [
    "simulate_one_sulv(8000)"
   ]
  },
  {
   "cell_type": "markdown",
   "id": "e52fdf73-6afa-499a-98fb-4e49417a6dd8",
   "metadata": {},
   "source": [
    "### 다른 시도들"
   ]
  },
  {
   "cell_type": "code",
   "execution_count": 35,
   "id": "0c7ad160-a2e8-47db-9ad3-32bde6d99825",
   "metadata": {},
   "outputs": [
    {
     "data": {
      "text/html": [
       "4769"
      ],
      "text/latex": [
       "4769"
      ],
      "text/markdown": [
       "4769"
      ],
      "text/plain": [
       "[1] 4769"
      ]
     },
     "metadata": {},
     "output_type": "display_data"
    }
   ],
   "source": [
    "simulate_one_sulv = function(N){\n",
    "    first_cross = rbinom(8000,size=3,prob=0.5)\n",
    "    second_cross = 0\n",
    "    ATA = 0\n",
    "    for (i in 1:N){\n",
    "        if (first_cross[i] == 3) next # 1번 주자가 모두 강화유리를 밟은 경우, 즉 전원 생존한다.\n",
    "        else if (first_cross[i] == 2) second_cross = second_cross + 1 # 1번 주자가 첫 번째, 두 번째에서 강화유리를 밟고 세 번째에서 일반유리를 밟아 사망한 경우, 즉 2번 주자만 생존한다.\n",
    "        else if (sample(size=2-first_cross[i], c(0,1), prob=c(5,5),replace=T) %>% prod == 1) second_cross = second_cross + 1\n",
    "\n",
    "    }\n",
    "    return(second_cross)\n",
    "}\n",
    "simulate_one_sulv(8000)"
   ]
  },
  {
   "cell_type": "code",
   "execution_count": 36,
   "id": "26b26275-8100-4c7d-933a-b9258d0c23b1",
   "metadata": {},
   "outputs": [
    {
     "name": "stdout",
     "output_type": "stream",
     "text": [
      "[1] 2978\n"
     ]
    },
    {
     "data": {
      "text/html": [
       "4730"
      ],
      "text/latex": [
       "4730"
      ],
      "text/markdown": [
       "4730"
      ],
      "text/plain": [
       "[1] 4730"
      ]
     },
     "metadata": {},
     "output_type": "display_data"
    }
   ],
   "source": [
    "simulate_one_sulv = function(N){\n",
    "    first_cross = rbinom(8000,size=3,prob=0.5)\n",
    "    second_cross = 0\n",
    "    ATA = 0\n",
    "    for (i in 1:N){\n",
    "        if (first_cross[i] == 3) next # 1번 주자가 모두 강화유리를 밟은 경우, 즉 전원 생존한다.\n",
    "        else if (first_cross[i] == 2) ATA = ATA + 1 # 1번 주자가 첫 번째, 두 번째에서 강화유리를 밟고 세 번째에서 일반유리를 밟아 사망한 경우, 즉 2번 주자만 생존한다.\n",
    "        else if (sample(size=2-first_cross[i], c(0,1), prob=c(5,5),replace=T) %>% prod == 1) second_cross = second_cross + 1\n",
    "\n",
    "    }\n",
    "    print(ATA)\n",
    "    return(second_cross+ATA)\n",
    "}\n",
    "simulate_one_sulv(8000)"
   ]
  },
  {
   "cell_type": "code",
   "execution_count": 37,
   "id": "a3939790-3413-4035-91bd-27ba738cec04",
   "metadata": {},
   "outputs": [
    {
     "data": {
      "text/html": [
       "1073"
      ],
      "text/latex": [
       "1073"
      ],
      "text/markdown": [
       "1073"
      ],
      "text/plain": [
       "[1] 1073"
      ]
     },
     "metadata": {},
     "output_type": "display_data"
    },
    {
     "data": {
      "text/html": [
       "2987"
      ],
      "text/latex": [
       "2987"
      ],
      "text/markdown": [
       "2987"
      ],
      "text/plain": [
       "[1] 2987"
      ]
     },
     "metadata": {},
     "output_type": "display_data"
    },
    {
     "data": {
      "text/html": [
       "2950"
      ],
      "text/latex": [
       "2950"
      ],
      "text/markdown": [
       "2950"
      ],
      "text/plain": [
       "[1] 2950"
      ]
     },
     "metadata": {},
     "output_type": "display_data"
    },
    {
     "data": {
      "text/html": [
       "990"
      ],
      "text/latex": [
       "990"
      ],
      "text/markdown": [
       "990"
      ],
      "text/plain": [
       "[1] 990"
      ]
     },
     "metadata": {},
     "output_type": "display_data"
    }
   ],
   "source": [
    "zero = 0\n",
    "one = 0\n",
    "two = 0\n",
    "three = 0\n",
    "\n",
    "first_cross = rbinom(8000,size=3,prob=0.5)\n",
    "for (i in first_cross){\n",
    "    if (i == 0) zero = zero + 1\n",
    "    else if (i == 1) one = one + 1\n",
    "    else if (i == 2) two = two + 1\n",
    "    else if (i == 3) three = three + 1\n",
    "}\n",
    "zero\n",
    "one\n",
    "two\n",
    "three"
   ]
  },
  {
   "cell_type": "code",
   "execution_count": 38,
   "id": "18cb0bba-4d47-44cd-9af8-1135e08d7999",
   "metadata": {},
   "outputs": [
    {
     "ename": "ERROR",
     "evalue": "Error in sample(size = 0, prob = c(0.2, 0.8), replace = TRUE): 기본값이 없는 인수 \"x\"가 누락되어 있습니다\n",
     "output_type": "error",
     "traceback": [
      "Error in sample(size = 0, prob = c(0.2, 0.8), replace = TRUE): 기본값이 없는 인수 \"x\"가 누락되어 있습니다\nTraceback:\n",
      "1. sample(size = 0, prob = c(0.2, 0.8), replace = TRUE)"
     ]
    }
   ],
   "source": [
    "first_cross = rbinom(8000,size=3,prob=0.5)\n",
    "sample(size = 0, prob = c(0.2, 0.8), replace = TRUE)"
   ]
  },
  {
   "cell_type": "markdown",
   "id": "c0302da0-21de-44f5-a01b-0df8ffdef628",
   "metadata": {},
   "source": [
    "fc = 0 이면 2번\n",
    "fc = 1 이면 1번\n",
    "fc = 2 이면 0번\n",
    "fc = 3 이면 해당되지 않음"
   ]
  },
  {
   "cell_type": "code",
   "execution_count": 39,
   "id": "859888c0-2349-4749-87f0-3be25f055273",
   "metadata": {},
   "outputs": [
    {
     "data": {
      "text/html": [
       "4715"
      ],
      "text/latex": [
       "4715"
      ],
      "text/markdown": [
       "4715"
      ],
      "text/plain": [
       "[1] 4715"
      ]
     },
     "metadata": {},
     "output_type": "display_data"
    }
   ],
   "source": [
    "simulate_one_sulv = function(N){\n",
    "    first_cross = rbinom(8000,size=3,prob=0.5)\n",
    "    second_cross = 0\n",
    "    for (i in 1:N){\n",
    "        if (first_cross[i] == 3) next\n",
    "        else if (first_cross[i] == 2) second_cross = second_cross + 1 \n",
    "        else if (first_cross[i] == 1){\n",
    "            if (sample(size=1, c(0,1), prob=c(5,5),replace=T) %>% prod == 1) second_cross = second_cross + 1\n",
    "        }\n",
    "        else if (first_cross[i] == 0){\n",
    "            if (sample(size=2, c(0,1), prob=c(5,5),replace=T) %>% prod == 1) second_cross = second_cross + 1  \n",
    "        }\n",
    "    }\n",
    "\n",
    "    return(second_cross)\n",
    "}\n",
    "simulate_one_sulv(8000)"
   ]
  },
  {
   "cell_type": "code",
   "execution_count": 40,
   "id": "4b3aeead-18ee-42e1-81ef-ccb788ff67ef",
   "metadata": {},
   "outputs": [
    {
     "name": "stdout",
     "output_type": "stream",
     "text": [
      "numeric(0)\n"
     ]
    }
   ],
   "source": [
    "print(sample(size = 0, c(0,1), prob=c(5,5),replace=T))"
   ]
  },
  {
   "cell_type": "code",
   "execution_count": 41,
   "id": "ea8e4703-3565-4c65-9a08-51d3175cb470",
   "metadata": {},
   "outputs": [
    {
     "data": {
      "text/html": [
       "0"
      ],
      "text/latex": [
       "0"
      ],
      "text/markdown": [
       "0"
      ],
      "text/plain": [
       "[1] 0"
      ]
     },
     "metadata": {},
     "output_type": "display_data"
    }
   ],
   "source": [
    "prod(numeric(2))"
   ]
  },
  {
   "cell_type": "code",
   "execution_count": 42,
   "id": "dccbc4ca-dcb6-46ec-906a-4f70fda2f33a",
   "metadata": {},
   "outputs": [
    {
     "data": {
      "text/html": [
       "<style>\n",
       ".list-inline {list-style: none; margin:0; padding: 0}\n",
       ".list-inline>li {display: inline-block}\n",
       ".list-inline>li:not(:last-child)::after {content: \"\\00b7\"; padding: 0 .5ex}\n",
       "</style>\n",
       "<ol class=list-inline><li>0</li><li>0</li><li>0</li></ol>\n"
      ],
      "text/latex": [
       "\\begin{enumerate*}\n",
       "\\item 0\n",
       "\\item 0\n",
       "\\item 0\n",
       "\\end{enumerate*}\n"
      ],
      "text/markdown": [
       "1. 0\n",
       "2. 0\n",
       "3. 0\n",
       "\n",
       "\n"
      ],
      "text/plain": [
       "[1] 0 0 0"
      ]
     },
     "metadata": {},
     "output_type": "display_data"
    }
   ],
   "source": [
    "numeric(3)"
   ]
  },
  {
   "cell_type": "code",
   "execution_count": 51,
   "id": "02072736-881d-4546-aa74-1dfbc6df4664",
   "metadata": {},
   "outputs": [
    {
     "data": {
      "text/html": [
       "249361"
      ],
      "text/latex": [
       "249361"
      ],
      "text/markdown": [
       "249361"
      ],
      "text/plain": [
       "[1] 249361"
      ]
     },
     "metadata": {},
     "output_type": "display_data"
    },
    {
     "data": {
      "text/html": [
       "991"
      ],
      "text/latex": [
       "991"
      ],
      "text/markdown": [
       "991"
      ],
      "text/plain": [
       "[1] 991"
      ]
     },
     "metadata": {},
     "output_type": "display_data"
    },
    {
     "data": {
      "text/html": [
       "1026"
      ],
      "text/latex": [
       "1026"
      ],
      "text/markdown": [
       "1026"
      ],
      "text/plain": [
       "[1] 1026"
      ]
     },
     "metadata": {},
     "output_type": "display_data"
    }
   ],
   "source": [
    "matt = sample(size = 8000*3, c(0,1), prob = c(5,5), replace = T)\n",
    "dim(matt) = c(8000, 3)\n",
    "\n",
    "rslt = c()\n",
    "\n",
    "for (i in 1:8000){\n",
    "    if (matt[i,1] == 0) matt[i,2] <- matt[i,3] <- 0\n",
    "    else if (matt[i,2] == 0) matt[i,3] <- 0\n",
    "}\n",
    "matt = matt %>% as.tibble %>% mutate(sum = V1 + V2 + V3)\n",
    "\n",
    "for (i in 0:2){\n",
    "    matt %>% filter(sum == 0) %>% count %>% as.numeric %>% rbinom(size = i, prob = 0.5) == i %>% sum\n",
    "    B = matt %>% filter(sum == 1) %>% count %>% as.numeric\n",
    "    C = matt %>% filter(sum == 2) %>% count %>% as.numeric\n",
    "}\n",
    "sum(rbinom(A, size=2, prob=0.5) == 2)\n",
    "sum(rbinom(B, size=1, prob=0.5) == 1)\n",
    "sum(rbinom(C, size=0, prob=0.5) == 0)"
   ]
  },
  {
   "cell_type": "code",
   "execution_count": 44,
   "id": "81ca80f9-c404-4c47-8b00-5cee8be1b36f",
   "metadata": {},
   "outputs": [
    {
     "name": "stdout",
     "output_type": "stream",
     "text": [
      "[1] 1\n",
      "[1] 2\n",
      "[1] 3\n"
     ]
    }
   ],
   "source": [
    "for (i in 1:3) print(i)"
   ]
  },
  {
   "cell_type": "code",
   "execution_count": 45,
   "id": "507234e3-271b-467e-8ac6-c5a1f32907c9",
   "metadata": {},
   "outputs": [
    {
     "name": "stdout",
     "output_type": "stream",
     "text": [
      "[1] 0\n",
      "[1] 1\n",
      "[1] 2\n"
     ]
    }
   ],
   "source": [
    "matt = sample(size = 8000*3, c(0,1), prob = c(5,5), replace = T)\n",
    "dim(matt) = c(8000, 3)\n",
    "\n",
    "rslt = c()\n",
    "\n",
    "for (i in 1:8000){\n",
    "    if (matt[i,1] == 0) matt[i,2] <- matt[i,3] <- 0\n",
    "    else if (matt[i,2] == 0) matt[i,3] <- 0\n",
    "}\n",
    "matt = matt %>% as.tibble %>% mutate(sum = V1 + V2 + V3)\n",
    "\n",
    "for (i in 0:2){\n",
    "    matt %>% filter(sum == i) %>% count %>% as.numeric %>% rbinom(size = 2-i, prob = 0.5) == 2-i %>% sum %>% print\n",
    "}"
   ]
  },
  {
   "cell_type": "code",
   "execution_count": 46,
   "id": "d0ebe11e-4b55-4a5c-99a1-b8cd05e03e29",
   "metadata": {},
   "outputs": [],
   "source": [
    "simulate_one_sulv = function(N){ #N <- 시행 횟수\n",
    "    matt = sample(size = N*3, c(0,1), prob = c(5,5), replace = T)\n",
    "    dim(matt) = c(N, 3)\n",
    "\n",
    "    for (i in 1:N){ # 사망하면 더이상 시도할 수 없으므로 0이후에 발생된 1은 0으로 교체한다.\n",
    "        if (matt[i,1] == 0) matt[i,2] <- matt[i,3] <- 0 # 첫 번째에 사망한 경우 두 번째, 세 번째는 실패로 간주한다.\n",
    "        else if (matt[i,2] == 0) matt[i,3] <- 0 # 두 번째에 사망한 경우 세 번째는 실패로 간주한다.\n",
    "    }\n",
    "\n",
    "    # sum은 1번 주자의 성공 횟수이다.\n",
    "    matt = matt %>% as.tibble %>% mutate(sum = V1 + V2 + V3)\n",
    "\n",
    "    # sum이 3이면 한 명만 생존하는 경우가 아니므로 summ이 0:2인 경우만 계산한다.\n",
    "    rslt = c()\n",
    "    for (i in 0:2) rslt[i+1] = (matt %>% filter(sum == i) %>% count %>% as.numeric %>% rbinom(size = 2-i, prob = 0.5) == 2-i) %>% sum\n",
    "    return(sum(rslt))\n",
    "}"
   ]
  },
  {
   "cell_type": "code",
   "execution_count": 47,
   "id": "1ed66687-1391-454c-9562-bf0e18813a2c",
   "metadata": {},
   "outputs": [
    {
     "data": {
      "image/png": "[encoded data removed]",
      "text/plain": [
       "Plot with title \"Histogram of tt\""
      ]
     },
     "metadata": {
      "image/png": {
       "height": 420,
       "width": 420
      }
     },
     "output_type": "display_data"
    }
   ],
   "source": [
    "tt = c()\n",
    "for (i in 1:100){\n",
    "    tt[i] = simulate_one_sulv(8000)\n",
    "}\n",
    "hist(tt)"
   ]
  },
  {
   "cell_type": "code",
   "execution_count": 48,
   "id": "4dfdcddb-334d-4af0-b958-0313409f30d2",
   "metadata": {},
   "outputs": [
    {
     "data": {
      "text/html": [
       "298"
      ],
      "text/latex": [
       "298"
      ],
      "text/markdown": [
       "298"
      ],
      "text/plain": [
       "[1] 298"
      ]
     },
     "metadata": {},
     "output_type": "display_data"
    }
   ],
   "source": [
    "simulate_one_sulv = function(N){\n",
    "    \n",
    "    matt = sample(size = N*3, c(0,1), prob = c(5,5), replace = T)\n",
    "    dim(matt) = c(N, 3)\n",
    "    \n",
    "    for (i in 1:N){\n",
    "        if (matt[i,1] == 0) matt[i,2] <- matt[i,3] <- 0 \n",
    "        else if (matt[i,2] == 0) matt[i,3] <- 0\n",
    "    }   \n",
    "    \n",
    "    matt = matt %>% as.tibble %>% mutate(sum = V1 + V2 + V3)\n",
    "\n",
    "    rslt = c()\n",
    "    for (i in 0:2) rslt[i+1] = (matt %>% filter(sum == i) %>% count %>% as.numeric %>% rbinom(size = 2-i, prob = 0.5) == 2-i) %>% sum\n",
    "    return(sum(rslt))\n",
    "}\n",
    "simulate_one_sulv(800)"
   ]
  },
  {
   "cell_type": "code",
   "execution_count": 49,
   "id": "30ad86fc-5d2b-4605-bd93-8bdb987ca122",
   "metadata": {},
   "outputs": [
    {
     "data": {
      "text/html": [
       "<table class=\"dataframe\">\n",
       "<caption>A tibble: 1916 × 4</caption>\n",
       "<thead>\n",
       "\t<tr><th scope=col>V1</th><th scope=col>V2</th><th scope=col>V3</th><th scope=col>sum</th></tr>\n",
       "\t<tr><th scope=col>&lt;dbl&gt;</th><th scope=col>&lt;dbl&gt;</th><th scope=col>&lt;dbl&gt;</th><th scope=col>&lt;dbl&gt;</th></tr>\n",
       "</thead>\n",
       "<tbody>\n",
       "\t<tr><td>1</td><td>0</td><td>0</td><td>1</td></tr>\n",
       "\t<tr><td>1</td><td>0</td><td>0</td><td>1</td></tr>\n",
       "\t<tr><td>1</td><td>0</td><td>0</td><td>1</td></tr>\n",
       "\t<tr><td>1</td><td>0</td><td>0</td><td>1</td></tr>\n",
       "\t<tr><td>1</td><td>0</td><td>0</td><td>1</td></tr>\n",
       "\t<tr><td>1</td><td>0</td><td>0</td><td>1</td></tr>\n",
       "\t<tr><td>1</td><td>0</td><td>0</td><td>1</td></tr>\n",
       "\t<tr><td>1</td><td>0</td><td>0</td><td>1</td></tr>\n",
       "\t<tr><td>1</td><td>0</td><td>0</td><td>1</td></tr>\n",
       "\t<tr><td>1</td><td>0</td><td>0</td><td>1</td></tr>\n",
       "\t<tr><td>1</td><td>0</td><td>0</td><td>1</td></tr>\n",
       "\t<tr><td>1</td><td>0</td><td>0</td><td>1</td></tr>\n",
       "\t<tr><td>1</td><td>0</td><td>0</td><td>1</td></tr>\n",
       "\t<tr><td>1</td><td>0</td><td>0</td><td>1</td></tr>\n",
       "\t<tr><td>1</td><td>0</td><td>0</td><td>1</td></tr>\n",
       "\t<tr><td>1</td><td>0</td><td>0</td><td>1</td></tr>\n",
       "\t<tr><td>1</td><td>0</td><td>0</td><td>1</td></tr>\n",
       "\t<tr><td>1</td><td>0</td><td>0</td><td>1</td></tr>\n",
       "\t<tr><td>1</td><td>0</td><td>0</td><td>1</td></tr>\n",
       "\t<tr><td>1</td><td>0</td><td>0</td><td>1</td></tr>\n",
       "\t<tr><td>1</td><td>0</td><td>0</td><td>1</td></tr>\n",
       "\t<tr><td>1</td><td>0</td><td>0</td><td>1</td></tr>\n",
       "\t<tr><td>1</td><td>0</td><td>0</td><td>1</td></tr>\n",
       "\t<tr><td>1</td><td>0</td><td>0</td><td>1</td></tr>\n",
       "\t<tr><td>1</td><td>0</td><td>0</td><td>1</td></tr>\n",
       "\t<tr><td>1</td><td>0</td><td>0</td><td>1</td></tr>\n",
       "\t<tr><td>1</td><td>0</td><td>0</td><td>1</td></tr>\n",
       "\t<tr><td>1</td><td>0</td><td>0</td><td>1</td></tr>\n",
       "\t<tr><td>1</td><td>0</td><td>0</td><td>1</td></tr>\n",
       "\t<tr><td>1</td><td>0</td><td>0</td><td>1</td></tr>\n",
       "\t<tr><td>⋮</td><td>⋮</td><td>⋮</td><td>⋮</td></tr>\n",
       "\t<tr><td>1</td><td>0</td><td>0</td><td>1</td></tr>\n",
       "\t<tr><td>1</td><td>0</td><td>0</td><td>1</td></tr>\n",
       "\t<tr><td>1</td><td>0</td><td>0</td><td>1</td></tr>\n",
       "\t<tr><td>1</td><td>0</td><td>0</td><td>1</td></tr>\n",
       "\t<tr><td>1</td><td>0</td><td>0</td><td>1</td></tr>\n",
       "\t<tr><td>1</td><td>0</td><td>0</td><td>1</td></tr>\n",
       "\t<tr><td>1</td><td>0</td><td>0</td><td>1</td></tr>\n",
       "\t<tr><td>1</td><td>0</td><td>0</td><td>1</td></tr>\n",
       "\t<tr><td>1</td><td>0</td><td>0</td><td>1</td></tr>\n",
       "\t<tr><td>1</td><td>0</td><td>0</td><td>1</td></tr>\n",
       "\t<tr><td>1</td><td>0</td><td>0</td><td>1</td></tr>\n",
       "\t<tr><td>1</td><td>0</td><td>0</td><td>1</td></tr>\n",
       "\t<tr><td>1</td><td>0</td><td>0</td><td>1</td></tr>\n",
       "\t<tr><td>1</td><td>0</td><td>0</td><td>1</td></tr>\n",
       "\t<tr><td>1</td><td>0</td><td>0</td><td>1</td></tr>\n",
       "\t<tr><td>1</td><td>0</td><td>0</td><td>1</td></tr>\n",
       "\t<tr><td>1</td><td>0</td><td>0</td><td>1</td></tr>\n",
       "\t<tr><td>1</td><td>0</td><td>0</td><td>1</td></tr>\n",
       "\t<tr><td>1</td><td>0</td><td>0</td><td>1</td></tr>\n",
       "\t<tr><td>1</td><td>0</td><td>0</td><td>1</td></tr>\n",
       "\t<tr><td>1</td><td>0</td><td>0</td><td>1</td></tr>\n",
       "\t<tr><td>1</td><td>0</td><td>0</td><td>1</td></tr>\n",
       "\t<tr><td>1</td><td>0</td><td>0</td><td>1</td></tr>\n",
       "\t<tr><td>1</td><td>0</td><td>0</td><td>1</td></tr>\n",
       "\t<tr><td>1</td><td>0</td><td>0</td><td>1</td></tr>\n",
       "\t<tr><td>1</td><td>0</td><td>0</td><td>1</td></tr>\n",
       "\t<tr><td>1</td><td>0</td><td>0</td><td>1</td></tr>\n",
       "\t<tr><td>1</td><td>0</td><td>0</td><td>1</td></tr>\n",
       "\t<tr><td>1</td><td>0</td><td>0</td><td>1</td></tr>\n",
       "\t<tr><td>1</td><td>0</td><td>0</td><td>1</td></tr>\n",
       "</tbody>\n",
       "</table>\n"
      ],
      "text/latex": [
       "A tibble: 1916 × 4\n",
       "\\begin{tabular}{llll}\n",
       " V1 & V2 & V3 & sum\\\\\n",
       " <dbl> & <dbl> & <dbl> & <dbl>\\\\\n",
       "\\hline\n",
       "\t 1 & 0 & 0 & 1\\\\\n",
       "\t 1 & 0 & 0 & 1\\\\\n",
       "\t 1 & 0 & 0 & 1\\\\\n",
       "\t 1 & 0 & 0 & 1\\\\\n",
       "\t 1 & 0 & 0 & 1\\\\\n",
       "\t 1 & 0 & 0 & 1\\\\\n",
       "\t 1 & 0 & 0 & 1\\\\\n",
       "\t 1 & 0 & 0 & 1\\\\\n",
       "\t 1 & 0 & 0 & 1\\\\\n",
       "\t 1 & 0 & 0 & 1\\\\\n",
       "\t 1 & 0 & 0 & 1\\\\\n",
       "\t 1 & 0 & 0 & 1\\\\\n",
       "\t 1 & 0 & 0 & 1\\\\\n",
       "\t 1 & 0 & 0 & 1\\\\\n",
       "\t 1 & 0 & 0 & 1\\\\\n",
       "\t 1 & 0 & 0 & 1\\\\\n",
       "\t 1 & 0 & 0 & 1\\\\\n",
       "\t 1 & 0 & 0 & 1\\\\\n",
       "\t 1 & 0 & 0 & 1\\\\\n",
       "\t 1 & 0 & 0 & 1\\\\\n",
       "\t 1 & 0 & 0 & 1\\\\\n",
       "\t 1 & 0 & 0 & 1\\\\\n",
       "\t 1 & 0 & 0 & 1\\\\\n",
       "\t 1 & 0 & 0 & 1\\\\\n",
       "\t 1 & 0 & 0 & 1\\\\\n",
       "\t 1 & 0 & 0 & 1\\\\\n",
       "\t 1 & 0 & 0 & 1\\\\\n",
       "\t 1 & 0 & 0 & 1\\\\\n",
       "\t 1 & 0 & 0 & 1\\\\\n",
       "\t 1 & 0 & 0 & 1\\\\\n",
       "\t ⋮ & ⋮ & ⋮ & ⋮\\\\\n",
       "\t 1 & 0 & 0 & 1\\\\\n",
       "\t 1 & 0 & 0 & 1\\\\\n",
       "\t 1 & 0 & 0 & 1\\\\\n",
       "\t 1 & 0 & 0 & 1\\\\\n",
       "\t 1 & 0 & 0 & 1\\\\\n",
       "\t 1 & 0 & 0 & 1\\\\\n",
       "\t 1 & 0 & 0 & 1\\\\\n",
       "\t 1 & 0 & 0 & 1\\\\\n",
       "\t 1 & 0 & 0 & 1\\\\\n",
       "\t 1 & 0 & 0 & 1\\\\\n",
       "\t 1 & 0 & 0 & 1\\\\\n",
       "\t 1 & 0 & 0 & 1\\\\\n",
       "\t 1 & 0 & 0 & 1\\\\\n",
       "\t 1 & 0 & 0 & 1\\\\\n",
       "\t 1 & 0 & 0 & 1\\\\\n",
       "\t 1 & 0 & 0 & 1\\\\\n",
       "\t 1 & 0 & 0 & 1\\\\\n",
       "\t 1 & 0 & 0 & 1\\\\\n",
       "\t 1 & 0 & 0 & 1\\\\\n",
       "\t 1 & 0 & 0 & 1\\\\\n",
       "\t 1 & 0 & 0 & 1\\\\\n",
       "\t 1 & 0 & 0 & 1\\\\\n",
       "\t 1 & 0 & 0 & 1\\\\\n",
       "\t 1 & 0 & 0 & 1\\\\\n",
       "\t 1 & 0 & 0 & 1\\\\\n",
       "\t 1 & 0 & 0 & 1\\\\\n",
       "\t 1 & 0 & 0 & 1\\\\\n",
       "\t 1 & 0 & 0 & 1\\\\\n",
       "\t 1 & 0 & 0 & 1\\\\\n",
       "\t 1 & 0 & 0 & 1\\\\\n",
       "\\end{tabular}\n"
      ],
      "text/markdown": [
       "\n",
       "A tibble: 1916 × 4\n",
       "\n",
       "| V1 &lt;dbl&gt; | V2 &lt;dbl&gt; | V3 &lt;dbl&gt; | sum &lt;dbl&gt; |\n",
       "|---|---|---|---|\n",
       "| 1 | 0 | 0 | 1 |\n",
       "| 1 | 0 | 0 | 1 |\n",
       "| 1 | 0 | 0 | 1 |\n",
       "| 1 | 0 | 0 | 1 |\n",
       "| 1 | 0 | 0 | 1 |\n",
       "| 1 | 0 | 0 | 1 |\n",
       "| 1 | 0 | 0 | 1 |\n",
       "| 1 | 0 | 0 | 1 |\n",
       "| 1 | 0 | 0 | 1 |\n",
       "| 1 | 0 | 0 | 1 |\n",
       "| 1 | 0 | 0 | 1 |\n",
       "| 1 | 0 | 0 | 1 |\n",
       "| 1 | 0 | 0 | 1 |\n",
       "| 1 | 0 | 0 | 1 |\n",
       "| 1 | 0 | 0 | 1 |\n",
       "| 1 | 0 | 0 | 1 |\n",
       "| 1 | 0 | 0 | 1 |\n",
       "| 1 | 0 | 0 | 1 |\n",
       "| 1 | 0 | 0 | 1 |\n",
       "| 1 | 0 | 0 | 1 |\n",
       "| 1 | 0 | 0 | 1 |\n",
       "| 1 | 0 | 0 | 1 |\n",
       "| 1 | 0 | 0 | 1 |\n",
       "| 1 | 0 | 0 | 1 |\n",
       "| 1 | 0 | 0 | 1 |\n",
       "| 1 | 0 | 0 | 1 |\n",
       "| 1 | 0 | 0 | 1 |\n",
       "| 1 | 0 | 0 | 1 |\n",
       "| 1 | 0 | 0 | 1 |\n",
       "| 1 | 0 | 0 | 1 |\n",
       "| ⋮ | ⋮ | ⋮ | ⋮ |\n",
       "| 1 | 0 | 0 | 1 |\n",
       "| 1 | 0 | 0 | 1 |\n",
       "| 1 | 0 | 0 | 1 |\n",
       "| 1 | 0 | 0 | 1 |\n",
       "| 1 | 0 | 0 | 1 |\n",
       "| 1 | 0 | 0 | 1 |\n",
       "| 1 | 0 | 0 | 1 |\n",
       "| 1 | 0 | 0 | 1 |\n",
       "| 1 | 0 | 0 | 1 |\n",
       "| 1 | 0 | 0 | 1 |\n",
       "| 1 | 0 | 0 | 1 |\n",
       "| 1 | 0 | 0 | 1 |\n",
       "| 1 | 0 | 0 | 1 |\n",
       "| 1 | 0 | 0 | 1 |\n",
       "| 1 | 0 | 0 | 1 |\n",
       "| 1 | 0 | 0 | 1 |\n",
       "| 1 | 0 | 0 | 1 |\n",
       "| 1 | 0 | 0 | 1 |\n",
       "| 1 | 0 | 0 | 1 |\n",
       "| 1 | 0 | 0 | 1 |\n",
       "| 1 | 0 | 0 | 1 |\n",
       "| 1 | 0 | 0 | 1 |\n",
       "| 1 | 0 | 0 | 1 |\n",
       "| 1 | 0 | 0 | 1 |\n",
       "| 1 | 0 | 0 | 1 |\n",
       "| 1 | 0 | 0 | 1 |\n",
       "| 1 | 0 | 0 | 1 |\n",
       "| 1 | 0 | 0 | 1 |\n",
       "| 1 | 0 | 0 | 1 |\n",
       "| 1 | 0 | 0 | 1 |\n",
       "\n"
      ],
      "text/plain": [
       "     V1 V2 V3 sum\n",
       "1    1  0  0  1  \n",
       "2    1  0  0  1  \n",
       "3    1  0  0  1  \n",
       "4    1  0  0  1  \n",
       "5    1  0  0  1  \n",
       "6    1  0  0  1  \n",
       "7    1  0  0  1  \n",
       "8    1  0  0  1  \n",
       "9    1  0  0  1  \n",
       "10   1  0  0  1  \n",
       "11   1  0  0  1  \n",
       "12   1  0  0  1  \n",
       "13   1  0  0  1  \n",
       "14   1  0  0  1  \n",
       "15   1  0  0  1  \n",
       "16   1  0  0  1  \n",
       "17   1  0  0  1  \n",
       "18   1  0  0  1  \n",
       "19   1  0  0  1  \n",
       "20   1  0  0  1  \n",
       "21   1  0  0  1  \n",
       "22   1  0  0  1  \n",
       "23   1  0  0  1  \n",
       "24   1  0  0  1  \n",
       "25   1  0  0  1  \n",
       "26   1  0  0  1  \n",
       "27   1  0  0  1  \n",
       "28   1  0  0  1  \n",
       "29   1  0  0  1  \n",
       "30   1  0  0  1  \n",
       "<U+22EE>    <U+22EE> <U+22EE> <U+22EE> <U+22EE>\n",
       "1887 1  0  0  1  \n",
       "1888 1  0  0  1  \n",
       "1889 1  0  0  1  \n",
       "1890 1  0  0  1  \n",
       "1891 1  0  0  1  \n",
       "1892 1  0  0  1  \n",
       "1893 1  0  0  1  \n",
       "1894 1  0  0  1  \n",
       "1895 1  0  0  1  \n",
       "1896 1  0  0  1  \n",
       "1897 1  0  0  1  \n",
       "1898 1  0  0  1  \n",
       "1899 1  0  0  1  \n",
       "1900 1  0  0  1  \n",
       "1901 1  0  0  1  \n",
       "1902 1  0  0  1  \n",
       "1903 1  0  0  1  \n",
       "1904 1  0  0  1  \n",
       "1905 1  0  0  1  \n",
       "1906 1  0  0  1  \n",
       "1907 1  0  0  1  \n",
       "1908 1  0  0  1  \n",
       "1909 1  0  0  1  \n",
       "1910 1  0  0  1  \n",
       "1911 1  0  0  1  \n",
       "1912 1  0  0  1  \n",
       "1913 1  0  0  1  \n",
       "1914 1  0  0  1  \n",
       "1915 1  0  0  1  \n",
       "1916 1  0  0  1  "
      ]
     },
     "metadata": {},
     "output_type": "display_data"
    }
   ],
   "source": [
    "matt %>% filter(sum == 1)"
   ]
  },
  {
   "cell_type": "code",
   "execution_count": 50,
   "id": "67b63a68-549c-496e-94d1-d23e2d90fb7c",
   "metadata": {},
   "outputs": [
    {
     "ename": "ERROR",
     "evalue": "Error in as.dataframe(matt$V1): 함수 \"as.dataframe\"를 찾을 수 없습니다\n",
     "output_type": "error",
     "traceback": [
      "Error in as.dataframe(matt$V1): 함수 \"as.dataframe\"를 찾을 수 없습니다\nTraceback:\n"
     ]
    }
   ],
   "source": [
    "as.dataframe(matt$V1)"
   ]
  },
  {
   "cell_type": "code",
   "execution_count": null,
   "id": "0ce49e86-1259-4a41-beaf-182bb759c814",
   "metadata": {},
   "outputs": [],
   "source": [
    "matt = sample(size = 8000*3, c(0,1), prob = c(5,5), replace = T)\n",
    "dim(matt) = c(8000, 3)\n",
    "\n",
    "for (i in 1:8000){ # 사망하면 더이상 시도할 수 없으므로 0이후에 발생된 1은 0으로 교체한다.\n",
    "    if (matt[i,1] == 0) matt[i,2] <- matt[i,3] <- 0 # 첫 번째에 사망한 경우 두 번째, 세 번째는 실패로 간주한다.\n",
    "    else if (matt[i,2] == 0) matt[i,3] <- 0 # 두 번째에 사망한 경우 세 번째는 실패로 간주한다.\n",
    "}\n",
    "    \n",
    "# sum은 1번 주자의 성공 횟수이다.\n",
    "matt = matt %>% as.tibble %>% mutate(sum = V1 + V2 + V3)\n",
    "\n",
    "matt %>% filter(sum ==0) %>%count%>%as.numeric\n",
    "matt %>% filter(sum ==1)%>%count%>%as.numeric\n",
    "matt %>% filter(sum ==2)%>% count%>%as.numeric\n",
    "# sum이 3이면 한 명만 생존하는 경우가 아니므로 summ이 0:2인 경우만 계산한다.\n",
    "rslt = c()\n",
    "for (i in 0:2) rslt[i+1] = (matt %>% filter(sum == i) %>% count %>% as.numeric %>% rbinom(size = 2-i, prob = 0.5) == 2-i) %>% sum\n",
    "\n",
    "\n",
    "\n",
    "print(sum(rslt))"
   ]
  },
  {
   "cell_type": "code",
   "execution_count": null,
   "id": "fe9d40da-1a3d-4550-844f-031c3d6fb50c",
   "metadata": {},
   "outputs": [],
   "source": []
  },
  {
   "cell_type": "code",
   "execution_count": null,
   "id": "149a033d-4be3-48a6-92bb-69c5126ee442",
   "metadata": {},
   "outputs": [],
   "source": []
  }
 ],
 "metadata": {
  "kernelspec": {
   "display_name": "R",
   "language": "R",
   "name": "ir"
  },
  "language_info": {
   "codemirror_mode": "r",
   "file_extension": ".r",
   "mimetype": "text/x-r-source",
   "name": "R",
   "pygments_lexer": "r",
   "version": "4.0.5"
  }
 },
 "nbformat": 4,
 "nbformat_minor": 5
}
