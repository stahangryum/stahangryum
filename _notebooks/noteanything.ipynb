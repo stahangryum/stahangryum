{
 "cells": [
  {
   "cell_type": "code",
   "execution_count": 1,
   "id": "f22a840d-9845-47af-9cd6-cefc7b44d377",
   "metadata": {},
   "outputs": [
    {
     "name": "stderr",
     "output_type": "stream",
     "text": [
      "-- \u001b[1mAttaching packages\u001b[22m ------------------------------------------------------------------------------- tidyverse 1.3.1 --\n",
      "\n",
      "\u001b[32mv\u001b[39m \u001b[34mggplot2\u001b[39m 3.3.5     \u001b[32mv\u001b[39m \u001b[34mpurrr  \u001b[39m 0.3.4\n",
      "\u001b[32mv\u001b[39m \u001b[34mtibble \u001b[39m 3.1.5     \u001b[32mv\u001b[39m \u001b[34mdplyr  \u001b[39m 1.0.7\n",
      "\u001b[32mv\u001b[39m \u001b[34mtidyr  \u001b[39m 1.1.4     \u001b[32mv\u001b[39m \u001b[34mstringr\u001b[39m 1.4.0\n",
      "\u001b[32mv\u001b[39m \u001b[34mreadr  \u001b[39m 2.0.2     \u001b[32mv\u001b[39m \u001b[34mforcats\u001b[39m 0.5.1\n",
      "\n",
      "-- \u001b[1mConflicts\u001b[22m ---------------------------------------------------------------------------------- tidyverse_conflicts() --\n",
      "\u001b[31mx\u001b[39m \u001b[34mdplyr\u001b[39m::\u001b[32mfilter()\u001b[39m masks \u001b[34mstats\u001b[39m::filter()\n",
      "\u001b[31mx\u001b[39m \u001b[34mdplyr\u001b[39m::\u001b[32mlag()\u001b[39m    masks \u001b[34mstats\u001b[39m::lag()\n",
      "\n"
     ]
    }
   ],
   "source": [
    "library(tidyverse)"
   ]
  },
  {
   "cell_type": "markdown",
   "id": "f90aa397-40df-4169-ba95-225eab4dca59",
   "metadata": {},
   "source": [
    "# MAIN"
   ]
  },
  {
   "cell_type": "code",
   "execution_count": 14,
   "id": "e34bc8d4-5d6c-4023-aba7-e7b68e59f16a",
   "metadata": {},
   "outputs": [],
   "source": [
    "users = c(\"N1\", \"N2\", \"N3\", \"N4\", \"N5\", \"N6\", \"N7\", \"N8\", \"N9_PRO\", \"N10\")\n",
    "surv = 10 # 현재 생존자 숫자\n",
    "player = users[surv]\n",
    "stage = 0\n",
    "\n",
    "reset = function(){\n",
    "    surv <<- 10\n",
    "    player <<- users[surv]\n",
    "    stage <<- 0\n",
    "}\n",
    "\n",
    "jump_once = function(){\n",
    "    sof = rbinom(1, size = 1, prob = (0.5 + (player == \"N9_PRO\")*0.45)) # Success or Failure\n",
    "    if (sof == FALSE) surv <<- surv - 1 # 사망하면 surv가 1 감소한다.\n",
    "    stage <<- stage + 1 # 사망 유무와 관계없이 stage는 하나 증가한다.\n",
    "    player <<- users[surv] # surv = 0이면 player = character(0)\n",
    "}\n",
    "\n",
    "\n",
    "simulate = function(){ # 생존자 수를 return한다.\n",
    "    reset()\n",
    "    for (i in 1:20){\n",
    "        jump_once()\n",
    "        if ( (stage == 20)|(surv == 0) ) break\n",
    "    }        \n",
    "    return (surv)\n",
    "}"
   ]
  },
  {
   "cell_type": "markdown",
   "id": "a362935f-84a3-49e8-b195-b5c253d03701",
   "metadata": {},
   "source": [
    "# Type A"
   ]
  },
  {
   "cell_type": "code",
   "execution_count": 15,
   "id": "529d79f0-baaa-48ad-bcf7-058856e780e2",
   "metadata": {},
   "outputs": [
    {
     "data": {
      "text/html": [
       "0.44104"
      ],
      "text/latex": [
       "0.44104"
      ],
      "text/markdown": [
       "0.44104"
      ],
      "text/plain": [
       "[1] 0.44104"
      ]
     },
     "metadata": {},
     "output_type": "display_data"
    }
   ],
   "source": [
    "rsltA = c()\n",
    "users = c(\"N1\", \"N2\", \"N3\", \"N4\", \"N5\", \"N6\", \"N7\", \"N8\", \"N9_PRO\", \"N10\")\n",
    "for (i in 1:100000) rsltA[i] = ifelse((\"N8\" %in% users[0:simulate()]), TRUE, FALSE)\n",
    "(rsltA %>% sum) / 100000"
   ]
  },
  {
   "cell_type": "markdown",
   "id": "b07866ca-86be-4ebb-ba5e-f35b1c2a8533",
   "metadata": {},
   "source": [
    "# Type B"
   ]
  },
  {
   "cell_type": "code",
   "execution_count": 8,
   "id": "bd383fdf-8666-4d71-b14e-547308b0d18d",
   "metadata": {},
   "outputs": [
    {
     "data": {
      "text/html": [
       "0.13191"
      ],
      "text/latex": [
       "0.13191"
      ],
      "text/markdown": [
       "0.13191"
      ],
      "text/plain": [
       "[1] 0.13191"
      ]
     },
     "metadata": {},
     "output_type": "display_data"
    }
   ],
   "source": [
    "rsltB = c()\n",
    "users = rev(c(\"N1\", \"N2\", \"N3\", \"N4\", \"N5\", \"N6\", \"N7\", \"N8\", \"N9_PRO\", \"N10\"))\n",
    "for (i in 1:100000) rsltB[i] = ifelse((\"N8\" %in% users[0:simulate()]), TRUE, FALSE)\n",
    "(rsltB %>% sum) / 100000"
   ]
  },
  {
   "cell_type": "markdown",
   "id": "746e9995-3d5c-48ec-a0ec-45313baaba87",
   "metadata": {},
   "source": [
    "- 결론적으로 `8번 참가자`의 생존률은 `Type B`에서가 더 높다."
   ]
  },
  {
   "cell_type": "code",
   "execution_count": null,
   "id": "79befbd8-cc19-437f-b980-ccc7b4adfcf8",
   "metadata": {},
   "outputs": [],
   "source": []
  }
 ],
 "metadata": {
  "kernelspec": {
   "display_name": "R",
   "language": "R",
   "name": "ir"
  },
  "language_info": {
   "codemirror_mode": "r",
   "file_extension": ".r",
   "mimetype": "text/x-r-source",
   "name": "R",
   "pygments_lexer": "r",
   "version": "4.0.5"
  }
 },
 "nbformat": 4,
 "nbformat_minor": 5
}
