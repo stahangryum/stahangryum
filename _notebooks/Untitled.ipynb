{
 "cells": [
  {
   "cell_type": "code",
   "execution_count": 1,
   "id": "10beb885-98fb-46ef-97fa-49ea2c866175",
   "metadata": {},
   "outputs": [],
   "source": [
    "import sympy"
   ]
  },
  {
   "cell_type": "code",
   "execution_count": 41,
   "id": "c20454cf-d7df-44c8-9646-472bbe9f72a9",
   "metadata": {},
   "outputs": [],
   "source": [
    "sympy.init_printing(use_latex='mathjax')\n",
    "x = sympy.symbols('x')\n",
    "a = sympy.symbols('a')\n",
    "p = sympy.symbols('p')\n",
    "n = sympy.symbols('p')\n"
   ]
  },
  {
   "cell_type": "code",
   "execution_count": 45,
   "id": "f83b6be9-e373-4622-a87a-a2a74343fa60",
   "metadata": {},
   "outputs": [
    {
     "data": {
      "text/latex": [
       "$\\displaystyle \\frac{x \\log{\\left(p \\right)}^{- p}}{p}$"
      ],
      "text/plain": [
       "     -p   \n",
       "x⋅log  (p)\n",
       "──────────\n",
       "    p     "
      ]
     },
     "execution_count": 45,
     "metadata": {},
     "output_type": "execute_result"
    }
   ],
   "source": [
    "sympy.integrate((1/(n*sympy.log(n)**p)),x)"
   ]
  },
  {
   "cell_type": "code",
   "execution_count": 46,
   "id": "d5819975-e450-4f9a-b081-00ba0132dc57",
   "metadata": {},
   "outputs": [
    {
     "name": "stdout",
     "output_type": "stream",
     "text": [
      "Object `sympy.arctan` not found.\n"
     ]
    }
   ],
   "source": [
    "?sympy.arctan"
   ]
  },
  {
   "cell_type": "code",
   "execution_count": null,
   "id": "b456f4be-1b66-4613-a6d1-f0ef7d4a45a4",
   "metadata": {},
   "outputs": [],
   "source": []
  }
 ],
 "metadata": {
  "kernelspec": {
   "display_name": "Python 3 (ipykernel)",
   "language": "python",
   "name": "python3"
  },
  "language_info": {
   "codemirror_mode": {
    "name": "ipython",
    "version": 3
   },
   "file_extension": ".py",
   "mimetype": "text/x-python",
   "name": "python",
   "nbconvert_exporter": "python",
   "pygments_lexer": "ipython3",
   "version": "3.9.7"
  }
 },
 "nbformat": 4,
 "nbformat_minor": 5
}
