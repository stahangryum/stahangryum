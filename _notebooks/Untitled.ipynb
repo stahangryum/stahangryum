{
 "cells": [
  {
   "cell_type": "code",
   "execution_count": 2,
   "id": "90c170da-df2c-4c91-ba38-c90438d5ac5a",
   "metadata": {},
   "outputs": [
    {
     "data": {
      "text/html": [
       "<table class=\"dataframe\">\n",
       "<caption>A matrix: 1 × 3 of type dbl</caption>\n",
       "<thead>\n",
       "\t<tr><th></th><th scope=col>fit</th><th scope=col>lwr</th><th scope=col>upr</th></tr>\n",
       "</thead>\n",
       "<tbody>\n",
       "\t<tr><th scope=row>1</th><td>5.170698</td><td>-7.995153</td><td>18.33655</td></tr>\n",
       "</tbody>\n",
       "</table>\n"
      ],
      "text/latex": [
       "A matrix: 1 × 3 of type dbl\n",
       "\\begin{tabular}{r|lll}\n",
       "  & fit & lwr & upr\\\\\n",
       "\\hline\n",
       "\t1 & 5.170698 & -7.995153 & 18.33655\\\\\n",
       "\\end{tabular}\n"
      ],
      "text/markdown": [
       "\n",
       "A matrix: 1 × 3 of type dbl\n",
       "\n",
       "| <!--/--> | fit | lwr | upr |\n",
       "|---|---|---|---|\n",
       "| 1 | 5.170698 | -7.995153 | 18.33655 |\n",
       "\n"
      ],
      "text/plain": [
       "  fit      lwr       upr     \n",
       "1 5.170698 -7.995153 18.33655"
      ]
     },
     "metadata": {},
     "output_type": "display_data"
    }
   ],
   "source": [
    "url <- \"http://www.lock5stat.com/datasets2e/ElectionMargin.csv\"\n",
    "ElectionMargin <- read.csv(url)\n",
    "fit <- lm(Margin ~ Approval, data=ElectionMargin)\n",
    "\n",
    "predict(fit, data.frame(Approval=50), interval=\"prediction\", level=0.95)\n"
   ]
  },
  {
   "cell_type": "code",
   "execution_count": 3,
   "id": "d048e49b-ad0f-45e9-a810-04baf66619d4",
   "metadata": {},
   "outputs": [
    {
     "data": {
      "text/plain": [
       "\n",
       "\tOne Sample t-test\n",
       "\n",
       "data:  ElectionMargin$Margin\n",
       "t = 2.4619, df = 11, p-value = 0.03157\n",
       "alternative hypothesis: true mean is not equal to 0\n",
       "95 percent confidence interval:\n",
       "  0.8072435 14.4260898\n",
       "sample estimates:\n",
       "mean of x \n",
       " 7.616667 \n"
      ]
     },
     "metadata": {},
     "output_type": "display_data"
    }
   ],
   "source": [
    "t.test(ElectionMargin$Margin, conf.level = 0.95)"
   ]
  },
  {
   "cell_type": "code",
   "execution_count": 6,
   "id": "77e707a4-56b3-43fd-b9e8-a7c132299bde",
   "metadata": {},
   "outputs": [
    {
     "data": {
      "text/html": [
       "<table class=\"dataframe\">\n",
       "<caption>A data.frame: 12 × 5</caption>\n",
       "<thead>\n",
       "\t<tr><th scope=col>Year</th><th scope=col>Candidate</th><th scope=col>Approval</th><th scope=col>Margin</th><th scope=col>Result</th></tr>\n",
       "\t<tr><th scope=col>&lt;int&gt;</th><th scope=col>&lt;chr&gt;</th><th scope=col>&lt;int&gt;</th><th scope=col>&lt;dbl&gt;</th><th scope=col>&lt;chr&gt;</th></tr>\n",
       "</thead>\n",
       "<tbody>\n",
       "\t<tr><td>1940</td><td>Roosevelt </td><td>62</td><td>10.0</td><td>Won </td></tr>\n",
       "\t<tr><td>1948</td><td>Truman    </td><td>50</td><td> 4.5</td><td>Won </td></tr>\n",
       "\t<tr><td>1956</td><td>Eisenhower</td><td>70</td><td>15.4</td><td>Won </td></tr>\n",
       "\t<tr><td>1964</td><td>Johnson   </td><td>67</td><td>22.6</td><td>Won </td></tr>\n",
       "\t<tr><td>1972</td><td>Nixon     </td><td>57</td><td>23.2</td><td>Won </td></tr>\n",
       "\t<tr><td>1976</td><td>Ford      </td><td>48</td><td>-2.1</td><td>Lost</td></tr>\n",
       "\t<tr><td>1980</td><td>Carter    </td><td>31</td><td>-9.7</td><td>Lost</td></tr>\n",
       "\t<tr><td>1984</td><td>Reagan    </td><td>57</td><td>18.2</td><td>Won </td></tr>\n",
       "\t<tr><td>1992</td><td>G.H.W.Bush</td><td>39</td><td>-5.5</td><td>Lost</td></tr>\n",
       "\t<tr><td>1996</td><td>Clinton   </td><td>55</td><td> 8.5</td><td>Won </td></tr>\n",
       "\t<tr><td>2004</td><td>G.W.Bush  </td><td>49</td><td> 2.4</td><td>Won </td></tr>\n",
       "\t<tr><td>2012</td><td>Obama     </td><td>50</td><td> 3.9</td><td>Won </td></tr>\n",
       "</tbody>\n",
       "</table>\n"
      ],
      "text/latex": [
       "A data.frame: 12 × 5\n",
       "\\begin{tabular}{lllll}\n",
       " Year & Candidate & Approval & Margin & Result\\\\\n",
       " <int> & <chr> & <int> & <dbl> & <chr>\\\\\n",
       "\\hline\n",
       "\t 1940 & Roosevelt  & 62 & 10.0 & Won \\\\\n",
       "\t 1948 & Truman     & 50 &  4.5 & Won \\\\\n",
       "\t 1956 & Eisenhower & 70 & 15.4 & Won \\\\\n",
       "\t 1964 & Johnson    & 67 & 22.6 & Won \\\\\n",
       "\t 1972 & Nixon      & 57 & 23.2 & Won \\\\\n",
       "\t 1976 & Ford       & 48 & -2.1 & Lost\\\\\n",
       "\t 1980 & Carter     & 31 & -9.7 & Lost\\\\\n",
       "\t 1984 & Reagan     & 57 & 18.2 & Won \\\\\n",
       "\t 1992 & G.H.W.Bush & 39 & -5.5 & Lost\\\\\n",
       "\t 1996 & Clinton    & 55 &  8.5 & Won \\\\\n",
       "\t 2004 & G.W.Bush   & 49 &  2.4 & Won \\\\\n",
       "\t 2012 & Obama      & 50 &  3.9 & Won \\\\\n",
       "\\end{tabular}\n"
      ],
      "text/markdown": [
       "\n",
       "A data.frame: 12 × 5\n",
       "\n",
       "| Year &lt;int&gt; | Candidate &lt;chr&gt; | Approval &lt;int&gt; | Margin &lt;dbl&gt; | Result &lt;chr&gt; |\n",
       "|---|---|---|---|---|\n",
       "| 1940 | Roosevelt  | 62 | 10.0 | Won  |\n",
       "| 1948 | Truman     | 50 |  4.5 | Won  |\n",
       "| 1956 | Eisenhower | 70 | 15.4 | Won  |\n",
       "| 1964 | Johnson    | 67 | 22.6 | Won  |\n",
       "| 1972 | Nixon      | 57 | 23.2 | Won  |\n",
       "| 1976 | Ford       | 48 | -2.1 | Lost |\n",
       "| 1980 | Carter     | 31 | -9.7 | Lost |\n",
       "| 1984 | Reagan     | 57 | 18.2 | Won  |\n",
       "| 1992 | G.H.W.Bush | 39 | -5.5 | Lost |\n",
       "| 1996 | Clinton    | 55 |  8.5 | Won  |\n",
       "| 2004 | G.W.Bush   | 49 |  2.4 | Won  |\n",
       "| 2012 | Obama      | 50 |  3.9 | Won  |\n",
       "\n"
      ],
      "text/plain": [
       "   Year Candidate  Approval Margin Result\n",
       "1  1940 Roosevelt  62       10.0   Won   \n",
       "2  1948 Truman     50        4.5   Won   \n",
       "3  1956 Eisenhower 70       15.4   Won   \n",
       "4  1964 Johnson    67       22.6   Won   \n",
       "5  1972 Nixon      57       23.2   Won   \n",
       "6  1976 Ford       48       -2.1   Lost  \n",
       "7  1980 Carter     31       -9.7   Lost  \n",
       "8  1984 Reagan     57       18.2   Won   \n",
       "9  1992 G.H.W.Bush 39       -5.5   Lost  \n",
       "10 1996 Clinton    55        8.5   Won   \n",
       "11 2004 G.W.Bush   49        2.4   Won   \n",
       "12 2012 Obama      50        3.9   Won   "
      ]
     },
     "metadata": {},
     "output_type": "display_data"
    }
   ],
   "source": [
    "ElectionMargin"
   ]
  },
  {
   "cell_type": "code",
   "execution_count": null,
   "id": "6119485e-97e5-4614-b334-bc2b188505fa",
   "metadata": {},
   "outputs": [],
   "source": []
  }
 ],
 "metadata": {
  "kernelspec": {
   "display_name": "R",
   "language": "R",
   "name": "ir"
  },
  "language_info": {
   "codemirror_mode": "r",
   "file_extension": ".r",
   "mimetype": "text/x-r-source",
   "name": "R",
   "pygments_lexer": "r",
   "version": "4.0.5"
  }
 },
 "nbformat": 4,
 "nbformat_minor": 5
}
