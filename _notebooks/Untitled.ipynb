{
 "cells": [
  {
   "cell_type": "code",
   "execution_count": null,
   "id": "c8b42a87-542a-49aa-b60f-178ca5df2c44",
   "metadata": {},
   "outputs": [],
   "source": [
    "f = input()"
   ]
  },
  {
   "cell_type": "code",
   "execution_count": null,
   "id": "f503d2f6-5abd-4f9b-a435-cb1e7f7c7f18",
   "metadata": {},
   "outputs": [],
   "source": [
    "f = f**2\n",
    "print(f)"
   ]
  },
  {
   "cell_type": "code",
   "execution_count": null,
   "id": "9869dca3-bfca-46da-bc91-6b7335f2442b",
   "metadata": {},
   "outputs": [],
   "source": []
  },
  {
   "cell_type": "code",
   "execution_count": null,
   "id": "9bc34901-6d64-45ea-a18f-52f5f0ff9312",
   "metadata": {},
   "outputs": [],
   "source": []
  }
 ],
 "metadata": {
  "kernelspec": {
   "display_name": "Python 3 (ipykernel)",
   "language": "python",
   "name": "python3"
  },
  "language_info": {
   "codemirror_mode": {
    "name": "ipython",
    "version": 3
   },
   "file_extension": ".py",
   "mimetype": "text/x-python",
   "name": "python",
   "nbconvert_exporter": "python",
   "pygments_lexer": "ipython3",
   "version": "3.9.6"
  }
 },
 "nbformat": 4,
 "nbformat_minor": 5
}
