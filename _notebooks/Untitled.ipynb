{
 "cells": [
  {
   "cell_type": "markdown",
   "id": "1c430447-57d7-461a-9f54-75fd3cd2eae0",
   "metadata": {},
   "source": [
    "### "
   ]
  },
  {
   "cell_type": "code",
   "execution_count": 1,
   "id": "05f3e6d7-19ca-4cc1-a73f-bdc1ee63c3a4",
   "metadata": {},
   "outputs": [
    {
     "data": {
      "text/html": [
       "26.1916017074176"
      ],
      "text/latex": [
       "26.1916017074176"
      ],
      "text/markdown": [
       "26.1916017074176"
      ],
      "text/plain": [
       "[1] 26.1916"
      ]
     },
     "metadata": {},
     "output_type": "display_data"
    }
   ],
   "source": [
    "sqrt(3^2 + 9^2 + 6^2) +sqrt(4^2 + 144 + 64)"
   ]
  },
  {
   "cell_type": "code",
   "execution_count": null,
   "id": "2644cbb1-6bfe-4919-9e63-e5da3427dcd5",
   "metadata": {},
   "outputs": [],
   "source": [
    "sqrt("
   ]
  }
 ],
 "metadata": {
  "kernelspec": {
   "display_name": "R",
   "language": "R",
   "name": "ir"
  },
  "language_info": {
   "codemirror_mode": "r",
   "file_extension": ".r",
   "mimetype": "text/x-r-source",
   "name": "R",
   "pygments_lexer": "r",
   "version": "4.0.5"
  }
 },
 "nbformat": 4,
 "nbformat_minor": 5
}
