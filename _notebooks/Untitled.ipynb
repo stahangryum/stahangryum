{
 "cells": [
  {
   "cell_type": "code",
   "execution_count": 1,
   "id": "4948b308-edce-4e85-8661-e00daef9b51a",
   "metadata": {},
   "outputs": [
    {
     "data": {
      "text/html": [
       "-5.84"
      ],
      "text/latex": [
       "-5.84"
      ],
      "text/markdown": [
       "-5.84"
      ],
      "text/plain": [
       "[1] -5.84"
      ]
     },
     "metadata": {},
     "output_type": "display_data"
    }
   ],
   "source": [
    "19 - 23*27/25"
   ]
  },
  {
   "cell_type": "code",
   "execution_count": 2,
   "id": "886f4525-e386-4062-9e30-ed5544f72f89",
   "metadata": {},
   "outputs": [
    {
     "data": {
      "text/html": [
       "475"
      ],
      "text/latex": [
       "475"
      ],
      "text/markdown": [
       "475"
      ],
      "text/plain": [
       "[1] 475"
      ]
     },
     "metadata": {},
     "output_type": "display_data"
    }
   ],
   "source": [
    "19*25"
   ]
  },
  {
   "cell_type": "code",
   "execution_count": 3,
   "id": "1cf4fae5-b0ca-4ed4-bd33-471189404c95",
   "metadata": {},
   "outputs": [
    {
     "data": {
      "text/html": [
       "225"
      ],
      "text/latex": [
       "225"
      ],
      "text/markdown": [
       "225"
      ],
      "text/plain": [
       "[1] 225"
      ]
     },
     "metadata": {},
     "output_type": "display_data"
    }
   ],
   "source": [
    "9*25"
   ]
  },
  {
   "cell_type": "code",
   "execution_count": 4,
   "id": "eb85bd88-5fa8-4904-8487-d91bef3f475a",
   "metadata": {},
   "outputs": [
    {
     "data": {
      "text/html": [
       "243"
      ],
      "text/latex": [
       "243"
      ],
      "text/markdown": [
       "243"
      ],
      "text/plain": [
       "[1] 243"
      ]
     },
     "metadata": {},
     "output_type": "display_data"
    }
   ],
   "source": [
    "9*27"
   ]
  },
  {
   "cell_type": "code",
   "execution_count": null,
   "id": "24a061f6-db80-41a5-b4c9-aa0c34e8d687",
   "metadata": {},
   "outputs": [],
   "source": []
  }
 ],
 "metadata": {
  "kernelspec": {
   "display_name": "R",
   "language": "R",
   "name": "ir"
  },
  "language_info": {
   "codemirror_mode": "r",
   "file_extension": ".r",
   "mimetype": "text/x-r-source",
   "name": "R",
   "pygments_lexer": "r",
   "version": "4.1.1"
  }
 },
 "nbformat": 4,
 "nbformat_minor": 5
}
