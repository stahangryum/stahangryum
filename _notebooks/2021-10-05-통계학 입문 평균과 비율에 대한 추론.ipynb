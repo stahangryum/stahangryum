{
 "cells": [
  {
   "cell_type": "markdown",
   "id": "19e6a17b-83dc-4d21-85d8-df8488a9289e",
   "metadata": {},
   "source": [
    "# \"평균과 비율에 대한 추론\"\n",
    "\n",
    "- toc: true\n",
    "- branch: master\n",
    "- badges: true\n",
    "- comments: true\n",
    "- author: Kim Jeewoo\n",
    "- categories: [Introduction to Statistics]\n",
    "- image: images/Standard_Normal_Distribution.png"
   ]
  },
  {
   "cell_type": "code",
   "execution_count": 58,
   "id": "964a2fae-ac8a-4da6-9bb7-01ceacdbae62",
   "metadata": {},
   "outputs": [],
   "source": [
    "from math import *"
   ]
  },
  {
   "cell_type": "markdown",
   "id": "8cd6c369-60d9-441e-b989-c2c01bd24474",
   "metadata": {},
   "source": [
    "# 평균과 비율에 대한 추론"
   ]
  },
  {
   "cell_type": "markdown",
   "id": "8b72d809-9a67-46cc-97ed-879deb210440",
   "metadata": {},
   "source": [
    "표본 통계량의 분포가 정규분포일 때, 신뢰구간은 다음과 같이 구한다.\n",
    "\n",
    "표본 통계량 $\\pm z^* \\cdot SE$\n",
    "\n",
    "임의화 분포가 정규분포일 때, 표준화한 검증 통계량은 다음과 같이 구한다.\n",
    "\n",
    "$z = \\cfrac{\\text{표본 통계량 - 영가설의 모수값}}{\\text{표준오차}}$"
   ]
  },
  {
   "cell_type": "markdown",
   "id": "1ed14e44-eae7-4fd2-b671-27de1113bb7c",
   "metadata": {},
   "source": [
    "## 2.1 비율에 대한 추론"
   ]
  },
  {
   "cell_type": "markdown",
   "id": "c18d0866-6fc6-4716-a752-823ec2e5bb85",
   "metadata": {},
   "source": [
    "### 2.1-CI 비율에 대한 신뢰구간"
   ]
  },
  {
   "cell_type": "markdown",
   "id": "ec2954d4-6f71-42db-8cad-556a654cafde",
   "metadata": {},
   "source": [
    "$ np \\geq 10, \\,n(1-p) \\geq 10$이면 정규분포로 근사할 수 있다."
   ]
  },
  {
   "cell_type": "markdown",
   "id": "94ec2176-3a71-4485-8f42-8bfdc06230e7",
   "metadata": {},
   "source": [
    "표본 통계량 $\\pm z^*\\cdot SE$"
   ]
  },
  {
   "cell_type": "markdown",
   "id": "499701f7-2b01-451d-a880-ebdecab6f59b",
   "metadata": {},
   "source": [
    "$\\hat{p} \\pm z^*\\cdot SE$"
   ]
  },
  {
   "cell_type": "markdown",
   "id": "6eec38f7-cad5-4ecc-a9bc-b266a4310d33",
   "metadata": {},
   "source": [
    "$\\hat{p}\\pm z^*\\sqrt{\\dfrac{\\hat{p}(1-\\hat{p})}{n}}$"
   ]
  },
  {
   "cell_type": "code",
   "execution_count": 20,
   "id": "104a72c1-1af3-435d-8eff-c65704466ccb",
   "metadata": {},
   "outputs": [],
   "source": [
    "def ci_single_p(p_hat, z, n):\n",
    "    SE = sqrt(p*(1-p)/n)\n",
    "    print(\"신뢰구간 : ({0}, {1})\".format(p-z*SE, p+z*SE))\n",
    "    return"
   ]
  },
  {
   "cell_type": "code",
   "execution_count": 21,
   "id": "f6159cf7-c310-40d8-9b44-fd682f138b2d",
   "metadata": {},
   "outputs": [
    {
     "name": "stdout",
     "output_type": "stream",
     "text": [
      "신뢰구간 : (0.42207843138511314, 0.6179215686148869)\n"
     ]
    }
   ],
   "source": [
    "ci_single_p(0.52, 1.96, 100)"
   ]
  },
  {
   "cell_type": "markdown",
   "id": "f8d98ae4-91d4-4e34-8b98-3a14f41401a0",
   "metadata": {},
   "source": [
    "### 표본 크기 결정하기"
   ]
  },
  {
   "cell_type": "markdown",
   "id": "fa8ae941-02b1-440e-ace2-adcad8bcb884",
   "metadata": {},
   "source": [
    "오차한계 $=z^* \\cdot SE = z^*\\cdot\\sqrt{\\dfrac{\\hat{p}(1-\\hat{p})}{n}}$ 이므로"
   ]
  },
  {
   "cell_type": "markdown",
   "id": "158eca2d-035f-4ca4-9243-6bc09a17890a",
   "metadata": {},
   "source": [
    "$n = \\left(\\cfrac{z^*}{\\text{오차한계}}\\right)^2 \\hat{p}(1-\\hat{p})$ 이 때, 소수점이 있으면 올림한다."
   ]
  },
  {
   "cell_type": "markdown",
   "id": "e72af17f-b621-49f1-a41a-0c56dac590d5",
   "metadata": {},
   "source": [
    "표본 비율 $\\hat{p}$의 합리적인 추정이 가능하지 않다면 $\\hat{p} = 0.5$를 사용한다."
   ]
  },
  {
   "cell_type": "code",
   "execution_count": 40,
   "id": "4302f2fd-a55d-4bc4-ad8e-e8d9f3b90cca",
   "metadata": {},
   "outputs": [],
   "source": [
    "def n_single_p(z, 오차한계, p_hat):\n",
    "    print('n :',ceil((z/오차한계)**2 * p*(1-p)))\n",
    "    return"
   ]
  },
  {
   "cell_type": "code",
   "execution_count": 41,
   "id": "9f6d61fd-9c7a-49a1-93a8-f686f8c5a651",
   "metadata": {},
   "outputs": [
    {
     "name": "stdout",
     "output_type": "stream",
     "text": [
      "n : 847\n"
     ]
    }
   ],
   "source": [
    "n_single_p(2.327, 0.04, 0.5)"
   ]
  },
  {
   "cell_type": "code",
   "execution_count": 42,
   "id": "8795bf01-5f97-4b8b-a2d6-177895ecbfd9",
   "metadata": {},
   "outputs": [
    {
     "name": "stdout",
     "output_type": "stream",
     "text": [
      "n : 8360\n"
     ]
    }
   ],
   "source": [
    "n_single_p(1.96, 0.01, 0.32)"
   ]
  },
  {
   "cell_type": "markdown",
   "id": "f0daca4f-d19e-4e74-bbe6-c62800900ea3",
   "metadata": {},
   "source": [
    "### 2.1-HT 비율에 대한 가설검증"
   ]
  },
  {
   "cell_type": "markdown",
   "id": "d62af5a1-0512-4e14-b9b9-0aa16da74b76",
   "metadata": {},
   "source": [
    "$np_0 \\geq 10,\\,n(1-p_0)\\geq10$이면 p-값은 표준정규분포에서 계산한다."
   ]
  },
  {
   "cell_type": "markdown",
   "id": "9b79dde4-ac29-412a-8676-834431e1c867",
   "metadata": {},
   "source": [
    "$z = \\cfrac{\\text{표본 통계량 - 영가설의 모수값}}{\\text{표준오차}}$\n",
    "\n",
    "$z =\\cfrac{\\hat{p} - p_0}{SE}$"
   ]
  },
  {
   "cell_type": "markdown",
   "id": "a9f1b78c-a997-4bf1-bd4c-9b5a1f2e5715",
   "metadata": {},
   "source": [
    "#### $SE$는 어떻게 추정할 것인가?\n",
    "\n",
    "가설검증은 **영가설 $H_0$가 참일 때** 기대되는 분포에서 표본 비율 $\\hat{p}$이 발생할 가능성을 평가한다. 영가설이 참임을 가정하므로 표준오차를 계산할 때 $p$ 대신에 $p_0$를 사용한다. 표준오차를 추정할 때, $\\hat{p}$를 사용하면 절대로 안된다.\n"
   ]
  },
  {
   "cell_type": "markdown",
   "id": "7e748666-5b3c-44da-9d5a-73b7f7cdbcce",
   "metadata": {},
   "source": [
    "$SE = \\sqrt{\\dfrac{p_0(1-p_0)}{n}}$"
   ]
  },
  {
   "cell_type": "markdown",
   "id": "5abe46ab-faf9-4d7c-bab5-22a27b2c2812",
   "metadata": {},
   "source": [
    "$\\therefore z = \\cfrac{\\hat{p} - p_0}{\\sqrt{\\dfrac{p_0(1-p_0)}{n}}}$"
   ]
  },
  {
   "cell_type": "code",
   "execution_count": 55,
   "id": "a4d2514b-9a14-4659-ad98-98eadc8c6ec7",
   "metadata": {},
   "outputs": [],
   "source": [
    "def test_single_p(p_hat, p_0, n):\n",
    "    print('z :',(p_hat-p_0)/(sqrt(p_0*(1-p_0)/n)))\n",
    "    return"
   ]
  },
  {
   "cell_type": "code",
   "execution_count": 56,
   "id": "98ee9538-2e15-48d0-acee-aa1f851bc8f8",
   "metadata": {},
   "outputs": [
    {
     "name": "stdout",
     "output_type": "stream",
     "text": [
      "z : 3.3190360046254384\n"
     ]
    }
   ],
   "source": [
    "test_single_p(0.59, 0.5, 340)"
   ]
  },
  {
   "cell_type": "code",
   "execution_count": 57,
   "id": "54a2bf2f-c483-4cd8-97ee-9d16e04f072e",
   "metadata": {},
   "outputs": [
    {
     "name": "stdout",
     "output_type": "stream",
     "text": [
      "z : 5.129560166330054\n"
     ]
    }
   ],
   "source": [
    "test_single_p(0.555, 1/3, 119)"
   ]
  },
  {
   "cell_type": "markdown",
   "id": "5c4da342-7bca-4bb5-931c-79c6eafd7dd4",
   "metadata": {},
   "source": [
    "위에서 구한 z-값으로 StatKey에서 p-값을 구한 뒤 기각 여부를 결정하자."
   ]
  },
  {
   "cell_type": "markdown",
   "id": "a74cf799-3b7a-4728-b0a1-625369319773",
   "metadata": {},
   "source": [
    "## 2.2 평균에 대한 추론"
   ]
  },
  {
   "cell_type": "markdown",
   "id": "c4c86edd-0d06-424e-8348-f92b9230f3cd",
   "metadata": {},
   "source": [
    "$n \\geq 30$"
   ]
  },
  {
   "cell_type": "markdown",
   "id": "46df2310-d2e6-435e-abf8-753994696605",
   "metadata": {},
   "source": [
    "후술"
   ]
  },
  {
   "cell_type": "markdown",
   "id": "7bee7463-e6ac-462b-83d4-6feec6a92708",
   "metadata": {},
   "source": [
    "## 2.3 비율 차이에 대한 추론"
   ]
  },
  {
   "cell_type": "markdown",
   "id": "1e7dd8e8-342e-42c9-86b5-81c90d6b245b",
   "metadata": {},
   "source": [
    "### 2.3-D. 두 개의 비율 차이의 분포"
   ]
  },
  {
   "cell_type": "code",
   "execution_count": null,
   "id": "9c124521-2f8c-4790-b5da-dd54b7d8a0b9",
   "metadata": {},
   "outputs": [],
   "source": []
  }
 ],
 "metadata": {
  "kernelspec": {
   "display_name": "Python 3 (ipykernel)",
   "language": "python",
   "name": "python3"
  },
  "language_info": {
   "codemirror_mode": {
    "name": "ipython",
    "version": 3
   },
   "file_extension": ".py",
   "mimetype": "text/x-python",
   "name": "python",
   "nbconvert_exporter": "python",
   "pygments_lexer": "ipython3",
   "version": "3.9.7"
  }
 },
 "nbformat": 4,
 "nbformat_minor": 5
}
