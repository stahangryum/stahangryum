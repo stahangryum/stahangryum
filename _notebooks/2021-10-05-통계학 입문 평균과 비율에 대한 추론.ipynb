{
 "cells": [
  {
   "cell_type": "markdown",
   "id": "19e6a17b-83dc-4d21-85d8-df8488a9289e",
   "metadata": {},
   "source": [
    "# \"평균과 비율에 대한 추론\"\n",
    "\n",
    "- toc: true\n",
    "- branch: master\n",
    "- badges: true\n",
    "- comments: true\n",
    "- author: Kim Jeewoo\n",
    "- categories: [Introduction to Statistics]\n",
    "- image: images/Standard_Normal_Distribution.png"
   ]
  },
  {
   "cell_type": "code",
   "execution_count": 58,
   "id": "964a2fae-ac8a-4da6-9bb7-01ceacdbae62",
   "metadata": {},
   "outputs": [],
   "source": [
    "from math import *"
   ]
  },
  {
   "cell_type": "markdown",
   "id": "8cd6c369-60d9-441e-b989-c2c01bd24474",
   "metadata": {},
   "source": [
    "# 평균과 비율에 대한 추론"
   ]
  },
  {
   "cell_type": "markdown",
   "id": "8b72d809-9a67-46cc-97ed-879deb210440",
   "metadata": {},
   "source": [
    "표본 통계량의 분포가 정규분포일 때, 신뢰구간은 다음과 같이 구한다.\n",
    "\n",
    "표본 통계량 $\\pm z^* \\cdot SE$\n",
    "\n",
    "임의화 분포가 정규분포일 때, 표준화한 검증 통계량은 다음과 같이 구한다.\n",
    "\n",
    "$z = \\cfrac{\\text{표본 통계량 - 영가설의 모수값}}{\\text{표준오차}}$"
   ]
  },
  {
   "cell_type": "markdown",
   "id": "1ed14e44-eae7-4fd2-b671-27de1113bb7c",
   "metadata": {},
   "source": [
    "## 2.1 비율에 대한 추론"
   ]
  },
  {
   "cell_type": "markdown",
   "id": "c18d0866-6fc6-4716-a752-823ec2e5bb85",
   "metadata": {},
   "source": [
    "### 2.1-CI 비율에 대한 신뢰구간"
   ]
  },
  {
   "cell_type": "markdown",
   "id": "ec2954d4-6f71-42db-8cad-556a654cafde",
   "metadata": {},
   "source": [
    "$ np \\geq 10, \\,n(1-p) \\geq 10$이면 정규분포로 근사할 수 있다."
   ]
  },
  {
   "cell_type": "markdown",
   "id": "94ec2176-3a71-4485-8f42-8bfdc06230e7",
   "metadata": {},
   "source": [
    "표본 통계량 $\\pm z^*\\cdot SE$"
   ]
  },
  {
   "cell_type": "markdown",
   "id": "499701f7-2b01-451d-a880-ebdecab6f59b",
   "metadata": {},
   "source": [
    "$\\hat{p} \\pm z^*\\cdot SE$"
   ]
  },
  {
   "cell_type": "markdown",
   "id": "6eec38f7-cad5-4ecc-a9bc-b266a4310d33",
   "metadata": {},
   "source": [
    "$\\hat{p}\\pm z^*\\sqrt{\\dfrac{\\hat{p}(1-\\hat{p})}{n}}$"
   ]
  },
  {
   "cell_type": "code",
   "execution_count": 20,
   "id": "104a72c1-1af3-435d-8eff-c65704466ccb",
   "metadata": {},
   "outputs": [],
   "source": [
    "def ci_single_p(p_hat, z, n):\n",
    "    SE = sqrt(p*(1-p)/n)\n",
    "    print(\"신뢰구간 : ({0}, {1})\".format(p-z*SE, p+z*SE))\n",
    "    return"
   ]
  },
  {
   "cell_type": "code",
   "execution_count": 21,
   "id": "f6159cf7-c310-40d8-9b44-fd682f138b2d",
   "metadata": {},
   "outputs": [
    {
     "name": "stdout",
     "output_type": "stream",
     "text": [
      "신뢰구간 : (0.42207843138511314, 0.6179215686148869)\n"
     ]
    }
   ],
   "source": [
    "ci_single_p(0.52, 1.96, 100)"
   ]
  },
  {
   "cell_type": "markdown",
   "id": "f8d98ae4-91d4-4e34-8b98-3a14f41401a0",
   "metadata": {},
   "source": [
    "#### 표본 크기 결정하기"
   ]
  },
  {
   "cell_type": "markdown",
   "id": "fa8ae941-02b1-440e-ace2-adcad8bcb884",
   "metadata": {},
   "source": [
    "오차한계 $=z^* \\cdot SE = z^*\\cdot\\sqrt{\\dfrac{\\hat{p}(1-\\hat{p})}{n}}$ 이므로"
   ]
  },
  {
   "cell_type": "markdown",
   "id": "158eca2d-035f-4ca4-9243-6bc09a17890a",
   "metadata": {},
   "source": [
    "$n = \\left(\\cfrac{z^*}{\\text{오차한계}}\\right)^2 \\hat{p}(1-\\hat{p})$ 이 때, 소수점이 있으면 올림한다."
   ]
  },
  {
   "cell_type": "markdown",
   "id": "e72af17f-b621-49f1-a41a-0c56dac590d5",
   "metadata": {},
   "source": [
    "표본 비율 $\\hat{p}$의 합리적인 추정이 가능하지 않다면 $\\hat{p} = 0.5$를 사용한다."
   ]
  },
  {
   "cell_type": "code",
   "execution_count": 40,
   "id": "4302f2fd-a55d-4bc4-ad8e-e8d9f3b90cca",
   "metadata": {},
   "outputs": [],
   "source": [
    "def n_single_p(z, 오차한계, p_hat):\n",
    "    print('n :',ceil((z/오차한계)**2 * p*(1-p)))\n",
    "    return"
   ]
  },
  {
   "cell_type": "code",
   "execution_count": 41,
   "id": "9f6d61fd-9c7a-49a1-93a8-f686f8c5a651",
   "metadata": {},
   "outputs": [
    {
     "name": "stdout",
     "output_type": "stream",
     "text": [
      "n : 847\n"
     ]
    }
   ],
   "source": [
    "n_single_p(2.327, 0.04, 0.5)"
   ]
  },
  {
   "cell_type": "code",
   "execution_count": 42,
   "id": "8795bf01-5f97-4b8b-a2d6-177895ecbfd9",
   "metadata": {},
   "outputs": [
    {
     "name": "stdout",
     "output_type": "stream",
     "text": [
      "n : 8360\n"
     ]
    }
   ],
   "source": [
    "n_single_p(1.96, 0.01, 0.32)"
   ]
  },
  {
   "cell_type": "markdown",
   "id": "f0daca4f-d19e-4e74-bbe6-c62800900ea3",
   "metadata": {},
   "source": [
    "### 2.1-HT 비율에 대한 가설검증"
   ]
  },
  {
   "cell_type": "markdown",
   "id": "d62af5a1-0512-4e14-b9b9-0aa16da74b76",
   "metadata": {},
   "source": [
    "$np_0 \\geq 10,\\,n(1-p_0)\\geq10$이면 p-값은 표준정규분포에서 계산한다."
   ]
  },
  {
   "cell_type": "markdown",
   "id": "9b79dde4-ac29-412a-8676-834431e1c867",
   "metadata": {},
   "source": [
    "$z = \\cfrac{\\text{표본 통계량 - 영가설의 모수값}}{\\text{표준오차}}$\n",
    "\n",
    "$z =\\cfrac{\\hat{p} - p_0}{SE}$"
   ]
  },
  {
   "cell_type": "markdown",
   "id": "a9f1b78c-a997-4bf1-bd4c-9b5a1f2e5715",
   "metadata": {},
   "source": [
    "#### $SE$는 어떻게 추정할 것인가?\n",
    "\n",
    "가설검증은 **영가설 $H_0$가 참일 때** 기대되는 분포에서 표본 비율 $\\hat{p}$이 발생할 가능성을 평가한다. 영가설이 참임을 가정하므로 표준오차를 계산할 때 $p$ 대신에 $p_0$를 사용한다. 표준오차를 추정할 때, $\\hat{p}$를 사용하면 절대로 안된다.\n"
   ]
  },
  {
   "cell_type": "markdown",
   "id": "7e748666-5b3c-44da-9d5a-73b7f7cdbcce",
   "metadata": {},
   "source": [
    "$SE = \\sqrt{\\dfrac{p_0(1-p_0)}{n}}$"
   ]
  },
  {
   "cell_type": "markdown",
   "id": "5abe46ab-faf9-4d7c-bab5-22a27b2c2812",
   "metadata": {},
   "source": [
    "$\\therefore z = \\cfrac{\\hat{p} - p_0}{\\sqrt{\\dfrac{p_0(1-p_0)}{n}}}$"
   ]
  },
  {
   "cell_type": "code",
   "execution_count": 55,
   "id": "a4d2514b-9a14-4659-ad98-98eadc8c6ec7",
   "metadata": {},
   "outputs": [],
   "source": [
    "def test_single_p(p_hat, p_0, n):\n",
    "    print('z :',(p_hat-p_0)/(sqrt(p_0*(1-p_0)/n)))\n",
    "    return"
   ]
  },
  {
   "cell_type": "code",
   "execution_count": 56,
   "id": "98ee9538-2e15-48d0-acee-aa1f851bc8f8",
   "metadata": {},
   "outputs": [
    {
     "name": "stdout",
     "output_type": "stream",
     "text": [
      "z : 3.3190360046254384\n"
     ]
    }
   ],
   "source": [
    "test_single_p(0.59, 0.5, 340)"
   ]
  },
  {
   "cell_type": "code",
   "execution_count": 57,
   "id": "54a2bf2f-c483-4cd8-97ee-9d16e04f072e",
   "metadata": {},
   "outputs": [
    {
     "name": "stdout",
     "output_type": "stream",
     "text": [
      "z : 5.129560166330054\n"
     ]
    }
   ],
   "source": [
    "test_single_p(0.555, 1/3, 119)"
   ]
  },
  {
   "cell_type": "markdown",
   "id": "5c4da342-7bca-4bb5-931c-79c6eafd7dd4",
   "metadata": {},
   "source": [
    "위에서 구한 z-값으로 StatKey에서 p-값을 구한 뒤 기각 여부를 결정하자."
   ]
  },
  {
   "cell_type": "markdown",
   "id": "a74cf799-3b7a-4728-b0a1-625369319773",
   "metadata": {},
   "source": [
    "## 2.2 평균에 대한 추론"
   ]
  },
  {
   "cell_type": "markdown",
   "id": "a8ddd700-a722-49da-b097-2d7e2feee7f6",
   "metadata": {},
   "source": [
    "$\\dfrac{\\sigma}{\\sqrt{n}}$대신$\\dfrac{s}{\\sqrt{n}}$을 이용하여 표준화한 통계량의 분포는 표준정규분포가 아닌 **t-분포**이다."
   ]
  },
  {
   "cell_type": "markdown",
   "id": "c4c86edd-0d06-424e-8348-f92b9230f3cd",
   "metadata": {},
   "source": [
    "$SE = \\dfrac{s}{\\sqrt{n}}$"
   ]
  },
  {
   "cell_type": "code",
   "execution_count": 77,
   "id": "1b821f70-24f7-4450-872e-b29440150c0b",
   "metadata": {},
   "outputs": [],
   "source": [
    "def se_single_mean(s, n):\n",
    "    print('SE :', s/sqrt(n))\n",
    "    return"
   ]
  },
  {
   "cell_type": "markdown",
   "id": "94626ccf-a31a-4320-932f-6924611526aa",
   "metadata": {},
   "source": [
    "### 2.2-CI 평균에 대한 신뢰구간"
   ]
  },
  {
   "cell_type": "markdown",
   "id": "47b7f212-dd5e-47d3-ad54-f7ae04396791",
   "metadata": {},
   "source": [
    "표준정규분포 대신에 t-분포를 사용하기 때문에 $z^*$대신에 $t^*$를 사용한다."
   ]
  },
  {
   "cell_type": "markdown",
   "id": "46df2310-d2e6-435e-abf8-753994696605",
   "metadata": {},
   "source": [
    "표본 통계량 $\\pm\\,z^*\\cdot\\dfrac{\\sigma}{\\sqrt{n}}\\approx $ 표본 통계량 $\\pm\\,t^*\\cdot\\dfrac{s}{\\sqrt{n}} $"
   ]
  },
  {
   "cell_type": "markdown",
   "id": "cc3c72a8-c6ee-4609-9990-c40c8e75ef60",
   "metadata": {},
   "source": [
    "$\\bar{x} \\pm t^* \\cdot \\dfrac{s}{\\sqrt{n}}$"
   ]
  },
  {
   "cell_type": "code",
   "execution_count": 82,
   "id": "b4fe6c19-1556-4c89-814d-52c8beba8b81",
   "metadata": {},
   "outputs": [],
   "source": [
    "def ci_single_mean(x, t, s, n):\n",
    "    print(\"신뢰구간 : ({0}, {1})\".format(x-t*s/sqrt(n), x+t*s/sqrt(n)))\n",
    "    return"
   ]
  },
  {
   "cell_type": "code",
   "execution_count": 84,
   "id": "c2d5cb8f-b8d5-453a-a2b1-892b3ccb2e63",
   "metadata": {},
   "outputs": [
    {
     "name": "stdout",
     "output_type": "stream",
     "text": [
      "신뢰구간 : (363.593254927903, 375.446745072097)\n"
     ]
    }
   ],
   "source": [
    "ci_single_mean(369.52, 2.042, 16.16, 31)"
   ]
  },
  {
   "cell_type": "markdown",
   "id": "cf1b3b48-4295-4d9f-9718-3c5669fb8d87",
   "metadata": {},
   "source": [
    "#### 표본 크기 결정하기"
   ]
  },
  {
   "cell_type": "markdown",
   "id": "a1766117-681f-4dc9-a023-1b524df68244",
   "metadata": {},
   "source": [
    "$ME = t^*\\dfrac{s}{\\sqrt{n}}$\n",
    "\n",
    "아직 표본이 없기 때문에 표준편차를 모른다. 따라서 $s$ 대신 $\\tilde{\\sigma}$로 추정한다.\n",
    "\n",
    "$\\tilde{\\sigma}$를 합리적으로 추정하는 4가지 방법\n",
    "- 선형 연구의 표준편차를 사용하거나 유사 모집단의 표본으로부터 $\\tilde{\\sigma}$를 추정한다.\n",
    "- 사전 조사로 작은 표본을 얻어 $\\tilde{\\sigma}$를 추정한다.\n",
    "- 모집단에서 범위(최댓값-최솟값)를 추정한다. 범위를 4로 나눈 값을 $\\tilde{\\sigma}$로 사용한다. 즉 $\\tilde{\\sigma} \\approx \\text{범위} / 4$이다. 이는 대부분의값들이 평균에서 두 배의 표준편차 안에 있을 것이라고 가정하는 것이다.\n",
    "- $\\tilde{\\sigma}$를 합리적으로 추측한다.\n",
    "\n",
    "$n = \\left(\\dfrac{t^*\\cdot s}{ME}\\right)^2 \\approx \\left(\\dfrac{t^*\\cdot \\tilde{\\sigma}}{ME}\\right)^2$"
   ]
  },
  {
   "cell_type": "markdown",
   "id": "8bd15aee-2a37-4775-902f-0cf9bfcd4a9f",
   "metadata": {},
   "source": [
    "### 2.2-HT 평균에 대한 가설검증"
   ]
  },
  {
   "cell_type": "markdown",
   "id": "950a8e78-bfc9-4a94-9f5f-83e7f33ffc38",
   "metadata": {},
   "source": [
    "$z = \\cfrac{\\text{표본 통계량 - 영가설의 모수값}}{\\text{표준오차}}$"
   ]
  },
  {
   "cell_type": "markdown",
   "id": "a032556c-33b2-41c2-b7c0-391ce7082ee5",
   "metadata": {},
   "source": [
    "$ z = \\cfrac{\\bar{x} - \\mu_0}{SE}$"
   ]
  },
  {
   "cell_type": "markdown",
   "id": "2ed24095-c1ed-48a3-b016-0c9f45a62987",
   "metadata": {},
   "source": [
    "$ z = \\dfrac{\\bar{x} - \\mu_0}{\\dfrac{s}{\\sqrt{n}}}$"
   ]
  },
  {
   "cell_type": "code",
   "execution_count": 95,
   "id": "e248e300-f772-470a-b784-a4202d9c813b",
   "metadata": {},
   "outputs": [],
   "source": [
    "def test_single_mean(x, mu_0, s, n):\n",
    "    print(\"t :\", (x-mu_0)/(s/sqrt(n)))\n",
    "    return"
   ]
  },
  {
   "cell_type": "code",
   "execution_count": 96,
   "id": "4a86ee32-bde3-4eb2-8fea-ea60807923bd",
   "metadata": {},
   "outputs": [
    {
     "name": "stdout",
     "output_type": "stream",
     "text": [
      "t : 0.47644698228275634\n"
     ]
    }
   ],
   "source": [
    "test_single_mean(37.5, 35, 38.2, 53)"
   ]
  },
  {
   "cell_type": "markdown",
   "id": "7bee7463-e6ac-462b-83d4-6feec6a92708",
   "metadata": {},
   "source": [
    "## 2.3 비율 차이에 대한 추론"
   ]
  },
  {
   "cell_type": "markdown",
   "id": "1e7dd8e8-342e-42c9-86b5-81c90d6b245b",
   "metadata": {},
   "source": [
    "### 2.3-D. 두 개의 비율 차이의 분포"
   ]
  },
  {
   "cell_type": "markdown",
   "id": "0a92411a-6df1-42d1-9195-67f6e5aab0a7",
   "metadata": {},
   "source": [
    "$SE = \\sqrt{\\dfrac{p_1(1-p_1)}{n_1} + \\dfrac{p_2(1-p_2)}{n_2}}$"
   ]
  },
  {
   "cell_type": "markdown",
   "id": "2e0e9097-58f8-4dac-9da6-82a83051a459",
   "metadata": {},
   "source": [
    "$n_1p_1 \\geq 10,\\, n_1(1-p_1) \\geq 10,\\, n_2p_2 \\geq 10,\\, n_2(1-p_2) \\geq 10$이면 정규분포로 근사할 수 있다."
   ]
  },
  {
   "cell_type": "markdown",
   "id": "e088d95b-d8d7-4273-b48e-adfd2c627a21",
   "metadata": {},
   "source": [
    "### 2.4-CI. 두 개의 비율 차이에 대한 신뢰구간"
   ]
  },
  {
   "cell_type": "markdown",
   "id": "3e96488f-58f5-4766-aa15-bf646612aa13",
   "metadata": {},
   "source": [
    "$n_1p_1 \\geq 10,\\, n_1(1-p_1) \\geq 10,\\, n_2p_2 \\geq 10,\\, n_2(1-p_2) \\geq 10$이면 정규분포로 근사할 수 있다."
   ]
  },
  {
   "cell_type": "markdown",
   "id": "ed332007-c13d-4bce-874c-b3cd0809b847",
   "metadata": {},
   "source": [
    "표본 통계량 $\\pm z^* \\cdot SE$"
   ]
  },
  {
   "cell_type": "markdown",
   "id": "53e93768-4dde-43ce-9267-7d5b5c513b69",
   "metadata": {},
   "source": [
    "$(\\hat{p}_1 - \\hat{p}_2) \\pm z^*\\sqrt{\\dfrac{\\hat{p}_1(1-\\hat{p}_1)}{n_1} + \\dfrac{\\hat{p}_2(1-\\hat{p}_2)}{n_2}}$"
   ]
  },
  {
   "cell_type": "code",
   "execution_count": 97,
   "id": "2cb96be8-443f-4e2f-b35d-99b055acd3a1",
   "metadata": {},
   "outputs": [],
   "source": [
    "def se_dif_p(p1, p2, n1, n2):\n",
    "    print(\"SE :\", sqrt(p1*(1-p1)/n1 + p2*(1-p2)/n2))"
   ]
  },
  {
   "cell_type": "code",
   "execution_count": 101,
   "id": "61ec8d74-4759-4cb9-b0ac-43782a34b69f",
   "metadata": {},
   "outputs": [],
   "source": [
    "def ci_dif_p(p1, p2, n1, n2, z):\n",
    "    SE = sqrt(p1*(1-p1)/n1 + p2*(1-p2)/n2)\n",
    "    ME = z*SE\n",
    "    print(\"SE :\", SE)\n",
    "    print(\"ME :\", ME)\n",
    "    print(\"신뢰구간 : ({0}, {1})\".format(p1-p2-z*SE, p1-p2+z*SE))\n",
    "    return"
   ]
  },
  {
   "cell_type": "code",
   "execution_count": 102,
   "id": "95304ad7-5c43-4f22-8bc1-ce6728f4d952",
   "metadata": {},
   "outputs": [
    {
     "name": "stdout",
     "output_type": "stream",
     "text": [
      "SE : 0.03359365019365019\n"
     ]
    }
   ],
   "source": [
    "se_dif_p(0.72, 0.68, 500, 300)"
   ]
  },
  {
   "cell_type": "code",
   "execution_count": 104,
   "id": "1effaee8-d198-441d-96a1-61effe045ea7",
   "metadata": {},
   "outputs": [
    {
     "name": "stdout",
     "output_type": "stream",
     "text": [
      "SE : 0.03359365019365019\n",
      "ME : 0.06584355437955437\n",
      "신뢰구간 : (-0.025843554379554448, 0.1058435543795543)\n"
     ]
    }
   ],
   "source": [
    "ci_dif_p(0.72, 0.68, 500, 300, 1.96)"
   ]
  },
  {
   "cell_type": "markdown",
   "id": "d69c7654-6913-4383-baa7-4def6deee202",
   "metadata": {},
   "source": [
    "### 2.3-HT 비율 차이에 대한 가설검증"
   ]
  },
  {
   "cell_type": "markdown",
   "id": "558a64e9-b1e7-472c-84f9-a8649b86d575",
   "metadata": {},
   "source": [
    "**합동 비율** $\\hat{p} = \\cfrac{X_1 + X_2}{n_1 + n_2}$"
   ]
  },
  {
   "cell_type": "markdown",
   "id": "88d983eb-992b-461b-bb9b-198000c3d03e",
   "metadata": {},
   "source": [
    "$SE = \\sqrt{\\cfrac{\\hat{p}(1-\\hat{p})}{n_1} + \\cfrac{\\hat{p}(1-\\hat{p})}{n_2}}$"
   ]
  },
  {
   "cell_type": "markdown",
   "id": "afc16138-b3ef-4a44-83e1-4f42df0a930b",
   "metadata": {},
   "source": [
    "영가설은 보통 $H_0 : p_1 = p_2$ 또는 $H_0 : p_1 - p_2 = 0$이다.\n",
    "이 경수 영가설의 모수값은 0이다."
   ]
  },
  {
   "cell_type": "markdown",
   "id": "22955ec4-ae26-457a-a09e-1bb2efd4169b",
   "metadata": {},
   "source": [
    "$z = \\cfrac{\\text{표본 통계량 - 영가설의 모수값}}{\\text{표준오차}}$"
   ]
  },
  {
   "cell_type": "markdown",
   "id": "53bd366a-9cb1-44dd-a40d-07f85955d58d",
   "metadata": {},
   "source": [
    "$z = \\cfrac{(\\hat{p}_1 - \\hat{p}_2)}{SE}$"
   ]
  },
  {
   "cell_type": "markdown",
   "id": "1659ba17-2a1a-45b6-982f-c4c435658a4c",
   "metadata": {},
   "source": [
    "$z = \\cfrac{(\\hat{p}_1 - \\hat{p}_2)}{\\sqrt{\\cfrac{\\hat{p}(1-\\hat{p})}{n_1} + \\cfrac{\\hat{p}(1-\\hat{p})}{n_2}}}$"
   ]
  },
  {
   "cell_type": "code",
   "execution_count": 111,
   "id": "2627b9fe-4343-415c-af55-fb0facd6efeb",
   "metadata": {},
   "outputs": [],
   "source": [
    "def test_dif_p(p_1, p_2, p_합, n_1, n_2):\n",
    "    print(\"z :\",(p_1 - p_2)/sqrt(p_합*(1-p_합)/n_1 + p_합*(1-p_합)/n_2))\n",
    "    return"
   ]
  },
  {
   "cell_type": "code",
   "execution_count": 112,
   "id": "505ee356-7f9a-49ff-8809-a82baa6f6dc8",
   "metadata": {},
   "outputs": [
    {
     "name": "stdout",
     "output_type": "stream",
     "text": [
      "z : 3.838160838927777\n"
     ]
    }
   ],
   "source": [
    "test_dif_p(0.768, 0.463, 0.631, 82, 67)"
   ]
  },
  {
   "cell_type": "markdown",
   "id": "ca6c27da-4ae8-49d8-ab26-aa502a9486ab",
   "metadata": {},
   "source": [
    "## 2.4 평균 차이에 대한 추론"
   ]
  },
  {
   "cell_type": "markdown",
   "id": "1858c5aa-42df-4cb2-9e9e-cf115ac78b1e",
   "metadata": {},
   "source": [
    "### 2.4-D 평균 차이의 분포"
   ]
  },
  {
   "cell_type": "markdown",
   "id": "bceaff5b-d05d-43e2-8e4f-34edf44fde64",
   "metadata": {},
   "source": [
    "$SE = \\sqrt{\\dfrac{\\sigma_1^2}{n_1} + \\dfrac{\\sigma_2^2}{n_2}}$"
   ]
  },
  {
   "cell_type": "code",
   "execution_count": 114,
   "id": "1605c4b5-faf5-4c1f-a436-691e88f89f9e",
   "metadata": {},
   "outputs": [],
   "source": [
    "def se_dif_mean(sigma1, sigma2, n1, n2):\n",
    "    print(\"SE :\", sqrt(sigma1**2/n1 + sigma2**2/n2))\n",
    "    return"
   ]
  },
  {
   "cell_type": "code",
   "execution_count": 115,
   "id": "a8266c2e-9a5a-42e5-aea3-2300f37889d3",
   "metadata": {},
   "outputs": [
    {
     "name": "stdout",
     "output_type": "stream",
     "text": [
      "SE : 2.387942629126588\n"
     ]
    }
   ],
   "source": [
    "se_dif_mean(8.8, 7.41, 20, 30)"
   ]
  },
  {
   "cell_type": "code",
   "execution_count": 116,
   "id": "b91e9a50-30f2-4dc9-9cd7-12ef68d7066d",
   "metadata": {},
   "outputs": [
    {
     "name": "stdout",
     "output_type": "stream",
     "text": [
      "SE : 1.41124058898545\n"
     ]
    }
   ],
   "source": [
    "se_dif_mean(3.7, 7.6, 25, 40)"
   ]
  },
  {
   "cell_type": "code",
   "execution_count": 117,
   "id": "f5c38f7e-e9d7-4ba1-84dc-19e7da74dfb4",
   "metadata": {},
   "outputs": [
    {
     "name": "stdout",
     "output_type": "stream",
     "text": [
      "SE : 1.4310835055998654\n"
     ]
    }
   ],
   "source": [
    "se_dif_mean(18, 22, 300, 500)"
   ]
  },
  {
   "cell_type": "code",
   "execution_count": null,
   "id": "ae0fc6c6-a76d-41c2-9ff6-40a6f93f9168",
   "metadata": {},
   "outputs": [],
   "source": [
    "se_dif"
   ]
  }
 ],
 "metadata": {
  "kernelspec": {
   "display_name": "Python 3 (ipykernel)",
   "language": "python",
   "name": "python3"
  },
  "language_info": {
   "codemirror_mode": {
    "name": "ipython",
    "version": 3
   },
   "file_extension": ".py",
   "mimetype": "text/x-python",
   "name": "python",
   "nbconvert_exporter": "python",
   "pygments_lexer": "ipython3",
   "version": "3.9.7"
  }
 },
 "nbformat": 4,
 "nbformat_minor": 5
}
