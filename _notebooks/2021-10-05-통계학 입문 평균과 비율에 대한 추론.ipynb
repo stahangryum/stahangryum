{
 "cells": [
  {
   "cell_type": "markdown",
   "id": "19e6a17b-83dc-4d21-85d8-df8488a9289e",
   "metadata": {},
   "source": [
    "# \"Taylor & Maclaurin Series\"\n",
    "\n",
    "- toc: true\n",
    "- branch: master\n",
    "- badges: true\n",
    "- comments: true\n",
    "- author: Kim Jeewoo\n",
    "- categories: [Introduction to Statistics]\n",
    "- image: images/taylor_logo.png"
   ]
  },
  {
   "cell_type": "code",
   "execution_count": 2,
   "id": "964a2fae-ac8a-4da6-9bb7-01ceacdbae62",
   "metadata": {},
   "outputs": [],
   "source": [
    "from math import *\n",
    "import numpy as np\n",
    "import pandas as pd"
   ]
  },
  {
   "cell_type": "markdown",
   "id": "8cd6c369-60d9-441e-b989-c2c01bd24474",
   "metadata": {},
   "source": [
    "# 평균과 비율에 대한 추론"
   ]
  },
  {
   "cell_type": "markdown",
   "id": "8b72d809-9a67-46cc-97ed-879deb210440",
   "metadata": {},
   "source": [
    "표본 통계량의 분포가 정규분포일 때 신뢰구간은 다음과 같이 구한다.\n",
    "\n",
    "표본 통계량 $\\pm z^* \\cdot SE$"
   ]
  },
  {
   "cell_type": "markdown",
   "id": "1ed14e44-eae7-4fd2-b671-27de1113bb7c",
   "metadata": {},
   "source": [
    "## 비율에 대한 추론"
   ]
  },
  {
   "cell_type": "markdown",
   "id": "c18d0866-6fc6-4716-a752-823ec2e5bb85",
   "metadata": {},
   "source": [
    "### 비율에 대한 신뢰구간"
   ]
  },
  {
   "cell_type": "markdown",
   "id": "ec2954d4-6f71-42db-8cad-556a654cafde",
   "metadata": {},
   "source": [
    "$ np \\geq 10, \\,n(1-p) \\geq 10$이면 정규분포로 근사할 수 있다."
   ]
  },
  {
   "cell_type": "markdown",
   "id": "94ec2176-3a71-4485-8f42-8bfdc06230e7",
   "metadata": {},
   "source": [
    "표본 통계량 $\\pm z^*\\cdot SE$"
   ]
  },
  {
   "cell_type": "markdown",
   "id": "499701f7-2b01-451d-a880-ebdecab6f59b",
   "metadata": {},
   "source": [
    "$\\hat{p} \\pm z^*\\cdot SE$"
   ]
  },
  {
   "cell_type": "markdown",
   "id": "6eec38f7-cad5-4ecc-a9bc-b266a4310d33",
   "metadata": {},
   "source": [
    "$\\hat{p}\\pm z^*\\sqrt{\\dfrac{\\hat{p}(1-\\hat{p})}{n}}$"
   ]
  },
  {
   "cell_type": "code",
   "execution_count": 7,
   "id": "104a72c1-1af3-435d-8eff-c65704466ccb",
   "metadata": {},
   "outputs": [],
   "source": [
    "def ci_single_p(p, z, n):\n",
    "    SE = sqrt(p*(1-p)/n)\n",
    "    print(\"({0}, {1})\".format(p-z*SE, p+z*SE))\n",
    "    return"
   ]
  },
  {
   "cell_type": "code",
   "execution_count": 8,
   "id": "f6159cf7-c310-40d8-9b44-fd682f138b2d",
   "metadata": {},
   "outputs": [
    {
     "name": "stdout",
     "output_type": "stream",
     "text": [
      "(0.42207843138511314, 0.6179215686148869)\n"
     ]
    }
   ],
   "source": [
    "ci_single_p(0.52, 1.96, 100)"
   ]
  },
  {
   "cell_type": "code",
   "execution_count": null,
   "id": "50f2c40e-9e17-44ff-96a4-062feda99077",
   "metadata": {},
   "outputs": [],
   "source": [
    "def"
   ]
  }
 ],
 "metadata": {
  "kernelspec": {
   "display_name": "Python 3 (ipykernel)",
   "language": "python",
   "name": "python3"
  },
  "language_info": {
   "codemirror_mode": {
    "name": "ipython",
    "version": 3
   },
   "file_extension": ".py",
   "mimetype": "text/x-python",
   "name": "python",
   "nbconvert_exporter": "python",
   "pygments_lexer": "ipython3",
   "version": "3.9.7"
  }
 },
 "nbformat": 4,
 "nbformat_minor": 5
}
